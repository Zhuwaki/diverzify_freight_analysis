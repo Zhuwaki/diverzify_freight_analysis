{
 "cells": [
  {
   "cell_type": "code",
   "execution_count": 1,
   "metadata": {},
   "outputs": [
    {
     "name": "stdout",
     "output_type": "stream",
     "text": [
      "% of POs with freight ≤ 10% of product spend: 87.67%\n",
      "% of POs with freight > 50% of product spend: 2.61%\n",
      "\n",
      "✅ Enriched dataset exported to: ../data/output/Freight_Analysis_Enriched_Output.csv\n"
     ]
    }
   ],
   "source": [
    "import pandas as pd\n",
    "import matplotlib.pyplot as plt\n",
    "\n",
    "# Load your dataset\n",
    "file_path = \"../data/input/Freight_Cost_Analysis_CY2024-03.25.csv\"\n",
    "df = pd.read_csv(file_path, encoding=\"latin1\", low_memory=False)\n",
    "\n",
    "# === Flag if a PO has any 'PROJECT Freight' using ACCOUNT code 5504 ===\n",
    "df['IS_PROJECT_FREIGHT_LINE'] = df['ACCOUNT'] == 5504\n",
    "project_freight_flag = df[df['IS_PROJECT_FREIGHT_LINE']].groupby('PO NO').size().reset_index(name='PROJECT_FREIGHT_COUNT')\n",
    "project_freight_flag['PO_HAS_PROJECT_FREIGHT'] = True\n",
    "df = df.merge(project_freight_flag[['PO NO', 'PO_HAS_PROJECT_FREIGHT']], on='PO NO', how='left')\n",
    "df['PO_HAS_PROJECT_FREIGHT'] = df['PO_HAS_PROJECT_FREIGHT'].fillna(False).astype(bool)\n",
    "\n",
    "# === Step 1: Freight Spend Profiling ===\n",
    "freight_lines = df[df['IS_PROJECT_FREIGHT_LINE']]\n",
    "\n",
    "total_po_value = df.groupby('PO NO', as_index=False)['INVOICE LINE TOTAL'].sum().rename(\n",
    "    columns={'INVOICE LINE TOTAL': 'TOTAL_PO_VALUE'}\n",
    ")\n",
    "freight_cost = freight_lines.groupby('PO NO', as_index=False)['INVOICE LINE TOTAL'].sum().rename(\n",
    "    columns={'INVOICE LINE TOTAL': 'PROJECT_FREIGHT_COST'}\n",
    ")\n",
    "\n",
    "df = df.merge(total_po_value, on='PO NO', how='left')\n",
    "df = df.merge(freight_cost, on='PO NO', how='left')\n",
    "\n",
    "# Convert to numeric types\n",
    "df['TOTAL_PO_VALUE'] = pd.to_numeric(df['TOTAL_PO_VALUE'], errors='coerce')\n",
    "df['PROJECT_FREIGHT_COST'] = pd.to_numeric(df['PROJECT_FREIGHT_COST'], errors='coerce').fillna(0)\n",
    "\n",
    "# Calculations with enforced numeric types\n",
    "df['PRODUCT_ONLY_PO_VALUE'] = df['TOTAL_PO_VALUE'] - df['PROJECT_FREIGHT_COST']\n",
    "df['PRODUCT_ONLY_PO_VALUE'] = pd.to_numeric(df['PRODUCT_ONLY_PO_VALUE'], errors='coerce')\n",
    "\n",
    "df['PROJECT_FREIGHT_PERCENT'] = df['PROJECT_FREIGHT_COST'] / df['TOTAL_PO_VALUE']\n",
    "df['PROJECT_FREIGHT_PERCENT'] = pd.to_numeric(df['PROJECT_FREIGHT_PERCENT'], errors='coerce')\n",
    "\n",
    "df['FREIGHT_PERCENT_EXCL_PRODUCT'] = df['PROJECT_FREIGHT_COST'] / df['PRODUCT_ONLY_PO_VALUE']\n",
    "df['FREIGHT_PERCENT_EXCL_PRODUCT'] = pd.to_numeric(df['FREIGHT_PERCENT_EXCL_PRODUCT'], errors='coerce')\n",
    "\n",
    "# Flags\n",
    "df['FREIGHT_≥90%_OF_PO'] = (df['PROJECT_FREIGHT_PERCENT'] >= 0.9).astype(bool)\n",
    "df['FREIGHT_GT_PRODUCT'] = (df['PROJECT_FREIGHT_COST'] > df['PRODUCT_ONLY_PO_VALUE']).astype(bool)\n",
    "df['NEGATIVE_FREIGHT_PERCENT'] = (df['PROJECT_FREIGHT_PERCENT'] < 0).astype(bool)\n",
    "\n",
    "# Count number of ACCOUNT 5504 lines per PO\n",
    "freight_line_counts = df[df['ACCOUNT'] == 5504].groupby('PO NO').agg(\n",
    "    PROJECT_FREIGHT_LINE_COUNT=('ACCOUNT', 'count')\n",
    ").reset_index()\n",
    "\n",
    "df = df.merge(freight_line_counts, on='PO NO', how='left')\n",
    "df['PROJECT_FREIGHT_LINE_COUNT'] = df['PROJECT_FREIGHT_LINE_COUNT'].fillna(0).astype(int)\n",
    "df['PO_HAS_MULTIPLE_PROJECT_FREIGHT_LINES'] = df['PROJECT_FREIGHT_LINE_COUNT'] > 1\n",
    "\n",
    "# === Step 2: ZIP & Supplier Analysis ===\n",
    "df['SHIP TO ZIP'] = df['SHIP TO ZIP'].astype(str).str.extract(r'(\\d{5})')\n",
    "freight_df = df[df['PROJECT_FREIGHT_COST'] > 0]\n",
    "zip_supplier_summary = freight_df.groupby(['SHIP TO ZIP', 'SUPPLIER NO']).agg(\n",
    "    AVG_FREIGHT_PERCENT=('PROJECT_FREIGHT_PERCENT', 'mean'),\n",
    "    PO_COUNT=('PO NO', 'nunique')\n",
    ").reset_index()\n",
    "zip_supplier_summary['HIGH_FREIGHT_FLAG'] = zip_supplier_summary['AVG_FREIGHT_PERCENT'] > 0.5\n",
    "df = df.merge(zip_supplier_summary[['SHIP TO ZIP', 'SUPPLIER NO', 'HIGH_FREIGHT_FLAG']],\n",
    "              on=['SHIP TO ZIP', 'SUPPLIER NO'], how='left')\n",
    "\n",
    "# === Step 3: Product Analysis ===\n",
    "labor_keywords = ['LABOR', 'INSTALL', 'SERVICE', 'WAGE', 'CONTRACT', 'EMPLOYEE']\n",
    "df['PART DESCRIPTION CLEAN'] = df['PART DESCRIPTION'].astype(str).str.upper()\n",
    "df['IS_LABOR'] = df['PART DESCRIPTION CLEAN'].apply(lambda desc: any(k in desc for k in labor_keywords))\n",
    "product_counts = df[~df['IS_LABOR'] & df['PART DESCRIPTION'].notna()].groupby(\n",
    "    'PART DESCRIPTION'\n",
    ").size().reset_index(name='PRODUCT_ORDER_COUNT')\n",
    "product_counts['PRODUCT_ORDER_RANK'] = product_counts['PRODUCT_ORDER_COUNT'].rank(method='dense', ascending=False).astype(int)\n",
    "df = df.merge(product_counts, on='PART DESCRIPTION', how='left')\n",
    "\n",
    "# === Step 4: UOM Consistency ===\n",
    "def compare_uom(row):\n",
    "    if pd.isna(row['INV UOM']):\n",
    "        return 'Missing INV UOM'\n",
    "    elif row['PURCH UOM'] == row['INV UOM']:\n",
    "        return 'Match'\n",
    "    else:\n",
    "        return 'Mismatch'\n",
    "df['UOM_COMPARISON_STATUS'] = df.apply(compare_uom, axis=1)\n",
    "\n",
    "# === Step 5: Key Metrics Summary ===\n",
    "po_summary = df[['PO NO', 'PROJECT_FREIGHT_COST', 'PRODUCT_ONLY_PO_VALUE']].drop_duplicates().dropna()\n",
    "po_summary['FREIGHT_PERCENT_EXCL_PRODUCT'] = po_summary['PROJECT_FREIGHT_COST'] / po_summary['PRODUCT_ONLY_PO_VALUE']\n",
    "pct_le_10 = (po_summary['FREIGHT_PERCENT_EXCL_PRODUCT'] <= 0.10).mean() * 100\n",
    "pct_gt_50 = (po_summary['FREIGHT_PERCENT_EXCL_PRODUCT'] > 0.50).mean() * 100\n",
    "print(f\"% of POs with freight ≤ 10% of product spend: {pct_le_10:.2f}%\")\n",
    "print(f\"% of POs with freight > 50% of product spend: {pct_gt_50:.2f}%\")\n",
    "\n",
    "# === Step 6: Composite Key Consistency ===\n",
    "df['PO_INVOICE_COMPOSITE_KEY'] = df['PO NO'].astype(str) + '|' + df['INVOICE ID'].astype(str) + '|' + df['INVOICE NO'].astype(str)\n",
    "composite_counts = df.groupby('PO NO')['PO_INVOICE_COMPOSITE_KEY'].nunique().reset_index()\n",
    "composite_counts['PO_COMPOSITE_KEY_CONSISTENCY'] = composite_counts['PO_INVOICE_COMPOSITE_KEY'].apply(\n",
    "    lambda x: 'Consistent' if x == 1 else 'Inconsistent'\n",
    ")\n",
    "df = df.merge(composite_counts[['PO NO', 'PO_COMPOSITE_KEY_CONSISTENCY']], on='PO NO', how='left')\n",
    "\n",
    "# === Step 7: Quantity Consistency Check ===\n",
    "# Ensure numeric comparisons\n",
    "df['INVOICED LINE QTY'] = pd.to_numeric(df['INVOICED LINE QTY'], errors='coerce')\n",
    "df['PO PURCH QTY'] = pd.to_numeric(df['PO PURCH QTY'], errors='coerce')\n",
    "df['PO INV QTY'] = pd.to_numeric(df['PO INV QTY'], errors='coerce')\n",
    "\n",
    "# Compare all three quantities\n",
    "df['QTY_CONSISTENCY_FLAG'] = (\n",
    "    (df['INVOICED LINE QTY'] == df['PO PURCH QTY']) &\n",
    "    (df['PO PURCH QTY'] == df['PO INV QTY'])\n",
    ")\n",
    "\n",
    "# === Final Type Cleanup Before Export ===\n",
    "numeric_cols = [\n",
    "    'TOTAL_PO_VALUE', 'PROJECT_FREIGHT_COST', 'PROJECT_FREIGHT_PERCENT',\n",
    "    'PRODUCT_ONLY_PO_VALUE', 'FREIGHT_PERCENT_EXCL_PRODUCT'\n",
    "]\n",
    "\n",
    "for col in numeric_cols:\n",
    "    df[col] = pd.to_numeric(df[col], errors='coerce').round(6)\n",
    "\n",
    "# === Export enriched dataset to data/output/ ===\n",
    "output_path = \"../data/output/Freight_Analysis_Enriched_Output.csv\"\n",
    "#df.to_csv(output_path, index=False, float_format='%.6f')\n",
    "print(f\"\\n✅ Enriched dataset exported to: {output_path}\")\n"
   ]
  },
  {
   "cell_type": "code",
   "execution_count": 2,
   "metadata": {},
   "outputs": [
    {
     "data": {
      "application/vnd.microsoft.datawrangler.viewer.v0+json": {
       "columns": [
        {
         "name": "index",
         "rawType": "int64",
         "type": "integer"
        },
        {
         "name": "COMM 1",
         "rawType": "object",
         "type": "string"
        },
        {
         "name": "COMM 2",
         "rawType": "object",
         "type": "string"
        },
        {
         "name": "UNIQUE_UOMS",
         "rawType": "object",
         "type": "string"
        }
       ],
       "conversionMethod": "pd.DataFrame",
       "ref": "e0b89c9e-274a-446f-9a54-bc09afd0bd98",
       "rows": [
        [
         "0",
         "10",
         "10",
         "['SY' 'SF' 'LF' 'EA' 'BOX']"
        ],
        [
         "1",
         "10",
         "100",
         "['SY']"
        ],
        [
         "2",
         "100",
         "10",
         "['SY']"
        ],
        [
         "3",
         "100",
         "100",
         "['SY' 'SF' 'EA' 'PCS' 'CTN' 'yd2']"
        ],
        [
         "4",
         "1000",
         "1000",
         "['EA' 'SF']"
        ]
       ],
       "shape": {
        "columns": 3,
        "rows": 5
       }
      },
      "text/html": [
       "<div>\n",
       "<style scoped>\n",
       "    .dataframe tbody tr th:only-of-type {\n",
       "        vertical-align: middle;\n",
       "    }\n",
       "\n",
       "    .dataframe tbody tr th {\n",
       "        vertical-align: top;\n",
       "    }\n",
       "\n",
       "    .dataframe thead th {\n",
       "        text-align: right;\n",
       "    }\n",
       "</style>\n",
       "<table border=\"1\" class=\"dataframe\">\n",
       "  <thead>\n",
       "    <tr style=\"text-align: right;\">\n",
       "      <th></th>\n",
       "      <th>COMM 1</th>\n",
       "      <th>COMM 2</th>\n",
       "      <th>UNIQUE_UOMS</th>\n",
       "    </tr>\n",
       "  </thead>\n",
       "  <tbody>\n",
       "    <tr>\n",
       "      <th>0</th>\n",
       "      <td>10</td>\n",
       "      <td>10</td>\n",
       "      <td>[SY, SF, LF, EA, BOX]</td>\n",
       "    </tr>\n",
       "    <tr>\n",
       "      <th>1</th>\n",
       "      <td>10</td>\n",
       "      <td>100</td>\n",
       "      <td>[SY]</td>\n",
       "    </tr>\n",
       "    <tr>\n",
       "      <th>2</th>\n",
       "      <td>100</td>\n",
       "      <td>10</td>\n",
       "      <td>[SY]</td>\n",
       "    </tr>\n",
       "    <tr>\n",
       "      <th>3</th>\n",
       "      <td>100</td>\n",
       "      <td>100</td>\n",
       "      <td>[SY, SF, EA, PCS, CTN, yd2]</td>\n",
       "    </tr>\n",
       "    <tr>\n",
       "      <th>4</th>\n",
       "      <td>1000</td>\n",
       "      <td>1000</td>\n",
       "      <td>[EA, SF]</td>\n",
       "    </tr>\n",
       "  </tbody>\n",
       "</table>\n",
       "</div>"
      ],
      "text/plain": [
       "  COMM 1 COMM 2                  UNIQUE_UOMS\n",
       "0     10     10        [SY, SF, LF, EA, BOX]\n",
       "1     10    100                         [SY]\n",
       "2    100     10                         [SY]\n",
       "3    100    100  [SY, SF, EA, PCS, CTN, yd2]\n",
       "4   1000   1000                     [EA, SF]"
      ]
     },
     "execution_count": 2,
     "metadata": {},
     "output_type": "execute_result"
    }
   ],
   "source": [
    "# Group by 'COMM 1' and aggregate unique UOMs\n",
    "uom_summary = df.groupby(['COMM 1','COMM 2'])['INV UOM'].unique().reset_index()\n",
    "\n",
    "# Rename the column for clarity\n",
    "uom_summary.rename(columns={'INV UOM': 'UNIQUE_UOMS'}, inplace=True)\n",
    "\n",
    "# Display the result\n",
    "uom_summary.head()"
   ]
  },
  {
   "cell_type": "code",
   "execution_count": 3,
   "metadata": {},
   "outputs": [
    {
     "data": {
      "text/plain": [
       "Index(['SITE', 'SITE DESCRIPTION', 'SUPPLIER NO', 'SUPPLIER NAME',\n",
       "       'INVOICE ID', 'INVOICE NO', 'DATE POSTED', 'PROJECT ID', 'PROJECT NAME',\n",
       "       'ACCOUNT', 'ACCOUNT DESCRIPTION', 'PLANNED DELIVERY DATE',\n",
       "       'SHIP TO ZIP', 'PO NO', 'PO LINE NO', 'PO REL NO', 'RECEIPT NO',\n",
       "       'PART NO', 'PART DESCRIPTION', 'COMM 1', 'COMM 2', 'PO PURCH QTY',\n",
       "       'PURCH UOM', 'PO INV QTY', 'INV UOM', 'INVOICED LINE QTY',\n",
       "       'INVOICE LINE TOTAL', 'PO PRICE', 'IS_PROJECT_FREIGHT_LINE',\n",
       "       'PO_HAS_PROJECT_FREIGHT', 'TOTAL_PO_VALUE', 'PROJECT_FREIGHT_COST',\n",
       "       'PRODUCT_ONLY_PO_VALUE', 'PROJECT_FREIGHT_PERCENT',\n",
       "       'FREIGHT_PERCENT_EXCL_PRODUCT', 'FREIGHT_≥90%_OF_PO',\n",
       "       'FREIGHT_GT_PRODUCT', 'NEGATIVE_FREIGHT_PERCENT',\n",
       "       'PROJECT_FREIGHT_LINE_COUNT', 'PO_HAS_MULTIPLE_PROJECT_FREIGHT_LINES',\n",
       "       'HIGH_FREIGHT_FLAG', 'PART DESCRIPTION CLEAN', 'IS_LABOR',\n",
       "       'PRODUCT_ORDER_COUNT', 'PRODUCT_ORDER_RANK', 'UOM_COMPARISON_STATUS',\n",
       "       'PO_INVOICE_COMPOSITE_KEY', 'PO_COMPOSITE_KEY_CONSISTENCY',\n",
       "       'QTY_CONSISTENCY_FLAG'],\n",
       "      dtype='object')"
      ]
     },
     "execution_count": 3,
     "metadata": {},
     "output_type": "execute_result"
    }
   ],
   "source": [
    "df.columns\n"
   ]
  },
  {
   "cell_type": "code",
   "execution_count": 4,
   "metadata": {},
   "outputs": [
    {
     "data": {
      "application/vnd.microsoft.datawrangler.viewer.v0+json": {
       "columns": [
        {
         "name": "index",
         "rawType": "int64",
         "type": "integer"
        },
        {
         "name": "Commodity Group",
         "rawType": "object",
         "type": "string"
        },
        {
         "name": "Description",
         "rawType": "object",
         "type": "string"
        },
        {
         "name": "Old/New",
         "rawType": "object",
         "type": "string"
        },
        {
         "name": "Priority",
         "rawType": "object",
         "type": "string"
        }
       ],
       "conversionMethod": "pd.DataFrame",
       "ref": "37de0872-431d-486e-8a06-312ca1491189",
       "rows": [
        [
         "0",
         "0",
         "Zero Cost",
         "Old Commodity",
         "No"
        ],
        [
         "1",
         "10",
         "Carpet",
         "Old Commodity",
         "Yes"
        ],
        [
         "2",
         "20",
         "Sheet Vinyl",
         "Old Commodity",
         "Yes"
        ],
        [
         "3",
         "30",
         "Product Care Supplies",
         "Old Commodity",
         "No"
        ],
        [
         "4",
         "40",
         "Vinyl Tile",
         "Old Commodity",
         "Yes"
        ]
       ],
       "shape": {
        "columns": 4,
        "rows": 5
       }
      },
      "text/html": [
       "<div>\n",
       "<style scoped>\n",
       "    .dataframe tbody tr th:only-of-type {\n",
       "        vertical-align: middle;\n",
       "    }\n",
       "\n",
       "    .dataframe tbody tr th {\n",
       "        vertical-align: top;\n",
       "    }\n",
       "\n",
       "    .dataframe thead th {\n",
       "        text-align: right;\n",
       "    }\n",
       "</style>\n",
       "<table border=\"1\" class=\"dataframe\">\n",
       "  <thead>\n",
       "    <tr style=\"text-align: right;\">\n",
       "      <th></th>\n",
       "      <th>Commodity Group</th>\n",
       "      <th>Description</th>\n",
       "      <th>Old/New</th>\n",
       "      <th>Priority</th>\n",
       "    </tr>\n",
       "  </thead>\n",
       "  <tbody>\n",
       "    <tr>\n",
       "      <th>0</th>\n",
       "      <td>0</td>\n",
       "      <td>Zero Cost</td>\n",
       "      <td>Old Commodity</td>\n",
       "      <td>No</td>\n",
       "    </tr>\n",
       "    <tr>\n",
       "      <th>1</th>\n",
       "      <td>10</td>\n",
       "      <td>Carpet</td>\n",
       "      <td>Old Commodity</td>\n",
       "      <td>Yes</td>\n",
       "    </tr>\n",
       "    <tr>\n",
       "      <th>2</th>\n",
       "      <td>20</td>\n",
       "      <td>Sheet Vinyl</td>\n",
       "      <td>Old Commodity</td>\n",
       "      <td>Yes</td>\n",
       "    </tr>\n",
       "    <tr>\n",
       "      <th>3</th>\n",
       "      <td>30</td>\n",
       "      <td>Product Care Supplies</td>\n",
       "      <td>Old Commodity</td>\n",
       "      <td>No</td>\n",
       "    </tr>\n",
       "    <tr>\n",
       "      <th>4</th>\n",
       "      <td>40</td>\n",
       "      <td>Vinyl Tile</td>\n",
       "      <td>Old Commodity</td>\n",
       "      <td>Yes</td>\n",
       "    </tr>\n",
       "  </tbody>\n",
       "</table>\n",
       "</div>"
      ],
      "text/plain": [
       "  Commodity Group            Description        Old/New Priority\n",
       "0               0              Zero Cost  Old Commodity       No\n",
       "1              10                 Carpet  Old Commodity      Yes\n",
       "2              20            Sheet Vinyl  Old Commodity      Yes\n",
       "3              30  Product Care Supplies  Old Commodity       No\n",
       "4              40             Vinyl Tile  Old Commodity      Yes"
      ]
     },
     "execution_count": 4,
     "metadata": {},
     "output_type": "execute_result"
    }
   ],
   "source": [
    "#  === Load Commodity Groups ===\n",
    "# Load the commodity groups from the Excel file\n",
    "commodity_df = pd.read_excel('../data/input/IFS Cloud Commodity Groups.xlsx', sheet_name='Commodity Groups')\n",
    "commodity_df.head()"
   ]
  },
  {
   "cell_type": "code",
   "execution_count": 5,
   "metadata": {},
   "outputs": [],
   "source": [
    "# Convert 'Commodity Group' to string and create a new column 'COMM 1'\n",
    "commodity_df['COMM 1'] = commodity_df['Commodity Group'].astype(str)"
   ]
  },
  {
   "cell_type": "code",
   "execution_count": 6,
   "metadata": {},
   "outputs": [],
   "source": [
    "# Convert 'Commodity Group' to string in the main DataFrame\n",
    "df['COMM 1'] = df['COMM 1'].astype(str)"
   ]
  },
  {
   "cell_type": "code",
   "execution_count": 7,
   "metadata": {},
   "outputs": [
    {
     "data": {
      "application/vnd.microsoft.datawrangler.viewer.v0+json": {
       "columns": [
        {
         "name": "index",
         "rawType": "int64",
         "type": "integer"
        },
        {
         "name": "SITE",
         "rawType": "object",
         "type": "string"
        },
        {
         "name": "SITE DESCRIPTION",
         "rawType": "object",
         "type": "string"
        },
        {
         "name": "SUPPLIER NO",
         "rawType": "object",
         "type": "string"
        },
        {
         "name": "SUPPLIER NAME",
         "rawType": "object",
         "type": "string"
        },
        {
         "name": "INVOICE ID",
         "rawType": "int64",
         "type": "integer"
        },
        {
         "name": "INVOICE NO",
         "rawType": "object",
         "type": "string"
        },
        {
         "name": "DATE POSTED",
         "rawType": "object",
         "type": "string"
        },
        {
         "name": "PROJECT ID",
         "rawType": "object",
         "type": "string"
        },
        {
         "name": "PROJECT NAME",
         "rawType": "object",
         "type": "string"
        },
        {
         "name": "ACCOUNT",
         "rawType": "int64",
         "type": "integer"
        },
        {
         "name": "ACCOUNT DESCRIPTION",
         "rawType": "object",
         "type": "string"
        },
        {
         "name": "PLANNED DELIVERY DATE",
         "rawType": "object",
         "type": "string"
        },
        {
         "name": "SHIP TO ZIP",
         "rawType": "object",
         "type": "string"
        },
        {
         "name": "PO NO",
         "rawType": "object",
         "type": "string"
        },
        {
         "name": "PO LINE NO",
         "rawType": "object",
         "type": "string"
        },
        {
         "name": "PO REL NO",
         "rawType": "object",
         "type": "string"
        },
        {
         "name": "RECEIPT NO",
         "rawType": "float64",
         "type": "float"
        },
        {
         "name": "PART NO",
         "rawType": "object",
         "type": "string"
        },
        {
         "name": "PART DESCRIPTION",
         "rawType": "object",
         "type": "string"
        },
        {
         "name": "COMM 1",
         "rawType": "object",
         "type": "string"
        },
        {
         "name": "COMM 2",
         "rawType": "object",
         "type": "string"
        },
        {
         "name": "PO PURCH QTY",
         "rawType": "float64",
         "type": "float"
        },
        {
         "name": "PURCH UOM",
         "rawType": "object",
         "type": "string"
        },
        {
         "name": "PO INV QTY",
         "rawType": "float64",
         "type": "float"
        },
        {
         "name": "INV UOM",
         "rawType": "object",
         "type": "string"
        },
        {
         "name": "INVOICED LINE QTY",
         "rawType": "float64",
         "type": "float"
        },
        {
         "name": "INVOICE LINE TOTAL",
         "rawType": "float64",
         "type": "float"
        },
        {
         "name": "PO PRICE",
         "rawType": "float64",
         "type": "float"
        },
        {
         "name": "IS_PROJECT_FREIGHT_LINE",
         "rawType": "bool",
         "type": "boolean"
        },
        {
         "name": "PO_HAS_PROJECT_FREIGHT",
         "rawType": "bool",
         "type": "boolean"
        },
        {
         "name": "TOTAL_PO_VALUE",
         "rawType": "float64",
         "type": "float"
        },
        {
         "name": "PROJECT_FREIGHT_COST",
         "rawType": "float64",
         "type": "float"
        },
        {
         "name": "PRODUCT_ONLY_PO_VALUE",
         "rawType": "float64",
         "type": "float"
        },
        {
         "name": "PROJECT_FREIGHT_PERCENT",
         "rawType": "float64",
         "type": "float"
        },
        {
         "name": "FREIGHT_PERCENT_EXCL_PRODUCT",
         "rawType": "float64",
         "type": "float"
        },
        {
         "name": "FREIGHT_≥90%_OF_PO",
         "rawType": "bool",
         "type": "boolean"
        },
        {
         "name": "FREIGHT_GT_PRODUCT",
         "rawType": "bool",
         "type": "boolean"
        },
        {
         "name": "NEGATIVE_FREIGHT_PERCENT",
         "rawType": "bool",
         "type": "boolean"
        },
        {
         "name": "PROJECT_FREIGHT_LINE_COUNT",
         "rawType": "int32",
         "type": "integer"
        },
        {
         "name": "PO_HAS_MULTIPLE_PROJECT_FREIGHT_LINES",
         "rawType": "bool",
         "type": "boolean"
        },
        {
         "name": "HIGH_FREIGHT_FLAG",
         "rawType": "object",
         "type": "string"
        },
        {
         "name": "PART DESCRIPTION CLEAN",
         "rawType": "object",
         "type": "string"
        },
        {
         "name": "IS_LABOR",
         "rawType": "bool",
         "type": "boolean"
        },
        {
         "name": "PRODUCT_ORDER_COUNT",
         "rawType": "float64",
         "type": "float"
        },
        {
         "name": "PRODUCT_ORDER_RANK",
         "rawType": "float64",
         "type": "float"
        },
        {
         "name": "UOM_COMPARISON_STATUS",
         "rawType": "object",
         "type": "string"
        },
        {
         "name": "PO_INVOICE_COMPOSITE_KEY",
         "rawType": "object",
         "type": "string"
        },
        {
         "name": "PO_COMPOSITE_KEY_CONSISTENCY",
         "rawType": "object",
         "type": "string"
        },
        {
         "name": "QTY_CONSISTENCY_FLAG",
         "rawType": "bool",
         "type": "boolean"
        },
        {
         "name": "Commodity Group",
         "rawType": "object",
         "type": "string"
        },
        {
         "name": "Description",
         "rawType": "object",
         "type": "string"
        },
        {
         "name": "Old/New",
         "rawType": "object",
         "type": "string"
        },
        {
         "name": "Priority",
         "rawType": "object",
         "type": "string"
        }
       ],
       "conversionMethod": "pd.DataFrame",
       "ref": "1d56c8aa-0e1e-469d-bf1a-a338a9b0062c",
       "rows": [
        [
         "0",
         "BNB",
         "Beckers New Brighton",
         "102548",
         "Lonseal Flooring",
         "433731",
         "0007795-CM",
         "3-Jan-24",
         "2311121922",
         "REGIONS HOSPITAL 4TH MRI",
         "5400",
         "PROJECT Sub-Contract Labor",
         null,
         null,
         null,
         null,
         null,
         null,
         null,
         null,
         "nan",
         null,
         null,
         null,
         null,
         null,
         null,
         "-600.0",
         null,
         "False",
         "False",
         null,
         "0.0",
         null,
         null,
         null,
         "False",
         "False",
         "False",
         "0",
         "False",
         null,
         "NAN",
         "False",
         null,
         null,
         "Missing INV UOM",
         "nan|433731|0007795-CM",
         null,
         "False",
         null,
         null,
         null,
         null
        ],
        [
         "1",
         "BNB",
         "Beckers New Brighton",
         "104716",
         "Hank's Specialties",
         "433340",
         "173373",
         "3-Jan-24",
         "2312127706",
         "UOFM MOLECULAR & CELLULAR BIOLOGY P",
         "2008",
         "Received Not Yet Invoiced",
         "2-Jan-24",
         "55430",
         "48180",
         "9",
         "1",
         "1.0",
         "1000007968",
         "PROTECT ALL PRE-NOTCHED Z-BAR INSIDE CORNER ALUMINUM (864056A) 12\"X12\" ALUMINUM",
         "1ACC",
         "1ACC",
         "4.0",
         "EA",
         "4.0",
         "EA",
         "4.0",
         "18.4",
         "18.4",
         "False",
         "True",
         "2021.9",
         "50.0",
         "1971.9",
         "0.024729",
         "0.025356",
         "False",
         "False",
         "False",
         "1",
         "False",
         "False",
         "PROTECT ALL PRE-NOTCHED Z-BAR INSIDE CORNER ALUMINUM (864056A) 12\"X12\" ALUMINUM",
         "False",
         "1.0",
         "129.0",
         "Match",
         "48180|433340|173373",
         "Inconsistent",
         "True",
         "1ACC",
         "Accessories",
         "New Commodity",
         "No"
        ],
        [
         "2",
         "BNB",
         "Beckers New Brighton",
         "104716",
         "Hank's Specialties",
         "433340",
         "173373",
         "3-Jan-24",
         "2312127706",
         "UOFM MOLECULAR & CELLULAR BIOLOGY P",
         "2008",
         "Received Not Yet Invoiced",
         "2-Jan-24",
         "55430",
         "48180",
         "1",
         "1",
         "1.0",
         "1000008162",
         "PROTECT ALL Z BAR DARK GRAY VINYL COVE CAP 8' (864052) 8' DARK GRAY",
         "1TRAN",
         "2ALL",
         "7.0",
         "EA",
         "7.0",
         "EA",
         "7.0",
         "45.36",
         "45.36",
         "False",
         "True",
         "2021.9",
         "50.0",
         "1971.9",
         "0.024729",
         "0.025356",
         "False",
         "False",
         "False",
         "1",
         "False",
         "False",
         "PROTECT ALL Z BAR DARK GRAY VINYL COVE CAP 8' (864052) 8' DARK GRAY",
         "False",
         "1.0",
         "129.0",
         "Match",
         "48180|433340|173373",
         "Inconsistent",
         "True",
         "1TRAN",
         "Transitions",
         "New Commodity",
         "No"
        ],
        [
         "3",
         "BNB",
         "Beckers New Brighton",
         "104716",
         "Hank's Specialties",
         "433340",
         "173373",
         "3-Jan-24",
         "2312127706",
         "UOFM MOLECULAR & CELLULAR BIOLOGY P",
         "5504",
         "PROJECT Freight",
         null,
         null,
         "48180",
         null,
         null,
         null,
         null,
         null,
         "nan",
         null,
         null,
         null,
         null,
         null,
         null,
         "50.0",
         null,
         "True",
         "True",
         "2021.9",
         "50.0",
         "1971.9",
         "0.024729",
         "0.025356",
         "False",
         "False",
         "False",
         "1",
         "False",
         null,
         "NAN",
         "False",
         null,
         null,
         "Missing INV UOM",
         "48180|433340|173373",
         "Inconsistent",
         "False",
         null,
         null,
         null,
         null
        ],
        [
         "4",
         "BNB",
         "Beckers New Brighton",
         "104716",
         "Hank's Specialties",
         "433340",
         "173373",
         "3-Jan-24",
         "2312127706",
         "UOFM MOLECULAR & CELLULAR BIOLOGY P",
         "2015",
         "Sales Tax Payable",
         null,
         null,
         "48180",
         null,
         null,
         null,
         null,
         null,
         "nan",
         null,
         null,
         null,
         null,
         null,
         null,
         "151.42",
         null,
         "False",
         "True",
         "2021.9",
         "50.0",
         "1971.9",
         "0.024729",
         "0.025356",
         "False",
         "False",
         "False",
         "1",
         "False",
         null,
         "NAN",
         "False",
         null,
         null,
         "Missing INV UOM",
         "48180|433340|173373",
         "Inconsistent",
         "False",
         null,
         null,
         null,
         null
        ]
       ],
       "shape": {
        "columns": 53,
        "rows": 5
       }
      },
      "text/html": [
       "<div>\n",
       "<style scoped>\n",
       "    .dataframe tbody tr th:only-of-type {\n",
       "        vertical-align: middle;\n",
       "    }\n",
       "\n",
       "    .dataframe tbody tr th {\n",
       "        vertical-align: top;\n",
       "    }\n",
       "\n",
       "    .dataframe thead th {\n",
       "        text-align: right;\n",
       "    }\n",
       "</style>\n",
       "<table border=\"1\" class=\"dataframe\">\n",
       "  <thead>\n",
       "    <tr style=\"text-align: right;\">\n",
       "      <th></th>\n",
       "      <th>SITE</th>\n",
       "      <th>SITE DESCRIPTION</th>\n",
       "      <th>SUPPLIER NO</th>\n",
       "      <th>SUPPLIER NAME</th>\n",
       "      <th>INVOICE ID</th>\n",
       "      <th>INVOICE NO</th>\n",
       "      <th>DATE POSTED</th>\n",
       "      <th>PROJECT ID</th>\n",
       "      <th>PROJECT NAME</th>\n",
       "      <th>ACCOUNT</th>\n",
       "      <th>...</th>\n",
       "      <th>PRODUCT_ORDER_COUNT</th>\n",
       "      <th>PRODUCT_ORDER_RANK</th>\n",
       "      <th>UOM_COMPARISON_STATUS</th>\n",
       "      <th>PO_INVOICE_COMPOSITE_KEY</th>\n",
       "      <th>PO_COMPOSITE_KEY_CONSISTENCY</th>\n",
       "      <th>QTY_CONSISTENCY_FLAG</th>\n",
       "      <th>Commodity Group</th>\n",
       "      <th>Description</th>\n",
       "      <th>Old/New</th>\n",
       "      <th>Priority</th>\n",
       "    </tr>\n",
       "  </thead>\n",
       "  <tbody>\n",
       "    <tr>\n",
       "      <th>0</th>\n",
       "      <td>BNB</td>\n",
       "      <td>Beckers New Brighton</td>\n",
       "      <td>102548</td>\n",
       "      <td>Lonseal Flooring</td>\n",
       "      <td>433731</td>\n",
       "      <td>0007795-CM</td>\n",
       "      <td>3-Jan-24</td>\n",
       "      <td>2311121922</td>\n",
       "      <td>REGIONS HOSPITAL 4TH MRI</td>\n",
       "      <td>5400</td>\n",
       "      <td>...</td>\n",
       "      <td>NaN</td>\n",
       "      <td>NaN</td>\n",
       "      <td>Missing INV UOM</td>\n",
       "      <td>nan|433731|0007795-CM</td>\n",
       "      <td>NaN</td>\n",
       "      <td>False</td>\n",
       "      <td>NaN</td>\n",
       "      <td>NaN</td>\n",
       "      <td>NaN</td>\n",
       "      <td>NaN</td>\n",
       "    </tr>\n",
       "    <tr>\n",
       "      <th>1</th>\n",
       "      <td>BNB</td>\n",
       "      <td>Beckers New Brighton</td>\n",
       "      <td>104716</td>\n",
       "      <td>Hank's Specialties</td>\n",
       "      <td>433340</td>\n",
       "      <td>173373</td>\n",
       "      <td>3-Jan-24</td>\n",
       "      <td>2312127706</td>\n",
       "      <td>UOFM MOLECULAR &amp; CELLULAR BIOLOGY P</td>\n",
       "      <td>2008</td>\n",
       "      <td>...</td>\n",
       "      <td>1.0</td>\n",
       "      <td>129.0</td>\n",
       "      <td>Match</td>\n",
       "      <td>48180|433340|173373</td>\n",
       "      <td>Inconsistent</td>\n",
       "      <td>True</td>\n",
       "      <td>1ACC</td>\n",
       "      <td>Accessories</td>\n",
       "      <td>New Commodity</td>\n",
       "      <td>No</td>\n",
       "    </tr>\n",
       "    <tr>\n",
       "      <th>2</th>\n",
       "      <td>BNB</td>\n",
       "      <td>Beckers New Brighton</td>\n",
       "      <td>104716</td>\n",
       "      <td>Hank's Specialties</td>\n",
       "      <td>433340</td>\n",
       "      <td>173373</td>\n",
       "      <td>3-Jan-24</td>\n",
       "      <td>2312127706</td>\n",
       "      <td>UOFM MOLECULAR &amp; CELLULAR BIOLOGY P</td>\n",
       "      <td>2008</td>\n",
       "      <td>...</td>\n",
       "      <td>1.0</td>\n",
       "      <td>129.0</td>\n",
       "      <td>Match</td>\n",
       "      <td>48180|433340|173373</td>\n",
       "      <td>Inconsistent</td>\n",
       "      <td>True</td>\n",
       "      <td>1TRAN</td>\n",
       "      <td>Transitions</td>\n",
       "      <td>New Commodity</td>\n",
       "      <td>No</td>\n",
       "    </tr>\n",
       "    <tr>\n",
       "      <th>3</th>\n",
       "      <td>BNB</td>\n",
       "      <td>Beckers New Brighton</td>\n",
       "      <td>104716</td>\n",
       "      <td>Hank's Specialties</td>\n",
       "      <td>433340</td>\n",
       "      <td>173373</td>\n",
       "      <td>3-Jan-24</td>\n",
       "      <td>2312127706</td>\n",
       "      <td>UOFM MOLECULAR &amp; CELLULAR BIOLOGY P</td>\n",
       "      <td>5504</td>\n",
       "      <td>...</td>\n",
       "      <td>NaN</td>\n",
       "      <td>NaN</td>\n",
       "      <td>Missing INV UOM</td>\n",
       "      <td>48180|433340|173373</td>\n",
       "      <td>Inconsistent</td>\n",
       "      <td>False</td>\n",
       "      <td>NaN</td>\n",
       "      <td>NaN</td>\n",
       "      <td>NaN</td>\n",
       "      <td>NaN</td>\n",
       "    </tr>\n",
       "    <tr>\n",
       "      <th>4</th>\n",
       "      <td>BNB</td>\n",
       "      <td>Beckers New Brighton</td>\n",
       "      <td>104716</td>\n",
       "      <td>Hank's Specialties</td>\n",
       "      <td>433340</td>\n",
       "      <td>173373</td>\n",
       "      <td>3-Jan-24</td>\n",
       "      <td>2312127706</td>\n",
       "      <td>UOFM MOLECULAR &amp; CELLULAR BIOLOGY P</td>\n",
       "      <td>2015</td>\n",
       "      <td>...</td>\n",
       "      <td>NaN</td>\n",
       "      <td>NaN</td>\n",
       "      <td>Missing INV UOM</td>\n",
       "      <td>48180|433340|173373</td>\n",
       "      <td>Inconsistent</td>\n",
       "      <td>False</td>\n",
       "      <td>NaN</td>\n",
       "      <td>NaN</td>\n",
       "      <td>NaN</td>\n",
       "      <td>NaN</td>\n",
       "    </tr>\n",
       "  </tbody>\n",
       "</table>\n",
       "<p>5 rows × 53 columns</p>\n",
       "</div>"
      ],
      "text/plain": [
       "  SITE      SITE DESCRIPTION SUPPLIER NO       SUPPLIER NAME  INVOICE ID  \\\n",
       "0  BNB  Beckers New Brighton      102548    Lonseal Flooring      433731   \n",
       "1  BNB  Beckers New Brighton      104716  Hank's Specialties      433340   \n",
       "2  BNB  Beckers New Brighton      104716  Hank's Specialties      433340   \n",
       "3  BNB  Beckers New Brighton      104716  Hank's Specialties      433340   \n",
       "4  BNB  Beckers New Brighton      104716  Hank's Specialties      433340   \n",
       "\n",
       "   INVOICE NO DATE POSTED  PROJECT ID                         PROJECT NAME  \\\n",
       "0  0007795-CM    3-Jan-24  2311121922             REGIONS HOSPITAL 4TH MRI   \n",
       "1      173373    3-Jan-24  2312127706  UOFM MOLECULAR & CELLULAR BIOLOGY P   \n",
       "2      173373    3-Jan-24  2312127706  UOFM MOLECULAR & CELLULAR BIOLOGY P   \n",
       "3      173373    3-Jan-24  2312127706  UOFM MOLECULAR & CELLULAR BIOLOGY P   \n",
       "4      173373    3-Jan-24  2312127706  UOFM MOLECULAR & CELLULAR BIOLOGY P   \n",
       "\n",
       "   ACCOUNT  ... PRODUCT_ORDER_COUNT PRODUCT_ORDER_RANK UOM_COMPARISON_STATUS  \\\n",
       "0     5400  ...                 NaN                NaN       Missing INV UOM   \n",
       "1     2008  ...                 1.0              129.0                 Match   \n",
       "2     2008  ...                 1.0              129.0                 Match   \n",
       "3     5504  ...                 NaN                NaN       Missing INV UOM   \n",
       "4     2015  ...                 NaN                NaN       Missing INV UOM   \n",
       "\n",
       "  PO_INVOICE_COMPOSITE_KEY PO_COMPOSITE_KEY_CONSISTENCY QTY_CONSISTENCY_FLAG  \\\n",
       "0    nan|433731|0007795-CM                          NaN                False   \n",
       "1      48180|433340|173373                 Inconsistent                 True   \n",
       "2      48180|433340|173373                 Inconsistent                 True   \n",
       "3      48180|433340|173373                 Inconsistent                False   \n",
       "4      48180|433340|173373                 Inconsistent                False   \n",
       "\n",
       "   Commodity Group  Description        Old/New Priority  \n",
       "0              NaN          NaN            NaN      NaN  \n",
       "1             1ACC  Accessories  New Commodity       No  \n",
       "2            1TRAN  Transitions  New Commodity       No  \n",
       "3              NaN          NaN            NaN      NaN  \n",
       "4              NaN          NaN            NaN      NaN  \n",
       "\n",
       "[5 rows x 53 columns]"
      ]
     },
     "execution_count": 7,
     "metadata": {},
     "output_type": "execute_result"
    }
   ],
   "source": [
    "# Perform the join on the 'COMM 1' column\n",
    "merged_df = df.merge(commodity_df, on='COMM 1', how='left')\n",
    "\n",
    "# Display the first few rows of the merged DataFrame\n",
    "merged_df.head()"
   ]
  },
  {
   "cell_type": "code",
   "execution_count": 8,
   "metadata": {},
   "outputs": [
    {
     "data": {
      "application/vnd.microsoft.datawrangler.viewer.v0+json": {
       "columns": [
        {
         "name": "index",
         "rawType": "int64",
         "type": "integer"
        },
        {
         "name": "Supplier Id",
         "rawType": "object",
         "type": "string"
        },
        {
         "name": "Supplier Name",
         "rawType": "object",
         "type": "string"
        },
        {
         "name": "Po Ref Number",
         "rawType": "object",
         "type": "string"
        },
        {
         "name": "Status",
         "rawType": "object",
         "type": "string"
        },
        {
         "name": "Invoice Series",
         "rawType": "object",
         "type": "string"
        },
        {
         "name": "Invoice No",
         "rawType": "object",
         "type": "string"
        },
        {
         "name": "Invoice Date",
         "rawType": "datetime64[ns]",
         "type": "datetime"
        },
        {
         "name": "Voucher Type",
         "rawType": "object",
         "type": "string"
        },
        {
         "name": "Voucher No",
         "rawType": "int64",
         "type": "integer"
        },
        {
         "name": "Voucher Date",
         "rawType": "datetime64[ns]",
         "type": "datetime"
        },
        {
         "name": "Accounting Year",
         "rawType": "int64",
         "type": "integer"
        },
        {
         "name": "Accounting Period",
         "rawType": "int64",
         "type": "integer"
        },
        {
         "name": "Amount",
         "rawType": "float64",
         "type": "float"
        },
        {
         "name": "Account",
         "rawType": "int64",
         "type": "integer"
        },
        {
         "name": "Account Desc",
         "rawType": "object",
         "type": "string"
        },
        {
         "name": "Department",
         "rawType": "object",
         "type": "string"
        },
        {
         "name": "Department Desc",
         "rawType": "object",
         "type": "string"
        },
        {
         "name": "Psl",
         "rawType": "object",
         "type": "string"
        },
        {
         "name": "Psl Desc",
         "rawType": "object",
         "type": "string"
        },
        {
         "name": "Project",
         "rawType": "object",
         "type": "string"
        },
        {
         "name": "Project Desc",
         "rawType": "object",
         "type": "string"
        },
        {
         "name": "Site Code",
         "rawType": "object",
         "type": "string"
        },
        {
         "name": "Site Code Desc",
         "rawType": "object",
         "type": "string"
        },
        {
         "name": "Fixed Asset",
         "rawType": "object",
         "type": "string"
        },
        {
         "name": "Fixed Asset Desc",
         "rawType": "object",
         "type": "string"
        },
        {
         "name": "Brand Part",
         "rawType": "object",
         "type": "string"
        },
        {
         "name": "Brand Part Desc",
         "rawType": "object",
         "type": "string"
        },
        {
         "name": "Project Activity",
         "rawType": "float64",
         "type": "float"
        },
        {
         "name": "Line Ref",
         "rawType": "float64",
         "type": "float"
        },
        {
         "name": "Posting Line Amount",
         "rawType": "float64",
         "type": "float"
        }
       ],
       "conversionMethod": "pd.DataFrame",
       "ref": "d8fe07ea-b30f-418f-8585-c0c5a10fb7a3",
       "rows": [
        [
         "0",
         "104323",
         "Nydree Flooring",
         "168676",
         "Paid Posted",
         "SX",
         "0125342-IN",
         "2024-12-17 00:00:00",
         "I",
         "2025001129",
         "2025-01-02 00:00:00",
         "2025",
         "1",
         "394.87",
         "5504",
         "PROJECT Freight",
         "PM",
         "All client project functions for flooring projects",
         null,
         null,
         "SPN192031",
         "Amli Atlantic Station Public Area",
         "SPN",
         "Spectra Norcross",
         null,
         null,
         "SPC",
         "Spectra",
         "100044728.0",
         null,
         "81.31"
        ],
        [
         "1",
         "107786",
         "Dal Tile Corporation",
         "130449",
         "Paid Posted",
         "SX",
         "0143516889",
         "2024-08-15 00:00:00",
         "I",
         "2025009505",
         "2025-01-23 00:00:00",
         "2025",
         "1",
         "384.37",
         "5504",
         "PROJECT Freight",
         "PM",
         "All client project functions for flooring projects",
         null,
         null,
         "2407165192",
         "North Chase 300",
         "FSC",
         "Floor Sol Charleston",
         null,
         null,
         "FLS",
         "Flooring Solutions",
         "100155932.0",
         null,
         "10.45"
        ],
        [
         "2",
         "107786",
         "Dal Tile Corporation",
         "130449",
         "Paid Posted",
         "SX",
         "0143516889",
         "2024-08-15 00:00:00",
         "I",
         "2025009505",
         "2025-01-23 00:00:00",
         "2025",
         "1",
         "384.37",
         "5599",
         "PROJECT Use Tax for Jobs",
         "PM",
         "All client project functions for flooring projects",
         null,
         null,
         "2407165192",
         "North Chase 300",
         "FSC",
         "Floor Sol Charleston",
         null,
         null,
         "FLS",
         "Flooring Solutions",
         "100155932.0",
         null,
         "25.98"
        ],
        [
         "3",
         "107786",
         "Dal Tile Corporation",
         "130449",
         "Paid Posted",
         "SX",
         "0143516889",
         "2024-08-15 00:00:00",
         "I",
         "2025009505",
         "2025-01-23 00:00:00",
         "2025",
         "1",
         "384.37",
         "5205",
         "PROJECT PO Variance M181 & M182",
         "PM",
         "All client project functions for flooring projects",
         null,
         null,
         "2407165192",
         "North Chase 300",
         "FSC",
         "Floor Sol Charleston",
         null,
         null,
         "FLS",
         "Flooring Solutions",
         "100155932.0",
         null,
         "24.19"
        ],
        [
         "4",
         "126695",
         "Tarkett USA Inc",
         "107284",
         "Paid Posted",
         "SI",
         "8201991030",
         "2024-07-17 00:00:00",
         "I",
         "2025003166",
         "2025-01-08 00:00:00",
         "2025",
         "1",
         "111.48",
         "5599",
         "PROJECT Use Tax for Jobs",
         "PM",
         "All client project functions for flooring projects",
         null,
         null,
         "2406160303",
         "LCPS Loudoun County High School",
         "CCSG",
         "Contract Carpet Sol Government",
         null,
         null,
         "CCSG",
         "Contract Carpet Systems Government",
         "100147054.0",
         null,
         "6.31"
        ]
       ],
       "shape": {
        "columns": 30,
        "rows": 5
       }
      },
      "text/html": [
       "<div>\n",
       "<style scoped>\n",
       "    .dataframe tbody tr th:only-of-type {\n",
       "        vertical-align: middle;\n",
       "    }\n",
       "\n",
       "    .dataframe tbody tr th {\n",
       "        vertical-align: top;\n",
       "    }\n",
       "\n",
       "    .dataframe thead th {\n",
       "        text-align: right;\n",
       "    }\n",
       "</style>\n",
       "<table border=\"1\" class=\"dataframe\">\n",
       "  <thead>\n",
       "    <tr style=\"text-align: right;\">\n",
       "      <th></th>\n",
       "      <th>Supplier Id</th>\n",
       "      <th>Supplier Name</th>\n",
       "      <th>Po Ref Number</th>\n",
       "      <th>Status</th>\n",
       "      <th>Invoice Series</th>\n",
       "      <th>Invoice No</th>\n",
       "      <th>Invoice Date</th>\n",
       "      <th>Voucher Type</th>\n",
       "      <th>Voucher No</th>\n",
       "      <th>Voucher Date</th>\n",
       "      <th>...</th>\n",
       "      <th>Project Desc</th>\n",
       "      <th>Site Code</th>\n",
       "      <th>Site Code Desc</th>\n",
       "      <th>Fixed Asset</th>\n",
       "      <th>Fixed Asset Desc</th>\n",
       "      <th>Brand Part</th>\n",
       "      <th>Brand Part Desc</th>\n",
       "      <th>Project Activity</th>\n",
       "      <th>Line Ref</th>\n",
       "      <th>Posting Line Amount</th>\n",
       "    </tr>\n",
       "  </thead>\n",
       "  <tbody>\n",
       "    <tr>\n",
       "      <th>0</th>\n",
       "      <td>104323</td>\n",
       "      <td>Nydree Flooring</td>\n",
       "      <td>168676</td>\n",
       "      <td>Paid Posted</td>\n",
       "      <td>SX</td>\n",
       "      <td>0125342-IN</td>\n",
       "      <td>2024-12-17</td>\n",
       "      <td>I</td>\n",
       "      <td>2025001129</td>\n",
       "      <td>2025-01-02</td>\n",
       "      <td>...</td>\n",
       "      <td>Amli Atlantic Station Public Area</td>\n",
       "      <td>SPN</td>\n",
       "      <td>Spectra Norcross</td>\n",
       "      <td>NaN</td>\n",
       "      <td>NaN</td>\n",
       "      <td>SPC</td>\n",
       "      <td>Spectra</td>\n",
       "      <td>100044728.0</td>\n",
       "      <td>NaN</td>\n",
       "      <td>81.31</td>\n",
       "    </tr>\n",
       "    <tr>\n",
       "      <th>1</th>\n",
       "      <td>107786</td>\n",
       "      <td>Dal Tile Corporation</td>\n",
       "      <td>130449</td>\n",
       "      <td>Paid Posted</td>\n",
       "      <td>SX</td>\n",
       "      <td>0143516889</td>\n",
       "      <td>2024-08-15</td>\n",
       "      <td>I</td>\n",
       "      <td>2025009505</td>\n",
       "      <td>2025-01-23</td>\n",
       "      <td>...</td>\n",
       "      <td>North Chase 300</td>\n",
       "      <td>FSC</td>\n",
       "      <td>Floor Sol Charleston</td>\n",
       "      <td>NaN</td>\n",
       "      <td>NaN</td>\n",
       "      <td>FLS</td>\n",
       "      <td>Flooring Solutions</td>\n",
       "      <td>100155932.0</td>\n",
       "      <td>NaN</td>\n",
       "      <td>10.45</td>\n",
       "    </tr>\n",
       "    <tr>\n",
       "      <th>2</th>\n",
       "      <td>107786</td>\n",
       "      <td>Dal Tile Corporation</td>\n",
       "      <td>130449</td>\n",
       "      <td>Paid Posted</td>\n",
       "      <td>SX</td>\n",
       "      <td>0143516889</td>\n",
       "      <td>2024-08-15</td>\n",
       "      <td>I</td>\n",
       "      <td>2025009505</td>\n",
       "      <td>2025-01-23</td>\n",
       "      <td>...</td>\n",
       "      <td>North Chase 300</td>\n",
       "      <td>FSC</td>\n",
       "      <td>Floor Sol Charleston</td>\n",
       "      <td>NaN</td>\n",
       "      <td>NaN</td>\n",
       "      <td>FLS</td>\n",
       "      <td>Flooring Solutions</td>\n",
       "      <td>100155932.0</td>\n",
       "      <td>NaN</td>\n",
       "      <td>25.98</td>\n",
       "    </tr>\n",
       "    <tr>\n",
       "      <th>3</th>\n",
       "      <td>107786</td>\n",
       "      <td>Dal Tile Corporation</td>\n",
       "      <td>130449</td>\n",
       "      <td>Paid Posted</td>\n",
       "      <td>SX</td>\n",
       "      <td>0143516889</td>\n",
       "      <td>2024-08-15</td>\n",
       "      <td>I</td>\n",
       "      <td>2025009505</td>\n",
       "      <td>2025-01-23</td>\n",
       "      <td>...</td>\n",
       "      <td>North Chase 300</td>\n",
       "      <td>FSC</td>\n",
       "      <td>Floor Sol Charleston</td>\n",
       "      <td>NaN</td>\n",
       "      <td>NaN</td>\n",
       "      <td>FLS</td>\n",
       "      <td>Flooring Solutions</td>\n",
       "      <td>100155932.0</td>\n",
       "      <td>NaN</td>\n",
       "      <td>24.19</td>\n",
       "    </tr>\n",
       "    <tr>\n",
       "      <th>4</th>\n",
       "      <td>126695</td>\n",
       "      <td>Tarkett USA Inc</td>\n",
       "      <td>107284</td>\n",
       "      <td>Paid Posted</td>\n",
       "      <td>SI</td>\n",
       "      <td>8201991030</td>\n",
       "      <td>2024-07-17</td>\n",
       "      <td>I</td>\n",
       "      <td>2025003166</td>\n",
       "      <td>2025-01-08</td>\n",
       "      <td>...</td>\n",
       "      <td>LCPS Loudoun County High School</td>\n",
       "      <td>CCSG</td>\n",
       "      <td>Contract Carpet Sol Government</td>\n",
       "      <td>NaN</td>\n",
       "      <td>NaN</td>\n",
       "      <td>CCSG</td>\n",
       "      <td>Contract Carpet Systems Government</td>\n",
       "      <td>100147054.0</td>\n",
       "      <td>NaN</td>\n",
       "      <td>6.31</td>\n",
       "    </tr>\n",
       "  </tbody>\n",
       "</table>\n",
       "<p>5 rows × 30 columns</p>\n",
       "</div>"
      ],
      "text/plain": [
       "  Supplier Id         Supplier Name Po Ref Number       Status Invoice Series  \\\n",
       "0      104323       Nydree Flooring        168676  Paid Posted             SX   \n",
       "1      107786  Dal Tile Corporation        130449  Paid Posted             SX   \n",
       "2      107786  Dal Tile Corporation        130449  Paid Posted             SX   \n",
       "3      107786  Dal Tile Corporation        130449  Paid Posted             SX   \n",
       "4      126695       Tarkett USA Inc        107284  Paid Posted             SI   \n",
       "\n",
       "   Invoice No Invoice Date Voucher Type  Voucher No Voucher Date  ...  \\\n",
       "0  0125342-IN   2024-12-17            I  2025001129   2025-01-02  ...   \n",
       "1  0143516889   2024-08-15            I  2025009505   2025-01-23  ...   \n",
       "2  0143516889   2024-08-15            I  2025009505   2025-01-23  ...   \n",
       "3  0143516889   2024-08-15            I  2025009505   2025-01-23  ...   \n",
       "4  8201991030   2024-07-17            I  2025003166   2025-01-08  ...   \n",
       "\n",
       "                        Project Desc  Site Code  \\\n",
       "0  Amli Atlantic Station Public Area        SPN   \n",
       "1                    North Chase 300        FSC   \n",
       "2                    North Chase 300        FSC   \n",
       "3                    North Chase 300        FSC   \n",
       "4    LCPS Loudoun County High School       CCSG   \n",
       "\n",
       "                   Site Code Desc  Fixed Asset Fixed Asset Desc Brand Part  \\\n",
       "0                Spectra Norcross          NaN              NaN        SPC   \n",
       "1            Floor Sol Charleston          NaN              NaN        FLS   \n",
       "2            Floor Sol Charleston          NaN              NaN        FLS   \n",
       "3            Floor Sol Charleston          NaN              NaN        FLS   \n",
       "4  Contract Carpet Sol Government          NaN              NaN       CCSG   \n",
       "\n",
       "                      Brand Part Desc Project Activity Line Ref  \\\n",
       "0                             Spectra      100044728.0      NaN   \n",
       "1                  Flooring Solutions      100155932.0      NaN   \n",
       "2                  Flooring Solutions      100155932.0      NaN   \n",
       "3                  Flooring Solutions      100155932.0      NaN   \n",
       "4  Contract Carpet Systems Government      100147054.0      NaN   \n",
       "\n",
       "  Posting Line Amount  \n",
       "0               81.31  \n",
       "1               10.45  \n",
       "2               25.98  \n",
       "3               24.19  \n",
       "4                6.31  \n",
       "\n",
       "[5 rows x 30 columns]"
      ]
     },
     "execution_count": 8,
     "metadata": {},
     "output_type": "execute_result"
    }
   ],
   "source": [
    "# === Load Manual Lines ===\n",
    "# Load the manual lines from the Excel file\n",
    "manual_lines_df = pd.read_excel('../data/input/Manual Lines.xlsx',sheet_name='Sheet0')\n",
    "manual_lines_df.head()"
   ]
  },
  {
   "cell_type": "code",
   "execution_count": 9,
   "metadata": {},
   "outputs": [],
   "source": [
    "# Convert 'Po Ref Number' to string and create a new column 'PO NO'\n",
    "manual_lines_df['PO NO'] = manual_lines_df['Po Ref Number'].astype(str)"
   ]
  },
  {
   "cell_type": "code",
   "execution_count": 10,
   "metadata": {},
   "outputs": [],
   "source": [
    "# Convert 'PO NO' to string in the main DataFrame\n",
    "merged_df['PO NO'] = merged_df['PO NO'].astype(str)"
   ]
  },
  {
   "cell_type": "code",
   "execution_count": 11,
   "metadata": {},
   "outputs": [],
   "source": [
    "# Create a new column to indicate if the PO NO is manual\n",
    "merged_df['IS_MANUAL'] = merged_df['PO NO'].isin(manual_lines_df['PO NO'])"
   ]
  },
  {
   "cell_type": "code",
   "execution_count": 12,
   "metadata": {},
   "outputs": [],
   "source": [
    "# Group by 'PO NO' and check if all rows in each group have 'Priority' == 'Yes'\n",
    "merged_df['ALL_PRIORITY'] = merged_df.groupby('PO NO')['Priority'].transform(lambda x: (x == 'Yes').any())\n",
    "\n",
    "# Flag the PO NOs where all rows have 'Priority' == 'Yes'\n",
    "merged_df['PRIORITY_PO_FLAG'] = merged_df['ALL_PRIORITY']"
   ]
  },
  {
   "cell_type": "code",
   "execution_count": 13,
   "metadata": {},
   "outputs": [
    {
     "data": {
      "application/vnd.microsoft.datawrangler.viewer.v0+json": {
       "columns": [
        {
         "name": "index",
         "rawType": "int64",
         "type": "integer"
        },
        {
         "name": "COMM 1",
         "rawType": "object",
         "type": "string"
        },
        {
         "name": "COMM 2",
         "rawType": "object",
         "type": "string"
        },
        {
         "name": "Commodity Group",
         "rawType": "object",
         "type": "string"
        },
        {
         "name": "Description",
         "rawType": "object",
         "type": "string"
        },
        {
         "name": "Old/New",
         "rawType": "object",
         "type": "string"
        },
        {
         "name": "Priority",
         "rawType": "object",
         "type": "string"
        },
        {
         "name": "UNIQUE_UOMS",
         "rawType": "object",
         "type": "string"
        }
       ],
       "conversionMethod": "pd.DataFrame",
       "ref": "2ea9b523-1405-49ea-9cd6-3b60cb6a7375",
       "rows": [
        [
         "0",
         "10",
         "10",
         "10",
         "Carpet",
         "Old Commodity",
         "Yes",
         "['SY' 'SF' 'LF' 'EA' 'BOX']"
        ],
        [
         "1",
         "10",
         "100",
         "10",
         "Carpet",
         "Old Commodity",
         "Yes",
         "['SY']"
        ],
        [
         "2",
         "100",
         "10",
         "100",
         "Carpet Tiles",
         "Old Commodity",
         "Yes",
         "['SY']"
        ],
        [
         "3",
         "100",
         "100",
         "100",
         "Carpet Tiles",
         "Old Commodity",
         "Yes",
         "['SY' 'SF' 'EA' 'PCS' 'CTN' 'yd2']"
        ],
        [
         "4",
         "1000",
         "1000",
         "1000",
         "Mapei Products",
         "Old Commodity",
         "No",
         "['EA' 'SF']"
        ]
       ],
       "shape": {
        "columns": 7,
        "rows": 5
       }
      },
      "text/html": [
       "<div>\n",
       "<style scoped>\n",
       "    .dataframe tbody tr th:only-of-type {\n",
       "        vertical-align: middle;\n",
       "    }\n",
       "\n",
       "    .dataframe tbody tr th {\n",
       "        vertical-align: top;\n",
       "    }\n",
       "\n",
       "    .dataframe thead th {\n",
       "        text-align: right;\n",
       "    }\n",
       "</style>\n",
       "<table border=\"1\" class=\"dataframe\">\n",
       "  <thead>\n",
       "    <tr style=\"text-align: right;\">\n",
       "      <th></th>\n",
       "      <th>COMM 1</th>\n",
       "      <th>COMM 2</th>\n",
       "      <th>Commodity Group</th>\n",
       "      <th>Description</th>\n",
       "      <th>Old/New</th>\n",
       "      <th>Priority</th>\n",
       "      <th>UNIQUE_UOMS</th>\n",
       "    </tr>\n",
       "  </thead>\n",
       "  <tbody>\n",
       "    <tr>\n",
       "      <th>0</th>\n",
       "      <td>10</td>\n",
       "      <td>10</td>\n",
       "      <td>10</td>\n",
       "      <td>Carpet</td>\n",
       "      <td>Old Commodity</td>\n",
       "      <td>Yes</td>\n",
       "      <td>[SY, SF, LF, EA, BOX]</td>\n",
       "    </tr>\n",
       "    <tr>\n",
       "      <th>1</th>\n",
       "      <td>10</td>\n",
       "      <td>100</td>\n",
       "      <td>10</td>\n",
       "      <td>Carpet</td>\n",
       "      <td>Old Commodity</td>\n",
       "      <td>Yes</td>\n",
       "      <td>[SY]</td>\n",
       "    </tr>\n",
       "    <tr>\n",
       "      <th>2</th>\n",
       "      <td>100</td>\n",
       "      <td>10</td>\n",
       "      <td>100</td>\n",
       "      <td>Carpet Tiles</td>\n",
       "      <td>Old Commodity</td>\n",
       "      <td>Yes</td>\n",
       "      <td>[SY]</td>\n",
       "    </tr>\n",
       "    <tr>\n",
       "      <th>3</th>\n",
       "      <td>100</td>\n",
       "      <td>100</td>\n",
       "      <td>100</td>\n",
       "      <td>Carpet Tiles</td>\n",
       "      <td>Old Commodity</td>\n",
       "      <td>Yes</td>\n",
       "      <td>[SY, SF, EA, PCS, CTN, yd2]</td>\n",
       "    </tr>\n",
       "    <tr>\n",
       "      <th>4</th>\n",
       "      <td>1000</td>\n",
       "      <td>1000</td>\n",
       "      <td>1000</td>\n",
       "      <td>Mapei Products</td>\n",
       "      <td>Old Commodity</td>\n",
       "      <td>No</td>\n",
       "      <td>[EA, SF]</td>\n",
       "    </tr>\n",
       "  </tbody>\n",
       "</table>\n",
       "</div>"
      ],
      "text/plain": [
       "  COMM 1 COMM 2 Commodity Group     Description        Old/New Priority  \\\n",
       "0     10     10              10          Carpet  Old Commodity      Yes   \n",
       "1     10    100              10          Carpet  Old Commodity      Yes   \n",
       "2    100     10             100    Carpet Tiles  Old Commodity      Yes   \n",
       "3    100    100             100    Carpet Tiles  Old Commodity      Yes   \n",
       "4   1000   1000            1000  Mapei Products  Old Commodity       No   \n",
       "\n",
       "                   UNIQUE_UOMS  \n",
       "0        [SY, SF, LF, EA, BOX]  \n",
       "1                         [SY]  \n",
       "2                         [SY]  \n",
       "3  [SY, SF, EA, PCS, CTN, yd2]  \n",
       "4                     [EA, SF]  "
      ]
     },
     "execution_count": 13,
     "metadata": {},
     "output_type": "execute_result"
    }
   ],
   "source": [
    "# Group by 'COMM 1' and aggregate unique UOMs\n",
    "uom_summary = merged_df.groupby(['COMM 1','COMM 2','Commodity Group','Description', \n",
    "'Old/New', \n",
    "'Priority',])['INV UOM'].unique().reset_index()\n",
    "\n",
    "# Rename the column for clarity\n",
    "uom_summary.rename(columns={'INV UOM': 'UNIQUE_UOMS'}, inplace=True)\n",
    "\n",
    "# Display the result\n",
    "uom_summary.head()"
   ]
  },
  {
   "cell_type": "code",
   "execution_count": 14,
   "metadata": {},
   "outputs": [
    {
     "data": {
      "application/vnd.microsoft.datawrangler.viewer.v0+json": {
       "columns": [
        {
         "name": "index",
         "rawType": "int64",
         "type": "integer"
        },
        {
         "name": "COMM 1",
         "rawType": "object",
         "type": "string"
        },
        {
         "name": "COMM 2",
         "rawType": "object",
         "type": "string"
        },
        {
         "name": "Commodity Group",
         "rawType": "object",
         "type": "string"
        },
        {
         "name": "Description",
         "rawType": "object",
         "type": "string"
        },
        {
         "name": "Old/New",
         "rawType": "object",
         "type": "string"
        },
        {
         "name": "Priority",
         "rawType": "object",
         "type": "string"
        },
        {
         "name": "UNIQUE_UOMS",
         "rawType": "object",
         "type": "string"
        }
       ],
       "conversionMethod": "pd.DataFrame",
       "ref": "3ddc47cc-3af5-4a41-b22f-3096a512d397",
       "rows": [
        [
         "0",
         "10",
         "10",
         "10",
         "Carpet",
         "Old Commodity",
         "Yes",
         "SY"
        ],
        [
         "0",
         "10",
         "10",
         "10",
         "Carpet",
         "Old Commodity",
         "Yes",
         "SF"
        ],
        [
         "0",
         "10",
         "10",
         "10",
         "Carpet",
         "Old Commodity",
         "Yes",
         "LF"
        ],
        [
         "0",
         "10",
         "10",
         "10",
         "Carpet",
         "Old Commodity",
         "Yes",
         "EA"
        ],
        [
         "0",
         "10",
         "10",
         "10",
         "Carpet",
         "Old Commodity",
         "Yes",
         "BOX"
        ]
       ],
       "shape": {
        "columns": 7,
        "rows": 5
       }
      },
      "text/html": [
       "<div>\n",
       "<style scoped>\n",
       "    .dataframe tbody tr th:only-of-type {\n",
       "        vertical-align: middle;\n",
       "    }\n",
       "\n",
       "    .dataframe tbody tr th {\n",
       "        vertical-align: top;\n",
       "    }\n",
       "\n",
       "    .dataframe thead th {\n",
       "        text-align: right;\n",
       "    }\n",
       "</style>\n",
       "<table border=\"1\" class=\"dataframe\">\n",
       "  <thead>\n",
       "    <tr style=\"text-align: right;\">\n",
       "      <th></th>\n",
       "      <th>COMM 1</th>\n",
       "      <th>COMM 2</th>\n",
       "      <th>Commodity Group</th>\n",
       "      <th>Description</th>\n",
       "      <th>Old/New</th>\n",
       "      <th>Priority</th>\n",
       "      <th>UNIQUE_UOMS</th>\n",
       "    </tr>\n",
       "  </thead>\n",
       "  <tbody>\n",
       "    <tr>\n",
       "      <th>0</th>\n",
       "      <td>10</td>\n",
       "      <td>10</td>\n",
       "      <td>10</td>\n",
       "      <td>Carpet</td>\n",
       "      <td>Old Commodity</td>\n",
       "      <td>Yes</td>\n",
       "      <td>SY</td>\n",
       "    </tr>\n",
       "    <tr>\n",
       "      <th>0</th>\n",
       "      <td>10</td>\n",
       "      <td>10</td>\n",
       "      <td>10</td>\n",
       "      <td>Carpet</td>\n",
       "      <td>Old Commodity</td>\n",
       "      <td>Yes</td>\n",
       "      <td>SF</td>\n",
       "    </tr>\n",
       "    <tr>\n",
       "      <th>0</th>\n",
       "      <td>10</td>\n",
       "      <td>10</td>\n",
       "      <td>10</td>\n",
       "      <td>Carpet</td>\n",
       "      <td>Old Commodity</td>\n",
       "      <td>Yes</td>\n",
       "      <td>LF</td>\n",
       "    </tr>\n",
       "    <tr>\n",
       "      <th>0</th>\n",
       "      <td>10</td>\n",
       "      <td>10</td>\n",
       "      <td>10</td>\n",
       "      <td>Carpet</td>\n",
       "      <td>Old Commodity</td>\n",
       "      <td>Yes</td>\n",
       "      <td>EA</td>\n",
       "    </tr>\n",
       "    <tr>\n",
       "      <th>0</th>\n",
       "      <td>10</td>\n",
       "      <td>10</td>\n",
       "      <td>10</td>\n",
       "      <td>Carpet</td>\n",
       "      <td>Old Commodity</td>\n",
       "      <td>Yes</td>\n",
       "      <td>BOX</td>\n",
       "    </tr>\n",
       "  </tbody>\n",
       "</table>\n",
       "</div>"
      ],
      "text/plain": [
       "  COMM 1 COMM 2 Commodity Group Description        Old/New Priority  \\\n",
       "0     10     10              10      Carpet  Old Commodity      Yes   \n",
       "0     10     10              10      Carpet  Old Commodity      Yes   \n",
       "0     10     10              10      Carpet  Old Commodity      Yes   \n",
       "0     10     10              10      Carpet  Old Commodity      Yes   \n",
       "0     10     10              10      Carpet  Old Commodity      Yes   \n",
       "\n",
       "  UNIQUE_UOMS  \n",
       "0          SY  \n",
       "0          SF  \n",
       "0          LF  \n",
       "0          EA  \n",
       "0         BOX  "
      ]
     },
     "execution_count": 14,
     "metadata": {},
     "output_type": "execute_result"
    }
   ],
   "source": [
    "# Explode the UNIQUE_UOMS column into separate rows\n",
    "uom_summary_exploded = uom_summary.explode('UNIQUE_UOMS')\n",
    "\n",
    "# Display the first few rows of the resulting DataFrame\n",
    "uom_summary_exploded.head()"
   ]
  },
  {
   "cell_type": "code",
   "execution_count": 15,
   "metadata": {},
   "outputs": [],
   "source": [
    "#uom_summary_exploded.to_csv('../data/output/UOM_Summary.csv', index=False, float_format='%.6f')"
   ]
  },
  {
   "cell_type": "code",
   "execution_count": 16,
   "metadata": {},
   "outputs": [],
   "source": [
    "important_columns = [\n",
    "'SITE',\n",
    "'SITE DESCRIPTION',\n",
    "'SUPPLIER NO',\n",
    "'SUPPLIER NAME',\n",
    "'PO NO',\n",
    "'ACCOUNT',\n",
    "'ACCOUNT DESCRIPTION',\n",
    "'SHIP TO ZIP',\n",
    "'PART NO', \n",
    "'PART DESCRIPTION',\n",
    "'PO PURCH QTY',\n",
    "'PO INV QTY', \n",
    "'INVOICED LINE QTY',\n",
    "'PURCH UOM', \n",
    "'INV UOM', \n",
    "'INVOICE LINE TOTAL', \n",
    "'PO PRICE', \n",
    "'TOTAL_PO_VALUE',\n",
    "'PO_HAS_PROJECT_FREIGHT',\n",
    "'PROJECT_FREIGHT_COST', \n",
    "'PROJECT_FREIGHT_PERCENT',\n",
    "'PRODUCT_ONLY_PO_VALUE', \n",
    "'FREIGHT_≥90%_OF_PO',\n",
    "'FREIGHT_GT_PRODUCT', \n",
    "'NEGATIVE_FREIGHT_PERCENT',\n",
    "'PO_HAS_MULTIPLE_PROJECT_FREIGHT_LINES',\n",
    "'COMM 1',\n",
    "'Commodity Group', \n",
    "'Description', \n",
    "'Old/New', \n",
    "'Priority',\n",
    "'IS_MANUAL',\n",
    "'PRIORITY_PO_FLAG',\n",
    "'QTY_CONSISTENCY_FLAG',\n",
    "'UOM_COMPARISON_STATUS'\n",
    "\n",
    "]"
   ]
  },
  {
   "cell_type": "code",
   "execution_count": 17,
   "metadata": {},
   "outputs": [
    {
     "data": {
      "application/vnd.microsoft.datawrangler.viewer.v0+json": {
       "columns": [
        {
         "name": "index",
         "rawType": "int64",
         "type": "integer"
        },
        {
         "name": "SITE",
         "rawType": "object",
         "type": "string"
        },
        {
         "name": "SITE DESCRIPTION",
         "rawType": "object",
         "type": "string"
        },
        {
         "name": "SUPPLIER NO",
         "rawType": "object",
         "type": "string"
        },
        {
         "name": "SUPPLIER NAME",
         "rawType": "object",
         "type": "string"
        },
        {
         "name": "PO NO",
         "rawType": "object",
         "type": "string"
        },
        {
         "name": "ACCOUNT",
         "rawType": "int64",
         "type": "integer"
        },
        {
         "name": "ACCOUNT DESCRIPTION",
         "rawType": "object",
         "type": "string"
        },
        {
         "name": "SHIP TO ZIP",
         "rawType": "object",
         "type": "string"
        },
        {
         "name": "PART NO",
         "rawType": "object",
         "type": "string"
        },
        {
         "name": "PART DESCRIPTION",
         "rawType": "object",
         "type": "string"
        },
        {
         "name": "PO PURCH QTY",
         "rawType": "float64",
         "type": "float"
        },
        {
         "name": "PO INV QTY",
         "rawType": "float64",
         "type": "float"
        },
        {
         "name": "INVOICED LINE QTY",
         "rawType": "float64",
         "type": "float"
        },
        {
         "name": "PURCH UOM",
         "rawType": "object",
         "type": "string"
        },
        {
         "name": "INV UOM",
         "rawType": "object",
         "type": "string"
        },
        {
         "name": "INVOICE LINE TOTAL",
         "rawType": "float64",
         "type": "float"
        },
        {
         "name": "PO PRICE",
         "rawType": "float64",
         "type": "float"
        },
        {
         "name": "TOTAL_PO_VALUE",
         "rawType": "float64",
         "type": "float"
        },
        {
         "name": "PO_HAS_PROJECT_FREIGHT",
         "rawType": "bool",
         "type": "boolean"
        },
        {
         "name": "PROJECT_FREIGHT_COST",
         "rawType": "float64",
         "type": "float"
        },
        {
         "name": "PROJECT_FREIGHT_PERCENT",
         "rawType": "float64",
         "type": "float"
        },
        {
         "name": "PRODUCT_ONLY_PO_VALUE",
         "rawType": "float64",
         "type": "float"
        },
        {
         "name": "FREIGHT_≥90%_OF_PO",
         "rawType": "bool",
         "type": "boolean"
        },
        {
         "name": "FREIGHT_GT_PRODUCT",
         "rawType": "bool",
         "type": "boolean"
        },
        {
         "name": "NEGATIVE_FREIGHT_PERCENT",
         "rawType": "bool",
         "type": "boolean"
        },
        {
         "name": "PO_HAS_MULTIPLE_PROJECT_FREIGHT_LINES",
         "rawType": "bool",
         "type": "boolean"
        },
        {
         "name": "COMM 1",
         "rawType": "object",
         "type": "string"
        },
        {
         "name": "Commodity Group",
         "rawType": "object",
         "type": "string"
        },
        {
         "name": "Description",
         "rawType": "object",
         "type": "string"
        },
        {
         "name": "Old/New",
         "rawType": "object",
         "type": "string"
        },
        {
         "name": "Priority",
         "rawType": "object",
         "type": "string"
        },
        {
         "name": "IS_MANUAL",
         "rawType": "bool",
         "type": "boolean"
        },
        {
         "name": "PRIORITY_PO_FLAG",
         "rawType": "bool",
         "type": "boolean"
        },
        {
         "name": "QTY_CONSISTENCY_FLAG",
         "rawType": "bool",
         "type": "boolean"
        },
        {
         "name": "UOM_COMPARISON_STATUS",
         "rawType": "object",
         "type": "string"
        }
       ],
       "conversionMethod": "pd.DataFrame",
       "ref": "66277300-d026-432b-8688-b1ea8527eff2",
       "rows": [
        [
         "0",
         "BNB",
         "Beckers New Brighton",
         "102548",
         "Lonseal Flooring",
         "nan",
         "5400",
         "PROJECT Sub-Contract Labor",
         null,
         null,
         null,
         null,
         null,
         null,
         null,
         null,
         "-600.0",
         null,
         null,
         "False",
         "0.0",
         null,
         null,
         "False",
         "False",
         "False",
         "False",
         "nan",
         null,
         null,
         null,
         null,
         "True",
         "False",
         "False",
         "Missing INV UOM"
        ],
        [
         "1",
         "BNB",
         "Beckers New Brighton",
         "104716",
         "Hank's Specialties",
         "48180",
         "2008",
         "Received Not Yet Invoiced",
         "55430",
         "1000007968",
         "PROTECT ALL PRE-NOTCHED Z-BAR INSIDE CORNER ALUMINUM (864056A) 12\"X12\" ALUMINUM",
         "4.0",
         "4.0",
         "4.0",
         "EA",
         "EA",
         "18.4",
         "18.4",
         "2021.9",
         "True",
         "50.0",
         "0.024729",
         "1971.9",
         "False",
         "False",
         "False",
         "False",
         "1ACC",
         "1ACC",
         "Accessories",
         "New Commodity",
         "No",
         "False",
         "True",
         "True",
         "Match"
        ]
       ],
       "shape": {
        "columns": 35,
        "rows": 2
       }
      },
      "text/html": [
       "<div>\n",
       "<style scoped>\n",
       "    .dataframe tbody tr th:only-of-type {\n",
       "        vertical-align: middle;\n",
       "    }\n",
       "\n",
       "    .dataframe tbody tr th {\n",
       "        vertical-align: top;\n",
       "    }\n",
       "\n",
       "    .dataframe thead th {\n",
       "        text-align: right;\n",
       "    }\n",
       "</style>\n",
       "<table border=\"1\" class=\"dataframe\">\n",
       "  <thead>\n",
       "    <tr style=\"text-align: right;\">\n",
       "      <th></th>\n",
       "      <th>SITE</th>\n",
       "      <th>SITE DESCRIPTION</th>\n",
       "      <th>SUPPLIER NO</th>\n",
       "      <th>SUPPLIER NAME</th>\n",
       "      <th>PO NO</th>\n",
       "      <th>ACCOUNT</th>\n",
       "      <th>ACCOUNT DESCRIPTION</th>\n",
       "      <th>SHIP TO ZIP</th>\n",
       "      <th>PART NO</th>\n",
       "      <th>PART DESCRIPTION</th>\n",
       "      <th>...</th>\n",
       "      <th>PO_HAS_MULTIPLE_PROJECT_FREIGHT_LINES</th>\n",
       "      <th>COMM 1</th>\n",
       "      <th>Commodity Group</th>\n",
       "      <th>Description</th>\n",
       "      <th>Old/New</th>\n",
       "      <th>Priority</th>\n",
       "      <th>IS_MANUAL</th>\n",
       "      <th>PRIORITY_PO_FLAG</th>\n",
       "      <th>QTY_CONSISTENCY_FLAG</th>\n",
       "      <th>UOM_COMPARISON_STATUS</th>\n",
       "    </tr>\n",
       "  </thead>\n",
       "  <tbody>\n",
       "    <tr>\n",
       "      <th>0</th>\n",
       "      <td>BNB</td>\n",
       "      <td>Beckers New Brighton</td>\n",
       "      <td>102548</td>\n",
       "      <td>Lonseal Flooring</td>\n",
       "      <td>nan</td>\n",
       "      <td>5400</td>\n",
       "      <td>PROJECT Sub-Contract Labor</td>\n",
       "      <td>NaN</td>\n",
       "      <td>NaN</td>\n",
       "      <td>NaN</td>\n",
       "      <td>...</td>\n",
       "      <td>False</td>\n",
       "      <td>nan</td>\n",
       "      <td>NaN</td>\n",
       "      <td>NaN</td>\n",
       "      <td>NaN</td>\n",
       "      <td>NaN</td>\n",
       "      <td>True</td>\n",
       "      <td>False</td>\n",
       "      <td>False</td>\n",
       "      <td>Missing INV UOM</td>\n",
       "    </tr>\n",
       "    <tr>\n",
       "      <th>1</th>\n",
       "      <td>BNB</td>\n",
       "      <td>Beckers New Brighton</td>\n",
       "      <td>104716</td>\n",
       "      <td>Hank's Specialties</td>\n",
       "      <td>48180</td>\n",
       "      <td>2008</td>\n",
       "      <td>Received Not Yet Invoiced</td>\n",
       "      <td>55430</td>\n",
       "      <td>1000007968</td>\n",
       "      <td>PROTECT ALL PRE-NOTCHED Z-BAR INSIDE CORNER AL...</td>\n",
       "      <td>...</td>\n",
       "      <td>False</td>\n",
       "      <td>1ACC</td>\n",
       "      <td>1ACC</td>\n",
       "      <td>Accessories</td>\n",
       "      <td>New Commodity</td>\n",
       "      <td>No</td>\n",
       "      <td>False</td>\n",
       "      <td>True</td>\n",
       "      <td>True</td>\n",
       "      <td>Match</td>\n",
       "    </tr>\n",
       "  </tbody>\n",
       "</table>\n",
       "<p>2 rows × 35 columns</p>\n",
       "</div>"
      ],
      "text/plain": [
       "  SITE      SITE DESCRIPTION SUPPLIER NO       SUPPLIER NAME  PO NO  ACCOUNT  \\\n",
       "0  BNB  Beckers New Brighton      102548    Lonseal Flooring    nan     5400   \n",
       "1  BNB  Beckers New Brighton      104716  Hank's Specialties  48180     2008   \n",
       "\n",
       "          ACCOUNT DESCRIPTION SHIP TO ZIP     PART NO  \\\n",
       "0  PROJECT Sub-Contract Labor         NaN         NaN   \n",
       "1   Received Not Yet Invoiced       55430  1000007968   \n",
       "\n",
       "                                    PART DESCRIPTION  ...  \\\n",
       "0                                                NaN  ...   \n",
       "1  PROTECT ALL PRE-NOTCHED Z-BAR INSIDE CORNER AL...  ...   \n",
       "\n",
       "   PO_HAS_MULTIPLE_PROJECT_FREIGHT_LINES  COMM 1  Commodity Group  \\\n",
       "0                                  False     nan              NaN   \n",
       "1                                  False    1ACC             1ACC   \n",
       "\n",
       "   Description        Old/New  Priority  IS_MANUAL  PRIORITY_PO_FLAG  \\\n",
       "0          NaN            NaN       NaN       True             False   \n",
       "1  Accessories  New Commodity        No      False              True   \n",
       "\n",
       "   QTY_CONSISTENCY_FLAG  UOM_COMPARISON_STATUS  \n",
       "0                 False        Missing INV UOM  \n",
       "1                  True                  Match  \n",
       "\n",
       "[2 rows x 35 columns]"
      ]
     },
     "execution_count": 17,
     "metadata": {},
     "output_type": "execute_result"
    }
   ],
   "source": [
    "# Filter the DataFrame to include only the important columns\n",
    "df_filtered = merged_df[important_columns]\n",
    "df_filtered.head(2)"
   ]
  },
  {
   "cell_type": "code",
   "execution_count": null,
   "metadata": {},
   "outputs": [],
   "source": []
  },
  {
   "cell_type": "code",
   "execution_count": 18,
   "metadata": {},
   "outputs": [
    {
     "data": {
      "text/plain": [
       "140304"
      ]
     },
     "execution_count": 18,
     "metadata": {},
     "output_type": "execute_result"
    }
   ],
   "source": [
    "df_filtered['PO NO'].nunique()"
   ]
  },
  {
   "cell_type": "code",
   "execution_count": 19,
   "metadata": {},
   "outputs": [
    {
     "data": {
      "application/vnd.microsoft.datawrangler.viewer.v0+json": {
       "columns": [
        {
         "name": "index",
         "rawType": "int64",
         "type": "integer"
        },
        {
         "name": "NEGATIVE_FREIGHT_PERCENT",
         "rawType": "bool",
         "type": "boolean"
        },
        {
         "name": "COUNT",
         "rawType": "int64",
         "type": "integer"
        }
       ],
       "conversionMethod": "pd.DataFrame",
       "ref": "65d6ca8e-5cf9-4a4e-bf11-72bc37032fb2",
       "rows": [
        [
         "0",
         "False",
         "140077"
        ],
        [
         "1",
         "True",
         "227"
        ]
       ],
       "shape": {
        "columns": 2,
        "rows": 2
       }
      },
      "text/html": [
       "<div>\n",
       "<style scoped>\n",
       "    .dataframe tbody tr th:only-of-type {\n",
       "        vertical-align: middle;\n",
       "    }\n",
       "\n",
       "    .dataframe tbody tr th {\n",
       "        vertical-align: top;\n",
       "    }\n",
       "\n",
       "    .dataframe thead th {\n",
       "        text-align: right;\n",
       "    }\n",
       "</style>\n",
       "<table border=\"1\" class=\"dataframe\">\n",
       "  <thead>\n",
       "    <tr style=\"text-align: right;\">\n",
       "      <th></th>\n",
       "      <th>NEGATIVE_FREIGHT_PERCENT</th>\n",
       "      <th>COUNT</th>\n",
       "    </tr>\n",
       "  </thead>\n",
       "  <tbody>\n",
       "    <tr>\n",
       "      <th>0</th>\n",
       "      <td>False</td>\n",
       "      <td>140077</td>\n",
       "    </tr>\n",
       "    <tr>\n",
       "      <th>1</th>\n",
       "      <td>True</td>\n",
       "      <td>227</td>\n",
       "    </tr>\n",
       "  </tbody>\n",
       "</table>\n",
       "</div>"
      ],
      "text/plain": [
       "   NEGATIVE_FREIGHT_PERCENT   COUNT\n",
       "0                     False  140077\n",
       "1                      True     227"
      ]
     },
     "execution_count": 19,
     "metadata": {},
     "output_type": "execute_result"
    }
   ],
   "source": [
    "negative_freight_summary = df_filtered.pivot_table(\n",
    "    index='NEGATIVE_FREIGHT_PERCENT',\n",
    "    values='PO NO',\n",
    "    aggfunc=lambda X: len(X.unique()),\n",
    ").reset_index()\n",
    "\n",
    "negative_freight_summary.rename(columns={'PO NO': 'COUNT'}, inplace=True)\n",
    "negative_freight_summary"
   ]
  },
  {
   "cell_type": "code",
   "execution_count": 20,
   "metadata": {},
   "outputs": [
    {
     "data": {
      "application/vnd.microsoft.datawrangler.viewer.v0+json": {
       "columns": [
        {
         "name": "index",
         "rawType": "int64",
         "type": "integer"
        },
        {
         "name": "PO_HAS_PROJECT_FREIGHT",
         "rawType": "bool",
         "type": "boolean"
        },
        {
         "name": "COUNT",
         "rawType": "int64",
         "type": "integer"
        }
       ],
       "conversionMethod": "pd.DataFrame",
       "ref": "a736f0a0-c3bf-4a6d-a5b6-17a222883476",
       "rows": [
        [
         "0",
         "False",
         "94521"
        ],
        [
         "1",
         "True",
         "45783"
        ]
       ],
       "shape": {
        "columns": 2,
        "rows": 2
       }
      },
      "text/html": [
       "<div>\n",
       "<style scoped>\n",
       "    .dataframe tbody tr th:only-of-type {\n",
       "        vertical-align: middle;\n",
       "    }\n",
       "\n",
       "    .dataframe tbody tr th {\n",
       "        vertical-align: top;\n",
       "    }\n",
       "\n",
       "    .dataframe thead th {\n",
       "        text-align: right;\n",
       "    }\n",
       "</style>\n",
       "<table border=\"1\" class=\"dataframe\">\n",
       "  <thead>\n",
       "    <tr style=\"text-align: right;\">\n",
       "      <th></th>\n",
       "      <th>PO_HAS_PROJECT_FREIGHT</th>\n",
       "      <th>COUNT</th>\n",
       "    </tr>\n",
       "  </thead>\n",
       "  <tbody>\n",
       "    <tr>\n",
       "      <th>0</th>\n",
       "      <td>False</td>\n",
       "      <td>94521</td>\n",
       "    </tr>\n",
       "    <tr>\n",
       "      <th>1</th>\n",
       "      <td>True</td>\n",
       "      <td>45783</td>\n",
       "    </tr>\n",
       "  </tbody>\n",
       "</table>\n",
       "</div>"
      ],
      "text/plain": [
       "   PO_HAS_PROJECT_FREIGHT  COUNT\n",
       "0                   False  94521\n",
       "1                    True  45783"
      ]
     },
     "execution_count": 20,
     "metadata": {},
     "output_type": "execute_result"
    }
   ],
   "source": [
    "negative_freight_summary = df_filtered.pivot_table(\n",
    "    index='PO_HAS_PROJECT_FREIGHT',\n",
    "    values='PO NO',\n",
    "    aggfunc=lambda X: len(X.unique()),\n",
    ").reset_index()\n",
    "\n",
    "negative_freight_summary.rename(columns={'PO NO': 'COUNT'}, inplace=True)\n",
    "negative_freight_summary"
   ]
  },
  {
   "cell_type": "code",
   "execution_count": 21,
   "metadata": {},
   "outputs": [
    {
     "data": {
      "application/vnd.microsoft.datawrangler.viewer.v0+json": {
       "columns": [
        {
         "name": "index",
         "rawType": "int64",
         "type": "integer"
        },
        {
         "name": "PO_HAS_MULTIPLE_PROJECT_FREIGHT_LINES",
         "rawType": "bool",
         "type": "boolean"
        },
        {
         "name": "COUNT",
         "rawType": "int64",
         "type": "integer"
        }
       ],
       "conversionMethod": "pd.DataFrame",
       "ref": "d15f4432-8ee9-4af9-a4ae-58ea217d7448",
       "rows": [
        [
         "0",
         "False",
         "135369"
        ],
        [
         "1",
         "True",
         "4935"
        ]
       ],
       "shape": {
        "columns": 2,
        "rows": 2
       }
      },
      "text/html": [
       "<div>\n",
       "<style scoped>\n",
       "    .dataframe tbody tr th:only-of-type {\n",
       "        vertical-align: middle;\n",
       "    }\n",
       "\n",
       "    .dataframe tbody tr th {\n",
       "        vertical-align: top;\n",
       "    }\n",
       "\n",
       "    .dataframe thead th {\n",
       "        text-align: right;\n",
       "    }\n",
       "</style>\n",
       "<table border=\"1\" class=\"dataframe\">\n",
       "  <thead>\n",
       "    <tr style=\"text-align: right;\">\n",
       "      <th></th>\n",
       "      <th>PO_HAS_MULTIPLE_PROJECT_FREIGHT_LINES</th>\n",
       "      <th>COUNT</th>\n",
       "    </tr>\n",
       "  </thead>\n",
       "  <tbody>\n",
       "    <tr>\n",
       "      <th>0</th>\n",
       "      <td>False</td>\n",
       "      <td>135369</td>\n",
       "    </tr>\n",
       "    <tr>\n",
       "      <th>1</th>\n",
       "      <td>True</td>\n",
       "      <td>4935</td>\n",
       "    </tr>\n",
       "  </tbody>\n",
       "</table>\n",
       "</div>"
      ],
      "text/plain": [
       "   PO_HAS_MULTIPLE_PROJECT_FREIGHT_LINES   COUNT\n",
       "0                                  False  135369\n",
       "1                                   True    4935"
      ]
     },
     "execution_count": 21,
     "metadata": {},
     "output_type": "execute_result"
    }
   ],
   "source": [
    "negative_freight_summary = df_filtered.pivot_table(\n",
    "    index='PO_HAS_MULTIPLE_PROJECT_FREIGHT_LINES',\n",
    "    values='PO NO',\n",
    "    aggfunc=lambda X: len(X.unique()),\n",
    ").reset_index()\n",
    "\n",
    "negative_freight_summary.rename(columns={'PO NO': 'COUNT'}, inplace=True)\n",
    "negative_freight_summary"
   ]
  },
  {
   "cell_type": "code",
   "execution_count": 22,
   "metadata": {},
   "outputs": [
    {
     "data": {
      "application/vnd.microsoft.datawrangler.viewer.v0+json": {
       "columns": [
        {
         "name": "index",
         "rawType": "int64",
         "type": "integer"
        },
        {
         "name": "PRIORITY_PO_FLAG",
         "rawType": "bool",
         "type": "boolean"
        },
        {
         "name": "COUNT",
         "rawType": "int64",
         "type": "integer"
        }
       ],
       "conversionMethod": "pd.DataFrame",
       "ref": "6d307b54-e47a-421a-86fe-3d7f16720d25",
       "rows": [
        [
         "0",
         "False",
         "119279"
        ],
        [
         "1",
         "True",
         "21025"
        ]
       ],
       "shape": {
        "columns": 2,
        "rows": 2
       }
      },
      "text/html": [
       "<div>\n",
       "<style scoped>\n",
       "    .dataframe tbody tr th:only-of-type {\n",
       "        vertical-align: middle;\n",
       "    }\n",
       "\n",
       "    .dataframe tbody tr th {\n",
       "        vertical-align: top;\n",
       "    }\n",
       "\n",
       "    .dataframe thead th {\n",
       "        text-align: right;\n",
       "    }\n",
       "</style>\n",
       "<table border=\"1\" class=\"dataframe\">\n",
       "  <thead>\n",
       "    <tr style=\"text-align: right;\">\n",
       "      <th></th>\n",
       "      <th>PRIORITY_PO_FLAG</th>\n",
       "      <th>COUNT</th>\n",
       "    </tr>\n",
       "  </thead>\n",
       "  <tbody>\n",
       "    <tr>\n",
       "      <th>0</th>\n",
       "      <td>False</td>\n",
       "      <td>119279</td>\n",
       "    </tr>\n",
       "    <tr>\n",
       "      <th>1</th>\n",
       "      <td>True</td>\n",
       "      <td>21025</td>\n",
       "    </tr>\n",
       "  </tbody>\n",
       "</table>\n",
       "</div>"
      ],
      "text/plain": [
       "   PRIORITY_PO_FLAG   COUNT\n",
       "0             False  119279\n",
       "1              True   21025"
      ]
     },
     "execution_count": 22,
     "metadata": {},
     "output_type": "execute_result"
    }
   ],
   "source": [
    "negative_freight_summary = df_filtered.pivot_table(\n",
    "    index='PRIORITY_PO_FLAG',\n",
    "    values='PO NO',\n",
    "    aggfunc=lambda X: len(X.unique()),\n",
    ").reset_index()\n",
    "\n",
    "negative_freight_summary.rename(columns={'PO NO': 'COUNT'}, inplace=True)\n",
    "negative_freight_summary"
   ]
  },
  {
   "cell_type": "code",
   "execution_count": 23,
   "metadata": {},
   "outputs": [
    {
     "data": {
      "application/vnd.microsoft.datawrangler.viewer.v0+json": {
       "columns": [
        {
         "name": "index",
         "rawType": "int64",
         "type": "integer"
        },
        {
         "name": "SITE DESCRIPTION",
         "rawType": "object",
         "type": "string"
        },
        {
         "name": "UNIQUE_PO_COUNT",
         "rawType": "int64",
         "type": "integer"
        }
       ],
       "conversionMethod": "pd.DataFrame",
       "ref": "5fe06029-7c8c-423b-bb85-f9d5843e42fc",
       "rows": [
        [
         "46",
         "Spectra Norcross",
         "13757"
        ],
        [
         "50",
         "Spectra Tampa",
         "11390"
        ],
        [
         "43",
         "Spectra Longwood",
         "10809"
        ],
        [
         "35",
         "Spectra Coppell",
         "8120"
        ],
        [
         "38",
         "Spectra Houston",
         "7220"
        ],
        [
         "19",
         "Floor Sol Union",
         "7128"
        ],
        [
         "51",
         "Spectra Tempe",
         "6692"
        ],
        [
         "10",
         "Diverzify Itasca",
         "6491"
        ],
        [
         "36",
         "Spectra Denver",
         "4343"
        ],
        [
         "42",
         "Spectra Lockland",
         "3939"
        ],
        [
         "22",
         "Pavillion Floors",
         "3890"
        ],
        [
         "41",
         "Spectra Jacksonville",
         "3862"
        ],
        [
         "54",
         "Spectra W Valley Cty",
         "3660"
        ],
        [
         "4",
         "Contract Carpet Sol",
         "3590"
        ],
        [
         "20",
         "Kenny Floor Covering",
         "3524"
        ],
        [
         "48",
         "Spectra San Antonio",
         "3210"
        ],
        [
         "44",
         "Spectra Los Angeles",
         "3011"
        ],
        [
         "6",
         "Diverzify Cincinnati",
         "2694"
        ],
        [
         "45",
         "Spectra Louisville",
         "2473"
        ],
        [
         "37",
         "Spectra Harrisburg",
         "2453"
        ],
        [
         "28",
         "RD Weis Hawthorn",
         "2421"
        ],
        [
         "53",
         "Spectra Tukwila",
         "2311"
        ],
        [
         "2",
         "Continental Floors",
         "2204"
        ],
        [
         "5",
         "Div National Accts",
         "2134"
        ],
        [
         "47",
         "Spectra Pelham",
         "2026"
        ],
        [
         "17",
         "Floor Sol Greensboro",
         "1923"
        ],
        [
         "52",
         "Spectra Tigard",
         "1625"
        ],
        [
         "21",
         "Kiefer USA",
         "1262"
        ],
        [
         "0",
         "Beckers New Brighton",
         "1072"
        ],
        [
         "34",
         "Spectra Columbus",
         "1050"
        ],
        [
         "18",
         "Floor Sol New Hanovr",
         "1035"
        ],
        [
         "12",
         "Diverzify St. Louis",
         "1026"
        ],
        [
         "14",
         "Epoxy SI",
         "890"
        ],
        [
         "31",
         "SCF - Fithian",
         "850"
        ],
        [
         "39",
         "Spectra Huntsville",
         "788"
        ],
        [
         "9",
         "Diverzify Indy",
         "728"
        ],
        [
         "3",
         "Contract Carpet Gov",
         "713"
        ],
        [
         "27",
         "ProSpectra Union Cty",
         "704"
        ],
        [
         "32",
         "Select Prefab Solut",
         "641"
        ],
        [
         "23",
         "ProSpectra Ceritos",
         "460"
        ],
        [
         "25",
         "ProSpectra Poway",
         "437"
        ],
        [
         "16",
         "Floor Sol Charleston",
         "423"
        ],
        [
         "49",
         "Spectra Sterling",
         "420"
        ],
        [
         "56",
         "Wright",
         "292"
        ],
        [
         "1",
         "Beckers Saint Cloud",
         "291"
        ],
        [
         "33",
         "Spectra Austin",
         "273"
        ],
        [
         "24",
         "ProSpectra Las Vegas",
         "132"
        ],
        [
         "26",
         "ProSpectra Sacrament",
         "47"
        ],
        [
         "11",
         "Diverzify Nashville",
         "23"
        ],
        [
         "40",
         "Spectra JAXville EP",
         "13"
        ]
       ],
       "shape": {
        "columns": 2,
        "rows": 57
       }
      },
      "text/html": [
       "<div>\n",
       "<style scoped>\n",
       "    .dataframe tbody tr th:only-of-type {\n",
       "        vertical-align: middle;\n",
       "    }\n",
       "\n",
       "    .dataframe tbody tr th {\n",
       "        vertical-align: top;\n",
       "    }\n",
       "\n",
       "    .dataframe thead th {\n",
       "        text-align: right;\n",
       "    }\n",
       "</style>\n",
       "<table border=\"1\" class=\"dataframe\">\n",
       "  <thead>\n",
       "    <tr style=\"text-align: right;\">\n",
       "      <th></th>\n",
       "      <th>SITE DESCRIPTION</th>\n",
       "      <th>UNIQUE_PO_COUNT</th>\n",
       "    </tr>\n",
       "  </thead>\n",
       "  <tbody>\n",
       "    <tr>\n",
       "      <th>46</th>\n",
       "      <td>Spectra Norcross</td>\n",
       "      <td>13757</td>\n",
       "    </tr>\n",
       "    <tr>\n",
       "      <th>50</th>\n",
       "      <td>Spectra Tampa</td>\n",
       "      <td>11390</td>\n",
       "    </tr>\n",
       "    <tr>\n",
       "      <th>43</th>\n",
       "      <td>Spectra Longwood</td>\n",
       "      <td>10809</td>\n",
       "    </tr>\n",
       "    <tr>\n",
       "      <th>35</th>\n",
       "      <td>Spectra Coppell</td>\n",
       "      <td>8120</td>\n",
       "    </tr>\n",
       "    <tr>\n",
       "      <th>38</th>\n",
       "      <td>Spectra Houston</td>\n",
       "      <td>7220</td>\n",
       "    </tr>\n",
       "    <tr>\n",
       "      <th>19</th>\n",
       "      <td>Floor Sol Union</td>\n",
       "      <td>7128</td>\n",
       "    </tr>\n",
       "    <tr>\n",
       "      <th>51</th>\n",
       "      <td>Spectra Tempe</td>\n",
       "      <td>6692</td>\n",
       "    </tr>\n",
       "    <tr>\n",
       "      <th>10</th>\n",
       "      <td>Diverzify Itasca</td>\n",
       "      <td>6491</td>\n",
       "    </tr>\n",
       "    <tr>\n",
       "      <th>36</th>\n",
       "      <td>Spectra Denver</td>\n",
       "      <td>4343</td>\n",
       "    </tr>\n",
       "    <tr>\n",
       "      <th>42</th>\n",
       "      <td>Spectra Lockland</td>\n",
       "      <td>3939</td>\n",
       "    </tr>\n",
       "    <tr>\n",
       "      <th>22</th>\n",
       "      <td>Pavillion Floors</td>\n",
       "      <td>3890</td>\n",
       "    </tr>\n",
       "    <tr>\n",
       "      <th>41</th>\n",
       "      <td>Spectra Jacksonville</td>\n",
       "      <td>3862</td>\n",
       "    </tr>\n",
       "    <tr>\n",
       "      <th>54</th>\n",
       "      <td>Spectra W Valley Cty</td>\n",
       "      <td>3660</td>\n",
       "    </tr>\n",
       "    <tr>\n",
       "      <th>4</th>\n",
       "      <td>Contract Carpet Sol</td>\n",
       "      <td>3590</td>\n",
       "    </tr>\n",
       "    <tr>\n",
       "      <th>20</th>\n",
       "      <td>Kenny Floor Covering</td>\n",
       "      <td>3524</td>\n",
       "    </tr>\n",
       "    <tr>\n",
       "      <th>48</th>\n",
       "      <td>Spectra San Antonio</td>\n",
       "      <td>3210</td>\n",
       "    </tr>\n",
       "    <tr>\n",
       "      <th>44</th>\n",
       "      <td>Spectra Los Angeles</td>\n",
       "      <td>3011</td>\n",
       "    </tr>\n",
       "    <tr>\n",
       "      <th>6</th>\n",
       "      <td>Diverzify Cincinnati</td>\n",
       "      <td>2694</td>\n",
       "    </tr>\n",
       "    <tr>\n",
       "      <th>45</th>\n",
       "      <td>Spectra Louisville</td>\n",
       "      <td>2473</td>\n",
       "    </tr>\n",
       "    <tr>\n",
       "      <th>37</th>\n",
       "      <td>Spectra Harrisburg</td>\n",
       "      <td>2453</td>\n",
       "    </tr>\n",
       "    <tr>\n",
       "      <th>28</th>\n",
       "      <td>RD Weis Hawthorn</td>\n",
       "      <td>2421</td>\n",
       "    </tr>\n",
       "    <tr>\n",
       "      <th>53</th>\n",
       "      <td>Spectra Tukwila</td>\n",
       "      <td>2311</td>\n",
       "    </tr>\n",
       "    <tr>\n",
       "      <th>2</th>\n",
       "      <td>Continental Floors</td>\n",
       "      <td>2204</td>\n",
       "    </tr>\n",
       "    <tr>\n",
       "      <th>5</th>\n",
       "      <td>Div National Accts</td>\n",
       "      <td>2134</td>\n",
       "    </tr>\n",
       "    <tr>\n",
       "      <th>47</th>\n",
       "      <td>Spectra Pelham</td>\n",
       "      <td>2026</td>\n",
       "    </tr>\n",
       "    <tr>\n",
       "      <th>17</th>\n",
       "      <td>Floor Sol Greensboro</td>\n",
       "      <td>1923</td>\n",
       "    </tr>\n",
       "    <tr>\n",
       "      <th>52</th>\n",
       "      <td>Spectra Tigard</td>\n",
       "      <td>1625</td>\n",
       "    </tr>\n",
       "    <tr>\n",
       "      <th>21</th>\n",
       "      <td>Kiefer USA</td>\n",
       "      <td>1262</td>\n",
       "    </tr>\n",
       "    <tr>\n",
       "      <th>0</th>\n",
       "      <td>Beckers New Brighton</td>\n",
       "      <td>1072</td>\n",
       "    </tr>\n",
       "    <tr>\n",
       "      <th>34</th>\n",
       "      <td>Spectra Columbus</td>\n",
       "      <td>1050</td>\n",
       "    </tr>\n",
       "    <tr>\n",
       "      <th>18</th>\n",
       "      <td>Floor Sol New Hanovr</td>\n",
       "      <td>1035</td>\n",
       "    </tr>\n",
       "    <tr>\n",
       "      <th>12</th>\n",
       "      <td>Diverzify St. Louis</td>\n",
       "      <td>1026</td>\n",
       "    </tr>\n",
       "    <tr>\n",
       "      <th>14</th>\n",
       "      <td>Epoxy SI</td>\n",
       "      <td>890</td>\n",
       "    </tr>\n",
       "    <tr>\n",
       "      <th>31</th>\n",
       "      <td>SCF - Fithian</td>\n",
       "      <td>850</td>\n",
       "    </tr>\n",
       "    <tr>\n",
       "      <th>39</th>\n",
       "      <td>Spectra Huntsville</td>\n",
       "      <td>788</td>\n",
       "    </tr>\n",
       "    <tr>\n",
       "      <th>9</th>\n",
       "      <td>Diverzify Indy</td>\n",
       "      <td>728</td>\n",
       "    </tr>\n",
       "    <tr>\n",
       "      <th>3</th>\n",
       "      <td>Contract Carpet Gov</td>\n",
       "      <td>713</td>\n",
       "    </tr>\n",
       "    <tr>\n",
       "      <th>27</th>\n",
       "      <td>ProSpectra Union Cty</td>\n",
       "      <td>704</td>\n",
       "    </tr>\n",
       "    <tr>\n",
       "      <th>32</th>\n",
       "      <td>Select Prefab Solut</td>\n",
       "      <td>641</td>\n",
       "    </tr>\n",
       "    <tr>\n",
       "      <th>23</th>\n",
       "      <td>ProSpectra Ceritos</td>\n",
       "      <td>460</td>\n",
       "    </tr>\n",
       "    <tr>\n",
       "      <th>25</th>\n",
       "      <td>ProSpectra Poway</td>\n",
       "      <td>437</td>\n",
       "    </tr>\n",
       "    <tr>\n",
       "      <th>16</th>\n",
       "      <td>Floor Sol Charleston</td>\n",
       "      <td>423</td>\n",
       "    </tr>\n",
       "    <tr>\n",
       "      <th>49</th>\n",
       "      <td>Spectra Sterling</td>\n",
       "      <td>420</td>\n",
       "    </tr>\n",
       "    <tr>\n",
       "      <th>56</th>\n",
       "      <td>Wright</td>\n",
       "      <td>292</td>\n",
       "    </tr>\n",
       "    <tr>\n",
       "      <th>1</th>\n",
       "      <td>Beckers Saint Cloud</td>\n",
       "      <td>291</td>\n",
       "    </tr>\n",
       "    <tr>\n",
       "      <th>33</th>\n",
       "      <td>Spectra Austin</td>\n",
       "      <td>273</td>\n",
       "    </tr>\n",
       "    <tr>\n",
       "      <th>24</th>\n",
       "      <td>ProSpectra Las Vegas</td>\n",
       "      <td>132</td>\n",
       "    </tr>\n",
       "    <tr>\n",
       "      <th>26</th>\n",
       "      <td>ProSpectra Sacrament</td>\n",
       "      <td>47</td>\n",
       "    </tr>\n",
       "    <tr>\n",
       "      <th>11</th>\n",
       "      <td>Diverzify Nashville</td>\n",
       "      <td>23</td>\n",
       "    </tr>\n",
       "    <tr>\n",
       "      <th>40</th>\n",
       "      <td>Spectra JAXville EP</td>\n",
       "      <td>13</td>\n",
       "    </tr>\n",
       "    <tr>\n",
       "      <th>8</th>\n",
       "      <td>Diverzify HQ</td>\n",
       "      <td>5</td>\n",
       "    </tr>\n",
       "    <tr>\n",
       "      <th>15</th>\n",
       "      <td>Floor Maint Group</td>\n",
       "      <td>3</td>\n",
       "    </tr>\n",
       "    <tr>\n",
       "      <th>7</th>\n",
       "      <td>Diverzify Columbus</td>\n",
       "      <td>3</td>\n",
       "    </tr>\n",
       "    <tr>\n",
       "      <th>30</th>\n",
       "      <td>RD Weis New York</td>\n",
       "      <td>1</td>\n",
       "    </tr>\n",
       "    <tr>\n",
       "      <th>13</th>\n",
       "      <td>Diverzify Tampa</td>\n",
       "      <td>1</td>\n",
       "    </tr>\n",
       "    <tr>\n",
       "      <th>55</th>\n",
       "      <td>Transaction Services</td>\n",
       "      <td>1</td>\n",
       "    </tr>\n",
       "    <tr>\n",
       "      <th>29</th>\n",
       "      <td>RD Weis Henrietta</td>\n",
       "      <td>1</td>\n",
       "    </tr>\n",
       "  </tbody>\n",
       "</table>\n",
       "</div>"
      ],
      "text/plain": [
       "        SITE DESCRIPTION  UNIQUE_PO_COUNT\n",
       "46      Spectra Norcross            13757\n",
       "50         Spectra Tampa            11390\n",
       "43      Spectra Longwood            10809\n",
       "35       Spectra Coppell             8120\n",
       "38       Spectra Houston             7220\n",
       "19       Floor Sol Union             7128\n",
       "51         Spectra Tempe             6692\n",
       "10      Diverzify Itasca             6491\n",
       "36        Spectra Denver             4343\n",
       "42      Spectra Lockland             3939\n",
       "22      Pavillion Floors             3890\n",
       "41  Spectra Jacksonville             3862\n",
       "54  Spectra W Valley Cty             3660\n",
       "4    Contract Carpet Sol             3590\n",
       "20  Kenny Floor Covering             3524\n",
       "48   Spectra San Antonio             3210\n",
       "44   Spectra Los Angeles             3011\n",
       "6   Diverzify Cincinnati             2694\n",
       "45    Spectra Louisville             2473\n",
       "37    Spectra Harrisburg             2453\n",
       "28      RD Weis Hawthorn             2421\n",
       "53       Spectra Tukwila             2311\n",
       "2     Continental Floors             2204\n",
       "5     Div National Accts             2134\n",
       "47        Spectra Pelham             2026\n",
       "17  Floor Sol Greensboro             1923\n",
       "52        Spectra Tigard             1625\n",
       "21            Kiefer USA             1262\n",
       "0   Beckers New Brighton             1072\n",
       "34      Spectra Columbus             1050\n",
       "18  Floor Sol New Hanovr             1035\n",
       "12   Diverzify St. Louis             1026\n",
       "14              Epoxy SI              890\n",
       "31         SCF - Fithian              850\n",
       "39    Spectra Huntsville              788\n",
       "9         Diverzify Indy              728\n",
       "3    Contract Carpet Gov              713\n",
       "27  ProSpectra Union Cty              704\n",
       "32   Select Prefab Solut              641\n",
       "23    ProSpectra Ceritos              460\n",
       "25      ProSpectra Poway              437\n",
       "16  Floor Sol Charleston              423\n",
       "49      Spectra Sterling              420\n",
       "56                Wright              292\n",
       "1    Beckers Saint Cloud              291\n",
       "33        Spectra Austin              273\n",
       "24  ProSpectra Las Vegas              132\n",
       "26  ProSpectra Sacrament               47\n",
       "11   Diverzify Nashville               23\n",
       "40   Spectra JAXville EP               13\n",
       "8           Diverzify HQ                5\n",
       "15     Floor Maint Group                3\n",
       "7     Diverzify Columbus                3\n",
       "30      RD Weis New York                1\n",
       "13       Diverzify Tampa                1\n",
       "55  Transaction Services                1\n",
       "29     RD Weis Henrietta                1"
      ]
     },
     "execution_count": 23,
     "metadata": {},
     "output_type": "execute_result"
    }
   ],
   "source": [
    "site_summary = df_filtered.groupby('SITE DESCRIPTION')['PO NO'].nunique().reset_index(name='UNIQUE_PO_COUNT').sort_values(by='UNIQUE_PO_COUNT', ascending=False)\n",
    "site_summary"
   ]
  },
  {
   "cell_type": "code",
   "execution_count": 24,
   "metadata": {},
   "outputs": [
    {
     "data": {
      "application/vnd.microsoft.datawrangler.viewer.v0+json": {
       "columns": [
        {
         "name": "index",
         "rawType": "int64",
         "type": "integer"
        },
        {
         "name": "SUPPLIER NAME",
         "rawType": "object",
         "type": "string"
        },
        {
         "name": "TOTAL_PROJECT_FREIGHT_COST",
         "rawType": "float64",
         "type": "float"
        }
       ],
       "conversionMethod": "pd.DataFrame",
       "ref": "8085d836-1894-44c9-b60b-649a1ff27041",
       "rows": [
        [
         "1132",
         "Crossley Axminster, Inc.",
         "49368.9737704918"
        ],
        [
         "2212",
         "InterfaceServices, Inc.",
         "23599.88866666667"
        ],
        [
         "4605",
         "United Office Systems Pvt Ltd",
         "20803.835555555554"
        ],
        [
         "333",
         "Arto Brick California Pavers",
         "13659.8175"
        ],
        [
         "4172",
         "Stone Tile International Inc",
         "12421.3"
        ],
        [
         "1951",
         "Getzner USA, Inc.",
         "12291.685714285715"
        ],
        [
         "2104",
         "High Point Design, Inc",
         "11948.2625"
        ],
        [
         "3042",
         "ModernRugs.com",
         "9976.0"
        ],
        [
         "3973",
         "Shaw Industries, Inc. - RA 409015 (CLM# 638255)",
         "8572.49"
        ],
        [
         "3293",
         "Oriental Weavers USA, Inc. dba OW Hospitality",
         "8497.03"
        ],
        [
         "4414",
         "Thorntree LP",
         "8288.97610909091"
        ],
        [
         "1629",
         "Entech, Inc",
         "6900.0"
        ],
        [
         "1740",
         "Faulks Bros Construction Inc.",
         "6241.433333333333"
        ],
        [
         "2211",
         "Interface Americas, Inc.:  SALES TAX CREDIT",
         "5673.0"
        ],
        [
         "2210",
         "Interface Americas, Inc.:  INVOICE LINE 2 UNIT VARIANCE",
         "5673.0"
        ],
        [
         "3978",
         "Shaw Industries, Inc. - RETURN FREIGHT",
         "5642.59"
        ],
        [
         "1698",
         "FJ Roberts Floors AASG",
         "5320.305555555556"
        ],
        [
         "806",
         "Ceramiche Atlas Concorde",
         "5233.400000000001"
        ],
        [
         "2445",
         "Karen Pearse & Co., LLC",
         "4996.557575757575"
        ],
        [
         "2594",
         "LTR Intermediate Holdings, Inc dba Liberty Tire Services, LLC",
         "4989.281052631579"
        ],
        [
         "2062",
         "Hakwood Inc.",
         "4760.454545454545"
        ],
        [
         "4478",
         "TransCeramica (ICG Italia)",
         "4440.333333333333"
        ],
        [
         "965",
         "Cladding Corp",
         "4419.147368421052"
        ],
        [
         "3187",
         "North Georgia Brick Co Inc",
         "4418.86"
        ],
        [
         "3976",
         "Shaw Industries, Inc. - RESTOCKING FEE",
         "4378.116666666667"
        ],
        [
         "145",
         "Action Floor Systems, LLC",
         "4295.372564102564"
        ],
        [
         "2872",
         "Margaritelli USA, LLC. dba Listone Giordano",
         "4059.0"
        ],
        [
         "1964",
         "Global Floor Inc",
         "4003.0"
        ],
        [
         "2148",
         "IB Supply, LLC",
         "4002.596"
        ],
        [
         "1057",
         "Connor Sports Flooring",
         "3830.891679389313"
        ],
        [
         "4314",
         "Tate Access Floors, Inc.",
         "3700.0"
        ],
        [
         "4074",
         "Spartan Surfaces - PO SPSA104558 CANCELLED STATUS",
         "3693.0"
        ],
        [
         "309",
         "Architectural Ceramics, Inc.",
         "3521.2176134122287"
        ],
        [
         "1106",
         "Couristan, Inc.",
         "3341.4647826086957"
        ],
        [
         "4479",
         "TransCeramica, Graniti Fiandre",
         "3256.29"
        ],
        [
         "2063",
         "Hakwood, Inc.",
         "3133.2514285714283"
        ],
        [
         "310",
         "Architectural Directions",
         "3103.4166666666665"
        ],
        [
         "3860",
         "SPS Stone Group, LLC",
         "3094.0"
        ],
        [
         "4055",
         "Southeastern Tile Connection, Inc",
         "3041.98"
        ],
        [
         "3754",
         "Roca Tile USA Inc",
         "3026.6666666666665"
        ],
        [
         "396",
         "B&D Products LLC",
         "3016.342857142857"
        ],
        [
         "2179",
         "Imbert Construction Industries",
         "3016.0"
        ],
        [
         "314",
         "Argelith Ceramic Tiles, Inc.",
         "2941.6822429906542"
        ],
        [
         "3522",
         "ProSpec Solutions, Inc",
         "2914.6685714285713"
        ],
        [
         "3378",
         "Palmetto Tile Distributors",
         "2866.2971428571427"
        ],
        [
         "3333",
         "PID Floors",
         "2733.3333333333335"
        ],
        [
         "3974",
         "Shaw Industries, Inc. - RA 409950 (CLM# 645225)",
         "2712.69"
        ],
        [
         "4084",
         "Specialized Supplies & Services, Inc.",
         "2640.0"
        ],
        [
         "4181",
         "Strategic Contract Brands, Inc dba AutoStone Floor Systems",
         "2611.106"
        ],
        [
         "4696",
         "WEITZ SUPPLY CHAIN LLC",
         "2576.88"
        ]
       ],
       "shape": {
        "columns": 2,
        "rows": 4854
       }
      },
      "text/html": [
       "<div>\n",
       "<style scoped>\n",
       "    .dataframe tbody tr th:only-of-type {\n",
       "        vertical-align: middle;\n",
       "    }\n",
       "\n",
       "    .dataframe tbody tr th {\n",
       "        vertical-align: top;\n",
       "    }\n",
       "\n",
       "    .dataframe thead th {\n",
       "        text-align: right;\n",
       "    }\n",
       "</style>\n",
       "<table border=\"1\" class=\"dataframe\">\n",
       "  <thead>\n",
       "    <tr style=\"text-align: right;\">\n",
       "      <th></th>\n",
       "      <th>SUPPLIER NAME</th>\n",
       "      <th>TOTAL_PROJECT_FREIGHT_COST</th>\n",
       "    </tr>\n",
       "  </thead>\n",
       "  <tbody>\n",
       "    <tr>\n",
       "      <th>1132</th>\n",
       "      <td>Crossley Axminster, Inc.</td>\n",
       "      <td>49368.973770</td>\n",
       "    </tr>\n",
       "    <tr>\n",
       "      <th>2212</th>\n",
       "      <td>InterfaceServices, Inc.</td>\n",
       "      <td>23599.888667</td>\n",
       "    </tr>\n",
       "    <tr>\n",
       "      <th>4605</th>\n",
       "      <td>United Office Systems Pvt Ltd</td>\n",
       "      <td>20803.835556</td>\n",
       "    </tr>\n",
       "    <tr>\n",
       "      <th>333</th>\n",
       "      <td>Arto Brick California Pavers</td>\n",
       "      <td>13659.817500</td>\n",
       "    </tr>\n",
       "    <tr>\n",
       "      <th>4172</th>\n",
       "      <td>Stone Tile International Inc</td>\n",
       "      <td>12421.300000</td>\n",
       "    </tr>\n",
       "    <tr>\n",
       "      <th>...</th>\n",
       "      <td>...</td>\n",
       "      <td>...</td>\n",
       "    </tr>\n",
       "    <tr>\n",
       "      <th>1391</th>\n",
       "      <td>Divine Flooring LP</td>\n",
       "      <td>-2.040000</td>\n",
       "    </tr>\n",
       "    <tr>\n",
       "      <th>112</th>\n",
       "      <td>ASM Modular Systems, Inc</td>\n",
       "      <td>-5.895765</td>\n",
       "    </tr>\n",
       "    <tr>\n",
       "      <th>1545</th>\n",
       "      <td>ERC DELIVERY SERVICE</td>\n",
       "      <td>-41.489362</td>\n",
       "    </tr>\n",
       "    <tr>\n",
       "      <th>1206</th>\n",
       "      <td>DNU       Bedrosians Tile &amp; Stone</td>\n",
       "      <td>-80.870000</td>\n",
       "    </tr>\n",
       "    <tr>\n",
       "      <th>1611</th>\n",
       "      <td>Emerson Hardwood Company</td>\n",
       "      <td>-108.000000</td>\n",
       "    </tr>\n",
       "  </tbody>\n",
       "</table>\n",
       "<p>4854 rows × 2 columns</p>\n",
       "</div>"
      ],
      "text/plain": [
       "                          SUPPLIER NAME  TOTAL_PROJECT_FREIGHT_COST\n",
       "1132           Crossley Axminster, Inc.                49368.973770\n",
       "2212            InterfaceServices, Inc.                23599.888667\n",
       "4605      United Office Systems Pvt Ltd                20803.835556\n",
       "333        Arto Brick California Pavers                13659.817500\n",
       "4172       Stone Tile International Inc                12421.300000\n",
       "...                                 ...                         ...\n",
       "1391                 Divine Flooring LP                   -2.040000\n",
       "112            ASM Modular Systems, Inc                   -5.895765\n",
       "1545               ERC DELIVERY SERVICE                  -41.489362\n",
       "1206  DNU       Bedrosians Tile & Stone                  -80.870000\n",
       "1611           Emerson Hardwood Company                 -108.000000\n",
       "\n",
       "[4854 rows x 2 columns]"
      ]
     },
     "execution_count": 24,
     "metadata": {},
     "output_type": "execute_result"
    }
   ],
   "source": [
    "supplier_freight_summary = df_filtered.groupby('SUPPLIER NAME', as_index=False)['PROJECT_FREIGHT_COST'].mean().sort_values(by='PROJECT_FREIGHT_COST', ascending=False)\n",
    "supplier_freight_summary.rename(columns={'PROJECT_FREIGHT_COST': 'TOTAL_PROJECT_FREIGHT_COST'}, inplace=True)\n",
    "supplier_freight_summary"
   ]
  },
  {
   "cell_type": "code",
   "execution_count": 25,
   "metadata": {},
   "outputs": [
    {
     "data": {
      "application/vnd.microsoft.datawrangler.viewer.v0+json": {
       "columns": [
        {
         "name": "index",
         "rawType": "int64",
         "type": "integer"
        },
        {
         "name": "SITE DESCRIPTION",
         "rawType": "object",
         "type": "string"
        },
        {
         "name": "TOTAL_PROJECT_FREIGHT_COST",
         "rawType": "float64",
         "type": "float"
        }
       ],
       "conversionMethod": "pd.DataFrame",
       "ref": "2a563a61-91dc-4659-a280-339fbf580921",
       "rows": [
        [
         "23",
         "ProSpectra Ceritos",
         "1639.4470543887992"
        ],
        [
         "32",
         "Select Prefab Solut",
         "1117.7082632667125"
        ],
        [
         "21",
         "Kiefer USA",
         "784.3849663966913"
        ],
        [
         "10",
         "Diverzify Itasca",
         "562.6214041024355"
        ],
        [
         "24",
         "ProSpectra Las Vegas",
         "472.48288495575224"
        ],
        [
         "2",
         "Continental Floors",
         "418.34085748975565"
        ],
        [
         "33",
         "Spectra Austin",
         "392.9372043010753"
        ],
        [
         "46",
         "Spectra Norcross",
         "348.80770567718866"
        ],
        [
         "47",
         "Spectra Pelham",
         "323.8136167979003"
        ],
        [
         "34",
         "Spectra Columbus",
         "323.6120668500106"
        ],
        [
         "22",
         "Pavillion Floors",
         "321.9655773924213"
        ],
        [
         "40",
         "Spectra JAXville EP",
         "298.580243902439"
        ],
        [
         "35",
         "Spectra Coppell",
         "296.0591001743848"
        ],
        [
         "53",
         "Spectra Tukwila",
         "295.70166820276495"
        ],
        [
         "5",
         "Div National Accts",
         "289.4131017293998"
        ],
        [
         "27",
         "ProSpectra Union Cty",
         "274.57714783281733"
        ],
        [
         "25",
         "ProSpectra Poway",
         "266.9799800796813"
        ],
        [
         "37",
         "Spectra Harrisburg",
         "245.034547742413"
        ],
        [
         "43",
         "Spectra Longwood",
         "237.35473137376786"
        ],
        [
         "3",
         "Contract Carpet Gov",
         "215.3767246499788"
        ],
        [
         "44",
         "Spectra Los Angeles",
         "207.52588855094504"
        ],
        [
         "38",
         "Spectra Houston",
         "203.97890591513072"
        ],
        [
         "45",
         "Spectra Louisville",
         "198.0895832167832"
        ],
        [
         "39",
         "Spectra Huntsville",
         "190.50286104783598"
        ],
        [
         "31",
         "SCF - Fithian",
         "186.41643031784844"
        ],
        [
         "41",
         "Spectra Jacksonville",
         "178.75743034326143"
        ],
        [
         "6",
         "Diverzify Cincinnati",
         "169.5868575869903"
        ],
        [
         "50",
         "Spectra Tampa",
         "169.5518240850059"
        ],
        [
         "49",
         "Spectra Sterling",
         "168.53666666666666"
        ],
        [
         "51",
         "Spectra Tempe",
         "165.43642459063489"
        ],
        [
         "54",
         "Spectra W Valley Cty",
         "162.98013033707863"
        ],
        [
         "52",
         "Spectra Tigard",
         "149.27756756756756"
        ],
        [
         "28",
         "RD Weis Hawthorn",
         "145.8185017038584"
        ],
        [
         "36",
         "Spectra Denver",
         "142.31636237285994"
        ],
        [
         "4",
         "Contract Carpet Sol",
         "141.221944066644"
        ],
        [
         "48",
         "Spectra San Antonio",
         "139.4476506369792"
        ],
        [
         "42",
         "Spectra Lockland",
         "136.41150246305418"
        ],
        [
         "56",
         "Wright",
         "130.29521929824563"
        ],
        [
         "12",
         "Diverzify St. Louis",
         "128.73495402920497"
        ],
        [
         "9",
         "Diverzify Indy",
         "124.60616962645437"
        ],
        [
         "0",
         "Beckers New Brighton",
         "118.6783215316024"
        ],
        [
         "20",
         "Kenny Floor Covering",
         "118.58349949647531"
        ],
        [
         "16",
         "Floor Sol Charleston",
         "100.50128126906651"
        ],
        [
         "1",
         "Beckers Saint Cloud",
         "98.3289797979798"
        ],
        [
         "18",
         "Floor Sol New Hanovr",
         "88.89386417415996"
        ],
        [
         "19",
         "Floor Sol Union",
         "80.38607693338695"
        ],
        [
         "17",
         "Floor Sol Greensboro",
         "76.41948795180723"
        ],
        [
         "7",
         "Diverzify Columbus",
         "57.88333333333333"
        ],
        [
         "26",
         "ProSpectra Sacrament",
         "49.497890625"
        ],
        [
         "14",
         "Epoxy SI",
         "40.64555208983157"
        ]
       ],
       "shape": {
        "columns": 2,
        "rows": 57
       }
      },
      "text/html": [
       "<div>\n",
       "<style scoped>\n",
       "    .dataframe tbody tr th:only-of-type {\n",
       "        vertical-align: middle;\n",
       "    }\n",
       "\n",
       "    .dataframe tbody tr th {\n",
       "        vertical-align: top;\n",
       "    }\n",
       "\n",
       "    .dataframe thead th {\n",
       "        text-align: right;\n",
       "    }\n",
       "</style>\n",
       "<table border=\"1\" class=\"dataframe\">\n",
       "  <thead>\n",
       "    <tr style=\"text-align: right;\">\n",
       "      <th></th>\n",
       "      <th>SITE DESCRIPTION</th>\n",
       "      <th>TOTAL_PROJECT_FREIGHT_COST</th>\n",
       "    </tr>\n",
       "  </thead>\n",
       "  <tbody>\n",
       "    <tr>\n",
       "      <th>23</th>\n",
       "      <td>ProSpectra Ceritos</td>\n",
       "      <td>1639.447054</td>\n",
       "    </tr>\n",
       "    <tr>\n",
       "      <th>32</th>\n",
       "      <td>Select Prefab Solut</td>\n",
       "      <td>1117.708263</td>\n",
       "    </tr>\n",
       "    <tr>\n",
       "      <th>21</th>\n",
       "      <td>Kiefer USA</td>\n",
       "      <td>784.384966</td>\n",
       "    </tr>\n",
       "    <tr>\n",
       "      <th>10</th>\n",
       "      <td>Diverzify Itasca</td>\n",
       "      <td>562.621404</td>\n",
       "    </tr>\n",
       "    <tr>\n",
       "      <th>24</th>\n",
       "      <td>ProSpectra Las Vegas</td>\n",
       "      <td>472.482885</td>\n",
       "    </tr>\n",
       "    <tr>\n",
       "      <th>2</th>\n",
       "      <td>Continental Floors</td>\n",
       "      <td>418.340857</td>\n",
       "    </tr>\n",
       "    <tr>\n",
       "      <th>33</th>\n",
       "      <td>Spectra Austin</td>\n",
       "      <td>392.937204</td>\n",
       "    </tr>\n",
       "    <tr>\n",
       "      <th>46</th>\n",
       "      <td>Spectra Norcross</td>\n",
       "      <td>348.807706</td>\n",
       "    </tr>\n",
       "    <tr>\n",
       "      <th>47</th>\n",
       "      <td>Spectra Pelham</td>\n",
       "      <td>323.813617</td>\n",
       "    </tr>\n",
       "    <tr>\n",
       "      <th>34</th>\n",
       "      <td>Spectra Columbus</td>\n",
       "      <td>323.612067</td>\n",
       "    </tr>\n",
       "    <tr>\n",
       "      <th>22</th>\n",
       "      <td>Pavillion Floors</td>\n",
       "      <td>321.965577</td>\n",
       "    </tr>\n",
       "    <tr>\n",
       "      <th>40</th>\n",
       "      <td>Spectra JAXville EP</td>\n",
       "      <td>298.580244</td>\n",
       "    </tr>\n",
       "    <tr>\n",
       "      <th>35</th>\n",
       "      <td>Spectra Coppell</td>\n",
       "      <td>296.059100</td>\n",
       "    </tr>\n",
       "    <tr>\n",
       "      <th>53</th>\n",
       "      <td>Spectra Tukwila</td>\n",
       "      <td>295.701668</td>\n",
       "    </tr>\n",
       "    <tr>\n",
       "      <th>5</th>\n",
       "      <td>Div National Accts</td>\n",
       "      <td>289.413102</td>\n",
       "    </tr>\n",
       "    <tr>\n",
       "      <th>27</th>\n",
       "      <td>ProSpectra Union Cty</td>\n",
       "      <td>274.577148</td>\n",
       "    </tr>\n",
       "    <tr>\n",
       "      <th>25</th>\n",
       "      <td>ProSpectra Poway</td>\n",
       "      <td>266.979980</td>\n",
       "    </tr>\n",
       "    <tr>\n",
       "      <th>37</th>\n",
       "      <td>Spectra Harrisburg</td>\n",
       "      <td>245.034548</td>\n",
       "    </tr>\n",
       "    <tr>\n",
       "      <th>43</th>\n",
       "      <td>Spectra Longwood</td>\n",
       "      <td>237.354731</td>\n",
       "    </tr>\n",
       "    <tr>\n",
       "      <th>3</th>\n",
       "      <td>Contract Carpet Gov</td>\n",
       "      <td>215.376725</td>\n",
       "    </tr>\n",
       "    <tr>\n",
       "      <th>44</th>\n",
       "      <td>Spectra Los Angeles</td>\n",
       "      <td>207.525889</td>\n",
       "    </tr>\n",
       "    <tr>\n",
       "      <th>38</th>\n",
       "      <td>Spectra Houston</td>\n",
       "      <td>203.978906</td>\n",
       "    </tr>\n",
       "    <tr>\n",
       "      <th>45</th>\n",
       "      <td>Spectra Louisville</td>\n",
       "      <td>198.089583</td>\n",
       "    </tr>\n",
       "    <tr>\n",
       "      <th>39</th>\n",
       "      <td>Spectra Huntsville</td>\n",
       "      <td>190.502861</td>\n",
       "    </tr>\n",
       "    <tr>\n",
       "      <th>31</th>\n",
       "      <td>SCF - Fithian</td>\n",
       "      <td>186.416430</td>\n",
       "    </tr>\n",
       "    <tr>\n",
       "      <th>41</th>\n",
       "      <td>Spectra Jacksonville</td>\n",
       "      <td>178.757430</td>\n",
       "    </tr>\n",
       "    <tr>\n",
       "      <th>6</th>\n",
       "      <td>Diverzify Cincinnati</td>\n",
       "      <td>169.586858</td>\n",
       "    </tr>\n",
       "    <tr>\n",
       "      <th>50</th>\n",
       "      <td>Spectra Tampa</td>\n",
       "      <td>169.551824</td>\n",
       "    </tr>\n",
       "    <tr>\n",
       "      <th>49</th>\n",
       "      <td>Spectra Sterling</td>\n",
       "      <td>168.536667</td>\n",
       "    </tr>\n",
       "    <tr>\n",
       "      <th>51</th>\n",
       "      <td>Spectra Tempe</td>\n",
       "      <td>165.436425</td>\n",
       "    </tr>\n",
       "    <tr>\n",
       "      <th>54</th>\n",
       "      <td>Spectra W Valley Cty</td>\n",
       "      <td>162.980130</td>\n",
       "    </tr>\n",
       "    <tr>\n",
       "      <th>52</th>\n",
       "      <td>Spectra Tigard</td>\n",
       "      <td>149.277568</td>\n",
       "    </tr>\n",
       "    <tr>\n",
       "      <th>28</th>\n",
       "      <td>RD Weis Hawthorn</td>\n",
       "      <td>145.818502</td>\n",
       "    </tr>\n",
       "    <tr>\n",
       "      <th>36</th>\n",
       "      <td>Spectra Denver</td>\n",
       "      <td>142.316362</td>\n",
       "    </tr>\n",
       "    <tr>\n",
       "      <th>4</th>\n",
       "      <td>Contract Carpet Sol</td>\n",
       "      <td>141.221944</td>\n",
       "    </tr>\n",
       "    <tr>\n",
       "      <th>48</th>\n",
       "      <td>Spectra San Antonio</td>\n",
       "      <td>139.447651</td>\n",
       "    </tr>\n",
       "    <tr>\n",
       "      <th>42</th>\n",
       "      <td>Spectra Lockland</td>\n",
       "      <td>136.411502</td>\n",
       "    </tr>\n",
       "    <tr>\n",
       "      <th>56</th>\n",
       "      <td>Wright</td>\n",
       "      <td>130.295219</td>\n",
       "    </tr>\n",
       "    <tr>\n",
       "      <th>12</th>\n",
       "      <td>Diverzify St. Louis</td>\n",
       "      <td>128.734954</td>\n",
       "    </tr>\n",
       "    <tr>\n",
       "      <th>9</th>\n",
       "      <td>Diverzify Indy</td>\n",
       "      <td>124.606170</td>\n",
       "    </tr>\n",
       "    <tr>\n",
       "      <th>0</th>\n",
       "      <td>Beckers New Brighton</td>\n",
       "      <td>118.678322</td>\n",
       "    </tr>\n",
       "    <tr>\n",
       "      <th>20</th>\n",
       "      <td>Kenny Floor Covering</td>\n",
       "      <td>118.583499</td>\n",
       "    </tr>\n",
       "    <tr>\n",
       "      <th>16</th>\n",
       "      <td>Floor Sol Charleston</td>\n",
       "      <td>100.501281</td>\n",
       "    </tr>\n",
       "    <tr>\n",
       "      <th>1</th>\n",
       "      <td>Beckers Saint Cloud</td>\n",
       "      <td>98.328980</td>\n",
       "    </tr>\n",
       "    <tr>\n",
       "      <th>18</th>\n",
       "      <td>Floor Sol New Hanovr</td>\n",
       "      <td>88.893864</td>\n",
       "    </tr>\n",
       "    <tr>\n",
       "      <th>19</th>\n",
       "      <td>Floor Sol Union</td>\n",
       "      <td>80.386077</td>\n",
       "    </tr>\n",
       "    <tr>\n",
       "      <th>17</th>\n",
       "      <td>Floor Sol Greensboro</td>\n",
       "      <td>76.419488</td>\n",
       "    </tr>\n",
       "    <tr>\n",
       "      <th>7</th>\n",
       "      <td>Diverzify Columbus</td>\n",
       "      <td>57.883333</td>\n",
       "    </tr>\n",
       "    <tr>\n",
       "      <th>26</th>\n",
       "      <td>ProSpectra Sacrament</td>\n",
       "      <td>49.497891</td>\n",
       "    </tr>\n",
       "    <tr>\n",
       "      <th>14</th>\n",
       "      <td>Epoxy SI</td>\n",
       "      <td>40.645552</td>\n",
       "    </tr>\n",
       "    <tr>\n",
       "      <th>11</th>\n",
       "      <td>Diverzify Nashville</td>\n",
       "      <td>24.628462</td>\n",
       "    </tr>\n",
       "    <tr>\n",
       "      <th>8</th>\n",
       "      <td>Diverzify HQ</td>\n",
       "      <td>0.996320</td>\n",
       "    </tr>\n",
       "    <tr>\n",
       "      <th>55</th>\n",
       "      <td>Transaction Services</td>\n",
       "      <td>0.000000</td>\n",
       "    </tr>\n",
       "    <tr>\n",
       "      <th>30</th>\n",
       "      <td>RD Weis New York</td>\n",
       "      <td>0.000000</td>\n",
       "    </tr>\n",
       "    <tr>\n",
       "      <th>13</th>\n",
       "      <td>Diverzify Tampa</td>\n",
       "      <td>0.000000</td>\n",
       "    </tr>\n",
       "    <tr>\n",
       "      <th>29</th>\n",
       "      <td>RD Weis Henrietta</td>\n",
       "      <td>0.000000</td>\n",
       "    </tr>\n",
       "    <tr>\n",
       "      <th>15</th>\n",
       "      <td>Floor Maint Group</td>\n",
       "      <td>0.000000</td>\n",
       "    </tr>\n",
       "  </tbody>\n",
       "</table>\n",
       "</div>"
      ],
      "text/plain": [
       "        SITE DESCRIPTION  TOTAL_PROJECT_FREIGHT_COST\n",
       "23    ProSpectra Ceritos                 1639.447054\n",
       "32   Select Prefab Solut                 1117.708263\n",
       "21            Kiefer USA                  784.384966\n",
       "10      Diverzify Itasca                  562.621404\n",
       "24  ProSpectra Las Vegas                  472.482885\n",
       "2     Continental Floors                  418.340857\n",
       "33        Spectra Austin                  392.937204\n",
       "46      Spectra Norcross                  348.807706\n",
       "47        Spectra Pelham                  323.813617\n",
       "34      Spectra Columbus                  323.612067\n",
       "22      Pavillion Floors                  321.965577\n",
       "40   Spectra JAXville EP                  298.580244\n",
       "35       Spectra Coppell                  296.059100\n",
       "53       Spectra Tukwila                  295.701668\n",
       "5     Div National Accts                  289.413102\n",
       "27  ProSpectra Union Cty                  274.577148\n",
       "25      ProSpectra Poway                  266.979980\n",
       "37    Spectra Harrisburg                  245.034548\n",
       "43      Spectra Longwood                  237.354731\n",
       "3    Contract Carpet Gov                  215.376725\n",
       "44   Spectra Los Angeles                  207.525889\n",
       "38       Spectra Houston                  203.978906\n",
       "45    Spectra Louisville                  198.089583\n",
       "39    Spectra Huntsville                  190.502861\n",
       "31         SCF - Fithian                  186.416430\n",
       "41  Spectra Jacksonville                  178.757430\n",
       "6   Diverzify Cincinnati                  169.586858\n",
       "50         Spectra Tampa                  169.551824\n",
       "49      Spectra Sterling                  168.536667\n",
       "51         Spectra Tempe                  165.436425\n",
       "54  Spectra W Valley Cty                  162.980130\n",
       "52        Spectra Tigard                  149.277568\n",
       "28      RD Weis Hawthorn                  145.818502\n",
       "36        Spectra Denver                  142.316362\n",
       "4    Contract Carpet Sol                  141.221944\n",
       "48   Spectra San Antonio                  139.447651\n",
       "42      Spectra Lockland                  136.411502\n",
       "56                Wright                  130.295219\n",
       "12   Diverzify St. Louis                  128.734954\n",
       "9         Diverzify Indy                  124.606170\n",
       "0   Beckers New Brighton                  118.678322\n",
       "20  Kenny Floor Covering                  118.583499\n",
       "16  Floor Sol Charleston                  100.501281\n",
       "1    Beckers Saint Cloud                   98.328980\n",
       "18  Floor Sol New Hanovr                   88.893864\n",
       "19       Floor Sol Union                   80.386077\n",
       "17  Floor Sol Greensboro                   76.419488\n",
       "7     Diverzify Columbus                   57.883333\n",
       "26  ProSpectra Sacrament                   49.497891\n",
       "14              Epoxy SI                   40.645552\n",
       "11   Diverzify Nashville                   24.628462\n",
       "8           Diverzify HQ                    0.996320\n",
       "55  Transaction Services                    0.000000\n",
       "30      RD Weis New York                    0.000000\n",
       "13       Diverzify Tampa                    0.000000\n",
       "29     RD Weis Henrietta                    0.000000\n",
       "15     Floor Maint Group                    0.000000"
      ]
     },
     "execution_count": 25,
     "metadata": {},
     "output_type": "execute_result"
    }
   ],
   "source": [
    "site_freight_summary = df_filtered.groupby('SITE DESCRIPTION', as_index=False)['PROJECT_FREIGHT_COST'].mean().sort_values(by='PROJECT_FREIGHT_COST', ascending=False)\n",
    "site_freight_summary.rename(columns={'PROJECT_FREIGHT_COST': 'TOTAL_PROJECT_FREIGHT_COST'}, inplace=True)\n",
    "site_freight_summary"
   ]
  },
  {
   "cell_type": "code",
   "execution_count": 26,
   "metadata": {},
   "outputs": [
    {
     "data": {
      "application/vnd.microsoft.datawrangler.viewer.v0+json": {
       "columns": [
        {
         "name": "index",
         "rawType": "int64",
         "type": "integer"
        },
        {
         "name": "SITE DESCRIPTION",
         "rawType": "object",
         "type": "string"
        },
        {
         "name": "TOTAL_PROJECT_FREIGHT_COST",
         "rawType": "float64",
         "type": "float"
        },
        {
         "name": "UNIQUE_PO_COUNT",
         "rawType": "int64",
         "type": "integer"
        }
       ],
       "conversionMethod": "pd.DataFrame",
       "ref": "31e5e9d5-9e93-4b55-9b08-02cbc7619571",
       "rows": [
        [
         "0",
         "ProSpectra Ceritos",
         "1639.4470543887992",
         "460"
        ],
        [
         "1",
         "Select Prefab Solut",
         "1117.7082632667125",
         "641"
        ],
        [
         "2",
         "Kiefer USA",
         "784.3849663966913",
         "1262"
        ],
        [
         "3",
         "Diverzify Itasca",
         "562.6214041024355",
         "6491"
        ],
        [
         "4",
         "ProSpectra Las Vegas",
         "472.48288495575224",
         "132"
        ]
       ],
       "shape": {
        "columns": 3,
        "rows": 5
       }
      },
      "text/html": [
       "<div>\n",
       "<style scoped>\n",
       "    .dataframe tbody tr th:only-of-type {\n",
       "        vertical-align: middle;\n",
       "    }\n",
       "\n",
       "    .dataframe tbody tr th {\n",
       "        vertical-align: top;\n",
       "    }\n",
       "\n",
       "    .dataframe thead th {\n",
       "        text-align: right;\n",
       "    }\n",
       "</style>\n",
       "<table border=\"1\" class=\"dataframe\">\n",
       "  <thead>\n",
       "    <tr style=\"text-align: right;\">\n",
       "      <th></th>\n",
       "      <th>SITE DESCRIPTION</th>\n",
       "      <th>TOTAL_PROJECT_FREIGHT_COST</th>\n",
       "      <th>UNIQUE_PO_COUNT</th>\n",
       "    </tr>\n",
       "  </thead>\n",
       "  <tbody>\n",
       "    <tr>\n",
       "      <th>0</th>\n",
       "      <td>ProSpectra Ceritos</td>\n",
       "      <td>1639.447054</td>\n",
       "      <td>460</td>\n",
       "    </tr>\n",
       "    <tr>\n",
       "      <th>1</th>\n",
       "      <td>Select Prefab Solut</td>\n",
       "      <td>1117.708263</td>\n",
       "      <td>641</td>\n",
       "    </tr>\n",
       "    <tr>\n",
       "      <th>2</th>\n",
       "      <td>Kiefer USA</td>\n",
       "      <td>784.384966</td>\n",
       "      <td>1262</td>\n",
       "    </tr>\n",
       "    <tr>\n",
       "      <th>3</th>\n",
       "      <td>Diverzify Itasca</td>\n",
       "      <td>562.621404</td>\n",
       "      <td>6491</td>\n",
       "    </tr>\n",
       "    <tr>\n",
       "      <th>4</th>\n",
       "      <td>ProSpectra Las Vegas</td>\n",
       "      <td>472.482885</td>\n",
       "      <td>132</td>\n",
       "    </tr>\n",
       "  </tbody>\n",
       "</table>\n",
       "</div>"
      ],
      "text/plain": [
       "       SITE DESCRIPTION  TOTAL_PROJECT_FREIGHT_COST  UNIQUE_PO_COUNT\n",
       "0    ProSpectra Ceritos                 1639.447054              460\n",
       "1   Select Prefab Solut                 1117.708263              641\n",
       "2            Kiefer USA                  784.384966             1262\n",
       "3      Diverzify Itasca                  562.621404             6491\n",
       "4  ProSpectra Las Vegas                  472.482885              132"
      ]
     },
     "execution_count": 26,
     "metadata": {},
     "output_type": "execute_result"
    }
   ],
   "source": [
    "# Merge site_freight_summary and site_summary on 'SITE DESCRIPTION'\n",
    "merged_site_summary = site_freight_summary.merge(site_summary, on='SITE DESCRIPTION', how='inner')\n",
    "\n",
    "# Display the first few rows of the merged DataFrame\n",
    "merged_site_summary.head()"
   ]
  },
  {
   "cell_type": "code",
   "execution_count": null,
   "metadata": {},
   "outputs": [],
   "source": []
  },
  {
   "cell_type": "code",
   "execution_count": null,
   "metadata": {},
   "outputs": [],
   "source": [
    "# Filter for rows where ACCOUNT is 2008\n",
    "account_2008_df = merged_df[merged_df['ACCOUNT'] == 2008]\n",
    "\n",
    "# Group by 'PO NO' and check if all rows in each group have 'Priority' == 'Yes'\n",
    "priority_2008_flag = df_filtered[df_filtered['ACCOUNT'] == 2008].groupby('PO NO')['Priority'].apply(lambda x: (x == 'Yes').all()).reset_index(name='ALL_PRIORITY_2008')\n",
    "\n",
    "# Merge the result back to the filtered DataFrame\n",
    "df_filtered = df_filtered.merge(priority_2008_flag, on='PO NO', how='left')\n",
    "\n",
    "# Fill NaN values with False for the new column\n",
    "df_filtered['ALL_PRIORITY_2008'] = df_filtered['ALL_PRIORITY_2008'].fillna(False)\n",
    "\n",
    "# Flag the PO NOs where all rows with ACCOUNT = 2008 have 'Priority' == 'Yes'\n",
    "df_filtered['PRIORITY_PO_FLAG_2008'] = df_filtered['ALL_PRIORITY_2008']"
   ]
  },
  {
   "cell_type": "code",
   "execution_count": null,
   "metadata": {},
   "outputs": [
    {
     "data": {
      "text/plain": [
       "(441707, 37)"
      ]
     },
     "execution_count": 20,
     "metadata": {},
     "output_type": "execute_result"
    }
   ],
   "source": [
    "df_filtered.shape"
   ]
  },
  {
   "cell_type": "code",
   "execution_count": null,
   "metadata": {},
   "outputs": [
    {
     "data": {
      "application/vnd.microsoft.datawrangler.viewer.v0+json": {
       "columns": [
        {
         "name": "index",
         "rawType": "int64",
         "type": "integer"
        },
        {
         "name": "PRIORITY_PO_FLAG_2008",
         "rawType": "bool",
         "type": "boolean"
        },
        {
         "name": "COUNT",
         "rawType": "int64",
         "type": "integer"
        }
       ],
       "conversionMethod": "pd.DataFrame",
       "ref": "2840e8ed-e833-4ae3-917d-8cbbcaa97c2e",
       "rows": [
        [
         "0",
         "False",
         "126444"
        ],
        [
         "1",
         "True",
         "13860"
        ]
       ],
       "shape": {
        "columns": 2,
        "rows": 2
       }
      },
      "text/html": [
       "<div>\n",
       "<style scoped>\n",
       "    .dataframe tbody tr th:only-of-type {\n",
       "        vertical-align: middle;\n",
       "    }\n",
       "\n",
       "    .dataframe tbody tr th {\n",
       "        vertical-align: top;\n",
       "    }\n",
       "\n",
       "    .dataframe thead th {\n",
       "        text-align: right;\n",
       "    }\n",
       "</style>\n",
       "<table border=\"1\" class=\"dataframe\">\n",
       "  <thead>\n",
       "    <tr style=\"text-align: right;\">\n",
       "      <th></th>\n",
       "      <th>PRIORITY_PO_FLAG_2008</th>\n",
       "      <th>COUNT</th>\n",
       "    </tr>\n",
       "  </thead>\n",
       "  <tbody>\n",
       "    <tr>\n",
       "      <th>0</th>\n",
       "      <td>False</td>\n",
       "      <td>126444</td>\n",
       "    </tr>\n",
       "    <tr>\n",
       "      <th>1</th>\n",
       "      <td>True</td>\n",
       "      <td>13860</td>\n",
       "    </tr>\n",
       "  </tbody>\n",
       "</table>\n",
       "</div>"
      ],
      "text/plain": [
       "   PRIORITY_PO_FLAG_2008   COUNT\n",
       "0                  False  126444\n",
       "1                   True   13860"
      ]
     },
     "execution_count": 41,
     "metadata": {},
     "output_type": "execute_result"
    }
   ],
   "source": [
    "negative_freight_summary = df_filtered.pivot_table(\n",
    "    index='PRIORITY_PO_FLAG_2008',\n",
    "    values='PO NO',\n",
    "    aggfunc=lambda X: len(X.unique()),\n",
    ").reset_index()\n",
    "\n",
    "negative_freight_summary.rename(columns={'PO NO': 'COUNT'}, inplace=True)\n",
    "negative_freight_summary"
   ]
  },
  {
   "cell_type": "code",
   "execution_count": null,
   "metadata": {},
   "outputs": [
    {
     "data": {
      "text/plain": [
       "45"
      ]
     },
     "execution_count": 45,
     "metadata": {},
     "output_type": "execute_result"
    }
   ],
   "source": [
    "# Stage 1: Filter where PO_HAS_PROJECT_FREIGHT is True\n",
    "stage1_df = df_filtered[df_filtered['PO_HAS_PROJECT_FREIGHT'] == True]\n",
    "\n",
    "# Stage 2: Filter where NEGATIVE_FREIGHT_PERCENT is False\n",
    "stage2_df = stage1_df[stage1_df['NEGATIVE_FREIGHT_PERCENT'] == False]\n",
    "\n",
    "# Stage 3: Filter where PRIORITY_PO_FLAG_2008 is True\n",
    "final_filtered_df = stage2_df[stage2_df['PRIORITY_PO_FLAG_2008'] == True]\n",
    "\n",
    "# Display the resulting DataFrame\n",
    "final_filtered_df['SITE'].nunique()"
   ]
  },
  {
   "cell_type": "code",
   "execution_count": null,
   "metadata": {},
   "outputs": [],
   "source": []
  },
  {
   "cell_type": "code",
   "execution_count": 60,
   "metadata": {},
   "outputs": [
    {
     "data": {
      "application/vnd.microsoft.datawrangler.viewer.v0+json": {
       "columns": [
        {
         "name": "index",
         "rawType": "int64",
         "type": "integer"
        },
        {
         "name": "SHIP TO ZIP",
         "rawType": "object",
         "type": "string"
        },
        {
         "name": "PO NO",
         "rawType": "int64",
         "type": "integer"
        }
       ],
       "conversionMethod": "pd.DataFrame",
       "ref": "a86c129a-27bc-4e94-baab-591029919d24",
       "rows": [
        [
         "0",
         "28079",
         "29"
        ],
        [
         "1",
         "30071",
         "23"
        ],
        [
         "2",
         "45215",
         "23"
        ],
        [
         "3",
         "33605",
         "22"
        ],
        [
         "4",
         "78247",
         "21"
        ],
        [
         "5",
         "32750",
         "20"
        ],
        [
         "6",
         "77040",
         "16"
        ],
        [
         "7",
         "32256",
         "15"
        ],
        [
         "8",
         "17111",
         "14"
        ],
        [
         "9",
         "75019",
         "14"
        ],
        [
         "10",
         "60143",
         "13"
        ],
        [
         "11",
         "84120",
         "12"
        ],
        [
         "12",
         "40228",
         "11"
        ],
        [
         "13",
         "27407",
         "9"
        ],
        [
         "14",
         "98188",
         "7"
        ],
        [
         "15",
         "20166",
         "7"
        ],
        [
         "16",
         "90630",
         "6"
        ],
        [
         "17",
         "35758",
         "6"
        ],
        [
         "18",
         "43228",
         "5"
        ],
        [
         "19",
         "85283",
         "5"
        ],
        [
         "20",
         "92127",
         "4"
        ],
        [
         "21",
         "80112",
         "3"
        ],
        [
         "22",
         "89118",
         "3"
        ],
        [
         "23",
         "43229",
         "3"
        ],
        [
         "24",
         "80223",
         "3"
        ],
        [
         "25",
         "35244",
         "3"
        ],
        [
         "26",
         "46268",
         "3"
        ],
        [
         "27",
         "90703",
         "2"
        ],
        [
         "28",
         "91311",
         "2"
        ],
        [
         "29",
         "97223",
         "2"
        ],
        [
         "30",
         "98105",
         "2"
        ],
        [
         "31",
         "30326",
         "1"
        ],
        [
         "32",
         "31322",
         "1"
        ],
        [
         "33",
         "60448",
         "1"
        ],
        [
         "34",
         "19468",
         "1"
        ],
        [
         "35",
         "48152",
         "1"
        ],
        [
         "36",
         "38112",
         "1"
        ],
        [
         "37",
         "92234",
         "1"
        ],
        [
         "38",
         "94587",
         "1"
        ],
        [
         "39",
         "60018",
         "1"
        ]
       ],
       "shape": {
        "columns": 2,
        "rows": 40
       }
      },
      "text/html": [
       "<div>\n",
       "<style scoped>\n",
       "    .dataframe tbody tr th:only-of-type {\n",
       "        vertical-align: middle;\n",
       "    }\n",
       "\n",
       "    .dataframe tbody tr th {\n",
       "        vertical-align: top;\n",
       "    }\n",
       "\n",
       "    .dataframe thead th {\n",
       "        text-align: right;\n",
       "    }\n",
       "</style>\n",
       "<table border=\"1\" class=\"dataframe\">\n",
       "  <thead>\n",
       "    <tr style=\"text-align: right;\">\n",
       "      <th></th>\n",
       "      <th>SHIP TO ZIP</th>\n",
       "      <th>PO NO</th>\n",
       "    </tr>\n",
       "  </thead>\n",
       "  <tbody>\n",
       "    <tr>\n",
       "      <th>0</th>\n",
       "      <td>28079</td>\n",
       "      <td>29</td>\n",
       "    </tr>\n",
       "    <tr>\n",
       "      <th>1</th>\n",
       "      <td>30071</td>\n",
       "      <td>23</td>\n",
       "    </tr>\n",
       "    <tr>\n",
       "      <th>2</th>\n",
       "      <td>45215</td>\n",
       "      <td>23</td>\n",
       "    </tr>\n",
       "    <tr>\n",
       "      <th>3</th>\n",
       "      <td>33605</td>\n",
       "      <td>22</td>\n",
       "    </tr>\n",
       "    <tr>\n",
       "      <th>4</th>\n",
       "      <td>78247</td>\n",
       "      <td>21</td>\n",
       "    </tr>\n",
       "    <tr>\n",
       "      <th>5</th>\n",
       "      <td>32750</td>\n",
       "      <td>20</td>\n",
       "    </tr>\n",
       "    <tr>\n",
       "      <th>6</th>\n",
       "      <td>77040</td>\n",
       "      <td>16</td>\n",
       "    </tr>\n",
       "    <tr>\n",
       "      <th>7</th>\n",
       "      <td>32256</td>\n",
       "      <td>15</td>\n",
       "    </tr>\n",
       "    <tr>\n",
       "      <th>8</th>\n",
       "      <td>17111</td>\n",
       "      <td>14</td>\n",
       "    </tr>\n",
       "    <tr>\n",
       "      <th>9</th>\n",
       "      <td>75019</td>\n",
       "      <td>14</td>\n",
       "    </tr>\n",
       "    <tr>\n",
       "      <th>10</th>\n",
       "      <td>60143</td>\n",
       "      <td>13</td>\n",
       "    </tr>\n",
       "    <tr>\n",
       "      <th>11</th>\n",
       "      <td>84120</td>\n",
       "      <td>12</td>\n",
       "    </tr>\n",
       "    <tr>\n",
       "      <th>12</th>\n",
       "      <td>40228</td>\n",
       "      <td>11</td>\n",
       "    </tr>\n",
       "    <tr>\n",
       "      <th>13</th>\n",
       "      <td>27407</td>\n",
       "      <td>9</td>\n",
       "    </tr>\n",
       "    <tr>\n",
       "      <th>14</th>\n",
       "      <td>98188</td>\n",
       "      <td>7</td>\n",
       "    </tr>\n",
       "    <tr>\n",
       "      <th>15</th>\n",
       "      <td>20166</td>\n",
       "      <td>7</td>\n",
       "    </tr>\n",
       "    <tr>\n",
       "      <th>16</th>\n",
       "      <td>90630</td>\n",
       "      <td>6</td>\n",
       "    </tr>\n",
       "    <tr>\n",
       "      <th>17</th>\n",
       "      <td>35758</td>\n",
       "      <td>6</td>\n",
       "    </tr>\n",
       "    <tr>\n",
       "      <th>18</th>\n",
       "      <td>43228</td>\n",
       "      <td>5</td>\n",
       "    </tr>\n",
       "    <tr>\n",
       "      <th>19</th>\n",
       "      <td>85283</td>\n",
       "      <td>5</td>\n",
       "    </tr>\n",
       "    <tr>\n",
       "      <th>20</th>\n",
       "      <td>92127</td>\n",
       "      <td>4</td>\n",
       "    </tr>\n",
       "    <tr>\n",
       "      <th>21</th>\n",
       "      <td>80112</td>\n",
       "      <td>3</td>\n",
       "    </tr>\n",
       "    <tr>\n",
       "      <th>22</th>\n",
       "      <td>89118</td>\n",
       "      <td>3</td>\n",
       "    </tr>\n",
       "    <tr>\n",
       "      <th>23</th>\n",
       "      <td>43229</td>\n",
       "      <td>3</td>\n",
       "    </tr>\n",
       "    <tr>\n",
       "      <th>24</th>\n",
       "      <td>80223</td>\n",
       "      <td>3</td>\n",
       "    </tr>\n",
       "    <tr>\n",
       "      <th>25</th>\n",
       "      <td>35244</td>\n",
       "      <td>3</td>\n",
       "    </tr>\n",
       "    <tr>\n",
       "      <th>26</th>\n",
       "      <td>46268</td>\n",
       "      <td>3</td>\n",
       "    </tr>\n",
       "    <tr>\n",
       "      <th>27</th>\n",
       "      <td>90703</td>\n",
       "      <td>2</td>\n",
       "    </tr>\n",
       "    <tr>\n",
       "      <th>28</th>\n",
       "      <td>91311</td>\n",
       "      <td>2</td>\n",
       "    </tr>\n",
       "    <tr>\n",
       "      <th>29</th>\n",
       "      <td>97223</td>\n",
       "      <td>2</td>\n",
       "    </tr>\n",
       "    <tr>\n",
       "      <th>30</th>\n",
       "      <td>98105</td>\n",
       "      <td>2</td>\n",
       "    </tr>\n",
       "    <tr>\n",
       "      <th>31</th>\n",
       "      <td>30326</td>\n",
       "      <td>1</td>\n",
       "    </tr>\n",
       "    <tr>\n",
       "      <th>32</th>\n",
       "      <td>31322</td>\n",
       "      <td>1</td>\n",
       "    </tr>\n",
       "    <tr>\n",
       "      <th>33</th>\n",
       "      <td>60448</td>\n",
       "      <td>1</td>\n",
       "    </tr>\n",
       "    <tr>\n",
       "      <th>34</th>\n",
       "      <td>19468</td>\n",
       "      <td>1</td>\n",
       "    </tr>\n",
       "    <tr>\n",
       "      <th>35</th>\n",
       "      <td>48152</td>\n",
       "      <td>1</td>\n",
       "    </tr>\n",
       "    <tr>\n",
       "      <th>36</th>\n",
       "      <td>38112</td>\n",
       "      <td>1</td>\n",
       "    </tr>\n",
       "    <tr>\n",
       "      <th>37</th>\n",
       "      <td>92234</td>\n",
       "      <td>1</td>\n",
       "    </tr>\n",
       "    <tr>\n",
       "      <th>38</th>\n",
       "      <td>94587</td>\n",
       "      <td>1</td>\n",
       "    </tr>\n",
       "    <tr>\n",
       "      <th>39</th>\n",
       "      <td>60018</td>\n",
       "      <td>1</td>\n",
       "    </tr>\n",
       "  </tbody>\n",
       "</table>\n",
       "</div>"
      ],
      "text/plain": [
       "   SHIP TO ZIP  PO NO\n",
       "0        28079     29\n",
       "1        30071     23\n",
       "2        45215     23\n",
       "3        33605     22\n",
       "4        78247     21\n",
       "5        32750     20\n",
       "6        77040     16\n",
       "7        32256     15\n",
       "8        17111     14\n",
       "9        75019     14\n",
       "10       60143     13\n",
       "11       84120     12\n",
       "12       40228     11\n",
       "13       27407      9\n",
       "14       98188      7\n",
       "15       20166      7\n",
       "16       90630      6\n",
       "17       35758      6\n",
       "18       43228      5\n",
       "19       85283      5\n",
       "20       92127      4\n",
       "21       80112      3\n",
       "22       89118      3\n",
       "23       43229      3\n",
       "24       80223      3\n",
       "25       35244      3\n",
       "26       46268      3\n",
       "27       90703      2\n",
       "28       91311      2\n",
       "29       97223      2\n",
       "30       98105      2\n",
       "31       30326      1\n",
       "32       31322      1\n",
       "33       60448      1\n",
       "34       19468      1\n",
       "35       48152      1\n",
       "36       38112      1\n",
       "37       92234      1\n",
       "38       94587      1\n",
       "39       60018      1"
      ]
     },
     "execution_count": 60,
     "metadata": {},
     "output_type": "execute_result"
    }
   ],
   "source": [
    "# Filter rows where Account equals 5504\n",
    "account_5504_df = final_filtered_df[final_filtered_df['ACCOUNT'] == 5504]\n",
    "\n",
    "# Group by SITE and sum the INVOICE LINE TOTAL\n",
    "po_zip_account_5504_summary = account_5504_df.groupby('SHIP TO ZIP', as_index=False)['PO NO'].nunique().sort_values(\n",
    "    by='PO NO', ascending=False).reset_index(drop=True)\n",
    "\n",
    "# Rename the column for clarity\n",
    "po_zip_account_5504_summary.rename(columns={'INVOICE LINE TOTAL': 'TOTAL_INVOICE_LINE_5504'}, inplace=True)\n",
    "\n",
    "# Display the result\n",
    "po_zip_account_5504_summary"
   ]
  },
  {
   "cell_type": "code",
   "execution_count": 59,
   "metadata": {},
   "outputs": [
    {
     "data": {
      "application/vnd.microsoft.datawrangler.viewer.v0+json": {
       "columns": [
        {
         "name": "index",
         "rawType": "int64",
         "type": "integer"
        },
        {
         "name": "SHIP TO ZIP",
         "rawType": "object",
         "type": "string"
        },
        {
         "name": "TOTAL_INVOICE_LINE_5504",
         "rawType": "float64",
         "type": "float"
        }
       ],
       "conversionMethod": "pd.DataFrame",
       "ref": "a891e195-4367-401a-be17-7e8ff9783034",
       "rows": [
        [
         "0",
         "30071",
         "14754.98"
        ],
        [
         "1",
         "45215",
         "12129.369999999999"
        ],
        [
         "2",
         "77040",
         "12112.98"
        ],
        [
         "3",
         "32750",
         "11490.84"
        ],
        [
         "4",
         "84120",
         "11230.66"
        ],
        [
         "5",
         "75019",
         "10602.7"
        ],
        [
         "6",
         "40228",
         "8170.56"
        ],
        [
         "7",
         "78247",
         "7693.85"
        ],
        [
         "8",
         "28079",
         "6702.73"
        ],
        [
         "9",
         "33605",
         "5176.51"
        ],
        [
         "10",
         "32256",
         "5032.24"
        ],
        [
         "11",
         "60143",
         "4806.16"
        ],
        [
         "12",
         "85283",
         "3335.19"
        ],
        [
         "13",
         "80112",
         "2695.7200000000003"
        ],
        [
         "14",
         "20166",
         "2435.27"
        ],
        [
         "15",
         "30326",
         "2322.0"
        ],
        [
         "16",
         "17111",
         "2227.87"
        ],
        [
         "17",
         "80223",
         "1574.48"
        ],
        [
         "18",
         "46268",
         "1397.3500000000001"
        ],
        [
         "19",
         "27407",
         "1379.15"
        ],
        [
         "20",
         "60018",
         "1345.19"
        ],
        [
         "21",
         "98188",
         "1130.76"
        ],
        [
         "22",
         "90630",
         "1072.82"
        ],
        [
         "23",
         "43229",
         "936.92"
        ],
        [
         "24",
         "90703",
         "914.9300000000001"
        ],
        [
         "25",
         "48152",
         "780.0"
        ],
        [
         "26",
         "35758",
         "692.55"
        ],
        [
         "27",
         "97223",
         "578.67"
        ],
        [
         "28",
         "43228",
         "557.51"
        ],
        [
         "29",
         "35244",
         "540.67"
        ],
        [
         "30",
         "92127",
         "504.31"
        ],
        [
         "31",
         "60448",
         "389.24"
        ],
        [
         "32",
         "89118",
         "336.14"
        ],
        [
         "33",
         "98105",
         "291.26"
        ],
        [
         "34",
         "38112",
         "160.56"
        ],
        [
         "35",
         "91311",
         "119.89999999999999"
        ],
        [
         "36",
         "94587",
         "105.0"
        ],
        [
         "37",
         "19468",
         "100.0"
        ],
        [
         "38",
         "92234",
         "99.0"
        ],
        [
         "39",
         "31322",
         "37.9"
        ]
       ],
       "shape": {
        "columns": 2,
        "rows": 40
       }
      },
      "text/html": [
       "<div>\n",
       "<style scoped>\n",
       "    .dataframe tbody tr th:only-of-type {\n",
       "        vertical-align: middle;\n",
       "    }\n",
       "\n",
       "    .dataframe tbody tr th {\n",
       "        vertical-align: top;\n",
       "    }\n",
       "\n",
       "    .dataframe thead th {\n",
       "        text-align: right;\n",
       "    }\n",
       "</style>\n",
       "<table border=\"1\" class=\"dataframe\">\n",
       "  <thead>\n",
       "    <tr style=\"text-align: right;\">\n",
       "      <th></th>\n",
       "      <th>SHIP TO ZIP</th>\n",
       "      <th>TOTAL_INVOICE_LINE_5504</th>\n",
       "    </tr>\n",
       "  </thead>\n",
       "  <tbody>\n",
       "    <tr>\n",
       "      <th>0</th>\n",
       "      <td>30071</td>\n",
       "      <td>14754.98</td>\n",
       "    </tr>\n",
       "    <tr>\n",
       "      <th>1</th>\n",
       "      <td>45215</td>\n",
       "      <td>12129.37</td>\n",
       "    </tr>\n",
       "    <tr>\n",
       "      <th>2</th>\n",
       "      <td>77040</td>\n",
       "      <td>12112.98</td>\n",
       "    </tr>\n",
       "    <tr>\n",
       "      <th>3</th>\n",
       "      <td>32750</td>\n",
       "      <td>11490.84</td>\n",
       "    </tr>\n",
       "    <tr>\n",
       "      <th>4</th>\n",
       "      <td>84120</td>\n",
       "      <td>11230.66</td>\n",
       "    </tr>\n",
       "    <tr>\n",
       "      <th>5</th>\n",
       "      <td>75019</td>\n",
       "      <td>10602.70</td>\n",
       "    </tr>\n",
       "    <tr>\n",
       "      <th>6</th>\n",
       "      <td>40228</td>\n",
       "      <td>8170.56</td>\n",
       "    </tr>\n",
       "    <tr>\n",
       "      <th>7</th>\n",
       "      <td>78247</td>\n",
       "      <td>7693.85</td>\n",
       "    </tr>\n",
       "    <tr>\n",
       "      <th>8</th>\n",
       "      <td>28079</td>\n",
       "      <td>6702.73</td>\n",
       "    </tr>\n",
       "    <tr>\n",
       "      <th>9</th>\n",
       "      <td>33605</td>\n",
       "      <td>5176.51</td>\n",
       "    </tr>\n",
       "    <tr>\n",
       "      <th>10</th>\n",
       "      <td>32256</td>\n",
       "      <td>5032.24</td>\n",
       "    </tr>\n",
       "    <tr>\n",
       "      <th>11</th>\n",
       "      <td>60143</td>\n",
       "      <td>4806.16</td>\n",
       "    </tr>\n",
       "    <tr>\n",
       "      <th>12</th>\n",
       "      <td>85283</td>\n",
       "      <td>3335.19</td>\n",
       "    </tr>\n",
       "    <tr>\n",
       "      <th>13</th>\n",
       "      <td>80112</td>\n",
       "      <td>2695.72</td>\n",
       "    </tr>\n",
       "    <tr>\n",
       "      <th>14</th>\n",
       "      <td>20166</td>\n",
       "      <td>2435.27</td>\n",
       "    </tr>\n",
       "    <tr>\n",
       "      <th>15</th>\n",
       "      <td>30326</td>\n",
       "      <td>2322.00</td>\n",
       "    </tr>\n",
       "    <tr>\n",
       "      <th>16</th>\n",
       "      <td>17111</td>\n",
       "      <td>2227.87</td>\n",
       "    </tr>\n",
       "    <tr>\n",
       "      <th>17</th>\n",
       "      <td>80223</td>\n",
       "      <td>1574.48</td>\n",
       "    </tr>\n",
       "    <tr>\n",
       "      <th>18</th>\n",
       "      <td>46268</td>\n",
       "      <td>1397.35</td>\n",
       "    </tr>\n",
       "    <tr>\n",
       "      <th>19</th>\n",
       "      <td>27407</td>\n",
       "      <td>1379.15</td>\n",
       "    </tr>\n",
       "    <tr>\n",
       "      <th>20</th>\n",
       "      <td>60018</td>\n",
       "      <td>1345.19</td>\n",
       "    </tr>\n",
       "    <tr>\n",
       "      <th>21</th>\n",
       "      <td>98188</td>\n",
       "      <td>1130.76</td>\n",
       "    </tr>\n",
       "    <tr>\n",
       "      <th>22</th>\n",
       "      <td>90630</td>\n",
       "      <td>1072.82</td>\n",
       "    </tr>\n",
       "    <tr>\n",
       "      <th>23</th>\n",
       "      <td>43229</td>\n",
       "      <td>936.92</td>\n",
       "    </tr>\n",
       "    <tr>\n",
       "      <th>24</th>\n",
       "      <td>90703</td>\n",
       "      <td>914.93</td>\n",
       "    </tr>\n",
       "    <tr>\n",
       "      <th>25</th>\n",
       "      <td>48152</td>\n",
       "      <td>780.00</td>\n",
       "    </tr>\n",
       "    <tr>\n",
       "      <th>26</th>\n",
       "      <td>35758</td>\n",
       "      <td>692.55</td>\n",
       "    </tr>\n",
       "    <tr>\n",
       "      <th>27</th>\n",
       "      <td>97223</td>\n",
       "      <td>578.67</td>\n",
       "    </tr>\n",
       "    <tr>\n",
       "      <th>28</th>\n",
       "      <td>43228</td>\n",
       "      <td>557.51</td>\n",
       "    </tr>\n",
       "    <tr>\n",
       "      <th>29</th>\n",
       "      <td>35244</td>\n",
       "      <td>540.67</td>\n",
       "    </tr>\n",
       "    <tr>\n",
       "      <th>30</th>\n",
       "      <td>92127</td>\n",
       "      <td>504.31</td>\n",
       "    </tr>\n",
       "    <tr>\n",
       "      <th>31</th>\n",
       "      <td>60448</td>\n",
       "      <td>389.24</td>\n",
       "    </tr>\n",
       "    <tr>\n",
       "      <th>32</th>\n",
       "      <td>89118</td>\n",
       "      <td>336.14</td>\n",
       "    </tr>\n",
       "    <tr>\n",
       "      <th>33</th>\n",
       "      <td>98105</td>\n",
       "      <td>291.26</td>\n",
       "    </tr>\n",
       "    <tr>\n",
       "      <th>34</th>\n",
       "      <td>38112</td>\n",
       "      <td>160.56</td>\n",
       "    </tr>\n",
       "    <tr>\n",
       "      <th>35</th>\n",
       "      <td>91311</td>\n",
       "      <td>119.90</td>\n",
       "    </tr>\n",
       "    <tr>\n",
       "      <th>36</th>\n",
       "      <td>94587</td>\n",
       "      <td>105.00</td>\n",
       "    </tr>\n",
       "    <tr>\n",
       "      <th>37</th>\n",
       "      <td>19468</td>\n",
       "      <td>100.00</td>\n",
       "    </tr>\n",
       "    <tr>\n",
       "      <th>38</th>\n",
       "      <td>92234</td>\n",
       "      <td>99.00</td>\n",
       "    </tr>\n",
       "    <tr>\n",
       "      <th>39</th>\n",
       "      <td>31322</td>\n",
       "      <td>37.90</td>\n",
       "    </tr>\n",
       "  </tbody>\n",
       "</table>\n",
       "</div>"
      ],
      "text/plain": [
       "   SHIP TO ZIP  TOTAL_INVOICE_LINE_5504\n",
       "0        30071                 14754.98\n",
       "1        45215                 12129.37\n",
       "2        77040                 12112.98\n",
       "3        32750                 11490.84\n",
       "4        84120                 11230.66\n",
       "5        75019                 10602.70\n",
       "6        40228                  8170.56\n",
       "7        78247                  7693.85\n",
       "8        28079                  6702.73\n",
       "9        33605                  5176.51\n",
       "10       32256                  5032.24\n",
       "11       60143                  4806.16\n",
       "12       85283                  3335.19\n",
       "13       80112                  2695.72\n",
       "14       20166                  2435.27\n",
       "15       30326                  2322.00\n",
       "16       17111                  2227.87\n",
       "17       80223                  1574.48\n",
       "18       46268                  1397.35\n",
       "19       27407                  1379.15\n",
       "20       60018                  1345.19\n",
       "21       98188                  1130.76\n",
       "22       90630                  1072.82\n",
       "23       43229                   936.92\n",
       "24       90703                   914.93\n",
       "25       48152                   780.00\n",
       "26       35758                   692.55\n",
       "27       97223                   578.67\n",
       "28       43228                   557.51\n",
       "29       35244                   540.67\n",
       "30       92127                   504.31\n",
       "31       60448                   389.24\n",
       "32       89118                   336.14\n",
       "33       98105                   291.26\n",
       "34       38112                   160.56\n",
       "35       91311                   119.90\n",
       "36       94587                   105.00\n",
       "37       19468                   100.00\n",
       "38       92234                    99.00\n",
       "39       31322                    37.90"
      ]
     },
     "execution_count": 59,
     "metadata": {},
     "output_type": "execute_result"
    }
   ],
   "source": [
    "# Filter rows where Account equals 5504\n",
    "account_5504_df = final_filtered_df[final_filtered_df['ACCOUNT'] == 5504]\n",
    "\n",
    "# Group by SITE and sum the INVOICE LINE TOTAL\n",
    "zip_account_5504_summary = account_5504_df.groupby('SHIP TO ZIP', as_index=False)['INVOICE LINE TOTAL'].sum().sort_values(\n",
    "    by='INVOICE LINE TOTAL', ascending=False).reset_index(drop=True)\n",
    "\n",
    "# Rename the column for clarity\n",
    "zip_account_5504_summary.rename(columns={'INVOICE LINE TOTAL': 'TOTAL_INVOICE_LINE_5504'}, inplace=True)\n",
    "\n",
    "# Display the result\n",
    "zip_account_5504_summary"
   ]
  },
  {
   "cell_type": "code",
   "execution_count": 62,
   "metadata": {},
   "outputs": [
    {
     "data": {
      "application/vnd.microsoft.datawrangler.viewer.v0+json": {
       "columns": [
        {
         "name": "index",
         "rawType": "int64",
         "type": "integer"
        },
        {
         "name": "SHIP TO ZIP",
         "rawType": "object",
         "type": "string"
        },
        {
         "name": "TOTAL_INVOICE_LINE_5504",
         "rawType": "float64",
         "type": "float"
        },
        {
         "name": "PO NO",
         "rawType": "int64",
         "type": "integer"
        }
       ],
       "conversionMethod": "pd.DataFrame",
       "ref": "076b5d7e-97ec-4d8f-9dcf-4bc2bcdc3307",
       "rows": [
        [
         "0",
         "30071",
         "14754.98",
         "23"
        ],
        [
         "1",
         "45215",
         "12129.369999999999",
         "23"
        ],
        [
         "2",
         "77040",
         "12112.98",
         "16"
        ],
        [
         "3",
         "32750",
         "11490.84",
         "20"
        ],
        [
         "4",
         "84120",
         "11230.66",
         "12"
        ]
       ],
       "shape": {
        "columns": 3,
        "rows": 5
       }
      },
      "text/html": [
       "<div>\n",
       "<style scoped>\n",
       "    .dataframe tbody tr th:only-of-type {\n",
       "        vertical-align: middle;\n",
       "    }\n",
       "\n",
       "    .dataframe tbody tr th {\n",
       "        vertical-align: top;\n",
       "    }\n",
       "\n",
       "    .dataframe thead th {\n",
       "        text-align: right;\n",
       "    }\n",
       "</style>\n",
       "<table border=\"1\" class=\"dataframe\">\n",
       "  <thead>\n",
       "    <tr style=\"text-align: right;\">\n",
       "      <th></th>\n",
       "      <th>SHIP TO ZIP</th>\n",
       "      <th>TOTAL_INVOICE_LINE_5504</th>\n",
       "      <th>PO NO</th>\n",
       "    </tr>\n",
       "  </thead>\n",
       "  <tbody>\n",
       "    <tr>\n",
       "      <th>0</th>\n",
       "      <td>30071</td>\n",
       "      <td>14754.98</td>\n",
       "      <td>23</td>\n",
       "    </tr>\n",
       "    <tr>\n",
       "      <th>1</th>\n",
       "      <td>45215</td>\n",
       "      <td>12129.37</td>\n",
       "      <td>23</td>\n",
       "    </tr>\n",
       "    <tr>\n",
       "      <th>2</th>\n",
       "      <td>77040</td>\n",
       "      <td>12112.98</td>\n",
       "      <td>16</td>\n",
       "    </tr>\n",
       "    <tr>\n",
       "      <th>3</th>\n",
       "      <td>32750</td>\n",
       "      <td>11490.84</td>\n",
       "      <td>20</td>\n",
       "    </tr>\n",
       "    <tr>\n",
       "      <th>4</th>\n",
       "      <td>84120</td>\n",
       "      <td>11230.66</td>\n",
       "      <td>12</td>\n",
       "    </tr>\n",
       "  </tbody>\n",
       "</table>\n",
       "</div>"
      ],
      "text/plain": [
       "  SHIP TO ZIP  TOTAL_INVOICE_LINE_5504  PO NO\n",
       "0       30071                 14754.98     23\n",
       "1       45215                 12129.37     23\n",
       "2       77040                 12112.98     16\n",
       "3       32750                 11490.84     20\n",
       "4       84120                 11230.66     12"
      ]
     },
     "execution_count": 62,
     "metadata": {},
     "output_type": "execute_result"
    }
   ],
   "source": [
    "# Perform the join on 'SITE DESCRIPTION'\n",
    "merged_site_5504_summary = zip_account_5504_summary.merge(po_zip_account_5504_summary, on='SHIP TO ZIP', how='inner').sort_values(\n",
    "    by='TOTAL_INVOICE_LINE_5504', ascending=False).reset_index(drop=True)\n",
    "\n",
    "# Display the first few rows of the merged DataFrame\n",
    "merged_site_5504_summary.head()"
   ]
  },
  {
   "cell_type": "code",
   "execution_count": 63,
   "metadata": {},
   "outputs": [],
   "source": [
    "merged_site_5504_summary.to_csv(\"../data/output/merged_zip_5504_summary.csv\", index=False, float_format='%.6f')\n"
   ]
  },
  {
   "cell_type": "code",
   "execution_count": null,
   "metadata": {},
   "outputs": [],
   "source": []
  },
  {
   "cell_type": "code",
   "execution_count": 51,
   "metadata": {},
   "outputs": [
    {
     "data": {
      "application/vnd.microsoft.datawrangler.viewer.v0+json": {
       "columns": [
        {
         "name": "index",
         "rawType": "int64",
         "type": "integer"
        },
        {
         "name": "SITE DESCRIPTION",
         "rawType": "object",
         "type": "string"
        },
        {
         "name": "TOTAL_INVOICE_LINE_5504",
         "rawType": "float64",
         "type": "float"
        }
       ],
       "conversionMethod": "pd.DataFrame",
       "ref": "c205143c-5048-4ad0-bf56-b4a2801d66af",
       "rows": [
        [
         "0",
         "Spectra Longwood",
         "380312.66"
        ],
        [
         "1",
         "Spectra Tampa",
         "274153.9"
        ],
        [
         "2",
         "Diverzify Itasca",
         "258569.35"
        ],
        [
         "3",
         "Spectra Houston",
         "249545.65"
        ],
        [
         "4",
         "Spectra Coppell",
         "242230.56"
        ],
        [
         "5",
         "Floor Sol Union",
         "205914.06"
        ],
        [
         "6",
         "Spectra Norcross",
         "181475.65"
        ],
        [
         "7",
         "Spectra Tempe",
         "176385.77"
        ],
        [
         "8",
         "Spectra W Valley Cty",
         "167200.19"
        ],
        [
         "9",
         "Spectra Jacksonville",
         "117103.73"
        ],
        [
         "10",
         "Contract Carpet Sol",
         "108924.78"
        ],
        [
         "11",
         "Spectra Tukwila",
         "81297.15"
        ],
        [
         "12",
         "Kenny Floor Covering",
         "74516.14"
        ],
        [
         "13",
         "Spectra Louisville",
         "72982.28"
        ],
        [
         "14",
         "Spectra Tigard",
         "71748.0"
        ],
        [
         "15",
         "Spectra Lockland",
         "71656.37"
        ],
        [
         "16",
         "Spectra Harrisburg",
         "69801.09"
        ],
        [
         "17",
         "Spectra Pelham",
         "66474.8"
        ],
        [
         "18",
         "Diverzify Cincinnati",
         "55502.63"
        ],
        [
         "19",
         "Spectra Los Angeles",
         "54995.88"
        ],
        [
         "20",
         "Spectra Denver",
         "53191.56"
        ],
        [
         "21",
         "Spectra San Antonio",
         "43090.98"
        ],
        [
         "22",
         "Div National Accts",
         "42176.43"
        ],
        [
         "23",
         "Pavillion Floors",
         "41694.82"
        ],
        [
         "24",
         "Spectra Huntsville",
         "30962.07"
        ],
        [
         "25",
         "ProSpectra Ceritos",
         "26827.37"
        ],
        [
         "26",
         "Beckers New Brighton",
         "24962.32"
        ],
        [
         "27",
         "Contract Carpet Gov",
         "23308.26"
        ],
        [
         "28",
         "Floor Sol Greensboro",
         "21905.67"
        ],
        [
         "29",
         "Continental Floors",
         "21398.239999999998"
        ],
        [
         "30",
         "SCF - Fithian",
         "19302.81"
        ],
        [
         "31",
         "RD Weis Hawthorn",
         "18184.42"
        ],
        [
         "32",
         "Spectra Austin",
         "17915.23"
        ],
        [
         "33",
         "ProSpectra Poway",
         "17478.38"
        ],
        [
         "34",
         "Floor Sol Charleston",
         "17228.8"
        ],
        [
         "35",
         "Diverzify St. Louis",
         "14935.27"
        ],
        [
         "36",
         "Floor Sol New Hanovr",
         "13603.970000000001"
        ],
        [
         "37",
         "Spectra Columbus",
         "12694.78"
        ],
        [
         "38",
         "Spectra Sterling",
         "12116.470000000001"
        ],
        [
         "39",
         "Beckers Saint Cloud",
         "7665.3"
        ],
        [
         "40",
         "Wright",
         "4843.860000000001"
        ],
        [
         "41",
         "Diverzify Indy",
         "3484.81"
        ],
        [
         "42",
         "ProSpectra Union Cty",
         "2635.71"
        ],
        [
         "43",
         "ProSpectra Las Vegas",
         "2086.11"
        ],
        [
         "44",
         "Diverzify HQ",
         "1849.17"
        ]
       ],
       "shape": {
        "columns": 2,
        "rows": 45
       }
      },
      "text/html": [
       "<div>\n",
       "<style scoped>\n",
       "    .dataframe tbody tr th:only-of-type {\n",
       "        vertical-align: middle;\n",
       "    }\n",
       "\n",
       "    .dataframe tbody tr th {\n",
       "        vertical-align: top;\n",
       "    }\n",
       "\n",
       "    .dataframe thead th {\n",
       "        text-align: right;\n",
       "    }\n",
       "</style>\n",
       "<table border=\"1\" class=\"dataframe\">\n",
       "  <thead>\n",
       "    <tr style=\"text-align: right;\">\n",
       "      <th></th>\n",
       "      <th>SITE DESCRIPTION</th>\n",
       "      <th>TOTAL_INVOICE_LINE_5504</th>\n",
       "    </tr>\n",
       "  </thead>\n",
       "  <tbody>\n",
       "    <tr>\n",
       "      <th>0</th>\n",
       "      <td>Spectra Longwood</td>\n",
       "      <td>380312.66</td>\n",
       "    </tr>\n",
       "    <tr>\n",
       "      <th>1</th>\n",
       "      <td>Spectra Tampa</td>\n",
       "      <td>274153.90</td>\n",
       "    </tr>\n",
       "    <tr>\n",
       "      <th>2</th>\n",
       "      <td>Diverzify Itasca</td>\n",
       "      <td>258569.35</td>\n",
       "    </tr>\n",
       "    <tr>\n",
       "      <th>3</th>\n",
       "      <td>Spectra Houston</td>\n",
       "      <td>249545.65</td>\n",
       "    </tr>\n",
       "    <tr>\n",
       "      <th>4</th>\n",
       "      <td>Spectra Coppell</td>\n",
       "      <td>242230.56</td>\n",
       "    </tr>\n",
       "    <tr>\n",
       "      <th>5</th>\n",
       "      <td>Floor Sol Union</td>\n",
       "      <td>205914.06</td>\n",
       "    </tr>\n",
       "    <tr>\n",
       "      <th>6</th>\n",
       "      <td>Spectra Norcross</td>\n",
       "      <td>181475.65</td>\n",
       "    </tr>\n",
       "    <tr>\n",
       "      <th>7</th>\n",
       "      <td>Spectra Tempe</td>\n",
       "      <td>176385.77</td>\n",
       "    </tr>\n",
       "    <tr>\n",
       "      <th>8</th>\n",
       "      <td>Spectra W Valley Cty</td>\n",
       "      <td>167200.19</td>\n",
       "    </tr>\n",
       "    <tr>\n",
       "      <th>9</th>\n",
       "      <td>Spectra Jacksonville</td>\n",
       "      <td>117103.73</td>\n",
       "    </tr>\n",
       "    <tr>\n",
       "      <th>10</th>\n",
       "      <td>Contract Carpet Sol</td>\n",
       "      <td>108924.78</td>\n",
       "    </tr>\n",
       "    <tr>\n",
       "      <th>11</th>\n",
       "      <td>Spectra Tukwila</td>\n",
       "      <td>81297.15</td>\n",
       "    </tr>\n",
       "    <tr>\n",
       "      <th>12</th>\n",
       "      <td>Kenny Floor Covering</td>\n",
       "      <td>74516.14</td>\n",
       "    </tr>\n",
       "    <tr>\n",
       "      <th>13</th>\n",
       "      <td>Spectra Louisville</td>\n",
       "      <td>72982.28</td>\n",
       "    </tr>\n",
       "    <tr>\n",
       "      <th>14</th>\n",
       "      <td>Spectra Tigard</td>\n",
       "      <td>71748.00</td>\n",
       "    </tr>\n",
       "    <tr>\n",
       "      <th>15</th>\n",
       "      <td>Spectra Lockland</td>\n",
       "      <td>71656.37</td>\n",
       "    </tr>\n",
       "    <tr>\n",
       "      <th>16</th>\n",
       "      <td>Spectra Harrisburg</td>\n",
       "      <td>69801.09</td>\n",
       "    </tr>\n",
       "    <tr>\n",
       "      <th>17</th>\n",
       "      <td>Spectra Pelham</td>\n",
       "      <td>66474.80</td>\n",
       "    </tr>\n",
       "    <tr>\n",
       "      <th>18</th>\n",
       "      <td>Diverzify Cincinnati</td>\n",
       "      <td>55502.63</td>\n",
       "    </tr>\n",
       "    <tr>\n",
       "      <th>19</th>\n",
       "      <td>Spectra Los Angeles</td>\n",
       "      <td>54995.88</td>\n",
       "    </tr>\n",
       "    <tr>\n",
       "      <th>20</th>\n",
       "      <td>Spectra Denver</td>\n",
       "      <td>53191.56</td>\n",
       "    </tr>\n",
       "    <tr>\n",
       "      <th>21</th>\n",
       "      <td>Spectra San Antonio</td>\n",
       "      <td>43090.98</td>\n",
       "    </tr>\n",
       "    <tr>\n",
       "      <th>22</th>\n",
       "      <td>Div National Accts</td>\n",
       "      <td>42176.43</td>\n",
       "    </tr>\n",
       "    <tr>\n",
       "      <th>23</th>\n",
       "      <td>Pavillion Floors</td>\n",
       "      <td>41694.82</td>\n",
       "    </tr>\n",
       "    <tr>\n",
       "      <th>24</th>\n",
       "      <td>Spectra Huntsville</td>\n",
       "      <td>30962.07</td>\n",
       "    </tr>\n",
       "    <tr>\n",
       "      <th>25</th>\n",
       "      <td>ProSpectra Ceritos</td>\n",
       "      <td>26827.37</td>\n",
       "    </tr>\n",
       "    <tr>\n",
       "      <th>26</th>\n",
       "      <td>Beckers New Brighton</td>\n",
       "      <td>24962.32</td>\n",
       "    </tr>\n",
       "    <tr>\n",
       "      <th>27</th>\n",
       "      <td>Contract Carpet Gov</td>\n",
       "      <td>23308.26</td>\n",
       "    </tr>\n",
       "    <tr>\n",
       "      <th>28</th>\n",
       "      <td>Floor Sol Greensboro</td>\n",
       "      <td>21905.67</td>\n",
       "    </tr>\n",
       "    <tr>\n",
       "      <th>29</th>\n",
       "      <td>Continental Floors</td>\n",
       "      <td>21398.24</td>\n",
       "    </tr>\n",
       "    <tr>\n",
       "      <th>30</th>\n",
       "      <td>SCF - Fithian</td>\n",
       "      <td>19302.81</td>\n",
       "    </tr>\n",
       "    <tr>\n",
       "      <th>31</th>\n",
       "      <td>RD Weis Hawthorn</td>\n",
       "      <td>18184.42</td>\n",
       "    </tr>\n",
       "    <tr>\n",
       "      <th>32</th>\n",
       "      <td>Spectra Austin</td>\n",
       "      <td>17915.23</td>\n",
       "    </tr>\n",
       "    <tr>\n",
       "      <th>33</th>\n",
       "      <td>ProSpectra Poway</td>\n",
       "      <td>17478.38</td>\n",
       "    </tr>\n",
       "    <tr>\n",
       "      <th>34</th>\n",
       "      <td>Floor Sol Charleston</td>\n",
       "      <td>17228.80</td>\n",
       "    </tr>\n",
       "    <tr>\n",
       "      <th>35</th>\n",
       "      <td>Diverzify St. Louis</td>\n",
       "      <td>14935.27</td>\n",
       "    </tr>\n",
       "    <tr>\n",
       "      <th>36</th>\n",
       "      <td>Floor Sol New Hanovr</td>\n",
       "      <td>13603.97</td>\n",
       "    </tr>\n",
       "    <tr>\n",
       "      <th>37</th>\n",
       "      <td>Spectra Columbus</td>\n",
       "      <td>12694.78</td>\n",
       "    </tr>\n",
       "    <tr>\n",
       "      <th>38</th>\n",
       "      <td>Spectra Sterling</td>\n",
       "      <td>12116.47</td>\n",
       "    </tr>\n",
       "    <tr>\n",
       "      <th>39</th>\n",
       "      <td>Beckers Saint Cloud</td>\n",
       "      <td>7665.30</td>\n",
       "    </tr>\n",
       "    <tr>\n",
       "      <th>40</th>\n",
       "      <td>Wright</td>\n",
       "      <td>4843.86</td>\n",
       "    </tr>\n",
       "    <tr>\n",
       "      <th>41</th>\n",
       "      <td>Diverzify Indy</td>\n",
       "      <td>3484.81</td>\n",
       "    </tr>\n",
       "    <tr>\n",
       "      <th>42</th>\n",
       "      <td>ProSpectra Union Cty</td>\n",
       "      <td>2635.71</td>\n",
       "    </tr>\n",
       "    <tr>\n",
       "      <th>43</th>\n",
       "      <td>ProSpectra Las Vegas</td>\n",
       "      <td>2086.11</td>\n",
       "    </tr>\n",
       "    <tr>\n",
       "      <th>44</th>\n",
       "      <td>Diverzify HQ</td>\n",
       "      <td>1849.17</td>\n",
       "    </tr>\n",
       "  </tbody>\n",
       "</table>\n",
       "</div>"
      ],
      "text/plain": [
       "        SITE DESCRIPTION  TOTAL_INVOICE_LINE_5504\n",
       "0       Spectra Longwood                380312.66\n",
       "1          Spectra Tampa                274153.90\n",
       "2       Diverzify Itasca                258569.35\n",
       "3        Spectra Houston                249545.65\n",
       "4        Spectra Coppell                242230.56\n",
       "5        Floor Sol Union                205914.06\n",
       "6       Spectra Norcross                181475.65\n",
       "7          Spectra Tempe                176385.77\n",
       "8   Spectra W Valley Cty                167200.19\n",
       "9   Spectra Jacksonville                117103.73\n",
       "10   Contract Carpet Sol                108924.78\n",
       "11       Spectra Tukwila                 81297.15\n",
       "12  Kenny Floor Covering                 74516.14\n",
       "13    Spectra Louisville                 72982.28\n",
       "14        Spectra Tigard                 71748.00\n",
       "15      Spectra Lockland                 71656.37\n",
       "16    Spectra Harrisburg                 69801.09\n",
       "17        Spectra Pelham                 66474.80\n",
       "18  Diverzify Cincinnati                 55502.63\n",
       "19   Spectra Los Angeles                 54995.88\n",
       "20        Spectra Denver                 53191.56\n",
       "21   Spectra San Antonio                 43090.98\n",
       "22    Div National Accts                 42176.43\n",
       "23      Pavillion Floors                 41694.82\n",
       "24    Spectra Huntsville                 30962.07\n",
       "25    ProSpectra Ceritos                 26827.37\n",
       "26  Beckers New Brighton                 24962.32\n",
       "27   Contract Carpet Gov                 23308.26\n",
       "28  Floor Sol Greensboro                 21905.67\n",
       "29    Continental Floors                 21398.24\n",
       "30         SCF - Fithian                 19302.81\n",
       "31      RD Weis Hawthorn                 18184.42\n",
       "32        Spectra Austin                 17915.23\n",
       "33      ProSpectra Poway                 17478.38\n",
       "34  Floor Sol Charleston                 17228.80\n",
       "35   Diverzify St. Louis                 14935.27\n",
       "36  Floor Sol New Hanovr                 13603.97\n",
       "37      Spectra Columbus                 12694.78\n",
       "38      Spectra Sterling                 12116.47\n",
       "39   Beckers Saint Cloud                  7665.30\n",
       "40                Wright                  4843.86\n",
       "41        Diverzify Indy                  3484.81\n",
       "42  ProSpectra Union Cty                  2635.71\n",
       "43  ProSpectra Las Vegas                  2086.11\n",
       "44          Diverzify HQ                  1849.17"
      ]
     },
     "execution_count": 51,
     "metadata": {},
     "output_type": "execute_result"
    }
   ],
   "source": [
    "# Filter rows where Account equals 5504\n",
    "account_5504_df = final_filtered_df[df_filtered['ACCOUNT'] == 5504]\n",
    "\n",
    "# Group by SITE and sum the INVOICE LINE TOTAL\n",
    "site_account_5504_summary = account_5504_df.groupby('SITE DESCRIPTION', as_index=False)['INVOICE LINE TOTAL'].sum().sort_values(\n",
    "    by='INVOICE LINE TOTAL', ascending=False).reset_index(drop=True)\n",
    "\n",
    "# Rename the column for clarity\n",
    "site_account_5504_summary.rename(columns={'INVOICE LINE TOTAL': 'TOTAL_INVOICE_LINE_5504'}, inplace=True)\n",
    "\n",
    "# Display the result\n",
    "site_account_5504_summary"
   ]
  },
  {
   "cell_type": "code",
   "execution_count": 53,
   "metadata": {},
   "outputs": [
    {
     "data": {
      "application/vnd.microsoft.datawrangler.viewer.v0+json": {
       "columns": [
        {
         "name": "index",
         "rawType": "int64",
         "type": "integer"
        },
        {
         "name": "SITE DESCRIPTION",
         "rawType": "object",
         "type": "string"
        },
        {
         "name": "COUNT_PO_5504",
         "rawType": "int64",
         "type": "integer"
        }
       ],
       "conversionMethod": "pd.DataFrame",
       "ref": "38e449eb-e88a-451f-9a6e-bbfe02f6e502",
       "rows": [
        [
         "0",
         "Floor Sol Union",
         "1438"
        ],
        [
         "1",
         "Spectra Longwood",
         "1159"
        ],
        [
         "2",
         "Spectra Tampa",
         "957"
        ],
        [
         "3",
         "Spectra Houston",
         "846"
        ],
        [
         "4",
         "Spectra Norcross",
         "788"
        ],
        [
         "5",
         "Spectra W Valley Cty",
         "595"
        ],
        [
         "6",
         "Diverzify Itasca",
         "528"
        ],
        [
         "7",
         "Contract Carpet Sol",
         "475"
        ],
        [
         "8",
         "Spectra Tempe",
         "472"
        ],
        [
         "9",
         "Spectra Coppell",
         "434"
        ],
        [
         "10",
         "Kenny Floor Covering",
         "428"
        ],
        [
         "11",
         "Spectra Jacksonville",
         "377"
        ],
        [
         "12",
         "Spectra Lockland",
         "296"
        ],
        [
         "13",
         "Spectra Pelham",
         "280"
        ],
        [
         "14",
         "Spectra Louisville",
         "267"
        ],
        [
         "15",
         "Spectra Los Angeles",
         "254"
        ],
        [
         "16",
         "Diverzify Cincinnati",
         "214"
        ],
        [
         "17",
         "Spectra Harrisburg",
         "210"
        ],
        [
         "18",
         "Spectra Denver",
         "203"
        ],
        [
         "19",
         "Spectra Tigard",
         "192"
        ],
        [
         "20",
         "Spectra Tukwila",
         "180"
        ],
        [
         "21",
         "Pavillion Floors",
         "162"
        ],
        [
         "22",
         "Spectra San Antonio",
         "156"
        ],
        [
         "23",
         "Floor Sol Greensboro",
         "149"
        ],
        [
         "24",
         "Spectra Huntsville",
         "128"
        ],
        [
         "25",
         "Floor Sol New Hanovr",
         "113"
        ],
        [
         "26",
         "Beckers New Brighton",
         "109"
        ],
        [
         "27",
         "Div National Accts",
         "102"
        ],
        [
         "28",
         "Diverzify St. Louis",
         "92"
        ],
        [
         "29",
         "Contract Carpet Gov",
         "92"
        ],
        [
         "30",
         "Floor Sol Charleston",
         "76"
        ],
        [
         "31",
         "Continental Floors",
         "72"
        ],
        [
         "32",
         "SCF - Fithian",
         "71"
        ],
        [
         "33",
         "RD Weis Hawthorn",
         "71"
        ],
        [
         "34",
         "Spectra Columbus",
         "60"
        ],
        [
         "35",
         "Spectra Sterling",
         "49"
        ],
        [
         "36",
         "ProSpectra Poway",
         "47"
        ],
        [
         "37",
         "ProSpectra Ceritos",
         "35"
        ],
        [
         "38",
         "Spectra Austin",
         "28"
        ],
        [
         "39",
         "Diverzify Indy",
         "21"
        ],
        [
         "40",
         "Beckers Saint Cloud",
         "17"
        ],
        [
         "41",
         "ProSpectra Union Cty",
         "14"
        ],
        [
         "42",
         "ProSpectra Las Vegas",
         "11"
        ],
        [
         "43",
         "Wright",
         "8"
        ],
        [
         "44",
         "Diverzify HQ",
         "1"
        ]
       ],
       "shape": {
        "columns": 2,
        "rows": 45
       }
      },
      "text/html": [
       "<div>\n",
       "<style scoped>\n",
       "    .dataframe tbody tr th:only-of-type {\n",
       "        vertical-align: middle;\n",
       "    }\n",
       "\n",
       "    .dataframe tbody tr th {\n",
       "        vertical-align: top;\n",
       "    }\n",
       "\n",
       "    .dataframe thead th {\n",
       "        text-align: right;\n",
       "    }\n",
       "</style>\n",
       "<table border=\"1\" class=\"dataframe\">\n",
       "  <thead>\n",
       "    <tr style=\"text-align: right;\">\n",
       "      <th></th>\n",
       "      <th>SITE DESCRIPTION</th>\n",
       "      <th>COUNT_PO_5504</th>\n",
       "    </tr>\n",
       "  </thead>\n",
       "  <tbody>\n",
       "    <tr>\n",
       "      <th>0</th>\n",
       "      <td>Floor Sol Union</td>\n",
       "      <td>1438</td>\n",
       "    </tr>\n",
       "    <tr>\n",
       "      <th>1</th>\n",
       "      <td>Spectra Longwood</td>\n",
       "      <td>1159</td>\n",
       "    </tr>\n",
       "    <tr>\n",
       "      <th>2</th>\n",
       "      <td>Spectra Tampa</td>\n",
       "      <td>957</td>\n",
       "    </tr>\n",
       "    <tr>\n",
       "      <th>3</th>\n",
       "      <td>Spectra Houston</td>\n",
       "      <td>846</td>\n",
       "    </tr>\n",
       "    <tr>\n",
       "      <th>4</th>\n",
       "      <td>Spectra Norcross</td>\n",
       "      <td>788</td>\n",
       "    </tr>\n",
       "    <tr>\n",
       "      <th>5</th>\n",
       "      <td>Spectra W Valley Cty</td>\n",
       "      <td>595</td>\n",
       "    </tr>\n",
       "    <tr>\n",
       "      <th>6</th>\n",
       "      <td>Diverzify Itasca</td>\n",
       "      <td>528</td>\n",
       "    </tr>\n",
       "    <tr>\n",
       "      <th>7</th>\n",
       "      <td>Contract Carpet Sol</td>\n",
       "      <td>475</td>\n",
       "    </tr>\n",
       "    <tr>\n",
       "      <th>8</th>\n",
       "      <td>Spectra Tempe</td>\n",
       "      <td>472</td>\n",
       "    </tr>\n",
       "    <tr>\n",
       "      <th>9</th>\n",
       "      <td>Spectra Coppell</td>\n",
       "      <td>434</td>\n",
       "    </tr>\n",
       "    <tr>\n",
       "      <th>10</th>\n",
       "      <td>Kenny Floor Covering</td>\n",
       "      <td>428</td>\n",
       "    </tr>\n",
       "    <tr>\n",
       "      <th>11</th>\n",
       "      <td>Spectra Jacksonville</td>\n",
       "      <td>377</td>\n",
       "    </tr>\n",
       "    <tr>\n",
       "      <th>12</th>\n",
       "      <td>Spectra Lockland</td>\n",
       "      <td>296</td>\n",
       "    </tr>\n",
       "    <tr>\n",
       "      <th>13</th>\n",
       "      <td>Spectra Pelham</td>\n",
       "      <td>280</td>\n",
       "    </tr>\n",
       "    <tr>\n",
       "      <th>14</th>\n",
       "      <td>Spectra Louisville</td>\n",
       "      <td>267</td>\n",
       "    </tr>\n",
       "    <tr>\n",
       "      <th>15</th>\n",
       "      <td>Spectra Los Angeles</td>\n",
       "      <td>254</td>\n",
       "    </tr>\n",
       "    <tr>\n",
       "      <th>16</th>\n",
       "      <td>Diverzify Cincinnati</td>\n",
       "      <td>214</td>\n",
       "    </tr>\n",
       "    <tr>\n",
       "      <th>17</th>\n",
       "      <td>Spectra Harrisburg</td>\n",
       "      <td>210</td>\n",
       "    </tr>\n",
       "    <tr>\n",
       "      <th>18</th>\n",
       "      <td>Spectra Denver</td>\n",
       "      <td>203</td>\n",
       "    </tr>\n",
       "    <tr>\n",
       "      <th>19</th>\n",
       "      <td>Spectra Tigard</td>\n",
       "      <td>192</td>\n",
       "    </tr>\n",
       "    <tr>\n",
       "      <th>20</th>\n",
       "      <td>Spectra Tukwila</td>\n",
       "      <td>180</td>\n",
       "    </tr>\n",
       "    <tr>\n",
       "      <th>21</th>\n",
       "      <td>Pavillion Floors</td>\n",
       "      <td>162</td>\n",
       "    </tr>\n",
       "    <tr>\n",
       "      <th>22</th>\n",
       "      <td>Spectra San Antonio</td>\n",
       "      <td>156</td>\n",
       "    </tr>\n",
       "    <tr>\n",
       "      <th>23</th>\n",
       "      <td>Floor Sol Greensboro</td>\n",
       "      <td>149</td>\n",
       "    </tr>\n",
       "    <tr>\n",
       "      <th>24</th>\n",
       "      <td>Spectra Huntsville</td>\n",
       "      <td>128</td>\n",
       "    </tr>\n",
       "    <tr>\n",
       "      <th>25</th>\n",
       "      <td>Floor Sol New Hanovr</td>\n",
       "      <td>113</td>\n",
       "    </tr>\n",
       "    <tr>\n",
       "      <th>26</th>\n",
       "      <td>Beckers New Brighton</td>\n",
       "      <td>109</td>\n",
       "    </tr>\n",
       "    <tr>\n",
       "      <th>27</th>\n",
       "      <td>Div National Accts</td>\n",
       "      <td>102</td>\n",
       "    </tr>\n",
       "    <tr>\n",
       "      <th>28</th>\n",
       "      <td>Diverzify St. Louis</td>\n",
       "      <td>92</td>\n",
       "    </tr>\n",
       "    <tr>\n",
       "      <th>29</th>\n",
       "      <td>Contract Carpet Gov</td>\n",
       "      <td>92</td>\n",
       "    </tr>\n",
       "    <tr>\n",
       "      <th>30</th>\n",
       "      <td>Floor Sol Charleston</td>\n",
       "      <td>76</td>\n",
       "    </tr>\n",
       "    <tr>\n",
       "      <th>31</th>\n",
       "      <td>Continental Floors</td>\n",
       "      <td>72</td>\n",
       "    </tr>\n",
       "    <tr>\n",
       "      <th>32</th>\n",
       "      <td>SCF - Fithian</td>\n",
       "      <td>71</td>\n",
       "    </tr>\n",
       "    <tr>\n",
       "      <th>33</th>\n",
       "      <td>RD Weis Hawthorn</td>\n",
       "      <td>71</td>\n",
       "    </tr>\n",
       "    <tr>\n",
       "      <th>34</th>\n",
       "      <td>Spectra Columbus</td>\n",
       "      <td>60</td>\n",
       "    </tr>\n",
       "    <tr>\n",
       "      <th>35</th>\n",
       "      <td>Spectra Sterling</td>\n",
       "      <td>49</td>\n",
       "    </tr>\n",
       "    <tr>\n",
       "      <th>36</th>\n",
       "      <td>ProSpectra Poway</td>\n",
       "      <td>47</td>\n",
       "    </tr>\n",
       "    <tr>\n",
       "      <th>37</th>\n",
       "      <td>ProSpectra Ceritos</td>\n",
       "      <td>35</td>\n",
       "    </tr>\n",
       "    <tr>\n",
       "      <th>38</th>\n",
       "      <td>Spectra Austin</td>\n",
       "      <td>28</td>\n",
       "    </tr>\n",
       "    <tr>\n",
       "      <th>39</th>\n",
       "      <td>Diverzify Indy</td>\n",
       "      <td>21</td>\n",
       "    </tr>\n",
       "    <tr>\n",
       "      <th>40</th>\n",
       "      <td>Beckers Saint Cloud</td>\n",
       "      <td>17</td>\n",
       "    </tr>\n",
       "    <tr>\n",
       "      <th>41</th>\n",
       "      <td>ProSpectra Union Cty</td>\n",
       "      <td>14</td>\n",
       "    </tr>\n",
       "    <tr>\n",
       "      <th>42</th>\n",
       "      <td>ProSpectra Las Vegas</td>\n",
       "      <td>11</td>\n",
       "    </tr>\n",
       "    <tr>\n",
       "      <th>43</th>\n",
       "      <td>Wright</td>\n",
       "      <td>8</td>\n",
       "    </tr>\n",
       "    <tr>\n",
       "      <th>44</th>\n",
       "      <td>Diverzify HQ</td>\n",
       "      <td>1</td>\n",
       "    </tr>\n",
       "  </tbody>\n",
       "</table>\n",
       "</div>"
      ],
      "text/plain": [
       "        SITE DESCRIPTION  COUNT_PO_5504\n",
       "0        Floor Sol Union           1438\n",
       "1       Spectra Longwood           1159\n",
       "2          Spectra Tampa            957\n",
       "3        Spectra Houston            846\n",
       "4       Spectra Norcross            788\n",
       "5   Spectra W Valley Cty            595\n",
       "6       Diverzify Itasca            528\n",
       "7    Contract Carpet Sol            475\n",
       "8          Spectra Tempe            472\n",
       "9        Spectra Coppell            434\n",
       "10  Kenny Floor Covering            428\n",
       "11  Spectra Jacksonville            377\n",
       "12      Spectra Lockland            296\n",
       "13        Spectra Pelham            280\n",
       "14    Spectra Louisville            267\n",
       "15   Spectra Los Angeles            254\n",
       "16  Diverzify Cincinnati            214\n",
       "17    Spectra Harrisburg            210\n",
       "18        Spectra Denver            203\n",
       "19        Spectra Tigard            192\n",
       "20       Spectra Tukwila            180\n",
       "21      Pavillion Floors            162\n",
       "22   Spectra San Antonio            156\n",
       "23  Floor Sol Greensboro            149\n",
       "24    Spectra Huntsville            128\n",
       "25  Floor Sol New Hanovr            113\n",
       "26  Beckers New Brighton            109\n",
       "27    Div National Accts            102\n",
       "28   Diverzify St. Louis             92\n",
       "29   Contract Carpet Gov             92\n",
       "30  Floor Sol Charleston             76\n",
       "31    Continental Floors             72\n",
       "32         SCF - Fithian             71\n",
       "33      RD Weis Hawthorn             71\n",
       "34      Spectra Columbus             60\n",
       "35      Spectra Sterling             49\n",
       "36      ProSpectra Poway             47\n",
       "37    ProSpectra Ceritos             35\n",
       "38        Spectra Austin             28\n",
       "39        Diverzify Indy             21\n",
       "40   Beckers Saint Cloud             17\n",
       "41  ProSpectra Union Cty             14\n",
       "42  ProSpectra Las Vegas             11\n",
       "43                Wright              8\n",
       "44          Diverzify HQ              1"
      ]
     },
     "execution_count": 53,
     "metadata": {},
     "output_type": "execute_result"
    }
   ],
   "source": [
    "# Filter rows where Account equals 5504\n",
    "account_5504_df = final_filtered_df[final_filtered_df['ACCOUNT'] == 5504]\n",
    "\n",
    "# Group by SITE and sum the INVOICE LINE TOTAL\n",
    "site_po_account_5504_summary = account_5504_df.groupby('SITE DESCRIPTION', as_index=False)['PO NO'].count().sort_values(\n",
    "    by='PO NO', ascending=False).reset_index(drop=True)\n",
    "\n",
    "# Rename the column for clarity\n",
    "site_po_account_5504_summary.rename(columns={'PO NO': 'COUNT_PO_5504'}, inplace=True)\n",
    "\n",
    "# Display the result\n",
    "site_po_account_5504_summary"
   ]
  },
  {
   "cell_type": "code",
   "execution_count": 55,
   "metadata": {},
   "outputs": [
    {
     "data": {
      "application/vnd.microsoft.datawrangler.viewer.v0+json": {
       "columns": [
        {
         "name": "index",
         "rawType": "int64",
         "type": "integer"
        },
        {
         "name": "SITE DESCRIPTION",
         "rawType": "object",
         "type": "string"
        },
        {
         "name": "COUNT_PO_5504",
         "rawType": "int64",
         "type": "integer"
        },
        {
         "name": "TOTAL_INVOICE_LINE_5504",
         "rawType": "float64",
         "type": "float"
        }
       ],
       "conversionMethod": "pd.DataFrame",
       "ref": "5b8ef62a-d83f-4ca5-9e32-082223399d29",
       "rows": [
        [
         "0",
         "Spectra Longwood",
         "1159",
         "380312.66"
        ],
        [
         "1",
         "Spectra Tampa",
         "957",
         "274153.9"
        ],
        [
         "2",
         "Diverzify Itasca",
         "528",
         "258569.35"
        ],
        [
         "3",
         "Spectra Houston",
         "846",
         "249545.65"
        ],
        [
         "4",
         "Spectra Coppell",
         "434",
         "242230.56"
        ]
       ],
       "shape": {
        "columns": 3,
        "rows": 5
       }
      },
      "text/html": [
       "<div>\n",
       "<style scoped>\n",
       "    .dataframe tbody tr th:only-of-type {\n",
       "        vertical-align: middle;\n",
       "    }\n",
       "\n",
       "    .dataframe tbody tr th {\n",
       "        vertical-align: top;\n",
       "    }\n",
       "\n",
       "    .dataframe thead th {\n",
       "        text-align: right;\n",
       "    }\n",
       "</style>\n",
       "<table border=\"1\" class=\"dataframe\">\n",
       "  <thead>\n",
       "    <tr style=\"text-align: right;\">\n",
       "      <th></th>\n",
       "      <th>SITE DESCRIPTION</th>\n",
       "      <th>COUNT_PO_5504</th>\n",
       "      <th>TOTAL_INVOICE_LINE_5504</th>\n",
       "    </tr>\n",
       "  </thead>\n",
       "  <tbody>\n",
       "    <tr>\n",
       "      <th>0</th>\n",
       "      <td>Spectra Longwood</td>\n",
       "      <td>1159</td>\n",
       "      <td>380312.66</td>\n",
       "    </tr>\n",
       "    <tr>\n",
       "      <th>1</th>\n",
       "      <td>Spectra Tampa</td>\n",
       "      <td>957</td>\n",
       "      <td>274153.90</td>\n",
       "    </tr>\n",
       "    <tr>\n",
       "      <th>2</th>\n",
       "      <td>Diverzify Itasca</td>\n",
       "      <td>528</td>\n",
       "      <td>258569.35</td>\n",
       "    </tr>\n",
       "    <tr>\n",
       "      <th>3</th>\n",
       "      <td>Spectra Houston</td>\n",
       "      <td>846</td>\n",
       "      <td>249545.65</td>\n",
       "    </tr>\n",
       "    <tr>\n",
       "      <th>4</th>\n",
       "      <td>Spectra Coppell</td>\n",
       "      <td>434</td>\n",
       "      <td>242230.56</td>\n",
       "    </tr>\n",
       "  </tbody>\n",
       "</table>\n",
       "</div>"
      ],
      "text/plain": [
       "   SITE DESCRIPTION  COUNT_PO_5504  TOTAL_INVOICE_LINE_5504\n",
       "0  Spectra Longwood           1159                380312.66\n",
       "1     Spectra Tampa            957                274153.90\n",
       "2  Diverzify Itasca            528                258569.35\n",
       "3   Spectra Houston            846                249545.65\n",
       "4   Spectra Coppell            434                242230.56"
      ]
     },
     "execution_count": 55,
     "metadata": {},
     "output_type": "execute_result"
    }
   ],
   "source": [
    "# Perform the join on 'SITE DESCRIPTION'\n",
    "merged_site_5504_summary = site_po_account_5504_summary.merge(site_account_5504_summary, on='SITE DESCRIPTION', how='inner').sort_values(\n",
    "    by='TOTAL_INVOICE_LINE_5504', ascending=False).reset_index(drop=True)\n",
    "\n",
    "# Display the first few rows of the merged DataFrame\n",
    "merged_site_5504_summary.head()"
   ]
  },
  {
   "cell_type": "code",
   "execution_count": 58,
   "metadata": {},
   "outputs": [
    {
     "name": "stdout",
     "output_type": "stream",
     "text": [
      "\n",
      "✅ Merged site 5504 summary exported to: ../data/output/merged_site_5504_summary.csv\n"
     ]
    }
   ],
   "source": [
    "merged_site_5504_summary.to_csv(\"../data/output/merged_site_5504_summary.csv\", index=False, float_format='%.6f')\n",
    "print(f\"\\n✅ Merged site 5504 summary exported to: ../data/output/merged_site_5504_summary.csv\")"
   ]
  },
  {
   "cell_type": "code",
   "execution_count": 56,
   "metadata": {},
   "outputs": [
    {
     "data": {
      "text/plain": [
       "Index(['SITE', 'SITE DESCRIPTION', 'SUPPLIER NO', 'SUPPLIER NAME', 'PO NO',\n",
       "       'ACCOUNT', 'ACCOUNT DESCRIPTION', 'SHIP TO ZIP', 'PART NO',\n",
       "       'PART DESCRIPTION', 'PO PURCH QTY', 'PO INV QTY', 'INVOICED LINE QTY',\n",
       "       'PURCH UOM', 'INV UOM', 'INVOICE LINE TOTAL', 'PO PRICE',\n",
       "       'TOTAL_PO_VALUE', 'PO_HAS_PROJECT_FREIGHT', 'PROJECT_FREIGHT_COST',\n",
       "       'PROJECT_FREIGHT_PERCENT', 'PRODUCT_ONLY_PO_VALUE',\n",
       "       'FREIGHT_≥90%_OF_PO', 'FREIGHT_GT_PRODUCT', 'NEGATIVE_FREIGHT_PERCENT',\n",
       "       'PO_HAS_MULTIPLE_PROJECT_FREIGHT_LINES', 'COMM 1', 'Commodity Group',\n",
       "       'Description', 'Old/New', 'Priority', 'IS_MANUAL', 'PRIORITY_PO_FLAG',\n",
       "       'QTY_CONSISTENCY_FLAG', 'UOM_COMPARISON_STATUS', 'ALL_PRIORITY_2008',\n",
       "       'PRIORITY_PO_FLAG_2008'],\n",
       "      dtype='object')"
      ]
     },
     "execution_count": 56,
     "metadata": {},
     "output_type": "execute_result"
    }
   ],
   "source": [
    "final_filtered_df.columns"
   ]
  },
  {
   "cell_type": "code",
   "execution_count": 57,
   "metadata": {},
   "outputs": [
    {
     "data": {
      "application/vnd.microsoft.datawrangler.viewer.v0+json": {
       "columns": [
        {
         "name": "index",
         "rawType": "int64",
         "type": "integer"
        },
        {
         "name": "SITE DESCRIPTION",
         "rawType": "object",
         "type": "string"
        },
        {
         "name": "PROJECT_FREIGHT_PERCENT",
         "rawType": "float64",
         "type": "float"
        }
       ],
       "conversionMethod": "pd.DataFrame",
       "ref": "8c6aa443-9bd0-4612-94d8-a551795f4bb3",
       "rows": [
        [
         "0",
         "Floor Sol New Hanovr",
         "7272928861039.479"
        ],
        [
         "1",
         "ProSpectra Union Cty",
         "0.1581942857142857"
        ],
        [
         "2",
         "Div National Accts",
         "0.14931857843137256"
        ],
        [
         "3",
         "RD Weis Hawthorn",
         "0.14230815492957746"
        ],
        [
         "4",
         "Spectra Sterling",
         "0.13440148979591837"
        ],
        [
         "5",
         "Pavillion Floors",
         "0.1339168888888889"
        ],
        [
         "6",
         "ProSpectra Ceritos",
         "0.1335099142857143"
        ],
        [
         "7",
         "Spectra Tigard",
         "0.13177783157894737"
        ],
        [
         "8",
         "Spectra Austin",
         "0.13007549999999998"
        ],
        [
         "9",
         "Diverzify St. Louis",
         "0.1279924456521739"
        ],
        [
         "10",
         "SCF - Fithian",
         "0.1233995352112676"
        ],
        [
         "11",
         "Spectra Denver",
         "0.12269062561576353"
        ],
        [
         "12",
         "ProSpectra Las Vegas",
         "0.12140609090909091"
        ],
        [
         "13",
         "Diverzify Indy",
         "0.1184867619047619"
        ],
        [
         "14",
         "Spectra Tukwila",
         "0.1157936111111111"
        ],
        [
         "15",
         "Spectra Pelham",
         "0.11550200000000001"
        ],
        [
         "16",
         "Floor Sol Greensboro",
         "0.11543030872483222"
        ],
        [
         "17",
         "Spectra Los Angeles",
         "0.11526431889763779"
        ],
        [
         "18",
         "Spectra San Antonio",
         "0.11280461538461538"
        ],
        [
         "19",
         "Spectra Houston",
         "0.11237432819905215"
        ],
        [
         "20",
         "Contract Carpet Gov",
         "0.11122935869565218"
        ],
        [
         "21",
         "Beckers New Brighton",
         "0.11046467889908257"
        ],
        [
         "22",
         "Beckers Saint Cloud",
         "0.11023964705882353"
        ],
        [
         "23",
         "Kenny Floor Covering",
         "0.10969579205607477"
        ],
        [
         "24",
         "Spectra Tampa",
         "0.10933508691099476"
        ],
        [
         "25",
         "Spectra W Valley Cty",
         "0.10821597478991596"
        ],
        [
         "26",
         "Spectra Jacksonville",
         "0.10675374801061009"
        ],
        [
         "27",
         "Contract Carpet Sol",
         "0.10388069894736843"
        ],
        [
         "28",
         "Diverzify Itasca",
         "0.10357200572519085"
        ],
        [
         "29",
         "Spectra Columbus",
         "0.1034501"
        ],
        [
         "30",
         "Diverzify Cincinnati",
         "0.10215078037383178"
        ],
        [
         "31",
         "ProSpectra Poway",
         "0.10184117021276595"
        ],
        [
         "32",
         "Continental Floors",
         "0.10037838888888889"
        ],
        [
         "33",
         "Spectra Harrisburg",
         "0.09786122857142858"
        ],
        [
         "34",
         "Spectra Norcross",
         "0.09700595939086294"
        ],
        [
         "35",
         "Spectra Huntsville",
         "0.0956490859375"
        ],
        [
         "36",
         "Floor Sol Charleston",
         "0.09504768421052631"
        ],
        [
         "37",
         "Wright",
         "0.09476812500000001"
        ],
        [
         "38",
         "Floor Sol Union",
         "0.08719584492350486"
        ],
        [
         "39",
         "Diverzify HQ",
         "0.042009"
        ],
        [
         "40",
         "Spectra Coppell",
         null
        ],
        [
         "41",
         "Spectra Lockland",
         null
        ],
        [
         "42",
         "Spectra Longwood",
         null
        ],
        [
         "43",
         "Spectra Louisville",
         null
        ],
        [
         "44",
         "Spectra Tempe",
         null
        ]
       ],
       "shape": {
        "columns": 2,
        "rows": 45
       }
      },
      "text/html": [
       "<div>\n",
       "<style scoped>\n",
       "    .dataframe tbody tr th:only-of-type {\n",
       "        vertical-align: middle;\n",
       "    }\n",
       "\n",
       "    .dataframe tbody tr th {\n",
       "        vertical-align: top;\n",
       "    }\n",
       "\n",
       "    .dataframe thead th {\n",
       "        text-align: right;\n",
       "    }\n",
       "</style>\n",
       "<table border=\"1\" class=\"dataframe\">\n",
       "  <thead>\n",
       "    <tr style=\"text-align: right;\">\n",
       "      <th></th>\n",
       "      <th>SITE DESCRIPTION</th>\n",
       "      <th>PROJECT_FREIGHT_PERCENT</th>\n",
       "    </tr>\n",
       "  </thead>\n",
       "  <tbody>\n",
       "    <tr>\n",
       "      <th>0</th>\n",
       "      <td>Floor Sol New Hanovr</td>\n",
       "      <td>7.272929e+12</td>\n",
       "    </tr>\n",
       "    <tr>\n",
       "      <th>1</th>\n",
       "      <td>ProSpectra Union Cty</td>\n",
       "      <td>1.581943e-01</td>\n",
       "    </tr>\n",
       "    <tr>\n",
       "      <th>2</th>\n",
       "      <td>Div National Accts</td>\n",
       "      <td>1.493186e-01</td>\n",
       "    </tr>\n",
       "    <tr>\n",
       "      <th>3</th>\n",
       "      <td>RD Weis Hawthorn</td>\n",
       "      <td>1.423082e-01</td>\n",
       "    </tr>\n",
       "    <tr>\n",
       "      <th>4</th>\n",
       "      <td>Spectra Sterling</td>\n",
       "      <td>1.344015e-01</td>\n",
       "    </tr>\n",
       "    <tr>\n",
       "      <th>5</th>\n",
       "      <td>Pavillion Floors</td>\n",
       "      <td>1.339169e-01</td>\n",
       "    </tr>\n",
       "    <tr>\n",
       "      <th>6</th>\n",
       "      <td>ProSpectra Ceritos</td>\n",
       "      <td>1.335099e-01</td>\n",
       "    </tr>\n",
       "    <tr>\n",
       "      <th>7</th>\n",
       "      <td>Spectra Tigard</td>\n",
       "      <td>1.317778e-01</td>\n",
       "    </tr>\n",
       "    <tr>\n",
       "      <th>8</th>\n",
       "      <td>Spectra Austin</td>\n",
       "      <td>1.300755e-01</td>\n",
       "    </tr>\n",
       "    <tr>\n",
       "      <th>9</th>\n",
       "      <td>Diverzify St. Louis</td>\n",
       "      <td>1.279924e-01</td>\n",
       "    </tr>\n",
       "    <tr>\n",
       "      <th>10</th>\n",
       "      <td>SCF - Fithian</td>\n",
       "      <td>1.233995e-01</td>\n",
       "    </tr>\n",
       "    <tr>\n",
       "      <th>11</th>\n",
       "      <td>Spectra Denver</td>\n",
       "      <td>1.226906e-01</td>\n",
       "    </tr>\n",
       "    <tr>\n",
       "      <th>12</th>\n",
       "      <td>ProSpectra Las Vegas</td>\n",
       "      <td>1.214061e-01</td>\n",
       "    </tr>\n",
       "    <tr>\n",
       "      <th>13</th>\n",
       "      <td>Diverzify Indy</td>\n",
       "      <td>1.184868e-01</td>\n",
       "    </tr>\n",
       "    <tr>\n",
       "      <th>14</th>\n",
       "      <td>Spectra Tukwila</td>\n",
       "      <td>1.157936e-01</td>\n",
       "    </tr>\n",
       "    <tr>\n",
       "      <th>15</th>\n",
       "      <td>Spectra Pelham</td>\n",
       "      <td>1.155020e-01</td>\n",
       "    </tr>\n",
       "    <tr>\n",
       "      <th>16</th>\n",
       "      <td>Floor Sol Greensboro</td>\n",
       "      <td>1.154303e-01</td>\n",
       "    </tr>\n",
       "    <tr>\n",
       "      <th>17</th>\n",
       "      <td>Spectra Los Angeles</td>\n",
       "      <td>1.152643e-01</td>\n",
       "    </tr>\n",
       "    <tr>\n",
       "      <th>18</th>\n",
       "      <td>Spectra San Antonio</td>\n",
       "      <td>1.128046e-01</td>\n",
       "    </tr>\n",
       "    <tr>\n",
       "      <th>19</th>\n",
       "      <td>Spectra Houston</td>\n",
       "      <td>1.123743e-01</td>\n",
       "    </tr>\n",
       "    <tr>\n",
       "      <th>20</th>\n",
       "      <td>Contract Carpet Gov</td>\n",
       "      <td>1.112294e-01</td>\n",
       "    </tr>\n",
       "    <tr>\n",
       "      <th>21</th>\n",
       "      <td>Beckers New Brighton</td>\n",
       "      <td>1.104647e-01</td>\n",
       "    </tr>\n",
       "    <tr>\n",
       "      <th>22</th>\n",
       "      <td>Beckers Saint Cloud</td>\n",
       "      <td>1.102396e-01</td>\n",
       "    </tr>\n",
       "    <tr>\n",
       "      <th>23</th>\n",
       "      <td>Kenny Floor Covering</td>\n",
       "      <td>1.096958e-01</td>\n",
       "    </tr>\n",
       "    <tr>\n",
       "      <th>24</th>\n",
       "      <td>Spectra Tampa</td>\n",
       "      <td>1.093351e-01</td>\n",
       "    </tr>\n",
       "    <tr>\n",
       "      <th>25</th>\n",
       "      <td>Spectra W Valley Cty</td>\n",
       "      <td>1.082160e-01</td>\n",
       "    </tr>\n",
       "    <tr>\n",
       "      <th>26</th>\n",
       "      <td>Spectra Jacksonville</td>\n",
       "      <td>1.067537e-01</td>\n",
       "    </tr>\n",
       "    <tr>\n",
       "      <th>27</th>\n",
       "      <td>Contract Carpet Sol</td>\n",
       "      <td>1.038807e-01</td>\n",
       "    </tr>\n",
       "    <tr>\n",
       "      <th>28</th>\n",
       "      <td>Diverzify Itasca</td>\n",
       "      <td>1.035720e-01</td>\n",
       "    </tr>\n",
       "    <tr>\n",
       "      <th>29</th>\n",
       "      <td>Spectra Columbus</td>\n",
       "      <td>1.034501e-01</td>\n",
       "    </tr>\n",
       "    <tr>\n",
       "      <th>30</th>\n",
       "      <td>Diverzify Cincinnati</td>\n",
       "      <td>1.021508e-01</td>\n",
       "    </tr>\n",
       "    <tr>\n",
       "      <th>31</th>\n",
       "      <td>ProSpectra Poway</td>\n",
       "      <td>1.018412e-01</td>\n",
       "    </tr>\n",
       "    <tr>\n",
       "      <th>32</th>\n",
       "      <td>Continental Floors</td>\n",
       "      <td>1.003784e-01</td>\n",
       "    </tr>\n",
       "    <tr>\n",
       "      <th>33</th>\n",
       "      <td>Spectra Harrisburg</td>\n",
       "      <td>9.786123e-02</td>\n",
       "    </tr>\n",
       "    <tr>\n",
       "      <th>34</th>\n",
       "      <td>Spectra Norcross</td>\n",
       "      <td>9.700596e-02</td>\n",
       "    </tr>\n",
       "    <tr>\n",
       "      <th>35</th>\n",
       "      <td>Spectra Huntsville</td>\n",
       "      <td>9.564909e-02</td>\n",
       "    </tr>\n",
       "    <tr>\n",
       "      <th>36</th>\n",
       "      <td>Floor Sol Charleston</td>\n",
       "      <td>9.504768e-02</td>\n",
       "    </tr>\n",
       "    <tr>\n",
       "      <th>37</th>\n",
       "      <td>Wright</td>\n",
       "      <td>9.476813e-02</td>\n",
       "    </tr>\n",
       "    <tr>\n",
       "      <th>38</th>\n",
       "      <td>Floor Sol Union</td>\n",
       "      <td>8.719584e-02</td>\n",
       "    </tr>\n",
       "    <tr>\n",
       "      <th>39</th>\n",
       "      <td>Diverzify HQ</td>\n",
       "      <td>4.200900e-02</td>\n",
       "    </tr>\n",
       "    <tr>\n",
       "      <th>40</th>\n",
       "      <td>Spectra Coppell</td>\n",
       "      <td>NaN</td>\n",
       "    </tr>\n",
       "    <tr>\n",
       "      <th>41</th>\n",
       "      <td>Spectra Lockland</td>\n",
       "      <td>NaN</td>\n",
       "    </tr>\n",
       "    <tr>\n",
       "      <th>42</th>\n",
       "      <td>Spectra Longwood</td>\n",
       "      <td>NaN</td>\n",
       "    </tr>\n",
       "    <tr>\n",
       "      <th>43</th>\n",
       "      <td>Spectra Louisville</td>\n",
       "      <td>NaN</td>\n",
       "    </tr>\n",
       "    <tr>\n",
       "      <th>44</th>\n",
       "      <td>Spectra Tempe</td>\n",
       "      <td>NaN</td>\n",
       "    </tr>\n",
       "  </tbody>\n",
       "</table>\n",
       "</div>"
      ],
      "text/plain": [
       "        SITE DESCRIPTION  PROJECT_FREIGHT_PERCENT\n",
       "0   Floor Sol New Hanovr             7.272929e+12\n",
       "1   ProSpectra Union Cty             1.581943e-01\n",
       "2     Div National Accts             1.493186e-01\n",
       "3       RD Weis Hawthorn             1.423082e-01\n",
       "4       Spectra Sterling             1.344015e-01\n",
       "5       Pavillion Floors             1.339169e-01\n",
       "6     ProSpectra Ceritos             1.335099e-01\n",
       "7         Spectra Tigard             1.317778e-01\n",
       "8         Spectra Austin             1.300755e-01\n",
       "9    Diverzify St. Louis             1.279924e-01\n",
       "10         SCF - Fithian             1.233995e-01\n",
       "11        Spectra Denver             1.226906e-01\n",
       "12  ProSpectra Las Vegas             1.214061e-01\n",
       "13        Diverzify Indy             1.184868e-01\n",
       "14       Spectra Tukwila             1.157936e-01\n",
       "15        Spectra Pelham             1.155020e-01\n",
       "16  Floor Sol Greensboro             1.154303e-01\n",
       "17   Spectra Los Angeles             1.152643e-01\n",
       "18   Spectra San Antonio             1.128046e-01\n",
       "19       Spectra Houston             1.123743e-01\n",
       "20   Contract Carpet Gov             1.112294e-01\n",
       "21  Beckers New Brighton             1.104647e-01\n",
       "22   Beckers Saint Cloud             1.102396e-01\n",
       "23  Kenny Floor Covering             1.096958e-01\n",
       "24         Spectra Tampa             1.093351e-01\n",
       "25  Spectra W Valley Cty             1.082160e-01\n",
       "26  Spectra Jacksonville             1.067537e-01\n",
       "27   Contract Carpet Sol             1.038807e-01\n",
       "28      Diverzify Itasca             1.035720e-01\n",
       "29      Spectra Columbus             1.034501e-01\n",
       "30  Diverzify Cincinnati             1.021508e-01\n",
       "31      ProSpectra Poway             1.018412e-01\n",
       "32    Continental Floors             1.003784e-01\n",
       "33    Spectra Harrisburg             9.786123e-02\n",
       "34      Spectra Norcross             9.700596e-02\n",
       "35    Spectra Huntsville             9.564909e-02\n",
       "36  Floor Sol Charleston             9.504768e-02\n",
       "37                Wright             9.476813e-02\n",
       "38       Floor Sol Union             8.719584e-02\n",
       "39          Diverzify HQ             4.200900e-02\n",
       "40       Spectra Coppell                      NaN\n",
       "41      Spectra Lockland                      NaN\n",
       "42      Spectra Longwood                      NaN\n",
       "43    Spectra Louisville                      NaN\n",
       "44         Spectra Tempe                      NaN"
      ]
     },
     "execution_count": 57,
     "metadata": {},
     "output_type": "execute_result"
    }
   ],
   "source": [
    "# Filter rows where Account equals 5504\n",
    "account_5504_df = final_filtered_df[final_filtered_df['ACCOUNT'] == 5504]\n",
    "\n",
    "# Group by SITE and sum the INVOICE LINE TOTAL\n",
    "site_po_account_5504_summary = account_5504_df.groupby('SITE DESCRIPTION', as_index=False)['PROJECT_FREIGHT_PERCENT'].mean().sort_values(\n",
    "    by='PROJECT_FREIGHT_PERCENT', ascending=False).reset_index(drop=True)\n",
    "\n",
    "# Rename the column for clarity\n",
    "site_po_account_5504_summary.rename(columns={'PO NO': 'COUNT_PO_5504'}, inplace=True)\n",
    "\n",
    "# Display the result\n",
    "site_po_account_5504_summary"
   ]
  },
  {
   "cell_type": "code",
   "execution_count": null,
   "metadata": {},
   "outputs": [],
   "source": []
  },
  {
   "cell_type": "code",
   "execution_count": 16,
   "metadata": {},
   "outputs": [
    {
     "data": {
      "text/plain": [
       "(75724, 37)"
      ]
     },
     "execution_count": 16,
     "metadata": {},
     "output_type": "execute_result"
    }
   ],
   "source": [
    "# === Filter for specific sites ===\n",
    "# Filter the DataFrame for specific sites\n",
    "df_sites = df_filtered[df_filtered['SITE'].isin(['SPJ','SPW','SPT'])]\n",
    "df_sites.shape"
   ]
  },
  {
   "cell_type": "code",
   "execution_count": 17,
   "metadata": {},
   "outputs": [
    {
     "data": {
      "application/vnd.microsoft.datawrangler.viewer.v0+json": {
       "columns": [
        {
         "name": "index",
         "rawType": "int64",
         "type": "integer"
        },
        {
         "name": "SITE",
         "rawType": "object",
         "type": "string"
        },
        {
         "name": "SITE DESCRIPTION",
         "rawType": "object",
         "type": "string"
        },
        {
         "name": "SUPPLIER NO",
         "rawType": "object",
         "type": "string"
        },
        {
         "name": "SUPPLIER NAME",
         "rawType": "object",
         "type": "string"
        },
        {
         "name": "PO NO",
         "rawType": "object",
         "type": "string"
        },
        {
         "name": "ACCOUNT",
         "rawType": "int64",
         "type": "integer"
        },
        {
         "name": "ACCOUNT DESCRIPTION",
         "rawType": "object",
         "type": "string"
        },
        {
         "name": "SHIP TO ZIP",
         "rawType": "object",
         "type": "string"
        },
        {
         "name": "PART NO",
         "rawType": "object",
         "type": "string"
        },
        {
         "name": "PART DESCRIPTION",
         "rawType": "object",
         "type": "string"
        },
        {
         "name": "PO PURCH QTY",
         "rawType": "float64",
         "type": "float"
        },
        {
         "name": "PO INV QTY",
         "rawType": "float64",
         "type": "float"
        },
        {
         "name": "INVOICED LINE QTY",
         "rawType": "float64",
         "type": "float"
        },
        {
         "name": "PURCH UOM",
         "rawType": "object",
         "type": "string"
        },
        {
         "name": "INV UOM",
         "rawType": "object",
         "type": "string"
        },
        {
         "name": "INVOICE LINE TOTAL",
         "rawType": "float64",
         "type": "float"
        },
        {
         "name": "PO PRICE",
         "rawType": "float64",
         "type": "float"
        },
        {
         "name": "TOTAL_PO_VALUE",
         "rawType": "float64",
         "type": "float"
        },
        {
         "name": "PO_HAS_PROJECT_FREIGHT",
         "rawType": "bool",
         "type": "boolean"
        },
        {
         "name": "PROJECT_FREIGHT_COST",
         "rawType": "float64",
         "type": "float"
        },
        {
         "name": "PROJECT_FREIGHT_PERCENT",
         "rawType": "float64",
         "type": "float"
        },
        {
         "name": "PRODUCT_ONLY_PO_VALUE",
         "rawType": "float64",
         "type": "float"
        },
        {
         "name": "FREIGHT_≥90%_OF_PO",
         "rawType": "bool",
         "type": "boolean"
        },
        {
         "name": "FREIGHT_GT_PRODUCT",
         "rawType": "bool",
         "type": "boolean"
        },
        {
         "name": "NEGATIVE_FREIGHT_PERCENT",
         "rawType": "bool",
         "type": "boolean"
        },
        {
         "name": "PO_HAS_MULTIPLE_PROJECT_FREIGHT_LINES",
         "rawType": "bool",
         "type": "boolean"
        },
        {
         "name": "COMM 1",
         "rawType": "object",
         "type": "string"
        },
        {
         "name": "Commodity Group",
         "rawType": "object",
         "type": "string"
        },
        {
         "name": "Description",
         "rawType": "object",
         "type": "string"
        },
        {
         "name": "Old/New",
         "rawType": "object",
         "type": "string"
        },
        {
         "name": "Priority",
         "rawType": "object",
         "type": "string"
        },
        {
         "name": "IS_MANUAL",
         "rawType": "bool",
         "type": "boolean"
        },
        {
         "name": "PRIORITY_PO_FLAG",
         "rawType": "bool",
         "type": "boolean"
        },
        {
         "name": "QTY_CONSISTENCY_FLAG",
         "rawType": "bool",
         "type": "boolean"
        },
        {
         "name": "UOM_COMPARISON_STATUS",
         "rawType": "object",
         "type": "string"
        },
        {
         "name": "ALL_PRIORITY_2008",
         "rawType": "bool",
         "type": "boolean"
        },
        {
         "name": "PRIORITY_PO_FLAG_2008",
         "rawType": "bool",
         "type": "boolean"
        }
       ],
       "conversionMethod": "pd.DataFrame",
       "ref": "7af018a5-2a6f-464f-b61f-a218e8d5f220",
       "rows": [
        [
         "246432",
         "SPJ",
         "Spectra Jacksonville",
         "103423",
         "Shaw Industries, Inc.",
         "40170",
         "5504",
         "PROJECT Freight",
         "32256",
         null,
         null,
         null,
         null,
         "1.0",
         null,
         null,
         "793.3",
         null,
         "15118.56",
         "True",
         "793.3",
         "0.052472",
         "14325.26",
         "False",
         "False",
         "False",
         "False",
         "nan",
         null,
         null,
         null,
         null,
         "False",
         "True",
         "False",
         "Missing INV UOM",
         "True",
         "True"
        ],
        [
         "246433",
         "SPJ",
         "Spectra Jacksonville",
         "103423",
         "Shaw Industries, Inc.",
         "40170",
         "5205",
         "PROJECT PO Variance M181 & M182",
         null,
         null,
         null,
         null,
         null,
         null,
         null,
         null,
         "0.04",
         null,
         "15118.56",
         "True",
         "793.3",
         "0.052472",
         "14325.26",
         "False",
         "False",
         "False",
         "False",
         "nan",
         null,
         null,
         null,
         null,
         "False",
         "True",
         "False",
         "Missing INV UOM",
         "True",
         "True"
        ],
        [
         "246434",
         "SPJ",
         "Spectra Jacksonville",
         "103423",
         "Shaw Industries, Inc.",
         "40170",
         "2008",
         "Received Not Yet Invoiced",
         "32256",
         "204991-002",
         "Shaw Contract Correspond (5T353) Multi Level Pattern Loop 24in x 24in - Balanced (52485)",
         "91.0",
         "808.08",
         "91.0",
         "CTN",
         "SY",
         "14325.22",
         "14325.22",
         "15118.56",
         "True",
         "793.3",
         "0.052472",
         "14325.26",
         "False",
         "False",
         "False",
         "False",
         "1CPT",
         "1CPT",
         "Carpet Tile",
         "New Commodity",
         "Yes",
         "False",
         "True",
         "False",
         "Mismatch",
         "True",
         "True"
        ],
        [
         "246439",
         "SPJ",
         "Spectra Jacksonville",
         "121550",
         "Mohawk Industries",
         "44286",
         "5504",
         "PROJECT Freight",
         "32256",
         null,
         null,
         null,
         null,
         "1.0",
         null,
         null,
         "88.0",
         null,
         "2122.07",
         "True",
         "88.0",
         "0.041469",
         "2034.07",
         "False",
         "False",
         "False",
         "False",
         "nan",
         null,
         null,
         null,
         null,
         "False",
         "True",
         "False",
         "Missing INV UOM",
         "True",
         "True"
        ],
        [
         "246440",
         "SPJ",
         "Spectra Jacksonville",
         "121550",
         "Mohawk Industries",
         "44286",
         "2008",
         "Received Not Yet Invoiced",
         "32256",
         "1000003305",
         "Mohawk-Juniperus II (C2059)-6ft 6in-2.0 MM-Temperate (817)",
         "80.04",
         "80.04",
         "44.3",
         "SY",
         "SY",
         "1125.66",
         "1125.66",
         "2122.07",
         "True",
         "88.0",
         "0.041469",
         "2034.07",
         "False",
         "False",
         "False",
         "False",
         "20",
         "20",
         "Sheet Vinyl",
         "Old Commodity",
         "Yes",
         "False",
         "True",
         "False",
         "Match",
         "True",
         "True"
        ]
       ],
       "shape": {
        "columns": 37,
        "rows": 5
       }
      },
      "text/html": [
       "<div>\n",
       "<style scoped>\n",
       "    .dataframe tbody tr th:only-of-type {\n",
       "        vertical-align: middle;\n",
       "    }\n",
       "\n",
       "    .dataframe tbody tr th {\n",
       "        vertical-align: top;\n",
       "    }\n",
       "\n",
       "    .dataframe thead th {\n",
       "        text-align: right;\n",
       "    }\n",
       "</style>\n",
       "<table border=\"1\" class=\"dataframe\">\n",
       "  <thead>\n",
       "    <tr style=\"text-align: right;\">\n",
       "      <th></th>\n",
       "      <th>SITE</th>\n",
       "      <th>SITE DESCRIPTION</th>\n",
       "      <th>SUPPLIER NO</th>\n",
       "      <th>SUPPLIER NAME</th>\n",
       "      <th>PO NO</th>\n",
       "      <th>ACCOUNT</th>\n",
       "      <th>ACCOUNT DESCRIPTION</th>\n",
       "      <th>SHIP TO ZIP</th>\n",
       "      <th>PART NO</th>\n",
       "      <th>PART DESCRIPTION</th>\n",
       "      <th>...</th>\n",
       "      <th>Commodity Group</th>\n",
       "      <th>Description</th>\n",
       "      <th>Old/New</th>\n",
       "      <th>Priority</th>\n",
       "      <th>IS_MANUAL</th>\n",
       "      <th>PRIORITY_PO_FLAG</th>\n",
       "      <th>QTY_CONSISTENCY_FLAG</th>\n",
       "      <th>UOM_COMPARISON_STATUS</th>\n",
       "      <th>ALL_PRIORITY_2008</th>\n",
       "      <th>PRIORITY_PO_FLAG_2008</th>\n",
       "    </tr>\n",
       "  </thead>\n",
       "  <tbody>\n",
       "    <tr>\n",
       "      <th>246432</th>\n",
       "      <td>SPJ</td>\n",
       "      <td>Spectra Jacksonville</td>\n",
       "      <td>103423</td>\n",
       "      <td>Shaw Industries, Inc.</td>\n",
       "      <td>40170</td>\n",
       "      <td>5504</td>\n",
       "      <td>PROJECT Freight</td>\n",
       "      <td>32256</td>\n",
       "      <td>NaN</td>\n",
       "      <td>NaN</td>\n",
       "      <td>...</td>\n",
       "      <td>NaN</td>\n",
       "      <td>NaN</td>\n",
       "      <td>NaN</td>\n",
       "      <td>NaN</td>\n",
       "      <td>False</td>\n",
       "      <td>True</td>\n",
       "      <td>False</td>\n",
       "      <td>Missing INV UOM</td>\n",
       "      <td>True</td>\n",
       "      <td>True</td>\n",
       "    </tr>\n",
       "    <tr>\n",
       "      <th>246433</th>\n",
       "      <td>SPJ</td>\n",
       "      <td>Spectra Jacksonville</td>\n",
       "      <td>103423</td>\n",
       "      <td>Shaw Industries, Inc.</td>\n",
       "      <td>40170</td>\n",
       "      <td>5205</td>\n",
       "      <td>PROJECT PO Variance M181 &amp; M182</td>\n",
       "      <td>NaN</td>\n",
       "      <td>NaN</td>\n",
       "      <td>NaN</td>\n",
       "      <td>...</td>\n",
       "      <td>NaN</td>\n",
       "      <td>NaN</td>\n",
       "      <td>NaN</td>\n",
       "      <td>NaN</td>\n",
       "      <td>False</td>\n",
       "      <td>True</td>\n",
       "      <td>False</td>\n",
       "      <td>Missing INV UOM</td>\n",
       "      <td>True</td>\n",
       "      <td>True</td>\n",
       "    </tr>\n",
       "    <tr>\n",
       "      <th>246434</th>\n",
       "      <td>SPJ</td>\n",
       "      <td>Spectra Jacksonville</td>\n",
       "      <td>103423</td>\n",
       "      <td>Shaw Industries, Inc.</td>\n",
       "      <td>40170</td>\n",
       "      <td>2008</td>\n",
       "      <td>Received Not Yet Invoiced</td>\n",
       "      <td>32256</td>\n",
       "      <td>204991-002</td>\n",
       "      <td>Shaw Contract Correspond (5T353) Multi Level P...</td>\n",
       "      <td>...</td>\n",
       "      <td>1CPT</td>\n",
       "      <td>Carpet Tile</td>\n",
       "      <td>New Commodity</td>\n",
       "      <td>Yes</td>\n",
       "      <td>False</td>\n",
       "      <td>True</td>\n",
       "      <td>False</td>\n",
       "      <td>Mismatch</td>\n",
       "      <td>True</td>\n",
       "      <td>True</td>\n",
       "    </tr>\n",
       "    <tr>\n",
       "      <th>246439</th>\n",
       "      <td>SPJ</td>\n",
       "      <td>Spectra Jacksonville</td>\n",
       "      <td>121550</td>\n",
       "      <td>Mohawk Industries</td>\n",
       "      <td>44286</td>\n",
       "      <td>5504</td>\n",
       "      <td>PROJECT Freight</td>\n",
       "      <td>32256</td>\n",
       "      <td>NaN</td>\n",
       "      <td>NaN</td>\n",
       "      <td>...</td>\n",
       "      <td>NaN</td>\n",
       "      <td>NaN</td>\n",
       "      <td>NaN</td>\n",
       "      <td>NaN</td>\n",
       "      <td>False</td>\n",
       "      <td>True</td>\n",
       "      <td>False</td>\n",
       "      <td>Missing INV UOM</td>\n",
       "      <td>True</td>\n",
       "      <td>True</td>\n",
       "    </tr>\n",
       "    <tr>\n",
       "      <th>246440</th>\n",
       "      <td>SPJ</td>\n",
       "      <td>Spectra Jacksonville</td>\n",
       "      <td>121550</td>\n",
       "      <td>Mohawk Industries</td>\n",
       "      <td>44286</td>\n",
       "      <td>2008</td>\n",
       "      <td>Received Not Yet Invoiced</td>\n",
       "      <td>32256</td>\n",
       "      <td>1000003305</td>\n",
       "      <td>Mohawk-Juniperus II (C2059)-6ft 6in-2.0 MM-Tem...</td>\n",
       "      <td>...</td>\n",
       "      <td>20</td>\n",
       "      <td>Sheet Vinyl</td>\n",
       "      <td>Old Commodity</td>\n",
       "      <td>Yes</td>\n",
       "      <td>False</td>\n",
       "      <td>True</td>\n",
       "      <td>False</td>\n",
       "      <td>Match</td>\n",
       "      <td>True</td>\n",
       "      <td>True</td>\n",
       "    </tr>\n",
       "  </tbody>\n",
       "</table>\n",
       "<p>5 rows × 37 columns</p>\n",
       "</div>"
      ],
      "text/plain": [
       "       SITE      SITE DESCRIPTION SUPPLIER NO          SUPPLIER NAME  PO NO  \\\n",
       "246432  SPJ  Spectra Jacksonville      103423  Shaw Industries, Inc.  40170   \n",
       "246433  SPJ  Spectra Jacksonville      103423  Shaw Industries, Inc.  40170   \n",
       "246434  SPJ  Spectra Jacksonville      103423  Shaw Industries, Inc.  40170   \n",
       "246439  SPJ  Spectra Jacksonville      121550      Mohawk Industries  44286   \n",
       "246440  SPJ  Spectra Jacksonville      121550      Mohawk Industries  44286   \n",
       "\n",
       "        ACCOUNT              ACCOUNT DESCRIPTION SHIP TO ZIP     PART NO  \\\n",
       "246432     5504                  PROJECT Freight       32256         NaN   \n",
       "246433     5205  PROJECT PO Variance M181 & M182         NaN         NaN   \n",
       "246434     2008        Received Not Yet Invoiced       32256  204991-002   \n",
       "246439     5504                  PROJECT Freight       32256         NaN   \n",
       "246440     2008        Received Not Yet Invoiced       32256  1000003305   \n",
       "\n",
       "                                         PART DESCRIPTION  ...  \\\n",
       "246432                                                NaN  ...   \n",
       "246433                                                NaN  ...   \n",
       "246434  Shaw Contract Correspond (5T353) Multi Level P...  ...   \n",
       "246439                                                NaN  ...   \n",
       "246440  Mohawk-Juniperus II (C2059)-6ft 6in-2.0 MM-Tem...  ...   \n",
       "\n",
       "        Commodity Group  Description        Old/New Priority IS_MANUAL  \\\n",
       "246432              NaN          NaN            NaN      NaN     False   \n",
       "246433              NaN          NaN            NaN      NaN     False   \n",
       "246434             1CPT  Carpet Tile  New Commodity      Yes     False   \n",
       "246439              NaN          NaN            NaN      NaN     False   \n",
       "246440               20  Sheet Vinyl  Old Commodity      Yes     False   \n",
       "\n",
       "        PRIORITY_PO_FLAG  QTY_CONSISTENCY_FLAG  UOM_COMPARISON_STATUS  \\\n",
       "246432              True                 False        Missing INV UOM   \n",
       "246433              True                 False        Missing INV UOM   \n",
       "246434              True                 False               Mismatch   \n",
       "246439              True                 False        Missing INV UOM   \n",
       "246440              True                 False                  Match   \n",
       "\n",
       "        ALL_PRIORITY_2008  PRIORITY_PO_FLAG_2008  \n",
       "246432               True                   True  \n",
       "246433               True                   True  \n",
       "246434               True                   True  \n",
       "246439               True                   True  \n",
       "246440               True                   True  \n",
       "\n",
       "[5 rows x 37 columns]"
      ]
     },
     "execution_count": 17,
     "metadata": {},
     "output_type": "execute_result"
    }
   ],
   "source": [
    "# Stage 1: Filter where PO_HAS_PROJECT_FREIGHT is True\n",
    "stage1_df = df_sites[df_sites['PO_HAS_PROJECT_FREIGHT'] == True]\n",
    "\n",
    "# Stage 2: Filter where NEGATIVE_FREIGHT_PERCENT is False\n",
    "stage2_df = stage1_df[stage1_df['NEGATIVE_FREIGHT_PERCENT'] == False]\n",
    "\n",
    "# Stage 3: Filter where PRIORITY_PO_FLAG_2008 is True\n",
    "final_filtered_df = stage2_df[stage2_df['PRIORITY_PO_FLAG_2008'] == True]\n",
    "\n",
    "# Display the resulting DataFrame\n",
    "final_filtered_df.head()"
   ]
  },
  {
   "cell_type": "code",
   "execution_count": 18,
   "metadata": {},
   "outputs": [
    {
     "name": "stdout",
     "output_type": "stream",
     "text": [
      "\n",
      "✅ Enriched dataset exported to: ../data/output/Freight_Analysis_Enriched_Sample_Sites_Any_v4.csv\n"
     ]
    }
   ],
   "source": [
    "# Export enriched dataset\n",
    "output_path = \"../data/output/Freight_Analysis_Enriched_Sample_Sites_Any_v4.csv\"\n",
    "final_filtered_df.to_csv(output_path, index=False)\n",
    "print(f\"\\n✅ Enriched dataset exported to: {output_path}\")"
   ]
  }
 ],
 "metadata": {
  "kernelspec": {
   "display_name": "base",
   "language": "python",
   "name": "python3"
  },
  "language_info": {
   "codemirror_mode": {
    "name": "ipython",
    "version": 3
   },
   "file_extension": ".py",
   "mimetype": "text/x-python",
   "name": "python",
   "nbconvert_exporter": "python",
   "pygments_lexer": "ipython3",
   "version": "3.9.7"
  }
 },
 "nbformat": 4,
 "nbformat_minor": 4
}
