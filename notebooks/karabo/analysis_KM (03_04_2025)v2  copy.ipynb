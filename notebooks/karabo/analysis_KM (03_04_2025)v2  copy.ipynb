{
 "cells": [
  {
   "cell_type": "code",
   "execution_count": 64,
   "metadata": {},
   "outputs": [
    {
     "name": "stdout",
     "output_type": "stream",
     "text": [
      "% of POs with freight ≤ 10% of product spend: 87.67%\n",
      "% of POs with freight > 50% of product spend: 2.61%\n",
      "\n",
      "✅ Enriched dataset exported to: Freight_Analysis_Enriched_Output.csv\n"
     ]
    }
   ],
   "source": [
    "import pandas as pd\n",
    "import matplotlib.pyplot as plt\n",
    "\n",
    "# Load your dataset\n",
    "file_path = \"data/input/Freight_Cost_Analysis_CY2024-03.25.csv\"\n",
    "df = pd.read_csv(file_path, encoding=\"latin1\", low_memory=False)\n",
    "\n",
    "# === Flag if a PO has any 'PROJECT Freight' line items ===\n",
    "project_freight_flag = df[df['ACCOUNT DESCRIPTION'].astype(str).str.upper().str.contains(\"PROJECT FREIGHT\", na=False)] \\\n",
    "    .groupby('PO NO').size().reset_index(name='PROJECT_FREIGHT_COUNT')\n",
    "project_freight_flag['PO_HAS_PROJECT_FREIGHT'] = True\n",
    "df = df.merge(project_freight_flag[['PO NO', 'PO_HAS_PROJECT_FREIGHT']], on='PO NO', how='left')\n",
    "df['PO_HAS_PROJECT_FREIGHT'] = df['PO_HAS_PROJECT_FREIGHT'].fillna(False).astype(bool)\n",
    "\n",
    "# === Step 1: Freight Spend Profiling ===\n",
    "freight_lines = df[df['ACCOUNT DESCRIPTION'].astype(str).str.upper().str.contains('PROJECT FREIGHT', na=False)]\n",
    "\n",
    "total_po_value = df.groupby('PO NO', as_index=False)['INVOICE LINE TOTAL'].sum().rename(\n",
    "    columns={'INVOICE LINE TOTAL': 'TOTAL_PO_VALUE'}\n",
    ")\n",
    "freight_cost = freight_lines.groupby('PO NO', as_index=False)['INVOICE LINE TOTAL'].sum().rename(\n",
    "    columns={'INVOICE LINE TOTAL': 'PROJECT_FREIGHT_COST'}\n",
    ")\n",
    "\n",
    "df = df.merge(total_po_value, on='PO NO', how='left')\n",
    "df = df.merge(freight_cost, on='PO NO', how='left')\n",
    "\n",
    "# Convert to numeric types\n",
    "df['TOTAL_PO_VALUE'] = pd.to_numeric(df['TOTAL_PO_VALUE'], errors='coerce')\n",
    "df['PROJECT_FREIGHT_COST'] = pd.to_numeric(df['PROJECT_FREIGHT_COST'], errors='coerce').fillna(0)\n",
    "\n",
    "# Calculations with enforced numeric types\n",
    "df['PRODUCT_ONLY_PO_VALUE'] = df['TOTAL_PO_VALUE'] - df['PROJECT_FREIGHT_COST']\n",
    "df['PRODUCT_ONLY_PO_VALUE'] = pd.to_numeric(df['PRODUCT_ONLY_PO_VALUE'], errors='coerce')\n",
    "\n",
    "df['PROJECT_FREIGHT_PERCENT'] = df['PROJECT_FREIGHT_COST'] / df['TOTAL_PO_VALUE']\n",
    "df['PROJECT_FREIGHT_PERCENT'] = pd.to_numeric(df['PROJECT_FREIGHT_PERCENT'], errors='coerce')\n",
    "\n",
    "df['FREIGHT_PERCENT_EXCL_PRODUCT'] = df['PROJECT_FREIGHT_COST'] / df['PRODUCT_ONLY_PO_VALUE']\n",
    "df['FREIGHT_PERCENT_EXCL_PRODUCT'] = pd.to_numeric(df['FREIGHT_PERCENT_EXCL_PRODUCT'], errors='coerce')\n",
    "\n",
    "# Flags\n",
    "df['FREIGHT_≥90%_OF_PO'] = (df['PROJECT_FREIGHT_PERCENT'] >= 0.9).astype(bool)\n",
    "df['FREIGHT_GT_PRODUCT'] = (df['PROJECT_FREIGHT_COST'] > df['PRODUCT_ONLY_PO_VALUE']).astype(bool)\n",
    "df['NEGATIVE_FREIGHT_PERCENT'] = (df['PROJECT_FREIGHT_PERCENT'] < 0).astype(bool)\n",
    "\n",
    "# More than 2 freight lines\n",
    "freight_line_counts = freight_lines.groupby('PO NO').size().reset_index(name='PROJECT_FREIGHT_LINE_COUNT')\n",
    "df = df.merge(freight_line_counts, on='PO NO', how='left')\n",
    "df['PROJECT_FREIGHT_LINE_COUNT'] = df['PROJECT_FREIGHT_LINE_COUNT'].fillna(0).astype(int)\n",
    "df['PO_HAS_MULTIPLE_PROJECT_FREIGHT_LINES'] = (df['PROJECT_FREIGHT_LINE_COUNT'] > 2).astype(bool)\n",
    "\n",
    "# === Step 2: ZIP & Supplier Analysis ===\n",
    "df['SHIP TO ZIP'] = df['SHIP TO ZIP'].astype(str).str.extract(r'(\\d{5})')\n",
    "freight_df = df[df['PROJECT_FREIGHT_COST'] > 0]\n",
    "zip_supplier_summary = freight_df.groupby(['SHIP TO ZIP', 'SUPPLIER NO']).agg(\n",
    "    AVG_FREIGHT_PERCENT=('PROJECT_FREIGHT_PERCENT', 'mean'),\n",
    "    PO_COUNT=('PO NO', 'nunique')\n",
    ").reset_index()\n",
    "zip_supplier_summary['HIGH_FREIGHT_FLAG'] = zip_supplier_summary['AVG_FREIGHT_PERCENT'] > 0.5\n",
    "df = df.merge(zip_supplier_summary[['SHIP TO ZIP', 'SUPPLIER NO', 'HIGH_FREIGHT_FLAG']],\n",
    "              on=['SHIP TO ZIP', 'SUPPLIER NO'], how='left')\n",
    "\n",
    "# === Step 3: Product Analysis ===\n",
    "labor_keywords = ['LABOR', 'INSTALL', 'SERVICE', 'WAGE', 'CONTRACT', 'EMPLOYEE']\n",
    "df['PART DESCRIPTION CLEAN'] = df['PART DESCRIPTION'].astype(str).str.upper()\n",
    "df['IS_LABOR'] = df['PART DESCRIPTION CLEAN'].apply(lambda desc: any(k in desc for k in labor_keywords))\n",
    "product_counts = df[~df['IS_LABOR'] & df['PART DESCRIPTION'].notna()].groupby(\n",
    "    'PART DESCRIPTION'\n",
    ").size().reset_index(name='PRODUCT_ORDER_COUNT')\n",
    "product_counts['PRODUCT_ORDER_RANK'] = product_counts['PRODUCT_ORDER_COUNT'].rank(method='dense', ascending=False).astype(int)\n",
    "df = df.merge(product_counts, on='PART DESCRIPTION', how='left')\n",
    "\n",
    "# === Step 4: UOM Consistency ===\n",
    "def compare_uom(row):\n",
    "    if pd.isna(row['INV UOM']):\n",
    "        return 'Missing INV UOM'\n",
    "    elif row['PURCH UOM'] == row['INV UOM']:\n",
    "        return 'Match'\n",
    "    else:\n",
    "        return 'Mismatch'\n",
    "df['UOM_COMPARISON_STATUS'] = df.apply(compare_uom, axis=1)\n",
    "\n",
    "# === Step 5: Key Metrics Summary ===\n",
    "po_summary = df[['PO NO', 'PROJECT_FREIGHT_COST', 'PRODUCT_ONLY_PO_VALUE']].drop_duplicates().dropna()\n",
    "po_summary['FREIGHT_PERCENT_EXCL_PRODUCT'] = po_summary['PROJECT_FREIGHT_COST'] / po_summary['PRODUCT_ONLY_PO_VALUE']\n",
    "pct_le_10 = (po_summary['FREIGHT_PERCENT_EXCL_PRODUCT'] <= 0.10).mean() * 100\n",
    "pct_gt_50 = (po_summary['FREIGHT_PERCENT_EXCL_PRODUCT'] > 0.50).mean() * 100\n",
    "print(f\"% of POs with freight ≤ 10% of product spend: {pct_le_10:.2f}%\")\n",
    "print(f\"% of POs with freight > 50% of product spend: {pct_gt_50:.2f}%\")\n",
    "\n",
    "# === Step 6: Composite Key Consistency ===\n",
    "df['PO_INVOICE_COMPOSITE_KEY'] = df['PO NO'].astype(str) + '|' + df['INVOICE ID'].astype(str) + '|' + df['INVOICE NO'].astype(str)\n",
    "composite_counts = df.groupby('PO NO')['PO_INVOICE_COMPOSITE_KEY'].nunique().reset_index()\n",
    "composite_counts['PO_COMPOSITE_KEY_CONSISTENCY'] = composite_counts['PO_INVOICE_COMPOSITE_KEY'].apply(\n",
    "    lambda x: 'Consistent' if x == 1 else 'Inconsistent'\n",
    ")\n",
    "df = df.merge(composite_counts[['PO NO', 'PO_COMPOSITE_KEY_CONSISTENCY']], on='PO NO', how='left')\n",
    "\n",
    "# === Final Type Cleanup Before Export ===\n",
    "numeric_cols = [\n",
    "    'TOTAL_PO_VALUE', 'PROJECT_FREIGHT_COST', 'PROJECT_FREIGHT_PERCENT',\n",
    "    'PRODUCT_ONLY_PO_VALUE', 'FREIGHT_PERCENT_EXCL_PRODUCT'\n",
    "]\n",
    "\n",
    "for col in numeric_cols:\n",
    "    df[col] = pd.to_numeric(df[col], errors='coerce').round(6)\n",
    "\n",
    "# === Export enriched dataset (clean format, no quotes in numbers) ===\n",
    "output_path = \"Freight_Analysis_Enriched_Output.csv\"\n",
    "df.to_csv(output_path, index=False, float_format='%.6f')\n",
    "print(f\"\\n✅ Enriched dataset exported to: {output_path}\")\n"
   ]
  },
  {
   "cell_type": "code",
   "execution_count": 65,
   "metadata": {},
   "outputs": [
    {
     "data": {
      "text/plain": [
       "Index(['SITE', 'SITE DESCRIPTION', 'SUPPLIER NO', 'SUPPLIER NAME',\n",
       "       'INVOICE ID', 'INVOICE NO', 'DATE POSTED', 'PROJECT ID', 'PROJECT NAME',\n",
       "       'ACCOUNT', 'ACCOUNT DESCRIPTION', 'PLANNED DELIVERY DATE',\n",
       "       'SHIP TO ZIP', 'PO NO', 'PO LINE NO', 'PO REL NO', 'RECEIPT NO',\n",
       "       'PART NO', 'PART DESCRIPTION', 'COMM 1', 'COMM 2', 'PO PURCH QTY',\n",
       "       'PURCH UOM', 'PO INV QTY', 'INV UOM', 'INVOICED LINE QTY',\n",
       "       'INVOICE LINE TOTAL', 'PO PRICE', 'PO_HAS_PROJECT_FREIGHT',\n",
       "       'TOTAL_PO_VALUE', 'PROJECT_FREIGHT_COST', 'PRODUCT_ONLY_PO_VALUE',\n",
       "       'PROJECT_FREIGHT_PERCENT', 'FREIGHT_PERCENT_EXCL_PRODUCT',\n",
       "       'FREIGHT_≥90%_OF_PO', 'FREIGHT_GT_PRODUCT', 'NEGATIVE_FREIGHT_PERCENT',\n",
       "       'PROJECT_FREIGHT_LINE_COUNT', 'PO_HAS_MULTIPLE_PROJECT_FREIGHT_LINES',\n",
       "       'HIGH_FREIGHT_FLAG', 'PART DESCRIPTION CLEAN', 'IS_LABOR',\n",
       "       'PRODUCT_ORDER_COUNT', 'PRODUCT_ORDER_RANK', 'UOM_COMPARISON_STATUS',\n",
       "       'PO_INVOICE_COMPOSITE_KEY', 'PO_COMPOSITE_KEY_CONSISTENCY'],\n",
       "      dtype='object')"
      ]
     },
     "execution_count": 65,
     "metadata": {},
     "output_type": "execute_result"
    }
   ],
   "source": [
    "df.columns"
   ]
  },
  {
   "cell_type": "code",
   "execution_count": 66,
   "metadata": {},
   "outputs": [
    {
     "data": {
      "application/vnd.microsoft.datawrangler.viewer.v0+json": {
       "columns": [
        {
         "name": "index",
         "rawType": "int64",
         "type": "integer"
        },
        {
         "name": "Commodity Group",
         "rawType": "object",
         "type": "string"
        },
        {
         "name": "Description",
         "rawType": "object",
         "type": "string"
        },
        {
         "name": "Old/New",
         "rawType": "object",
         "type": "string"
        },
        {
         "name": "Priority",
         "rawType": "object",
         "type": "string"
        }
       ],
       "conversionMethod": "pd.DataFrame",
       "ref": "e3a85094-b6c6-4890-bff3-853bc8dc8b05",
       "rows": [
        [
         "0",
         "0",
         "Zero Cost",
         "Old Commodity",
         "No"
        ],
        [
         "1",
         "10",
         "Carpet",
         "Old Commodity",
         "Yes"
        ],
        [
         "2",
         "20",
         "Sheet Vinyl",
         "Old Commodity",
         "Yes"
        ],
        [
         "3",
         "30",
         "Product Care Supplies",
         "Old Commodity",
         "No"
        ],
        [
         "4",
         "40",
         "Vinyl Tile",
         "Old Commodity",
         "Yes"
        ]
       ],
       "shape": {
        "columns": 4,
        "rows": 5
       }
      },
      "text/html": [
       "<div>\n",
       "<style scoped>\n",
       "    .dataframe tbody tr th:only-of-type {\n",
       "        vertical-align: middle;\n",
       "    }\n",
       "\n",
       "    .dataframe tbody tr th {\n",
       "        vertical-align: top;\n",
       "    }\n",
       "\n",
       "    .dataframe thead th {\n",
       "        text-align: right;\n",
       "    }\n",
       "</style>\n",
       "<table border=\"1\" class=\"dataframe\">\n",
       "  <thead>\n",
       "    <tr style=\"text-align: right;\">\n",
       "      <th></th>\n",
       "      <th>Commodity Group</th>\n",
       "      <th>Description</th>\n",
       "      <th>Old/New</th>\n",
       "      <th>Priority</th>\n",
       "    </tr>\n",
       "  </thead>\n",
       "  <tbody>\n",
       "    <tr>\n",
       "      <th>0</th>\n",
       "      <td>0</td>\n",
       "      <td>Zero Cost</td>\n",
       "      <td>Old Commodity</td>\n",
       "      <td>No</td>\n",
       "    </tr>\n",
       "    <tr>\n",
       "      <th>1</th>\n",
       "      <td>10</td>\n",
       "      <td>Carpet</td>\n",
       "      <td>Old Commodity</td>\n",
       "      <td>Yes</td>\n",
       "    </tr>\n",
       "    <tr>\n",
       "      <th>2</th>\n",
       "      <td>20</td>\n",
       "      <td>Sheet Vinyl</td>\n",
       "      <td>Old Commodity</td>\n",
       "      <td>Yes</td>\n",
       "    </tr>\n",
       "    <tr>\n",
       "      <th>3</th>\n",
       "      <td>30</td>\n",
       "      <td>Product Care Supplies</td>\n",
       "      <td>Old Commodity</td>\n",
       "      <td>No</td>\n",
       "    </tr>\n",
       "    <tr>\n",
       "      <th>4</th>\n",
       "      <td>40</td>\n",
       "      <td>Vinyl Tile</td>\n",
       "      <td>Old Commodity</td>\n",
       "      <td>Yes</td>\n",
       "    </tr>\n",
       "  </tbody>\n",
       "</table>\n",
       "</div>"
      ],
      "text/plain": [
       "  Commodity Group            Description        Old/New Priority\n",
       "0               0              Zero Cost  Old Commodity       No\n",
       "1              10                 Carpet  Old Commodity      Yes\n",
       "2              20            Sheet Vinyl  Old Commodity      Yes\n",
       "3              30  Product Care Supplies  Old Commodity       No\n",
       "4              40             Vinyl Tile  Old Commodity      Yes"
      ]
     },
     "execution_count": 66,
     "metadata": {},
     "output_type": "execute_result"
    }
   ],
   "source": [
    "commodity_df = pd.read_excel('data/input/IFS Cloud Commodity Groups.xlsx', sheet_name='Commodity Groups')\n",
    "commodity_df.head()"
   ]
  },
  {
   "cell_type": "code",
   "execution_count": 67,
   "metadata": {},
   "outputs": [],
   "source": [
    "commodity_df['COMM 1'] = commodity_df['Commodity Group'].astype(str)"
   ]
  },
  {
   "cell_type": "code",
   "execution_count": 68,
   "metadata": {},
   "outputs": [],
   "source": [
    "df['COMM 1'] = df['COMM 1'].astype(str)"
   ]
  },
  {
   "cell_type": "code",
   "execution_count": 69,
   "metadata": {},
   "outputs": [
    {
     "data": {
      "application/vnd.microsoft.datawrangler.viewer.v0+json": {
       "columns": [
        {
         "name": "index",
         "rawType": "int64",
         "type": "integer"
        },
        {
         "name": "SITE",
         "rawType": "object",
         "type": "string"
        },
        {
         "name": "SITE DESCRIPTION",
         "rawType": "object",
         "type": "string"
        },
        {
         "name": "SUPPLIER NO",
         "rawType": "object",
         "type": "string"
        },
        {
         "name": "SUPPLIER NAME",
         "rawType": "object",
         "type": "string"
        },
        {
         "name": "INVOICE ID",
         "rawType": "int64",
         "type": "integer"
        },
        {
         "name": "INVOICE NO",
         "rawType": "object",
         "type": "string"
        },
        {
         "name": "DATE POSTED",
         "rawType": "object",
         "type": "string"
        },
        {
         "name": "PROJECT ID",
         "rawType": "object",
         "type": "string"
        },
        {
         "name": "PROJECT NAME",
         "rawType": "object",
         "type": "string"
        },
        {
         "name": "ACCOUNT",
         "rawType": "int64",
         "type": "integer"
        },
        {
         "name": "ACCOUNT DESCRIPTION",
         "rawType": "object",
         "type": "string"
        },
        {
         "name": "PLANNED DELIVERY DATE",
         "rawType": "object",
         "type": "string"
        },
        {
         "name": "SHIP TO ZIP",
         "rawType": "object",
         "type": "string"
        },
        {
         "name": "PO NO",
         "rawType": "object",
         "type": "string"
        },
        {
         "name": "PO LINE NO",
         "rawType": "object",
         "type": "string"
        },
        {
         "name": "PO REL NO",
         "rawType": "object",
         "type": "string"
        },
        {
         "name": "RECEIPT NO",
         "rawType": "float64",
         "type": "float"
        },
        {
         "name": "PART NO",
         "rawType": "object",
         "type": "string"
        },
        {
         "name": "PART DESCRIPTION",
         "rawType": "object",
         "type": "string"
        },
        {
         "name": "COMM 1",
         "rawType": "object",
         "type": "string"
        },
        {
         "name": "COMM 2",
         "rawType": "object",
         "type": "string"
        },
        {
         "name": "PO PURCH QTY",
         "rawType": "float64",
         "type": "float"
        },
        {
         "name": "PURCH UOM",
         "rawType": "object",
         "type": "string"
        },
        {
         "name": "PO INV QTY",
         "rawType": "float64",
         "type": "float"
        },
        {
         "name": "INV UOM",
         "rawType": "object",
         "type": "string"
        },
        {
         "name": "INVOICED LINE QTY",
         "rawType": "float64",
         "type": "float"
        },
        {
         "name": "INVOICE LINE TOTAL",
         "rawType": "float64",
         "type": "float"
        },
        {
         "name": "PO PRICE",
         "rawType": "float64",
         "type": "float"
        },
        {
         "name": "PO_HAS_PROJECT_FREIGHT",
         "rawType": "bool",
         "type": "boolean"
        },
        {
         "name": "TOTAL_PO_VALUE",
         "rawType": "float64",
         "type": "float"
        },
        {
         "name": "PROJECT_FREIGHT_COST",
         "rawType": "float64",
         "type": "float"
        },
        {
         "name": "PRODUCT_ONLY_PO_VALUE",
         "rawType": "float64",
         "type": "float"
        },
        {
         "name": "PROJECT_FREIGHT_PERCENT",
         "rawType": "float64",
         "type": "float"
        },
        {
         "name": "FREIGHT_PERCENT_EXCL_PRODUCT",
         "rawType": "float64",
         "type": "float"
        },
        {
         "name": "FREIGHT_≥90%_OF_PO",
         "rawType": "bool",
         "type": "boolean"
        },
        {
         "name": "FREIGHT_GT_PRODUCT",
         "rawType": "bool",
         "type": "boolean"
        },
        {
         "name": "NEGATIVE_FREIGHT_PERCENT",
         "rawType": "bool",
         "type": "boolean"
        },
        {
         "name": "PROJECT_FREIGHT_LINE_COUNT",
         "rawType": "int32",
         "type": "integer"
        },
        {
         "name": "PO_HAS_MULTIPLE_PROJECT_FREIGHT_LINES",
         "rawType": "bool",
         "type": "boolean"
        },
        {
         "name": "HIGH_FREIGHT_FLAG",
         "rawType": "object",
         "type": "string"
        },
        {
         "name": "PART DESCRIPTION CLEAN",
         "rawType": "object",
         "type": "string"
        },
        {
         "name": "IS_LABOR",
         "rawType": "bool",
         "type": "boolean"
        },
        {
         "name": "PRODUCT_ORDER_COUNT",
         "rawType": "float64",
         "type": "float"
        },
        {
         "name": "PRODUCT_ORDER_RANK",
         "rawType": "float64",
         "type": "float"
        },
        {
         "name": "UOM_COMPARISON_STATUS",
         "rawType": "object",
         "type": "string"
        },
        {
         "name": "PO_INVOICE_COMPOSITE_KEY",
         "rawType": "object",
         "type": "string"
        },
        {
         "name": "PO_COMPOSITE_KEY_CONSISTENCY",
         "rawType": "object",
         "type": "string"
        },
        {
         "name": "Commodity Group",
         "rawType": "object",
         "type": "string"
        },
        {
         "name": "Description",
         "rawType": "object",
         "type": "string"
        },
        {
         "name": "Old/New",
         "rawType": "object",
         "type": "string"
        },
        {
         "name": "Priority",
         "rawType": "object",
         "type": "string"
        }
       ],
       "conversionMethod": "pd.DataFrame",
       "ref": "be71a3a7-777e-4d07-a855-a8349357891d",
       "rows": [
        [
         "0",
         "BNB",
         "Beckers New Brighton",
         "102548",
         "Lonseal Flooring",
         "433731",
         "0007795-CM",
         "3-Jan-24",
         "2311121922",
         "REGIONS HOSPITAL 4TH MRI",
         "5400",
         "PROJECT Sub-Contract Labor",
         null,
         null,
         null,
         null,
         null,
         null,
         null,
         null,
         "nan",
         null,
         null,
         null,
         null,
         null,
         null,
         "-600.0",
         null,
         "False",
         null,
         "0.0",
         null,
         null,
         null,
         "False",
         "False",
         "False",
         "0",
         "False",
         null,
         "NAN",
         "False",
         null,
         null,
         "Missing INV UOM",
         "nan|433731|0007795-CM",
         null,
         null,
         null,
         null,
         null
        ],
        [
         "1",
         "BNB",
         "Beckers New Brighton",
         "104716",
         "Hank's Specialties",
         "433340",
         "173373",
         "3-Jan-24",
         "2312127706",
         "UOFM MOLECULAR & CELLULAR BIOLOGY P",
         "2008",
         "Received Not Yet Invoiced",
         "2-Jan-24",
         "55430",
         "48180",
         "9",
         "1",
         "1.0",
         "1000007968",
         "PROTECT ALL PRE-NOTCHED Z-BAR INSIDE CORNER ALUMINUM (864056A) 12\"X12\" ALUMINUM",
         "1ACC",
         "1ACC",
         "4.0",
         "EA",
         "4.0",
         "EA",
         "4.0",
         "18.4",
         "18.4",
         "True",
         "2021.9",
         "50.0",
         "1971.9",
         "0.024729",
         "0.025356",
         "False",
         "False",
         "False",
         "1",
         "False",
         "False",
         "PROTECT ALL PRE-NOTCHED Z-BAR INSIDE CORNER ALUMINUM (864056A) 12\"X12\" ALUMINUM",
         "False",
         "1.0",
         "129.0",
         "Match",
         "48180|433340|173373",
         "Inconsistent",
         "1ACC",
         "Accessories",
         "New Commodity",
         "No"
        ],
        [
         "2",
         "BNB",
         "Beckers New Brighton",
         "104716",
         "Hank's Specialties",
         "433340",
         "173373",
         "3-Jan-24",
         "2312127706",
         "UOFM MOLECULAR & CELLULAR BIOLOGY P",
         "2008",
         "Received Not Yet Invoiced",
         "2-Jan-24",
         "55430",
         "48180",
         "1",
         "1",
         "1.0",
         "1000008162",
         "PROTECT ALL Z BAR DARK GRAY VINYL COVE CAP 8' (864052) 8' DARK GRAY",
         "1TRAN",
         "2ALL",
         "7.0",
         "EA",
         "7.0",
         "EA",
         "7.0",
         "45.36",
         "45.36",
         "True",
         "2021.9",
         "50.0",
         "1971.9",
         "0.024729",
         "0.025356",
         "False",
         "False",
         "False",
         "1",
         "False",
         "False",
         "PROTECT ALL Z BAR DARK GRAY VINYL COVE CAP 8' (864052) 8' DARK GRAY",
         "False",
         "1.0",
         "129.0",
         "Match",
         "48180|433340|173373",
         "Inconsistent",
         "1TRAN",
         "Transitions",
         "New Commodity",
         "No"
        ],
        [
         "3",
         "BNB",
         "Beckers New Brighton",
         "104716",
         "Hank's Specialties",
         "433340",
         "173373",
         "3-Jan-24",
         "2312127706",
         "UOFM MOLECULAR & CELLULAR BIOLOGY P",
         "5504",
         "PROJECT Freight",
         null,
         null,
         "48180",
         null,
         null,
         null,
         null,
         null,
         "nan",
         null,
         null,
         null,
         null,
         null,
         null,
         "50.0",
         null,
         "True",
         "2021.9",
         "50.0",
         "1971.9",
         "0.024729",
         "0.025356",
         "False",
         "False",
         "False",
         "1",
         "False",
         null,
         "NAN",
         "False",
         null,
         null,
         "Missing INV UOM",
         "48180|433340|173373",
         "Inconsistent",
         null,
         null,
         null,
         null
        ],
        [
         "4",
         "BNB",
         "Beckers New Brighton",
         "104716",
         "Hank's Specialties",
         "433340",
         "173373",
         "3-Jan-24",
         "2312127706",
         "UOFM MOLECULAR & CELLULAR BIOLOGY P",
         "2015",
         "Sales Tax Payable",
         null,
         null,
         "48180",
         null,
         null,
         null,
         null,
         null,
         "nan",
         null,
         null,
         null,
         null,
         null,
         null,
         "151.42",
         null,
         "True",
         "2021.9",
         "50.0",
         "1971.9",
         "0.024729",
         "0.025356",
         "False",
         "False",
         "False",
         "1",
         "False",
         null,
         "NAN",
         "False",
         null,
         null,
         "Missing INV UOM",
         "48180|433340|173373",
         "Inconsistent",
         null,
         null,
         null,
         null
        ]
       ],
       "shape": {
        "columns": 51,
        "rows": 5
       }
      },
      "text/html": [
       "<div>\n",
       "<style scoped>\n",
       "    .dataframe tbody tr th:only-of-type {\n",
       "        vertical-align: middle;\n",
       "    }\n",
       "\n",
       "    .dataframe tbody tr th {\n",
       "        vertical-align: top;\n",
       "    }\n",
       "\n",
       "    .dataframe thead th {\n",
       "        text-align: right;\n",
       "    }\n",
       "</style>\n",
       "<table border=\"1\" class=\"dataframe\">\n",
       "  <thead>\n",
       "    <tr style=\"text-align: right;\">\n",
       "      <th></th>\n",
       "      <th>SITE</th>\n",
       "      <th>SITE DESCRIPTION</th>\n",
       "      <th>SUPPLIER NO</th>\n",
       "      <th>SUPPLIER NAME</th>\n",
       "      <th>INVOICE ID</th>\n",
       "      <th>INVOICE NO</th>\n",
       "      <th>DATE POSTED</th>\n",
       "      <th>PROJECT ID</th>\n",
       "      <th>PROJECT NAME</th>\n",
       "      <th>ACCOUNT</th>\n",
       "      <th>...</th>\n",
       "      <th>IS_LABOR</th>\n",
       "      <th>PRODUCT_ORDER_COUNT</th>\n",
       "      <th>PRODUCT_ORDER_RANK</th>\n",
       "      <th>UOM_COMPARISON_STATUS</th>\n",
       "      <th>PO_INVOICE_COMPOSITE_KEY</th>\n",
       "      <th>PO_COMPOSITE_KEY_CONSISTENCY</th>\n",
       "      <th>Commodity Group</th>\n",
       "      <th>Description</th>\n",
       "      <th>Old/New</th>\n",
       "      <th>Priority</th>\n",
       "    </tr>\n",
       "  </thead>\n",
       "  <tbody>\n",
       "    <tr>\n",
       "      <th>0</th>\n",
       "      <td>BNB</td>\n",
       "      <td>Beckers New Brighton</td>\n",
       "      <td>102548</td>\n",
       "      <td>Lonseal Flooring</td>\n",
       "      <td>433731</td>\n",
       "      <td>0007795-CM</td>\n",
       "      <td>3-Jan-24</td>\n",
       "      <td>2311121922</td>\n",
       "      <td>REGIONS HOSPITAL 4TH MRI</td>\n",
       "      <td>5400</td>\n",
       "      <td>...</td>\n",
       "      <td>False</td>\n",
       "      <td>NaN</td>\n",
       "      <td>NaN</td>\n",
       "      <td>Missing INV UOM</td>\n",
       "      <td>nan|433731|0007795-CM</td>\n",
       "      <td>NaN</td>\n",
       "      <td>NaN</td>\n",
       "      <td>NaN</td>\n",
       "      <td>NaN</td>\n",
       "      <td>NaN</td>\n",
       "    </tr>\n",
       "    <tr>\n",
       "      <th>1</th>\n",
       "      <td>BNB</td>\n",
       "      <td>Beckers New Brighton</td>\n",
       "      <td>104716</td>\n",
       "      <td>Hank's Specialties</td>\n",
       "      <td>433340</td>\n",
       "      <td>173373</td>\n",
       "      <td>3-Jan-24</td>\n",
       "      <td>2312127706</td>\n",
       "      <td>UOFM MOLECULAR &amp; CELLULAR BIOLOGY P</td>\n",
       "      <td>2008</td>\n",
       "      <td>...</td>\n",
       "      <td>False</td>\n",
       "      <td>1.0</td>\n",
       "      <td>129.0</td>\n",
       "      <td>Match</td>\n",
       "      <td>48180|433340|173373</td>\n",
       "      <td>Inconsistent</td>\n",
       "      <td>1ACC</td>\n",
       "      <td>Accessories</td>\n",
       "      <td>New Commodity</td>\n",
       "      <td>No</td>\n",
       "    </tr>\n",
       "    <tr>\n",
       "      <th>2</th>\n",
       "      <td>BNB</td>\n",
       "      <td>Beckers New Brighton</td>\n",
       "      <td>104716</td>\n",
       "      <td>Hank's Specialties</td>\n",
       "      <td>433340</td>\n",
       "      <td>173373</td>\n",
       "      <td>3-Jan-24</td>\n",
       "      <td>2312127706</td>\n",
       "      <td>UOFM MOLECULAR &amp; CELLULAR BIOLOGY P</td>\n",
       "      <td>2008</td>\n",
       "      <td>...</td>\n",
       "      <td>False</td>\n",
       "      <td>1.0</td>\n",
       "      <td>129.0</td>\n",
       "      <td>Match</td>\n",
       "      <td>48180|433340|173373</td>\n",
       "      <td>Inconsistent</td>\n",
       "      <td>1TRAN</td>\n",
       "      <td>Transitions</td>\n",
       "      <td>New Commodity</td>\n",
       "      <td>No</td>\n",
       "    </tr>\n",
       "    <tr>\n",
       "      <th>3</th>\n",
       "      <td>BNB</td>\n",
       "      <td>Beckers New Brighton</td>\n",
       "      <td>104716</td>\n",
       "      <td>Hank's Specialties</td>\n",
       "      <td>433340</td>\n",
       "      <td>173373</td>\n",
       "      <td>3-Jan-24</td>\n",
       "      <td>2312127706</td>\n",
       "      <td>UOFM MOLECULAR &amp; CELLULAR BIOLOGY P</td>\n",
       "      <td>5504</td>\n",
       "      <td>...</td>\n",
       "      <td>False</td>\n",
       "      <td>NaN</td>\n",
       "      <td>NaN</td>\n",
       "      <td>Missing INV UOM</td>\n",
       "      <td>48180|433340|173373</td>\n",
       "      <td>Inconsistent</td>\n",
       "      <td>NaN</td>\n",
       "      <td>NaN</td>\n",
       "      <td>NaN</td>\n",
       "      <td>NaN</td>\n",
       "    </tr>\n",
       "    <tr>\n",
       "      <th>4</th>\n",
       "      <td>BNB</td>\n",
       "      <td>Beckers New Brighton</td>\n",
       "      <td>104716</td>\n",
       "      <td>Hank's Specialties</td>\n",
       "      <td>433340</td>\n",
       "      <td>173373</td>\n",
       "      <td>3-Jan-24</td>\n",
       "      <td>2312127706</td>\n",
       "      <td>UOFM MOLECULAR &amp; CELLULAR BIOLOGY P</td>\n",
       "      <td>2015</td>\n",
       "      <td>...</td>\n",
       "      <td>False</td>\n",
       "      <td>NaN</td>\n",
       "      <td>NaN</td>\n",
       "      <td>Missing INV UOM</td>\n",
       "      <td>48180|433340|173373</td>\n",
       "      <td>Inconsistent</td>\n",
       "      <td>NaN</td>\n",
       "      <td>NaN</td>\n",
       "      <td>NaN</td>\n",
       "      <td>NaN</td>\n",
       "    </tr>\n",
       "  </tbody>\n",
       "</table>\n",
       "<p>5 rows × 51 columns</p>\n",
       "</div>"
      ],
      "text/plain": [
       "  SITE      SITE DESCRIPTION SUPPLIER NO       SUPPLIER NAME  INVOICE ID  \\\n",
       "0  BNB  Beckers New Brighton      102548    Lonseal Flooring      433731   \n",
       "1  BNB  Beckers New Brighton      104716  Hank's Specialties      433340   \n",
       "2  BNB  Beckers New Brighton      104716  Hank's Specialties      433340   \n",
       "3  BNB  Beckers New Brighton      104716  Hank's Specialties      433340   \n",
       "4  BNB  Beckers New Brighton      104716  Hank's Specialties      433340   \n",
       "\n",
       "   INVOICE NO DATE POSTED  PROJECT ID                         PROJECT NAME  \\\n",
       "0  0007795-CM    3-Jan-24  2311121922             REGIONS HOSPITAL 4TH MRI   \n",
       "1      173373    3-Jan-24  2312127706  UOFM MOLECULAR & CELLULAR BIOLOGY P   \n",
       "2      173373    3-Jan-24  2312127706  UOFM MOLECULAR & CELLULAR BIOLOGY P   \n",
       "3      173373    3-Jan-24  2312127706  UOFM MOLECULAR & CELLULAR BIOLOGY P   \n",
       "4      173373    3-Jan-24  2312127706  UOFM MOLECULAR & CELLULAR BIOLOGY P   \n",
       "\n",
       "   ACCOUNT  ... IS_LABOR PRODUCT_ORDER_COUNT PRODUCT_ORDER_RANK  \\\n",
       "0     5400  ...    False                 NaN                NaN   \n",
       "1     2008  ...    False                 1.0              129.0   \n",
       "2     2008  ...    False                 1.0              129.0   \n",
       "3     5504  ...    False                 NaN                NaN   \n",
       "4     2015  ...    False                 NaN                NaN   \n",
       "\n",
       "  UOM_COMPARISON_STATUS PO_INVOICE_COMPOSITE_KEY PO_COMPOSITE_KEY_CONSISTENCY  \\\n",
       "0       Missing INV UOM    nan|433731|0007795-CM                          NaN   \n",
       "1                 Match      48180|433340|173373                 Inconsistent   \n",
       "2                 Match      48180|433340|173373                 Inconsistent   \n",
       "3       Missing INV UOM      48180|433340|173373                 Inconsistent   \n",
       "4       Missing INV UOM      48180|433340|173373                 Inconsistent   \n",
       "\n",
       "   Commodity Group  Description        Old/New Priority  \n",
       "0              NaN          NaN            NaN      NaN  \n",
       "1             1ACC  Accessories  New Commodity       No  \n",
       "2            1TRAN  Transitions  New Commodity       No  \n",
       "3              NaN          NaN            NaN      NaN  \n",
       "4              NaN          NaN            NaN      NaN  \n",
       "\n",
       "[5 rows x 51 columns]"
      ]
     },
     "execution_count": 69,
     "metadata": {},
     "output_type": "execute_result"
    }
   ],
   "source": [
    "# Perform the join on the 'COMM 1' column\n",
    "merged_df = df.merge(commodity_df, on='COMM 1', how='left')\n",
    "\n",
    "# Display the first few rows of the merged DataFrame\n",
    "merged_df.head()"
   ]
  },
  {
   "cell_type": "code",
   "execution_count": 70,
   "metadata": {},
   "outputs": [
    {
     "data": {
      "application/vnd.microsoft.datawrangler.viewer.v0+json": {
       "columns": [
        {
         "name": "index",
         "rawType": "int64",
         "type": "integer"
        },
        {
         "name": "Supplier Id",
         "rawType": "object",
         "type": "string"
        },
        {
         "name": "Supplier Name",
         "rawType": "object",
         "type": "string"
        },
        {
         "name": "Po Ref Number",
         "rawType": "object",
         "type": "string"
        },
        {
         "name": "Status",
         "rawType": "object",
         "type": "string"
        },
        {
         "name": "Invoice Series",
         "rawType": "object",
         "type": "string"
        },
        {
         "name": "Invoice No",
         "rawType": "object",
         "type": "string"
        },
        {
         "name": "Invoice Date",
         "rawType": "datetime64[ns]",
         "type": "datetime"
        },
        {
         "name": "Voucher Type",
         "rawType": "object",
         "type": "string"
        },
        {
         "name": "Voucher No",
         "rawType": "int64",
         "type": "integer"
        },
        {
         "name": "Voucher Date",
         "rawType": "datetime64[ns]",
         "type": "datetime"
        },
        {
         "name": "Accounting Year",
         "rawType": "int64",
         "type": "integer"
        },
        {
         "name": "Accounting Period",
         "rawType": "int64",
         "type": "integer"
        },
        {
         "name": "Amount",
         "rawType": "float64",
         "type": "float"
        },
        {
         "name": "Account",
         "rawType": "int64",
         "type": "integer"
        },
        {
         "name": "Account Desc",
         "rawType": "object",
         "type": "string"
        },
        {
         "name": "Department",
         "rawType": "object",
         "type": "string"
        },
        {
         "name": "Department Desc",
         "rawType": "object",
         "type": "string"
        },
        {
         "name": "Psl",
         "rawType": "object",
         "type": "string"
        },
        {
         "name": "Psl Desc",
         "rawType": "object",
         "type": "string"
        },
        {
         "name": "Project",
         "rawType": "object",
         "type": "string"
        },
        {
         "name": "Project Desc",
         "rawType": "object",
         "type": "string"
        },
        {
         "name": "Site Code",
         "rawType": "object",
         "type": "string"
        },
        {
         "name": "Site Code Desc",
         "rawType": "object",
         "type": "string"
        },
        {
         "name": "Fixed Asset",
         "rawType": "object",
         "type": "string"
        },
        {
         "name": "Fixed Asset Desc",
         "rawType": "object",
         "type": "string"
        },
        {
         "name": "Brand Part",
         "rawType": "object",
         "type": "string"
        },
        {
         "name": "Brand Part Desc",
         "rawType": "object",
         "type": "string"
        },
        {
         "name": "Project Activity",
         "rawType": "float64",
         "type": "float"
        },
        {
         "name": "Line Ref",
         "rawType": "float64",
         "type": "float"
        },
        {
         "name": "Posting Line Amount",
         "rawType": "float64",
         "type": "float"
        }
       ],
       "conversionMethod": "pd.DataFrame",
       "ref": "f30ca6d7-42e4-4a31-8a71-7f2b2d9e7bf7",
       "rows": [
        [
         "0",
         "104323",
         "Nydree Flooring",
         "168676",
         "Paid Posted",
         "SX",
         "0125342-IN",
         "2024-12-17 00:00:00",
         "I",
         "2025001129",
         "2025-01-02 00:00:00",
         "2025",
         "1",
         "394.87",
         "5504",
         "PROJECT Freight",
         "PM",
         "All client project functions for flooring projects",
         null,
         null,
         "SPN192031",
         "Amli Atlantic Station Public Area",
         "SPN",
         "Spectra Norcross",
         null,
         null,
         "SPC",
         "Spectra",
         "100044728.0",
         null,
         "81.31"
        ],
        [
         "1",
         "107786",
         "Dal Tile Corporation",
         "130449",
         "Paid Posted",
         "SX",
         "0143516889",
         "2024-08-15 00:00:00",
         "I",
         "2025009505",
         "2025-01-23 00:00:00",
         "2025",
         "1",
         "384.37",
         "5504",
         "PROJECT Freight",
         "PM",
         "All client project functions for flooring projects",
         null,
         null,
         "2407165192",
         "North Chase 300",
         "FSC",
         "Floor Sol Charleston",
         null,
         null,
         "FLS",
         "Flooring Solutions",
         "100155932.0",
         null,
         "10.45"
        ],
        [
         "2",
         "107786",
         "Dal Tile Corporation",
         "130449",
         "Paid Posted",
         "SX",
         "0143516889",
         "2024-08-15 00:00:00",
         "I",
         "2025009505",
         "2025-01-23 00:00:00",
         "2025",
         "1",
         "384.37",
         "5599",
         "PROJECT Use Tax for Jobs",
         "PM",
         "All client project functions for flooring projects",
         null,
         null,
         "2407165192",
         "North Chase 300",
         "FSC",
         "Floor Sol Charleston",
         null,
         null,
         "FLS",
         "Flooring Solutions",
         "100155932.0",
         null,
         "25.98"
        ],
        [
         "3",
         "107786",
         "Dal Tile Corporation",
         "130449",
         "Paid Posted",
         "SX",
         "0143516889",
         "2024-08-15 00:00:00",
         "I",
         "2025009505",
         "2025-01-23 00:00:00",
         "2025",
         "1",
         "384.37",
         "5205",
         "PROJECT PO Variance M181 & M182",
         "PM",
         "All client project functions for flooring projects",
         null,
         null,
         "2407165192",
         "North Chase 300",
         "FSC",
         "Floor Sol Charleston",
         null,
         null,
         "FLS",
         "Flooring Solutions",
         "100155932.0",
         null,
         "24.19"
        ],
        [
         "4",
         "126695",
         "Tarkett USA Inc",
         "107284",
         "Paid Posted",
         "SI",
         "8201991030",
         "2024-07-17 00:00:00",
         "I",
         "2025003166",
         "2025-01-08 00:00:00",
         "2025",
         "1",
         "111.48",
         "5599",
         "PROJECT Use Tax for Jobs",
         "PM",
         "All client project functions for flooring projects",
         null,
         null,
         "2406160303",
         "LCPS Loudoun County High School",
         "CCSG",
         "Contract Carpet Sol Government",
         null,
         null,
         "CCSG",
         "Contract Carpet Systems Government",
         "100147054.0",
         null,
         "6.31"
        ]
       ],
       "shape": {
        "columns": 30,
        "rows": 5
       }
      },
      "text/html": [
       "<div>\n",
       "<style scoped>\n",
       "    .dataframe tbody tr th:only-of-type {\n",
       "        vertical-align: middle;\n",
       "    }\n",
       "\n",
       "    .dataframe tbody tr th {\n",
       "        vertical-align: top;\n",
       "    }\n",
       "\n",
       "    .dataframe thead th {\n",
       "        text-align: right;\n",
       "    }\n",
       "</style>\n",
       "<table border=\"1\" class=\"dataframe\">\n",
       "  <thead>\n",
       "    <tr style=\"text-align: right;\">\n",
       "      <th></th>\n",
       "      <th>Supplier Id</th>\n",
       "      <th>Supplier Name</th>\n",
       "      <th>Po Ref Number</th>\n",
       "      <th>Status</th>\n",
       "      <th>Invoice Series</th>\n",
       "      <th>Invoice No</th>\n",
       "      <th>Invoice Date</th>\n",
       "      <th>Voucher Type</th>\n",
       "      <th>Voucher No</th>\n",
       "      <th>Voucher Date</th>\n",
       "      <th>...</th>\n",
       "      <th>Project Desc</th>\n",
       "      <th>Site Code</th>\n",
       "      <th>Site Code Desc</th>\n",
       "      <th>Fixed Asset</th>\n",
       "      <th>Fixed Asset Desc</th>\n",
       "      <th>Brand Part</th>\n",
       "      <th>Brand Part Desc</th>\n",
       "      <th>Project Activity</th>\n",
       "      <th>Line Ref</th>\n",
       "      <th>Posting Line Amount</th>\n",
       "    </tr>\n",
       "  </thead>\n",
       "  <tbody>\n",
       "    <tr>\n",
       "      <th>0</th>\n",
       "      <td>104323</td>\n",
       "      <td>Nydree Flooring</td>\n",
       "      <td>168676</td>\n",
       "      <td>Paid Posted</td>\n",
       "      <td>SX</td>\n",
       "      <td>0125342-IN</td>\n",
       "      <td>2024-12-17</td>\n",
       "      <td>I</td>\n",
       "      <td>2025001129</td>\n",
       "      <td>2025-01-02</td>\n",
       "      <td>...</td>\n",
       "      <td>Amli Atlantic Station Public Area</td>\n",
       "      <td>SPN</td>\n",
       "      <td>Spectra Norcross</td>\n",
       "      <td>NaN</td>\n",
       "      <td>NaN</td>\n",
       "      <td>SPC</td>\n",
       "      <td>Spectra</td>\n",
       "      <td>100044728.0</td>\n",
       "      <td>NaN</td>\n",
       "      <td>81.31</td>\n",
       "    </tr>\n",
       "    <tr>\n",
       "      <th>1</th>\n",
       "      <td>107786</td>\n",
       "      <td>Dal Tile Corporation</td>\n",
       "      <td>130449</td>\n",
       "      <td>Paid Posted</td>\n",
       "      <td>SX</td>\n",
       "      <td>0143516889</td>\n",
       "      <td>2024-08-15</td>\n",
       "      <td>I</td>\n",
       "      <td>2025009505</td>\n",
       "      <td>2025-01-23</td>\n",
       "      <td>...</td>\n",
       "      <td>North Chase 300</td>\n",
       "      <td>FSC</td>\n",
       "      <td>Floor Sol Charleston</td>\n",
       "      <td>NaN</td>\n",
       "      <td>NaN</td>\n",
       "      <td>FLS</td>\n",
       "      <td>Flooring Solutions</td>\n",
       "      <td>100155932.0</td>\n",
       "      <td>NaN</td>\n",
       "      <td>10.45</td>\n",
       "    </tr>\n",
       "    <tr>\n",
       "      <th>2</th>\n",
       "      <td>107786</td>\n",
       "      <td>Dal Tile Corporation</td>\n",
       "      <td>130449</td>\n",
       "      <td>Paid Posted</td>\n",
       "      <td>SX</td>\n",
       "      <td>0143516889</td>\n",
       "      <td>2024-08-15</td>\n",
       "      <td>I</td>\n",
       "      <td>2025009505</td>\n",
       "      <td>2025-01-23</td>\n",
       "      <td>...</td>\n",
       "      <td>North Chase 300</td>\n",
       "      <td>FSC</td>\n",
       "      <td>Floor Sol Charleston</td>\n",
       "      <td>NaN</td>\n",
       "      <td>NaN</td>\n",
       "      <td>FLS</td>\n",
       "      <td>Flooring Solutions</td>\n",
       "      <td>100155932.0</td>\n",
       "      <td>NaN</td>\n",
       "      <td>25.98</td>\n",
       "    </tr>\n",
       "    <tr>\n",
       "      <th>3</th>\n",
       "      <td>107786</td>\n",
       "      <td>Dal Tile Corporation</td>\n",
       "      <td>130449</td>\n",
       "      <td>Paid Posted</td>\n",
       "      <td>SX</td>\n",
       "      <td>0143516889</td>\n",
       "      <td>2024-08-15</td>\n",
       "      <td>I</td>\n",
       "      <td>2025009505</td>\n",
       "      <td>2025-01-23</td>\n",
       "      <td>...</td>\n",
       "      <td>North Chase 300</td>\n",
       "      <td>FSC</td>\n",
       "      <td>Floor Sol Charleston</td>\n",
       "      <td>NaN</td>\n",
       "      <td>NaN</td>\n",
       "      <td>FLS</td>\n",
       "      <td>Flooring Solutions</td>\n",
       "      <td>100155932.0</td>\n",
       "      <td>NaN</td>\n",
       "      <td>24.19</td>\n",
       "    </tr>\n",
       "    <tr>\n",
       "      <th>4</th>\n",
       "      <td>126695</td>\n",
       "      <td>Tarkett USA Inc</td>\n",
       "      <td>107284</td>\n",
       "      <td>Paid Posted</td>\n",
       "      <td>SI</td>\n",
       "      <td>8201991030</td>\n",
       "      <td>2024-07-17</td>\n",
       "      <td>I</td>\n",
       "      <td>2025003166</td>\n",
       "      <td>2025-01-08</td>\n",
       "      <td>...</td>\n",
       "      <td>LCPS Loudoun County High School</td>\n",
       "      <td>CCSG</td>\n",
       "      <td>Contract Carpet Sol Government</td>\n",
       "      <td>NaN</td>\n",
       "      <td>NaN</td>\n",
       "      <td>CCSG</td>\n",
       "      <td>Contract Carpet Systems Government</td>\n",
       "      <td>100147054.0</td>\n",
       "      <td>NaN</td>\n",
       "      <td>6.31</td>\n",
       "    </tr>\n",
       "  </tbody>\n",
       "</table>\n",
       "<p>5 rows × 30 columns</p>\n",
       "</div>"
      ],
      "text/plain": [
       "  Supplier Id         Supplier Name Po Ref Number       Status Invoice Series  \\\n",
       "0      104323       Nydree Flooring        168676  Paid Posted             SX   \n",
       "1      107786  Dal Tile Corporation        130449  Paid Posted             SX   \n",
       "2      107786  Dal Tile Corporation        130449  Paid Posted             SX   \n",
       "3      107786  Dal Tile Corporation        130449  Paid Posted             SX   \n",
       "4      126695       Tarkett USA Inc        107284  Paid Posted             SI   \n",
       "\n",
       "   Invoice No Invoice Date Voucher Type  Voucher No Voucher Date  ...  \\\n",
       "0  0125342-IN   2024-12-17            I  2025001129   2025-01-02  ...   \n",
       "1  0143516889   2024-08-15            I  2025009505   2025-01-23  ...   \n",
       "2  0143516889   2024-08-15            I  2025009505   2025-01-23  ...   \n",
       "3  0143516889   2024-08-15            I  2025009505   2025-01-23  ...   \n",
       "4  8201991030   2024-07-17            I  2025003166   2025-01-08  ...   \n",
       "\n",
       "                        Project Desc  Site Code  \\\n",
       "0  Amli Atlantic Station Public Area        SPN   \n",
       "1                    North Chase 300        FSC   \n",
       "2                    North Chase 300        FSC   \n",
       "3                    North Chase 300        FSC   \n",
       "4    LCPS Loudoun County High School       CCSG   \n",
       "\n",
       "                   Site Code Desc  Fixed Asset Fixed Asset Desc Brand Part  \\\n",
       "0                Spectra Norcross          NaN              NaN        SPC   \n",
       "1            Floor Sol Charleston          NaN              NaN        FLS   \n",
       "2            Floor Sol Charleston          NaN              NaN        FLS   \n",
       "3            Floor Sol Charleston          NaN              NaN        FLS   \n",
       "4  Contract Carpet Sol Government          NaN              NaN       CCSG   \n",
       "\n",
       "                      Brand Part Desc Project Activity Line Ref  \\\n",
       "0                             Spectra      100044728.0      NaN   \n",
       "1                  Flooring Solutions      100155932.0      NaN   \n",
       "2                  Flooring Solutions      100155932.0      NaN   \n",
       "3                  Flooring Solutions      100155932.0      NaN   \n",
       "4  Contract Carpet Systems Government      100147054.0      NaN   \n",
       "\n",
       "  Posting Line Amount  \n",
       "0               81.31  \n",
       "1               10.45  \n",
       "2               25.98  \n",
       "3               24.19  \n",
       "4                6.31  \n",
       "\n",
       "[5 rows x 30 columns]"
      ]
     },
     "execution_count": 70,
     "metadata": {},
     "output_type": "execute_result"
    }
   ],
   "source": [
    "manual_lines_df = pd.read_excel('data/input/Manual Lines.xlsx',sheet_name='Sheet0')\n",
    "manual_lines_df.head()"
   ]
  },
  {
   "cell_type": "code",
   "execution_count": 71,
   "metadata": {},
   "outputs": [],
   "source": [
    "manual_lines_df['PO NO'] = manual_lines_df['Po Ref Number'].astype(str)"
   ]
  },
  {
   "cell_type": "code",
   "execution_count": 72,
   "metadata": {},
   "outputs": [],
   "source": [
    "merged_df['PO NO'] = merged_df['PO NO'].astype(str)"
   ]
  },
  {
   "cell_type": "code",
   "execution_count": 73,
   "metadata": {},
   "outputs": [],
   "source": [
    "# Create a new column to indicate if the PO NO is manual\n",
    "merged_df['IS_MANUAL'] = merged_df['PO NO'].isin(manual_lines_df['PO NO'])"
   ]
  },
  {
   "cell_type": "code",
   "execution_count": 74,
   "metadata": {},
   "outputs": [
    {
     "data": {
      "text/plain": [
       "Index(['SITE', 'SITE DESCRIPTION', 'SUPPLIER NO', 'SUPPLIER NAME',\n",
       "       'INVOICE ID', 'INVOICE NO', 'DATE POSTED', 'PROJECT ID', 'PROJECT NAME',\n",
       "       'ACCOUNT', 'ACCOUNT DESCRIPTION', 'PLANNED DELIVERY DATE',\n",
       "       'SHIP TO ZIP', 'PO NO', 'PO LINE NO', 'PO REL NO', 'RECEIPT NO',\n",
       "       'PART NO', 'PART DESCRIPTION', 'COMM 1', 'COMM 2', 'PO PURCH QTY',\n",
       "       'PURCH UOM', 'PO INV QTY', 'INV UOM', 'INVOICED LINE QTY',\n",
       "       'INVOICE LINE TOTAL', 'PO PRICE', 'PO_HAS_PROJECT_FREIGHT',\n",
       "       'TOTAL_PO_VALUE', 'PROJECT_FREIGHT_COST', 'PRODUCT_ONLY_PO_VALUE',\n",
       "       'PROJECT_FREIGHT_PERCENT', 'FREIGHT_PERCENT_EXCL_PRODUCT',\n",
       "       'FREIGHT_≥90%_OF_PO', 'FREIGHT_GT_PRODUCT', 'NEGATIVE_FREIGHT_PERCENT',\n",
       "       'PROJECT_FREIGHT_LINE_COUNT', 'PO_HAS_MULTIPLE_PROJECT_FREIGHT_LINES',\n",
       "       'HIGH_FREIGHT_FLAG', 'PART DESCRIPTION CLEAN', 'IS_LABOR',\n",
       "       'PRODUCT_ORDER_COUNT', 'PRODUCT_ORDER_RANK', 'UOM_COMPARISON_STATUS',\n",
       "       'PO_INVOICE_COMPOSITE_KEY', 'PO_COMPOSITE_KEY_CONSISTENCY',\n",
       "       'Commodity Group', 'Description', 'Old/New', 'Priority', 'IS_MANUAL'],\n",
       "      dtype='object')"
      ]
     },
     "execution_count": 74,
     "metadata": {},
     "output_type": "execute_result"
    }
   ],
   "source": [
    "merged_df.columns"
   ]
  },
  {
   "cell_type": "code",
   "execution_count": 75,
   "metadata": {},
   "outputs": [],
   "source": [
    "# Group by 'PO NO' and check if all rows in each group have 'Priority' == 'Yes'\n",
    "merged_df['ALL_PRIORITY'] = merged_df.groupby('PO NO')['Priority'].transform(lambda x: (x == 'Yes').all())\n",
    "\n",
    "# Flag the PO NOs where all rows have 'Priority' == 'Yes'\n",
    "merged_df['PRIORITY_PO_FLAG'] = merged_df['ALL_PRIORITY']"
   ]
  },
  {
   "cell_type": "code",
   "execution_count": 76,
   "metadata": {},
   "outputs": [
    {
     "data": {
      "text/plain": [
       "array([False,  True])"
      ]
     },
     "execution_count": 76,
     "metadata": {},
     "output_type": "execute_result"
    }
   ],
   "source": [
    "merged_df['PRIORITY_PO_FLAG'].unique()"
   ]
  },
  {
   "cell_type": "code",
   "execution_count": 77,
   "metadata": {},
   "outputs": [
    {
     "name": "stdout",
     "output_type": "stream",
     "text": [
      "\n",
      "✅ Filtered dataset exported to: data/output/Filtered_PO_Flag_True.csv\n"
     ]
    }
   ],
   "source": [
    "# Filter the DataFrame for rows where PO_HAS_PROJECT_FREIGHT is True\n",
    "filtered_df = merged_df[merged_df['PRIORITY_PO_FLAG'] == True]\n",
    "\n",
    "# Write the filtered DataFrame to a CSV file\n",
    "output_path_filtered = \"data/output/Filtered_PO_Flag_True.csv\"\n",
    "filtered_df.to_csv(output_path_filtered, index=False)\n",
    "print(f\"\\n✅ Filtered dataset exported to: {output_path_filtered}\")"
   ]
  },
  {
   "cell_type": "code",
   "execution_count": 78,
   "metadata": {},
   "outputs": [],
   "source": [
    "important_columns = [\n",
    "'SITE',\n",
    "'SUPPLIER NO',\n",
    "'PO NO',\n",
    "'ACCOUNT',\n",
    "'ACCOUNT DESCRIPTION',\n",
    "'INVOICE LINE TOTAL',\n",
    "'SHIP TO ZIP',\n",
    "'TOTAL_PO_VALUE',\n",
    "'PART NO', \n",
    "'PART DESCRIPTION',\n",
    "'PO PURCH QTY',\n",
    "'PO INV QTY', \n",
    "'INVOICED LINE QTY',\n",
    "'PURCH UOM', \n",
    "'INV UOM', \n",
    "'INVOICE LINE TOTAL', \n",
    "'PO PRICE', \n",
    "'TOTAL_PO_VALUE',\n",
    "'PO_HAS_PROJECT_FREIGHT',\n",
    "'PROJECT_FREIGHT_COST', \n",
    "'PROJECT_FREIGHT_PERCENT',\n",
    "'PRODUCT_ONLY_PO_VALUE', \n",
    "'FREIGHT_≥90%_OF_PO',\n",
    "'FREIGHT_GT_PRODUCT', \n",
    "'NEGATIVE_FREIGHT_PERCENT',\n",
    "'PO_HAS_MULTIPLE_PROJECT_FREIGHT_LINES',\n",
    "'COMM 1',\n",
    "'Commodity Group', \n",
    "'Description', \n",
    "'Old/New', \n",
    "'Priority',\n",
    "'IS_MANUAL',\n",
    "'PRIORITY_PO_FLAG'\n",
    "\n",
    "]"
   ]
  },
  {
   "cell_type": "code",
   "execution_count": 79,
   "metadata": {},
   "outputs": [
    {
     "data": {
      "application/vnd.microsoft.datawrangler.viewer.v0+json": {
       "columns": [
        {
         "name": "index",
         "rawType": "int64",
         "type": "integer"
        },
        {
         "name": "SITE",
         "rawType": "object",
         "type": "string"
        },
        {
         "name": "SUPPLIER NO",
         "rawType": "object",
         "type": "string"
        },
        {
         "name": "PO NO",
         "rawType": "object",
         "type": "string"
        },
        {
         "name": "ACCOUNT",
         "rawType": "int64",
         "type": "integer"
        },
        {
         "name": "ACCOUNT DESCRIPTION",
         "rawType": "object",
         "type": "string"
        },
        {
         "name": "INVOICE LINE TOTAL",
         "rawType": "float64",
         "type": "float"
        },
        {
         "name": "SHIP TO ZIP",
         "rawType": "object",
         "type": "string"
        },
        {
         "name": "TOTAL_PO_VALUE",
         "rawType": "float64",
         "type": "float"
        },
        {
         "name": "PART NO",
         "rawType": "object",
         "type": "string"
        },
        {
         "name": "PART DESCRIPTION",
         "rawType": "object",
         "type": "string"
        },
        {
         "name": "PO PURCH QTY",
         "rawType": "float64",
         "type": "float"
        },
        {
         "name": "PO INV QTY",
         "rawType": "float64",
         "type": "float"
        },
        {
         "name": "INVOICED LINE QTY",
         "rawType": "float64",
         "type": "float"
        },
        {
         "name": "PURCH UOM",
         "rawType": "object",
         "type": "string"
        },
        {
         "name": "INV UOM",
         "rawType": "object",
         "type": "string"
        },
        {
         "name": "INVOICE LINE TOTAL",
         "rawType": "float64",
         "type": "float"
        },
        {
         "name": "PO PRICE",
         "rawType": "float64",
         "type": "float"
        },
        {
         "name": "TOTAL_PO_VALUE",
         "rawType": "float64",
         "type": "float"
        },
        {
         "name": "PO_HAS_PROJECT_FREIGHT",
         "rawType": "bool",
         "type": "boolean"
        },
        {
         "name": "PROJECT_FREIGHT_COST",
         "rawType": "float64",
         "type": "float"
        },
        {
         "name": "PROJECT_FREIGHT_PERCENT",
         "rawType": "float64",
         "type": "float"
        },
        {
         "name": "PRODUCT_ONLY_PO_VALUE",
         "rawType": "float64",
         "type": "float"
        },
        {
         "name": "FREIGHT_≥90%_OF_PO",
         "rawType": "bool",
         "type": "boolean"
        },
        {
         "name": "FREIGHT_GT_PRODUCT",
         "rawType": "bool",
         "type": "boolean"
        },
        {
         "name": "NEGATIVE_FREIGHT_PERCENT",
         "rawType": "bool",
         "type": "boolean"
        },
        {
         "name": "PO_HAS_MULTIPLE_PROJECT_FREIGHT_LINES",
         "rawType": "bool",
         "type": "boolean"
        },
        {
         "name": "COMM 1",
         "rawType": "object",
         "type": "string"
        },
        {
         "name": "Commodity Group",
         "rawType": "object",
         "type": "string"
        },
        {
         "name": "Description",
         "rawType": "object",
         "type": "string"
        },
        {
         "name": "Old/New",
         "rawType": "object",
         "type": "string"
        },
        {
         "name": "Priority",
         "rawType": "object",
         "type": "string"
        },
        {
         "name": "IS_MANUAL",
         "rawType": "bool",
         "type": "boolean"
        },
        {
         "name": "PRIORITY_PO_FLAG",
         "rawType": "bool",
         "type": "boolean"
        }
       ],
       "conversionMethod": "pd.DataFrame",
       "ref": "d944464f-21de-46a5-8337-ee5769acb8b7",
       "rows": [
        [
         "0",
         "BNB",
         "102548",
         "nan",
         "5400",
         "PROJECT Sub-Contract Labor",
         "-600.0",
         null,
         null,
         null,
         null,
         null,
         null,
         null,
         null,
         null,
         "-600.0",
         null,
         null,
         "False",
         "0.0",
         null,
         null,
         "False",
         "False",
         "False",
         "False",
         "nan",
         null,
         null,
         null,
         null,
         "True",
         "False"
        ],
        [
         "1",
         "BNB",
         "104716",
         "48180",
         "2008",
         "Received Not Yet Invoiced",
         "18.4",
         "55430",
         "2021.9",
         "1000007968",
         "PROTECT ALL PRE-NOTCHED Z-BAR INSIDE CORNER ALUMINUM (864056A) 12\"X12\" ALUMINUM",
         "4.0",
         "4.0",
         "4.0",
         "EA",
         "EA",
         "18.4",
         "18.4",
         "2021.9",
         "True",
         "50.0",
         "0.024729",
         "1971.9",
         "False",
         "False",
         "False",
         "False",
         "1ACC",
         "1ACC",
         "Accessories",
         "New Commodity",
         "No",
         "False",
         "False"
        ]
       ],
       "shape": {
        "columns": 33,
        "rows": 2
       }
      },
      "text/html": [
       "<div>\n",
       "<style scoped>\n",
       "    .dataframe tbody tr th:only-of-type {\n",
       "        vertical-align: middle;\n",
       "    }\n",
       "\n",
       "    .dataframe tbody tr th {\n",
       "        vertical-align: top;\n",
       "    }\n",
       "\n",
       "    .dataframe thead th {\n",
       "        text-align: right;\n",
       "    }\n",
       "</style>\n",
       "<table border=\"1\" class=\"dataframe\">\n",
       "  <thead>\n",
       "    <tr style=\"text-align: right;\">\n",
       "      <th></th>\n",
       "      <th>SITE</th>\n",
       "      <th>SUPPLIER NO</th>\n",
       "      <th>PO NO</th>\n",
       "      <th>ACCOUNT</th>\n",
       "      <th>ACCOUNT DESCRIPTION</th>\n",
       "      <th>INVOICE LINE TOTAL</th>\n",
       "      <th>SHIP TO ZIP</th>\n",
       "      <th>TOTAL_PO_VALUE</th>\n",
       "      <th>PART NO</th>\n",
       "      <th>PART DESCRIPTION</th>\n",
       "      <th>...</th>\n",
       "      <th>FREIGHT_GT_PRODUCT</th>\n",
       "      <th>NEGATIVE_FREIGHT_PERCENT</th>\n",
       "      <th>PO_HAS_MULTIPLE_PROJECT_FREIGHT_LINES</th>\n",
       "      <th>COMM 1</th>\n",
       "      <th>Commodity Group</th>\n",
       "      <th>Description</th>\n",
       "      <th>Old/New</th>\n",
       "      <th>Priority</th>\n",
       "      <th>IS_MANUAL</th>\n",
       "      <th>PRIORITY_PO_FLAG</th>\n",
       "    </tr>\n",
       "  </thead>\n",
       "  <tbody>\n",
       "    <tr>\n",
       "      <th>0</th>\n",
       "      <td>BNB</td>\n",
       "      <td>102548</td>\n",
       "      <td>nan</td>\n",
       "      <td>5400</td>\n",
       "      <td>PROJECT Sub-Contract Labor</td>\n",
       "      <td>-600.0</td>\n",
       "      <td>NaN</td>\n",
       "      <td>NaN</td>\n",
       "      <td>NaN</td>\n",
       "      <td>NaN</td>\n",
       "      <td>...</td>\n",
       "      <td>False</td>\n",
       "      <td>False</td>\n",
       "      <td>False</td>\n",
       "      <td>nan</td>\n",
       "      <td>NaN</td>\n",
       "      <td>NaN</td>\n",
       "      <td>NaN</td>\n",
       "      <td>NaN</td>\n",
       "      <td>True</td>\n",
       "      <td>False</td>\n",
       "    </tr>\n",
       "    <tr>\n",
       "      <th>1</th>\n",
       "      <td>BNB</td>\n",
       "      <td>104716</td>\n",
       "      <td>48180</td>\n",
       "      <td>2008</td>\n",
       "      <td>Received Not Yet Invoiced</td>\n",
       "      <td>18.4</td>\n",
       "      <td>55430</td>\n",
       "      <td>2021.9</td>\n",
       "      <td>1000007968</td>\n",
       "      <td>PROTECT ALL PRE-NOTCHED Z-BAR INSIDE CORNER AL...</td>\n",
       "      <td>...</td>\n",
       "      <td>False</td>\n",
       "      <td>False</td>\n",
       "      <td>False</td>\n",
       "      <td>1ACC</td>\n",
       "      <td>1ACC</td>\n",
       "      <td>Accessories</td>\n",
       "      <td>New Commodity</td>\n",
       "      <td>No</td>\n",
       "      <td>False</td>\n",
       "      <td>False</td>\n",
       "    </tr>\n",
       "  </tbody>\n",
       "</table>\n",
       "<p>2 rows × 33 columns</p>\n",
       "</div>"
      ],
      "text/plain": [
       "  SITE SUPPLIER NO  PO NO  ACCOUNT         ACCOUNT DESCRIPTION  \\\n",
       "0  BNB      102548    nan     5400  PROJECT Sub-Contract Labor   \n",
       "1  BNB      104716  48180     2008   Received Not Yet Invoiced   \n",
       "\n",
       "   INVOICE LINE TOTAL SHIP TO ZIP  TOTAL_PO_VALUE     PART NO  \\\n",
       "0              -600.0         NaN             NaN         NaN   \n",
       "1                18.4       55430          2021.9  1000007968   \n",
       "\n",
       "                                    PART DESCRIPTION  ...  FREIGHT_GT_PRODUCT  \\\n",
       "0                                                NaN  ...               False   \n",
       "1  PROTECT ALL PRE-NOTCHED Z-BAR INSIDE CORNER AL...  ...               False   \n",
       "\n",
       "   NEGATIVE_FREIGHT_PERCENT  PO_HAS_MULTIPLE_PROJECT_FREIGHT_LINES COMM 1  \\\n",
       "0                     False                                  False    nan   \n",
       "1                     False                                  False   1ACC   \n",
       "\n",
       "  Commodity Group  Description        Old/New  Priority  IS_MANUAL  \\\n",
       "0             NaN          NaN            NaN       NaN       True   \n",
       "1            1ACC  Accessories  New Commodity        No      False   \n",
       "\n",
       "   PRIORITY_PO_FLAG  \n",
       "0             False  \n",
       "1             False  \n",
       "\n",
       "[2 rows x 33 columns]"
      ]
     },
     "execution_count": 79,
     "metadata": {},
     "output_type": "execute_result"
    }
   ],
   "source": [
    "# Filter the DataFrame to include only the important columns\n",
    "df_filtered = merged_df[important_columns]\n",
    "df_filtered.head(2)"
   ]
  },
  {
   "cell_type": "code",
   "execution_count": 80,
   "metadata": {},
   "outputs": [
    {
     "data": {
      "text/plain": [
       "(75724, 33)"
      ]
     },
     "execution_count": 80,
     "metadata": {},
     "output_type": "execute_result"
    }
   ],
   "source": [
    "df_sites = df_filtered[df_filtered['SITE'].isin(['SPJ','SPW','SPT'])]\n",
    "df_sites.shape"
   ]
  },
  {
   "cell_type": "code",
   "execution_count": 81,
   "metadata": {},
   "outputs": [
    {
     "name": "stdout",
     "output_type": "stream",
     "text": [
      "\n",
      "✅ Enriched dataset exported to: data/output/Freight_Analysis_Enriched_Sample_Sites_All.csv\n"
     ]
    }
   ],
   "source": [
    "# Export enriched dataset\n",
    "output_path = \"data/output/Freight_Analysis_Enriched_Sample_Sites_All.csv\"\n",
    "df_sites.to_csv(output_path, index=False)\n",
    "print(f\"\\n✅ Enriched dataset exported to: {output_path}\")"
   ]
  },
  {
   "cell_type": "code",
   "execution_count": null,
   "metadata": {},
   "outputs": [],
   "source": []
  }
 ],
 "metadata": {
  "kernelspec": {
   "display_name": "base",
   "language": "python",
   "name": "python3"
  },
  "language_info": {
   "codemirror_mode": {
    "name": "ipython",
    "version": 3
   },
   "file_extension": ".py",
   "mimetype": "text/x-python",
   "name": "python",
   "nbconvert_exporter": "python",
   "pygments_lexer": "ipython3",
   "version": "3.9.7"
  }
 },
 "nbformat": 4,
 "nbformat_minor": 4
}
