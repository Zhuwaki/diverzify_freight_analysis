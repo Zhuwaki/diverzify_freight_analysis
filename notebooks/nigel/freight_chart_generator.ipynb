{
  "cells": [
    {
      "cell_type": "code",
      "execution_count": null,
      "metadata": {},
      "outputs": [],
      "source": [
        "import pandas as pd\n",
        "from openpyxl import Workbook\n",
        "from openpyxl.chart import ScatterChart, Series, Reference\n",
        "from openpyxl.utils.dataframe import dataframe_to_rows\n\n",
        "# Create a sample dataset\n",
        "data = {\n",
        "    \"quantity_sqyd\": [1000, 3000, 5000, 8000, 12000, 18000, 25000, 33000, 40000, 60000],\n",
        "    \"vendor_estimated_cost\": [200, 600, 1000, 1200, 1500, 1900, 2300, 2700, 3100, 3500],\n",
        "    \"actual_freight_cost\": [180, 590, 1100, 1300, 1600, 1850, 2500, 2900, 3300, 5100],\n",
        "    \"ftl_cost\": [1350] * 10,\n",
        "    \"ltl_only_cost\": [190, 610, 950, 1150, None, 2000, None, 2800, 3500, 4300],\n",
        "    \"optimal_cost\": [180, 580, 920, 1100, 1400, 1700, 2000, 2400, 2700, 3100],\n",
        "}\n",
        "df = pd.DataFrame(data)\n\n",
        "# Create workbook and worksheet\n",
        "wb = Workbook()\n",
        "ws = wb.active\n",
        "ws.title = \"Freight Chart\"\n\n",
        "# Add data to worksheet\n",
        "for r in dataframe_to_rows(df, index=False, header=True):\n",
        "    ws.append(r)\n\n",
        "# Set up chart\n",
        "chart = ScatterChart()\n",
        "chart.title = \"Freight Cost Overlay\"\n",
        "chart.x_axis.title = \"Quantity (SQYD)\"\n",
        "chart.y_axis.title = \"Freight Cost ($)\"\n",
        "chart.legend.position = \"r\"\n\n",
        "x_values = Reference(ws, min_col=1, min_row=2, max_row=11)\n\n",
        "# Add each series\n",
        "def add_series(title, y_col, marker=None):\n",
        "    y_values = Reference(ws, min_col=y_col, min_row=2, max_row=11)\n",
        "    series = Series(y_values, x_values, title=title)\n",
        "    if marker:\n",
        "        series.marker.symbol = marker\n",
        "        series.graphicalProperties.line.noFill = True\n",
        "    chart.series.append(series)\n\n",
        "add_series(\"Vendor Cost Curve\", 2)\n",
        "add_series(\"Actual Invoice Freight\", 3, marker=\"circle\")\n",
        "add_series(\"FTL Cost\", 4)\n",
        "add_series(\"LTL Only Cost\", 5, marker=\"diamond\")\n",
        "add_series(\"Optimal Cost\", 6, marker=\"square\")\n\n",
        "# Add chart to sheet\n",
        "ws.add_chart(chart, \"H2\")\n\n",
        "# Save to file\n",
        "wb.save(\"freight_chart_notebook.xlsx\")"
      ]
    }
  ],
  "metadata": {
    "kernelspec": {
      "display_name": "Python 3",
      "language": "python",
      "name": "python3"
    },
    "language_info": {
      "name": "python",
      "version": "3.8"
    }
  },
  "nbformat": 4,
  "nbformat_minor": 2
}