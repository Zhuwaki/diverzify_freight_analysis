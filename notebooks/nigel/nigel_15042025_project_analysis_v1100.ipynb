{
 "cells": [
  {
   "cell_type": "code",
   "execution_count": 1,
   "id": "1f20d5d3",
   "metadata": {},
   "outputs": [],
   "source": [
    "import pandas as pd\n",
    "import matplotlib.pyplot as plt\n",
    "from datetime import datetime"
   ]
  },
  {
   "cell_type": "code",
   "execution_count": 2,
   "id": "f64a59a2",
   "metadata": {},
   "outputs": [],
   "source": [
    "# Get full timestamp as string\n",
    "timestamp = datetime.now().strftime(\"%Y%m%d_%H%M%S\")\n",
    "\n",
    "# Get just the date component as a datetime object\n",
    "date = datetime.now().strftime(\"%Y%m%d\")"
   ]
  },
  {
   "cell_type": "code",
   "execution_count": 3,
   "id": "6b045b5c",
   "metadata": {},
   "outputs": [
    {
     "data": {
      "application/vnd.microsoft.datawrangler.viewer.v0+json": {
       "columns": [
        {
         "name": "index",
         "rawType": "int64",
         "type": "integer"
        },
        {
         "name": "SITE",
         "rawType": "object",
         "type": "string"
        },
        {
         "name": "SITE DESCRIPTION",
         "rawType": "object",
         "type": "string"
        },
        {
         "name": "SUPPLIER NO",
         "rawType": "object",
         "type": "string"
        },
        {
         "name": "SUPPLIER NAME",
         "rawType": "object",
         "type": "string"
        },
        {
         "name": "INVOICE ID",
         "rawType": "int64",
         "type": "integer"
        },
        {
         "name": "INVOICE NO",
         "rawType": "object",
         "type": "string"
        },
        {
         "name": "DATE POSTED",
         "rawType": "object",
         "type": "string"
        },
        {
         "name": "PROJECT ID",
         "rawType": "object",
         "type": "string"
        },
        {
         "name": "PROJECT NAME",
         "rawType": "object",
         "type": "string"
        },
        {
         "name": "ACCOUNT",
         "rawType": "int64",
         "type": "integer"
        },
        {
         "name": "ACCOUNT DESCRIPTION",
         "rawType": "object",
         "type": "string"
        },
        {
         "name": "PLANNED DELIVERY DATE",
         "rawType": "object",
         "type": "string"
        },
        {
         "name": "SHIP TO ZIP",
         "rawType": "object",
         "type": "string"
        },
        {
         "name": "PO NO",
         "rawType": "object",
         "type": "string"
        },
        {
         "name": "PO LINE NO",
         "rawType": "object",
         "type": "string"
        },
        {
         "name": "PO REL NO",
         "rawType": "object",
         "type": "string"
        },
        {
         "name": "RECEIPT NO",
         "rawType": "float64",
         "type": "float"
        },
        {
         "name": "PART NO",
         "rawType": "object",
         "type": "string"
        },
        {
         "name": "PART DESCRIPTION",
         "rawType": "object",
         "type": "string"
        },
        {
         "name": "COMM 1",
         "rawType": "object",
         "type": "string"
        },
        {
         "name": "COMM 2",
         "rawType": "object",
         "type": "string"
        },
        {
         "name": "PO PURCH QTY",
         "rawType": "float64",
         "type": "float"
        },
        {
         "name": "PURCH UOM",
         "rawType": "object",
         "type": "string"
        },
        {
         "name": "PO INV QTY",
         "rawType": "float64",
         "type": "float"
        },
        {
         "name": "INV UOM",
         "rawType": "object",
         "type": "string"
        },
        {
         "name": "INVOICED LINE QTY",
         "rawType": "float64",
         "type": "float"
        },
        {
         "name": "INVOICE LINE TOTAL",
         "rawType": "float64",
         "type": "float"
        },
        {
         "name": "PO PRICE",
         "rawType": "float64",
         "type": "float"
        }
       ],
       "conversionMethod": "pd.DataFrame",
       "ref": "5be4b528-c4a0-4433-a141-d218da838cec",
       "rows": [
        [
         "0",
         "BNB",
         "Beckers New Brighton",
         "102548",
         "Lonseal Flooring",
         "433731",
         "0007795-CM",
         "3-Jan-24",
         "2311121922",
         "REGIONS HOSPITAL 4TH MRI",
         "5400",
         "PROJECT Sub-Contract Labor",
         null,
         null,
         null,
         null,
         null,
         null,
         null,
         null,
         null,
         null,
         null,
         null,
         null,
         null,
         null,
         "-600.0",
         null
        ],
        [
         "1",
         "BNB",
         "Beckers New Brighton",
         "104716",
         "Hank's Specialties",
         "433340",
         "173373",
         "3-Jan-24",
         "2312127706",
         "UOFM MOLECULAR & CELLULAR BIOLOGY P",
         "2008",
         "Received Not Yet Invoiced",
         "2-Jan-24",
         "55430",
         "48180",
         "9",
         "1",
         "1.0",
         "1000007968",
         "PROTECT ALL PRE-NOTCHED Z-BAR INSIDE CORNER ALUMINUM (864056A) 12\"X12\" ALUMINUM",
         "1ACC",
         "1ACC",
         "4.0",
         "EA",
         "4.0",
         "EA",
         "4.0",
         "18.4",
         "18.4"
        ]
       ],
       "shape": {
        "columns": 28,
        "rows": 2
       }
      },
      "text/html": [
       "<div>\n",
       "<style scoped>\n",
       "    .dataframe tbody tr th:only-of-type {\n",
       "        vertical-align: middle;\n",
       "    }\n",
       "\n",
       "    .dataframe tbody tr th {\n",
       "        vertical-align: top;\n",
       "    }\n",
       "\n",
       "    .dataframe thead th {\n",
       "        text-align: right;\n",
       "    }\n",
       "</style>\n",
       "<table border=\"1\" class=\"dataframe\">\n",
       "  <thead>\n",
       "    <tr style=\"text-align: right;\">\n",
       "      <th></th>\n",
       "      <th>SITE</th>\n",
       "      <th>SITE DESCRIPTION</th>\n",
       "      <th>SUPPLIER NO</th>\n",
       "      <th>SUPPLIER NAME</th>\n",
       "      <th>INVOICE ID</th>\n",
       "      <th>INVOICE NO</th>\n",
       "      <th>DATE POSTED</th>\n",
       "      <th>PROJECT ID</th>\n",
       "      <th>PROJECT NAME</th>\n",
       "      <th>ACCOUNT</th>\n",
       "      <th>...</th>\n",
       "      <th>PART DESCRIPTION</th>\n",
       "      <th>COMM 1</th>\n",
       "      <th>COMM 2</th>\n",
       "      <th>PO PURCH QTY</th>\n",
       "      <th>PURCH UOM</th>\n",
       "      <th>PO INV QTY</th>\n",
       "      <th>INV UOM</th>\n",
       "      <th>INVOICED LINE QTY</th>\n",
       "      <th>INVOICE LINE TOTAL</th>\n",
       "      <th>PO PRICE</th>\n",
       "    </tr>\n",
       "  </thead>\n",
       "  <tbody>\n",
       "    <tr>\n",
       "      <th>0</th>\n",
       "      <td>BNB</td>\n",
       "      <td>Beckers New Brighton</td>\n",
       "      <td>102548</td>\n",
       "      <td>Lonseal Flooring</td>\n",
       "      <td>433731</td>\n",
       "      <td>0007795-CM</td>\n",
       "      <td>3-Jan-24</td>\n",
       "      <td>2311121922</td>\n",
       "      <td>REGIONS HOSPITAL 4TH MRI</td>\n",
       "      <td>5400</td>\n",
       "      <td>...</td>\n",
       "      <td>NaN</td>\n",
       "      <td>NaN</td>\n",
       "      <td>NaN</td>\n",
       "      <td>NaN</td>\n",
       "      <td>NaN</td>\n",
       "      <td>NaN</td>\n",
       "      <td>NaN</td>\n",
       "      <td>NaN</td>\n",
       "      <td>-600.0</td>\n",
       "      <td>NaN</td>\n",
       "    </tr>\n",
       "    <tr>\n",
       "      <th>1</th>\n",
       "      <td>BNB</td>\n",
       "      <td>Beckers New Brighton</td>\n",
       "      <td>104716</td>\n",
       "      <td>Hank's Specialties</td>\n",
       "      <td>433340</td>\n",
       "      <td>173373</td>\n",
       "      <td>3-Jan-24</td>\n",
       "      <td>2312127706</td>\n",
       "      <td>UOFM MOLECULAR &amp; CELLULAR BIOLOGY P</td>\n",
       "      <td>2008</td>\n",
       "      <td>...</td>\n",
       "      <td>PROTECT ALL PRE-NOTCHED Z-BAR INSIDE CORNER AL...</td>\n",
       "      <td>1ACC</td>\n",
       "      <td>1ACC</td>\n",
       "      <td>4.0</td>\n",
       "      <td>EA</td>\n",
       "      <td>4.0</td>\n",
       "      <td>EA</td>\n",
       "      <td>4.0</td>\n",
       "      <td>18.4</td>\n",
       "      <td>18.4</td>\n",
       "    </tr>\n",
       "  </tbody>\n",
       "</table>\n",
       "<p>2 rows × 28 columns</p>\n",
       "</div>"
      ],
      "text/plain": [
       "  SITE      SITE DESCRIPTION SUPPLIER NO       SUPPLIER NAME  INVOICE ID  \\\n",
       "0  BNB  Beckers New Brighton      102548    Lonseal Flooring      433731   \n",
       "1  BNB  Beckers New Brighton      104716  Hank's Specialties      433340   \n",
       "\n",
       "   INVOICE NO DATE POSTED  PROJECT ID                         PROJECT NAME  \\\n",
       "0  0007795-CM    3-Jan-24  2311121922             REGIONS HOSPITAL 4TH MRI   \n",
       "1      173373    3-Jan-24  2312127706  UOFM MOLECULAR & CELLULAR BIOLOGY P   \n",
       "\n",
       "   ACCOUNT  ...                                   PART DESCRIPTION COMM 1  \\\n",
       "0     5400  ...                                                NaN    NaN   \n",
       "1     2008  ...  PROTECT ALL PRE-NOTCHED Z-BAR INSIDE CORNER AL...   1ACC   \n",
       "\n",
       "  COMM 2 PO PURCH QTY PURCH UOM PO INV QTY  INV UOM INVOICED LINE QTY  \\\n",
       "0    NaN          NaN       NaN        NaN      NaN               NaN   \n",
       "1   1ACC          4.0        EA        4.0       EA               4.0   \n",
       "\n",
       "  INVOICE LINE TOTAL PO PRICE  \n",
       "0             -600.0      NaN  \n",
       "1               18.4     18.4  \n",
       "\n",
       "[2 rows x 28 columns]"
      ]
     },
     "execution_count": 3,
     "metadata": {},
     "output_type": "execute_result"
    }
   ],
   "source": [
    "\n",
    "\n",
    "# Load your dataset\n",
    "file_path = \"../../data/input/Freight_Cost_Analysis_CY2024-03.25.csv\"\n",
    "raw= pd.read_csv(file_path, encoding=\"latin1\", low_memory=False)\n",
    "raw.head(2)"
   ]
  },
  {
   "cell_type": "code",
   "execution_count": 4,
   "id": "af191cf0",
   "metadata": {},
   "outputs": [
    {
     "data": {
      "application/vnd.microsoft.datawrangler.viewer.v0+json": {
       "columns": [
        {
         "name": "index",
         "rawType": "int64",
         "type": "integer"
        },
        {
         "name": "SITE",
         "rawType": "object",
         "type": "string"
        },
        {
         "name": "SITE DESCRIPTION",
         "rawType": "object",
         "type": "string"
        },
        {
         "name": "SUPPLIER NO",
         "rawType": "object",
         "type": "string"
        },
        {
         "name": "SUPPLIER NAME",
         "rawType": "object",
         "type": "string"
        },
        {
         "name": "INVOICE ID",
         "rawType": "int64",
         "type": "integer"
        },
        {
         "name": "INVOICE NO",
         "rawType": "object",
         "type": "string"
        },
        {
         "name": "DATE POSTED",
         "rawType": "object",
         "type": "string"
        },
        {
         "name": "PROJECT ID",
         "rawType": "object",
         "type": "string"
        },
        {
         "name": "PROJECT NAME",
         "rawType": "object",
         "type": "string"
        },
        {
         "name": "ACCOUNT",
         "rawType": "int64",
         "type": "integer"
        },
        {
         "name": "ACCOUNT DESCRIPTION",
         "rawType": "object",
         "type": "string"
        },
        {
         "name": "PLANNED DELIVERY DATE",
         "rawType": "object",
         "type": "string"
        },
        {
         "name": "SHIP TO ZIP",
         "rawType": "object",
         "type": "string"
        },
        {
         "name": "PO NO",
         "rawType": "object",
         "type": "string"
        },
        {
         "name": "PO LINE NO",
         "rawType": "object",
         "type": "string"
        },
        {
         "name": "PO REL NO",
         "rawType": "object",
         "type": "string"
        },
        {
         "name": "RECEIPT NO",
         "rawType": "float64",
         "type": "float"
        },
        {
         "name": "PART NO",
         "rawType": "object",
         "type": "string"
        },
        {
         "name": "PART DESCRIPTION",
         "rawType": "object",
         "type": "string"
        },
        {
         "name": "COMM 1",
         "rawType": "object",
         "type": "string"
        },
        {
         "name": "COMM 2",
         "rawType": "object",
         "type": "string"
        },
        {
         "name": "PO PURCH QTY",
         "rawType": "float64",
         "type": "float"
        },
        {
         "name": "PURCH UOM",
         "rawType": "object",
         "type": "string"
        },
        {
         "name": "PO INV QTY",
         "rawType": "float64",
         "type": "float"
        },
        {
         "name": "INV UOM",
         "rawType": "object",
         "type": "string"
        },
        {
         "name": "INVOICED LINE QTY",
         "rawType": "float64",
         "type": "float"
        },
        {
         "name": "INVOICE LINE TOTAL",
         "rawType": "float64",
         "type": "float"
        },
        {
         "name": "PO PRICE",
         "rawType": "float64",
         "type": "float"
        }
       ],
       "conversionMethod": "pd.DataFrame",
       "ref": "64141eb6-0488-4143-b23f-ffa1b8bb3999",
       "rows": [
        [
         "49292",
         "DIT",
         "Diverzify Itasca",
         "101928",
         "VAN GELDER INC",
         "430794",
         "267481-00 48431",
         "2-Jan-24",
         "2309113311",
         "River Center Entry Mats",
         "2008",
         "Received Not Yet Invoiced",
         "28-Dec-23",
         "60143",
         "48431",
         "1",
         "1",
         "1.0",
         "1000008472",
         "Van Gelder Medium Profile Edging (30390070MP) 70ft - Black",
         "150",
         "150",
         "18.0",
         "LF",
         "18.0",
         "LF",
         "18.0",
         "30.6",
         "30.6"
        ],
        [
         "49293",
         "DIT",
         "Diverzify Itasca",
         "101928",
         "VAN GELDER INC",
         "430803",
         "267481-00 DIT39490",
         "2-Jan-24",
         "2309113311",
         "River Center Entry Mats",
         "2008",
         "Received Not Yet Invoiced",
         "25-Oct-23",
         "60143",
         "DIT39490",
         "4",
         "1",
         "1.0",
         "51556",
         "VAN GELDER\\PLAIN EAGLE MAT CUSTOM\\BEIGE\\MEDIUM PROFILE BLACK EDGING\\140\"X285\" (11'8\"X23'9\")",
         "1MATS",
         "2MATS",
         "1.0",
         "EA",
         "1.0",
         "EA",
         "1.0",
         "891.51",
         "891.51"
        ],
        [
         "49294",
         "DIT",
         "Diverzify Itasca",
         "101928",
         "VAN GELDER INC",
         "430803",
         "267481-00 DIT39490",
         "2-Jan-24",
         "2309113311",
         "River Center Entry Mats",
         "2008",
         "Received Not Yet Invoiced",
         "25-Oct-23",
         "60143",
         "DIT39490",
         "6",
         "1",
         "1.0",
         "51558",
         "VAN GELDER\\PLAIN EAGLE MAT CUSTOM\\BEIGE\\MEDIUM PROFILE BLACK EDGING\\140\"X308\" (11'8\"X25'8')",
         "1MATS",
         "2MATS",
         "3.0",
         "EA",
         "3.0",
         "EA",
         "1.0",
         "960.02",
         "960.02"
        ],
        [
         "49295",
         "DIT",
         "Diverzify Itasca",
         "101928",
         "VAN GELDER INC",
         "430803",
         "267481-00 DIT39490",
         "2-Jan-24",
         "2309113311",
         "River Center Entry Mats",
         "2008",
         "Received Not Yet Invoiced",
         "25-Oct-23",
         "60143",
         "DIT39490",
         "2",
         "1",
         "1.0",
         "51554",
         "VAN GELDER\\PLAIN EAGLE MAT CUSTOM\\BEIGE\\MEDIUM PROFILE BLACK EDGING\\65\"X244\" (5'5\"X20'4\")",
         "1MATS",
         "2MATS",
         "1.0",
         "EA",
         "1.0",
         "EA",
         "1.0",
         "455.08",
         "455.08"
        ],
        [
         "49296",
         "DIT",
         "Diverzify Itasca",
         "101928",
         "VAN GELDER INC",
         "430803",
         "267481-00 DIT39490",
         "2-Jan-24",
         "2309113311",
         "River Center Entry Mats",
         "2008",
         "Received Not Yet Invoiced",
         "25-Oct-23",
         "60143",
         "DIT39490",
         "5",
         "1",
         "1.0",
         "51557",
         "VAN GELDER\\PLAIN EAGLE MAT CUSTOM\\BEIGE\\MEDIUM PROFILE BLACK EDGING\\140\"X304\"(11'8\"X25'4\")",
         "1MATS",
         "2MATS",
         "1.0",
         "EA",
         "1.0",
         "EA",
         "1.0",
         "960.02",
         "960.02"
        ]
       ],
       "shape": {
        "columns": 28,
        "rows": 5
       }
      },
      "text/html": [
       "<div>\n",
       "<style scoped>\n",
       "    .dataframe tbody tr th:only-of-type {\n",
       "        vertical-align: middle;\n",
       "    }\n",
       "\n",
       "    .dataframe tbody tr th {\n",
       "        vertical-align: top;\n",
       "    }\n",
       "\n",
       "    .dataframe thead th {\n",
       "        text-align: right;\n",
       "    }\n",
       "</style>\n",
       "<table border=\"1\" class=\"dataframe\">\n",
       "  <thead>\n",
       "    <tr style=\"text-align: right;\">\n",
       "      <th></th>\n",
       "      <th>SITE</th>\n",
       "      <th>SITE DESCRIPTION</th>\n",
       "      <th>SUPPLIER NO</th>\n",
       "      <th>SUPPLIER NAME</th>\n",
       "      <th>INVOICE ID</th>\n",
       "      <th>INVOICE NO</th>\n",
       "      <th>DATE POSTED</th>\n",
       "      <th>PROJECT ID</th>\n",
       "      <th>PROJECT NAME</th>\n",
       "      <th>ACCOUNT</th>\n",
       "      <th>...</th>\n",
       "      <th>PART DESCRIPTION</th>\n",
       "      <th>COMM 1</th>\n",
       "      <th>COMM 2</th>\n",
       "      <th>PO PURCH QTY</th>\n",
       "      <th>PURCH UOM</th>\n",
       "      <th>PO INV QTY</th>\n",
       "      <th>INV UOM</th>\n",
       "      <th>INVOICED LINE QTY</th>\n",
       "      <th>INVOICE LINE TOTAL</th>\n",
       "      <th>PO PRICE</th>\n",
       "    </tr>\n",
       "  </thead>\n",
       "  <tbody>\n",
       "    <tr>\n",
       "      <th>49292</th>\n",
       "      <td>DIT</td>\n",
       "      <td>Diverzify Itasca</td>\n",
       "      <td>101928</td>\n",
       "      <td>VAN GELDER INC</td>\n",
       "      <td>430794</td>\n",
       "      <td>267481-00 48431</td>\n",
       "      <td>2-Jan-24</td>\n",
       "      <td>2309113311</td>\n",
       "      <td>River Center Entry Mats</td>\n",
       "      <td>2008</td>\n",
       "      <td>...</td>\n",
       "      <td>Van Gelder Medium Profile Edging (30390070MP) ...</td>\n",
       "      <td>150</td>\n",
       "      <td>150</td>\n",
       "      <td>18.0</td>\n",
       "      <td>LF</td>\n",
       "      <td>18.0</td>\n",
       "      <td>LF</td>\n",
       "      <td>18.0</td>\n",
       "      <td>30.60</td>\n",
       "      <td>30.60</td>\n",
       "    </tr>\n",
       "    <tr>\n",
       "      <th>49293</th>\n",
       "      <td>DIT</td>\n",
       "      <td>Diverzify Itasca</td>\n",
       "      <td>101928</td>\n",
       "      <td>VAN GELDER INC</td>\n",
       "      <td>430803</td>\n",
       "      <td>267481-00 DIT39490</td>\n",
       "      <td>2-Jan-24</td>\n",
       "      <td>2309113311</td>\n",
       "      <td>River Center Entry Mats</td>\n",
       "      <td>2008</td>\n",
       "      <td>...</td>\n",
       "      <td>VAN GELDER\\PLAIN EAGLE MAT CUSTOM\\BEIGE\\MEDIUM...</td>\n",
       "      <td>1MATS</td>\n",
       "      <td>2MATS</td>\n",
       "      <td>1.0</td>\n",
       "      <td>EA</td>\n",
       "      <td>1.0</td>\n",
       "      <td>EA</td>\n",
       "      <td>1.0</td>\n",
       "      <td>891.51</td>\n",
       "      <td>891.51</td>\n",
       "    </tr>\n",
       "    <tr>\n",
       "      <th>49294</th>\n",
       "      <td>DIT</td>\n",
       "      <td>Diverzify Itasca</td>\n",
       "      <td>101928</td>\n",
       "      <td>VAN GELDER INC</td>\n",
       "      <td>430803</td>\n",
       "      <td>267481-00 DIT39490</td>\n",
       "      <td>2-Jan-24</td>\n",
       "      <td>2309113311</td>\n",
       "      <td>River Center Entry Mats</td>\n",
       "      <td>2008</td>\n",
       "      <td>...</td>\n",
       "      <td>VAN GELDER\\PLAIN EAGLE MAT CUSTOM\\BEIGE\\MEDIUM...</td>\n",
       "      <td>1MATS</td>\n",
       "      <td>2MATS</td>\n",
       "      <td>3.0</td>\n",
       "      <td>EA</td>\n",
       "      <td>3.0</td>\n",
       "      <td>EA</td>\n",
       "      <td>1.0</td>\n",
       "      <td>960.02</td>\n",
       "      <td>960.02</td>\n",
       "    </tr>\n",
       "    <tr>\n",
       "      <th>49295</th>\n",
       "      <td>DIT</td>\n",
       "      <td>Diverzify Itasca</td>\n",
       "      <td>101928</td>\n",
       "      <td>VAN GELDER INC</td>\n",
       "      <td>430803</td>\n",
       "      <td>267481-00 DIT39490</td>\n",
       "      <td>2-Jan-24</td>\n",
       "      <td>2309113311</td>\n",
       "      <td>River Center Entry Mats</td>\n",
       "      <td>2008</td>\n",
       "      <td>...</td>\n",
       "      <td>VAN GELDER\\PLAIN EAGLE MAT CUSTOM\\BEIGE\\MEDIUM...</td>\n",
       "      <td>1MATS</td>\n",
       "      <td>2MATS</td>\n",
       "      <td>1.0</td>\n",
       "      <td>EA</td>\n",
       "      <td>1.0</td>\n",
       "      <td>EA</td>\n",
       "      <td>1.0</td>\n",
       "      <td>455.08</td>\n",
       "      <td>455.08</td>\n",
       "    </tr>\n",
       "    <tr>\n",
       "      <th>49296</th>\n",
       "      <td>DIT</td>\n",
       "      <td>Diverzify Itasca</td>\n",
       "      <td>101928</td>\n",
       "      <td>VAN GELDER INC</td>\n",
       "      <td>430803</td>\n",
       "      <td>267481-00 DIT39490</td>\n",
       "      <td>2-Jan-24</td>\n",
       "      <td>2309113311</td>\n",
       "      <td>River Center Entry Mats</td>\n",
       "      <td>2008</td>\n",
       "      <td>...</td>\n",
       "      <td>VAN GELDER\\PLAIN EAGLE MAT CUSTOM\\BEIGE\\MEDIUM...</td>\n",
       "      <td>1MATS</td>\n",
       "      <td>2MATS</td>\n",
       "      <td>1.0</td>\n",
       "      <td>EA</td>\n",
       "      <td>1.0</td>\n",
       "      <td>EA</td>\n",
       "      <td>1.0</td>\n",
       "      <td>960.02</td>\n",
       "      <td>960.02</td>\n",
       "    </tr>\n",
       "  </tbody>\n",
       "</table>\n",
       "<p>5 rows × 28 columns</p>\n",
       "</div>"
      ],
      "text/plain": [
       "      SITE  SITE DESCRIPTION SUPPLIER NO   SUPPLIER NAME  INVOICE ID  \\\n",
       "49292  DIT  Diverzify Itasca      101928  VAN GELDER INC      430794   \n",
       "49293  DIT  Diverzify Itasca      101928  VAN GELDER INC      430803   \n",
       "49294  DIT  Diverzify Itasca      101928  VAN GELDER INC      430803   \n",
       "49295  DIT  Diverzify Itasca      101928  VAN GELDER INC      430803   \n",
       "49296  DIT  Diverzify Itasca      101928  VAN GELDER INC      430803   \n",
       "\n",
       "               INVOICE NO DATE POSTED  PROJECT ID             PROJECT NAME  \\\n",
       "49292     267481-00 48431    2-Jan-24  2309113311  River Center Entry Mats   \n",
       "49293  267481-00 DIT39490    2-Jan-24  2309113311  River Center Entry Mats   \n",
       "49294  267481-00 DIT39490    2-Jan-24  2309113311  River Center Entry Mats   \n",
       "49295  267481-00 DIT39490    2-Jan-24  2309113311  River Center Entry Mats   \n",
       "49296  267481-00 DIT39490    2-Jan-24  2309113311  River Center Entry Mats   \n",
       "\n",
       "       ACCOUNT  ...                                   PART DESCRIPTION COMM 1  \\\n",
       "49292     2008  ...  Van Gelder Medium Profile Edging (30390070MP) ...    150   \n",
       "49293     2008  ...  VAN GELDER\\PLAIN EAGLE MAT CUSTOM\\BEIGE\\MEDIUM...  1MATS   \n",
       "49294     2008  ...  VAN GELDER\\PLAIN EAGLE MAT CUSTOM\\BEIGE\\MEDIUM...  1MATS   \n",
       "49295     2008  ...  VAN GELDER\\PLAIN EAGLE MAT CUSTOM\\BEIGE\\MEDIUM...  1MATS   \n",
       "49296     2008  ...  VAN GELDER\\PLAIN EAGLE MAT CUSTOM\\BEIGE\\MEDIUM...  1MATS   \n",
       "\n",
       "      COMM 2 PO PURCH QTY PURCH UOM PO INV QTY  INV UOM INVOICED LINE QTY  \\\n",
       "49292    150         18.0        LF       18.0       LF              18.0   \n",
       "49293  2MATS          1.0        EA        1.0       EA               1.0   \n",
       "49294  2MATS          3.0        EA        3.0       EA               1.0   \n",
       "49295  2MATS          1.0        EA        1.0       EA               1.0   \n",
       "49296  2MATS          1.0        EA        1.0       EA               1.0   \n",
       "\n",
       "      INVOICE LINE TOTAL PO PRICE  \n",
       "49292              30.60    30.60  \n",
       "49293             891.51   891.51  \n",
       "49294             960.02   960.02  \n",
       "49295             455.08   455.08  \n",
       "49296             960.02   960.02  \n",
       "\n",
       "[5 rows x 28 columns]"
      ]
     },
     "execution_count": 4,
     "metadata": {},
     "output_type": "execute_result"
    }
   ],
   "source": [
    "filtered_site_df = raw[raw['SITE'] == 'DIT']\n",
    "# Save the filtered_site_df DataFrame to a CSV file named 'dit_input.csv'\n",
    "filtered_site_df.to_csv('dit_input.csv', index=False)\n",
    "filtered_site_df.head()"
   ]
  },
  {
   "cell_type": "code",
   "execution_count": 5,
   "id": "f0d1be0f",
   "metadata": {},
   "outputs": [
    {
     "data": {
      "text/plain": [
       "(23937, 28)"
      ]
     },
     "execution_count": 5,
     "metadata": {},
     "output_type": "execute_result"
    }
   ],
   "source": [
    "filtered_site_df.shape"
   ]
  },
  {
   "cell_type": "code",
   "execution_count": 12,
   "id": "a5261ece",
   "metadata": {},
   "outputs": [],
   "source": [
    "conversion_path = \"data/input/freight_model/conversion_table_standardized.csv\"\n"
   ]
  },
  {
   "cell_type": "code",
   "execution_count": 16,
   "id": "c410c9fa",
   "metadata": {},
   "outputs": [
    {
     "data": {
      "application/vnd.microsoft.datawrangler.viewer.v0+json": {
       "columns": [
        {
         "name": "index",
         "rawType": "int64",
         "type": "integer"
        },
        {
         "name": "Commodity Group",
         "rawType": "object",
         "type": "string"
        },
        {
         "name": "Description",
         "rawType": "object",
         "type": "string"
        },
        {
         "name": "Old/New",
         "rawType": "object",
         "type": "string"
        },
        {
         "name": "Priority",
         "rawType": "object",
         "type": "string"
        }
       ],
       "conversionMethod": "pd.DataFrame",
       "ref": "bb4079c9-71f3-42e7-af74-ea4d6b62e9f8",
       "rows": [
        [
         "0",
         "1ACC",
         "Accessories",
         "New Commodity",
         "No"
        ],
        [
         "1",
         "1ADH",
         "Adhesive",
         "New Commodity",
         "No"
        ],
        [
         "2",
         "2ADH",
         "Adhesive",
         "New Commodity",
         "No"
        ],
        [
         "3",
         "280",
         "Adhesives",
         "Old Commodity",
         "No"
        ],
        [
         "4",
         "2ALL",
         "All",
         "New Commodity",
         "No"
        ]
       ],
       "shape": {
        "columns": 4,
        "rows": 5
       }
      },
      "text/html": [
       "<div>\n",
       "<style scoped>\n",
       "    .dataframe tbody tr th:only-of-type {\n",
       "        vertical-align: middle;\n",
       "    }\n",
       "\n",
       "    .dataframe tbody tr th {\n",
       "        vertical-align: top;\n",
       "    }\n",
       "\n",
       "    .dataframe thead th {\n",
       "        text-align: right;\n",
       "    }\n",
       "</style>\n",
       "<table border=\"1\" class=\"dataframe\">\n",
       "  <thead>\n",
       "    <tr style=\"text-align: right;\">\n",
       "      <th></th>\n",
       "      <th>Commodity Group</th>\n",
       "      <th>Description</th>\n",
       "      <th>Old/New</th>\n",
       "      <th>Priority</th>\n",
       "    </tr>\n",
       "  </thead>\n",
       "  <tbody>\n",
       "    <tr>\n",
       "      <th>0</th>\n",
       "      <td>1ACC</td>\n",
       "      <td>Accessories</td>\n",
       "      <td>New Commodity</td>\n",
       "      <td>No</td>\n",
       "    </tr>\n",
       "    <tr>\n",
       "      <th>1</th>\n",
       "      <td>1ADH</td>\n",
       "      <td>Adhesive</td>\n",
       "      <td>New Commodity</td>\n",
       "      <td>No</td>\n",
       "    </tr>\n",
       "    <tr>\n",
       "      <th>2</th>\n",
       "      <td>2ADH</td>\n",
       "      <td>Adhesive</td>\n",
       "      <td>New Commodity</td>\n",
       "      <td>No</td>\n",
       "    </tr>\n",
       "    <tr>\n",
       "      <th>3</th>\n",
       "      <td>280</td>\n",
       "      <td>Adhesives</td>\n",
       "      <td>Old Commodity</td>\n",
       "      <td>No</td>\n",
       "    </tr>\n",
       "    <tr>\n",
       "      <th>4</th>\n",
       "      <td>2ALL</td>\n",
       "      <td>All</td>\n",
       "      <td>New Commodity</td>\n",
       "      <td>No</td>\n",
       "    </tr>\n",
       "  </tbody>\n",
       "</table>\n",
       "</div>"
      ],
      "text/plain": [
       "  Commodity Group  Description        Old/New Priority\n",
       "0            1ACC  Accessories  New Commodity       No\n",
       "1            1ADH     Adhesive  New Commodity       No\n",
       "2            2ADH     Adhesive  New Commodity       No\n",
       "3             280    Adhesives  Old Commodity       No\n",
       "4            2ALL          All  New Commodity       No"
      ]
     },
     "execution_count": 16,
     "metadata": {},
     "output_type": "execute_result"
    }
   ],
   "source": [
    "#  === Load Commodity Groups ===\n",
    "# Load the commodity groups from the Excel file\n",
    "commodity= pd.read_excel('../../data/input/IFS Cloud Commodity Groups.xlsx', sheet_name='Commodity Groups')\n",
    "commodity.head()\n"
   ]
  },
  {
   "cell_type": "code",
   "execution_count": 15,
   "id": "6d884f3d",
   "metadata": {},
   "outputs": [
    {
     "data": {
      "application/vnd.microsoft.datawrangler.viewer.v0+json": {
       "columns": [
        {
         "name": "index",
         "rawType": "int64",
         "type": "integer"
        },
        {
         "name": "Supplier No",
         "rawType": "object",
         "type": "string"
        },
        {
         "name": "Supplier Name",
         "rawType": "object",
         "type": "string"
        }
       ],
       "conversionMethod": "pd.DataFrame",
       "ref": "04547a4e-5983-4583-84fa-4433d7d4cae1",
       "rows": [
        [
         "0",
         "104471",
         "Adleta Corporation"
        ],
        [
         "1",
         "128340",
         "AHF, LLC dba AHF Products"
        ],
        [
         "2",
         "X100072",
         "Altro USA, Inc"
        ],
        [
         "3",
         "110988",
         "Altro USA, Inc."
        ],
        [
         "4",
         "1026",
         "American Sports Surfacing"
        ]
       ],
       "shape": {
        "columns": 2,
        "rows": 5
       }
      },
      "text/html": [
       "<div>\n",
       "<style scoped>\n",
       "    .dataframe tbody tr th:only-of-type {\n",
       "        vertical-align: middle;\n",
       "    }\n",
       "\n",
       "    .dataframe tbody tr th {\n",
       "        vertical-align: top;\n",
       "    }\n",
       "\n",
       "    .dataframe thead th {\n",
       "        text-align: right;\n",
       "    }\n",
       "</style>\n",
       "<table border=\"1\" class=\"dataframe\">\n",
       "  <thead>\n",
       "    <tr style=\"text-align: right;\">\n",
       "      <th></th>\n",
       "      <th>Supplier No</th>\n",
       "      <th>Supplier Name</th>\n",
       "    </tr>\n",
       "  </thead>\n",
       "  <tbody>\n",
       "    <tr>\n",
       "      <th>0</th>\n",
       "      <td>104471</td>\n",
       "      <td>Adleta Corporation</td>\n",
       "    </tr>\n",
       "    <tr>\n",
       "      <th>1</th>\n",
       "      <td>128340</td>\n",
       "      <td>AHF, LLC dba AHF Products</td>\n",
       "    </tr>\n",
       "    <tr>\n",
       "      <th>2</th>\n",
       "      <td>X100072</td>\n",
       "      <td>Altro USA, Inc</td>\n",
       "    </tr>\n",
       "    <tr>\n",
       "      <th>3</th>\n",
       "      <td>110988</td>\n",
       "      <td>Altro USA, Inc.</td>\n",
       "    </tr>\n",
       "    <tr>\n",
       "      <th>4</th>\n",
       "      <td>1026</td>\n",
       "      <td>American Sports Surfacing</td>\n",
       "    </tr>\n",
       "  </tbody>\n",
       "</table>\n",
       "</div>"
      ],
      "text/plain": [
       "  Supplier No              Supplier Name\n",
       "0      104471         Adleta Corporation\n",
       "1      128340  AHF, LLC dba AHF Products\n",
       "2     X100072             Altro USA, Inc\n",
       "3      110988            Altro USA, Inc.\n",
       "4        1026  American Sports Surfacing"
      ]
     },
     "execution_count": 15,
     "metadata": {},
     "output_type": "execute_result"
    }
   ],
   "source": [
    "\n",
    "#  === Load Manufacturers ===\n",
    "# Load the manufacturers from the Excel file\n",
    "manufacturer = pd.read_excel('../../data/input/Manufacturer List.xlsx', sheet_name='Sheet1')\n",
    "manufacturer.head()\n"
   ]
  },
  {
   "cell_type": "code",
   "execution_count": 167,
   "id": "d5f18e64",
   "metadata": {},
   "outputs": [],
   "source": [
    "# data cleaning function to standardise the description conversion\n",
    "# This function will classify the commodity based on the description\n",
    "def classify_commodity(row):\n",
    "    desc = str(row['description']).strip()\n",
    "    desc_lower = desc.lower()\n",
    "\n",
    "    if desc_lower == 'vinyl':\n",
    "        return ''.join(filter(str.isalpha, str(row['comm_2'])))\n",
    "    elif desc_lower == 'carpet bl':\n",
    "        return 'Carpet Roll'\n",
    "    elif desc_lower == 'carpet tile':\n",
    "        return 'Carpet Tiles'\n",
    "    elif desc_lower == 'carpet':\n",
    "        return 'Carpet Roll'\n",
    "    else:\n",
    "        return desc  # Default fallback to original\n"
   ]
  },
  {
   "cell_type": "code",
   "execution_count": 168,
   "id": "e2fdba56",
   "metadata": {},
   "outputs": [],
   "source": [
    "# This function will classify the commodity from old codes to new codes\n",
    "def map_commodity_group(x):\n",
    "    x_str = str(x).strip()  # Strip whitespace, just in case\n",
    "\n",
    "    if x_str == '10':\n",
    "        return '1CBL'\n",
    "    elif x_str == '100':\n",
    "        return '1CPT'\n",
    "    elif x_str == '40':\n",
    "        return '1VNL'\n",
    "    else:\n",
    "        return x  # Keep original value if none of the above match"
   ]
  },
  {
   "cell_type": "code",
   "execution_count": 169,
   "id": "2b4b0091",
   "metadata": {},
   "outputs": [],
   "source": [
    "def data_cleaning(input_df,commodity_df,manufacturer_df):\n",
    "    input_df.columns = input_df.columns.str.strip().str.lower().str.replace(\" \", \"_\")\n",
    "    commodity_df.columns = commodity_df.columns.str.strip().str.lower().str.replace(\" \", \"_\")\n",
    "    manufacturer_df.columns = manufacturer_df.columns.str.strip().str.lower().str.replace(\" \", \"_\")\n",
    "    # Convert 'Commodity Group' to string and create a new column 'COMM 1'\n",
    "    commodity_df['comm_1'] = commodity_df['commodity_group'].astype(str)\n",
    "    # Convert 'Commodity Group' to string in the main DataFrame\n",
    "    input_df['comm_1'] = input_df['comm_1'].astype(str)\n",
    "    # Perform the join on the 'COMM 1' column\n",
    "    input_commodity_df = input_df.merge(commodity_df, on='comm_1', how='left')\n",
    "# Flag matched and unmatched rows clearly\n",
    "    input_commodity_df['match_commodity'] = input_commodity_df['commodity_group'].apply(\n",
    "    lambda x: 'Commodity Found' if pd.notna(x) else 'Commodity Not Found'\n",
    ")\n",
    "    # Replace values in the 'uom' column\n",
    "    input_commodity_df['inv_uom'] = input_commodity_df['inv_uom'].replace({'SF': 'SQFT', 'SY': 'SQYD'})\n",
    "        \n",
    "    # Convert 'Commodity Group' to string and create a new column 'COMM 1'\n",
    "    manufacturer_df['supplier_no'] = manufacturer_df['supplier_no'].astype(str)\n",
    "    # Convert 'Commodity Group' to string in the main DataFrame\n",
    "    input_commodity_df['supplier_no'] = input_commodity_df['supplier_no'].astype(str)\n",
    "    # Perform the join on the 'COMM 1' column\n",
    "    input_commodity_manufactuer_df = input_commodity_df.merge(manufacturer_df[['supplier_no']], on='supplier_no', how='left')\n",
    "    input_commodity_manufactuer_df['match_supplier'] = input_commodity_manufactuer_df['supplier_name'].apply(\n",
    "        lambda x: 'Supplier registered' if pd.notna(x) else 'No supplier found'\n",
    "    )\n",
    "        # Normalize the 'INV UOM' column to handle case sensitivity and strip spaces\n",
    "    input_commodity_manufactuer_df['inv_uom'] = input_commodity_manufactuer_df['inv_uom'].str.strip().str.upper()\n",
    "    # Classify rows based on 'INV UOM' values\n",
    "    input_commodity_manufactuer_df['classification'] = input_commodity_manufactuer_df.apply(\n",
    "    lambda row: 'Classified' if row['inv_uom'] in ['SQFT', 'SQYD']\n",
    "    else ('No UOM' if pd.isna(row['inv_uom']) or row['inv_uom'] == '' else 'Unclassified'),\n",
    "    axis=1\n",
    ")\n",
    "    input_commodity_manufactuer_df['new_commodity_description'] = input_commodity_manufactuer_df.apply(classify_commodity, axis=1)\n",
    "    input_commodity_manufactuer_df['new_commodity_group'] = input_commodity_manufactuer_df['commodity_group'].apply(map_commodity_group)\n",
    "\n",
    "# Create a new column 'conversion_code' based on the 'Description' + 'Comodity Group' + 'INV UOM' column\n",
    "    input_commodity_manufactuer_df['conversion_code'] = input_commodity_manufactuer_df['new_commodity_description'].str.replace(' ', '_', regex=True).astype(str) + '_' + input_commodity_manufactuer_df['new_commodity_group'].astype(str) + '_' + input_commodity_manufactuer_df['inv_uom'].astype(str)\n",
    "  \n",
    "\n",
    "\n",
    "    return input_commodity_manufactuer_df"
   ]
  },
  {
   "cell_type": "code",
   "execution_count": 170,
   "id": "4ca7bf5e",
   "metadata": {},
   "outputs": [
    {
     "data": {
      "application/vnd.microsoft.datawrangler.viewer.v0+json": {
       "columns": [
        {
         "name": "index",
         "rawType": "int64",
         "type": "integer"
        },
        {
         "name": "site",
         "rawType": "object",
         "type": "string"
        },
        {
         "name": "site_description",
         "rawType": "object",
         "type": "string"
        },
        {
         "name": "supplier_no",
         "rawType": "object",
         "type": "string"
        },
        {
         "name": "supplier_name",
         "rawType": "object",
         "type": "string"
        },
        {
         "name": "invoice_id",
         "rawType": "int64",
         "type": "integer"
        },
        {
         "name": "invoice_no",
         "rawType": "object",
         "type": "string"
        },
        {
         "name": "date_posted",
         "rawType": "object",
         "type": "string"
        },
        {
         "name": "project_id",
         "rawType": "object",
         "type": "string"
        },
        {
         "name": "project_name",
         "rawType": "object",
         "type": "string"
        },
        {
         "name": "account",
         "rawType": "int64",
         "type": "integer"
        },
        {
         "name": "account_description",
         "rawType": "object",
         "type": "string"
        },
        {
         "name": "planned_delivery_date",
         "rawType": "object",
         "type": "string"
        },
        {
         "name": "ship_to_zip",
         "rawType": "object",
         "type": "string"
        },
        {
         "name": "po_no",
         "rawType": "object",
         "type": "string"
        },
        {
         "name": "po_line_no",
         "rawType": "object",
         "type": "string"
        },
        {
         "name": "po_rel_no",
         "rawType": "object",
         "type": "string"
        },
        {
         "name": "receipt_no",
         "rawType": "float64",
         "type": "float"
        },
        {
         "name": "part_no",
         "rawType": "object",
         "type": "string"
        },
        {
         "name": "part_description",
         "rawType": "object",
         "type": "string"
        },
        {
         "name": "comm_1",
         "rawType": "object",
         "type": "string"
        },
        {
         "name": "comm_2",
         "rawType": "object",
         "type": "string"
        },
        {
         "name": "po_purch_qty",
         "rawType": "float64",
         "type": "float"
        },
        {
         "name": "purch_uom",
         "rawType": "object",
         "type": "string"
        },
        {
         "name": "po_inv_qty",
         "rawType": "float64",
         "type": "float"
        },
        {
         "name": "inv_uom",
         "rawType": "object",
         "type": "string"
        },
        {
         "name": "invoiced_line_qty",
         "rawType": "float64",
         "type": "float"
        },
        {
         "name": "invoice_line_total",
         "rawType": "float64",
         "type": "float"
        },
        {
         "name": "po_price",
         "rawType": "float64",
         "type": "float"
        },
        {
         "name": "commodity_group",
         "rawType": "object",
         "type": "string"
        },
        {
         "name": "description",
         "rawType": "object",
         "type": "string"
        },
        {
         "name": "old/new",
         "rawType": "object",
         "type": "string"
        },
        {
         "name": "priority",
         "rawType": "object",
         "type": "string"
        },
        {
         "name": "match_commodity",
         "rawType": "object",
         "type": "string"
        },
        {
         "name": "match_supplier",
         "rawType": "object",
         "type": "string"
        },
        {
         "name": "classification",
         "rawType": "object",
         "type": "string"
        },
        {
         "name": "new_commodity_description",
         "rawType": "object",
         "type": "string"
        },
        {
         "name": "new_commodity_group",
         "rawType": "object",
         "type": "string"
        },
        {
         "name": "conversion_code",
         "rawType": "object",
         "type": "string"
        }
       ],
       "conversionMethod": "pd.DataFrame",
       "ref": "fd9f452b-795f-4de3-a0c5-3e07b258afa7",
       "rows": [
        [
         "0",
         "BNB",
         "Beckers New Brighton",
         "102548",
         "Lonseal Flooring",
         "433731",
         "0007795-CM",
         "3-Jan-24",
         "2311121922",
         "REGIONS HOSPITAL 4TH MRI",
         "5400",
         "PROJECT Sub-Contract Labor",
         null,
         null,
         null,
         null,
         null,
         null,
         null,
         null,
         "nan",
         null,
         null,
         null,
         null,
         null,
         null,
         "-600.0",
         null,
         null,
         null,
         null,
         null,
         "Commodity Not Found",
         "Supplier registered",
         "No UOM",
         "nan",
         null,
         "nan_nan_nan"
        ],
        [
         "1",
         "BNB",
         "Beckers New Brighton",
         "104716",
         "Hank's Specialties",
         "433340",
         "173373",
         "3-Jan-24",
         "2312127706",
         "UOFM MOLECULAR & CELLULAR BIOLOGY P",
         "2008",
         "Received Not Yet Invoiced",
         "2-Jan-24",
         "55430",
         "48180",
         "9",
         "1",
         "1.0",
         "1000007968",
         "PROTECT ALL PRE-NOTCHED Z-BAR INSIDE CORNER ALUMINUM (864056A) 12\"X12\" ALUMINUM",
         "1ACC",
         "1ACC",
         "4.0",
         "EA",
         "4.0",
         "EA",
         "4.0",
         "18.4",
         "18.4",
         "1ACC",
         "Accessories",
         "New Commodity",
         "No",
         "Commodity Found",
         "Supplier registered",
         "Unclassified",
         "Accessories",
         "1ACC",
         "Accessories_1ACC_EA"
        ]
       ],
       "shape": {
        "columns": 38,
        "rows": 2
       }
      },
      "text/html": [
       "<div>\n",
       "<style scoped>\n",
       "    .dataframe tbody tr th:only-of-type {\n",
       "        vertical-align: middle;\n",
       "    }\n",
       "\n",
       "    .dataframe tbody tr th {\n",
       "        vertical-align: top;\n",
       "    }\n",
       "\n",
       "    .dataframe thead th {\n",
       "        text-align: right;\n",
       "    }\n",
       "</style>\n",
       "<table border=\"1\" class=\"dataframe\">\n",
       "  <thead>\n",
       "    <tr style=\"text-align: right;\">\n",
       "      <th></th>\n",
       "      <th>site</th>\n",
       "      <th>site_description</th>\n",
       "      <th>supplier_no</th>\n",
       "      <th>supplier_name</th>\n",
       "      <th>invoice_id</th>\n",
       "      <th>invoice_no</th>\n",
       "      <th>date_posted</th>\n",
       "      <th>project_id</th>\n",
       "      <th>project_name</th>\n",
       "      <th>account</th>\n",
       "      <th>...</th>\n",
       "      <th>commodity_group</th>\n",
       "      <th>description</th>\n",
       "      <th>old/new</th>\n",
       "      <th>priority</th>\n",
       "      <th>match_commodity</th>\n",
       "      <th>match_supplier</th>\n",
       "      <th>classification</th>\n",
       "      <th>new_commodity_description</th>\n",
       "      <th>new_commodity_group</th>\n",
       "      <th>conversion_code</th>\n",
       "    </tr>\n",
       "  </thead>\n",
       "  <tbody>\n",
       "    <tr>\n",
       "      <th>0</th>\n",
       "      <td>BNB</td>\n",
       "      <td>Beckers New Brighton</td>\n",
       "      <td>102548</td>\n",
       "      <td>Lonseal Flooring</td>\n",
       "      <td>433731</td>\n",
       "      <td>0007795-CM</td>\n",
       "      <td>3-Jan-24</td>\n",
       "      <td>2311121922</td>\n",
       "      <td>REGIONS HOSPITAL 4TH MRI</td>\n",
       "      <td>5400</td>\n",
       "      <td>...</td>\n",
       "      <td>NaN</td>\n",
       "      <td>NaN</td>\n",
       "      <td>NaN</td>\n",
       "      <td>NaN</td>\n",
       "      <td>Commodity Not Found</td>\n",
       "      <td>Supplier registered</td>\n",
       "      <td>No UOM</td>\n",
       "      <td>nan</td>\n",
       "      <td>NaN</td>\n",
       "      <td>nan_nan_nan</td>\n",
       "    </tr>\n",
       "    <tr>\n",
       "      <th>1</th>\n",
       "      <td>BNB</td>\n",
       "      <td>Beckers New Brighton</td>\n",
       "      <td>104716</td>\n",
       "      <td>Hank's Specialties</td>\n",
       "      <td>433340</td>\n",
       "      <td>173373</td>\n",
       "      <td>3-Jan-24</td>\n",
       "      <td>2312127706</td>\n",
       "      <td>UOFM MOLECULAR &amp; CELLULAR BIOLOGY P</td>\n",
       "      <td>2008</td>\n",
       "      <td>...</td>\n",
       "      <td>1ACC</td>\n",
       "      <td>Accessories</td>\n",
       "      <td>New Commodity</td>\n",
       "      <td>No</td>\n",
       "      <td>Commodity Found</td>\n",
       "      <td>Supplier registered</td>\n",
       "      <td>Unclassified</td>\n",
       "      <td>Accessories</td>\n",
       "      <td>1ACC</td>\n",
       "      <td>Accessories_1ACC_EA</td>\n",
       "    </tr>\n",
       "  </tbody>\n",
       "</table>\n",
       "<p>2 rows × 38 columns</p>\n",
       "</div>"
      ],
      "text/plain": [
       "  site      site_description supplier_no       supplier_name  invoice_id  \\\n",
       "0  BNB  Beckers New Brighton      102548    Lonseal Flooring      433731   \n",
       "1  BNB  Beckers New Brighton      104716  Hank's Specialties      433340   \n",
       "\n",
       "   invoice_no date_posted  project_id                         project_name  \\\n",
       "0  0007795-CM    3-Jan-24  2311121922             REGIONS HOSPITAL 4TH MRI   \n",
       "1      173373    3-Jan-24  2312127706  UOFM MOLECULAR & CELLULAR BIOLOGY P   \n",
       "\n",
       "   account  ... commodity_group  description        old/new priority  \\\n",
       "0     5400  ...             NaN          NaN            NaN      NaN   \n",
       "1     2008  ...            1ACC  Accessories  New Commodity       No   \n",
       "\n",
       "       match_commodity       match_supplier  classification  \\\n",
       "0  Commodity Not Found  Supplier registered          No UOM   \n",
       "1      Commodity Found  Supplier registered    Unclassified   \n",
       "\n",
       "  new_commodity_description new_commodity_group      conversion_code  \n",
       "0                       nan                 NaN          nan_nan_nan  \n",
       "1               Accessories                1ACC  Accessories_1ACC_EA  \n",
       "\n",
       "[2 rows x 38 columns]"
      ]
     },
     "execution_count": 170,
     "metadata": {},
     "output_type": "execute_result"
    }
   ],
   "source": [
    "testing_df = data_cleaning(raw,commodity,manufacturer)\n",
    "testing_df.head(2)"
   ]
  },
  {
   "cell_type": "code",
   "execution_count": 171,
   "id": "a31177ee",
   "metadata": {},
   "outputs": [],
   "source": [
    "def uom_cleaning(df):\n",
    "        # checking which of the rows in an invoice matching 2008 has unclassified items\n",
    "    # Check if all rows with account == 2008 are classified\n",
    "    # Step 1: Identify invoice_ids where ALL rows with ACCOUNT == 2008 are classified\n",
    "    uom_output = df\n",
    "    classified_invoice_ids = (\n",
    "        uom_output[uom_output['account'] == 2008]\n",
    "        .groupby('invoice_id')['classification']\n",
    "        .apply(lambda x: all(x == 'Classified'))\n",
    "    )\n",
    "\n",
    "    # Step 2: Filter to only invoice IDs where ALL 2008 accounts are classified\n",
    "    fully_classified_ids = classified_invoice_ids[classified_invoice_ids].index\n",
    "\n",
    "    # Step 3: Create a new column to mark if entire invoice is considered classified (based on the 2008 rule)\n",
    "    uom_output['all_accounts_2008_uom_classified'] = uom_output['invoice_id'].isin(fully_classified_ids)\n",
    "\n",
    "    return uom_output"
   ]
  },
  {
   "cell_type": "code",
   "execution_count": 172,
   "id": "31274fec",
   "metadata": {},
   "outputs": [
    {
     "data": {
      "application/vnd.microsoft.datawrangler.viewer.v0+json": {
       "columns": [
        {
         "name": "index",
         "rawType": "int64",
         "type": "integer"
        },
        {
         "name": "site",
         "rawType": "object",
         "type": "string"
        },
        {
         "name": "site_description",
         "rawType": "object",
         "type": "string"
        },
        {
         "name": "supplier_no",
         "rawType": "object",
         "type": "string"
        },
        {
         "name": "supplier_name",
         "rawType": "object",
         "type": "string"
        },
        {
         "name": "invoice_id",
         "rawType": "int64",
         "type": "integer"
        },
        {
         "name": "invoice_no",
         "rawType": "object",
         "type": "string"
        },
        {
         "name": "date_posted",
         "rawType": "object",
         "type": "string"
        },
        {
         "name": "project_id",
         "rawType": "object",
         "type": "string"
        },
        {
         "name": "project_name",
         "rawType": "object",
         "type": "string"
        },
        {
         "name": "account",
         "rawType": "int64",
         "type": "integer"
        },
        {
         "name": "account_description",
         "rawType": "object",
         "type": "string"
        },
        {
         "name": "planned_delivery_date",
         "rawType": "object",
         "type": "string"
        },
        {
         "name": "ship_to_zip",
         "rawType": "object",
         "type": "string"
        },
        {
         "name": "po_no",
         "rawType": "object",
         "type": "string"
        },
        {
         "name": "po_line_no",
         "rawType": "object",
         "type": "string"
        },
        {
         "name": "po_rel_no",
         "rawType": "object",
         "type": "string"
        },
        {
         "name": "receipt_no",
         "rawType": "float64",
         "type": "float"
        },
        {
         "name": "part_no",
         "rawType": "object",
         "type": "string"
        },
        {
         "name": "part_description",
         "rawType": "object",
         "type": "string"
        },
        {
         "name": "comm_1",
         "rawType": "object",
         "type": "string"
        },
        {
         "name": "comm_2",
         "rawType": "object",
         "type": "string"
        },
        {
         "name": "po_purch_qty",
         "rawType": "float64",
         "type": "float"
        },
        {
         "name": "purch_uom",
         "rawType": "object",
         "type": "string"
        },
        {
         "name": "po_inv_qty",
         "rawType": "float64",
         "type": "float"
        },
        {
         "name": "inv_uom",
         "rawType": "object",
         "type": "string"
        },
        {
         "name": "invoiced_line_qty",
         "rawType": "float64",
         "type": "float"
        },
        {
         "name": "invoice_line_total",
         "rawType": "float64",
         "type": "float"
        },
        {
         "name": "po_price",
         "rawType": "float64",
         "type": "float"
        },
        {
         "name": "commodity_group",
         "rawType": "object",
         "type": "string"
        },
        {
         "name": "description",
         "rawType": "object",
         "type": "string"
        },
        {
         "name": "old/new",
         "rawType": "object",
         "type": "string"
        },
        {
         "name": "priority",
         "rawType": "object",
         "type": "string"
        },
        {
         "name": "match_commodity",
         "rawType": "object",
         "type": "string"
        },
        {
         "name": "match_supplier",
         "rawType": "object",
         "type": "string"
        },
        {
         "name": "classification",
         "rawType": "object",
         "type": "string"
        },
        {
         "name": "new_commodity_description",
         "rawType": "object",
         "type": "string"
        },
        {
         "name": "new_commodity_group",
         "rawType": "object",
         "type": "string"
        },
        {
         "name": "conversion_code",
         "rawType": "object",
         "type": "string"
        },
        {
         "name": "all_accounts_2008_uom_classified",
         "rawType": "bool",
         "type": "boolean"
        }
       ],
       "conversionMethod": "pd.DataFrame",
       "ref": "e5de33a7-df44-48e9-9def-96a9f674cc57",
       "rows": [
        [
         "0",
         "BNB",
         "Beckers New Brighton",
         "102548",
         "Lonseal Flooring",
         "433731",
         "0007795-CM",
         "3-Jan-24",
         "2311121922",
         "REGIONS HOSPITAL 4TH MRI",
         "5400",
         "PROJECT Sub-Contract Labor",
         null,
         null,
         null,
         null,
         null,
         null,
         null,
         null,
         "nan",
         null,
         null,
         null,
         null,
         null,
         null,
         "-600.0",
         null,
         null,
         null,
         null,
         null,
         "Commodity Not Found",
         "Supplier registered",
         "No UOM",
         "nan",
         null,
         "nan_nan_nan",
         "False"
        ],
        [
         "1",
         "BNB",
         "Beckers New Brighton",
         "104716",
         "Hank's Specialties",
         "433340",
         "173373",
         "3-Jan-24",
         "2312127706",
         "UOFM MOLECULAR & CELLULAR BIOLOGY P",
         "2008",
         "Received Not Yet Invoiced",
         "2-Jan-24",
         "55430",
         "48180",
         "9",
         "1",
         "1.0",
         "1000007968",
         "PROTECT ALL PRE-NOTCHED Z-BAR INSIDE CORNER ALUMINUM (864056A) 12\"X12\" ALUMINUM",
         "1ACC",
         "1ACC",
         "4.0",
         "EA",
         "4.0",
         "EA",
         "4.0",
         "18.4",
         "18.4",
         "1ACC",
         "Accessories",
         "New Commodity",
         "No",
         "Commodity Found",
         "Supplier registered",
         "Unclassified",
         "Accessories",
         "1ACC",
         "Accessories_1ACC_EA",
         "False"
        ]
       ],
       "shape": {
        "columns": 39,
        "rows": 2
       }
      },
      "text/html": [
       "<div>\n",
       "<style scoped>\n",
       "    .dataframe tbody tr th:only-of-type {\n",
       "        vertical-align: middle;\n",
       "    }\n",
       "\n",
       "    .dataframe tbody tr th {\n",
       "        vertical-align: top;\n",
       "    }\n",
       "\n",
       "    .dataframe thead th {\n",
       "        text-align: right;\n",
       "    }\n",
       "</style>\n",
       "<table border=\"1\" class=\"dataframe\">\n",
       "  <thead>\n",
       "    <tr style=\"text-align: right;\">\n",
       "      <th></th>\n",
       "      <th>site</th>\n",
       "      <th>site_description</th>\n",
       "      <th>supplier_no</th>\n",
       "      <th>supplier_name</th>\n",
       "      <th>invoice_id</th>\n",
       "      <th>invoice_no</th>\n",
       "      <th>date_posted</th>\n",
       "      <th>project_id</th>\n",
       "      <th>project_name</th>\n",
       "      <th>account</th>\n",
       "      <th>...</th>\n",
       "      <th>description</th>\n",
       "      <th>old/new</th>\n",
       "      <th>priority</th>\n",
       "      <th>match_commodity</th>\n",
       "      <th>match_supplier</th>\n",
       "      <th>classification</th>\n",
       "      <th>new_commodity_description</th>\n",
       "      <th>new_commodity_group</th>\n",
       "      <th>conversion_code</th>\n",
       "      <th>all_accounts_2008_uom_classified</th>\n",
       "    </tr>\n",
       "  </thead>\n",
       "  <tbody>\n",
       "    <tr>\n",
       "      <th>0</th>\n",
       "      <td>BNB</td>\n",
       "      <td>Beckers New Brighton</td>\n",
       "      <td>102548</td>\n",
       "      <td>Lonseal Flooring</td>\n",
       "      <td>433731</td>\n",
       "      <td>0007795-CM</td>\n",
       "      <td>3-Jan-24</td>\n",
       "      <td>2311121922</td>\n",
       "      <td>REGIONS HOSPITAL 4TH MRI</td>\n",
       "      <td>5400</td>\n",
       "      <td>...</td>\n",
       "      <td>NaN</td>\n",
       "      <td>NaN</td>\n",
       "      <td>NaN</td>\n",
       "      <td>Commodity Not Found</td>\n",
       "      <td>Supplier registered</td>\n",
       "      <td>No UOM</td>\n",
       "      <td>nan</td>\n",
       "      <td>NaN</td>\n",
       "      <td>nan_nan_nan</td>\n",
       "      <td>False</td>\n",
       "    </tr>\n",
       "    <tr>\n",
       "      <th>1</th>\n",
       "      <td>BNB</td>\n",
       "      <td>Beckers New Brighton</td>\n",
       "      <td>104716</td>\n",
       "      <td>Hank's Specialties</td>\n",
       "      <td>433340</td>\n",
       "      <td>173373</td>\n",
       "      <td>3-Jan-24</td>\n",
       "      <td>2312127706</td>\n",
       "      <td>UOFM MOLECULAR &amp; CELLULAR BIOLOGY P</td>\n",
       "      <td>2008</td>\n",
       "      <td>...</td>\n",
       "      <td>Accessories</td>\n",
       "      <td>New Commodity</td>\n",
       "      <td>No</td>\n",
       "      <td>Commodity Found</td>\n",
       "      <td>Supplier registered</td>\n",
       "      <td>Unclassified</td>\n",
       "      <td>Accessories</td>\n",
       "      <td>1ACC</td>\n",
       "      <td>Accessories_1ACC_EA</td>\n",
       "      <td>False</td>\n",
       "    </tr>\n",
       "  </tbody>\n",
       "</table>\n",
       "<p>2 rows × 39 columns</p>\n",
       "</div>"
      ],
      "text/plain": [
       "  site      site_description supplier_no       supplier_name  invoice_id  \\\n",
       "0  BNB  Beckers New Brighton      102548    Lonseal Flooring      433731   \n",
       "1  BNB  Beckers New Brighton      104716  Hank's Specialties      433340   \n",
       "\n",
       "   invoice_no date_posted  project_id                         project_name  \\\n",
       "0  0007795-CM    3-Jan-24  2311121922             REGIONS HOSPITAL 4TH MRI   \n",
       "1      173373    3-Jan-24  2312127706  UOFM MOLECULAR & CELLULAR BIOLOGY P   \n",
       "\n",
       "   account  ...  description        old/new priority      match_commodity  \\\n",
       "0     5400  ...          NaN            NaN      NaN  Commodity Not Found   \n",
       "1     2008  ...  Accessories  New Commodity       No      Commodity Found   \n",
       "\n",
       "        match_supplier classification  new_commodity_description  \\\n",
       "0  Supplier registered         No UOM                        nan   \n",
       "1  Supplier registered   Unclassified                Accessories   \n",
       "\n",
       "  new_commodity_group      conversion_code all_accounts_2008_uom_classified  \n",
       "0                 NaN          nan_nan_nan                            False  \n",
       "1                1ACC  Accessories_1ACC_EA                            False  \n",
       "\n",
       "[2 rows x 39 columns]"
      ]
     },
     "execution_count": 172,
     "metadata": {},
     "output_type": "execute_result"
    }
   ],
   "source": [
    "testing_uom = uom_cleaning(testing_df)\n",
    "testing_uom.head(2)"
   ]
  },
  {
   "cell_type": "code",
   "execution_count": 173,
   "id": "2de9625c",
   "metadata": {},
   "outputs": [],
   "source": [
    "def flag_fully_converted_invoices(df: pd.DataFrame, conversion_csv_path: str) -> pd.DataFrame:\n",
    "    \"\"\"\n",
    "    Flags invoices where all account == 2008 rows have valid conversion codes.\n",
    "    \n",
    "    Parameters:\n",
    "    - df: main DataFrame with invoice lines\n",
    "    - conversion_csv_path: path to the CSV file with valid conversion codes\n",
    "    \n",
    "    Returns:\n",
    "    - df: updated DataFrame with a boolean column 'all_2008_accounts_converted'\n",
    "    \"\"\"\n",
    "    # Load and prepare conversion table\n",
    "    rates_df = pd.read_csv(conversion_csv_path)\n",
    "    rates_df['conversion_code'] = rates_df['conversion_code'].astype(str)\n",
    "    df['conversion_code'] = df['conversion_code'].astype(str)\n",
    "\n",
    "    # Set of valid codes\n",
    "    valid_codes = set(rates_df['conversion_code'].unique())\n",
    "\n",
    "    # Filter 2008 account rows\n",
    "    df_2008 = df[df['account'] == 2008].copy()  # assuming column is lowercase\n",
    "\n",
    "    # Check validity per invoice\n",
    "    invoice_validity = df_2008.groupby('invoice_id')['conversion_code'].apply(\n",
    "        lambda codes: all(code in valid_codes for code in codes)\n",
    "    )\n",
    "\n",
    "    # Flag full matches\n",
    "    fully_valid_invoice_ids = invoice_validity[invoice_validity].index\n",
    "    df['all_2008_accounts_converted'] = df['invoice_id'].isin(fully_valid_invoice_ids)\n",
    "\n",
    "    # Optional logging or return of count\n",
    "    count_all_valid_invoices = df[df['all_2008_accounts_converted']]['invoice_id'].nunique()\n",
    "    print(f\"✅ {count_all_valid_invoices} invoices have all account == 2008 rows with valid conversion codes\")\n",
    "\n",
    "    return df\n"
   ]
  },
  {
   "cell_type": "code",
   "execution_count": 174,
   "id": "0ce733b0",
   "metadata": {},
   "outputs": [
    {
     "name": "stdout",
     "output_type": "stream",
     "text": [
      "✅ 8590 invoices have all account == 2008 rows with valid conversion codes\n"
     ]
    },
    {
     "data": {
      "application/vnd.microsoft.datawrangler.viewer.v0+json": {
       "columns": [
        {
         "name": "index",
         "rawType": "int64",
         "type": "integer"
        },
        {
         "name": "site",
         "rawType": "object",
         "type": "string"
        },
        {
         "name": "site_description",
         "rawType": "object",
         "type": "string"
        },
        {
         "name": "supplier_no",
         "rawType": "object",
         "type": "string"
        },
        {
         "name": "supplier_name",
         "rawType": "object",
         "type": "string"
        },
        {
         "name": "invoice_id",
         "rawType": "int64",
         "type": "integer"
        },
        {
         "name": "invoice_no",
         "rawType": "object",
         "type": "string"
        },
        {
         "name": "date_posted",
         "rawType": "object",
         "type": "string"
        },
        {
         "name": "project_id",
         "rawType": "object",
         "type": "string"
        },
        {
         "name": "project_name",
         "rawType": "object",
         "type": "string"
        },
        {
         "name": "account",
         "rawType": "int64",
         "type": "integer"
        },
        {
         "name": "account_description",
         "rawType": "object",
         "type": "string"
        },
        {
         "name": "planned_delivery_date",
         "rawType": "object",
         "type": "string"
        },
        {
         "name": "ship_to_zip",
         "rawType": "object",
         "type": "string"
        },
        {
         "name": "po_no",
         "rawType": "object",
         "type": "string"
        },
        {
         "name": "po_line_no",
         "rawType": "object",
         "type": "string"
        },
        {
         "name": "po_rel_no",
         "rawType": "object",
         "type": "string"
        },
        {
         "name": "receipt_no",
         "rawType": "float64",
         "type": "float"
        },
        {
         "name": "part_no",
         "rawType": "object",
         "type": "string"
        },
        {
         "name": "part_description",
         "rawType": "object",
         "type": "string"
        },
        {
         "name": "comm_1",
         "rawType": "object",
         "type": "string"
        },
        {
         "name": "comm_2",
         "rawType": "object",
         "type": "string"
        },
        {
         "name": "po_purch_qty",
         "rawType": "float64",
         "type": "float"
        },
        {
         "name": "purch_uom",
         "rawType": "object",
         "type": "string"
        },
        {
         "name": "po_inv_qty",
         "rawType": "float64",
         "type": "float"
        },
        {
         "name": "inv_uom",
         "rawType": "object",
         "type": "string"
        },
        {
         "name": "invoiced_line_qty",
         "rawType": "float64",
         "type": "float"
        },
        {
         "name": "invoice_line_total",
         "rawType": "float64",
         "type": "float"
        },
        {
         "name": "po_price",
         "rawType": "float64",
         "type": "float"
        },
        {
         "name": "commodity_group",
         "rawType": "object",
         "type": "string"
        },
        {
         "name": "description",
         "rawType": "object",
         "type": "string"
        },
        {
         "name": "old/new",
         "rawType": "object",
         "type": "string"
        },
        {
         "name": "priority",
         "rawType": "object",
         "type": "string"
        },
        {
         "name": "match_commodity",
         "rawType": "object",
         "type": "string"
        },
        {
         "name": "match_supplier",
         "rawType": "object",
         "type": "string"
        },
        {
         "name": "classification",
         "rawType": "object",
         "type": "string"
        },
        {
         "name": "new_commodity_description",
         "rawType": "object",
         "type": "string"
        },
        {
         "name": "new_commodity_group",
         "rawType": "object",
         "type": "string"
        },
        {
         "name": "conversion_code",
         "rawType": "object",
         "type": "string"
        },
        {
         "name": "all_accounts_2008_uom_classified",
         "rawType": "bool",
         "type": "boolean"
        },
        {
         "name": "all_2008_accounts_converted",
         "rawType": "bool",
         "type": "boolean"
        }
       ],
       "conversionMethod": "pd.DataFrame",
       "ref": "d65587f9-1e18-4830-977f-7e8939c5c61a",
       "rows": [
        [
         "0",
         "BNB",
         "Beckers New Brighton",
         "102548",
         "Lonseal Flooring",
         "433731",
         "0007795-CM",
         "3-Jan-24",
         "2311121922",
         "REGIONS HOSPITAL 4TH MRI",
         "5400",
         "PROJECT Sub-Contract Labor",
         null,
         null,
         null,
         null,
         null,
         null,
         null,
         null,
         "nan",
         null,
         null,
         null,
         null,
         null,
         null,
         "-600.0",
         null,
         null,
         null,
         null,
         null,
         "Commodity Not Found",
         "Supplier registered",
         "No UOM",
         "nan",
         null,
         "nan_nan_nan",
         "False",
         "False"
        ],
        [
         "1",
         "BNB",
         "Beckers New Brighton",
         "104716",
         "Hank's Specialties",
         "433340",
         "173373",
         "3-Jan-24",
         "2312127706",
         "UOFM MOLECULAR & CELLULAR BIOLOGY P",
         "2008",
         "Received Not Yet Invoiced",
         "2-Jan-24",
         "55430",
         "48180",
         "9",
         "1",
         "1.0",
         "1000007968",
         "PROTECT ALL PRE-NOTCHED Z-BAR INSIDE CORNER ALUMINUM (864056A) 12\"X12\" ALUMINUM",
         "1ACC",
         "1ACC",
         "4.0",
         "EA",
         "4.0",
         "EA",
         "4.0",
         "18.4",
         "18.4",
         "1ACC",
         "Accessories",
         "New Commodity",
         "No",
         "Commodity Found",
         "Supplier registered",
         "Unclassified",
         "Accessories",
         "1ACC",
         "Accessories_1ACC_EA",
         "False",
         "False"
        ]
       ],
       "shape": {
        "columns": 40,
        "rows": 2
       }
      },
      "text/html": [
       "<div>\n",
       "<style scoped>\n",
       "    .dataframe tbody tr th:only-of-type {\n",
       "        vertical-align: middle;\n",
       "    }\n",
       "\n",
       "    .dataframe tbody tr th {\n",
       "        vertical-align: top;\n",
       "    }\n",
       "\n",
       "    .dataframe thead th {\n",
       "        text-align: right;\n",
       "    }\n",
       "</style>\n",
       "<table border=\"1\" class=\"dataframe\">\n",
       "  <thead>\n",
       "    <tr style=\"text-align: right;\">\n",
       "      <th></th>\n",
       "      <th>site</th>\n",
       "      <th>site_description</th>\n",
       "      <th>supplier_no</th>\n",
       "      <th>supplier_name</th>\n",
       "      <th>invoice_id</th>\n",
       "      <th>invoice_no</th>\n",
       "      <th>date_posted</th>\n",
       "      <th>project_id</th>\n",
       "      <th>project_name</th>\n",
       "      <th>account</th>\n",
       "      <th>...</th>\n",
       "      <th>old/new</th>\n",
       "      <th>priority</th>\n",
       "      <th>match_commodity</th>\n",
       "      <th>match_supplier</th>\n",
       "      <th>classification</th>\n",
       "      <th>new_commodity_description</th>\n",
       "      <th>new_commodity_group</th>\n",
       "      <th>conversion_code</th>\n",
       "      <th>all_accounts_2008_uom_classified</th>\n",
       "      <th>all_2008_accounts_converted</th>\n",
       "    </tr>\n",
       "  </thead>\n",
       "  <tbody>\n",
       "    <tr>\n",
       "      <th>0</th>\n",
       "      <td>BNB</td>\n",
       "      <td>Beckers New Brighton</td>\n",
       "      <td>102548</td>\n",
       "      <td>Lonseal Flooring</td>\n",
       "      <td>433731</td>\n",
       "      <td>0007795-CM</td>\n",
       "      <td>3-Jan-24</td>\n",
       "      <td>2311121922</td>\n",
       "      <td>REGIONS HOSPITAL 4TH MRI</td>\n",
       "      <td>5400</td>\n",
       "      <td>...</td>\n",
       "      <td>NaN</td>\n",
       "      <td>NaN</td>\n",
       "      <td>Commodity Not Found</td>\n",
       "      <td>Supplier registered</td>\n",
       "      <td>No UOM</td>\n",
       "      <td>nan</td>\n",
       "      <td>NaN</td>\n",
       "      <td>nan_nan_nan</td>\n",
       "      <td>False</td>\n",
       "      <td>False</td>\n",
       "    </tr>\n",
       "    <tr>\n",
       "      <th>1</th>\n",
       "      <td>BNB</td>\n",
       "      <td>Beckers New Brighton</td>\n",
       "      <td>104716</td>\n",
       "      <td>Hank's Specialties</td>\n",
       "      <td>433340</td>\n",
       "      <td>173373</td>\n",
       "      <td>3-Jan-24</td>\n",
       "      <td>2312127706</td>\n",
       "      <td>UOFM MOLECULAR &amp; CELLULAR BIOLOGY P</td>\n",
       "      <td>2008</td>\n",
       "      <td>...</td>\n",
       "      <td>New Commodity</td>\n",
       "      <td>No</td>\n",
       "      <td>Commodity Found</td>\n",
       "      <td>Supplier registered</td>\n",
       "      <td>Unclassified</td>\n",
       "      <td>Accessories</td>\n",
       "      <td>1ACC</td>\n",
       "      <td>Accessories_1ACC_EA</td>\n",
       "      <td>False</td>\n",
       "      <td>False</td>\n",
       "    </tr>\n",
       "  </tbody>\n",
       "</table>\n",
       "<p>2 rows × 40 columns</p>\n",
       "</div>"
      ],
      "text/plain": [
       "  site      site_description supplier_no       supplier_name  invoice_id  \\\n",
       "0  BNB  Beckers New Brighton      102548    Lonseal Flooring      433731   \n",
       "1  BNB  Beckers New Brighton      104716  Hank's Specialties      433340   \n",
       "\n",
       "   invoice_no date_posted  project_id                         project_name  \\\n",
       "0  0007795-CM    3-Jan-24  2311121922             REGIONS HOSPITAL 4TH MRI   \n",
       "1      173373    3-Jan-24  2312127706  UOFM MOLECULAR & CELLULAR BIOLOGY P   \n",
       "\n",
       "   account  ...        old/new priority      match_commodity  \\\n",
       "0     5400  ...            NaN      NaN  Commodity Not Found   \n",
       "1     2008  ...  New Commodity       No      Commodity Found   \n",
       "\n",
       "        match_supplier classification new_commodity_description  \\\n",
       "0  Supplier registered         No UOM                       nan   \n",
       "1  Supplier registered   Unclassified               Accessories   \n",
       "\n",
       "   new_commodity_group      conversion_code all_accounts_2008_uom_classified  \\\n",
       "0                  NaN          nan_nan_nan                            False   \n",
       "1                 1ACC  Accessories_1ACC_EA                            False   \n",
       "\n",
       "  all_2008_accounts_converted  \n",
       "0                       False  \n",
       "1                       False  \n",
       "\n",
       "[2 rows x 40 columns]"
      ]
     },
     "execution_count": 174,
     "metadata": {},
     "output_type": "execute_result"
    }
   ],
   "source": [
    "testing_acc = flag_fully_converted_invoices(testing_uom,'../../app/conversion_table_standardized.csv')\n",
    "testing_acc.head(2)"
   ]
  },
  {
   "cell_type": "code",
   "execution_count": 175,
   "id": "08f40957",
   "metadata": {},
   "outputs": [],
   "source": [
    "def enrich_invoice_flags(df: pd.DataFrame) -> pd.DataFrame:\n",
    "    # Step 1: Flag invoices with at least one freight line (ACCOUNT == 5504)\n",
    "    freight_invoice_ids = df[df['account'] == 5504]['invoice_id'].unique()\n",
    "    df['has_freight_line'] = df['invoice_id'].isin(freight_invoice_ids)\n",
    "    count_freight_invoices = df[df['has_freight_line']]['invoice_id'].nunique()\n",
    "    print(f\"Number of invoices with at least one freight line: {count_freight_invoices}\")\n",
    "\n",
    "    # Step 2: Flag invoices with multiple freight lines\n",
    "    freight_count = df[df['account'] == 5504].groupby('invoice_id').size()\n",
    "    df['multiple_freight_lines'] = df['invoice_id'].map(freight_count > 1).fillna(False)\n",
    "    count_multiple_freight_invoices = df[df['multiple_freight_lines']]['invoice_id'].nunique()\n",
    "    print(f\"Number of invoices with multiple freight lines: {count_multiple_freight_invoices}\")\n",
    "\n",
    "    # Step 3: Flag invoices with multiple distinct PART NO (ACCOUNT == 2008)\n",
    "    df_2008 = df[df['account'] == 2008]\n",
    "    component_count = df_2008.groupby('invoice_id')['part_no'].nunique()\n",
    "    df['multiple_parts'] = df['invoice_id'].map(component_count > 1).fillna(False)\n",
    "    count_multiple_parts_invoices = df[df['multiple_parts']]['invoice_id'].nunique()\n",
    "    print(f\"Number of invoices with multiple distinct parts: {count_multiple_parts_invoices}\")\n",
    "\n",
    "    # Step 4: Flag invoices with multiple distinct COMMODITY GROUP (ACCOUNT == 2008)\n",
    "    commodity_count = df_2008.groupby('invoice_id')['new_commodity_group'].nunique()\n",
    "    df['multiple_commodities'] = df['invoice_id'].map(commodity_count > 1).fillna(False)\n",
    "    count_multiple_commodities_invoices = df[df['multiple_commodities']]['invoice_id'].nunique()\n",
    "    print(f\"Number of invoices with multiple distinct commodities: {count_multiple_commodities_invoices}\")\n",
    "\n",
    "    # Step 5: Flag invoices where all ACCOUNT == 2008 rows have Priority == 'Yes'\n",
    "    priority_flag_all = df_2008.groupby('invoice_id')['priority'].apply(lambda x: all(x == 'Yes'))\n",
    "    priority_invoice_ids_all = priority_flag_all[priority_flag_all].index\n",
    "    df['all__invoice_priority_products_(2008)'] = df['invoice_id'].isin(priority_invoice_ids_all)\n",
    "    count_priority_invoices = df[df['all__invoice_priority_products_(2008)']]['invoice_id'].nunique()\n",
    "    print(f\"Number of invoices where all ACCOUNT == 2008 have Priority == 'Yes': {count_priority_invoices}\")\n",
    "\n",
    "    # Step 6: Flag invoices where any ACCOUNT == 2008 row has Priority == 'Yes'\n",
    "    priority_flag_any = df_2008.groupby('invoice_id')['priority'].apply(lambda x: any(x == 'Yes'))\n",
    "    priority_invoice_ids_any = priority_flag_any[priority_flag_any].index\n",
    "    df['any__invoice_priority_products_(2008)'] = df['invoice_id'].isin(priority_invoice_ids_any)\n",
    "    count_any_priority_invoices = df[df['any__invoice_priority_products_(2008)']]['invoice_id'].nunique()\n",
    "    print(f\"Number of invoices where at least one ACCOUNT == 2008 has Priority == 'Yes': {count_any_priority_invoices}\")\n",
    "\n",
    "    return df\n"
   ]
  },
  {
   "cell_type": "code",
   "execution_count": 176,
   "id": "96d90e28",
   "metadata": {},
   "outputs": [
    {
     "name": "stdout",
     "output_type": "stream",
     "text": [
      "Number of invoices with at least one freight line: 55942\n",
      "Number of invoices with multiple freight lines: 197\n",
      "Number of invoices with multiple distinct parts: 47577\n",
      "Number of invoices with multiple distinct commodities: 16091\n",
      "Number of invoices where all ACCOUNT == 2008 have Priority == 'Yes': 17084\n",
      "Number of invoices where at least one ACCOUNT == 2008 has Priority == 'Yes': 23536\n"
     ]
    },
    {
     "data": {
      "application/vnd.microsoft.datawrangler.viewer.v0+json": {
       "columns": [
        {
         "name": "index",
         "rawType": "int64",
         "type": "integer"
        },
        {
         "name": "site",
         "rawType": "object",
         "type": "string"
        },
        {
         "name": "site_description",
         "rawType": "object",
         "type": "string"
        },
        {
         "name": "supplier_no",
         "rawType": "object",
         "type": "string"
        },
        {
         "name": "supplier_name",
         "rawType": "object",
         "type": "string"
        },
        {
         "name": "invoice_id",
         "rawType": "int64",
         "type": "integer"
        },
        {
         "name": "invoice_no",
         "rawType": "object",
         "type": "string"
        },
        {
         "name": "date_posted",
         "rawType": "object",
         "type": "string"
        },
        {
         "name": "project_id",
         "rawType": "object",
         "type": "string"
        },
        {
         "name": "project_name",
         "rawType": "object",
         "type": "string"
        },
        {
         "name": "account",
         "rawType": "int64",
         "type": "integer"
        },
        {
         "name": "account_description",
         "rawType": "object",
         "type": "string"
        },
        {
         "name": "planned_delivery_date",
         "rawType": "object",
         "type": "string"
        },
        {
         "name": "ship_to_zip",
         "rawType": "object",
         "type": "string"
        },
        {
         "name": "po_no",
         "rawType": "object",
         "type": "string"
        },
        {
         "name": "po_line_no",
         "rawType": "object",
         "type": "string"
        },
        {
         "name": "po_rel_no",
         "rawType": "object",
         "type": "string"
        },
        {
         "name": "receipt_no",
         "rawType": "float64",
         "type": "float"
        },
        {
         "name": "part_no",
         "rawType": "object",
         "type": "string"
        },
        {
         "name": "part_description",
         "rawType": "object",
         "type": "string"
        },
        {
         "name": "comm_1",
         "rawType": "object",
         "type": "string"
        },
        {
         "name": "comm_2",
         "rawType": "object",
         "type": "string"
        },
        {
         "name": "po_purch_qty",
         "rawType": "float64",
         "type": "float"
        },
        {
         "name": "purch_uom",
         "rawType": "object",
         "type": "string"
        },
        {
         "name": "po_inv_qty",
         "rawType": "float64",
         "type": "float"
        },
        {
         "name": "inv_uom",
         "rawType": "object",
         "type": "string"
        },
        {
         "name": "invoiced_line_qty",
         "rawType": "float64",
         "type": "float"
        },
        {
         "name": "invoice_line_total",
         "rawType": "float64",
         "type": "float"
        },
        {
         "name": "po_price",
         "rawType": "float64",
         "type": "float"
        },
        {
         "name": "commodity_group",
         "rawType": "object",
         "type": "string"
        },
        {
         "name": "description",
         "rawType": "object",
         "type": "string"
        },
        {
         "name": "old/new",
         "rawType": "object",
         "type": "string"
        },
        {
         "name": "priority",
         "rawType": "object",
         "type": "string"
        },
        {
         "name": "match_commodity",
         "rawType": "object",
         "type": "string"
        },
        {
         "name": "match_supplier",
         "rawType": "object",
         "type": "string"
        },
        {
         "name": "classification",
         "rawType": "object",
         "type": "string"
        },
        {
         "name": "new_commodity_description",
         "rawType": "object",
         "type": "string"
        },
        {
         "name": "new_commodity_group",
         "rawType": "object",
         "type": "string"
        },
        {
         "name": "conversion_code",
         "rawType": "object",
         "type": "string"
        },
        {
         "name": "all_accounts_2008_uom_classified",
         "rawType": "bool",
         "type": "boolean"
        },
        {
         "name": "all_2008_accounts_converted",
         "rawType": "bool",
         "type": "boolean"
        },
        {
         "name": "has_freight_line",
         "rawType": "bool",
         "type": "boolean"
        },
        {
         "name": "multiple_freight_lines",
         "rawType": "bool",
         "type": "boolean"
        },
        {
         "name": "multiple_parts",
         "rawType": "bool",
         "type": "boolean"
        },
        {
         "name": "multiple_commodities",
         "rawType": "bool",
         "type": "boolean"
        },
        {
         "name": "all__invoice_priority_products_(2008)",
         "rawType": "bool",
         "type": "boolean"
        },
        {
         "name": "any__invoice_priority_products_(2008)",
         "rawType": "bool",
         "type": "boolean"
        }
       ],
       "conversionMethod": "pd.DataFrame",
       "ref": "21307dae-aaf0-4e13-a426-6d9d12b22e75",
       "rows": [
        [
         "0",
         "BNB",
         "Beckers New Brighton",
         "102548",
         "Lonseal Flooring",
         "433731",
         "0007795-CM",
         "3-Jan-24",
         "2311121922",
         "REGIONS HOSPITAL 4TH MRI",
         "5400",
         "PROJECT Sub-Contract Labor",
         null,
         null,
         null,
         null,
         null,
         null,
         null,
         null,
         "nan",
         null,
         null,
         null,
         null,
         null,
         null,
         "-600.0",
         null,
         null,
         null,
         null,
         null,
         "Commodity Not Found",
         "Supplier registered",
         "No UOM",
         "nan",
         null,
         "nan_nan_nan",
         "False",
         "False",
         "False",
         "False",
         "False",
         "False",
         "False",
         "False"
        ],
        [
         "1",
         "BNB",
         "Beckers New Brighton",
         "104716",
         "Hank's Specialties",
         "433340",
         "173373",
         "3-Jan-24",
         "2312127706",
         "UOFM MOLECULAR & CELLULAR BIOLOGY P",
         "2008",
         "Received Not Yet Invoiced",
         "2-Jan-24",
         "55430",
         "48180",
         "9",
         "1",
         "1.0",
         "1000007968",
         "PROTECT ALL PRE-NOTCHED Z-BAR INSIDE CORNER ALUMINUM (864056A) 12\"X12\" ALUMINUM",
         "1ACC",
         "1ACC",
         "4.0",
         "EA",
         "4.0",
         "EA",
         "4.0",
         "18.4",
         "18.4",
         "1ACC",
         "Accessories",
         "New Commodity",
         "No",
         "Commodity Found",
         "Supplier registered",
         "Unclassified",
         "Accessories",
         "1ACC",
         "Accessories_1ACC_EA",
         "False",
         "False",
         "True",
         "False",
         "True",
         "True",
         "False",
         "True"
        ]
       ],
       "shape": {
        "columns": 46,
        "rows": 2
       }
      },
      "text/html": [
       "<div>\n",
       "<style scoped>\n",
       "    .dataframe tbody tr th:only-of-type {\n",
       "        vertical-align: middle;\n",
       "    }\n",
       "\n",
       "    .dataframe tbody tr th {\n",
       "        vertical-align: top;\n",
       "    }\n",
       "\n",
       "    .dataframe thead th {\n",
       "        text-align: right;\n",
       "    }\n",
       "</style>\n",
       "<table border=\"1\" class=\"dataframe\">\n",
       "  <thead>\n",
       "    <tr style=\"text-align: right;\">\n",
       "      <th></th>\n",
       "      <th>site</th>\n",
       "      <th>site_description</th>\n",
       "      <th>supplier_no</th>\n",
       "      <th>supplier_name</th>\n",
       "      <th>invoice_id</th>\n",
       "      <th>invoice_no</th>\n",
       "      <th>date_posted</th>\n",
       "      <th>project_id</th>\n",
       "      <th>project_name</th>\n",
       "      <th>account</th>\n",
       "      <th>...</th>\n",
       "      <th>new_commodity_group</th>\n",
       "      <th>conversion_code</th>\n",
       "      <th>all_accounts_2008_uom_classified</th>\n",
       "      <th>all_2008_accounts_converted</th>\n",
       "      <th>has_freight_line</th>\n",
       "      <th>multiple_freight_lines</th>\n",
       "      <th>multiple_parts</th>\n",
       "      <th>multiple_commodities</th>\n",
       "      <th>all__invoice_priority_products_(2008)</th>\n",
       "      <th>any__invoice_priority_products_(2008)</th>\n",
       "    </tr>\n",
       "  </thead>\n",
       "  <tbody>\n",
       "    <tr>\n",
       "      <th>0</th>\n",
       "      <td>BNB</td>\n",
       "      <td>Beckers New Brighton</td>\n",
       "      <td>102548</td>\n",
       "      <td>Lonseal Flooring</td>\n",
       "      <td>433731</td>\n",
       "      <td>0007795-CM</td>\n",
       "      <td>3-Jan-24</td>\n",
       "      <td>2311121922</td>\n",
       "      <td>REGIONS HOSPITAL 4TH MRI</td>\n",
       "      <td>5400</td>\n",
       "      <td>...</td>\n",
       "      <td>NaN</td>\n",
       "      <td>nan_nan_nan</td>\n",
       "      <td>False</td>\n",
       "      <td>False</td>\n",
       "      <td>False</td>\n",
       "      <td>False</td>\n",
       "      <td>False</td>\n",
       "      <td>False</td>\n",
       "      <td>False</td>\n",
       "      <td>False</td>\n",
       "    </tr>\n",
       "    <tr>\n",
       "      <th>1</th>\n",
       "      <td>BNB</td>\n",
       "      <td>Beckers New Brighton</td>\n",
       "      <td>104716</td>\n",
       "      <td>Hank's Specialties</td>\n",
       "      <td>433340</td>\n",
       "      <td>173373</td>\n",
       "      <td>3-Jan-24</td>\n",
       "      <td>2312127706</td>\n",
       "      <td>UOFM MOLECULAR &amp; CELLULAR BIOLOGY P</td>\n",
       "      <td>2008</td>\n",
       "      <td>...</td>\n",
       "      <td>1ACC</td>\n",
       "      <td>Accessories_1ACC_EA</td>\n",
       "      <td>False</td>\n",
       "      <td>False</td>\n",
       "      <td>True</td>\n",
       "      <td>False</td>\n",
       "      <td>True</td>\n",
       "      <td>True</td>\n",
       "      <td>False</td>\n",
       "      <td>True</td>\n",
       "    </tr>\n",
       "  </tbody>\n",
       "</table>\n",
       "<p>2 rows × 46 columns</p>\n",
       "</div>"
      ],
      "text/plain": [
       "  site      site_description supplier_no       supplier_name  invoice_id  \\\n",
       "0  BNB  Beckers New Brighton      102548    Lonseal Flooring      433731   \n",
       "1  BNB  Beckers New Brighton      104716  Hank's Specialties      433340   \n",
       "\n",
       "   invoice_no date_posted  project_id                         project_name  \\\n",
       "0  0007795-CM    3-Jan-24  2311121922             REGIONS HOSPITAL 4TH MRI   \n",
       "1      173373    3-Jan-24  2312127706  UOFM MOLECULAR & CELLULAR BIOLOGY P   \n",
       "\n",
       "   account  ... new_commodity_group      conversion_code  \\\n",
       "0     5400  ...                 NaN          nan_nan_nan   \n",
       "1     2008  ...                1ACC  Accessories_1ACC_EA   \n",
       "\n",
       "  all_accounts_2008_uom_classified all_2008_accounts_converted  \\\n",
       "0                            False                       False   \n",
       "1                            False                       False   \n",
       "\n",
       "  has_freight_line multiple_freight_lines  multiple_parts  \\\n",
       "0            False                  False           False   \n",
       "1             True                  False            True   \n",
       "\n",
       "  multiple_commodities all__invoice_priority_products_(2008)  \\\n",
       "0                False                                 False   \n",
       "1                 True                                 False   \n",
       "\n",
       "  any__invoice_priority_products_(2008)  \n",
       "0                                 False  \n",
       "1                                  True  \n",
       "\n",
       "[2 rows x 46 columns]"
      ]
     },
     "execution_count": 176,
     "metadata": {},
     "output_type": "execute_result"
    }
   ],
   "source": [
    "testing_enriched = enrich_invoice_flags(testing_acc)\n",
    "testing_enriched.head(2)"
   ]
  },
  {
   "cell_type": "code",
   "execution_count": 177,
   "id": "d2409003",
   "metadata": {},
   "outputs": [
    {
     "data": {
      "text/plain": [
       "Index(['site', 'site_description', 'supplier_no', 'supplier_name',\n",
       "       'invoice_id', 'invoice_no', 'date_posted', 'project_id', 'project_name',\n",
       "       'account', 'account_description', 'planned_delivery_date',\n",
       "       'ship_to_zip', 'po_no', 'po_line_no', 'po_rel_no', 'receipt_no',\n",
       "       'part_no', 'part_description', 'comm_1', 'comm_2', 'po_purch_qty',\n",
       "       'purch_uom', 'po_inv_qty', 'inv_uom', 'invoiced_line_qty',\n",
       "       'invoice_line_total', 'po_price', 'commodity_group', 'description',\n",
       "       'old/new', 'priority', 'match_commodity', 'match_supplier',\n",
       "       'classification', 'new_commodity_description', 'new_commodity_group',\n",
       "       'conversion_code', 'all_accounts_2008_uom_classified',\n",
       "       'all_2008_accounts_converted', 'has_freight_line',\n",
       "       'multiple_freight_lines', 'multiple_parts', 'multiple_commodities',\n",
       "       'all__invoice_priority_products_(2008)',\n",
       "       'any__invoice_priority_products_(2008)'],\n",
       "      dtype='object')"
      ]
     },
     "execution_count": 177,
     "metadata": {},
     "output_type": "execute_result"
    }
   ],
   "source": [
    "testing_enriched.columns"
   ]
  },
  {
   "cell_type": "markdown",
   "id": "f086c6ad",
   "metadata": {},
   "source": [
    "## Structuring the sample sizing"
   ]
  },
  {
   "cell_type": "code",
   "execution_count": 178,
   "id": "3c237724",
   "metadata": {},
   "outputs": [],
   "source": [
    "mapped_df = testing_enriched \n",
    "# === Step 0: Define sites and filter columns ===\n",
    "#site_list = ['SPJ', 'SPT', 'SPW']\n",
    "site_list = ['DIT', 'SPJ', 'SPN', 'SPT', 'SPW']\n",
    "\n",
    "filter_columns = [\n",
    "    'all_accounts_2008_uom_classified',\n",
    "    'all_2008_accounts_converted',\n",
    "    'all__invoice_priority_products_(2008)',\n",
    "    'has_freight_line',\n",
    "]\n",
    "\n",
    "\n",
    "\n",
    "# === Step B: Apply combined filters ===\n",
    "filtered_df = mapped_df[\n",
    "    (mapped_df['all_accounts_2008_uom_classified'] == True) &\n",
    "    (mapped_df['all_2008_accounts_converted'] == True) &\n",
    "    (mapped_df['all__invoice_priority_products_(2008)'] == True) &\n",
    "    (mapped_df['has_freight_line'] == True) &\n",
    "    (mapped_df['site'].isin(site_list)) \n",
    "]\n",
    "\n",
    "\n"
   ]
  },
  {
   "cell_type": "code",
   "execution_count": 179,
   "id": "d9437384",
   "metadata": {},
   "outputs": [],
   "source": [
    "def add_freight_per_invoice(df: pd.DataFrame) -> pd.DataFrame:\n",
    "    \"\"\"\n",
    "    Adds a 'freight_per_invoice' column to the DataFrame where each row reflects\n",
    "    the total freight cost (ACCOUNT == 5504) for its invoice_id.\n",
    "\n",
    "    Parameters:\n",
    "    - df: DataFrame with at least 'invoice_id', 'account', and 'invoice_line_total' columns\n",
    "\n",
    "    Returns:\n",
    "    - df: updated DataFrame with 'freight_per_invoice' column\n",
    "    \"\"\"\n",
    "    # Step 1: Filter freight lines\n",
    "    freight_lines = df[df['account'] == 5504]\n",
    "\n",
    "    # Step 2: Sum freight per invoice\n",
    "    freight_per_invoice = (\n",
    "        freight_lines\n",
    "        .groupby('invoice_id', as_index=False)['invoice_line_total']\n",
    "        .sum()\n",
    "        .rename(columns={'invoice_line_total': 'freight_per_invoice'})\n",
    "    )\n",
    "\n",
    "    # Step 3: Merge and propagate to all rows\n",
    "    df = df.merge(freight_per_invoice, on='invoice_id', how='left')\n",
    "\n",
    "    # Step 4: Fill NaN with 0 (invoices with no freight)\n",
    "    df['freight_per_invoice'] = df['freight_per_invoice'].fillna(0)\n",
    "\n",
    "    return df\n"
   ]
  },
  {
   "cell_type": "code",
   "execution_count": 180,
   "id": "d03a006e",
   "metadata": {},
   "outputs": [
    {
     "data": {
      "application/vnd.microsoft.datawrangler.viewer.v0+json": {
       "columns": [
        {
         "name": "index",
         "rawType": "int64",
         "type": "integer"
        },
        {
         "name": "site",
         "rawType": "object",
         "type": "string"
        },
        {
         "name": "site_description",
         "rawType": "object",
         "type": "string"
        },
        {
         "name": "supplier_no",
         "rawType": "object",
         "type": "string"
        },
        {
         "name": "supplier_name",
         "rawType": "object",
         "type": "string"
        },
        {
         "name": "invoice_id",
         "rawType": "int64",
         "type": "integer"
        },
        {
         "name": "invoice_no",
         "rawType": "object",
         "type": "string"
        },
        {
         "name": "date_posted",
         "rawType": "object",
         "type": "string"
        },
        {
         "name": "project_id",
         "rawType": "object",
         "type": "string"
        },
        {
         "name": "project_name",
         "rawType": "object",
         "type": "string"
        },
        {
         "name": "account",
         "rawType": "int64",
         "type": "integer"
        },
        {
         "name": "account_description",
         "rawType": "object",
         "type": "string"
        },
        {
         "name": "planned_delivery_date",
         "rawType": "object",
         "type": "string"
        },
        {
         "name": "ship_to_zip",
         "rawType": "object",
         "type": "string"
        },
        {
         "name": "po_no",
         "rawType": "object",
         "type": "string"
        },
        {
         "name": "po_line_no",
         "rawType": "object",
         "type": "string"
        },
        {
         "name": "po_rel_no",
         "rawType": "object",
         "type": "string"
        },
        {
         "name": "receipt_no",
         "rawType": "float64",
         "type": "float"
        },
        {
         "name": "part_no",
         "rawType": "object",
         "type": "string"
        },
        {
         "name": "part_description",
         "rawType": "object",
         "type": "string"
        },
        {
         "name": "comm_1",
         "rawType": "object",
         "type": "string"
        },
        {
         "name": "comm_2",
         "rawType": "object",
         "type": "string"
        },
        {
         "name": "po_purch_qty",
         "rawType": "float64",
         "type": "float"
        },
        {
         "name": "purch_uom",
         "rawType": "object",
         "type": "string"
        },
        {
         "name": "po_inv_qty",
         "rawType": "float64",
         "type": "float"
        },
        {
         "name": "inv_uom",
         "rawType": "object",
         "type": "string"
        },
        {
         "name": "invoiced_line_qty",
         "rawType": "float64",
         "type": "float"
        },
        {
         "name": "invoice_line_total",
         "rawType": "float64",
         "type": "float"
        },
        {
         "name": "po_price",
         "rawType": "float64",
         "type": "float"
        },
        {
         "name": "commodity_group",
         "rawType": "object",
         "type": "string"
        },
        {
         "name": "description",
         "rawType": "object",
         "type": "string"
        },
        {
         "name": "old/new",
         "rawType": "object",
         "type": "string"
        },
        {
         "name": "priority",
         "rawType": "object",
         "type": "string"
        },
        {
         "name": "match_commodity",
         "rawType": "object",
         "type": "string"
        },
        {
         "name": "match_supplier",
         "rawType": "object",
         "type": "string"
        },
        {
         "name": "classification",
         "rawType": "object",
         "type": "string"
        },
        {
         "name": "new_commodity_description",
         "rawType": "object",
         "type": "string"
        },
        {
         "name": "new_commodity_group",
         "rawType": "object",
         "type": "string"
        },
        {
         "name": "conversion_code",
         "rawType": "object",
         "type": "string"
        },
        {
         "name": "all_accounts_2008_uom_classified",
         "rawType": "bool",
         "type": "boolean"
        },
        {
         "name": "all_2008_accounts_converted",
         "rawType": "bool",
         "type": "boolean"
        },
        {
         "name": "has_freight_line",
         "rawType": "bool",
         "type": "boolean"
        },
        {
         "name": "multiple_freight_lines",
         "rawType": "bool",
         "type": "boolean"
        },
        {
         "name": "multiple_parts",
         "rawType": "bool",
         "type": "boolean"
        },
        {
         "name": "multiple_commodities",
         "rawType": "bool",
         "type": "boolean"
        },
        {
         "name": "all__invoice_priority_products_(2008)",
         "rawType": "bool",
         "type": "boolean"
        },
        {
         "name": "any__invoice_priority_products_(2008)",
         "rawType": "bool",
         "type": "boolean"
        },
        {
         "name": "freight_per_invoice",
         "rawType": "float64",
         "type": "float"
        }
       ],
       "conversionMethod": "pd.DataFrame",
       "ref": "fde94325-fccc-4fc2-afa8-083e2698f4d3",
       "rows": [
        [
         "0",
         "DIT",
         "Diverzify Itasca",
         "890",
         "All Surfaces",
         "443670",
         "5378334",
         "10-Jan-24",
         "2311123624",
         "Rick Sidor Residence",
         "5504",
         "PROJECT Freight",
         null,
         null,
         "47568",
         null,
         null,
         null,
         null,
         null,
         "nan",
         null,
         null,
         null,
         null,
         null,
         null,
         "54.55",
         null,
         null,
         null,
         null,
         null,
         "Commodity Not Found",
         "Supplier registered",
         "No UOM",
         "nan",
         null,
         "nan_nan_nan",
         "True",
         "True",
         "True",
         "False",
         "False",
         "False",
         "True",
         "True",
         "54.55"
        ],
        [
         "1",
         "DIT",
         "Diverzify Itasca",
         "890",
         "All Surfaces",
         "443670",
         "5378334",
         "10-Jan-24",
         "2311123624",
         "Rick Sidor Residence",
         "2008",
         "Received Not Yet Invoiced",
         "22-Dec-23",
         "60143",
         "47568",
         "1",
         "1",
         "1.0",
         "1000008205",
         "FirmFit Casebella Stateside CWH-5773 6mm x 9.1\" x 60.3\" 22 mil Parkview LVT",
         "1VNL",
         "2LVT",
         "1013.89",
         "SF",
         "1013.89",
         "SQFT",
         "1013.89",
         "2727.36",
         "2727.36",
         "1VNL",
         "Vinyl",
         "New Commodity",
         "Yes",
         "Commodity Found",
         "Supplier registered",
         "Classified",
         "LVT",
         "1VNL",
         "LVT_1VNL_SQFT",
         "True",
         "True",
         "True",
         "False",
         "False",
         "False",
         "True",
         "True",
         "54.55"
        ]
       ],
       "shape": {
        "columns": 47,
        "rows": 2
       }
      },
      "text/html": [
       "<div>\n",
       "<style scoped>\n",
       "    .dataframe tbody tr th:only-of-type {\n",
       "        vertical-align: middle;\n",
       "    }\n",
       "\n",
       "    .dataframe tbody tr th {\n",
       "        vertical-align: top;\n",
       "    }\n",
       "\n",
       "    .dataframe thead th {\n",
       "        text-align: right;\n",
       "    }\n",
       "</style>\n",
       "<table border=\"1\" class=\"dataframe\">\n",
       "  <thead>\n",
       "    <tr style=\"text-align: right;\">\n",
       "      <th></th>\n",
       "      <th>site</th>\n",
       "      <th>site_description</th>\n",
       "      <th>supplier_no</th>\n",
       "      <th>supplier_name</th>\n",
       "      <th>invoice_id</th>\n",
       "      <th>invoice_no</th>\n",
       "      <th>date_posted</th>\n",
       "      <th>project_id</th>\n",
       "      <th>project_name</th>\n",
       "      <th>account</th>\n",
       "      <th>...</th>\n",
       "      <th>conversion_code</th>\n",
       "      <th>all_accounts_2008_uom_classified</th>\n",
       "      <th>all_2008_accounts_converted</th>\n",
       "      <th>has_freight_line</th>\n",
       "      <th>multiple_freight_lines</th>\n",
       "      <th>multiple_parts</th>\n",
       "      <th>multiple_commodities</th>\n",
       "      <th>all__invoice_priority_products_(2008)</th>\n",
       "      <th>any__invoice_priority_products_(2008)</th>\n",
       "      <th>freight_per_invoice</th>\n",
       "    </tr>\n",
       "  </thead>\n",
       "  <tbody>\n",
       "    <tr>\n",
       "      <th>0</th>\n",
       "      <td>DIT</td>\n",
       "      <td>Diverzify Itasca</td>\n",
       "      <td>890</td>\n",
       "      <td>All Surfaces</td>\n",
       "      <td>443670</td>\n",
       "      <td>5378334</td>\n",
       "      <td>10-Jan-24</td>\n",
       "      <td>2311123624</td>\n",
       "      <td>Rick Sidor Residence</td>\n",
       "      <td>5504</td>\n",
       "      <td>...</td>\n",
       "      <td>nan_nan_nan</td>\n",
       "      <td>True</td>\n",
       "      <td>True</td>\n",
       "      <td>True</td>\n",
       "      <td>False</td>\n",
       "      <td>False</td>\n",
       "      <td>False</td>\n",
       "      <td>True</td>\n",
       "      <td>True</td>\n",
       "      <td>54.55</td>\n",
       "    </tr>\n",
       "    <tr>\n",
       "      <th>1</th>\n",
       "      <td>DIT</td>\n",
       "      <td>Diverzify Itasca</td>\n",
       "      <td>890</td>\n",
       "      <td>All Surfaces</td>\n",
       "      <td>443670</td>\n",
       "      <td>5378334</td>\n",
       "      <td>10-Jan-24</td>\n",
       "      <td>2311123624</td>\n",
       "      <td>Rick Sidor Residence</td>\n",
       "      <td>2008</td>\n",
       "      <td>...</td>\n",
       "      <td>LVT_1VNL_SQFT</td>\n",
       "      <td>True</td>\n",
       "      <td>True</td>\n",
       "      <td>True</td>\n",
       "      <td>False</td>\n",
       "      <td>False</td>\n",
       "      <td>False</td>\n",
       "      <td>True</td>\n",
       "      <td>True</td>\n",
       "      <td>54.55</td>\n",
       "    </tr>\n",
       "  </tbody>\n",
       "</table>\n",
       "<p>2 rows × 47 columns</p>\n",
       "</div>"
      ],
      "text/plain": [
       "  site  site_description supplier_no supplier_name  invoice_id invoice_no  \\\n",
       "0  DIT  Diverzify Itasca         890  All Surfaces      443670    5378334   \n",
       "1  DIT  Diverzify Itasca         890  All Surfaces      443670    5378334   \n",
       "\n",
       "  date_posted  project_id          project_name  account  ... conversion_code  \\\n",
       "0   10-Jan-24  2311123624  Rick Sidor Residence     5504  ...     nan_nan_nan   \n",
       "1   10-Jan-24  2311123624  Rick Sidor Residence     2008  ...   LVT_1VNL_SQFT   \n",
       "\n",
       "  all_accounts_2008_uom_classified all_2008_accounts_converted  \\\n",
       "0                             True                        True   \n",
       "1                             True                        True   \n",
       "\n",
       "  has_freight_line multiple_freight_lines multiple_parts  \\\n",
       "0             True                  False          False   \n",
       "1             True                  False          False   \n",
       "\n",
       "   multiple_commodities all__invoice_priority_products_(2008)  \\\n",
       "0                 False                                  True   \n",
       "1                 False                                  True   \n",
       "\n",
       "  any__invoice_priority_products_(2008) freight_per_invoice  \n",
       "0                                  True               54.55  \n",
       "1                                  True               54.55  \n",
       "\n",
       "[2 rows x 47 columns]"
      ]
     },
     "execution_count": 180,
     "metadata": {},
     "output_type": "execute_result"
    }
   ],
   "source": [
    "output_df = add_freight_per_invoice(filtered_df)\n",
    "output_df.head(2)"
   ]
  },
  {
   "cell_type": "code",
   "execution_count": 181,
   "id": "3f3a47ee",
   "metadata": {},
   "outputs": [],
   "source": [
    "\n",
    "\n",
    "filtered_df = output_df[output_df['conversion_code'] != 'nan_nan_nan']\n",
    "# Create a new filename with the current timestamp\n",
    "filtered_df.to_excel(f'../../data/output/{date}_modelling_input_v_{timestamp}.xlsx', index=False, engine='openpyxl')\n",
    "filtered_df.to_csv(f'../../data/output/{date}_modelling_input_v_{timestamp}.csv', index=False,)\n",
    "\n",
    "# Save the filtered DataFrame to an Excel file"
   ]
  },
  {
   "cell_type": "markdown",
   "id": "79dfb818",
   "metadata": {},
   "source": []
  }
 ],
 "metadata": {
  "kernelspec": {
   "display_name": "base",
   "language": "python",
   "name": "python3"
  },
  "language_info": {
   "codemirror_mode": {
    "name": "ipython",
    "version": 3
   },
   "file_extension": ".py",
   "mimetype": "text/x-python",
   "name": "python",
   "nbconvert_exporter": "python",
   "pygments_lexer": "ipython3",
   "version": "3.9.7"
  }
 },
 "nbformat": 4,
 "nbformat_minor": 5
}
