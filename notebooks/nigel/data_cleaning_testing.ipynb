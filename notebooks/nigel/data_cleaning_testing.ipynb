{
 "cells": [
  {
   "cell_type": "code",
   "execution_count": 1,
   "id": "e1db0967",
   "metadata": {},
   "outputs": [],
   "source": [
    "import pandas as pd\n",
    "import sys\n",
    "sys.path.append('../../utils')  # go up two folders, then into utils\n",
    "\n",
    "from data_cleaning_utils import (\n",
    "    data_cleaning,\n",
    "    enrich_invoice_flags,\n",
    "    uom_cleaning,\n",
    "    flag_fully_converted_invoices,\n",
    "    add_freight_per_invoice,\n",
    "    filter_valid_invoices,\n",
    "    increase_sample_size,\n",
    "    resampling,\n",
    ")  # or whatever functions you have\n"
   ]
  },
  {
   "cell_type": "code",
   "execution_count": 2,
   "id": "34e78d3d",
   "metadata": {},
   "outputs": [
    {
     "name": "stderr",
     "output_type": "stream",
     "text": [
      "c:\\Users\\nzhuw\\anaconda3\\lib\\site-packages\\IPython\\core\\interactiveshell.py:3444: DtypeWarning: Columns (12) have mixed types.Specify dtype option on import or set low_memory=False.\n",
      "  exec(code_obj, self.user_global_ns, self.user_ns)\n"
     ]
    }
   ],
   "source": [
    "df = pd.read_csv('../../data/input/Freight_Cost_Analysis_CY2024-03.25.csv',encoding=\"latin1\")  # replace with your actual data loading method"
   ]
  },
  {
   "cell_type": "code",
   "execution_count": 3,
   "id": "ed1f07e4",
   "metadata": {},
   "outputs": [],
   "source": [
    "conversion_csv_path = \"../../data/input/freight_model/conversion_table_standardized.csv\"\n"
   ]
  },
  {
   "cell_type": "code",
   "execution_count": 4,
   "id": "24cfec46",
   "metadata": {},
   "outputs": [
    {
     "name": "stderr",
     "output_type": "stream",
     "text": [
      "INFO:root:🔧 Running data_cleaning...\n",
      "INFO:root:✅ data_cleaning complete.\n"
     ]
    },
    {
     "data": {
      "application/vnd.microsoft.datawrangler.viewer.v0+json": {
       "columns": [
        {
         "name": "index",
         "rawType": "int64",
         "type": "integer"
        },
        {
         "name": "site",
         "rawType": "object",
         "type": "string"
        },
        {
         "name": "site_description",
         "rawType": "object",
         "type": "string"
        },
        {
         "name": "supplier_no",
         "rawType": "object",
         "type": "string"
        },
        {
         "name": "supplier_name",
         "rawType": "object",
         "type": "string"
        },
        {
         "name": "invoice_id",
         "rawType": "int64",
         "type": "integer"
        },
        {
         "name": "invoice_no",
         "rawType": "object",
         "type": "string"
        },
        {
         "name": "date_posted",
         "rawType": "object",
         "type": "string"
        },
        {
         "name": "project_id",
         "rawType": "object",
         "type": "string"
        },
        {
         "name": "project_name",
         "rawType": "object",
         "type": "string"
        },
        {
         "name": "account",
         "rawType": "int64",
         "type": "integer"
        },
        {
         "name": "account_description",
         "rawType": "object",
         "type": "string"
        },
        {
         "name": "planned_delivery_date",
         "rawType": "object",
         "type": "string"
        },
        {
         "name": "ship_to_zip",
         "rawType": "object",
         "type": "string"
        },
        {
         "name": "po_no",
         "rawType": "object",
         "type": "string"
        },
        {
         "name": "po_line_no",
         "rawType": "object",
         "type": "string"
        },
        {
         "name": "po_rel_no",
         "rawType": "object",
         "type": "string"
        },
        {
         "name": "receipt_no",
         "rawType": "float64",
         "type": "float"
        },
        {
         "name": "part_no",
         "rawType": "object",
         "type": "string"
        },
        {
         "name": "part_description",
         "rawType": "object",
         "type": "string"
        },
        {
         "name": "comm_1",
         "rawType": "object",
         "type": "string"
        },
        {
         "name": "comm_2",
         "rawType": "object",
         "type": "string"
        },
        {
         "name": "po_purch_qty",
         "rawType": "float64",
         "type": "float"
        },
        {
         "name": "purch_uom",
         "rawType": "object",
         "type": "string"
        },
        {
         "name": "po_inv_qty",
         "rawType": "float64",
         "type": "float"
        },
        {
         "name": "inv_uom",
         "rawType": "object",
         "type": "string"
        },
        {
         "name": "invoiced_line_qty",
         "rawType": "float64",
         "type": "float"
        },
        {
         "name": "invoice_line_total",
         "rawType": "float64",
         "type": "float"
        },
        {
         "name": "po_price",
         "rawType": "float64",
         "type": "float"
        },
        {
         "name": "commodity_group",
         "rawType": "object",
         "type": "string"
        },
        {
         "name": "description",
         "rawType": "object",
         "type": "string"
        },
        {
         "name": "old/new",
         "rawType": "object",
         "type": "string"
        },
        {
         "name": "priority",
         "rawType": "object",
         "type": "string"
        },
        {
         "name": "match_commodity",
         "rawType": "object",
         "type": "string"
        },
        {
         "name": "match_supplier",
         "rawType": "object",
         "type": "string"
        },
        {
         "name": "is_classified",
         "rawType": "bool",
         "type": "boolean"
        },
        {
         "name": "invoice_has_classified",
         "rawType": "bool",
         "type": "boolean"
        },
        {
         "name": "classification",
         "rawType": "object",
         "type": "string"
        },
        {
         "name": "new_commodity_description",
         "rawType": "object",
         "type": "string"
        },
        {
         "name": "new_commodity_group",
         "rawType": "object",
         "type": "string"
        },
        {
         "name": "conversion_code",
         "rawType": "object",
         "type": "string"
        }
       ],
       "conversionMethod": "pd.DataFrame",
       "ref": "23438108-89fa-4831-905c-29ba19c16659",
       "rows": [
        [
         "0",
         "DIT",
         "Diverzify Itasca",
         "121550",
         "Mohawk Industries",
         "731977",
         "C2665159",
         "25-Jun-24",
         "2312127222",
         "Blue Chip Casino Deli",
         "5504",
         "PROJECT Freight",
         null,
         null,
         "100317",
         null,
         null,
         null,
         null,
         null,
         "nan",
         null,
         null,
         null,
         null,
         null,
         null,
         "19.07",
         null,
         null,
         null,
         null,
         null,
         "Commodity Not Found",
         "Supplier registered",
         "False",
         "False",
         "Unclassified",
         "nan",
         null,
         "nan_nan_nan"
        ],
        [
         "1",
         "SPN",
         "Spectra Norcross",
         "103277",
         "William M. Bird",
         "531030",
         "656881",
         "01-Mar-24",
         "2401132763",
         "FAROPOINT LOBBY RENOVATION",
         "2008",
         "Received Not Yet Invoiced",
         "23-Jan-24",
         "30071",
         "55700",
         "1",
         "1",
         "1.0",
         "198962-003",
         "Metroflor Deja New San Marcus Oak 20 mil Micro-Bevel Glue Down Plank 9in x 60in 2.5 MM - PUMICE (DN1445105)",
         "1VNL",
         "2LVP",
         "675.0",
         "SF",
         "675.0",
         "SF",
         "675.0",
         "1343.25",
         "1343.25",
         "1VNL",
         "Vinyl",
         "New Commodity",
         "Yes",
         "Commodity Found",
         "Supplier registered",
         "False",
         "False",
         "Unclassified",
         "LVP",
         "1VNL",
         "LVP_1VNL_SF"
        ]
       ],
       "shape": {
        "columns": 40,
        "rows": 2
       }
      },
      "text/html": [
       "<div>\n",
       "<style scoped>\n",
       "    .dataframe tbody tr th:only-of-type {\n",
       "        vertical-align: middle;\n",
       "    }\n",
       "\n",
       "    .dataframe tbody tr th {\n",
       "        vertical-align: top;\n",
       "    }\n",
       "\n",
       "    .dataframe thead th {\n",
       "        text-align: right;\n",
       "    }\n",
       "</style>\n",
       "<table border=\"1\" class=\"dataframe\">\n",
       "  <thead>\n",
       "    <tr style=\"text-align: right;\">\n",
       "      <th></th>\n",
       "      <th>site</th>\n",
       "      <th>site_description</th>\n",
       "      <th>supplier_no</th>\n",
       "      <th>supplier_name</th>\n",
       "      <th>invoice_id</th>\n",
       "      <th>invoice_no</th>\n",
       "      <th>date_posted</th>\n",
       "      <th>project_id</th>\n",
       "      <th>project_name</th>\n",
       "      <th>account</th>\n",
       "      <th>...</th>\n",
       "      <th>old/new</th>\n",
       "      <th>priority</th>\n",
       "      <th>match_commodity</th>\n",
       "      <th>match_supplier</th>\n",
       "      <th>is_classified</th>\n",
       "      <th>invoice_has_classified</th>\n",
       "      <th>classification</th>\n",
       "      <th>new_commodity_description</th>\n",
       "      <th>new_commodity_group</th>\n",
       "      <th>conversion_code</th>\n",
       "    </tr>\n",
       "  </thead>\n",
       "  <tbody>\n",
       "    <tr>\n",
       "      <th>0</th>\n",
       "      <td>DIT</td>\n",
       "      <td>Diverzify Itasca</td>\n",
       "      <td>121550</td>\n",
       "      <td>Mohawk Industries</td>\n",
       "      <td>731977</td>\n",
       "      <td>C2665159</td>\n",
       "      <td>25-Jun-24</td>\n",
       "      <td>2312127222</td>\n",
       "      <td>Blue Chip Casino Deli</td>\n",
       "      <td>5504</td>\n",
       "      <td>...</td>\n",
       "      <td>NaN</td>\n",
       "      <td>NaN</td>\n",
       "      <td>Commodity Not Found</td>\n",
       "      <td>Supplier registered</td>\n",
       "      <td>False</td>\n",
       "      <td>False</td>\n",
       "      <td>Unclassified</td>\n",
       "      <td>nan</td>\n",
       "      <td>NaN</td>\n",
       "      <td>nan_nan_nan</td>\n",
       "    </tr>\n",
       "    <tr>\n",
       "      <th>1</th>\n",
       "      <td>SPN</td>\n",
       "      <td>Spectra Norcross</td>\n",
       "      <td>103277</td>\n",
       "      <td>William M. Bird</td>\n",
       "      <td>531030</td>\n",
       "      <td>656881</td>\n",
       "      <td>01-Mar-24</td>\n",
       "      <td>2401132763</td>\n",
       "      <td>FAROPOINT LOBBY RENOVATION</td>\n",
       "      <td>2008</td>\n",
       "      <td>...</td>\n",
       "      <td>New Commodity</td>\n",
       "      <td>Yes</td>\n",
       "      <td>Commodity Found</td>\n",
       "      <td>Supplier registered</td>\n",
       "      <td>False</td>\n",
       "      <td>False</td>\n",
       "      <td>Unclassified</td>\n",
       "      <td>LVP</td>\n",
       "      <td>1VNL</td>\n",
       "      <td>LVP_1VNL_SF</td>\n",
       "    </tr>\n",
       "  </tbody>\n",
       "</table>\n",
       "<p>2 rows × 40 columns</p>\n",
       "</div>"
      ],
      "text/plain": [
       "  site  site_description supplier_no      supplier_name  invoice_id  \\\n",
       "0  DIT  Diverzify Itasca      121550  Mohawk Industries      731977   \n",
       "1  SPN  Spectra Norcross      103277    William M. Bird      531030   \n",
       "\n",
       "  invoice_no date_posted  project_id                project_name  account  \\\n",
       "0   C2665159   25-Jun-24  2312127222       Blue Chip Casino Deli     5504   \n",
       "1     656881   01-Mar-24  2401132763  FAROPOINT LOBBY RENOVATION     2008   \n",
       "\n",
       "   ...        old/new priority      match_commodity       match_supplier  \\\n",
       "0  ...            NaN      NaN  Commodity Not Found  Supplier registered   \n",
       "1  ...  New Commodity      Yes      Commodity Found  Supplier registered   \n",
       "\n",
       "  is_classified invoice_has_classified  classification  \\\n",
       "0         False                  False    Unclassified   \n",
       "1         False                  False    Unclassified   \n",
       "\n",
       "  new_commodity_description new_commodity_group conversion_code  \n",
       "0                       nan                 NaN     nan_nan_nan  \n",
       "1                       LVP                1VNL     LVP_1VNL_SF  \n",
       "\n",
       "[2 rows x 40 columns]"
      ]
     },
     "execution_count": 4,
     "metadata": {},
     "output_type": "execute_result"
    }
   ],
   "source": [
    "df = data_cleaning(df,base_path='../../data/input')\n",
    "df.head(2)\n"
   ]
  },
  {
   "cell_type": "code",
   "execution_count": 5,
   "id": "f058fcae",
   "metadata": {},
   "outputs": [
    {
     "name": "stderr",
     "output_type": "stream",
     "text": [
      "INFO:root:✅ fixing unit of measure.\n"
     ]
    },
    {
     "data": {
      "application/vnd.microsoft.datawrangler.viewer.v0+json": {
       "columns": [
        {
         "name": "index",
         "rawType": "int64",
         "type": "integer"
        },
        {
         "name": "site",
         "rawType": "object",
         "type": "string"
        },
        {
         "name": "site_description",
         "rawType": "object",
         "type": "string"
        },
        {
         "name": "supplier_no",
         "rawType": "object",
         "type": "string"
        },
        {
         "name": "supplier_name",
         "rawType": "object",
         "type": "string"
        },
        {
         "name": "invoice_id",
         "rawType": "int64",
         "type": "integer"
        },
        {
         "name": "invoice_no",
         "rawType": "object",
         "type": "string"
        },
        {
         "name": "date_posted",
         "rawType": "object",
         "type": "string"
        },
        {
         "name": "project_id",
         "rawType": "object",
         "type": "string"
        },
        {
         "name": "project_name",
         "rawType": "object",
         "type": "string"
        },
        {
         "name": "account",
         "rawType": "int64",
         "type": "integer"
        },
        {
         "name": "account_description",
         "rawType": "object",
         "type": "string"
        },
        {
         "name": "planned_delivery_date",
         "rawType": "object",
         "type": "string"
        },
        {
         "name": "ship_to_zip",
         "rawType": "object",
         "type": "string"
        },
        {
         "name": "po_no",
         "rawType": "object",
         "type": "string"
        },
        {
         "name": "po_line_no",
         "rawType": "object",
         "type": "string"
        },
        {
         "name": "po_rel_no",
         "rawType": "object",
         "type": "string"
        },
        {
         "name": "receipt_no",
         "rawType": "float64",
         "type": "float"
        },
        {
         "name": "part_no",
         "rawType": "object",
         "type": "string"
        },
        {
         "name": "part_description",
         "rawType": "object",
         "type": "string"
        },
        {
         "name": "comm_1",
         "rawType": "object",
         "type": "string"
        },
        {
         "name": "comm_2",
         "rawType": "object",
         "type": "string"
        },
        {
         "name": "po_purch_qty",
         "rawType": "float64",
         "type": "float"
        },
        {
         "name": "purch_uom",
         "rawType": "object",
         "type": "string"
        },
        {
         "name": "po_inv_qty",
         "rawType": "float64",
         "type": "float"
        },
        {
         "name": "inv_uom",
         "rawType": "object",
         "type": "string"
        },
        {
         "name": "invoiced_line_qty",
         "rawType": "float64",
         "type": "float"
        },
        {
         "name": "invoice_line_total",
         "rawType": "float64",
         "type": "float"
        },
        {
         "name": "po_price",
         "rawType": "float64",
         "type": "float"
        },
        {
         "name": "commodity_group",
         "rawType": "object",
         "type": "string"
        },
        {
         "name": "description",
         "rawType": "object",
         "type": "string"
        },
        {
         "name": "old/new",
         "rawType": "object",
         "type": "string"
        },
        {
         "name": "priority",
         "rawType": "object",
         "type": "string"
        },
        {
         "name": "match_commodity",
         "rawType": "object",
         "type": "string"
        },
        {
         "name": "match_supplier",
         "rawType": "object",
         "type": "string"
        },
        {
         "name": "classification",
         "rawType": "object",
         "type": "string"
        },
        {
         "name": "new_commodity_description",
         "rawType": "object",
         "type": "string"
        },
        {
         "name": "new_commodity_group",
         "rawType": "object",
         "type": "string"
        },
        {
         "name": "conversion_code",
         "rawType": "object",
         "type": "string"
        },
        {
         "name": "all_accounts_2008_uom_classified",
         "rawType": "bool",
         "type": "boolean"
        }
       ],
       "conversionMethod": "pd.DataFrame",
       "ref": "e268603b-9d97-4029-9caa-eb8561e0a3a2",
       "rows": [
        [
         "0",
         "DIT",
         "Diverzify Itasca",
         "121550",
         "Mohawk Industries",
         "731977",
         "C2665159",
         "25-Jun-24",
         "2312127222",
         "Blue Chip Casino Deli",
         "5504",
         "PROJECT Freight",
         null,
         null,
         "100317",
         null,
         null,
         null,
         null,
         null,
         "nan",
         null,
         null,
         null,
         null,
         null,
         null,
         "19.07",
         null,
         null,
         null,
         null,
         null,
         "Commodity Not Found",
         "Supplier registered",
         "No UOM",
         "nan",
         null,
         "nan_nan_nan",
         "True"
        ],
        [
         "1",
         "SPN",
         "Spectra Norcross",
         "103277",
         "William M. Bird",
         "531030",
         "656881",
         "01-Mar-24",
         "2401132763",
         "FAROPOINT LOBBY RENOVATION",
         "2008",
         "Received Not Yet Invoiced",
         "23-Jan-24",
         "30071",
         "55700",
         "1",
         "1",
         "1.0",
         "198962-003",
         "Metroflor Deja New San Marcus Oak 20 mil Micro-Bevel Glue Down Plank 9in x 60in 2.5 MM - PUMICE (DN1445105)",
         "1VNL",
         "2LVP",
         "675.0",
         "SF",
         "675.0",
         "SQFT",
         "675.0",
         "1343.25",
         "1343.25",
         "1VNL",
         "Vinyl",
         "New Commodity",
         "Yes",
         "Commodity Found",
         "Supplier registered",
         "Classified",
         "LVP",
         "1VNL",
         "LVP_1VNL_SQFT",
         "True"
        ]
       ],
       "shape": {
        "columns": 39,
        "rows": 2
       }
      },
      "text/html": [
       "<div>\n",
       "<style scoped>\n",
       "    .dataframe tbody tr th:only-of-type {\n",
       "        vertical-align: middle;\n",
       "    }\n",
       "\n",
       "    .dataframe tbody tr th {\n",
       "        vertical-align: top;\n",
       "    }\n",
       "\n",
       "    .dataframe thead th {\n",
       "        text-align: right;\n",
       "    }\n",
       "</style>\n",
       "<table border=\"1\" class=\"dataframe\">\n",
       "  <thead>\n",
       "    <tr style=\"text-align: right;\">\n",
       "      <th></th>\n",
       "      <th>site</th>\n",
       "      <th>site_description</th>\n",
       "      <th>supplier_no</th>\n",
       "      <th>supplier_name</th>\n",
       "      <th>invoice_id</th>\n",
       "      <th>invoice_no</th>\n",
       "      <th>date_posted</th>\n",
       "      <th>project_id</th>\n",
       "      <th>project_name</th>\n",
       "      <th>account</th>\n",
       "      <th>...</th>\n",
       "      <th>description</th>\n",
       "      <th>old/new</th>\n",
       "      <th>priority</th>\n",
       "      <th>match_commodity</th>\n",
       "      <th>match_supplier</th>\n",
       "      <th>classification</th>\n",
       "      <th>new_commodity_description</th>\n",
       "      <th>new_commodity_group</th>\n",
       "      <th>conversion_code</th>\n",
       "      <th>all_accounts_2008_uom_classified</th>\n",
       "    </tr>\n",
       "  </thead>\n",
       "  <tbody>\n",
       "    <tr>\n",
       "      <th>0</th>\n",
       "      <td>DIT</td>\n",
       "      <td>Diverzify Itasca</td>\n",
       "      <td>121550</td>\n",
       "      <td>Mohawk Industries</td>\n",
       "      <td>731977</td>\n",
       "      <td>C2665159</td>\n",
       "      <td>25-Jun-24</td>\n",
       "      <td>2312127222</td>\n",
       "      <td>Blue Chip Casino Deli</td>\n",
       "      <td>5504</td>\n",
       "      <td>...</td>\n",
       "      <td>NaN</td>\n",
       "      <td>NaN</td>\n",
       "      <td>NaN</td>\n",
       "      <td>Commodity Not Found</td>\n",
       "      <td>Supplier registered</td>\n",
       "      <td>No UOM</td>\n",
       "      <td>nan</td>\n",
       "      <td>NaN</td>\n",
       "      <td>nan_nan_nan</td>\n",
       "      <td>True</td>\n",
       "    </tr>\n",
       "    <tr>\n",
       "      <th>1</th>\n",
       "      <td>SPN</td>\n",
       "      <td>Spectra Norcross</td>\n",
       "      <td>103277</td>\n",
       "      <td>William M. Bird</td>\n",
       "      <td>531030</td>\n",
       "      <td>656881</td>\n",
       "      <td>01-Mar-24</td>\n",
       "      <td>2401132763</td>\n",
       "      <td>FAROPOINT LOBBY RENOVATION</td>\n",
       "      <td>2008</td>\n",
       "      <td>...</td>\n",
       "      <td>Vinyl</td>\n",
       "      <td>New Commodity</td>\n",
       "      <td>Yes</td>\n",
       "      <td>Commodity Found</td>\n",
       "      <td>Supplier registered</td>\n",
       "      <td>Classified</td>\n",
       "      <td>LVP</td>\n",
       "      <td>1VNL</td>\n",
       "      <td>LVP_1VNL_SQFT</td>\n",
       "      <td>True</td>\n",
       "    </tr>\n",
       "  </tbody>\n",
       "</table>\n",
       "<p>2 rows × 39 columns</p>\n",
       "</div>"
      ],
      "text/plain": [
       "  site  site_description supplier_no      supplier_name  invoice_id  \\\n",
       "0  DIT  Diverzify Itasca      121550  Mohawk Industries      731977   \n",
       "1  SPN  Spectra Norcross      103277    William M. Bird      531030   \n",
       "\n",
       "  invoice_no date_posted  project_id                project_name  account  \\\n",
       "0   C2665159   25-Jun-24  2312127222       Blue Chip Casino Deli     5504   \n",
       "1     656881   01-Mar-24  2401132763  FAROPOINT LOBBY RENOVATION     2008   \n",
       "\n",
       "   ... description        old/new priority      match_commodity  \\\n",
       "0  ...         NaN            NaN      NaN  Commodity Not Found   \n",
       "1  ...       Vinyl  New Commodity      Yes      Commodity Found   \n",
       "\n",
       "        match_supplier classification  new_commodity_description  \\\n",
       "0  Supplier registered         No UOM                        nan   \n",
       "1  Supplier registered     Classified                        LVP   \n",
       "\n",
       "  new_commodity_group conversion_code all_accounts_2008_uom_classified  \n",
       "0                 NaN     nan_nan_nan                             True  \n",
       "1                1VNL   LVP_1VNL_SQFT                             True  \n",
       "\n",
       "[2 rows x 39 columns]"
      ]
     },
     "execution_count": 5,
     "metadata": {},
     "output_type": "execute_result"
    }
   ],
   "source": [
    "df = uom_cleaning(df)\n",
    "df.head(2)"
   ]
  },
  {
   "cell_type": "code",
   "execution_count": 6,
   "id": "53cb9430",
   "metadata": {},
   "outputs": [
    {
     "name": "stderr",
     "output_type": "stream",
     "text": [
      "INFO:root:✅ Flagging fully converted invoices.\n"
     ]
    },
    {
     "name": "stdout",
     "output_type": "stream",
     "text": [
      "✅ 8590 invoices have all account == 2008 rows with valid conversion codes\n"
     ]
    },
    {
     "data": {
      "application/vnd.microsoft.datawrangler.viewer.v0+json": {
       "columns": [
        {
         "name": "index",
         "rawType": "int64",
         "type": "integer"
        },
        {
         "name": "site",
         "rawType": "object",
         "type": "string"
        },
        {
         "name": "site_description",
         "rawType": "object",
         "type": "string"
        },
        {
         "name": "supplier_no",
         "rawType": "object",
         "type": "string"
        },
        {
         "name": "supplier_name",
         "rawType": "object",
         "type": "string"
        },
        {
         "name": "invoice_id",
         "rawType": "int64",
         "type": "integer"
        },
        {
         "name": "invoice_no",
         "rawType": "object",
         "type": "string"
        },
        {
         "name": "date_posted",
         "rawType": "object",
         "type": "string"
        },
        {
         "name": "project_id",
         "rawType": "object",
         "type": "string"
        },
        {
         "name": "project_name",
         "rawType": "object",
         "type": "string"
        },
        {
         "name": "account",
         "rawType": "int64",
         "type": "integer"
        },
        {
         "name": "account_description",
         "rawType": "object",
         "type": "string"
        },
        {
         "name": "planned_delivery_date",
         "rawType": "object",
         "type": "string"
        },
        {
         "name": "ship_to_zip",
         "rawType": "object",
         "type": "string"
        },
        {
         "name": "po_no",
         "rawType": "object",
         "type": "string"
        },
        {
         "name": "po_line_no",
         "rawType": "object",
         "type": "string"
        },
        {
         "name": "po_rel_no",
         "rawType": "object",
         "type": "string"
        },
        {
         "name": "receipt_no",
         "rawType": "float64",
         "type": "float"
        },
        {
         "name": "part_no",
         "rawType": "object",
         "type": "string"
        },
        {
         "name": "part_description",
         "rawType": "object",
         "type": "string"
        },
        {
         "name": "comm_1",
         "rawType": "object",
         "type": "string"
        },
        {
         "name": "comm_2",
         "rawType": "object",
         "type": "string"
        },
        {
         "name": "po_purch_qty",
         "rawType": "float64",
         "type": "float"
        },
        {
         "name": "purch_uom",
         "rawType": "object",
         "type": "string"
        },
        {
         "name": "po_inv_qty",
         "rawType": "float64",
         "type": "float"
        },
        {
         "name": "inv_uom",
         "rawType": "object",
         "type": "string"
        },
        {
         "name": "invoiced_line_qty",
         "rawType": "float64",
         "type": "float"
        },
        {
         "name": "invoice_line_total",
         "rawType": "float64",
         "type": "float"
        },
        {
         "name": "po_price",
         "rawType": "float64",
         "type": "float"
        },
        {
         "name": "commodity_group",
         "rawType": "object",
         "type": "string"
        },
        {
         "name": "description",
         "rawType": "object",
         "type": "string"
        },
        {
         "name": "old/new",
         "rawType": "object",
         "type": "string"
        },
        {
         "name": "priority",
         "rawType": "object",
         "type": "string"
        },
        {
         "name": "match_commodity",
         "rawType": "object",
         "type": "string"
        },
        {
         "name": "match_supplier",
         "rawType": "object",
         "type": "string"
        },
        {
         "name": "classification",
         "rawType": "object",
         "type": "string"
        },
        {
         "name": "new_commodity_description",
         "rawType": "object",
         "type": "string"
        },
        {
         "name": "new_commodity_group",
         "rawType": "object",
         "type": "string"
        },
        {
         "name": "conversion_code",
         "rawType": "object",
         "type": "string"
        },
        {
         "name": "all_accounts_2008_uom_classified",
         "rawType": "bool",
         "type": "boolean"
        },
        {
         "name": "all_2008_accounts_converted",
         "rawType": "bool",
         "type": "boolean"
        }
       ],
       "conversionMethod": "pd.DataFrame",
       "ref": "b69ee2c2-a8c0-41cf-9408-c959464018f8",
       "rows": [
        [
         "0",
         "DIT",
         "Diverzify Itasca",
         "121550",
         "Mohawk Industries",
         "731977",
         "C2665159",
         "25-Jun-24",
         "2312127222",
         "Blue Chip Casino Deli",
         "5504",
         "PROJECT Freight",
         null,
         null,
         "100317",
         null,
         null,
         null,
         null,
         null,
         "nan",
         null,
         null,
         null,
         null,
         null,
         null,
         "19.07",
         null,
         null,
         null,
         null,
         null,
         "Commodity Not Found",
         "Supplier registered",
         "No UOM",
         "nan",
         null,
         "nan_nan_nan",
         "True",
         "True"
        ],
        [
         "1",
         "SPN",
         "Spectra Norcross",
         "103277",
         "William M. Bird",
         "531030",
         "656881",
         "01-Mar-24",
         "2401132763",
         "FAROPOINT LOBBY RENOVATION",
         "2008",
         "Received Not Yet Invoiced",
         "23-Jan-24",
         "30071",
         "55700",
         "1",
         "1",
         "1.0",
         "198962-003",
         "Metroflor Deja New San Marcus Oak 20 mil Micro-Bevel Glue Down Plank 9in x 60in 2.5 MM - PUMICE (DN1445105)",
         "1VNL",
         "2LVP",
         "675.0",
         "SF",
         "675.0",
         "SQFT",
         "675.0",
         "1343.25",
         "1343.25",
         "1VNL",
         "Vinyl",
         "New Commodity",
         "Yes",
         "Commodity Found",
         "Supplier registered",
         "Classified",
         "LVP",
         "1VNL",
         "LVP_1VNL_SQFT",
         "True",
         "True"
        ]
       ],
       "shape": {
        "columns": 40,
        "rows": 2
       }
      },
      "text/html": [
       "<div>\n",
       "<style scoped>\n",
       "    .dataframe tbody tr th:only-of-type {\n",
       "        vertical-align: middle;\n",
       "    }\n",
       "\n",
       "    .dataframe tbody tr th {\n",
       "        vertical-align: top;\n",
       "    }\n",
       "\n",
       "    .dataframe thead th {\n",
       "        text-align: right;\n",
       "    }\n",
       "</style>\n",
       "<table border=\"1\" class=\"dataframe\">\n",
       "  <thead>\n",
       "    <tr style=\"text-align: right;\">\n",
       "      <th></th>\n",
       "      <th>site</th>\n",
       "      <th>site_description</th>\n",
       "      <th>supplier_no</th>\n",
       "      <th>supplier_name</th>\n",
       "      <th>invoice_id</th>\n",
       "      <th>invoice_no</th>\n",
       "      <th>date_posted</th>\n",
       "      <th>project_id</th>\n",
       "      <th>project_name</th>\n",
       "      <th>account</th>\n",
       "      <th>...</th>\n",
       "      <th>old/new</th>\n",
       "      <th>priority</th>\n",
       "      <th>match_commodity</th>\n",
       "      <th>match_supplier</th>\n",
       "      <th>classification</th>\n",
       "      <th>new_commodity_description</th>\n",
       "      <th>new_commodity_group</th>\n",
       "      <th>conversion_code</th>\n",
       "      <th>all_accounts_2008_uom_classified</th>\n",
       "      <th>all_2008_accounts_converted</th>\n",
       "    </tr>\n",
       "  </thead>\n",
       "  <tbody>\n",
       "    <tr>\n",
       "      <th>0</th>\n",
       "      <td>DIT</td>\n",
       "      <td>Diverzify Itasca</td>\n",
       "      <td>121550</td>\n",
       "      <td>Mohawk Industries</td>\n",
       "      <td>731977</td>\n",
       "      <td>C2665159</td>\n",
       "      <td>25-Jun-24</td>\n",
       "      <td>2312127222</td>\n",
       "      <td>Blue Chip Casino Deli</td>\n",
       "      <td>5504</td>\n",
       "      <td>...</td>\n",
       "      <td>NaN</td>\n",
       "      <td>NaN</td>\n",
       "      <td>Commodity Not Found</td>\n",
       "      <td>Supplier registered</td>\n",
       "      <td>No UOM</td>\n",
       "      <td>nan</td>\n",
       "      <td>NaN</td>\n",
       "      <td>nan_nan_nan</td>\n",
       "      <td>True</td>\n",
       "      <td>True</td>\n",
       "    </tr>\n",
       "    <tr>\n",
       "      <th>1</th>\n",
       "      <td>SPN</td>\n",
       "      <td>Spectra Norcross</td>\n",
       "      <td>103277</td>\n",
       "      <td>William M. Bird</td>\n",
       "      <td>531030</td>\n",
       "      <td>656881</td>\n",
       "      <td>01-Mar-24</td>\n",
       "      <td>2401132763</td>\n",
       "      <td>FAROPOINT LOBBY RENOVATION</td>\n",
       "      <td>2008</td>\n",
       "      <td>...</td>\n",
       "      <td>New Commodity</td>\n",
       "      <td>Yes</td>\n",
       "      <td>Commodity Found</td>\n",
       "      <td>Supplier registered</td>\n",
       "      <td>Classified</td>\n",
       "      <td>LVP</td>\n",
       "      <td>1VNL</td>\n",
       "      <td>LVP_1VNL_SQFT</td>\n",
       "      <td>True</td>\n",
       "      <td>True</td>\n",
       "    </tr>\n",
       "  </tbody>\n",
       "</table>\n",
       "<p>2 rows × 40 columns</p>\n",
       "</div>"
      ],
      "text/plain": [
       "  site  site_description supplier_no      supplier_name  invoice_id  \\\n",
       "0  DIT  Diverzify Itasca      121550  Mohawk Industries      731977   \n",
       "1  SPN  Spectra Norcross      103277    William M. Bird      531030   \n",
       "\n",
       "  invoice_no date_posted  project_id                project_name  account  \\\n",
       "0   C2665159   25-Jun-24  2312127222       Blue Chip Casino Deli     5504   \n",
       "1     656881   01-Mar-24  2401132763  FAROPOINT LOBBY RENOVATION     2008   \n",
       "\n",
       "   ...        old/new priority      match_commodity       match_supplier  \\\n",
       "0  ...            NaN      NaN  Commodity Not Found  Supplier registered   \n",
       "1  ...  New Commodity      Yes      Commodity Found  Supplier registered   \n",
       "\n",
       "  classification new_commodity_description  new_commodity_group  \\\n",
       "0         No UOM                       nan                  NaN   \n",
       "1     Classified                       LVP                 1VNL   \n",
       "\n",
       "  conversion_code all_accounts_2008_uom_classified all_2008_accounts_converted  \n",
       "0     nan_nan_nan                             True                        True  \n",
       "1   LVP_1VNL_SQFT                             True                        True  \n",
       "\n",
       "[2 rows x 40 columns]"
      ]
     },
     "execution_count": 6,
     "metadata": {},
     "output_type": "execute_result"
    }
   ],
   "source": [
    "df = flag_fully_converted_invoices(df, conversion_csv_path)\n",
    "df.head(2)"
   ]
  },
  {
   "cell_type": "code",
   "execution_count": 7,
   "id": "dedd0add",
   "metadata": {},
   "outputs": [
    {
     "name": "stderr",
     "output_type": "stream",
     "text": [
      "INFO:root:✅ Enriching invoice data.\n"
     ]
    },
    {
     "name": "stdout",
     "output_type": "stream",
     "text": [
      "Number of invoices with at least one freight line: 55942\n",
      "Number of invoices with multiple freight lines: 197\n",
      "Number of invoices with multiple distinct parts: 47577\n",
      "Number of invoices with multiple distinct commodities: 16091\n",
      "Number of invoices where all ACCOUNT == 2008 have Priority == 'Yes': 17084\n",
      "Number of invoices where at least one ACCOUNT == 2008 has Priority == 'Yes': 23536\n"
     ]
    },
    {
     "data": {
      "application/vnd.microsoft.datawrangler.viewer.v0+json": {
       "columns": [
        {
         "name": "index",
         "rawType": "int64",
         "type": "integer"
        },
        {
         "name": "site",
         "rawType": "object",
         "type": "string"
        },
        {
         "name": "site_description",
         "rawType": "object",
         "type": "string"
        },
        {
         "name": "supplier_no",
         "rawType": "object",
         "type": "string"
        },
        {
         "name": "supplier_name",
         "rawType": "object",
         "type": "string"
        },
        {
         "name": "invoice_id",
         "rawType": "int64",
         "type": "integer"
        },
        {
         "name": "invoice_no",
         "rawType": "object",
         "type": "string"
        },
        {
         "name": "date_posted",
         "rawType": "object",
         "type": "string"
        },
        {
         "name": "project_id",
         "rawType": "object",
         "type": "string"
        },
        {
         "name": "project_name",
         "rawType": "object",
         "type": "string"
        },
        {
         "name": "account",
         "rawType": "int64",
         "type": "integer"
        },
        {
         "name": "account_description",
         "rawType": "object",
         "type": "string"
        },
        {
         "name": "planned_delivery_date",
         "rawType": "object",
         "type": "string"
        },
        {
         "name": "ship_to_zip",
         "rawType": "object",
         "type": "string"
        },
        {
         "name": "po_no",
         "rawType": "object",
         "type": "string"
        },
        {
         "name": "po_line_no",
         "rawType": "object",
         "type": "string"
        },
        {
         "name": "po_rel_no",
         "rawType": "object",
         "type": "string"
        },
        {
         "name": "receipt_no",
         "rawType": "float64",
         "type": "float"
        },
        {
         "name": "part_no",
         "rawType": "object",
         "type": "string"
        },
        {
         "name": "part_description",
         "rawType": "object",
         "type": "string"
        },
        {
         "name": "comm_1",
         "rawType": "object",
         "type": "string"
        },
        {
         "name": "comm_2",
         "rawType": "object",
         "type": "string"
        },
        {
         "name": "po_purch_qty",
         "rawType": "float64",
         "type": "float"
        },
        {
         "name": "purch_uom",
         "rawType": "object",
         "type": "string"
        },
        {
         "name": "po_inv_qty",
         "rawType": "float64",
         "type": "float"
        },
        {
         "name": "inv_uom",
         "rawType": "object",
         "type": "string"
        },
        {
         "name": "invoiced_line_qty",
         "rawType": "float64",
         "type": "float"
        },
        {
         "name": "invoice_line_total",
         "rawType": "float64",
         "type": "float"
        },
        {
         "name": "po_price",
         "rawType": "float64",
         "type": "float"
        },
        {
         "name": "commodity_group",
         "rawType": "object",
         "type": "string"
        },
        {
         "name": "description",
         "rawType": "object",
         "type": "string"
        },
        {
         "name": "old/new",
         "rawType": "object",
         "type": "string"
        },
        {
         "name": "priority",
         "rawType": "object",
         "type": "string"
        },
        {
         "name": "match_commodity",
         "rawType": "object",
         "type": "string"
        },
        {
         "name": "match_supplier",
         "rawType": "object",
         "type": "string"
        },
        {
         "name": "classification",
         "rawType": "object",
         "type": "string"
        },
        {
         "name": "new_commodity_description",
         "rawType": "object",
         "type": "string"
        },
        {
         "name": "new_commodity_group",
         "rawType": "object",
         "type": "string"
        },
        {
         "name": "conversion_code",
         "rawType": "object",
         "type": "string"
        },
        {
         "name": "all_accounts_2008_uom_classified",
         "rawType": "bool",
         "type": "boolean"
        },
        {
         "name": "all_2008_accounts_converted",
         "rawType": "bool",
         "type": "boolean"
        },
        {
         "name": "has_freight_line",
         "rawType": "bool",
         "type": "boolean"
        },
        {
         "name": "multiple_freight_lines",
         "rawType": "bool",
         "type": "boolean"
        },
        {
         "name": "multiple_parts",
         "rawType": "bool",
         "type": "boolean"
        },
        {
         "name": "multiple_commodities",
         "rawType": "bool",
         "type": "boolean"
        },
        {
         "name": "all__invoice_priority_products_(2008)",
         "rawType": "bool",
         "type": "boolean"
        },
        {
         "name": "any__invoice_priority_products_(2008)",
         "rawType": "bool",
         "type": "boolean"
        }
       ],
       "conversionMethod": "pd.DataFrame",
       "ref": "04859298-75c9-47fa-ad3d-df1431462465",
       "rows": [
        [
         "0",
         "DIT",
         "Diverzify Itasca",
         "121550",
         "Mohawk Industries",
         "731977",
         "C2665159",
         "25-Jun-24",
         "2312127222",
         "Blue Chip Casino Deli",
         "5504",
         "PROJECT Freight",
         null,
         null,
         "100317",
         null,
         null,
         null,
         null,
         null,
         "nan",
         null,
         null,
         null,
         null,
         null,
         null,
         "19.07",
         null,
         null,
         null,
         null,
         null,
         "Commodity Not Found",
         "Supplier registered",
         "No UOM",
         "nan",
         null,
         "nan_nan_nan",
         "True",
         "True",
         "True",
         "False",
         "False",
         "False",
         "True",
         "True"
        ],
        [
         "1",
         "SPN",
         "Spectra Norcross",
         "103277",
         "William M. Bird",
         "531030",
         "656881",
         "01-Mar-24",
         "2401132763",
         "FAROPOINT LOBBY RENOVATION",
         "2008",
         "Received Not Yet Invoiced",
         "23-Jan-24",
         "30071",
         "55700",
         "1",
         "1",
         "1.0",
         "198962-003",
         "Metroflor Deja New San Marcus Oak 20 mil Micro-Bevel Glue Down Plank 9in x 60in 2.5 MM - PUMICE (DN1445105)",
         "1VNL",
         "2LVP",
         "675.0",
         "SF",
         "675.0",
         "SQFT",
         "675.0",
         "1343.25",
         "1343.25",
         "1VNL",
         "Vinyl",
         "New Commodity",
         "Yes",
         "Commodity Found",
         "Supplier registered",
         "Classified",
         "LVP",
         "1VNL",
         "LVP_1VNL_SQFT",
         "True",
         "True",
         "True",
         "False",
         "False",
         "False",
         "True",
         "True"
        ]
       ],
       "shape": {
        "columns": 46,
        "rows": 2
       }
      },
      "text/html": [
       "<div>\n",
       "<style scoped>\n",
       "    .dataframe tbody tr th:only-of-type {\n",
       "        vertical-align: middle;\n",
       "    }\n",
       "\n",
       "    .dataframe tbody tr th {\n",
       "        vertical-align: top;\n",
       "    }\n",
       "\n",
       "    .dataframe thead th {\n",
       "        text-align: right;\n",
       "    }\n",
       "</style>\n",
       "<table border=\"1\" class=\"dataframe\">\n",
       "  <thead>\n",
       "    <tr style=\"text-align: right;\">\n",
       "      <th></th>\n",
       "      <th>site</th>\n",
       "      <th>site_description</th>\n",
       "      <th>supplier_no</th>\n",
       "      <th>supplier_name</th>\n",
       "      <th>invoice_id</th>\n",
       "      <th>invoice_no</th>\n",
       "      <th>date_posted</th>\n",
       "      <th>project_id</th>\n",
       "      <th>project_name</th>\n",
       "      <th>account</th>\n",
       "      <th>...</th>\n",
       "      <th>new_commodity_group</th>\n",
       "      <th>conversion_code</th>\n",
       "      <th>all_accounts_2008_uom_classified</th>\n",
       "      <th>all_2008_accounts_converted</th>\n",
       "      <th>has_freight_line</th>\n",
       "      <th>multiple_freight_lines</th>\n",
       "      <th>multiple_parts</th>\n",
       "      <th>multiple_commodities</th>\n",
       "      <th>all__invoice_priority_products_(2008)</th>\n",
       "      <th>any__invoice_priority_products_(2008)</th>\n",
       "    </tr>\n",
       "  </thead>\n",
       "  <tbody>\n",
       "    <tr>\n",
       "      <th>0</th>\n",
       "      <td>DIT</td>\n",
       "      <td>Diverzify Itasca</td>\n",
       "      <td>121550</td>\n",
       "      <td>Mohawk Industries</td>\n",
       "      <td>731977</td>\n",
       "      <td>C2665159</td>\n",
       "      <td>25-Jun-24</td>\n",
       "      <td>2312127222</td>\n",
       "      <td>Blue Chip Casino Deli</td>\n",
       "      <td>5504</td>\n",
       "      <td>...</td>\n",
       "      <td>NaN</td>\n",
       "      <td>nan_nan_nan</td>\n",
       "      <td>True</td>\n",
       "      <td>True</td>\n",
       "      <td>True</td>\n",
       "      <td>False</td>\n",
       "      <td>False</td>\n",
       "      <td>False</td>\n",
       "      <td>True</td>\n",
       "      <td>True</td>\n",
       "    </tr>\n",
       "    <tr>\n",
       "      <th>1</th>\n",
       "      <td>SPN</td>\n",
       "      <td>Spectra Norcross</td>\n",
       "      <td>103277</td>\n",
       "      <td>William M. Bird</td>\n",
       "      <td>531030</td>\n",
       "      <td>656881</td>\n",
       "      <td>01-Mar-24</td>\n",
       "      <td>2401132763</td>\n",
       "      <td>FAROPOINT LOBBY RENOVATION</td>\n",
       "      <td>2008</td>\n",
       "      <td>...</td>\n",
       "      <td>1VNL</td>\n",
       "      <td>LVP_1VNL_SQFT</td>\n",
       "      <td>True</td>\n",
       "      <td>True</td>\n",
       "      <td>True</td>\n",
       "      <td>False</td>\n",
       "      <td>False</td>\n",
       "      <td>False</td>\n",
       "      <td>True</td>\n",
       "      <td>True</td>\n",
       "    </tr>\n",
       "  </tbody>\n",
       "</table>\n",
       "<p>2 rows × 46 columns</p>\n",
       "</div>"
      ],
      "text/plain": [
       "  site  site_description supplier_no      supplier_name  invoice_id  \\\n",
       "0  DIT  Diverzify Itasca      121550  Mohawk Industries      731977   \n",
       "1  SPN  Spectra Norcross      103277    William M. Bird      531030   \n",
       "\n",
       "  invoice_no date_posted  project_id                project_name  account  \\\n",
       "0   C2665159   25-Jun-24  2312127222       Blue Chip Casino Deli     5504   \n",
       "1     656881   01-Mar-24  2401132763  FAROPOINT LOBBY RENOVATION     2008   \n",
       "\n",
       "   ... new_commodity_group conversion_code all_accounts_2008_uom_classified  \\\n",
       "0  ...                 NaN     nan_nan_nan                             True   \n",
       "1  ...                1VNL   LVP_1VNL_SQFT                             True   \n",
       "\n",
       "  all_2008_accounts_converted has_freight_line multiple_freight_lines  \\\n",
       "0                        True             True                  False   \n",
       "1                        True             True                  False   \n",
       "\n",
       "   multiple_parts multiple_commodities all__invoice_priority_products_(2008)  \\\n",
       "0           False                False                                  True   \n",
       "1           False                False                                  True   \n",
       "\n",
       "  any__invoice_priority_products_(2008)  \n",
       "0                                  True  \n",
       "1                                  True  \n",
       "\n",
       "[2 rows x 46 columns]"
      ]
     },
     "execution_count": 7,
     "metadata": {},
     "output_type": "execute_result"
    }
   ],
   "source": [
    "df = enrich_invoice_flags(df)\n",
    "df.head(2)\n"
   ]
  },
  {
   "cell_type": "code",
   "execution_count": 8,
   "id": "b7f76989",
   "metadata": {},
   "outputs": [
    {
     "name": "stderr",
     "output_type": "stream",
     "text": [
      "INFO:root:✅ Calculating freight per invoice.\n",
      "INFO:root:✅ Completed adding freight to invoice.\n"
     ]
    },
    {
     "data": {
      "application/vnd.microsoft.datawrangler.viewer.v0+json": {
       "columns": [
        {
         "name": "index",
         "rawType": "int64",
         "type": "integer"
        },
        {
         "name": "site",
         "rawType": "object",
         "type": "string"
        },
        {
         "name": "site_description",
         "rawType": "object",
         "type": "string"
        },
        {
         "name": "supplier_no",
         "rawType": "object",
         "type": "string"
        },
        {
         "name": "supplier_name",
         "rawType": "object",
         "type": "string"
        },
        {
         "name": "invoice_id",
         "rawType": "int64",
         "type": "integer"
        },
        {
         "name": "invoice_no",
         "rawType": "object",
         "type": "string"
        },
        {
         "name": "date_posted",
         "rawType": "object",
         "type": "string"
        },
        {
         "name": "project_id",
         "rawType": "object",
         "type": "string"
        },
        {
         "name": "project_name",
         "rawType": "object",
         "type": "string"
        },
        {
         "name": "account",
         "rawType": "int64",
         "type": "integer"
        },
        {
         "name": "account_description",
         "rawType": "object",
         "type": "string"
        },
        {
         "name": "planned_delivery_date",
         "rawType": "object",
         "type": "string"
        },
        {
         "name": "ship_to_zip",
         "rawType": "object",
         "type": "string"
        },
        {
         "name": "po_no",
         "rawType": "object",
         "type": "string"
        },
        {
         "name": "po_line_no",
         "rawType": "object",
         "type": "string"
        },
        {
         "name": "po_rel_no",
         "rawType": "object",
         "type": "string"
        },
        {
         "name": "receipt_no",
         "rawType": "float64",
         "type": "float"
        },
        {
         "name": "part_no",
         "rawType": "object",
         "type": "string"
        },
        {
         "name": "part_description",
         "rawType": "object",
         "type": "string"
        },
        {
         "name": "comm_1",
         "rawType": "object",
         "type": "string"
        },
        {
         "name": "comm_2",
         "rawType": "object",
         "type": "string"
        },
        {
         "name": "po_purch_qty",
         "rawType": "float64",
         "type": "float"
        },
        {
         "name": "purch_uom",
         "rawType": "object",
         "type": "string"
        },
        {
         "name": "po_inv_qty",
         "rawType": "float64",
         "type": "float"
        },
        {
         "name": "inv_uom",
         "rawType": "object",
         "type": "string"
        },
        {
         "name": "invoiced_line_qty",
         "rawType": "float64",
         "type": "float"
        },
        {
         "name": "invoice_line_total",
         "rawType": "float64",
         "type": "float"
        },
        {
         "name": "po_price",
         "rawType": "float64",
         "type": "float"
        },
        {
         "name": "commodity_group",
         "rawType": "object",
         "type": "string"
        },
        {
         "name": "description",
         "rawType": "object",
         "type": "string"
        },
        {
         "name": "old/new",
         "rawType": "object",
         "type": "string"
        },
        {
         "name": "priority",
         "rawType": "object",
         "type": "string"
        },
        {
         "name": "match_commodity",
         "rawType": "object",
         "type": "string"
        },
        {
         "name": "match_supplier",
         "rawType": "object",
         "type": "string"
        },
        {
         "name": "classification",
         "rawType": "object",
         "type": "string"
        },
        {
         "name": "new_commodity_description",
         "rawType": "object",
         "type": "string"
        },
        {
         "name": "new_commodity_group",
         "rawType": "object",
         "type": "string"
        },
        {
         "name": "conversion_code",
         "rawType": "object",
         "type": "string"
        },
        {
         "name": "all_accounts_2008_uom_classified",
         "rawType": "bool",
         "type": "boolean"
        },
        {
         "name": "all_2008_accounts_converted",
         "rawType": "bool",
         "type": "boolean"
        },
        {
         "name": "has_freight_line",
         "rawType": "bool",
         "type": "boolean"
        },
        {
         "name": "multiple_freight_lines",
         "rawType": "bool",
         "type": "boolean"
        },
        {
         "name": "multiple_parts",
         "rawType": "bool",
         "type": "boolean"
        },
        {
         "name": "multiple_commodities",
         "rawType": "bool",
         "type": "boolean"
        },
        {
         "name": "all__invoice_priority_products_(2008)",
         "rawType": "bool",
         "type": "boolean"
        },
        {
         "name": "any__invoice_priority_products_(2008)",
         "rawType": "bool",
         "type": "boolean"
        },
        {
         "name": "freight_per_invoice",
         "rawType": "float64",
         "type": "float"
        }
       ],
       "conversionMethod": "pd.DataFrame",
       "ref": "5d7e8056-3212-4da8-8fcd-27826c050769",
       "rows": [
        [
         "0",
         "DIT",
         "Diverzify Itasca",
         "121550",
         "Mohawk Industries",
         "731977",
         "C2665159",
         "25-Jun-24",
         "2312127222",
         "Blue Chip Casino Deli",
         "5504",
         "PROJECT Freight",
         null,
         null,
         "100317",
         null,
         null,
         null,
         null,
         null,
         "nan",
         null,
         null,
         null,
         null,
         null,
         null,
         "19.07",
         null,
         null,
         null,
         null,
         null,
         "Commodity Not Found",
         "Supplier registered",
         "No UOM",
         "nan",
         null,
         "nan_nan_nan",
         "True",
         "True",
         "True",
         "False",
         "False",
         "False",
         "True",
         "True",
         "19.07"
        ],
        [
         "1",
         "SPN",
         "Spectra Norcross",
         "103277",
         "William M. Bird",
         "531030",
         "656881",
         "01-Mar-24",
         "2401132763",
         "FAROPOINT LOBBY RENOVATION",
         "2008",
         "Received Not Yet Invoiced",
         "23-Jan-24",
         "30071",
         "55700",
         "1",
         "1",
         "1.0",
         "198962-003",
         "Metroflor Deja New San Marcus Oak 20 mil Micro-Bevel Glue Down Plank 9in x 60in 2.5 MM - PUMICE (DN1445105)",
         "1VNL",
         "2LVP",
         "675.0",
         "SF",
         "675.0",
         "SQFT",
         "675.0",
         "1343.25",
         "1343.25",
         "1VNL",
         "Vinyl",
         "New Commodity",
         "Yes",
         "Commodity Found",
         "Supplier registered",
         "Classified",
         "LVP",
         "1VNL",
         "LVP_1VNL_SQFT",
         "True",
         "True",
         "True",
         "False",
         "False",
         "False",
         "True",
         "True",
         "5.79"
        ]
       ],
       "shape": {
        "columns": 47,
        "rows": 2
       }
      },
      "text/html": [
       "<div>\n",
       "<style scoped>\n",
       "    .dataframe tbody tr th:only-of-type {\n",
       "        vertical-align: middle;\n",
       "    }\n",
       "\n",
       "    .dataframe tbody tr th {\n",
       "        vertical-align: top;\n",
       "    }\n",
       "\n",
       "    .dataframe thead th {\n",
       "        text-align: right;\n",
       "    }\n",
       "</style>\n",
       "<table border=\"1\" class=\"dataframe\">\n",
       "  <thead>\n",
       "    <tr style=\"text-align: right;\">\n",
       "      <th></th>\n",
       "      <th>site</th>\n",
       "      <th>site_description</th>\n",
       "      <th>supplier_no</th>\n",
       "      <th>supplier_name</th>\n",
       "      <th>invoice_id</th>\n",
       "      <th>invoice_no</th>\n",
       "      <th>date_posted</th>\n",
       "      <th>project_id</th>\n",
       "      <th>project_name</th>\n",
       "      <th>account</th>\n",
       "      <th>...</th>\n",
       "      <th>conversion_code</th>\n",
       "      <th>all_accounts_2008_uom_classified</th>\n",
       "      <th>all_2008_accounts_converted</th>\n",
       "      <th>has_freight_line</th>\n",
       "      <th>multiple_freight_lines</th>\n",
       "      <th>multiple_parts</th>\n",
       "      <th>multiple_commodities</th>\n",
       "      <th>all__invoice_priority_products_(2008)</th>\n",
       "      <th>any__invoice_priority_products_(2008)</th>\n",
       "      <th>freight_per_invoice</th>\n",
       "    </tr>\n",
       "  </thead>\n",
       "  <tbody>\n",
       "    <tr>\n",
       "      <th>0</th>\n",
       "      <td>DIT</td>\n",
       "      <td>Diverzify Itasca</td>\n",
       "      <td>121550</td>\n",
       "      <td>Mohawk Industries</td>\n",
       "      <td>731977</td>\n",
       "      <td>C2665159</td>\n",
       "      <td>25-Jun-24</td>\n",
       "      <td>2312127222</td>\n",
       "      <td>Blue Chip Casino Deli</td>\n",
       "      <td>5504</td>\n",
       "      <td>...</td>\n",
       "      <td>nan_nan_nan</td>\n",
       "      <td>True</td>\n",
       "      <td>True</td>\n",
       "      <td>True</td>\n",
       "      <td>False</td>\n",
       "      <td>False</td>\n",
       "      <td>False</td>\n",
       "      <td>True</td>\n",
       "      <td>True</td>\n",
       "      <td>19.07</td>\n",
       "    </tr>\n",
       "    <tr>\n",
       "      <th>1</th>\n",
       "      <td>SPN</td>\n",
       "      <td>Spectra Norcross</td>\n",
       "      <td>103277</td>\n",
       "      <td>William M. Bird</td>\n",
       "      <td>531030</td>\n",
       "      <td>656881</td>\n",
       "      <td>01-Mar-24</td>\n",
       "      <td>2401132763</td>\n",
       "      <td>FAROPOINT LOBBY RENOVATION</td>\n",
       "      <td>2008</td>\n",
       "      <td>...</td>\n",
       "      <td>LVP_1VNL_SQFT</td>\n",
       "      <td>True</td>\n",
       "      <td>True</td>\n",
       "      <td>True</td>\n",
       "      <td>False</td>\n",
       "      <td>False</td>\n",
       "      <td>False</td>\n",
       "      <td>True</td>\n",
       "      <td>True</td>\n",
       "      <td>5.79</td>\n",
       "    </tr>\n",
       "  </tbody>\n",
       "</table>\n",
       "<p>2 rows × 47 columns</p>\n",
       "</div>"
      ],
      "text/plain": [
       "  site  site_description supplier_no      supplier_name  invoice_id  \\\n",
       "0  DIT  Diverzify Itasca      121550  Mohawk Industries      731977   \n",
       "1  SPN  Spectra Norcross      103277    William M. Bird      531030   \n",
       "\n",
       "  invoice_no date_posted  project_id                project_name  account  \\\n",
       "0   C2665159   25-Jun-24  2312127222       Blue Chip Casino Deli     5504   \n",
       "1     656881   01-Mar-24  2401132763  FAROPOINT LOBBY RENOVATION     2008   \n",
       "\n",
       "   ... conversion_code all_accounts_2008_uom_classified  \\\n",
       "0  ...     nan_nan_nan                             True   \n",
       "1  ...   LVP_1VNL_SQFT                             True   \n",
       "\n",
       "  all_2008_accounts_converted has_freight_line multiple_freight_lines  \\\n",
       "0                        True             True                  False   \n",
       "1                        True             True                  False   \n",
       "\n",
       "  multiple_parts  multiple_commodities all__invoice_priority_products_(2008)  \\\n",
       "0          False                 False                                  True   \n",
       "1          False                 False                                  True   \n",
       "\n",
       "  any__invoice_priority_products_(2008) freight_per_invoice  \n",
       "0                                  True               19.07  \n",
       "1                                  True                5.79  \n",
       "\n",
       "[2 rows x 47 columns]"
      ]
     },
     "execution_count": 8,
     "metadata": {},
     "output_type": "execute_result"
    }
   ],
   "source": [
    "df = add_freight_per_invoice(df)\n",
    "df.head(2)\n"
   ]
  },
  {
   "cell_type": "code",
   "execution_count": null,
   "id": "5567782e",
   "metadata": {},
   "outputs": [],
   "source": [
    "#df = increase_sample_size(df)\n",
    "df = resampling(df)\n",
    "df.head(2)"
   ]
  },
  {
   "cell_type": "code",
   "execution_count": 6,
   "id": "93828d25",
   "metadata": {},
   "outputs": [
    {
     "data": {
      "application/vnd.microsoft.datawrangler.viewer.v0+json": {
       "columns": [
        {
         "name": "index",
         "rawType": "int64",
         "type": "integer"
        },
        {
         "name": "baseline_sample",
         "rawType": "bool",
         "type": "boolean"
        },
        {
         "name": "invoice_id",
         "rawType": "int64",
         "type": "integer"
        }
       ],
       "conversionMethod": "pd.DataFrame",
       "ref": "dca5da12-dffc-40e5-aec9-ce98f5e4fca6",
       "rows": [
        [
         "0",
         "False",
         "130198"
        ],
        [
         "1",
         "True",
         "22415"
        ]
       ],
       "shape": {
        "columns": 2,
        "rows": 2
       }
      },
      "text/html": [
       "<div>\n",
       "<style scoped>\n",
       "    .dataframe tbody tr th:only-of-type {\n",
       "        vertical-align: middle;\n",
       "    }\n",
       "\n",
       "    .dataframe tbody tr th {\n",
       "        vertical-align: top;\n",
       "    }\n",
       "\n",
       "    .dataframe thead th {\n",
       "        text-align: right;\n",
       "    }\n",
       "</style>\n",
       "<table border=\"1\" class=\"dataframe\">\n",
       "  <thead>\n",
       "    <tr style=\"text-align: right;\">\n",
       "      <th></th>\n",
       "      <th>baseline_sample</th>\n",
       "      <th>invoice_id</th>\n",
       "    </tr>\n",
       "  </thead>\n",
       "  <tbody>\n",
       "    <tr>\n",
       "      <th>0</th>\n",
       "      <td>False</td>\n",
       "      <td>130198</td>\n",
       "    </tr>\n",
       "    <tr>\n",
       "      <th>1</th>\n",
       "      <td>True</td>\n",
       "      <td>22415</td>\n",
       "    </tr>\n",
       "  </tbody>\n",
       "</table>\n",
       "</div>"
      ],
      "text/plain": [
       "   baseline_sample  invoice_id\n",
       "0            False      130198\n",
       "1             True       22415"
      ]
     },
     "execution_count": 6,
     "metadata": {},
     "output_type": "execute_result"
    }
   ],
   "source": [
    "summary = df.pivot_table(index='baseline_sample',values='invoice_id',aggfunc=lambda X: len(X.unique())).reset_index()\n",
    "summary.head(2)"
   ]
  },
  {
   "cell_type": "code",
   "execution_count": null,
   "id": "90c41c8c",
   "metadata": {},
   "outputs": [],
   "source": []
  }
 ],
 "metadata": {
  "kernelspec": {
   "display_name": "base",
   "language": "python",
   "name": "python3"
  },
  "language_info": {
   "codemirror_mode": {
    "name": "ipython",
    "version": 3
   },
   "file_extension": ".py",
   "mimetype": "text/x-python",
   "name": "python",
   "nbconvert_exporter": "python",
   "pygments_lexer": "ipython3",
   "version": "3.9.7"
  }
 },
 "nbformat": 4,
 "nbformat_minor": 5
}
