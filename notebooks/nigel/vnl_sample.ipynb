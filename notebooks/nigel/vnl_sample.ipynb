{
 "cells": [
  {
   "cell_type": "code",
   "execution_count": 172,
   "id": "29642c0d",
   "metadata": {},
   "outputs": [],
   "source": [
    "# --- Setup ---\n",
    "import pandas as pd\n",
    "import random\n"
   ]
  },
  {
   "cell_type": "code",
   "execution_count": 173,
   "id": "4eb3b5ef",
   "metadata": {},
   "outputs": [],
   "source": [
    "df = pd.read_csv(\"sample_input2.csv\")  # Replace with your file path"
   ]
  },
  {
   "cell_type": "code",
   "execution_count": 174,
   "id": "58b0f187",
   "metadata": {},
   "outputs": [
    {
     "data": {
      "text/plain": [
       "Index(['part_no', 'part_description', 'new_commodity_description'], dtype='object')"
      ]
     },
     "execution_count": 174,
     "metadata": {},
     "output_type": "execute_result"
    }
   ],
   "source": [
    "df.columns"
   ]
  },
  {
   "cell_type": "code",
   "execution_count": 175,
   "id": "831fb083",
   "metadata": {},
   "outputs": [],
   "source": [
    "\n",
    "def sample_unique_parts_per_group(df: pd.DataFrame, sample_dict: dict) -> pd.DataFrame:\n",
    "    # Ensure clean column names and string formatting\n",
    "    df.columns = df.columns.str.strip()\n",
    "    df['part_no'] = df['part_no'].astype(str).str.strip()\n",
    "    df['new_commodity_description'] = df['new_commodity_description'].astype(str).str.strip()\n",
    "\n",
    "    sampled_rows = []\n",
    "\n",
    "    for group, n in sample_dict.items():\n",
    "        group_df = df[df['new_commodity_description'] == group]\n",
    "\n",
    "        if group_df.empty:\n",
    "            print(f\"⚠️ No rows found for group '{group}'\")\n",
    "            continue\n",
    "\n",
    "        unique_parts = group_df['part_no'].drop_duplicates()\n",
    "\n",
    "        if len(unique_parts) < n:\n",
    "            print(f\"⚠️ Only {len(unique_parts)} unique parts found for group '{group}', but {n} requested.\")\n",
    "            n = len(unique_parts)\n",
    "\n",
    "        sampled_parts = unique_parts.sample(n=n, random_state=42)\n",
    "        sampled_group = group_df[group_df['part_no'].isin(sampled_parts)]\n",
    "        sampled_rows.append(sampled_group)\n",
    "\n",
    "    result_df = pd.concat(sampled_rows, ignore_index=True) if sampled_rows else pd.DataFrame()\n",
    "    return result_df\n"
   ]
  },
  {
   "cell_type": "code",
   "execution_count": 176,
   "id": "33179980",
   "metadata": {},
   "outputs": [],
   "source": [
    "sample_dict = {\n",
    "    'LVT': 2,\n",
    "    'LVP': 3,\n",
    "    'VCT': 4\n",
    "}\n",
    "\n",
    "df_sampled = sample_unique_parts_per_group(df, sample_dict)\n",
    "df_sampled.to_excel(\"sampled_output_output1.xlsx\", index=False)\n"
   ]
  },
  {
   "cell_type": "markdown",
   "id": "62af403b",
   "metadata": {},
   "source": []
  }
 ],
 "metadata": {
  "kernelspec": {
   "display_name": "base",
   "language": "python",
   "name": "python3"
  },
  "language_info": {
   "codemirror_mode": {
    "name": "ipython",
    "version": 3
   },
   "file_extension": ".py",
   "mimetype": "text/x-python",
   "name": "python",
   "nbconvert_exporter": "python",
   "pygments_lexer": "ipython3",
   "version": "3.9.7"
  }
 },
 "nbformat": 4,
 "nbformat_minor": 5
}
