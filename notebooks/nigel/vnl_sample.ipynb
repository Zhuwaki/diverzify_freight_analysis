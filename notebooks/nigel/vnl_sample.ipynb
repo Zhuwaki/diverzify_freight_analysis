{
 "cells": [
  {
   "cell_type": "code",
   "execution_count": null,
   "id": "29642c0d",
   "metadata": {},
   "outputs": [],
   "source": [
    "import pytesseract\n",
    "pytesseract.pytesseract.tesseract_cmd = r'C:\\Program Files\\Tesseract-OCR\\tesseract.exe'  # 👈 Update if installed elsewhere\n",
    "\n",
    "from PIL import Image\n",
    "import pandas as pd\n",
    "import os\n",
    "import re\n"
   ]
  },
  {
   "cell_type": "code",
   "execution_count": 23,
   "id": "c8c4cd3d",
   "metadata": {},
   "outputs": [],
   "source": [
    "def extract_text_from_image(image_path):\n",
    "    image = Image.open(image_path)\n",
    "    text = pytesseract.image_to_string(image, config='--psm 6')  # Page segmentation mode 6 works well for tables\n",
    "    return text\n"
   ]
  },
  {
   "cell_type": "code",
   "execution_count": 24,
   "id": "bf4da1b6",
   "metadata": {},
   "outputs": [],
   "source": [
    "def parse_rate_table(text, site, mode):\n",
    "    lines = text.strip().split(\"\\n\")\n",
    "    data = []\n",
    "    \n",
    "    for line in lines:\n",
    "        if re.match(r'^\\d{2,3}', line.strip()):  # line starts with discount like 50, 55, etc.\n",
    "            parts = re.split(r'\\s+', line.strip())\n",
    "            discount = parts[0]\n",
    "            for i, rate in enumerate(parts[1:], start=1):\n",
    "                data.append({\n",
    "                    'site': site,\n",
    "                    'mode': mode,\n",
    "                    'discount': int(discount),\n",
    "                    'class': f'class_{i}',  # can replace later with L5C, 5C, etc.\n",
    "                    'rate': rate\n",
    "                })\n",
    "    return pd.DataFrame(data)\n"
   ]
  },
  {
   "cell_type": "code",
   "execution_count": 25,
   "id": "a01a8d3e",
   "metadata": {},
   "outputs": [],
   "source": [
    "def process_images_in_folder(folder_path):\n",
    "    all_data = []\n",
    "    for filename in os.listdir(folder_path):\n",
    "        if filename.lower().endswith((\".png\", \".jpg\", \".jpeg\")):\n",
    "            site_mode = filename.replace(\".png\", \"\").replace(\".jpg\", \"\").replace(\".jpeg\", \"\")\n",
    "            try:\n",
    "                site, mode = site_mode.split(\"_\")\n",
    "                text = extract_text_from_image(os.path.join(folder_path, filename))\n",
    "                df = parse_rate_table(text, site=site, mode=mode.upper())\n",
    "                all_data.append(df)\n",
    "            except Exception as e:\n",
    "                print(f\"❌ Skipped {filename}: {e}\")\n",
    "    return pd.concat(all_data, ignore_index=True)\n"
   ]
  },
  {
   "cell_type": "code",
   "execution_count": 29,
   "id": "481a0bf8",
   "metadata": {},
   "outputs": [
    {
     "name": "stdout",
     "output_type": "stream",
     "text": [
      "Xpress Global Systems, Inc.\n",
      "Origin 30720 GA\n",
      "Destination 40228 KY Destination Zone = 04 38\n",
      "j usc | sc | 1M | 2M | 3M | @ Sq¥d © CWT\n",
      "\n",
      "[ Discount | 70.07% | 70.07% | 70.07% | 70.07% | 70.07%\n",
      "\n",
      "[Comet | 0.3968 | 03844 [0.3761\n",
      "\n",
      "| Carpet Tile | 0.6745 | 0.6535 | 0.6394 | 0.6254 | 0.6113 © Rates C Atemation\n",
      "@ Discounted C Base\n",
      "\n"
     ]
    }
   ],
   "source": [
    "print(extract_text_from_image(\"rates/louisville_sqyd.png\"))\n"
   ]
  },
  {
   "cell_type": "code",
   "execution_count": 27,
   "id": "bca8f9dc",
   "metadata": {},
   "outputs": [],
   "source": [
    "image_folder_path = \"rates\"  # 🔁 replace with your folder\n",
    "combined_df = process_images_in_folder(image_folder_path)\n"
   ]
  },
  {
   "cell_type": "markdown",
   "id": "62af403b",
   "metadata": {},
   "source": []
  },
  {
   "cell_type": "code",
   "execution_count": 28,
   "id": "721a7a03",
   "metadata": {},
   "outputs": [
    {
     "data": {
      "application/vnd.microsoft.datawrangler.viewer.v0+json": {
       "columns": [
        {
         "name": "index",
         "rawType": "int64",
         "type": "integer"
        }
       ],
       "conversionMethod": "pd.DataFrame",
       "ref": "1b6c5685-a857-489d-8add-2a89a3ba0f87",
       "rows": [],
       "shape": {
        "columns": 0,
        "rows": 0
       }
      },
      "text/html": [
       "<div>\n",
       "<style scoped>\n",
       "    .dataframe tbody tr th:only-of-type {\n",
       "        vertical-align: middle;\n",
       "    }\n",
       "\n",
       "    .dataframe tbody tr th {\n",
       "        vertical-align: top;\n",
       "    }\n",
       "\n",
       "    .dataframe thead th {\n",
       "        text-align: right;\n",
       "    }\n",
       "</style>\n",
       "<table border=\"1\" class=\"dataframe\">\n",
       "  <thead>\n",
       "    <tr style=\"text-align: right;\">\n",
       "      <th></th>\n",
       "    </tr>\n",
       "  </thead>\n",
       "  <tbody>\n",
       "  </tbody>\n",
       "</table>\n",
       "</div>"
      ],
      "text/plain": [
       "Empty DataFrame\n",
       "Columns: []\n",
       "Index: []"
      ]
     },
     "execution_count": 28,
     "metadata": {},
     "output_type": "execute_result"
    }
   ],
   "source": [
    "combined_df"
   ]
  },
  {
   "cell_type": "code",
   "execution_count": null,
   "id": "97f2cf43",
   "metadata": {},
   "outputs": [],
   "source": []
  },
  {
   "cell_type": "code",
   "execution_count": 31,
   "id": "fb2eaa16",
   "metadata": {},
   "outputs": [],
   "source": [
    "import cv2\n",
    "import numpy as np\n",
    "import matplotlib.pyplot as plt\n",
    "from PIL import Image\n",
    "\n",
    "def crop_table_rows(image_path, display=False):\n",
    "    \"\"\"\n",
    "    Crops the Discount, Carpet, and Carpet Tile rows from a structured rate table.\n",
    "    Assumes consistent layout as per provided samples.\n",
    "    \n",
    "    Parameters:\n",
    "        image_path (str): Path to the rate table image.\n",
    "        display (bool): Whether to visually display cropped rows.\n",
    "\n",
    "    Returns:\n",
    "        Tuple: (discount_row_img, carpet_row_img, carpet_tile_row_img)\n",
    "    \"\"\"\n",
    "\n",
    "    # Load image in grayscale\n",
    "    img = cv2.imread(image_path, cv2.IMREAD_GRAYSCALE)\n",
    "    h = img.shape[0]\n",
    "\n",
    "    # Approximate crop zones based on consistent image layout\n",
    "    discount_row = img[int(h * 0.27):int(h * 0.36), :]\n",
    "    carpet_row = img[int(h * 0.36):int(h * 0.45), :]\n",
    "    tile_row = img[int(h * 0.45):int(h * 0.54), :]\n",
    "\n",
    "    if display:\n",
    "        titles = ['Discount', 'Carpet', 'Carpet Tile']\n",
    "        crops = [discount_row, carpet_row, tile_row]\n",
    "        for i, crop in enumerate(crops):\n",
    "            plt.figure(figsize=(10, 2))\n",
    "            plt.imshow(crop, cmap='gray')\n",
    "            plt.title(titles[i])\n",
    "            plt.axis('off')\n",
    "            plt.show()\n",
    "\n",
    "    return discount_row, carpet_row, tile_row\n"
   ]
  },
  {
   "cell_type": "code",
   "execution_count": 32,
   "id": "056bf3c6",
   "metadata": {},
   "outputs": [
    {
     "data": {
      "image/png": "[encoded data removed]",
      "text/plain": [
       "<Figure size 720x144 with 1 Axes>"
      ]
     },
     "metadata": {
      "needs_background": "light"
     },
     "output_type": "display_data"
    },
    {
     "data": {
      "image/png": "[encoded data removed]",
      "text/plain": [
       "<Figure size 720x144 with 1 Axes>"
      ]
     },
     "metadata": {
      "needs_background": "light"
     },
     "output_type": "display_data"
    },
    {
     "data": {
      "image/png": "[encoded data removed]",
      "text/plain": [
       "<Figure size 720x144 with 1 Axes>"
      ]
     },
     "metadata": {
      "needs_background": "light"
     },
     "output_type": "display_data"
    }
   ],
   "source": [
    "discount, carpet, tile = crop_table_rows(\"rates/louisville_sqyd.png\", display=True)\n"
   ]
  }
 ],
 "metadata": {
  "kernelspec": {
   "display_name": "base",
   "language": "python",
   "name": "python3"
  },
  "language_info": {
   "codemirror_mode": {
    "name": "ipython",
    "version": 3
   },
   "file_extension": ".py",
   "mimetype": "text/x-python",
   "name": "python",
   "nbconvert_exporter": "python",
   "pygments_lexer": "ipython3",
   "version": "3.9.7"
  }
 },
 "nbformat": 4,
 "nbformat_minor": 5
}
