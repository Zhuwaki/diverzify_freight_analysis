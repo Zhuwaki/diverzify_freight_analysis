{
 "cells": [
  {
   "cell_type": "code",
   "execution_count": 43,
   "id": "64b18e2e",
   "metadata": {},
   "outputs": [],
   "source": [
    "import pandas as pd\n"
   ]
  },
  {
   "cell_type": "code",
   "execution_count": 44,
   "id": "11975a1f",
   "metadata": {},
   "outputs": [
    {
     "data": {
      "application/vnd.microsoft.datawrangler.viewer.v0+json": {
       "columns": [
        {
         "name": "index",
         "rawType": "int64",
         "type": "integer"
        },
        {
         "name": "site",
         "rawType": "object",
         "type": "string"
        },
        {
         "name": "site_description",
         "rawType": "object",
         "type": "string"
        },
        {
         "name": "supplier_no",
         "rawType": "object",
         "type": "string"
        },
        {
         "name": "supplier_name",
         "rawType": "object",
         "type": "string"
        },
        {
         "name": "invoice_id",
         "rawType": "int64",
         "type": "integer"
        },
        {
         "name": "invoice_no",
         "rawType": "object",
         "type": "string"
        },
        {
         "name": "date_posted",
         "rawType": "datetime64[ns]",
         "type": "datetime"
        },
        {
         "name": "project_id",
         "rawType": "object",
         "type": "string"
        },
        {
         "name": "project_name",
         "rawType": "object",
         "type": "string"
        },
        {
         "name": "account",
         "rawType": "int64",
         "type": "integer"
        },
        {
         "name": "account_description",
         "rawType": "object",
         "type": "string"
        },
        {
         "name": "planned_delivery_date",
         "rawType": "datetime64[ns]",
         "type": "datetime"
        },
        {
         "name": "ship_to_zip",
         "rawType": "object",
         "type": "string"
        },
        {
         "name": "po_no",
         "rawType": "object",
         "type": "string"
        },
        {
         "name": "po_line_no",
         "rawType": "int64",
         "type": "integer"
        },
        {
         "name": "po_rel_no",
         "rawType": "int64",
         "type": "integer"
        },
        {
         "name": "receipt_no",
         "rawType": "int64",
         "type": "integer"
        },
        {
         "name": "part_no",
         "rawType": "object",
         "type": "string"
        },
        {
         "name": "part_description",
         "rawType": "object",
         "type": "string"
        },
        {
         "name": "comm_1",
         "rawType": "object",
         "type": "string"
        },
        {
         "name": "comm_2",
         "rawType": "object",
         "type": "string"
        },
        {
         "name": "po_purch_qty",
         "rawType": "float64",
         "type": "float"
        },
        {
         "name": "purch_uom",
         "rawType": "object",
         "type": "string"
        },
        {
         "name": "po_inv_qty",
         "rawType": "float64",
         "type": "float"
        },
        {
         "name": "inv_uom",
         "rawType": "object",
         "type": "string"
        },
        {
         "name": "invoiced_line_qty",
         "rawType": "float64",
         "type": "float"
        },
        {
         "name": "invoice_line_total",
         "rawType": "float64",
         "type": "float"
        },
        {
         "name": "po_price",
         "rawType": "float64",
         "type": "float"
        },
        {
         "name": "supplier_name_mapped",
         "rawType": "object",
         "type": "string"
        },
        {
         "name": "match_supplier",
         "rawType": "object",
         "type": "string"
        },
        {
         "name": "commodity_group_mapped",
         "rawType": "object",
         "type": "string"
        },
        {
         "name": "commodity_description",
         "rawType": "object",
         "type": "string"
        },
        {
         "name": "commodity_code",
         "rawType": "object",
         "type": "string"
        },
        {
         "name": "priority_commodity",
         "rawType": "object",
         "type": "string"
        },
        {
         "name": "match_commodity",
         "rawType": "object",
         "type": "string"
        },
        {
         "name": "is_classified",
         "rawType": "bool",
         "type": "boolean"
        },
        {
         "name": "line_classification",
         "rawType": "object",
         "type": "string"
        },
        {
         "name": "new_commodity_description",
         "rawType": "object",
         "type": "string"
        },
        {
         "name": "new_commodity_group",
         "rawType": "object",
         "type": "string"
        },
        {
         "name": "conversion_code",
         "rawType": "object",
         "type": "string"
        },
        {
         "name": "has_freight_line",
         "rawType": "bool",
         "type": "boolean"
        },
        {
         "name": "multiple_freight_lines",
         "rawType": "bool",
         "type": "boolean"
        },
        {
         "name": "multiple_parts",
         "rawType": "bool",
         "type": "boolean"
        },
        {
         "name": "multiple_commodities",
         "rawType": "bool",
         "type": "boolean"
        },
        {
         "name": "priority_multiple_commodities",
         "rawType": "float64",
         "type": "float"
        },
        {
         "name": "all_invoice_priority_products_2008",
         "rawType": "bool",
         "type": "boolean"
        },
        {
         "name": "any_invoice_priority_products_2008",
         "rawType": "bool",
         "type": "boolean"
        },
        {
         "name": "freight_per_invoice",
         "rawType": "float64",
         "type": "float"
        },
        {
         "name": "priority_product_total",
         "rawType": "float64",
         "type": "float"
        },
        {
         "name": "non_priority_product_total",
         "rawType": "float64",
         "type": "float"
        },
        {
         "name": "percentage_priority",
         "rawType": "float64",
         "type": "float"
        },
        {
         "name": "percentage_non_priority",
         "rawType": "float64",
         "type": "float"
        },
        {
         "name": "pct_priority_greater_than_70",
         "rawType": "bool",
         "type": "boolean"
        },
        {
         "name": "invoice_total",
         "rawType": "float64",
         "type": "float"
        }
       ],
       "ref": "289acad4-94b5-4049-8996-94db7068b12f",
       "rows": [
        [
         "0",
         "SPN",
         "Spectra Norcross",
         "103277",
         "William M. Bird",
         "531030",
         "656881",
         "2024-03-01 00:00:00",
         "2401132763",
         "FAROPOINT LOBBY RENOVATION",
         "2008",
         "Received Not Yet Invoiced",
         "2024-01-23 00:00:00",
         "30071",
         "55700",
         "1",
         "1",
         "1",
         "198962-003",
         "Metroflor Deja New San Marcus Oak 20 mil Micro-Bevel Glue Down Plank 9in x 60in 2.5 MM - PUMICE (DN1445105)",
         "1VNL",
         "2LVP",
         "675.0",
         "SF",
         "675.0",
         "SQFT",
         "675.0",
         "1343.25",
         "1343.25",
         null,
         "No supplier found",
         "1VNL",
         "Vinyl",
         "New",
         "Yes",
         "Commodity Found",
         "True",
         "Classified",
         "LVP",
         "1VNL",
         "LVP_1VNL_SQFT",
         "True",
         "False",
         "False",
         "False",
         "0.0",
         "True",
         "True",
         "5.79",
         "1343.25",
         "0.0",
         "100.0",
         "0.0",
         "True",
         "1349.04"
        ],
        [
         "1",
         "SPN",
         "Spectra Norcross",
         "103423",
         "Shaw Industries, Inc.",
         "561080",
         "9550085",
         "2024-03-20 00:00:00",
         "2401132815",
         "PCI-SCU Griffin Carpet Replacement",
         "2008",
         "Received Not Yet Invoiced",
         "2024-01-26 00:00:00",
         "30071",
         "55857",
         "1",
         "1",
         "1",
         "175523-002",
         "Shaw Contract Essential BL (5A188) ClassicBac 12' - Fresh Green (88330)",
         "1CBL",
         "2CBL",
         "202.0",
         "SY",
         "202.0",
         "SQYD",
         "202.0",
         "1749.32",
         "1749.32",
         "Shaw Industries, Inc.",
         "Supplier registered",
         "1CBL",
         "Carpet BL",
         "New",
         "Yes",
         "Commodity Found",
         "True",
         "Classified",
         "Carpet Roll",
         "1CBL",
         "Carpet_Roll_1CBL_SQYD",
         "True",
         "False",
         "False",
         "False",
         "0.0",
         "True",
         "True",
         "2.02",
         "1749.32",
         "0.0",
         "100.0",
         "0.0",
         "True",
         "1751.34"
        ]
       ],
       "shape": {
        "columns": 54,
        "rows": 2
       }
      },
      "text/html": [
       "<div>\n",
       "<style scoped>\n",
       "    .dataframe tbody tr th:only-of-type {\n",
       "        vertical-align: middle;\n",
       "    }\n",
       "\n",
       "    .dataframe tbody tr th {\n",
       "        vertical-align: top;\n",
       "    }\n",
       "\n",
       "    .dataframe thead th {\n",
       "        text-align: right;\n",
       "    }\n",
       "</style>\n",
       "<table border=\"1\" class=\"dataframe\">\n",
       "  <thead>\n",
       "    <tr style=\"text-align: right;\">\n",
       "      <th></th>\n",
       "      <th>site</th>\n",
       "      <th>site_description</th>\n",
       "      <th>supplier_no</th>\n",
       "      <th>supplier_name</th>\n",
       "      <th>invoice_id</th>\n",
       "      <th>invoice_no</th>\n",
       "      <th>date_posted</th>\n",
       "      <th>project_id</th>\n",
       "      <th>project_name</th>\n",
       "      <th>account</th>\n",
       "      <th>...</th>\n",
       "      <th>priority_multiple_commodities</th>\n",
       "      <th>all_invoice_priority_products_2008</th>\n",
       "      <th>any_invoice_priority_products_2008</th>\n",
       "      <th>freight_per_invoice</th>\n",
       "      <th>priority_product_total</th>\n",
       "      <th>non_priority_product_total</th>\n",
       "      <th>percentage_priority</th>\n",
       "      <th>percentage_non_priority</th>\n",
       "      <th>pct_priority_greater_than_70</th>\n",
       "      <th>invoice_total</th>\n",
       "    </tr>\n",
       "  </thead>\n",
       "  <tbody>\n",
       "    <tr>\n",
       "      <th>0</th>\n",
       "      <td>SPN</td>\n",
       "      <td>Spectra Norcross</td>\n",
       "      <td>103277</td>\n",
       "      <td>William M. Bird</td>\n",
       "      <td>531030</td>\n",
       "      <td>656881</td>\n",
       "      <td>2024-03-01</td>\n",
       "      <td>2401132763</td>\n",
       "      <td>FAROPOINT LOBBY RENOVATION</td>\n",
       "      <td>2008</td>\n",
       "      <td>...</td>\n",
       "      <td>0.0</td>\n",
       "      <td>True</td>\n",
       "      <td>True</td>\n",
       "      <td>5.79</td>\n",
       "      <td>1343.25</td>\n",
       "      <td>0.0</td>\n",
       "      <td>100.0</td>\n",
       "      <td>0.0</td>\n",
       "      <td>True</td>\n",
       "      <td>1349.04</td>\n",
       "    </tr>\n",
       "    <tr>\n",
       "      <th>1</th>\n",
       "      <td>SPN</td>\n",
       "      <td>Spectra Norcross</td>\n",
       "      <td>103423</td>\n",
       "      <td>Shaw Industries, Inc.</td>\n",
       "      <td>561080</td>\n",
       "      <td>9550085</td>\n",
       "      <td>2024-03-20</td>\n",
       "      <td>2401132815</td>\n",
       "      <td>PCI-SCU Griffin Carpet Replacement</td>\n",
       "      <td>2008</td>\n",
       "      <td>...</td>\n",
       "      <td>0.0</td>\n",
       "      <td>True</td>\n",
       "      <td>True</td>\n",
       "      <td>2.02</td>\n",
       "      <td>1749.32</td>\n",
       "      <td>0.0</td>\n",
       "      <td>100.0</td>\n",
       "      <td>0.0</td>\n",
       "      <td>True</td>\n",
       "      <td>1751.34</td>\n",
       "    </tr>\n",
       "  </tbody>\n",
       "</table>\n",
       "<p>2 rows × 54 columns</p>\n",
       "</div>"
      ],
      "text/plain": [
       "  site  site_description supplier_no          supplier_name  invoice_id  \\\n",
       "0  SPN  Spectra Norcross      103277        William M. Bird      531030   \n",
       "1  SPN  Spectra Norcross      103423  Shaw Industries, Inc.      561080   \n",
       "\n",
       "  invoice_no date_posted  project_id                        project_name  \\\n",
       "0     656881  2024-03-01  2401132763          FAROPOINT LOBBY RENOVATION   \n",
       "1    9550085  2024-03-20  2401132815  PCI-SCU Griffin Carpet Replacement   \n",
       "\n",
       "   account  ... priority_multiple_commodities  \\\n",
       "0     2008  ...                           0.0   \n",
       "1     2008  ...                           0.0   \n",
       "\n",
       "  all_invoice_priority_products_2008 any_invoice_priority_products_2008  \\\n",
       "0                               True                               True   \n",
       "1                               True                               True   \n",
       "\n",
       "  freight_per_invoice  priority_product_total  non_priority_product_total  \\\n",
       "0                5.79                 1343.25                         0.0   \n",
       "1                2.02                 1749.32                         0.0   \n",
       "\n",
       "   percentage_priority percentage_non_priority pct_priority_greater_than_70  \\\n",
       "0                100.0                     0.0                         True   \n",
       "1                100.0                     0.0                         True   \n",
       "\n",
       "  invoice_total  \n",
       "0       1349.04  \n",
       "1       1751.34  \n",
       "\n",
       "[2 rows x 54 columns]"
      ]
     },
     "execution_count": 44,
     "metadata": {},
     "output_type": "execute_result"
    }
   ],
   "source": [
    "data = pd.read_excel('../../data/downloads/cleaning/18052025_All_Invoices_Cleaned_20250518_152331.xlsx', sheet_name='full_data')\n",
    "data.head(2)"
   ]
  },
  {
   "cell_type": "code",
   "execution_count": 45,
   "id": "08e4778d",
   "metadata": {},
   "outputs": [],
   "source": [
    "df = data"
   ]
  },
  {
   "cell_type": "code",
   "execution_count": 46,
   "id": "be9cd422",
   "metadata": {},
   "outputs": [],
   "source": [
    "\n",
    "\n",
    "# Custom cleaning function\n",
    "def clean_commodity(desc):\n",
    "    desc = str(desc).strip().lower()\n",
    "    if desc in ['vct', 'lvp', 'lvt']:\n",
    "        return desc.upper()\n",
    "    elif desc in ['carpet tiles', 'carpet tile']:\n",
    "        return 'Carpet Tiles'\n",
    "    elif desc in ['carpet roll', 'carpet rolls']:\n",
    "        return 'Carpet Roll'\n",
    "    return desc  # unmodified if not matched\n",
    "\n",
    "# Apply cleaning to create a new column\n",
    "df['normalized_description'] = df['new_commodity_description'].apply(clean_commodity)\n",
    "\n",
    "# Define preferred commodities (in priority order)\n",
    "preferred = ['VCT', 'LVP', 'LVT', 'Carpet Tiles', 'Carpet Roll']\n",
    "\n",
    "# Filter to only rows with preferred commodities\n",
    "df_preferred = df[df['normalized_description'].isin(preferred)].copy()\n",
    "\n",
    "# Assign numeric priority\n",
    "df_preferred['priority'] = df_preferred['normalized_description'].apply(lambda x: preferred.index(x))\n",
    "\n",
    "# Sort by invoice_id and priority, then keep only the top preferred row per invoice\n",
    "df_sorted = df_preferred.sort_values(by=[\"invoice_id\", \"priority\"])\n",
    "df_final = df_sorted.drop_duplicates(subset=\"invoice_id\", keep=\"first\").drop(columns=[\"priority\"])\n",
    "\n",
    "# Optionally save the result\n",
    "df_final.to_csv(\"final_filtered_corrected_logic.csv\", index=False)\n"
   ]
  },
  {
   "cell_type": "code",
   "execution_count": null,
   "id": "0cd6b84e",
   "metadata": {},
   "outputs": [],
   "source": []
  }
 ],
 "metadata": {
  "kernelspec": {
   "display_name": "base",
   "language": "python",
   "name": "python3"
  },
  "language_info": {
   "codemirror_mode": {
    "name": "ipython",
    "version": 3
   },
   "file_extension": ".py",
   "mimetype": "text/x-python",
   "name": "python",
   "nbconvert_exporter": "python",
   "pygments_lexer": "ipython3",
   "version": "3.9.7"
  }
 },
 "nbformat": 4,
 "nbformat_minor": 5
}
