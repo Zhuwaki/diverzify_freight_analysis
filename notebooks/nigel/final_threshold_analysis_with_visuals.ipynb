{
 "cells": [
  {
   "cell_type": "code",
   "execution_count": 47,
   "id": "005cc0ec",
   "metadata": {},
   "outputs": [
    {
     "data": {
      "text/plain": [
       "Index(['invoice_id', 'site', 'new_commodity_group',\n",
       "       'invoice_commodity_quantity', 'multiple_commodities',\n",
       "       'priority_multiple_commodities', 'freight_per_invoice',\n",
       "       'standardization_status', 'error_summary', 'priority_failure_reasons',\n",
       "       'method', 'unit', 'rate_unit', 'freight_class', 'rate', 'shipment_type',\n",
       "       'invoice_freight_commodity_cost', 'raw_invoice_cost', 'minimum_applied',\n",
       "       'calibrated_market_freight_costs', 'market_rate', 'xgs_applied_rate',\n",
       "       'xgs_raw_rate', 'freight_ratio_raw', 'freight_ratio_normal',\n",
       "       'rate_ratio_raw', 'rate_ratio_normal', 'market_cost_outlier',\n",
       "       'freight_ratio_raw_outlier', 'freight_ratio_normal_outlier'],\n",
       "      dtype='object')"
      ]
     },
     "execution_count": 47,
     "metadata": {},
     "output_type": "execute_result"
    }
   ],
   "source": [
    "\n",
    "import matplotlib.pyplot as plt\n",
    "import seaborn as sns\n",
    "import pandas as pd\n",
    "\n",
    "# ✅ Load and clean data\n",
    "df = pd.read_csv('../../data/downloads/freight_model_output_20250429_153346.csv')\n",
    "df = df.drop_duplicates(subset='invoice_id', keep='first')\n",
    "df.columns"
   ]
  },
  {
   "cell_type": "code",
   "execution_count": 48,
   "id": "a3e7e668",
   "metadata": {},
   "outputs": [],
   "source": [
    "vnl = df[df['new_commodity_group'] == '1VNL']\n",
    "cbl = df[df['new_commodity_group'] == '1CBL']\n",
    "cpt = df[df['new_commodity_group'] == '1CPT']"
   ]
  },
  {
   "cell_type": "code",
   "execution_count": 49,
   "id": "e3119aa3",
   "metadata": {},
   "outputs": [],
   "source": [
    "# Updated LBS-based simulation (e.g. 1VNL)\n",
    "def simulate_ftl_thresholds_verbose(data, freight_price_col='calibrated_market_freight_costs', quantity_col='invoice_commodity_quantity', thresholds=[5000,10000, 15000, 20000, 25000]):\n",
    "    data['invoice_commodity_quantity'] = pd.to_numeric(data[quantity_col], errors='coerce')\n",
    "    data['calibrated_market_freight_costs'] = pd.to_numeric(data[freight_price_col], errors='coerce')\n",
    "\n",
    "    results = []\n",
    "\n",
    "    for threshold in thresholds:\n",
    "        data['simulated_type'] = data['invoice_commodity_quantity'].apply(lambda q: 'FTL' if q >= threshold else 'LTL')\n",
    "        data['unit_cost'] = (data['calibrated_market_freight_costs'] / data['invoice_commodity_quantity']).round(2)\n",
    "\n",
    "        grouped = data.groupby('simulated_type').agg(\n",
    "            avg_cost_per_lb=('unit_cost', 'mean'),\n",
    "            shipment_count=('unit_cost', 'count')\n",
    "        ).reset_index()\n",
    "        grouped['threshold'] = threshold\n",
    "        results.append(grouped)\n",
    "\n",
    "    combined = pd.concat(results)\n",
    "    pivot = combined.pivot(index='threshold', columns='simulated_type', values=['avg_cost_per_lb', 'shipment_count']).round(3)\n",
    "    pivot.columns = [f\"{metric}_{stype}\" for metric, stype in pivot.columns]\n",
    "    return pivot.reset_index()\n"
   ]
  },
  {
   "cell_type": "code",
   "execution_count": 50,
   "id": "18d07fe2",
   "metadata": {},
   "outputs": [
    {
     "data": {
      "application/vnd.microsoft.datawrangler.viewer.v0+json": {
       "columns": [
        {
         "name": "index",
         "rawType": "int64",
         "type": "integer"
        },
        {
         "name": "threshold",
         "rawType": "int64",
         "type": "integer"
        },
        {
         "name": "avg_cost_per_lb_FTL",
         "rawType": "float64",
         "type": "float"
        },
        {
         "name": "avg_cost_per_lb_LTL",
         "rawType": "float64",
         "type": "float"
        },
        {
         "name": "shipment_count_FTL",
         "rawType": "float64",
         "type": "float"
        },
        {
         "name": "shipment_count_LTL",
         "rawType": "float64",
         "type": "float"
        }
       ],
       "conversionMethod": "pd.DataFrame",
       "ref": "c1cff5dd-d0aa-4a5b-9eca-9e9fe7e9de09",
       "rows": [
        [
         "0",
         "5000",
         "0.074",
         "1.09",
         "387.0",
         "2965.0"
        ],
        [
         "1",
         "10000",
         "0.064",
         "1.03",
         "199.0",
         "3153.0"
        ],
        [
         "2",
         "15000",
         "0.058",
         "1.009",
         "128.0",
         "3224.0"
        ],
        [
         "3",
         "20000",
         "0.053",
         "0.999",
         "95.0",
         "3257.0"
        ],
        [
         "4",
         "25000",
         "0.056",
         "0.992",
         "71.0",
         "3281.0"
        ]
       ],
       "shape": {
        "columns": 5,
        "rows": 5
       }
      },
      "text/html": [
       "<div>\n",
       "<style scoped>\n",
       "    .dataframe tbody tr th:only-of-type {\n",
       "        vertical-align: middle;\n",
       "    }\n",
       "\n",
       "    .dataframe tbody tr th {\n",
       "        vertical-align: top;\n",
       "    }\n",
       "\n",
       "    .dataframe thead th {\n",
       "        text-align: right;\n",
       "    }\n",
       "</style>\n",
       "<table border=\"1\" class=\"dataframe\">\n",
       "  <thead>\n",
       "    <tr style=\"text-align: right;\">\n",
       "      <th></th>\n",
       "      <th>threshold</th>\n",
       "      <th>avg_cost_per_lb_FTL</th>\n",
       "      <th>avg_cost_per_lb_LTL</th>\n",
       "      <th>shipment_count_FTL</th>\n",
       "      <th>shipment_count_LTL</th>\n",
       "    </tr>\n",
       "  </thead>\n",
       "  <tbody>\n",
       "    <tr>\n",
       "      <th>0</th>\n",
       "      <td>5000</td>\n",
       "      <td>0.074</td>\n",
       "      <td>1.090</td>\n",
       "      <td>387.0</td>\n",
       "      <td>2965.0</td>\n",
       "    </tr>\n",
       "    <tr>\n",
       "      <th>1</th>\n",
       "      <td>10000</td>\n",
       "      <td>0.064</td>\n",
       "      <td>1.030</td>\n",
       "      <td>199.0</td>\n",
       "      <td>3153.0</td>\n",
       "    </tr>\n",
       "    <tr>\n",
       "      <th>2</th>\n",
       "      <td>15000</td>\n",
       "      <td>0.058</td>\n",
       "      <td>1.009</td>\n",
       "      <td>128.0</td>\n",
       "      <td>3224.0</td>\n",
       "    </tr>\n",
       "    <tr>\n",
       "      <th>3</th>\n",
       "      <td>20000</td>\n",
       "      <td>0.053</td>\n",
       "      <td>0.999</td>\n",
       "      <td>95.0</td>\n",
       "      <td>3257.0</td>\n",
       "    </tr>\n",
       "    <tr>\n",
       "      <th>4</th>\n",
       "      <td>25000</td>\n",
       "      <td>0.056</td>\n",
       "      <td>0.992</td>\n",
       "      <td>71.0</td>\n",
       "      <td>3281.0</td>\n",
       "    </tr>\n",
       "  </tbody>\n",
       "</table>\n",
       "</div>"
      ],
      "text/plain": [
       "   threshold  avg_cost_per_lb_FTL  avg_cost_per_lb_LTL  shipment_count_FTL  \\\n",
       "0       5000                0.074                1.090               387.0   \n",
       "1      10000                0.064                1.030               199.0   \n",
       "2      15000                0.058                1.009               128.0   \n",
       "3      20000                0.053                0.999                95.0   \n",
       "4      25000                0.056                0.992                71.0   \n",
       "\n",
       "   shipment_count_LTL  \n",
       "0              2965.0  \n",
       "1              3153.0  \n",
       "2              3224.0  \n",
       "3              3257.0  \n",
       "4              3281.0  "
      ]
     },
     "metadata": {},
     "output_type": "display_data"
    }
   ],
   "source": [
    "# Run simulation on 1VNL\n",
    "valid_rows = vnl[(vnl['calibrated_market_freight_costs'] > 0) & (vnl['invoice_commodity_quantity'] > 0)]\n",
    "summary_vnl = simulate_ftl_thresholds_verbose(valid_rows)\n",
    "display(summary_vnl)\n"
   ]
  },
  {
   "cell_type": "code",
   "execution_count": 51,
   "id": "774f721c",
   "metadata": {},
   "outputs": [
    {
     "data": {
      "text/plain": [
       "Index(['invoice_id', 'site', 'new_commodity_group',\n",
       "       'invoice_commodity_quantity', 'multiple_commodities',\n",
       "       'priority_multiple_commodities', 'freight_per_invoice',\n",
       "       'standardization_status', 'error_summary', 'priority_failure_reasons',\n",
       "       'method', 'unit', 'rate_unit', 'freight_class', 'rate', 'shipment_type',\n",
       "       'invoice_freight_commodity_cost', 'raw_invoice_cost', 'minimum_applied',\n",
       "       'calibrated_market_freight_costs', 'market_rate', 'xgs_applied_rate',\n",
       "       'xgs_raw_rate', 'freight_ratio_raw', 'freight_ratio_normal',\n",
       "       'rate_ratio_raw', 'rate_ratio_normal', 'market_cost_outlier',\n",
       "       'freight_ratio_raw_outlier', 'freight_ratio_normal_outlier'],\n",
       "      dtype='object')"
      ]
     },
     "execution_count": 51,
     "metadata": {},
     "output_type": "execute_result"
    }
   ],
   "source": [
    "df.columns"
   ]
  },
  {
   "cell_type": "code",
   "execution_count": 52,
   "id": "05f2b9b0",
   "metadata": {},
   "outputs": [],
   "source": [
    "# Updated SQYD-based simulation (e.g. 1CBL)\n",
    "def simulate_ftl_thresholds_cbl(data, freight_price_col='calibrated_market_freight_costs', quantity_col='invoice_commodity_quantity', thresholds_in_rolls=[20, 25, 30, 45, 50, 60]):\n",
    "    thresholds = [rolls * 100 for rolls in thresholds_in_rolls]\n",
    "\n",
    "    data['invoice_commodity_quantity'] = pd.to_numeric(data[quantity_col], errors='coerce')\n",
    "    data['calibrated_market_freight_costs'] = pd.to_numeric(data[freight_price_col], errors='coerce')\n",
    "\n",
    "    results = []\n",
    "\n",
    "    for threshold, rolls in zip(thresholds, thresholds_in_rolls):\n",
    "        data['simulated_type'] = data['invoice_commodity_quantity'].apply(lambda q: 'FTL' if q >= threshold else 'LTL')\n",
    "        data['unit_cost'] = (data['calibrated_market_freight_costs'] / data['invoice_commodity_quantity']).round(2)\n",
    "\n",
    "        grouped = data.groupby('simulated_type').agg(\n",
    "            avg_cost_per_sqyd=('unit_cost', 'mean'),\n",
    "            shipment_count=('unit_cost', 'count')\n",
    "        ).reset_index()\n",
    "        grouped['threshold_rolls'] = rolls\n",
    "        results.append(grouped)\n",
    "\n",
    "    combined = pd.concat(results)\n",
    "    pivot = combined.pivot(index='threshold_rolls', columns='simulated_type', values=['avg_cost_per_sqyd', 'shipment_count']).round(3)\n",
    "    pivot.columns = [f\"{metric}_{stype}\" for metric, stype in pivot.columns]\n",
    "    return pivot.reset_index()\n"
   ]
  },
  {
   "cell_type": "code",
   "execution_count": 53,
   "id": "3f6cbe53",
   "metadata": {},
   "outputs": [
    {
     "data": {
      "application/vnd.microsoft.datawrangler.viewer.v0+json": {
       "columns": [
        {
         "name": "index",
         "rawType": "int64",
         "type": "integer"
        },
        {
         "name": "threshold_rolls",
         "rawType": "int64",
         "type": "integer"
        },
        {
         "name": "avg_cost_per_sqyd_FTL",
         "rawType": "float64",
         "type": "float"
        },
        {
         "name": "avg_cost_per_sqyd_LTL",
         "rawType": "float64",
         "type": "float"
        },
        {
         "name": "shipment_count_FTL",
         "rawType": "float64",
         "type": "float"
        },
        {
         "name": "shipment_count_LTL",
         "rawType": "float64",
         "type": "float"
        }
       ],
       "conversionMethod": "pd.DataFrame",
       "ref": "77608edb-397f-459b-b9df-6fc9b5a04f53",
       "rows": [
        [
         "0",
         "20",
         "0.651",
         "1.76",
         "26.0",
         "556.0"
        ],
        [
         "1",
         "25",
         "0.474",
         "1.75",
         "18.0",
         "564.0"
        ],
        [
         "2",
         "30",
         "0.435",
         "1.747",
         "16.0",
         "566.0"
        ],
        [
         "3",
         "45",
         "0.215",
         "1.74",
         "11.0",
         "571.0"
        ],
        [
         "4",
         "50",
         "0.151",
         "1.738",
         "10.0",
         "572.0"
        ],
        [
         "5",
         "60",
         "0.126",
         "1.733",
         "8.0",
         "574.0"
        ]
       ],
       "shape": {
        "columns": 5,
        "rows": 6
       }
      },
      "text/html": [
       "<div>\n",
       "<style scoped>\n",
       "    .dataframe tbody tr th:only-of-type {\n",
       "        vertical-align: middle;\n",
       "    }\n",
       "\n",
       "    .dataframe tbody tr th {\n",
       "        vertical-align: top;\n",
       "    }\n",
       "\n",
       "    .dataframe thead th {\n",
       "        text-align: right;\n",
       "    }\n",
       "</style>\n",
       "<table border=\"1\" class=\"dataframe\">\n",
       "  <thead>\n",
       "    <tr style=\"text-align: right;\">\n",
       "      <th></th>\n",
       "      <th>threshold_rolls</th>\n",
       "      <th>avg_cost_per_sqyd_FTL</th>\n",
       "      <th>avg_cost_per_sqyd_LTL</th>\n",
       "      <th>shipment_count_FTL</th>\n",
       "      <th>shipment_count_LTL</th>\n",
       "    </tr>\n",
       "  </thead>\n",
       "  <tbody>\n",
       "    <tr>\n",
       "      <th>0</th>\n",
       "      <td>20</td>\n",
       "      <td>0.651</td>\n",
       "      <td>1.760</td>\n",
       "      <td>26.0</td>\n",
       "      <td>556.0</td>\n",
       "    </tr>\n",
       "    <tr>\n",
       "      <th>1</th>\n",
       "      <td>25</td>\n",
       "      <td>0.474</td>\n",
       "      <td>1.750</td>\n",
       "      <td>18.0</td>\n",
       "      <td>564.0</td>\n",
       "    </tr>\n",
       "    <tr>\n",
       "      <th>2</th>\n",
       "      <td>30</td>\n",
       "      <td>0.435</td>\n",
       "      <td>1.747</td>\n",
       "      <td>16.0</td>\n",
       "      <td>566.0</td>\n",
       "    </tr>\n",
       "    <tr>\n",
       "      <th>3</th>\n",
       "      <td>45</td>\n",
       "      <td>0.215</td>\n",
       "      <td>1.740</td>\n",
       "      <td>11.0</td>\n",
       "      <td>571.0</td>\n",
       "    </tr>\n",
       "    <tr>\n",
       "      <th>4</th>\n",
       "      <td>50</td>\n",
       "      <td>0.151</td>\n",
       "      <td>1.738</td>\n",
       "      <td>10.0</td>\n",
       "      <td>572.0</td>\n",
       "    </tr>\n",
       "    <tr>\n",
       "      <th>5</th>\n",
       "      <td>60</td>\n",
       "      <td>0.126</td>\n",
       "      <td>1.733</td>\n",
       "      <td>8.0</td>\n",
       "      <td>574.0</td>\n",
       "    </tr>\n",
       "  </tbody>\n",
       "</table>\n",
       "</div>"
      ],
      "text/plain": [
       "   threshold_rolls  avg_cost_per_sqyd_FTL  avg_cost_per_sqyd_LTL  \\\n",
       "0               20                  0.651                  1.760   \n",
       "1               25                  0.474                  1.750   \n",
       "2               30                  0.435                  1.747   \n",
       "3               45                  0.215                  1.740   \n",
       "4               50                  0.151                  1.738   \n",
       "5               60                  0.126                  1.733   \n",
       "\n",
       "   shipment_count_FTL  shipment_count_LTL  \n",
       "0                26.0               556.0  \n",
       "1                18.0               564.0  \n",
       "2                16.0               566.0  \n",
       "3                11.0               571.0  \n",
       "4                10.0               572.0  \n",
       "5                 8.0               574.0  "
      ]
     },
     "metadata": {},
     "output_type": "display_data"
    }
   ],
   "source": [
    "# Run simulation on 1CBL\n",
    "valid_rows = cbl[(cbl['calibrated_market_freight_costs'] > 0) & (cbl['invoice_commodity_quantity'] > 0)]\n",
    "summary_cbl = simulate_ftl_thresholds_cbl(valid_rows)\n",
    "display(summary_cbl)\n"
   ]
  },
  {
   "cell_type": "code",
   "execution_count": 54,
   "id": "d2421d93",
   "metadata": {},
   "outputs": [
    {
     "data": {
      "text/plain": [
       "Index(['invoice_id', 'site', 'new_commodity_group',\n",
       "       'invoice_commodity_quantity', 'multiple_commodities',\n",
       "       'priority_multiple_commodities', 'freight_per_invoice',\n",
       "       'standardization_status', 'error_summary', 'priority_failure_reasons',\n",
       "       'method', 'unit', 'rate_unit', 'freight_class', 'rate', 'shipment_type',\n",
       "       'invoice_freight_commodity_cost', 'raw_invoice_cost', 'minimum_applied',\n",
       "       'calibrated_market_freight_costs', 'market_rate', 'xgs_applied_rate',\n",
       "       'xgs_raw_rate', 'freight_ratio_raw', 'freight_ratio_normal',\n",
       "       'rate_ratio_raw', 'rate_ratio_normal', 'market_cost_outlier',\n",
       "       'freight_ratio_raw_outlier', 'freight_ratio_normal_outlier'],\n",
       "      dtype='object')"
      ]
     },
     "execution_count": 54,
     "metadata": {},
     "output_type": "execute_result"
    }
   ],
   "source": [
    "df.columns"
   ]
  },
  {
   "cell_type": "code",
   "execution_count": 55,
   "id": "ede6e1a9",
   "metadata": {},
   "outputs": [
    {
     "name": "stdout",
     "output_type": "stream",
     "text": [
      "df_long preview:    invoice_commodity_quantity shipment_type                        cost_type  \\\n",
      "0                        75.0           LTL  calibrated_market_freight_costs   \n",
      "1                       310.0           LTL  calibrated_market_freight_costs   \n",
      "2                       305.0           LTL  calibrated_market_freight_costs   \n",
      "3                        66.0           LTL  calibrated_market_freight_costs   \n",
      "4                        30.0           LTL  calibrated_market_freight_costs   \n",
      "\n",
      "   cost_value  \n",
      "0   50.192308  \n",
      "1  250.269231  \n",
      "2  175.961538  \n",
      "3   54.261538  \n",
      "4   24.669231  \n"
     ]
    }
   ],
   "source": [
    "\n",
    "# Prepare long-form DataFrame for cost-type comparisons\n",
    "cost_columns = ['calibrated_market_freight_costs', 'raw_invoice_cost', 'invoice_freight_commodity_cost']\n",
    "df_long = df[df['new_commodity_group'] == '1CBL'].copy().melt(\n",
    "    id_vars=['invoice_commodity_quantity', 'shipment_type'],\n",
    "    value_vars=cost_columns,\n",
    "    var_name='cost_type',\n",
    "    value_name='cost_value'\n",
    ").dropna(subset=['cost_value'])\n",
    "\n",
    "print(\"df_long preview:\", df_long.head())\n"
   ]
  },
  {
   "cell_type": "code",
   "execution_count": 56,
   "id": "e36a74bb",
   "metadata": {},
   "outputs": [
    {
     "data": {
      "image/png": "[encoded data removed]",
      "text/plain": [
       "<Figure size 729.875x432 with 1 Axes>"
      ]
     },
     "metadata": {
      "needs_background": "light"
     },
     "output_type": "display_data"
    }
   ],
   "source": [
    "\n",
    "import numpy as np\n",
    "import seaborn as sns\n",
    "import matplotlib.pyplot as plt\n",
    "\n",
    "# Filter to one cost type for intersection analysis\n",
    "selected_cost_type = 'calibrated_market_freight_costs'\n",
    "subset = df_long[df_long['cost_type'] == selected_cost_type]\n",
    "\n",
    "# Fit linear regression lines for LTL and FTL\n",
    "coefs = {}\n",
    "for ship_type in ['LTL', 'FTL']:\n",
    "    temp = subset[subset['shipment_type'] == ship_type]\n",
    "    slope, intercept = np.polyfit(temp['invoice_commodity_quantity'], temp['cost_value'], 1)\n",
    "    coefs[ship_type] = (slope, intercept)\n",
    "\n",
    "# Compute intersection point\n",
    "m1, b1 = coefs['LTL']\n",
    "m2, b2 = coefs['FTL']\n",
    "x_intersect = (b2 - b1) / (m1 - m2)\n",
    "y_intersect = m1 * x_intersect + b1\n",
    "\n",
    "# Plot the selected cost type with intersection point\n",
    "g = sns.lmplot(\n",
    "    data=subset,\n",
    "    x='invoice_commodity_quantity',\n",
    "    y='cost_value',\n",
    "    hue='shipment_type',\n",
    "    height=6,\n",
    "    aspect=1.5,\n",
    "    scatter_kws={'s': 60},\n",
    "    line_kws={'linewidth': 2}\n",
    ")\n",
    "\n",
    "plt.axvline(x=x_intersect, color='gray', linestyle='--', label='Intersection')\n",
    "plt.axhline(y=y_intersect, color='gray', linestyle='--')\n",
    "plt.plot(x_intersect, y_intersect, 'ro', label=f'Intersect @ ({x_intersect:.0f}, {y_intersect:.0f})')\n",
    "plt.title(f'Intersection of LTL and FTL - {selected_cost_type}')\n",
    "plt.legend()\n",
    "plt.tight_layout()\n",
    "plt.show()\n"
   ]
  },
  {
   "cell_type": "code",
   "execution_count": 57,
   "id": "fd4374a0",
   "metadata": {},
   "outputs": [
    {
     "data": {
      "text/plain": [
       "Index(['invoice_id', 'site', 'new_commodity_group',\n",
       "       'invoice_commodity_quantity', 'multiple_commodities',\n",
       "       'priority_multiple_commodities', 'freight_per_invoice',\n",
       "       'standardization_status', 'error_summary', 'priority_failure_reasons',\n",
       "       'method', 'unit', 'rate_unit', 'freight_class', 'rate', 'shipment_type',\n",
       "       'invoice_freight_commodity_cost', 'raw_invoice_cost', 'minimum_applied',\n",
       "       'calibrated_market_freight_costs', 'market_rate', 'xgs_applied_rate',\n",
       "       'xgs_raw_rate', 'freight_ratio_raw', 'freight_ratio_normal',\n",
       "       'rate_ratio_raw', 'rate_ratio_normal', 'market_cost_outlier',\n",
       "       'freight_ratio_raw_outlier', 'freight_ratio_normal_outlier'],\n",
       "      dtype='object')"
      ]
     },
     "execution_count": 57,
     "metadata": {},
     "output_type": "execute_result"
    }
   ],
   "source": [
    "df.columns"
   ]
  },
  {
   "cell_type": "code",
   "execution_count": 58,
   "id": "6474086f",
   "metadata": {},
   "outputs": [
    {
     "name": "stdout",
     "output_type": "stream",
     "text": [
      "df_long_vnl preview:    invoice_commodity_quantity shipment_type                        cost_type  \\\n",
      "0                     1485.67           LTL  calibrated_market_freight_costs   \n",
      "1                     6609.39           LTL  calibrated_market_freight_costs   \n",
      "2                      121.16           LTL  calibrated_market_freight_costs   \n",
      "3                     5725.44           LTL  calibrated_market_freight_costs   \n",
      "4                       25.26           LTL  calibrated_market_freight_costs   \n",
      "\n",
      "   cost_value  \n",
      "0  147.023077  \n",
      "1  463.592308  \n",
      "2   45.484615  \n",
      "3  296.446154  \n",
      "4   92.369231  \n"
     ]
    }
   ],
   "source": [
    "\n",
    "# Prepare long-form DataFrame for 1VNL (weight-based) cost-type comparisons\n",
    "df_long_vnl = df[df['new_commodity_group'] == '1VNL'].copy().melt(\n",
    "    id_vars=['invoice_commodity_quantity', 'shipment_type'],\n",
    "    value_vars=['calibrated_market_freight_costs', 'raw_invoice_cost', 'invoice_freight_commodity_cost'],\n",
    "    var_name='cost_type',\n",
    "    value_name='cost_value'\n",
    ").dropna(subset=['cost_value'])\n",
    "\n",
    "print(\"df_long_vnl preview:\", df_long_vnl.head())\n"
   ]
  },
  {
   "cell_type": "code",
   "execution_count": 59,
   "id": "4f4389fe",
   "metadata": {},
   "outputs": [
    {
     "data": {
      "image/png": "[encoded data removed]",
      "text/plain": [
       "<Figure size 729.875x432 with 1 Axes>"
      ]
     },
     "metadata": {
      "needs_background": "light"
     },
     "output_type": "display_data"
    }
   ],
   "source": [
    "\n",
    "# Filter to one cost type for intersection analysis for 1VNL\n",
    "selected_cost_type = 'calibrated_market_freight_costs'\n",
    "subset_vnl = df_long_vnl[df_long_vnl['cost_type'] == selected_cost_type]\n",
    "\n",
    "# Fit linear regression lines for LTL and FTL\n",
    "coefs = {}\n",
    "for ship_type in ['LTL', 'FTL']:\n",
    "    temp = subset_vnl[subset_vnl['shipment_type'] == ship_type]\n",
    "    slope, intercept = np.polyfit(temp['invoice_commodity_quantity'], temp['cost_value'], 1)\n",
    "    coefs[ship_type] = (slope, intercept)\n",
    "\n",
    "# Compute intersection point\n",
    "m1, b1 = coefs['LTL']\n",
    "m2, b2 = coefs['FTL']\n",
    "x_intersect = (b2 - b1) / (m1 - m2)\n",
    "y_intersect = m1 * x_intersect + b1\n",
    "\n",
    "# Plot the selected cost type with intersection point\n",
    "g = sns.lmplot(\n",
    "    data=subset_vnl,\n",
    "    x='invoice_commodity_quantity',\n",
    "    y='cost_value',\n",
    "    hue='shipment_type',\n",
    "    height=6,\n",
    "    aspect=1.5,\n",
    "    scatter_kws={'s': 60},\n",
    "    line_kws={'linewidth': 2}\n",
    ")\n",
    "\n",
    "plt.axvline(x=x_intersect, color='gray', linestyle='--', label='Intersection')\n",
    "plt.axhline(y=y_intersect, color='gray', linestyle='--')\n",
    "plt.plot(x_intersect, y_intersect, 'ro', label=f'Intersect @ ({x_intersect:.0f}, {y_intersect:.0f})')\n",
    "plt.title(f'Intersection of LTL and FTL - 1VNL ({selected_cost_type})')\n",
    "plt.legend()\n",
    "plt.tight_layout()\n",
    "plt.show()\n"
   ]
  },
  {
   "cell_type": "code",
   "execution_count": 60,
   "id": "39bfa24e",
   "metadata": {},
   "outputs": [
    {
     "name": "stdout",
     "output_type": "stream",
     "text": [
      "df_long_cpt preview:    invoice_commodity_quantity shipment_type                        cost_type  \\\n",
      "0                     1485.67           LTL  calibrated_market_freight_costs   \n",
      "1                     6609.39           LTL  calibrated_market_freight_costs   \n",
      "2                      121.16           LTL  calibrated_market_freight_costs   \n",
      "3                     5725.44           LTL  calibrated_market_freight_costs   \n",
      "4                       25.26           LTL  calibrated_market_freight_costs   \n",
      "\n",
      "   cost_value  \n",
      "0  147.023077  \n",
      "1  463.592308  \n",
      "2   45.484615  \n",
      "3  296.446154  \n",
      "4   92.369231  \n"
     ]
    }
   ],
   "source": [
    "# Prepare long-form DataFrame for 1VNL (weight-based) cost-type comparisons\n",
    "df_long_cpt = df[df['new_commodity_group'] == '1CPT'].copy().melt(\n",
    "    id_vars=['invoice_commodity_quantity', 'shipment_type'],\n",
    "    value_vars=['calibrated_market_freight_costs', 'raw_invoice_cost', 'invoice_freight_commodity_cost'],\n",
    "    var_name='cost_type',\n",
    "    value_name='cost_value'\n",
    ").dropna(subset=['cost_value'])\n",
    "\n",
    "print(\"df_long_cpt preview:\", df_long_vnl.head())"
   ]
  },
  {
   "cell_type": "code",
   "execution_count": 61,
   "id": "01f66030",
   "metadata": {},
   "outputs": [
    {
     "data": {
      "image/png": "[encoded data removed]",
      "text/plain": [
       "<Figure size 729.875x432 with 1 Axes>"
      ]
     },
     "metadata": {
      "needs_background": "light"
     },
     "output_type": "display_data"
    }
   ],
   "source": [
    "\n",
    "# Filter to one cost type for intersection analysis for 1VNL\n",
    "selected_cost_type = 'calibrated_market_freight_costs'\n",
    "subset_cpt = df_long_cpt[df_long_cpt['cost_type'] == selected_cost_type]\n",
    "\n",
    "# Fit linear regression lines for LTL and FTL\n",
    "coefs = {}\n",
    "for ship_type in ['LTL', 'FTL']:\n",
    "    temp = subset_cpt[subset_cpt['shipment_type'] == ship_type]\n",
    "    slope, intercept = np.polyfit(temp['invoice_commodity_quantity'], temp['cost_value'], 1)\n",
    "    coefs[ship_type] = (slope, intercept)\n",
    "\n",
    "# Compute intersection point\n",
    "m1, b1 = coefs['LTL']\n",
    "m2, b2 = coefs['FTL']\n",
    "x_intersect = (b2 - b1) / (m1 - m2)\n",
    "y_intersect = m1 * x_intersect + b1\n",
    "\n",
    "# Plot the selected cost type with intersection point\n",
    "g = sns.lmplot(\n",
    "    data=subset_cpt,\n",
    "    x='invoice_commodity_quantity',\n",
    "    y='cost_value',\n",
    "    hue='shipment_type',\n",
    "    height=6,\n",
    "    aspect=1.5,\n",
    "    scatter_kws={'s': 60},\n",
    "    line_kws={'linewidth': 2}\n",
    ")\n",
    "\n",
    "plt.axvline(x=x_intersect, color='gray', linestyle='--', label='Intersection')\n",
    "plt.axhline(y=y_intersect, color='gray', linestyle='--')\n",
    "plt.plot(x_intersect, y_intersect, 'ro', label=f'Intersect @ ({x_intersect:.0f}, {y_intersect:.0f})')\n",
    "plt.title(f'Intersection of LTL and FTL - 1CPT ({selected_cost_type})')\n",
    "plt.legend()\n",
    "plt.tight_layout()\n",
    "plt.show()\n"
   ]
  }
 ],
 "metadata": {
  "kernelspec": {
   "display_name": "base",
   "language": "python",
   "name": "python3"
  },
  "language_info": {
   "codemirror_mode": {
    "name": "ipython",
    "version": 3
   },
   "file_extension": ".py",
   "mimetype": "text/x-python",
   "name": "python",
   "nbconvert_exporter": "python",
   "pygments_lexer": "ipython3",
   "version": "3.9.7"
  }
 },
 "nbformat": 4,
 "nbformat_minor": 5
}
