{
 "cells": [
  {
   "cell_type": "code",
   "execution_count": 2,
   "id": "138cea6e",
   "metadata": {},
   "outputs": [],
   "source": [
    "import pandas as pd\n",
    "import matplotlib.pyplot as plt\n",
    "from datetime import datetime"
   ]
  },
  {
   "cell_type": "code",
   "execution_count": 3,
   "id": "d79a2a1e",
   "metadata": {},
   "outputs": [],
   "source": [
    "input_file='../app/downloads/'"
   ]
  },
  {
   "cell_type": "code",
   "execution_count": 8,
   "id": "01a712c2",
   "metadata": {},
   "outputs": [
    {
     "data": {
      "application/vnd.microsoft.datawrangler.viewer.v0+json": {
       "columns": [
        {
         "name": "index",
         "rawType": "int64",
         "type": "integer"
        },
        {
         "name": "project_id",
         "rawType": "object",
         "type": "string"
        },
        {
         "name": "project_name",
         "rawType": "object",
         "type": "string"
        },
        {
         "name": "po_no",
         "rawType": "object",
         "type": "string"
        },
        {
         "name": "account",
         "rawType": "int64",
         "type": "integer"
        },
        {
         "name": "account_description",
         "rawType": "object",
         "type": "string"
        },
        {
         "name": "siteid",
         "rawType": "object",
         "type": "string"
        },
        {
         "name": "site",
         "rawType": "object",
         "type": "string"
        },
        {
         "name": "supplierid",
         "rawType": "object",
         "type": "string"
        },
        {
         "name": "suppliername",
         "rawType": "object",
         "type": "string"
        },
        {
         "name": "partnumber",
         "rawType": "object",
         "type": "string"
        },
        {
         "name": "partdescription",
         "rawType": "object",
         "type": "string"
        },
        {
         "name": "est_commodity_group",
         "rawType": "object",
         "type": "string"
        },
        {
         "name": "new_commodity_description",
         "rawType": "object",
         "type": "string"
        },
        {
         "name": "quantity",
         "rawType": "float64",
         "type": "float"
        },
        {
         "name": "invoice_id",
         "rawType": "int64",
         "type": "integer"
        },
        {
         "name": "invoice_no",
         "rawType": "object",
         "type": "string"
        },
        {
         "name": "uom",
         "rawType": "object",
         "type": "string"
        },
        {
         "name": "conversion_code",
         "rawType": "object",
         "type": "string"
        },
        {
         "name": "match_supplier",
         "rawType": "object",
         "type": "string"
        },
        {
         "name": "est_estimated_area_cost",
         "rawType": "object",
         "type": "string"
        },
        {
         "name": "est_estimated_cwt_cost",
         "rawType": "object",
         "type": "string"
        },
        {
         "name": "est_freight_class_area",
         "rawType": "object",
         "type": "string"
        },
        {
         "name": "est_freight_class_lbs",
         "rawType": "object",
         "type": "string"
        },
        {
         "name": "est_lbs",
         "rawType": "float64",
         "type": "float"
        },
        {
         "name": "est_rate_area",
         "rawType": "object",
         "type": "string"
        },
        {
         "name": "est_rate_cwt",
         "rawType": "float64",
         "type": "float"
        },
        {
         "name": "est_sqyd",
         "rawType": "float64",
         "type": "float"
        },
        {
         "name": "est_uom",
         "rawType": "object",
         "type": "string"
        }
       ],
       "conversionMethod": "pd.DataFrame",
       "ref": "f886c563-ffe5-4152-a0a4-8a7d271993b1",
       "rows": [
        [
         "0",
         "2311123624",
         "Rick Sidor Residence",
         "47568",
         "2008",
         "Received Not Yet Invoiced",
         "DIT",
         "Diverzify Itasca",
         "890",
         "All Surfaces",
         "1000008205",
         "FirmFit Casebella Stateside CWH-5773 6mm x 9.1\" x 60.3\" 22 mil Parkview LVT",
         "1VNL",
         "LVT",
         "1013.89",
         "443670",
         "5378334",
         "SQFT",
         "LVT_1VNL_SQFT",
         "No supplier found",
         "Not applicable",
         "204.88",
         null,
         "1M",
         "1172.06",
         "Not applicable",
         "17.48",
         "112.65",
         "SQFT"
        ],
        [
         "1",
         "230485284",
         "Epic Delphi Conference Room Refresh",
         "40635",
         "2008",
         "Received Not Yet Invoiced",
         "DIT",
         "Diverzify Itasca",
         "108164",
         "Mannington Mills, Inc.",
         "1000006036",
         "Mannington Amtico Stone 18in x 18in 2.5MM - Stria Sediment (AROSMS14)",
         "1VNL",
         "LVT",
         "180.0",
         "454017",
         "98533229",
         "SQFT",
         "LVT_1VNL_SQFT",
         "Supplier registered",
         "Not applicable",
         "58.82",
         null,
         "L5C",
         "208.08",
         "Not applicable",
         "28.27",
         "20.0",
         "SQFT"
        ]
       ],
       "shape": {
        "columns": 28,
        "rows": 2
       }
      },
      "text/html": [
       "<div>\n",
       "<style scoped>\n",
       "    .dataframe tbody tr th:only-of-type {\n",
       "        vertical-align: middle;\n",
       "    }\n",
       "\n",
       "    .dataframe tbody tr th {\n",
       "        vertical-align: top;\n",
       "    }\n",
       "\n",
       "    .dataframe thead th {\n",
       "        text-align: right;\n",
       "    }\n",
       "</style>\n",
       "<table border=\"1\" class=\"dataframe\">\n",
       "  <thead>\n",
       "    <tr style=\"text-align: right;\">\n",
       "      <th></th>\n",
       "      <th>project_id</th>\n",
       "      <th>project_name</th>\n",
       "      <th>po_no</th>\n",
       "      <th>account</th>\n",
       "      <th>account_description</th>\n",
       "      <th>siteid</th>\n",
       "      <th>site</th>\n",
       "      <th>supplierid</th>\n",
       "      <th>suppliername</th>\n",
       "      <th>partnumber</th>\n",
       "      <th>...</th>\n",
       "      <th>match_supplier</th>\n",
       "      <th>est_estimated_area_cost</th>\n",
       "      <th>est_estimated_cwt_cost</th>\n",
       "      <th>est_freight_class_area</th>\n",
       "      <th>est_freight_class_lbs</th>\n",
       "      <th>est_lbs</th>\n",
       "      <th>est_rate_area</th>\n",
       "      <th>est_rate_cwt</th>\n",
       "      <th>est_sqyd</th>\n",
       "      <th>est_uom</th>\n",
       "    </tr>\n",
       "  </thead>\n",
       "  <tbody>\n",
       "    <tr>\n",
       "      <th>0</th>\n",
       "      <td>2311123624</td>\n",
       "      <td>Rick Sidor Residence</td>\n",
       "      <td>47568</td>\n",
       "      <td>2008</td>\n",
       "      <td>Received Not Yet Invoiced</td>\n",
       "      <td>DIT</td>\n",
       "      <td>Diverzify Itasca</td>\n",
       "      <td>890</td>\n",
       "      <td>All Surfaces</td>\n",
       "      <td>1000008205</td>\n",
       "      <td>...</td>\n",
       "      <td>No supplier found</td>\n",
       "      <td>Not applicable</td>\n",
       "      <td>204.88</td>\n",
       "      <td>NaN</td>\n",
       "      <td>1M</td>\n",
       "      <td>1172.06</td>\n",
       "      <td>Not applicable</td>\n",
       "      <td>17.48</td>\n",
       "      <td>112.65</td>\n",
       "      <td>SQFT</td>\n",
       "    </tr>\n",
       "    <tr>\n",
       "      <th>1</th>\n",
       "      <td>230485284</td>\n",
       "      <td>Epic Delphi Conference Room Refresh</td>\n",
       "      <td>40635</td>\n",
       "      <td>2008</td>\n",
       "      <td>Received Not Yet Invoiced</td>\n",
       "      <td>DIT</td>\n",
       "      <td>Diverzify Itasca</td>\n",
       "      <td>108164</td>\n",
       "      <td>Mannington Mills, Inc.</td>\n",
       "      <td>1000006036</td>\n",
       "      <td>...</td>\n",
       "      <td>Supplier registered</td>\n",
       "      <td>Not applicable</td>\n",
       "      <td>58.82</td>\n",
       "      <td>NaN</td>\n",
       "      <td>L5C</td>\n",
       "      <td>208.08</td>\n",
       "      <td>Not applicable</td>\n",
       "      <td>28.27</td>\n",
       "      <td>20.00</td>\n",
       "      <td>SQFT</td>\n",
       "    </tr>\n",
       "  </tbody>\n",
       "</table>\n",
       "<p>2 rows × 28 columns</p>\n",
       "</div>"
      ],
      "text/plain": [
       "   project_id                         project_name  po_no  account  \\\n",
       "0  2311123624                 Rick Sidor Residence  47568     2008   \n",
       "1   230485284  Epic Delphi Conference Room Refresh  40635     2008   \n",
       "\n",
       "         account_description siteid              site supplierid  \\\n",
       "0  Received Not Yet Invoiced    DIT  Diverzify Itasca        890   \n",
       "1  Received Not Yet Invoiced    DIT  Diverzify Itasca     108164   \n",
       "\n",
       "             suppliername  partnumber  ...       match_supplier  \\\n",
       "0            All Surfaces  1000008205  ...    No supplier found   \n",
       "1  Mannington Mills, Inc.  1000006036  ...  Supplier registered   \n",
       "\n",
       "  est_estimated_area_cost est_estimated_cwt_cost  est_freight_class_area  \\\n",
       "0          Not applicable                 204.88                     NaN   \n",
       "1          Not applicable                  58.82                     NaN   \n",
       "\n",
       "   est_freight_class_lbs  est_lbs   est_rate_area est_rate_cwt est_sqyd  \\\n",
       "0                     1M  1172.06  Not applicable        17.48   112.65   \n",
       "1                    L5C   208.08  Not applicable        28.27    20.00   \n",
       "\n",
       "  est_uom  \n",
       "0    SQFT  \n",
       "1    SQFT  \n",
       "\n",
       "[2 rows x 28 columns]"
      ]
     },
     "execution_count": 8,
     "metadata": {},
     "output_type": "execute_result"
    }
   ],
   "source": [
    "df = pd.read_csv('../../app/downloads/freight_dual_results_20250413_113136.csv')\n",
    "df.head(2)"
   ]
  },
  {
   "cell_type": "code",
   "execution_count": 18,
   "id": "dbd1de92",
   "metadata": {},
   "outputs": [],
   "source": [
    "\n",
    "def summarize_freight_comparison(df: pd.DataFrame):\n",
    "    \"\"\"\n",
    "    Summarizes freight cost comparisons (area vs CWT) across:\n",
    "    - Commodity Group\n",
    "    - Commodity Description\n",
    "    - Site\n",
    "\n",
    "    Parameters:\n",
    "    - df (pd.DataFrame): Must contain columns:\n",
    "        'est_commodity_group', 'new_commodity_description', 'siteid', 'site',\n",
    "        'est_estimated_area_cost', 'est_estimated_cwt_cost'\n",
    "\n",
    "    Returns:\n",
    "    - Tuple of 3 DataFrames: (by_group, by_description, by_site)\n",
    "    \"\"\"\n",
    "\n",
    "    # Validate input type\n",
    "    if not isinstance(df, pd.DataFrame):\n",
    "        raise TypeError(\"Input must be a pandas DataFrame.\")\n",
    "\n",
    "    # Required columns\n",
    "    required = [\n",
    "        'est_commodity_group', 'new_commodity_description', 'siteid', 'site',\n",
    "        'est_estimated_area_cost', 'est_estimated_cwt_cost'\n",
    "    ]\n",
    "    missing = [col for col in required if col not in df.columns]\n",
    "    if missing:\n",
    "        raise ValueError(f\"Missing required columns: {missing}\")\n",
    "\n",
    "    # Convert cost columns to numeric safely\n",
    "    df['est_estimated_area_cost'] = pd.to_numeric(df['est_estimated_area_cost'], errors='coerce')\n",
    "    df['est_estimated_cwt_cost'] = pd.to_numeric(df['est_estimated_cwt_cost'], errors='coerce')\n",
    "\n",
    "    # Group and summarize\n",
    "    def summarize(group_cols):\n",
    "        grouped = df.groupby(group_cols)[['est_estimated_area_cost', 'est_estimated_cwt_cost']].sum().reset_index()\n",
    "        grouped = grouped.rename(columns={\n",
    "            'est_estimated_area_cost': 'total_area_cost',\n",
    "            'est_estimated_cwt_cost': 'total_cwt_cost'\n",
    "        })\n",
    "        return grouped\n",
    "\n",
    "    return (\n",
    "        summarize(['est_commodity_group']),\n",
    "        summarize(['est_commodity_group', 'new_commodity_description']),\n",
    "        summarize(['siteid', 'site'])\n",
    "    )\n"
   ]
  },
  {
   "cell_type": "code",
   "execution_count": 19,
   "id": "53baca73",
   "metadata": {},
   "outputs": [],
   "source": [
    "group_df, description_df, site_df = summarize_freight_comparison(df)\n"
   ]
  },
  {
   "cell_type": "code",
   "execution_count": 22,
   "id": "e76941d3",
   "metadata": {},
   "outputs": [
    {
     "data": {
      "application/vnd.microsoft.datawrangler.viewer.v0+json": {
       "columns": [
        {
         "name": "index",
         "rawType": "int64",
         "type": "integer"
        },
        {
         "name": "siteid",
         "rawType": "object",
         "type": "string"
        },
        {
         "name": "site",
         "rawType": "object",
         "type": "string"
        },
        {
         "name": "total_area_cost",
         "rawType": "float64",
         "type": "float"
        },
        {
         "name": "total_cwt_cost",
         "rawType": "float64",
         "type": "float"
        }
       ],
       "conversionMethod": "pd.DataFrame",
       "ref": "88dc253b-3004-4469-9549-36f94ec02cc9",
       "rows": [
        [
         "0",
         "DIT",
         "Diverzify Itasca",
         "6153.43",
         "54628.8"
        ],
        [
         "1",
         "SPJ",
         "Spectra Jacksonville",
         "5337.24",
         "114609.14"
        ]
       ],
       "shape": {
        "columns": 4,
        "rows": 2
       }
      },
      "text/html": [
       "<div>\n",
       "<style scoped>\n",
       "    .dataframe tbody tr th:only-of-type {\n",
       "        vertical-align: middle;\n",
       "    }\n",
       "\n",
       "    .dataframe tbody tr th {\n",
       "        vertical-align: top;\n",
       "    }\n",
       "\n",
       "    .dataframe thead th {\n",
       "        text-align: right;\n",
       "    }\n",
       "</style>\n",
       "<table border=\"1\" class=\"dataframe\">\n",
       "  <thead>\n",
       "    <tr style=\"text-align: right;\">\n",
       "      <th></th>\n",
       "      <th>siteid</th>\n",
       "      <th>site</th>\n",
       "      <th>total_area_cost</th>\n",
       "      <th>total_cwt_cost</th>\n",
       "    </tr>\n",
       "  </thead>\n",
       "  <tbody>\n",
       "    <tr>\n",
       "      <th>0</th>\n",
       "      <td>DIT</td>\n",
       "      <td>Diverzify Itasca</td>\n",
       "      <td>6153.43</td>\n",
       "      <td>54628.80</td>\n",
       "    </tr>\n",
       "    <tr>\n",
       "      <th>1</th>\n",
       "      <td>SPJ</td>\n",
       "      <td>Spectra Jacksonville</td>\n",
       "      <td>5337.24</td>\n",
       "      <td>114609.14</td>\n",
       "    </tr>\n",
       "  </tbody>\n",
       "</table>\n",
       "</div>"
      ],
      "text/plain": [
       "  siteid                  site  total_area_cost  total_cwt_cost\n",
       "0    DIT      Diverzify Itasca          6153.43        54628.80\n",
       "1    SPJ  Spectra Jacksonville          5337.24       114609.14"
      ]
     },
     "execution_count": 22,
     "metadata": {},
     "output_type": "execute_result"
    }
   ],
   "source": [
    "site_df.head(2)"
   ]
  },
  {
   "cell_type": "code",
   "execution_count": null,
   "id": "01bbbcaf",
   "metadata": {},
   "outputs": [],
   "source": []
  }
 ],
 "metadata": {
  "kernelspec": {
   "display_name": "base",
   "language": "python",
   "name": "python3"
  },
  "language_info": {
   "codemirror_mode": {
    "name": "ipython",
    "version": 3
   },
   "file_extension": ".py",
   "mimetype": "text/x-python",
   "name": "python",
   "nbconvert_exporter": "python",
   "pygments_lexer": "ipython3",
   "version": "3.9.7"
  }
 },
 "nbformat": 4,
 "nbformat_minor": 5
}
