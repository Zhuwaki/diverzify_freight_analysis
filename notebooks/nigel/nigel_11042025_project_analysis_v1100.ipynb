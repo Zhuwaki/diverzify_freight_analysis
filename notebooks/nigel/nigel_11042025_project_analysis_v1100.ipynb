{
 "cells": [
  {
   "cell_type": "code",
   "execution_count": 1,
   "id": "1f20d5d3",
   "metadata": {},
   "outputs": [],
   "source": [
    "import pandas as pd\n",
    "import matplotlib.pyplot as plt\n",
    "from datetime import datetime"
   ]
  },
  {
   "cell_type": "code",
   "execution_count": 2,
   "id": "6b045b5c",
   "metadata": {},
   "outputs": [
    {
     "data": {
      "application/vnd.microsoft.datawrangler.viewer.v0+json": {
       "columns": [
        {
         "name": "index",
         "rawType": "int64",
         "type": "integer"
        },
        {
         "name": "SITE",
         "rawType": "object",
         "type": "string"
        },
        {
         "name": "SITE DESCRIPTION",
         "rawType": "object",
         "type": "string"
        },
        {
         "name": "SUPPLIER NO",
         "rawType": "object",
         "type": "string"
        },
        {
         "name": "SUPPLIER NAME",
         "rawType": "object",
         "type": "string"
        },
        {
         "name": "INVOICE ID",
         "rawType": "int64",
         "type": "integer"
        },
        {
         "name": "INVOICE NO",
         "rawType": "object",
         "type": "string"
        },
        {
         "name": "DATE POSTED",
         "rawType": "object",
         "type": "string"
        },
        {
         "name": "PROJECT ID",
         "rawType": "object",
         "type": "string"
        },
        {
         "name": "PROJECT NAME",
         "rawType": "object",
         "type": "string"
        },
        {
         "name": "ACCOUNT",
         "rawType": "int64",
         "type": "integer"
        },
        {
         "name": "ACCOUNT DESCRIPTION",
         "rawType": "object",
         "type": "string"
        },
        {
         "name": "PLANNED DELIVERY DATE",
         "rawType": "object",
         "type": "string"
        },
        {
         "name": "SHIP TO ZIP",
         "rawType": "object",
         "type": "string"
        },
        {
         "name": "PO NO",
         "rawType": "object",
         "type": "string"
        },
        {
         "name": "PO LINE NO",
         "rawType": "object",
         "type": "string"
        },
        {
         "name": "PO REL NO",
         "rawType": "object",
         "type": "string"
        },
        {
         "name": "RECEIPT NO",
         "rawType": "float64",
         "type": "float"
        },
        {
         "name": "PART NO",
         "rawType": "object",
         "type": "string"
        },
        {
         "name": "PART DESCRIPTION",
         "rawType": "object",
         "type": "string"
        },
        {
         "name": "COMM 1",
         "rawType": "object",
         "type": "string"
        },
        {
         "name": "COMM 2",
         "rawType": "object",
         "type": "string"
        },
        {
         "name": "PO PURCH QTY",
         "rawType": "float64",
         "type": "float"
        },
        {
         "name": "PURCH UOM",
         "rawType": "object",
         "type": "string"
        },
        {
         "name": "PO INV QTY",
         "rawType": "float64",
         "type": "float"
        },
        {
         "name": "INV UOM",
         "rawType": "object",
         "type": "string"
        },
        {
         "name": "INVOICED LINE QTY",
         "rawType": "float64",
         "type": "float"
        },
        {
         "name": "INVOICE LINE TOTAL",
         "rawType": "float64",
         "type": "float"
        },
        {
         "name": "PO PRICE",
         "rawType": "float64",
         "type": "float"
        }
       ],
       "conversionMethod": "pd.DataFrame",
       "ref": "368b0803-34f9-4263-a014-d2736da7137d",
       "rows": [
        [
         "0",
         "BNB",
         "Beckers New Brighton",
         "102548",
         "Lonseal Flooring",
         "433731",
         "0007795-CM",
         "3-Jan-24",
         "2311121922",
         "REGIONS HOSPITAL 4TH MRI",
         "5400",
         "PROJECT Sub-Contract Labor",
         null,
         null,
         null,
         null,
         null,
         null,
         null,
         null,
         null,
         null,
         null,
         null,
         null,
         null,
         null,
         "-600.0",
         null
        ],
        [
         "1",
         "BNB",
         "Beckers New Brighton",
         "104716",
         "Hank's Specialties",
         "433340",
         "173373",
         "3-Jan-24",
         "2312127706",
         "UOFM MOLECULAR & CELLULAR BIOLOGY P",
         "2008",
         "Received Not Yet Invoiced",
         "2-Jan-24",
         "55430",
         "48180",
         "9",
         "1",
         "1.0",
         "1000007968",
         "PROTECT ALL PRE-NOTCHED Z-BAR INSIDE CORNER ALUMINUM (864056A) 12\"X12\" ALUMINUM",
         "1ACC",
         "1ACC",
         "4.0",
         "EA",
         "4.0",
         "EA",
         "4.0",
         "18.4",
         "18.4"
        ]
       ],
       "shape": {
        "columns": 28,
        "rows": 2
       }
      },
      "text/html": [
       "<div>\n",
       "<style scoped>\n",
       "    .dataframe tbody tr th:only-of-type {\n",
       "        vertical-align: middle;\n",
       "    }\n",
       "\n",
       "    .dataframe tbody tr th {\n",
       "        vertical-align: top;\n",
       "    }\n",
       "\n",
       "    .dataframe thead th {\n",
       "        text-align: right;\n",
       "    }\n",
       "</style>\n",
       "<table border=\"1\" class=\"dataframe\">\n",
       "  <thead>\n",
       "    <tr style=\"text-align: right;\">\n",
       "      <th></th>\n",
       "      <th>SITE</th>\n",
       "      <th>SITE DESCRIPTION</th>\n",
       "      <th>SUPPLIER NO</th>\n",
       "      <th>SUPPLIER NAME</th>\n",
       "      <th>INVOICE ID</th>\n",
       "      <th>INVOICE NO</th>\n",
       "      <th>DATE POSTED</th>\n",
       "      <th>PROJECT ID</th>\n",
       "      <th>PROJECT NAME</th>\n",
       "      <th>ACCOUNT</th>\n",
       "      <th>...</th>\n",
       "      <th>PART DESCRIPTION</th>\n",
       "      <th>COMM 1</th>\n",
       "      <th>COMM 2</th>\n",
       "      <th>PO PURCH QTY</th>\n",
       "      <th>PURCH UOM</th>\n",
       "      <th>PO INV QTY</th>\n",
       "      <th>INV UOM</th>\n",
       "      <th>INVOICED LINE QTY</th>\n",
       "      <th>INVOICE LINE TOTAL</th>\n",
       "      <th>PO PRICE</th>\n",
       "    </tr>\n",
       "  </thead>\n",
       "  <tbody>\n",
       "    <tr>\n",
       "      <th>0</th>\n",
       "      <td>BNB</td>\n",
       "      <td>Beckers New Brighton</td>\n",
       "      <td>102548</td>\n",
       "      <td>Lonseal Flooring</td>\n",
       "      <td>433731</td>\n",
       "      <td>0007795-CM</td>\n",
       "      <td>3-Jan-24</td>\n",
       "      <td>2311121922</td>\n",
       "      <td>REGIONS HOSPITAL 4TH MRI</td>\n",
       "      <td>5400</td>\n",
       "      <td>...</td>\n",
       "      <td>NaN</td>\n",
       "      <td>NaN</td>\n",
       "      <td>NaN</td>\n",
       "      <td>NaN</td>\n",
       "      <td>NaN</td>\n",
       "      <td>NaN</td>\n",
       "      <td>NaN</td>\n",
       "      <td>NaN</td>\n",
       "      <td>-600.0</td>\n",
       "      <td>NaN</td>\n",
       "    </tr>\n",
       "    <tr>\n",
       "      <th>1</th>\n",
       "      <td>BNB</td>\n",
       "      <td>Beckers New Brighton</td>\n",
       "      <td>104716</td>\n",
       "      <td>Hank's Specialties</td>\n",
       "      <td>433340</td>\n",
       "      <td>173373</td>\n",
       "      <td>3-Jan-24</td>\n",
       "      <td>2312127706</td>\n",
       "      <td>UOFM MOLECULAR &amp; CELLULAR BIOLOGY P</td>\n",
       "      <td>2008</td>\n",
       "      <td>...</td>\n",
       "      <td>PROTECT ALL PRE-NOTCHED Z-BAR INSIDE CORNER AL...</td>\n",
       "      <td>1ACC</td>\n",
       "      <td>1ACC</td>\n",
       "      <td>4.0</td>\n",
       "      <td>EA</td>\n",
       "      <td>4.0</td>\n",
       "      <td>EA</td>\n",
       "      <td>4.0</td>\n",
       "      <td>18.4</td>\n",
       "      <td>18.4</td>\n",
       "    </tr>\n",
       "  </tbody>\n",
       "</table>\n",
       "<p>2 rows × 28 columns</p>\n",
       "</div>"
      ],
      "text/plain": [
       "  SITE      SITE DESCRIPTION SUPPLIER NO       SUPPLIER NAME  INVOICE ID  \\\n",
       "0  BNB  Beckers New Brighton      102548    Lonseal Flooring      433731   \n",
       "1  BNB  Beckers New Brighton      104716  Hank's Specialties      433340   \n",
       "\n",
       "   INVOICE NO DATE POSTED  PROJECT ID                         PROJECT NAME  \\\n",
       "0  0007795-CM    3-Jan-24  2311121922             REGIONS HOSPITAL 4TH MRI   \n",
       "1      173373    3-Jan-24  2312127706  UOFM MOLECULAR & CELLULAR BIOLOGY P   \n",
       "\n",
       "   ACCOUNT  ...                                   PART DESCRIPTION COMM 1  \\\n",
       "0     5400  ...                                                NaN    NaN   \n",
       "1     2008  ...  PROTECT ALL PRE-NOTCHED Z-BAR INSIDE CORNER AL...   1ACC   \n",
       "\n",
       "  COMM 2 PO PURCH QTY PURCH UOM PO INV QTY  INV UOM INVOICED LINE QTY  \\\n",
       "0    NaN          NaN       NaN        NaN      NaN               NaN   \n",
       "1   1ACC          4.0        EA        4.0       EA               4.0   \n",
       "\n",
       "  INVOICE LINE TOTAL PO PRICE  \n",
       "0             -600.0      NaN  \n",
       "1               18.4     18.4  \n",
       "\n",
       "[2 rows x 28 columns]"
      ]
     },
     "execution_count": 2,
     "metadata": {},
     "output_type": "execute_result"
    }
   ],
   "source": [
    "\n",
    "\n",
    "# Load your dataset\n",
    "file_path = \"../../data/input/Freight_Cost_Analysis_CY2024-03.25.csv\"\n",
    "df = pd.read_csv(file_path, encoding=\"latin1\", low_memory=False)\n",
    "df.head(2)"
   ]
  },
  {
   "cell_type": "code",
   "execution_count": 3,
   "id": "708706e5",
   "metadata": {},
   "outputs": [
    {
     "data": {
      "application/vnd.microsoft.datawrangler.viewer.v0+json": {
       "columns": [
        {
         "name": "index",
         "rawType": "int64",
         "type": "integer"
        },
        {
         "name": "SITE",
         "rawType": "object",
         "type": "string"
        },
        {
         "name": "SITE DESCRIPTION",
         "rawType": "object",
         "type": "string"
        },
        {
         "name": "SUPPLIER NO",
         "rawType": "object",
         "type": "string"
        },
        {
         "name": "SUPPLIER NAME",
         "rawType": "object",
         "type": "string"
        },
        {
         "name": "INVOICE ID",
         "rawType": "int64",
         "type": "integer"
        },
        {
         "name": "INVOICE NO",
         "rawType": "object",
         "type": "string"
        },
        {
         "name": "DATE POSTED",
         "rawType": "object",
         "type": "string"
        },
        {
         "name": "PROJECT ID",
         "rawType": "object",
         "type": "string"
        },
        {
         "name": "PROJECT NAME",
         "rawType": "object",
         "type": "string"
        },
        {
         "name": "ACCOUNT",
         "rawType": "int64",
         "type": "integer"
        },
        {
         "name": "ACCOUNT DESCRIPTION",
         "rawType": "object",
         "type": "string"
        },
        {
         "name": "PLANNED DELIVERY DATE",
         "rawType": "object",
         "type": "string"
        },
        {
         "name": "SHIP TO ZIP",
         "rawType": "object",
         "type": "string"
        },
        {
         "name": "PO NO",
         "rawType": "object",
         "type": "string"
        },
        {
         "name": "PO LINE NO",
         "rawType": "object",
         "type": "string"
        },
        {
         "name": "PO REL NO",
         "rawType": "object",
         "type": "string"
        },
        {
         "name": "RECEIPT NO",
         "rawType": "float64",
         "type": "float"
        },
        {
         "name": "PART NO",
         "rawType": "object",
         "type": "string"
        },
        {
         "name": "PART DESCRIPTION",
         "rawType": "object",
         "type": "string"
        },
        {
         "name": "COMM 1",
         "rawType": "object",
         "type": "string"
        },
        {
         "name": "COMM 2",
         "rawType": "object",
         "type": "string"
        },
        {
         "name": "PO PURCH QTY",
         "rawType": "float64",
         "type": "float"
        },
        {
         "name": "PURCH UOM",
         "rawType": "object",
         "type": "string"
        },
        {
         "name": "PO INV QTY",
         "rawType": "float64",
         "type": "float"
        },
        {
         "name": "INV UOM",
         "rawType": "object",
         "type": "string"
        },
        {
         "name": "INVOICED LINE QTY",
         "rawType": "float64",
         "type": "float"
        },
        {
         "name": "INVOICE LINE TOTAL",
         "rawType": "float64",
         "type": "float"
        },
        {
         "name": "PO PRICE",
         "rawType": "float64",
         "type": "float"
        },
        {
         "name": "Commodity Group",
         "rawType": "object",
         "type": "string"
        },
        {
         "name": "Description",
         "rawType": "object",
         "type": "string"
        },
        {
         "name": "Old/New",
         "rawType": "object",
         "type": "string"
        },
        {
         "name": "Priority",
         "rawType": "object",
         "type": "string"
        },
        {
         "name": "Match Commodity",
         "rawType": "object",
         "type": "string"
        }
       ],
       "conversionMethod": "pd.DataFrame",
       "ref": "981d9fb2-4bf8-4da4-8481-422860f22a90",
       "rows": [
        [
         "0",
         "BNB",
         "Beckers New Brighton",
         "102548",
         "Lonseal Flooring",
         "433731",
         "0007795-CM",
         "3-Jan-24",
         "2311121922",
         "REGIONS HOSPITAL 4TH MRI",
         "5400",
         "PROJECT Sub-Contract Labor",
         null,
         null,
         null,
         null,
         null,
         null,
         null,
         null,
         "nan",
         null,
         null,
         null,
         null,
         null,
         null,
         "-600.0",
         null,
         null,
         null,
         null,
         null,
         "Commodity Not Found"
        ],
        [
         "1",
         "BNB",
         "Beckers New Brighton",
         "104716",
         "Hank's Specialties",
         "433340",
         "173373",
         "3-Jan-24",
         "2312127706",
         "UOFM MOLECULAR & CELLULAR BIOLOGY P",
         "2008",
         "Received Not Yet Invoiced",
         "2-Jan-24",
         "55430",
         "48180",
         "9",
         "1",
         "1.0",
         "1000007968",
         "PROTECT ALL PRE-NOTCHED Z-BAR INSIDE CORNER ALUMINUM (864056A) 12\"X12\" ALUMINUM",
         "1ACC",
         "1ACC",
         "4.0",
         "EA",
         "4.0",
         "EA",
         "4.0",
         "18.4",
         "18.4",
         "1ACC",
         "Accessories",
         "New Commodity",
         "No",
         "Commodity Found"
        ]
       ],
       "shape": {
        "columns": 33,
        "rows": 2
       }
      },
      "text/html": [
       "<div>\n",
       "<style scoped>\n",
       "    .dataframe tbody tr th:only-of-type {\n",
       "        vertical-align: middle;\n",
       "    }\n",
       "\n",
       "    .dataframe tbody tr th {\n",
       "        vertical-align: top;\n",
       "    }\n",
       "\n",
       "    .dataframe thead th {\n",
       "        text-align: right;\n",
       "    }\n",
       "</style>\n",
       "<table border=\"1\" class=\"dataframe\">\n",
       "  <thead>\n",
       "    <tr style=\"text-align: right;\">\n",
       "      <th></th>\n",
       "      <th>SITE</th>\n",
       "      <th>SITE DESCRIPTION</th>\n",
       "      <th>SUPPLIER NO</th>\n",
       "      <th>SUPPLIER NAME</th>\n",
       "      <th>INVOICE ID</th>\n",
       "      <th>INVOICE NO</th>\n",
       "      <th>DATE POSTED</th>\n",
       "      <th>PROJECT ID</th>\n",
       "      <th>PROJECT NAME</th>\n",
       "      <th>ACCOUNT</th>\n",
       "      <th>...</th>\n",
       "      <th>PO INV QTY</th>\n",
       "      <th>INV UOM</th>\n",
       "      <th>INVOICED LINE QTY</th>\n",
       "      <th>INVOICE LINE TOTAL</th>\n",
       "      <th>PO PRICE</th>\n",
       "      <th>Commodity Group</th>\n",
       "      <th>Description</th>\n",
       "      <th>Old/New</th>\n",
       "      <th>Priority</th>\n",
       "      <th>Match Commodity</th>\n",
       "    </tr>\n",
       "  </thead>\n",
       "  <tbody>\n",
       "    <tr>\n",
       "      <th>0</th>\n",
       "      <td>BNB</td>\n",
       "      <td>Beckers New Brighton</td>\n",
       "      <td>102548</td>\n",
       "      <td>Lonseal Flooring</td>\n",
       "      <td>433731</td>\n",
       "      <td>0007795-CM</td>\n",
       "      <td>3-Jan-24</td>\n",
       "      <td>2311121922</td>\n",
       "      <td>REGIONS HOSPITAL 4TH MRI</td>\n",
       "      <td>5400</td>\n",
       "      <td>...</td>\n",
       "      <td>NaN</td>\n",
       "      <td>NaN</td>\n",
       "      <td>NaN</td>\n",
       "      <td>-600.0</td>\n",
       "      <td>NaN</td>\n",
       "      <td>NaN</td>\n",
       "      <td>NaN</td>\n",
       "      <td>NaN</td>\n",
       "      <td>NaN</td>\n",
       "      <td>Commodity Not Found</td>\n",
       "    </tr>\n",
       "    <tr>\n",
       "      <th>1</th>\n",
       "      <td>BNB</td>\n",
       "      <td>Beckers New Brighton</td>\n",
       "      <td>104716</td>\n",
       "      <td>Hank's Specialties</td>\n",
       "      <td>433340</td>\n",
       "      <td>173373</td>\n",
       "      <td>3-Jan-24</td>\n",
       "      <td>2312127706</td>\n",
       "      <td>UOFM MOLECULAR &amp; CELLULAR BIOLOGY P</td>\n",
       "      <td>2008</td>\n",
       "      <td>...</td>\n",
       "      <td>4.0</td>\n",
       "      <td>EA</td>\n",
       "      <td>4.0</td>\n",
       "      <td>18.4</td>\n",
       "      <td>18.4</td>\n",
       "      <td>1ACC</td>\n",
       "      <td>Accessories</td>\n",
       "      <td>New Commodity</td>\n",
       "      <td>No</td>\n",
       "      <td>Commodity Found</td>\n",
       "    </tr>\n",
       "  </tbody>\n",
       "</table>\n",
       "<p>2 rows × 33 columns</p>\n",
       "</div>"
      ],
      "text/plain": [
       "  SITE      SITE DESCRIPTION SUPPLIER NO       SUPPLIER NAME  INVOICE ID  \\\n",
       "0  BNB  Beckers New Brighton      102548    Lonseal Flooring      433731   \n",
       "1  BNB  Beckers New Brighton      104716  Hank's Specialties      433340   \n",
       "\n",
       "   INVOICE NO DATE POSTED  PROJECT ID                         PROJECT NAME  \\\n",
       "0  0007795-CM    3-Jan-24  2311121922             REGIONS HOSPITAL 4TH MRI   \n",
       "1      173373    3-Jan-24  2312127706  UOFM MOLECULAR & CELLULAR BIOLOGY P   \n",
       "\n",
       "   ACCOUNT  ... PO INV QTY INV UOM INVOICED LINE QTY INVOICE LINE TOTAL  \\\n",
       "0     5400  ...        NaN     NaN               NaN             -600.0   \n",
       "1     2008  ...        4.0      EA               4.0               18.4   \n",
       "\n",
       "  PO PRICE Commodity Group  Description        Old/New Priority  \\\n",
       "0      NaN             NaN          NaN            NaN      NaN   \n",
       "1     18.4            1ACC  Accessories  New Commodity       No   \n",
       "\n",
       "       Match Commodity  \n",
       "0  Commodity Not Found  \n",
       "1      Commodity Found  \n",
       "\n",
       "[2 rows x 33 columns]"
      ]
     },
     "execution_count": 3,
     "metadata": {},
     "output_type": "execute_result"
    }
   ],
   "source": [
    "\n",
    "#  === Load Commodity Groups ===\n",
    "# Load the commodity groups from the Excel file\n",
    "commodity_df = pd.read_excel('../../data/input/IFS Cloud Commodity Groups.xlsx', sheet_name='Commodity Groups')\n",
    "commodity_df.head()\n",
    "\n",
    "\n",
    "# Convert 'Commodity Group' to string and create a new column 'COMM 1'\n",
    "commodity_df['COMM 1'] = commodity_df['Commodity Group'].astype(str)\n",
    "\n",
    "# Convert 'Commodity Group' to string in the main DataFrame\n",
    "df['COMM 1'] = df['COMM 1'].astype(str)\n",
    "\n",
    "# Perform the join on the 'COMM 1' column\n",
    "merged_df = df.merge(commodity_df, on='COMM 1', how='left')\n",
    "# Flag matched and unmatched rows clearly\n",
    "merged_df['Match Commodity'] = merged_df['Commodity Group'].apply(\n",
    "    lambda x: 'Commodity Found' if pd.notna(x) else 'Commodity Not Found'\n",
    ")\n",
    "merged_df.head(2)"
   ]
  },
  {
   "cell_type": "code",
   "execution_count": 4,
   "id": "e4bcc19e",
   "metadata": {},
   "outputs": [
    {
     "data": {
      "application/vnd.microsoft.datawrangler.viewer.v0+json": {
       "columns": [
        {
         "name": "index",
         "rawType": "int64",
         "type": "integer"
        },
        {
         "name": "SITE",
         "rawType": "object",
         "type": "string"
        },
        {
         "name": "SITE DESCRIPTION",
         "rawType": "object",
         "type": "string"
        },
        {
         "name": "SUPPLIER NO",
         "rawType": "object",
         "type": "string"
        },
        {
         "name": "SUPPLIER NAME",
         "rawType": "object",
         "type": "string"
        },
        {
         "name": "INVOICE ID",
         "rawType": "int64",
         "type": "integer"
        },
        {
         "name": "INVOICE NO",
         "rawType": "object",
         "type": "string"
        },
        {
         "name": "DATE POSTED",
         "rawType": "object",
         "type": "string"
        },
        {
         "name": "PROJECT ID",
         "rawType": "object",
         "type": "string"
        },
        {
         "name": "PROJECT NAME",
         "rawType": "object",
         "type": "string"
        },
        {
         "name": "ACCOUNT",
         "rawType": "int64",
         "type": "integer"
        },
        {
         "name": "ACCOUNT DESCRIPTION",
         "rawType": "object",
         "type": "string"
        },
        {
         "name": "PLANNED DELIVERY DATE",
         "rawType": "object",
         "type": "string"
        },
        {
         "name": "SHIP TO ZIP",
         "rawType": "object",
         "type": "string"
        },
        {
         "name": "PO NO",
         "rawType": "object",
         "type": "string"
        },
        {
         "name": "PO LINE NO",
         "rawType": "object",
         "type": "string"
        },
        {
         "name": "PO REL NO",
         "rawType": "object",
         "type": "string"
        },
        {
         "name": "RECEIPT NO",
         "rawType": "float64",
         "type": "float"
        },
        {
         "name": "PART NO",
         "rawType": "object",
         "type": "string"
        },
        {
         "name": "PART DESCRIPTION",
         "rawType": "object",
         "type": "string"
        },
        {
         "name": "COMM 1",
         "rawType": "object",
         "type": "string"
        },
        {
         "name": "COMM 2",
         "rawType": "object",
         "type": "string"
        },
        {
         "name": "PO PURCH QTY",
         "rawType": "float64",
         "type": "float"
        },
        {
         "name": "PURCH UOM",
         "rawType": "object",
         "type": "string"
        },
        {
         "name": "PO INV QTY",
         "rawType": "float64",
         "type": "float"
        },
        {
         "name": "INV UOM",
         "rawType": "object",
         "type": "string"
        },
        {
         "name": "INVOICED LINE QTY",
         "rawType": "float64",
         "type": "float"
        },
        {
         "name": "INVOICE LINE TOTAL",
         "rawType": "float64",
         "type": "float"
        },
        {
         "name": "PO PRICE",
         "rawType": "float64",
         "type": "float"
        },
        {
         "name": "Commodity Group",
         "rawType": "object",
         "type": "string"
        },
        {
         "name": "Description",
         "rawType": "object",
         "type": "string"
        },
        {
         "name": "Old/New",
         "rawType": "object",
         "type": "string"
        },
        {
         "name": "Priority",
         "rawType": "object",
         "type": "string"
        },
        {
         "name": "Match Commodity",
         "rawType": "object",
         "type": "string"
        }
       ],
       "conversionMethod": "pd.DataFrame",
       "ref": "41836eff-26ea-4dcb-aeaa-6269fd5a6bf9",
       "rows": [
        [
         "0",
         "BNB",
         "Beckers New Brighton",
         "102548",
         "Lonseal Flooring",
         "433731",
         "0007795-CM",
         "3-Jan-24",
         "2311121922",
         "REGIONS HOSPITAL 4TH MRI",
         "5400",
         "PROJECT Sub-Contract Labor",
         null,
         null,
         null,
         null,
         null,
         null,
         null,
         null,
         "nan",
         null,
         null,
         null,
         null,
         null,
         null,
         "-600.0",
         null,
         null,
         null,
         null,
         null,
         "Commodity Not Found"
        ],
        [
         "1",
         "BNB",
         "Beckers New Brighton",
         "104716",
         "Hank's Specialties",
         "433340",
         "173373",
         "3-Jan-24",
         "2312127706",
         "UOFM MOLECULAR & CELLULAR BIOLOGY P",
         "2008",
         "Received Not Yet Invoiced",
         "2-Jan-24",
         "55430",
         "48180",
         "9",
         "1",
         "1.0",
         "1000007968",
         "PROTECT ALL PRE-NOTCHED Z-BAR INSIDE CORNER ALUMINUM (864056A) 12\"X12\" ALUMINUM",
         "1ACC",
         "1ACC",
         "4.0",
         "EA",
         "4.0",
         "EA",
         "4.0",
         "18.4",
         "18.4",
         "1ACC",
         "Accessories",
         "New Commodity",
         "No",
         "Commodity Found"
        ]
       ],
       "shape": {
        "columns": 33,
        "rows": 2
       }
      },
      "text/html": [
       "<div>\n",
       "<style scoped>\n",
       "    .dataframe tbody tr th:only-of-type {\n",
       "        vertical-align: middle;\n",
       "    }\n",
       "\n",
       "    .dataframe tbody tr th {\n",
       "        vertical-align: top;\n",
       "    }\n",
       "\n",
       "    .dataframe thead th {\n",
       "        text-align: right;\n",
       "    }\n",
       "</style>\n",
       "<table border=\"1\" class=\"dataframe\">\n",
       "  <thead>\n",
       "    <tr style=\"text-align: right;\">\n",
       "      <th></th>\n",
       "      <th>SITE</th>\n",
       "      <th>SITE DESCRIPTION</th>\n",
       "      <th>SUPPLIER NO</th>\n",
       "      <th>SUPPLIER NAME</th>\n",
       "      <th>INVOICE ID</th>\n",
       "      <th>INVOICE NO</th>\n",
       "      <th>DATE POSTED</th>\n",
       "      <th>PROJECT ID</th>\n",
       "      <th>PROJECT NAME</th>\n",
       "      <th>ACCOUNT</th>\n",
       "      <th>...</th>\n",
       "      <th>PO INV QTY</th>\n",
       "      <th>INV UOM</th>\n",
       "      <th>INVOICED LINE QTY</th>\n",
       "      <th>INVOICE LINE TOTAL</th>\n",
       "      <th>PO PRICE</th>\n",
       "      <th>Commodity Group</th>\n",
       "      <th>Description</th>\n",
       "      <th>Old/New</th>\n",
       "      <th>Priority</th>\n",
       "      <th>Match Commodity</th>\n",
       "    </tr>\n",
       "  </thead>\n",
       "  <tbody>\n",
       "    <tr>\n",
       "      <th>0</th>\n",
       "      <td>BNB</td>\n",
       "      <td>Beckers New Brighton</td>\n",
       "      <td>102548</td>\n",
       "      <td>Lonseal Flooring</td>\n",
       "      <td>433731</td>\n",
       "      <td>0007795-CM</td>\n",
       "      <td>3-Jan-24</td>\n",
       "      <td>2311121922</td>\n",
       "      <td>REGIONS HOSPITAL 4TH MRI</td>\n",
       "      <td>5400</td>\n",
       "      <td>...</td>\n",
       "      <td>NaN</td>\n",
       "      <td>NaN</td>\n",
       "      <td>NaN</td>\n",
       "      <td>-600.0</td>\n",
       "      <td>NaN</td>\n",
       "      <td>NaN</td>\n",
       "      <td>NaN</td>\n",
       "      <td>NaN</td>\n",
       "      <td>NaN</td>\n",
       "      <td>Commodity Not Found</td>\n",
       "    </tr>\n",
       "    <tr>\n",
       "      <th>1</th>\n",
       "      <td>BNB</td>\n",
       "      <td>Beckers New Brighton</td>\n",
       "      <td>104716</td>\n",
       "      <td>Hank's Specialties</td>\n",
       "      <td>433340</td>\n",
       "      <td>173373</td>\n",
       "      <td>3-Jan-24</td>\n",
       "      <td>2312127706</td>\n",
       "      <td>UOFM MOLECULAR &amp; CELLULAR BIOLOGY P</td>\n",
       "      <td>2008</td>\n",
       "      <td>...</td>\n",
       "      <td>4.0</td>\n",
       "      <td>EA</td>\n",
       "      <td>4.0</td>\n",
       "      <td>18.4</td>\n",
       "      <td>18.4</td>\n",
       "      <td>1ACC</td>\n",
       "      <td>Accessories</td>\n",
       "      <td>New Commodity</td>\n",
       "      <td>No</td>\n",
       "      <td>Commodity Found</td>\n",
       "    </tr>\n",
       "  </tbody>\n",
       "</table>\n",
       "<p>2 rows × 33 columns</p>\n",
       "</div>"
      ],
      "text/plain": [
       "  SITE      SITE DESCRIPTION SUPPLIER NO       SUPPLIER NAME  INVOICE ID  \\\n",
       "0  BNB  Beckers New Brighton      102548    Lonseal Flooring      433731   \n",
       "1  BNB  Beckers New Brighton      104716  Hank's Specialties      433340   \n",
       "\n",
       "   INVOICE NO DATE POSTED  PROJECT ID                         PROJECT NAME  \\\n",
       "0  0007795-CM    3-Jan-24  2311121922             REGIONS HOSPITAL 4TH MRI   \n",
       "1      173373    3-Jan-24  2312127706  UOFM MOLECULAR & CELLULAR BIOLOGY P   \n",
       "\n",
       "   ACCOUNT  ... PO INV QTY INV UOM INVOICED LINE QTY INVOICE LINE TOTAL  \\\n",
       "0     5400  ...        NaN     NaN               NaN             -600.0   \n",
       "1     2008  ...        4.0      EA               4.0               18.4   \n",
       "\n",
       "  PO PRICE Commodity Group  Description        Old/New Priority  \\\n",
       "0      NaN             NaN          NaN            NaN      NaN   \n",
       "1     18.4            1ACC  Accessories  New Commodity       No   \n",
       "\n",
       "       Match Commodity  \n",
       "0  Commodity Not Found  \n",
       "1      Commodity Found  \n",
       "\n",
       "[2 rows x 33 columns]"
      ]
     },
     "execution_count": 4,
     "metadata": {},
     "output_type": "execute_result"
    }
   ],
   "source": [
    "# Replace values in the 'uom' column\n",
    "merged_df['INV UOM'] = merged_df['INV UOM'].replace({'SF': 'SQFT', 'SY': 'SQYD'})\n",
    "merged_df.head(2)"
   ]
  },
  {
   "cell_type": "code",
   "execution_count": 5,
   "id": "d9d78be1",
   "metadata": {},
   "outputs": [
    {
     "data": {
      "application/vnd.microsoft.datawrangler.viewer.v0+json": {
       "columns": [
        {
         "name": "index",
         "rawType": "int64",
         "type": "integer"
        },
        {
         "name": "Supplier No",
         "rawType": "object",
         "type": "string"
        },
        {
         "name": "Supplier Name",
         "rawType": "object",
         "type": "string"
        },
        {
         "name": "SUPPLIER NO",
         "rawType": "object",
         "type": "string"
        }
       ],
       "conversionMethod": "pd.DataFrame",
       "ref": "11314172-c73e-44c3-b24a-f061261d0e0b",
       "rows": [
        [
         "0",
         "104471",
         "Adleta Corporation",
         "104471"
        ],
        [
         "1",
         "128340",
         "AHF, LLC dba AHF Products",
         "128340"
        ]
       ],
       "shape": {
        "columns": 3,
        "rows": 2
       }
      },
      "text/html": [
       "<div>\n",
       "<style scoped>\n",
       "    .dataframe tbody tr th:only-of-type {\n",
       "        vertical-align: middle;\n",
       "    }\n",
       "\n",
       "    .dataframe tbody tr th {\n",
       "        vertical-align: top;\n",
       "    }\n",
       "\n",
       "    .dataframe thead th {\n",
       "        text-align: right;\n",
       "    }\n",
       "</style>\n",
       "<table border=\"1\" class=\"dataframe\">\n",
       "  <thead>\n",
       "    <tr style=\"text-align: right;\">\n",
       "      <th></th>\n",
       "      <th>Supplier No</th>\n",
       "      <th>Supplier Name</th>\n",
       "      <th>SUPPLIER NO</th>\n",
       "    </tr>\n",
       "  </thead>\n",
       "  <tbody>\n",
       "    <tr>\n",
       "      <th>0</th>\n",
       "      <td>104471</td>\n",
       "      <td>Adleta Corporation</td>\n",
       "      <td>104471</td>\n",
       "    </tr>\n",
       "    <tr>\n",
       "      <th>1</th>\n",
       "      <td>128340</td>\n",
       "      <td>AHF, LLC dba AHF Products</td>\n",
       "      <td>128340</td>\n",
       "    </tr>\n",
       "  </tbody>\n",
       "</table>\n",
       "</div>"
      ],
      "text/plain": [
       "  Supplier No              Supplier Name SUPPLIER NO\n",
       "0      104471         Adleta Corporation      104471\n",
       "1      128340  AHF, LLC dba AHF Products      128340"
      ]
     },
     "execution_count": 5,
     "metadata": {},
     "output_type": "execute_result"
    }
   ],
   "source": [
    "\n",
    "#  === Load Manufacturers ===\n",
    "# Load the manufacturers from the Excel file\n",
    "manufacturer_df = pd.read_excel('../../data/input/Manufacturer List.xlsx', sheet_name='Sheet1')\n",
    "manufacturer_df.head()\n",
    "\n",
    "# Convert 'Commodity Group' to string and create a new column 'COMM 1'\n",
    "manufacturer_df['SUPPLIER NO'] = manufacturer_df['Supplier No'].astype(str)\n",
    "manufacturer_df.head(2)\n"
   ]
  },
  {
   "cell_type": "code",
   "execution_count": 6,
   "id": "d8b0cfb4",
   "metadata": {},
   "outputs": [
    {
     "data": {
      "application/vnd.microsoft.datawrangler.viewer.v0+json": {
       "columns": [
        {
         "name": "index",
         "rawType": "int64",
         "type": "integer"
        },
        {
         "name": "SITE",
         "rawType": "object",
         "type": "string"
        },
        {
         "name": "SITE DESCRIPTION",
         "rawType": "object",
         "type": "string"
        },
        {
         "name": "SUPPLIER NO",
         "rawType": "object",
         "type": "string"
        },
        {
         "name": "SUPPLIER NAME",
         "rawType": "object",
         "type": "string"
        },
        {
         "name": "INVOICE ID",
         "rawType": "int64",
         "type": "integer"
        },
        {
         "name": "INVOICE NO",
         "rawType": "object",
         "type": "string"
        },
        {
         "name": "DATE POSTED",
         "rawType": "object",
         "type": "string"
        },
        {
         "name": "PROJECT ID",
         "rawType": "object",
         "type": "string"
        },
        {
         "name": "PROJECT NAME",
         "rawType": "object",
         "type": "string"
        },
        {
         "name": "ACCOUNT",
         "rawType": "int64",
         "type": "integer"
        },
        {
         "name": "ACCOUNT DESCRIPTION",
         "rawType": "object",
         "type": "string"
        },
        {
         "name": "PLANNED DELIVERY DATE",
         "rawType": "object",
         "type": "string"
        },
        {
         "name": "SHIP TO ZIP",
         "rawType": "object",
         "type": "string"
        },
        {
         "name": "PO NO",
         "rawType": "object",
         "type": "string"
        },
        {
         "name": "PO LINE NO",
         "rawType": "object",
         "type": "string"
        },
        {
         "name": "PO REL NO",
         "rawType": "object",
         "type": "string"
        },
        {
         "name": "RECEIPT NO",
         "rawType": "float64",
         "type": "float"
        },
        {
         "name": "PART NO",
         "rawType": "object",
         "type": "string"
        },
        {
         "name": "PART DESCRIPTION",
         "rawType": "object",
         "type": "string"
        },
        {
         "name": "COMM 1",
         "rawType": "object",
         "type": "string"
        },
        {
         "name": "COMM 2",
         "rawType": "object",
         "type": "string"
        },
        {
         "name": "PO PURCH QTY",
         "rawType": "float64",
         "type": "float"
        },
        {
         "name": "PURCH UOM",
         "rawType": "object",
         "type": "string"
        },
        {
         "name": "PO INV QTY",
         "rawType": "float64",
         "type": "float"
        },
        {
         "name": "INV UOM",
         "rawType": "object",
         "type": "string"
        },
        {
         "name": "INVOICED LINE QTY",
         "rawType": "float64",
         "type": "float"
        },
        {
         "name": "INVOICE LINE TOTAL",
         "rawType": "float64",
         "type": "float"
        },
        {
         "name": "PO PRICE",
         "rawType": "float64",
         "type": "float"
        },
        {
         "name": "Commodity Group",
         "rawType": "object",
         "type": "string"
        },
        {
         "name": "Description",
         "rawType": "object",
         "type": "string"
        },
        {
         "name": "Old/New",
         "rawType": "object",
         "type": "string"
        },
        {
         "name": "Priority",
         "rawType": "object",
         "type": "string"
        },
        {
         "name": "Match Commodity",
         "rawType": "object",
         "type": "string"
        },
        {
         "name": "Supplier Name",
         "rawType": "object",
         "type": "string"
        },
        {
         "name": "Match Supplier",
         "rawType": "object",
         "type": "string"
        }
       ],
       "conversionMethod": "pd.DataFrame",
       "ref": "f1c7cde6-a2cf-4463-8b80-fcb762729074",
       "rows": [
        [
         "0",
         "BNB",
         "Beckers New Brighton",
         "102548",
         "Lonseal Flooring",
         "433731",
         "0007795-CM",
         "3-Jan-24",
         "2311121922",
         "REGIONS HOSPITAL 4TH MRI",
         "5400",
         "PROJECT Sub-Contract Labor",
         null,
         null,
         null,
         null,
         null,
         null,
         null,
         null,
         "nan",
         null,
         null,
         null,
         null,
         null,
         null,
         "-600.0",
         null,
         null,
         null,
         null,
         null,
         "Commodity Not Found",
         null,
         "No supplier found"
        ],
        [
         "1",
         "BNB",
         "Beckers New Brighton",
         "104716",
         "Hank's Specialties",
         "433340",
         "173373",
         "3-Jan-24",
         "2312127706",
         "UOFM MOLECULAR & CELLULAR BIOLOGY P",
         "2008",
         "Received Not Yet Invoiced",
         "2-Jan-24",
         "55430",
         "48180",
         "9",
         "1",
         "1.0",
         "1000007968",
         "PROTECT ALL PRE-NOTCHED Z-BAR INSIDE CORNER ALUMINUM (864056A) 12\"X12\" ALUMINUM",
         "1ACC",
         "1ACC",
         "4.0",
         "EA",
         "4.0",
         "EA",
         "4.0",
         "18.4",
         "18.4",
         "1ACC",
         "Accessories",
         "New Commodity",
         "No",
         "Commodity Found",
         null,
         "No supplier found"
        ]
       ],
       "shape": {
        "columns": 35,
        "rows": 2
       }
      },
      "text/html": [
       "<div>\n",
       "<style scoped>\n",
       "    .dataframe tbody tr th:only-of-type {\n",
       "        vertical-align: middle;\n",
       "    }\n",
       "\n",
       "    .dataframe tbody tr th {\n",
       "        vertical-align: top;\n",
       "    }\n",
       "\n",
       "    .dataframe thead th {\n",
       "        text-align: right;\n",
       "    }\n",
       "</style>\n",
       "<table border=\"1\" class=\"dataframe\">\n",
       "  <thead>\n",
       "    <tr style=\"text-align: right;\">\n",
       "      <th></th>\n",
       "      <th>SITE</th>\n",
       "      <th>SITE DESCRIPTION</th>\n",
       "      <th>SUPPLIER NO</th>\n",
       "      <th>SUPPLIER NAME</th>\n",
       "      <th>INVOICE ID</th>\n",
       "      <th>INVOICE NO</th>\n",
       "      <th>DATE POSTED</th>\n",
       "      <th>PROJECT ID</th>\n",
       "      <th>PROJECT NAME</th>\n",
       "      <th>ACCOUNT</th>\n",
       "      <th>...</th>\n",
       "      <th>INVOICED LINE QTY</th>\n",
       "      <th>INVOICE LINE TOTAL</th>\n",
       "      <th>PO PRICE</th>\n",
       "      <th>Commodity Group</th>\n",
       "      <th>Description</th>\n",
       "      <th>Old/New</th>\n",
       "      <th>Priority</th>\n",
       "      <th>Match Commodity</th>\n",
       "      <th>Supplier Name</th>\n",
       "      <th>Match Supplier</th>\n",
       "    </tr>\n",
       "  </thead>\n",
       "  <tbody>\n",
       "    <tr>\n",
       "      <th>0</th>\n",
       "      <td>BNB</td>\n",
       "      <td>Beckers New Brighton</td>\n",
       "      <td>102548</td>\n",
       "      <td>Lonseal Flooring</td>\n",
       "      <td>433731</td>\n",
       "      <td>0007795-CM</td>\n",
       "      <td>3-Jan-24</td>\n",
       "      <td>2311121922</td>\n",
       "      <td>REGIONS HOSPITAL 4TH MRI</td>\n",
       "      <td>5400</td>\n",
       "      <td>...</td>\n",
       "      <td>NaN</td>\n",
       "      <td>-600.0</td>\n",
       "      <td>NaN</td>\n",
       "      <td>NaN</td>\n",
       "      <td>NaN</td>\n",
       "      <td>NaN</td>\n",
       "      <td>NaN</td>\n",
       "      <td>Commodity Not Found</td>\n",
       "      <td>NaN</td>\n",
       "      <td>No supplier found</td>\n",
       "    </tr>\n",
       "    <tr>\n",
       "      <th>1</th>\n",
       "      <td>BNB</td>\n",
       "      <td>Beckers New Brighton</td>\n",
       "      <td>104716</td>\n",
       "      <td>Hank's Specialties</td>\n",
       "      <td>433340</td>\n",
       "      <td>173373</td>\n",
       "      <td>3-Jan-24</td>\n",
       "      <td>2312127706</td>\n",
       "      <td>UOFM MOLECULAR &amp; CELLULAR BIOLOGY P</td>\n",
       "      <td>2008</td>\n",
       "      <td>...</td>\n",
       "      <td>4.0</td>\n",
       "      <td>18.4</td>\n",
       "      <td>18.4</td>\n",
       "      <td>1ACC</td>\n",
       "      <td>Accessories</td>\n",
       "      <td>New Commodity</td>\n",
       "      <td>No</td>\n",
       "      <td>Commodity Found</td>\n",
       "      <td>NaN</td>\n",
       "      <td>No supplier found</td>\n",
       "    </tr>\n",
       "  </tbody>\n",
       "</table>\n",
       "<p>2 rows × 35 columns</p>\n",
       "</div>"
      ],
      "text/plain": [
       "  SITE      SITE DESCRIPTION SUPPLIER NO       SUPPLIER NAME  INVOICE ID  \\\n",
       "0  BNB  Beckers New Brighton      102548    Lonseal Flooring      433731   \n",
       "1  BNB  Beckers New Brighton      104716  Hank's Specialties      433340   \n",
       "\n",
       "   INVOICE NO DATE POSTED  PROJECT ID                         PROJECT NAME  \\\n",
       "0  0007795-CM    3-Jan-24  2311121922             REGIONS HOSPITAL 4TH MRI   \n",
       "1      173373    3-Jan-24  2312127706  UOFM MOLECULAR & CELLULAR BIOLOGY P   \n",
       "\n",
       "   ACCOUNT  ... INVOICED LINE QTY INVOICE LINE TOTAL PO PRICE Commodity Group  \\\n",
       "0     5400  ...               NaN             -600.0      NaN             NaN   \n",
       "1     2008  ...               4.0               18.4     18.4            1ACC   \n",
       "\n",
       "   Description        Old/New  Priority      Match Commodity Supplier Name  \\\n",
       "0          NaN            NaN       NaN  Commodity Not Found           NaN   \n",
       "1  Accessories  New Commodity        No      Commodity Found           NaN   \n",
       "\n",
       "      Match Supplier  \n",
       "0  No supplier found  \n",
       "1  No supplier found  \n",
       "\n",
       "[2 rows x 35 columns]"
      ]
     },
     "execution_count": 6,
     "metadata": {},
     "output_type": "execute_result"
    }
   ],
   "source": [
    "\n",
    "# Convert 'Commodity Group' to string in the main DataFrame\n",
    "merged_df['SUPPLIER NO'] = merged_df['SUPPLIER NO'].astype(str)\n",
    "# Perform the join on the 'COMM 1' column\n",
    "merged_df2 = merged_df.merge(manufacturer_df[['SUPPLIER NO','Supplier Name']], on='SUPPLIER NO', how='left')\n",
    "\n",
    "merged_df2['Match Supplier'] = merged_df2['Supplier Name'].apply(\n",
    "    lambda x: 'Supplier registered' if pd.notna(x) else 'No supplier found'\n",
    ")\n",
    "\n",
    "# Display the updated DataFrame\n",
    "merged_df2.head(2)\n"
   ]
  },
  {
   "cell_type": "code",
   "execution_count": 7,
   "id": "f7f0d5e0",
   "metadata": {},
   "outputs": [
    {
     "data": {
      "application/vnd.microsoft.datawrangler.viewer.v0+json": {
       "columns": [
        {
         "name": "index",
         "rawType": "int64",
         "type": "integer"
        },
        {
         "name": "SITE",
         "rawType": "object",
         "type": "string"
        },
        {
         "name": "SITE DESCRIPTION",
         "rawType": "object",
         "type": "string"
        },
        {
         "name": "SUPPLIER NO",
         "rawType": "object",
         "type": "string"
        },
        {
         "name": "SUPPLIER NAME",
         "rawType": "object",
         "type": "string"
        },
        {
         "name": "INVOICE ID",
         "rawType": "int64",
         "type": "integer"
        },
        {
         "name": "INVOICE NO",
         "rawType": "object",
         "type": "string"
        },
        {
         "name": "DATE POSTED",
         "rawType": "object",
         "type": "string"
        },
        {
         "name": "PROJECT ID",
         "rawType": "object",
         "type": "string"
        },
        {
         "name": "PROJECT NAME",
         "rawType": "object",
         "type": "string"
        },
        {
         "name": "ACCOUNT",
         "rawType": "int64",
         "type": "integer"
        },
        {
         "name": "ACCOUNT DESCRIPTION",
         "rawType": "object",
         "type": "string"
        },
        {
         "name": "PLANNED DELIVERY DATE",
         "rawType": "object",
         "type": "string"
        },
        {
         "name": "SHIP TO ZIP",
         "rawType": "object",
         "type": "string"
        },
        {
         "name": "PO NO",
         "rawType": "object",
         "type": "string"
        },
        {
         "name": "PO LINE NO",
         "rawType": "object",
         "type": "string"
        },
        {
         "name": "PO REL NO",
         "rawType": "object",
         "type": "string"
        },
        {
         "name": "RECEIPT NO",
         "rawType": "float64",
         "type": "float"
        },
        {
         "name": "PART NO",
         "rawType": "object",
         "type": "string"
        },
        {
         "name": "PART DESCRIPTION",
         "rawType": "object",
         "type": "string"
        },
        {
         "name": "COMM 1",
         "rawType": "object",
         "type": "string"
        },
        {
         "name": "COMM 2",
         "rawType": "object",
         "type": "string"
        },
        {
         "name": "PO PURCH QTY",
         "rawType": "float64",
         "type": "float"
        },
        {
         "name": "PURCH UOM",
         "rawType": "object",
         "type": "string"
        },
        {
         "name": "PO INV QTY",
         "rawType": "float64",
         "type": "float"
        },
        {
         "name": "INV UOM",
         "rawType": "object",
         "type": "string"
        },
        {
         "name": "INVOICED LINE QTY",
         "rawType": "float64",
         "type": "float"
        },
        {
         "name": "INVOICE LINE TOTAL",
         "rawType": "float64",
         "type": "float"
        },
        {
         "name": "PO PRICE",
         "rawType": "float64",
         "type": "float"
        },
        {
         "name": "Commodity Group",
         "rawType": "object",
         "type": "string"
        },
        {
         "name": "Description",
         "rawType": "object",
         "type": "string"
        },
        {
         "name": "Old/New",
         "rawType": "object",
         "type": "string"
        },
        {
         "name": "Priority",
         "rawType": "object",
         "type": "string"
        },
        {
         "name": "Match Commodity",
         "rawType": "object",
         "type": "string"
        },
        {
         "name": "Supplier Name",
         "rawType": "object",
         "type": "string"
        },
        {
         "name": "Match Supplier",
         "rawType": "object",
         "type": "string"
        },
        {
         "name": "new commodity description",
         "rawType": "object",
         "type": "string"
        }
       ],
       "conversionMethod": "pd.DataFrame",
       "ref": "e30b19c6-afe9-4a87-b1f9-0fd64e08e06f",
       "rows": [
        [
         "0",
         "BNB",
         "Beckers New Brighton",
         "102548",
         "Lonseal Flooring",
         "433731",
         "0007795-CM",
         "3-Jan-24",
         "2311121922",
         "REGIONS HOSPITAL 4TH MRI",
         "5400",
         "PROJECT Sub-Contract Labor",
         null,
         null,
         null,
         null,
         null,
         null,
         null,
         null,
         "nan",
         null,
         null,
         null,
         null,
         null,
         null,
         "-600.0",
         null,
         null,
         null,
         null,
         null,
         "Commodity Not Found",
         null,
         "No supplier found",
         "nan"
        ],
        [
         "1",
         "BNB",
         "Beckers New Brighton",
         "104716",
         "Hank's Specialties",
         "433340",
         "173373",
         "3-Jan-24",
         "2312127706",
         "UOFM MOLECULAR & CELLULAR BIOLOGY P",
         "2008",
         "Received Not Yet Invoiced",
         "2-Jan-24",
         "55430",
         "48180",
         "9",
         "1",
         "1.0",
         "1000007968",
         "PROTECT ALL PRE-NOTCHED Z-BAR INSIDE CORNER ALUMINUM (864056A) 12\"X12\" ALUMINUM",
         "1ACC",
         "1ACC",
         "4.0",
         "EA",
         "4.0",
         "EA",
         "4.0",
         "18.4",
         "18.4",
         "1ACC",
         "Accessories",
         "New Commodity",
         "No",
         "Commodity Found",
         null,
         "No supplier found",
         "Accessories"
        ]
       ],
       "shape": {
        "columns": 36,
        "rows": 2
       }
      },
      "text/html": [
       "<div>\n",
       "<style scoped>\n",
       "    .dataframe tbody tr th:only-of-type {\n",
       "        vertical-align: middle;\n",
       "    }\n",
       "\n",
       "    .dataframe tbody tr th {\n",
       "        vertical-align: top;\n",
       "    }\n",
       "\n",
       "    .dataframe thead th {\n",
       "        text-align: right;\n",
       "    }\n",
       "</style>\n",
       "<table border=\"1\" class=\"dataframe\">\n",
       "  <thead>\n",
       "    <tr style=\"text-align: right;\">\n",
       "      <th></th>\n",
       "      <th>SITE</th>\n",
       "      <th>SITE DESCRIPTION</th>\n",
       "      <th>SUPPLIER NO</th>\n",
       "      <th>SUPPLIER NAME</th>\n",
       "      <th>INVOICE ID</th>\n",
       "      <th>INVOICE NO</th>\n",
       "      <th>DATE POSTED</th>\n",
       "      <th>PROJECT ID</th>\n",
       "      <th>PROJECT NAME</th>\n",
       "      <th>ACCOUNT</th>\n",
       "      <th>...</th>\n",
       "      <th>INVOICE LINE TOTAL</th>\n",
       "      <th>PO PRICE</th>\n",
       "      <th>Commodity Group</th>\n",
       "      <th>Description</th>\n",
       "      <th>Old/New</th>\n",
       "      <th>Priority</th>\n",
       "      <th>Match Commodity</th>\n",
       "      <th>Supplier Name</th>\n",
       "      <th>Match Supplier</th>\n",
       "      <th>new commodity description</th>\n",
       "    </tr>\n",
       "  </thead>\n",
       "  <tbody>\n",
       "    <tr>\n",
       "      <th>0</th>\n",
       "      <td>BNB</td>\n",
       "      <td>Beckers New Brighton</td>\n",
       "      <td>102548</td>\n",
       "      <td>Lonseal Flooring</td>\n",
       "      <td>433731</td>\n",
       "      <td>0007795-CM</td>\n",
       "      <td>3-Jan-24</td>\n",
       "      <td>2311121922</td>\n",
       "      <td>REGIONS HOSPITAL 4TH MRI</td>\n",
       "      <td>5400</td>\n",
       "      <td>...</td>\n",
       "      <td>-600.0</td>\n",
       "      <td>NaN</td>\n",
       "      <td>NaN</td>\n",
       "      <td>NaN</td>\n",
       "      <td>NaN</td>\n",
       "      <td>NaN</td>\n",
       "      <td>Commodity Not Found</td>\n",
       "      <td>NaN</td>\n",
       "      <td>No supplier found</td>\n",
       "      <td>nan</td>\n",
       "    </tr>\n",
       "    <tr>\n",
       "      <th>1</th>\n",
       "      <td>BNB</td>\n",
       "      <td>Beckers New Brighton</td>\n",
       "      <td>104716</td>\n",
       "      <td>Hank's Specialties</td>\n",
       "      <td>433340</td>\n",
       "      <td>173373</td>\n",
       "      <td>3-Jan-24</td>\n",
       "      <td>2312127706</td>\n",
       "      <td>UOFM MOLECULAR &amp; CELLULAR BIOLOGY P</td>\n",
       "      <td>2008</td>\n",
       "      <td>...</td>\n",
       "      <td>18.4</td>\n",
       "      <td>18.4</td>\n",
       "      <td>1ACC</td>\n",
       "      <td>Accessories</td>\n",
       "      <td>New Commodity</td>\n",
       "      <td>No</td>\n",
       "      <td>Commodity Found</td>\n",
       "      <td>NaN</td>\n",
       "      <td>No supplier found</td>\n",
       "      <td>Accessories</td>\n",
       "    </tr>\n",
       "  </tbody>\n",
       "</table>\n",
       "<p>2 rows × 36 columns</p>\n",
       "</div>"
      ],
      "text/plain": [
       "  SITE      SITE DESCRIPTION SUPPLIER NO       SUPPLIER NAME  INVOICE ID  \\\n",
       "0  BNB  Beckers New Brighton      102548    Lonseal Flooring      433731   \n",
       "1  BNB  Beckers New Brighton      104716  Hank's Specialties      433340   \n",
       "\n",
       "   INVOICE NO DATE POSTED  PROJECT ID                         PROJECT NAME  \\\n",
       "0  0007795-CM    3-Jan-24  2311121922             REGIONS HOSPITAL 4TH MRI   \n",
       "1      173373    3-Jan-24  2312127706  UOFM MOLECULAR & CELLULAR BIOLOGY P   \n",
       "\n",
       "   ACCOUNT  ... INVOICE LINE TOTAL PO PRICE Commodity Group  Description  \\\n",
       "0     5400  ...             -600.0      NaN             NaN          NaN   \n",
       "1     2008  ...               18.4     18.4            1ACC  Accessories   \n",
       "\n",
       "         Old/New Priority      Match Commodity Supplier Name  \\\n",
       "0            NaN      NaN  Commodity Not Found           NaN   \n",
       "1  New Commodity       No      Commodity Found           NaN   \n",
       "\n",
       "      Match Supplier new commodity description  \n",
       "0  No supplier found                       nan  \n",
       "1  No supplier found               Accessories  \n",
       "\n",
       "[2 rows x 36 columns]"
      ]
     },
     "execution_count": 7,
     "metadata": {},
     "output_type": "execute_result"
    }
   ],
   "source": [
    "# data cleaning function to standardise the description conversion\n",
    "# This function will classify the commodity based on the description\n",
    "def classify_commodity(row):\n",
    "    desc = str(row['Description']).strip()\n",
    "    desc_lower = desc.lower()\n",
    "\n",
    "    if desc_lower == 'vinyl':\n",
    "        return ''.join(filter(str.isalpha, str(row['COMM 2'])))\n",
    "    elif desc_lower == 'carpet bl':\n",
    "        return 'Carpet Roll'\n",
    "    elif desc_lower == 'carpet tile':\n",
    "        return 'Carpet Tiles'\n",
    "    elif desc_lower == 'carpet':\n",
    "        return 'Carpet Roll'\n",
    "    else:\n",
    "        return desc  # Default fallback to original\n",
    "\n",
    "\n",
    "# Apply to new column\n",
    "merged_df2['new commodity description'] = merged_df2.apply(classify_commodity, axis=1)\n",
    "# Display the updated DataFrame\n",
    "merged_df2.head(2)"
   ]
  },
  {
   "cell_type": "code",
   "execution_count": 8,
   "id": "ade86dc1",
   "metadata": {},
   "outputs": [],
   "source": [
    "# This function will classify the commodity from old codes to new codes\n",
    "def map_commodity_group(x):\n",
    "    x_str = str(x).strip()  # Strip whitespace, just in case\n",
    "\n",
    "    if x_str == '10':\n",
    "        return '1CBL'\n",
    "    elif x_str == '100':\n",
    "        return '1CPT'\n",
    "    elif x_str == '40':\n",
    "        return '1VNL'\n",
    "    else:\n",
    "        return x  # Keep original value if none of the above match\n",
    "\n",
    "# Apply the function to update the column\n",
    "merged_df2['new commodity group'] = merged_df2['Commodity Group'].apply(map_commodity_group)\n"
   ]
  },
  {
   "cell_type": "code",
   "execution_count": 9,
   "id": "57ba1ce8",
   "metadata": {},
   "outputs": [
    {
     "data": {
      "application/vnd.microsoft.datawrangler.viewer.v0+json": {
       "columns": [
        {
         "name": "index",
         "rawType": "int64",
         "type": "integer"
        },
        {
         "name": "SITE",
         "rawType": "object",
         "type": "string"
        },
        {
         "name": "SITE DESCRIPTION",
         "rawType": "object",
         "type": "string"
        },
        {
         "name": "SUPPLIER NO",
         "rawType": "object",
         "type": "string"
        },
        {
         "name": "SUPPLIER NAME",
         "rawType": "object",
         "type": "string"
        },
        {
         "name": "INVOICE ID",
         "rawType": "int64",
         "type": "integer"
        },
        {
         "name": "INVOICE NO",
         "rawType": "object",
         "type": "string"
        },
        {
         "name": "DATE POSTED",
         "rawType": "object",
         "type": "string"
        },
        {
         "name": "PROJECT ID",
         "rawType": "object",
         "type": "string"
        },
        {
         "name": "PROJECT NAME",
         "rawType": "object",
         "type": "string"
        },
        {
         "name": "ACCOUNT",
         "rawType": "int64",
         "type": "integer"
        },
        {
         "name": "ACCOUNT DESCRIPTION",
         "rawType": "object",
         "type": "string"
        },
        {
         "name": "PLANNED DELIVERY DATE",
         "rawType": "object",
         "type": "string"
        },
        {
         "name": "SHIP TO ZIP",
         "rawType": "object",
         "type": "string"
        },
        {
         "name": "PO NO",
         "rawType": "object",
         "type": "string"
        },
        {
         "name": "PO LINE NO",
         "rawType": "object",
         "type": "string"
        },
        {
         "name": "PO REL NO",
         "rawType": "object",
         "type": "string"
        },
        {
         "name": "RECEIPT NO",
         "rawType": "float64",
         "type": "float"
        },
        {
         "name": "PART NO",
         "rawType": "object",
         "type": "string"
        },
        {
         "name": "PART DESCRIPTION",
         "rawType": "object",
         "type": "string"
        },
        {
         "name": "COMM 1",
         "rawType": "object",
         "type": "string"
        },
        {
         "name": "COMM 2",
         "rawType": "object",
         "type": "string"
        },
        {
         "name": "PO PURCH QTY",
         "rawType": "float64",
         "type": "float"
        },
        {
         "name": "PURCH UOM",
         "rawType": "object",
         "type": "string"
        },
        {
         "name": "PO INV QTY",
         "rawType": "float64",
         "type": "float"
        },
        {
         "name": "INV UOM",
         "rawType": "object",
         "type": "string"
        },
        {
         "name": "INVOICED LINE QTY",
         "rawType": "float64",
         "type": "float"
        },
        {
         "name": "INVOICE LINE TOTAL",
         "rawType": "float64",
         "type": "float"
        },
        {
         "name": "PO PRICE",
         "rawType": "float64",
         "type": "float"
        },
        {
         "name": "Commodity Group",
         "rawType": "object",
         "type": "string"
        },
        {
         "name": "Description",
         "rawType": "object",
         "type": "string"
        },
        {
         "name": "Old/New",
         "rawType": "object",
         "type": "string"
        },
        {
         "name": "Priority",
         "rawType": "object",
         "type": "string"
        },
        {
         "name": "Match Commodity",
         "rawType": "object",
         "type": "string"
        },
        {
         "name": "Supplier Name",
         "rawType": "object",
         "type": "string"
        },
        {
         "name": "Match Supplier",
         "rawType": "object",
         "type": "string"
        },
        {
         "name": "new commodity description",
         "rawType": "object",
         "type": "string"
        },
        {
         "name": "new commodity group",
         "rawType": "object",
         "type": "string"
        }
       ],
       "conversionMethod": "pd.DataFrame",
       "ref": "96588f5a-8e8b-474b-bb18-8c7cc4d536a1",
       "rows": [
        [
         "0",
         "BNB",
         "Beckers New Brighton",
         "102548",
         "Lonseal Flooring",
         "433731",
         "0007795-CM",
         "3-Jan-24",
         "2311121922",
         "REGIONS HOSPITAL 4TH MRI",
         "5400",
         "PROJECT Sub-Contract Labor",
         null,
         null,
         null,
         null,
         null,
         null,
         null,
         null,
         "nan",
         null,
         null,
         null,
         null,
         null,
         null,
         "-600.0",
         null,
         null,
         null,
         null,
         null,
         "Commodity Not Found",
         null,
         "No supplier found",
         "nan",
         null
        ],
        [
         "1",
         "BNB",
         "Beckers New Brighton",
         "104716",
         "Hank's Specialties",
         "433340",
         "173373",
         "3-Jan-24",
         "2312127706",
         "UOFM MOLECULAR & CELLULAR BIOLOGY P",
         "2008",
         "Received Not Yet Invoiced",
         "2-Jan-24",
         "55430",
         "48180",
         "9",
         "1",
         "1.0",
         "1000007968",
         "PROTECT ALL PRE-NOTCHED Z-BAR INSIDE CORNER ALUMINUM (864056A) 12\"X12\" ALUMINUM",
         "1ACC",
         "1ACC",
         "4.0",
         "EA",
         "4.0",
         "EA",
         "4.0",
         "18.4",
         "18.4",
         "1ACC",
         "Accessories",
         "New Commodity",
         "No",
         "Commodity Found",
         null,
         "No supplier found",
         "Accessories",
         "1ACC"
        ]
       ],
       "shape": {
        "columns": 37,
        "rows": 2
       }
      },
      "text/html": [
       "<div>\n",
       "<style scoped>\n",
       "    .dataframe tbody tr th:only-of-type {\n",
       "        vertical-align: middle;\n",
       "    }\n",
       "\n",
       "    .dataframe tbody tr th {\n",
       "        vertical-align: top;\n",
       "    }\n",
       "\n",
       "    .dataframe thead th {\n",
       "        text-align: right;\n",
       "    }\n",
       "</style>\n",
       "<table border=\"1\" class=\"dataframe\">\n",
       "  <thead>\n",
       "    <tr style=\"text-align: right;\">\n",
       "      <th></th>\n",
       "      <th>SITE</th>\n",
       "      <th>SITE DESCRIPTION</th>\n",
       "      <th>SUPPLIER NO</th>\n",
       "      <th>SUPPLIER NAME</th>\n",
       "      <th>INVOICE ID</th>\n",
       "      <th>INVOICE NO</th>\n",
       "      <th>DATE POSTED</th>\n",
       "      <th>PROJECT ID</th>\n",
       "      <th>PROJECT NAME</th>\n",
       "      <th>ACCOUNT</th>\n",
       "      <th>...</th>\n",
       "      <th>PO PRICE</th>\n",
       "      <th>Commodity Group</th>\n",
       "      <th>Description</th>\n",
       "      <th>Old/New</th>\n",
       "      <th>Priority</th>\n",
       "      <th>Match Commodity</th>\n",
       "      <th>Supplier Name</th>\n",
       "      <th>Match Supplier</th>\n",
       "      <th>new commodity description</th>\n",
       "      <th>new commodity group</th>\n",
       "    </tr>\n",
       "  </thead>\n",
       "  <tbody>\n",
       "    <tr>\n",
       "      <th>0</th>\n",
       "      <td>BNB</td>\n",
       "      <td>Beckers New Brighton</td>\n",
       "      <td>102548</td>\n",
       "      <td>Lonseal Flooring</td>\n",
       "      <td>433731</td>\n",
       "      <td>0007795-CM</td>\n",
       "      <td>3-Jan-24</td>\n",
       "      <td>2311121922</td>\n",
       "      <td>REGIONS HOSPITAL 4TH MRI</td>\n",
       "      <td>5400</td>\n",
       "      <td>...</td>\n",
       "      <td>NaN</td>\n",
       "      <td>NaN</td>\n",
       "      <td>NaN</td>\n",
       "      <td>NaN</td>\n",
       "      <td>NaN</td>\n",
       "      <td>Commodity Not Found</td>\n",
       "      <td>NaN</td>\n",
       "      <td>No supplier found</td>\n",
       "      <td>nan</td>\n",
       "      <td>NaN</td>\n",
       "    </tr>\n",
       "    <tr>\n",
       "      <th>1</th>\n",
       "      <td>BNB</td>\n",
       "      <td>Beckers New Brighton</td>\n",
       "      <td>104716</td>\n",
       "      <td>Hank's Specialties</td>\n",
       "      <td>433340</td>\n",
       "      <td>173373</td>\n",
       "      <td>3-Jan-24</td>\n",
       "      <td>2312127706</td>\n",
       "      <td>UOFM MOLECULAR &amp; CELLULAR BIOLOGY P</td>\n",
       "      <td>2008</td>\n",
       "      <td>...</td>\n",
       "      <td>18.4</td>\n",
       "      <td>1ACC</td>\n",
       "      <td>Accessories</td>\n",
       "      <td>New Commodity</td>\n",
       "      <td>No</td>\n",
       "      <td>Commodity Found</td>\n",
       "      <td>NaN</td>\n",
       "      <td>No supplier found</td>\n",
       "      <td>Accessories</td>\n",
       "      <td>1ACC</td>\n",
       "    </tr>\n",
       "  </tbody>\n",
       "</table>\n",
       "<p>2 rows × 37 columns</p>\n",
       "</div>"
      ],
      "text/plain": [
       "  SITE      SITE DESCRIPTION SUPPLIER NO       SUPPLIER NAME  INVOICE ID  \\\n",
       "0  BNB  Beckers New Brighton      102548    Lonseal Flooring      433731   \n",
       "1  BNB  Beckers New Brighton      104716  Hank's Specialties      433340   \n",
       "\n",
       "   INVOICE NO DATE POSTED  PROJECT ID                         PROJECT NAME  \\\n",
       "0  0007795-CM    3-Jan-24  2311121922             REGIONS HOSPITAL 4TH MRI   \n",
       "1      173373    3-Jan-24  2312127706  UOFM MOLECULAR & CELLULAR BIOLOGY P   \n",
       "\n",
       "   ACCOUNT  ... PO PRICE Commodity Group  Description        Old/New Priority  \\\n",
       "0     5400  ...      NaN             NaN          NaN            NaN      NaN   \n",
       "1     2008  ...     18.4            1ACC  Accessories  New Commodity       No   \n",
       "\n",
       "       Match Commodity  Supplier Name     Match Supplier  \\\n",
       "0  Commodity Not Found            NaN  No supplier found   \n",
       "1      Commodity Found            NaN  No supplier found   \n",
       "\n",
       "  new commodity description new commodity group  \n",
       "0                       nan                 NaN  \n",
       "1               Accessories                1ACC  \n",
       "\n",
       "[2 rows x 37 columns]"
      ]
     },
     "execution_count": 9,
     "metadata": {},
     "output_type": "execute_result"
    }
   ],
   "source": [
    "\n",
    "# Display the updated DataFrame\n",
    "merged_df2.head(2)"
   ]
  },
  {
   "cell_type": "code",
   "execution_count": 10,
   "id": "ec62c888",
   "metadata": {},
   "outputs": [
    {
     "data": {
      "text/plain": [
       "array(['nan', 'Accessories', 'Transitions', 'ROLL', 'Base',\n",
       "       'Vinyl Accessories', 'Adhesive', 'Carpet Tiles', 'Vinyl Tile',\n",
       "       'Padding', 'Miscellaneous', 'Carpet Roll', 'Stairs', 'LVT',\n",
       "       'Ceramic/Natural Stone', 'Sundry', 'VCT', 'LVP', 'Floor Prep',\n",
       "       'Rubber Flooring', 'Ceramic Sundries', 'Ceramic', 'Mapei Products',\n",
       "       'Installation Supplies', 'Specialty Tile', 'Sheet Vinyl',\n",
       "       'Wallcovering', 'Linoleum', 'Equipment', 'Sundries',\n",
       "       'Metal Transitions', 'Mats', 'Tools', 'Adhesives',\n",
       "       'Wood Accessories', 'Rubber Roll Goods', 'Product Care', 'Other',\n",
       "       'Underlayment', 'Vinyl Transitions', 'Rugs', 'Stair Accessories',\n",
       "       'Backing', 'Epoxy', 'Wood', 'Grout', 'Trim Piece',\n",
       "       'General Inventory', 'Weld Rod', 'Rubber Accessories', 'Laminate',\n",
       "       'Rubber Tile', 'Specialty Flooring', 'Cage - Adhesives & Supplies',\n",
       "       'Wood Transitions', 'ESD', 'Natural Stone', 'Terrazzo',\n",
       "       'Linoleum Tiles', 'Turf', 'Product Care Supplies',\n",
       "       'One Piece Tread/Riser', 'Thinset', 'Nosing', 'Tile', 'Roll',\n",
       "       'Linoleum Roll Goods', 'GP Parts', 'TILE', 'Protection', 'VNL',\n",
       "       'Zero Cost', 'Inbound Freight', 'Safety/PPE', 'ACC',\n",
       "       'Raised Floor', 'Sheet Vinyl Tools', 'Stock Material',\n",
       "       'Sheet Rubber', 'Rubber Transitions', 'Rubber', 'BASE',\n",
       "       'Project Material', 'Specialty items - Jobs', 'Laminates',\n",
       "       'Laminate Flooring Accessories', 'WELD', 'PLNK', 'Raised Floors',\n",
       "       'Riser', 'Tread', 'Field tile', 'Caulk', 'Vinyl/Rubber'],\n",
       "      dtype=object)"
      ]
     },
     "execution_count": 10,
     "metadata": {},
     "output_type": "execute_result"
    }
   ],
   "source": [
    "merged_df2['new commodity description'].unique()"
   ]
  },
  {
   "cell_type": "code",
   "execution_count": 11,
   "id": "1c91f8ff",
   "metadata": {},
   "outputs": [
    {
     "data": {
      "application/vnd.microsoft.datawrangler.viewer.v0+json": {
       "columns": [
        {
         "name": "index",
         "rawType": "int64",
         "type": "integer"
        },
        {
         "name": "SITE",
         "rawType": "object",
         "type": "string"
        },
        {
         "name": "SITE DESCRIPTION",
         "rawType": "object",
         "type": "string"
        },
        {
         "name": "SUPPLIER NO",
         "rawType": "object",
         "type": "string"
        },
        {
         "name": "SUPPLIER NAME",
         "rawType": "object",
         "type": "string"
        },
        {
         "name": "INVOICE ID",
         "rawType": "int64",
         "type": "integer"
        },
        {
         "name": "INVOICE NO",
         "rawType": "object",
         "type": "string"
        },
        {
         "name": "DATE POSTED",
         "rawType": "object",
         "type": "string"
        },
        {
         "name": "PROJECT ID",
         "rawType": "object",
         "type": "string"
        },
        {
         "name": "PROJECT NAME",
         "rawType": "object",
         "type": "string"
        },
        {
         "name": "ACCOUNT",
         "rawType": "int64",
         "type": "integer"
        },
        {
         "name": "ACCOUNT DESCRIPTION",
         "rawType": "object",
         "type": "string"
        },
        {
         "name": "PLANNED DELIVERY DATE",
         "rawType": "object",
         "type": "string"
        },
        {
         "name": "SHIP TO ZIP",
         "rawType": "object",
         "type": "string"
        },
        {
         "name": "PO NO",
         "rawType": "object",
         "type": "string"
        },
        {
         "name": "PO LINE NO",
         "rawType": "object",
         "type": "string"
        },
        {
         "name": "PO REL NO",
         "rawType": "object",
         "type": "string"
        },
        {
         "name": "RECEIPT NO",
         "rawType": "float64",
         "type": "float"
        },
        {
         "name": "PART NO",
         "rawType": "object",
         "type": "string"
        },
        {
         "name": "PART DESCRIPTION",
         "rawType": "object",
         "type": "string"
        },
        {
         "name": "COMM 1",
         "rawType": "object",
         "type": "string"
        },
        {
         "name": "COMM 2",
         "rawType": "object",
         "type": "string"
        },
        {
         "name": "PO PURCH QTY",
         "rawType": "float64",
         "type": "float"
        },
        {
         "name": "PURCH UOM",
         "rawType": "object",
         "type": "string"
        },
        {
         "name": "PO INV QTY",
         "rawType": "float64",
         "type": "float"
        },
        {
         "name": "INV UOM",
         "rawType": "object",
         "type": "string"
        },
        {
         "name": "INVOICED LINE QTY",
         "rawType": "float64",
         "type": "float"
        },
        {
         "name": "INVOICE LINE TOTAL",
         "rawType": "float64",
         "type": "float"
        },
        {
         "name": "PO PRICE",
         "rawType": "float64",
         "type": "float"
        },
        {
         "name": "Commodity Group",
         "rawType": "object",
         "type": "string"
        },
        {
         "name": "Description",
         "rawType": "object",
         "type": "string"
        },
        {
         "name": "Old/New",
         "rawType": "object",
         "type": "string"
        },
        {
         "name": "Priority",
         "rawType": "object",
         "type": "string"
        },
        {
         "name": "Match Commodity",
         "rawType": "object",
         "type": "string"
        },
        {
         "name": "Supplier Name",
         "rawType": "object",
         "type": "string"
        },
        {
         "name": "Match Supplier",
         "rawType": "object",
         "type": "string"
        },
        {
         "name": "new commodity description",
         "rawType": "object",
         "type": "string"
        },
        {
         "name": "new commodity group",
         "rawType": "object",
         "type": "string"
        },
        {
         "name": "Classification",
         "rawType": "object",
         "type": "string"
        },
        {
         "name": "conversion_code",
         "rawType": "object",
         "type": "string"
        }
       ],
       "conversionMethod": "pd.DataFrame",
       "ref": "d1d0f947-b160-43f2-847e-9b55f9bfaf11",
       "rows": [
        [
         "0",
         "BNB",
         "Beckers New Brighton",
         "102548",
         "Lonseal Flooring",
         "433731",
         "0007795-CM",
         "3-Jan-24",
         "2311121922",
         "REGIONS HOSPITAL 4TH MRI",
         "5400",
         "PROJECT Sub-Contract Labor",
         null,
         null,
         null,
         null,
         null,
         null,
         null,
         null,
         "nan",
         null,
         null,
         null,
         null,
         null,
         null,
         "-600.0",
         null,
         null,
         null,
         null,
         null,
         "Commodity Not Found",
         null,
         "No supplier found",
         "nan",
         null,
         "No UOM",
         "nan_nan_nan"
        ],
        [
         "1",
         "BNB",
         "Beckers New Brighton",
         "104716",
         "Hank's Specialties",
         "433340",
         "173373",
         "3-Jan-24",
         "2312127706",
         "UOFM MOLECULAR & CELLULAR BIOLOGY P",
         "2008",
         "Received Not Yet Invoiced",
         "2-Jan-24",
         "55430",
         "48180",
         "9",
         "1",
         "1.0",
         "1000007968",
         "PROTECT ALL PRE-NOTCHED Z-BAR INSIDE CORNER ALUMINUM (864056A) 12\"X12\" ALUMINUM",
         "1ACC",
         "1ACC",
         "4.0",
         "EA",
         "4.0",
         "EA",
         "4.0",
         "18.4",
         "18.4",
         "1ACC",
         "Accessories",
         "New Commodity",
         "No",
         "Commodity Found",
         null,
         "No supplier found",
         "Accessories",
         "1ACC",
         "Unclassified",
         "Accessories_1ACC_EA"
        ]
       ],
       "shape": {
        "columns": 39,
        "rows": 2
       }
      },
      "text/html": [
       "<div>\n",
       "<style scoped>\n",
       "    .dataframe tbody tr th:only-of-type {\n",
       "        vertical-align: middle;\n",
       "    }\n",
       "\n",
       "    .dataframe tbody tr th {\n",
       "        vertical-align: top;\n",
       "    }\n",
       "\n",
       "    .dataframe thead th {\n",
       "        text-align: right;\n",
       "    }\n",
       "</style>\n",
       "<table border=\"1\" class=\"dataframe\">\n",
       "  <thead>\n",
       "    <tr style=\"text-align: right;\">\n",
       "      <th></th>\n",
       "      <th>SITE</th>\n",
       "      <th>SITE DESCRIPTION</th>\n",
       "      <th>SUPPLIER NO</th>\n",
       "      <th>SUPPLIER NAME</th>\n",
       "      <th>INVOICE ID</th>\n",
       "      <th>INVOICE NO</th>\n",
       "      <th>DATE POSTED</th>\n",
       "      <th>PROJECT ID</th>\n",
       "      <th>PROJECT NAME</th>\n",
       "      <th>ACCOUNT</th>\n",
       "      <th>...</th>\n",
       "      <th>Description</th>\n",
       "      <th>Old/New</th>\n",
       "      <th>Priority</th>\n",
       "      <th>Match Commodity</th>\n",
       "      <th>Supplier Name</th>\n",
       "      <th>Match Supplier</th>\n",
       "      <th>new commodity description</th>\n",
       "      <th>new commodity group</th>\n",
       "      <th>Classification</th>\n",
       "      <th>conversion_code</th>\n",
       "    </tr>\n",
       "  </thead>\n",
       "  <tbody>\n",
       "    <tr>\n",
       "      <th>0</th>\n",
       "      <td>BNB</td>\n",
       "      <td>Beckers New Brighton</td>\n",
       "      <td>102548</td>\n",
       "      <td>Lonseal Flooring</td>\n",
       "      <td>433731</td>\n",
       "      <td>0007795-CM</td>\n",
       "      <td>3-Jan-24</td>\n",
       "      <td>2311121922</td>\n",
       "      <td>REGIONS HOSPITAL 4TH MRI</td>\n",
       "      <td>5400</td>\n",
       "      <td>...</td>\n",
       "      <td>NaN</td>\n",
       "      <td>NaN</td>\n",
       "      <td>NaN</td>\n",
       "      <td>Commodity Not Found</td>\n",
       "      <td>NaN</td>\n",
       "      <td>No supplier found</td>\n",
       "      <td>nan</td>\n",
       "      <td>NaN</td>\n",
       "      <td>No UOM</td>\n",
       "      <td>nan_nan_nan</td>\n",
       "    </tr>\n",
       "    <tr>\n",
       "      <th>1</th>\n",
       "      <td>BNB</td>\n",
       "      <td>Beckers New Brighton</td>\n",
       "      <td>104716</td>\n",
       "      <td>Hank's Specialties</td>\n",
       "      <td>433340</td>\n",
       "      <td>173373</td>\n",
       "      <td>3-Jan-24</td>\n",
       "      <td>2312127706</td>\n",
       "      <td>UOFM MOLECULAR &amp; CELLULAR BIOLOGY P</td>\n",
       "      <td>2008</td>\n",
       "      <td>...</td>\n",
       "      <td>Accessories</td>\n",
       "      <td>New Commodity</td>\n",
       "      <td>No</td>\n",
       "      <td>Commodity Found</td>\n",
       "      <td>NaN</td>\n",
       "      <td>No supplier found</td>\n",
       "      <td>Accessories</td>\n",
       "      <td>1ACC</td>\n",
       "      <td>Unclassified</td>\n",
       "      <td>Accessories_1ACC_EA</td>\n",
       "    </tr>\n",
       "  </tbody>\n",
       "</table>\n",
       "<p>2 rows × 39 columns</p>\n",
       "</div>"
      ],
      "text/plain": [
       "  SITE      SITE DESCRIPTION SUPPLIER NO       SUPPLIER NAME  INVOICE ID  \\\n",
       "0  BNB  Beckers New Brighton      102548    Lonseal Flooring      433731   \n",
       "1  BNB  Beckers New Brighton      104716  Hank's Specialties      433340   \n",
       "\n",
       "   INVOICE NO DATE POSTED  PROJECT ID                         PROJECT NAME  \\\n",
       "0  0007795-CM    3-Jan-24  2311121922             REGIONS HOSPITAL 4TH MRI   \n",
       "1      173373    3-Jan-24  2312127706  UOFM MOLECULAR & CELLULAR BIOLOGY P   \n",
       "\n",
       "   ACCOUNT  ...  Description        Old/New Priority      Match Commodity  \\\n",
       "0     5400  ...          NaN            NaN      NaN  Commodity Not Found   \n",
       "1     2008  ...  Accessories  New Commodity       No      Commodity Found   \n",
       "\n",
       "  Supplier Name     Match Supplier  new commodity description  \\\n",
       "0           NaN  No supplier found                        nan   \n",
       "1           NaN  No supplier found                Accessories   \n",
       "\n",
       "  new commodity group Classification      conversion_code  \n",
       "0                 NaN         No UOM          nan_nan_nan  \n",
       "1                1ACC   Unclassified  Accessories_1ACC_EA  \n",
       "\n",
       "[2 rows x 39 columns]"
      ]
     },
     "execution_count": 11,
     "metadata": {},
     "output_type": "execute_result"
    }
   ],
   "source": [
    "# From this point df becomes default DB\n",
    "# Set the DataFrame to merged_df2 for further processing\n",
    "df = merged_df2\n",
    "\n",
    "# Normalize the 'INV UOM' column to handle case sensitivity and strip spaces\n",
    "df['INV UOM'] = df['INV UOM'].str.strip().str.upper()\n",
    "\n",
    "# Classify rows based on 'INV UOM' values\n",
    "df['Classification'] = df.apply(\n",
    "    lambda row: 'Classified' if row['INV UOM'] in ['SQFT', 'SQYD']\n",
    "    else ('No UOM' if pd.isna(row['INV UOM']) or row['INV UOM'] == '' else 'Unclassified'),\n",
    "    axis=1\n",
    ")\n",
    "# Create a new column 'conversion_code' based on the 'Description' + 'Comodity Group' + 'INV UOM' column\n",
    "df['conversion_code'] = df['new commodity description'].str.replace(' ', '_', regex=True).astype(str) + '_' + df['new commodity group'].astype(str) + '_' + df['INV UOM'].astype(str)\n",
    "df.head(2)"
   ]
  },
  {
   "cell_type": "code",
   "execution_count": 12,
   "id": "819e5fd1",
   "metadata": {},
   "outputs": [
    {
     "name": "stdout",
     "output_type": "stream",
     "text": [
      "Number of invoices where all ACCOUNT == 2008 are classified: 28052\n"
     ]
    }
   ],
   "source": [
    "# checking which of the rows in an invoice matching 2008 has unclassified items\n",
    "# Check if all rows with ACCOUNT == 2008 are classified\n",
    "# Step 1: Identify invoice IDs where ALL rows with ACCOUNT == 2008 are classified\n",
    "classified_invoice_ids = (\n",
    "    df[df['ACCOUNT'] == 2008]\n",
    "    .groupby('INVOICE ID')['Classification']\n",
    "    .apply(lambda x: all(x == 'Classified'))\n",
    ")\n",
    "\n",
    "# Step 2: Filter to only invoice IDs where ALL 2008 accounts are classified\n",
    "fully_classified_ids = classified_invoice_ids[classified_invoice_ids].index\n",
    "\n",
    "# Step 3: Create a new column to mark if entire invoice is considered classified (based on the 2008 rule)\n",
    "df['All Accounts 2008 Classified'] = df['INVOICE ID'].isin(fully_classified_ids)\n",
    "\n",
    "# Step 4: Count how many invoices meet this condition\n",
    "count_all_classified_invoices = df[df['All Accounts 2008 Classified']]['INVOICE ID'].nunique()\n",
    "\n",
    "print(f\"Number of invoices where all ACCOUNT == 2008 are classified: {count_all_classified_invoices}\")\n"
   ]
  },
  {
   "cell_type": "code",
   "execution_count": 13,
   "id": "25bd503f",
   "metadata": {},
   "outputs": [
    {
     "name": "stdout",
     "output_type": "stream",
     "text": [
      "Number of invoices where all ACCOUNT == 2008 have valid conversion codes: 8590\n"
     ]
    }
   ],
   "source": [
    "# Checking which of the rows in an invoice matching 2008 has existing conversion codes to area\n",
    "# Step 1: Identify invoice IDs where ALL rows with ACCOUNT == 2008 have existing conversion codes\n",
    "# 1. Load the rates table\n",
    "rates_df = pd.read_csv('../../app/conversion_table_standardized.csv')  # adjust path and filename\n",
    "# Step 1: Ensure consistent data types\n",
    "rates_df['conversion_code'] = rates_df['conversion_code'].astype(str)\n",
    "df['conversion_code'] = df['conversion_code'].astype(str)\n",
    "\n",
    "# Step 2: Create a set of valid conversion codes from the rates table\n",
    "valid_codes = set(rates_df['conversion_code'].unique())\n",
    "\n",
    "# Step 3: Filter only rows with ACCOUNT == 2008\n",
    "df_2008 = df[df['ACCOUNT'] == 2008].copy()\n",
    "\n",
    "# Step 4: For each INVOICE ID, check if all conversion codes for ACCOUNT 2008 are valid\n",
    "invoice_validity = df_2008.groupby('INVOICE ID')['conversion_code'].apply(\n",
    "    lambda codes: all(code in valid_codes for code in codes)\n",
    ")\n",
    "\n",
    "# Step 5: Get list of INVOICE IDs where all ACCOUNT 2008 codes are valid\n",
    "fully_valid_invoice_ids = invoice_validity[invoice_validity].index\n",
    "\n",
    "# Step 6: Create a new column in the main df that flags all rows for those invoices\n",
    "df['All 2008 Accounts Converted'] = df['INVOICE ID'].isin(fully_valid_invoice_ids)\n",
    "\n",
    "# Step 7: Count how many invoices meet this condition\n",
    "count_all_valid_invoices = df[df['All 2008 Accounts Converted']]['INVOICE ID'].nunique()\n",
    "\n",
    "print(f\"Number of invoices where all ACCOUNT == 2008 have valid conversion codes: {count_all_valid_invoices}\")\n"
   ]
  },
  {
   "cell_type": "code",
   "execution_count": 14,
   "id": "3d0600c0",
   "metadata": {},
   "outputs": [
    {
     "name": "stdout",
     "output_type": "stream",
     "text": [
      "Number of invoices with at least one freight line: 55942\n"
     ]
    }
   ],
   "source": [
    "# Step 1: Get INVOICE IDs that have at least one freight line (ACCOUNT == 5504)\n",
    "freight_invoice_ids = df[df['ACCOUNT'] == 5504]['INVOICE ID'].unique()\n",
    "\n",
    "# Step 2: Flag all rows where the INVOICE ID appears in that list\n",
    "df['Has Freight Line'] = df['INVOICE ID'].isin(freight_invoice_ids)\n",
    "# Step 3: Count how many invoices have at least one freight line\n",
    "count_freight_invoices = df[df['Has Freight Line']]['INVOICE ID'].nunique()\n",
    "\n",
    "print(f\"Number of invoices with at least one freight line: {count_freight_invoices}\")"
   ]
  },
  {
   "cell_type": "code",
   "execution_count": 15,
   "id": "8ba38be4",
   "metadata": {},
   "outputs": [
    {
     "name": "stdout",
     "output_type": "stream",
     "text": [
      "Number of invoices with multiple freight lines: 197\n"
     ]
    },
    {
     "data": {
      "application/vnd.microsoft.datawrangler.viewer.v0+json": {
       "columns": [
        {
         "name": "index",
         "rawType": "int64",
         "type": "integer"
        },
        {
         "name": "SITE",
         "rawType": "object",
         "type": "string"
        },
        {
         "name": "SITE DESCRIPTION",
         "rawType": "object",
         "type": "string"
        },
        {
         "name": "SUPPLIER NO",
         "rawType": "object",
         "type": "string"
        },
        {
         "name": "SUPPLIER NAME",
         "rawType": "object",
         "type": "string"
        },
        {
         "name": "INVOICE ID",
         "rawType": "int64",
         "type": "integer"
        },
        {
         "name": "INVOICE NO",
         "rawType": "object",
         "type": "string"
        },
        {
         "name": "DATE POSTED",
         "rawType": "object",
         "type": "string"
        },
        {
         "name": "PROJECT ID",
         "rawType": "object",
         "type": "string"
        },
        {
         "name": "PROJECT NAME",
         "rawType": "object",
         "type": "string"
        },
        {
         "name": "ACCOUNT",
         "rawType": "int64",
         "type": "integer"
        },
        {
         "name": "ACCOUNT DESCRIPTION",
         "rawType": "object",
         "type": "string"
        },
        {
         "name": "PLANNED DELIVERY DATE",
         "rawType": "object",
         "type": "string"
        },
        {
         "name": "SHIP TO ZIP",
         "rawType": "object",
         "type": "string"
        },
        {
         "name": "PO NO",
         "rawType": "object",
         "type": "string"
        },
        {
         "name": "PO LINE NO",
         "rawType": "object",
         "type": "string"
        },
        {
         "name": "PO REL NO",
         "rawType": "object",
         "type": "string"
        },
        {
         "name": "RECEIPT NO",
         "rawType": "float64",
         "type": "float"
        },
        {
         "name": "PART NO",
         "rawType": "object",
         "type": "string"
        },
        {
         "name": "PART DESCRIPTION",
         "rawType": "object",
         "type": "string"
        },
        {
         "name": "COMM 1",
         "rawType": "object",
         "type": "string"
        },
        {
         "name": "COMM 2",
         "rawType": "object",
         "type": "string"
        },
        {
         "name": "PO PURCH QTY",
         "rawType": "float64",
         "type": "float"
        },
        {
         "name": "PURCH UOM",
         "rawType": "object",
         "type": "string"
        },
        {
         "name": "PO INV QTY",
         "rawType": "float64",
         "type": "float"
        },
        {
         "name": "INV UOM",
         "rawType": "object",
         "type": "string"
        },
        {
         "name": "INVOICED LINE QTY",
         "rawType": "float64",
         "type": "float"
        },
        {
         "name": "INVOICE LINE TOTAL",
         "rawType": "float64",
         "type": "float"
        },
        {
         "name": "PO PRICE",
         "rawType": "float64",
         "type": "float"
        },
        {
         "name": "Commodity Group",
         "rawType": "object",
         "type": "string"
        },
        {
         "name": "Description",
         "rawType": "object",
         "type": "string"
        },
        {
         "name": "Old/New",
         "rawType": "object",
         "type": "string"
        },
        {
         "name": "Priority",
         "rawType": "object",
         "type": "string"
        },
        {
         "name": "Match Commodity",
         "rawType": "object",
         "type": "string"
        },
        {
         "name": "Supplier Name",
         "rawType": "object",
         "type": "string"
        },
        {
         "name": "Match Supplier",
         "rawType": "object",
         "type": "string"
        },
        {
         "name": "new commodity description",
         "rawType": "object",
         "type": "string"
        },
        {
         "name": "new commodity group",
         "rawType": "object",
         "type": "string"
        },
        {
         "name": "Classification",
         "rawType": "object",
         "type": "string"
        },
        {
         "name": "conversion_code",
         "rawType": "object",
         "type": "string"
        },
        {
         "name": "All Accounts 2008 Classified",
         "rawType": "bool",
         "type": "boolean"
        },
        {
         "name": "All 2008 Accounts Converted",
         "rawType": "bool",
         "type": "boolean"
        },
        {
         "name": "Has Freight Line",
         "rawType": "bool",
         "type": "boolean"
        },
        {
         "name": "Multiple Freight Lines",
         "rawType": "bool",
         "type": "boolean"
        }
       ],
       "conversionMethod": "pd.DataFrame",
       "ref": "a7fe3c6b-40c3-4378-800a-805f6c938c19",
       "rows": [
        [
         "0",
         "BNB",
         "Beckers New Brighton",
         "102548",
         "Lonseal Flooring",
         "433731",
         "0007795-CM",
         "3-Jan-24",
         "2311121922",
         "REGIONS HOSPITAL 4TH MRI",
         "5400",
         "PROJECT Sub-Contract Labor",
         null,
         null,
         null,
         null,
         null,
         null,
         null,
         null,
         "nan",
         null,
         null,
         null,
         null,
         null,
         null,
         "-600.0",
         null,
         null,
         null,
         null,
         null,
         "Commodity Not Found",
         null,
         "No supplier found",
         "nan",
         null,
         "No UOM",
         "nan_nan_nan",
         "False",
         "False",
         "False",
         "False"
        ],
        [
         "1",
         "BNB",
         "Beckers New Brighton",
         "104716",
         "Hank's Specialties",
         "433340",
         "173373",
         "3-Jan-24",
         "2312127706",
         "UOFM MOLECULAR & CELLULAR BIOLOGY P",
         "2008",
         "Received Not Yet Invoiced",
         "2-Jan-24",
         "55430",
         "48180",
         "9",
         "1",
         "1.0",
         "1000007968",
         "PROTECT ALL PRE-NOTCHED Z-BAR INSIDE CORNER ALUMINUM (864056A) 12\"X12\" ALUMINUM",
         "1ACC",
         "1ACC",
         "4.0",
         "EA",
         "4.0",
         "EA",
         "4.0",
         "18.4",
         "18.4",
         "1ACC",
         "Accessories",
         "New Commodity",
         "No",
         "Commodity Found",
         null,
         "No supplier found",
         "Accessories",
         "1ACC",
         "Unclassified",
         "Accessories_1ACC_EA",
         "False",
         "False",
         "True",
         "False"
        ]
       ],
       "shape": {
        "columns": 43,
        "rows": 2
       }
      },
      "text/html": [
       "<div>\n",
       "<style scoped>\n",
       "    .dataframe tbody tr th:only-of-type {\n",
       "        vertical-align: middle;\n",
       "    }\n",
       "\n",
       "    .dataframe tbody tr th {\n",
       "        vertical-align: top;\n",
       "    }\n",
       "\n",
       "    .dataframe thead th {\n",
       "        text-align: right;\n",
       "    }\n",
       "</style>\n",
       "<table border=\"1\" class=\"dataframe\">\n",
       "  <thead>\n",
       "    <tr style=\"text-align: right;\">\n",
       "      <th></th>\n",
       "      <th>SITE</th>\n",
       "      <th>SITE DESCRIPTION</th>\n",
       "      <th>SUPPLIER NO</th>\n",
       "      <th>SUPPLIER NAME</th>\n",
       "      <th>INVOICE ID</th>\n",
       "      <th>INVOICE NO</th>\n",
       "      <th>DATE POSTED</th>\n",
       "      <th>PROJECT ID</th>\n",
       "      <th>PROJECT NAME</th>\n",
       "      <th>ACCOUNT</th>\n",
       "      <th>...</th>\n",
       "      <th>Supplier Name</th>\n",
       "      <th>Match Supplier</th>\n",
       "      <th>new commodity description</th>\n",
       "      <th>new commodity group</th>\n",
       "      <th>Classification</th>\n",
       "      <th>conversion_code</th>\n",
       "      <th>All Accounts 2008 Classified</th>\n",
       "      <th>All 2008 Accounts Converted</th>\n",
       "      <th>Has Freight Line</th>\n",
       "      <th>Multiple Freight Lines</th>\n",
       "    </tr>\n",
       "  </thead>\n",
       "  <tbody>\n",
       "    <tr>\n",
       "      <th>0</th>\n",
       "      <td>BNB</td>\n",
       "      <td>Beckers New Brighton</td>\n",
       "      <td>102548</td>\n",
       "      <td>Lonseal Flooring</td>\n",
       "      <td>433731</td>\n",
       "      <td>0007795-CM</td>\n",
       "      <td>3-Jan-24</td>\n",
       "      <td>2311121922</td>\n",
       "      <td>REGIONS HOSPITAL 4TH MRI</td>\n",
       "      <td>5400</td>\n",
       "      <td>...</td>\n",
       "      <td>NaN</td>\n",
       "      <td>No supplier found</td>\n",
       "      <td>nan</td>\n",
       "      <td>NaN</td>\n",
       "      <td>No UOM</td>\n",
       "      <td>nan_nan_nan</td>\n",
       "      <td>False</td>\n",
       "      <td>False</td>\n",
       "      <td>False</td>\n",
       "      <td>False</td>\n",
       "    </tr>\n",
       "    <tr>\n",
       "      <th>1</th>\n",
       "      <td>BNB</td>\n",
       "      <td>Beckers New Brighton</td>\n",
       "      <td>104716</td>\n",
       "      <td>Hank's Specialties</td>\n",
       "      <td>433340</td>\n",
       "      <td>173373</td>\n",
       "      <td>3-Jan-24</td>\n",
       "      <td>2312127706</td>\n",
       "      <td>UOFM MOLECULAR &amp; CELLULAR BIOLOGY P</td>\n",
       "      <td>2008</td>\n",
       "      <td>...</td>\n",
       "      <td>NaN</td>\n",
       "      <td>No supplier found</td>\n",
       "      <td>Accessories</td>\n",
       "      <td>1ACC</td>\n",
       "      <td>Unclassified</td>\n",
       "      <td>Accessories_1ACC_EA</td>\n",
       "      <td>False</td>\n",
       "      <td>False</td>\n",
       "      <td>True</td>\n",
       "      <td>False</td>\n",
       "    </tr>\n",
       "  </tbody>\n",
       "</table>\n",
       "<p>2 rows × 43 columns</p>\n",
       "</div>"
      ],
      "text/plain": [
       "  SITE      SITE DESCRIPTION SUPPLIER NO       SUPPLIER NAME  INVOICE ID  \\\n",
       "0  BNB  Beckers New Brighton      102548    Lonseal Flooring      433731   \n",
       "1  BNB  Beckers New Brighton      104716  Hank's Specialties      433340   \n",
       "\n",
       "   INVOICE NO DATE POSTED  PROJECT ID                         PROJECT NAME  \\\n",
       "0  0007795-CM    3-Jan-24  2311121922             REGIONS HOSPITAL 4TH MRI   \n",
       "1      173373    3-Jan-24  2312127706  UOFM MOLECULAR & CELLULAR BIOLOGY P   \n",
       "\n",
       "   ACCOUNT  ... Supplier Name     Match Supplier new commodity description  \\\n",
       "0     5400  ...           NaN  No supplier found                       nan   \n",
       "1     2008  ...           NaN  No supplier found               Accessories   \n",
       "\n",
       "  new commodity group Classification      conversion_code  \\\n",
       "0                 NaN         No UOM          nan_nan_nan   \n",
       "1                1ACC   Unclassified  Accessories_1ACC_EA   \n",
       "\n",
       "   All Accounts 2008 Classified All 2008 Accounts Converted Has Freight Line  \\\n",
       "0                         False                       False            False   \n",
       "1                         False                       False             True   \n",
       "\n",
       "  Multiple Freight Lines  \n",
       "0                  False  \n",
       "1                  False  \n",
       "\n",
       "[2 rows x 43 columns]"
      ]
     },
     "execution_count": 15,
     "metadata": {},
     "output_type": "execute_result"
    }
   ],
   "source": [
    "# \n",
    "# Group by INVOICE ID and count the number of rows where ACCOUNT == 5504\n",
    "freight_count = df[df['ACCOUNT'] == 5504].groupby('INVOICE ID').size()\n",
    "\n",
    "# Flag invoices with more than 1 Project Freight line item\n",
    "df['Multiple Freight Lines'] = df['INVOICE ID'].map(freight_count > 1).fillna(False)\n",
    "# Step 4: Count how many invoices have multiple freight lines\n",
    "count_multiple_freight_invoices = df[df['Multiple Freight Lines']]['INVOICE ID'].nunique()\n",
    "\n",
    "print(f\"Number of invoices with multiple freight lines: {count_multiple_freight_invoices}\")\n",
    "\n",
    "# Display the updated DataFrame\n",
    "df.head(2)"
   ]
  },
  {
   "cell_type": "code",
   "execution_count": 16,
   "id": "75198a41",
   "metadata": {},
   "outputs": [
    {
     "name": "stdout",
     "output_type": "stream",
     "text": [
      "Number of invoices with multiple distinct parts: 47577\n"
     ]
    },
    {
     "data": {
      "application/vnd.microsoft.datawrangler.viewer.v0+json": {
       "columns": [
        {
         "name": "index",
         "rawType": "int64",
         "type": "integer"
        },
        {
         "name": "SITE",
         "rawType": "object",
         "type": "string"
        },
        {
         "name": "SITE DESCRIPTION",
         "rawType": "object",
         "type": "string"
        },
        {
         "name": "SUPPLIER NO",
         "rawType": "object",
         "type": "string"
        },
        {
         "name": "SUPPLIER NAME",
         "rawType": "object",
         "type": "string"
        },
        {
         "name": "INVOICE ID",
         "rawType": "int64",
         "type": "integer"
        },
        {
         "name": "INVOICE NO",
         "rawType": "object",
         "type": "string"
        },
        {
         "name": "DATE POSTED",
         "rawType": "object",
         "type": "string"
        },
        {
         "name": "PROJECT ID",
         "rawType": "object",
         "type": "string"
        },
        {
         "name": "PROJECT NAME",
         "rawType": "object",
         "type": "string"
        },
        {
         "name": "ACCOUNT",
         "rawType": "int64",
         "type": "integer"
        },
        {
         "name": "ACCOUNT DESCRIPTION",
         "rawType": "object",
         "type": "string"
        },
        {
         "name": "PLANNED DELIVERY DATE",
         "rawType": "object",
         "type": "string"
        },
        {
         "name": "SHIP TO ZIP",
         "rawType": "object",
         "type": "string"
        },
        {
         "name": "PO NO",
         "rawType": "object",
         "type": "string"
        },
        {
         "name": "PO LINE NO",
         "rawType": "object",
         "type": "string"
        },
        {
         "name": "PO REL NO",
         "rawType": "object",
         "type": "string"
        },
        {
         "name": "RECEIPT NO",
         "rawType": "float64",
         "type": "float"
        },
        {
         "name": "PART NO",
         "rawType": "object",
         "type": "string"
        },
        {
         "name": "PART DESCRIPTION",
         "rawType": "object",
         "type": "string"
        },
        {
         "name": "COMM 1",
         "rawType": "object",
         "type": "string"
        },
        {
         "name": "COMM 2",
         "rawType": "object",
         "type": "string"
        },
        {
         "name": "PO PURCH QTY",
         "rawType": "float64",
         "type": "float"
        },
        {
         "name": "PURCH UOM",
         "rawType": "object",
         "type": "string"
        },
        {
         "name": "PO INV QTY",
         "rawType": "float64",
         "type": "float"
        },
        {
         "name": "INV UOM",
         "rawType": "object",
         "type": "string"
        },
        {
         "name": "INVOICED LINE QTY",
         "rawType": "float64",
         "type": "float"
        },
        {
         "name": "INVOICE LINE TOTAL",
         "rawType": "float64",
         "type": "float"
        },
        {
         "name": "PO PRICE",
         "rawType": "float64",
         "type": "float"
        },
        {
         "name": "Commodity Group",
         "rawType": "object",
         "type": "string"
        },
        {
         "name": "Description",
         "rawType": "object",
         "type": "string"
        },
        {
         "name": "Old/New",
         "rawType": "object",
         "type": "string"
        },
        {
         "name": "Priority",
         "rawType": "object",
         "type": "string"
        },
        {
         "name": "Match Commodity",
         "rawType": "object",
         "type": "string"
        },
        {
         "name": "Supplier Name",
         "rawType": "object",
         "type": "string"
        },
        {
         "name": "Match Supplier",
         "rawType": "object",
         "type": "string"
        },
        {
         "name": "new commodity description",
         "rawType": "object",
         "type": "string"
        },
        {
         "name": "new commodity group",
         "rawType": "object",
         "type": "string"
        },
        {
         "name": "Classification",
         "rawType": "object",
         "type": "string"
        },
        {
         "name": "conversion_code",
         "rawType": "object",
         "type": "string"
        },
        {
         "name": "All Accounts 2008 Classified",
         "rawType": "bool",
         "type": "boolean"
        },
        {
         "name": "All 2008 Accounts Converted",
         "rawType": "bool",
         "type": "boolean"
        },
        {
         "name": "Has Freight Line",
         "rawType": "bool",
         "type": "boolean"
        },
        {
         "name": "Multiple Freight Lines",
         "rawType": "bool",
         "type": "boolean"
        },
        {
         "name": "Multiple Parts",
         "rawType": "bool",
         "type": "boolean"
        }
       ],
       "conversionMethod": "pd.DataFrame",
       "ref": "fae91069-0e9d-426d-b0da-759edb9678cf",
       "rows": [
        [
         "0",
         "BNB",
         "Beckers New Brighton",
         "102548",
         "Lonseal Flooring",
         "433731",
         "0007795-CM",
         "3-Jan-24",
         "2311121922",
         "REGIONS HOSPITAL 4TH MRI",
         "5400",
         "PROJECT Sub-Contract Labor",
         null,
         null,
         null,
         null,
         null,
         null,
         null,
         null,
         "nan",
         null,
         null,
         null,
         null,
         null,
         null,
         "-600.0",
         null,
         null,
         null,
         null,
         null,
         "Commodity Not Found",
         null,
         "No supplier found",
         "nan",
         null,
         "No UOM",
         "nan_nan_nan",
         "False",
         "False",
         "False",
         "False",
         "False"
        ],
        [
         "1",
         "BNB",
         "Beckers New Brighton",
         "104716",
         "Hank's Specialties",
         "433340",
         "173373",
         "3-Jan-24",
         "2312127706",
         "UOFM MOLECULAR & CELLULAR BIOLOGY P",
         "2008",
         "Received Not Yet Invoiced",
         "2-Jan-24",
         "55430",
         "48180",
         "9",
         "1",
         "1.0",
         "1000007968",
         "PROTECT ALL PRE-NOTCHED Z-BAR INSIDE CORNER ALUMINUM (864056A) 12\"X12\" ALUMINUM",
         "1ACC",
         "1ACC",
         "4.0",
         "EA",
         "4.0",
         "EA",
         "4.0",
         "18.4",
         "18.4",
         "1ACC",
         "Accessories",
         "New Commodity",
         "No",
         "Commodity Found",
         null,
         "No supplier found",
         "Accessories",
         "1ACC",
         "Unclassified",
         "Accessories_1ACC_EA",
         "False",
         "False",
         "True",
         "False",
         "True"
        ]
       ],
       "shape": {
        "columns": 44,
        "rows": 2
       }
      },
      "text/html": [
       "<div>\n",
       "<style scoped>\n",
       "    .dataframe tbody tr th:only-of-type {\n",
       "        vertical-align: middle;\n",
       "    }\n",
       "\n",
       "    .dataframe tbody tr th {\n",
       "        vertical-align: top;\n",
       "    }\n",
       "\n",
       "    .dataframe thead th {\n",
       "        text-align: right;\n",
       "    }\n",
       "</style>\n",
       "<table border=\"1\" class=\"dataframe\">\n",
       "  <thead>\n",
       "    <tr style=\"text-align: right;\">\n",
       "      <th></th>\n",
       "      <th>SITE</th>\n",
       "      <th>SITE DESCRIPTION</th>\n",
       "      <th>SUPPLIER NO</th>\n",
       "      <th>SUPPLIER NAME</th>\n",
       "      <th>INVOICE ID</th>\n",
       "      <th>INVOICE NO</th>\n",
       "      <th>DATE POSTED</th>\n",
       "      <th>PROJECT ID</th>\n",
       "      <th>PROJECT NAME</th>\n",
       "      <th>ACCOUNT</th>\n",
       "      <th>...</th>\n",
       "      <th>Match Supplier</th>\n",
       "      <th>new commodity description</th>\n",
       "      <th>new commodity group</th>\n",
       "      <th>Classification</th>\n",
       "      <th>conversion_code</th>\n",
       "      <th>All Accounts 2008 Classified</th>\n",
       "      <th>All 2008 Accounts Converted</th>\n",
       "      <th>Has Freight Line</th>\n",
       "      <th>Multiple Freight Lines</th>\n",
       "      <th>Multiple Parts</th>\n",
       "    </tr>\n",
       "  </thead>\n",
       "  <tbody>\n",
       "    <tr>\n",
       "      <th>0</th>\n",
       "      <td>BNB</td>\n",
       "      <td>Beckers New Brighton</td>\n",
       "      <td>102548</td>\n",
       "      <td>Lonseal Flooring</td>\n",
       "      <td>433731</td>\n",
       "      <td>0007795-CM</td>\n",
       "      <td>3-Jan-24</td>\n",
       "      <td>2311121922</td>\n",
       "      <td>REGIONS HOSPITAL 4TH MRI</td>\n",
       "      <td>5400</td>\n",
       "      <td>...</td>\n",
       "      <td>No supplier found</td>\n",
       "      <td>nan</td>\n",
       "      <td>NaN</td>\n",
       "      <td>No UOM</td>\n",
       "      <td>nan_nan_nan</td>\n",
       "      <td>False</td>\n",
       "      <td>False</td>\n",
       "      <td>False</td>\n",
       "      <td>False</td>\n",
       "      <td>False</td>\n",
       "    </tr>\n",
       "    <tr>\n",
       "      <th>1</th>\n",
       "      <td>BNB</td>\n",
       "      <td>Beckers New Brighton</td>\n",
       "      <td>104716</td>\n",
       "      <td>Hank's Specialties</td>\n",
       "      <td>433340</td>\n",
       "      <td>173373</td>\n",
       "      <td>3-Jan-24</td>\n",
       "      <td>2312127706</td>\n",
       "      <td>UOFM MOLECULAR &amp; CELLULAR BIOLOGY P</td>\n",
       "      <td>2008</td>\n",
       "      <td>...</td>\n",
       "      <td>No supplier found</td>\n",
       "      <td>Accessories</td>\n",
       "      <td>1ACC</td>\n",
       "      <td>Unclassified</td>\n",
       "      <td>Accessories_1ACC_EA</td>\n",
       "      <td>False</td>\n",
       "      <td>False</td>\n",
       "      <td>True</td>\n",
       "      <td>False</td>\n",
       "      <td>True</td>\n",
       "    </tr>\n",
       "  </tbody>\n",
       "</table>\n",
       "<p>2 rows × 44 columns</p>\n",
       "</div>"
      ],
      "text/plain": [
       "  SITE      SITE DESCRIPTION SUPPLIER NO       SUPPLIER NAME  INVOICE ID  \\\n",
       "0  BNB  Beckers New Brighton      102548    Lonseal Flooring      433731   \n",
       "1  BNB  Beckers New Brighton      104716  Hank's Specialties      433340   \n",
       "\n",
       "   INVOICE NO DATE POSTED  PROJECT ID                         PROJECT NAME  \\\n",
       "0  0007795-CM    3-Jan-24  2311121922             REGIONS HOSPITAL 4TH MRI   \n",
       "1      173373    3-Jan-24  2312127706  UOFM MOLECULAR & CELLULAR BIOLOGY P   \n",
       "\n",
       "   ACCOUNT  ...     Match Supplier new commodity description  \\\n",
       "0     5400  ...  No supplier found                       nan   \n",
       "1     2008  ...  No supplier found               Accessories   \n",
       "\n",
       "  new commodity group Classification      conversion_code  \\\n",
       "0                 NaN         No UOM          nan_nan_nan   \n",
       "1                1ACC   Unclassified  Accessories_1ACC_EA   \n",
       "\n",
       "  All Accounts 2008 Classified  All 2008 Accounts Converted Has Freight Line  \\\n",
       "0                        False                        False            False   \n",
       "1                        False                        False             True   \n",
       "\n",
       "  Multiple Freight Lines Multiple Parts  \n",
       "0                  False          False  \n",
       "1                  False           True  \n",
       "\n",
       "[2 rows x 44 columns]"
      ]
     },
     "execution_count": 16,
     "metadata": {},
     "output_type": "execute_result"
    }
   ],
   "source": [
    "# Step 1: Filter the DataFrame to only include rows where ACCOUNT == 2008\n",
    "# These represent \"Part Component\" line items we're interested in\n",
    "df_2008 = df[df['ACCOUNT'] == 2008]\n",
    "\n",
    "# Step 2: Group by INVOICE ID and count the number of distinct partnumbers per invoice\n",
    "# This tells us how many unique parts are associated with each invoice\n",
    "component_count = df_2008.groupby('INVOICE ID')['PART NO'].nunique()\n",
    "\n",
    "# Step 3: Create a new column 'Multiple Parts' in the main DataFrame\n",
    "# For each INVOICE ID, mark True if it has more than one unique partnumber; otherwise False\n",
    "# Invoices without any ACCOUNT == 2008 lines will get NaN, so we fill those with False\n",
    "df['Multiple Parts'] = df['INVOICE ID'].map(component_count > 1).fillna(False)\n",
    "\n",
    "# Step 4: Count how many invoices have multiple distinct part components\n",
    "count_multiple_parts_invoices = df[df['Multiple Parts']]['INVOICE ID'].nunique()\n",
    "\n",
    "# Step 5: Print the result for quick validation\n",
    "print(f\"Number of invoices with multiple distinct parts: {count_multiple_parts_invoices}\")\n",
    "\n",
    "# Step 6: Preview the updated DataFrame\n",
    "df.head(2)\n"
   ]
  },
  {
   "cell_type": "code",
   "execution_count": 17,
   "id": "8b1a93b6",
   "metadata": {},
   "outputs": [
    {
     "name": "stdout",
     "output_type": "stream",
     "text": [
      "Number of invoices where all ACCOUNT == 2008 have Priority == 'Yes': 17084\n"
     ]
    }
   ],
   "source": [
    "# Step 1: Filter to ACCOUNT == 2008\n",
    "df_2008 = df[df['ACCOUNT'] == 2008]\n",
    "\n",
    "# Step 2: For each invoice, check if all rows with ACCOUNT == 2008 have Priority == 'Yes'\n",
    "priority_flag = df_2008.groupby('INVOICE ID')['Priority'].apply(\n",
    "    lambda x: all(x == 'Yes')\n",
    ")\n",
    "\n",
    "# Step 3: Get invoice IDs where all ACCOUNT 2008 rows have Priority == 'Yes'\n",
    "priority_invoice_ids = priority_flag[priority_flag].index\n",
    "\n",
    "# Step 4: Flag those invoice IDs across the full dataframe\n",
    "df['All Priority Products (2008)'] = df['INVOICE ID'].isin(priority_invoice_ids)   \n",
    "# Step 5: Count how many invoices meet this condition\n",
    "count_priority_invoices = df[df['All Priority Products (2008)']]['INVOICE ID'].nunique()\n",
    "\n",
    "# Step 6: Print the result for quick validation\n",
    "print(f\"Number of invoices where all ACCOUNT == 2008 have Priority == 'Yes': {count_priority_invoices}\")\n"
   ]
  },
  {
   "cell_type": "code",
   "execution_count": 18,
   "id": "f2455389",
   "metadata": {},
   "outputs": [
    {
     "name": "stdout",
     "output_type": "stream",
     "text": [
      "Number of invoices where at least one ACCOUNT == 2008 has Priority == 'Yes': 23536\n"
     ]
    }
   ],
   "source": [
    "# True if at least one ACCOUNT == 2008 line in the invoice has Priority == 'Yes'\n",
    "priority_flag_any = df_2008.groupby('INVOICE ID')['Priority'].apply(lambda x: any(x == 'Yes'))\n",
    "priority_invoice_ids_any = priority_flag_any[priority_flag_any].index\n",
    "df['Any Priority Product (2008)'] = df['INVOICE ID'].isin(priority_invoice_ids_any)\n",
    "# Step 5: Count how many invoices meet this condition\n",
    "count_any_priority_invoices = df[df['Any Priority Product (2008)']]['INVOICE ID'].nunique()\n",
    "\n",
    "# Step 6: Print the result for quick validation\n",
    "print(f\"Number of invoices where at least one ACCOUNT == 2008 has Priority == 'Yes': {count_any_priority_invoices}\")"
   ]
  },
  {
   "cell_type": "code",
   "execution_count": 19,
   "id": "6d0bb157",
   "metadata": {},
   "outputs": [],
   "source": [
    "\n",
    "template_columns = ['PROJECT ID','PROJECT NAME','PO NO','ACCOUNT', 'ACCOUNT DESCRIPTION',\n",
    "                     'SITE','SITE DESCRIPTION',\n",
    "                     'SUPPLIER NO', 'SUPPLIER NAME', \n",
    "                     'PART NO', 'PART DESCRIPTION',\n",
    "                    'INVOICED LINE QTY','INVOICE ID',\n",
    "                    'INVOICE NO','INV UOM','COMM 1','COMM 2',\n",
    "                    'Commodity Group', 'Description',\n",
    "                    'Old/New', 'Priority', 'Classification',\n",
    "                    'conversion_code','INVOICE LINE TOTAL',\n",
    "                    'Has Freight Line','Multiple Freight Lines',\n",
    "                    'Multiple Parts','All Priority Products (2008)',\n",
    "                    'Any Priority Product (2008)','Match Commodity','Match Supplier','new commodity description',\n",
    "                    'new commodity group','All Accounts 2008 Classified','All 2008 Accounts Converted']"
   ]
  },
  {
   "cell_type": "code",
   "execution_count": 20,
   "id": "81b8cb0d",
   "metadata": {},
   "outputs": [
    {
     "data": {
      "application/vnd.microsoft.datawrangler.viewer.v0+json": {
       "columns": [
        {
         "name": "index",
         "rawType": "int64",
         "type": "integer"
        },
        {
         "name": "project_id",
         "rawType": "object",
         "type": "string"
        },
        {
         "name": "project_name",
         "rawType": "object",
         "type": "string"
        },
        {
         "name": "po_no",
         "rawType": "object",
         "type": "string"
        },
        {
         "name": "account",
         "rawType": "int64",
         "type": "integer"
        },
        {
         "name": "account_description",
         "rawType": "object",
         "type": "string"
        },
        {
         "name": "siteid",
         "rawType": "object",
         "type": "string"
        },
        {
         "name": "site",
         "rawType": "object",
         "type": "string"
        },
        {
         "name": "supplierid",
         "rawType": "object",
         "type": "string"
        },
        {
         "name": "suppliername",
         "rawType": "object",
         "type": "string"
        },
        {
         "name": "partnumber",
         "rawType": "object",
         "type": "string"
        },
        {
         "name": "partdescription",
         "rawType": "object",
         "type": "string"
        },
        {
         "name": "quantity",
         "rawType": "float64",
         "type": "float"
        },
        {
         "name": "invoice_id",
         "rawType": "int64",
         "type": "integer"
        },
        {
         "name": "invoice_no",
         "rawType": "object",
         "type": "string"
        },
        {
         "name": "uom",
         "rawType": "object",
         "type": "string"
        },
        {
         "name": "comm1",
         "rawType": "object",
         "type": "string"
        },
        {
         "name": "comm2",
         "rawType": "object",
         "type": "string"
        },
        {
         "name": "commodity_group",
         "rawType": "object",
         "type": "string"
        },
        {
         "name": "commoditydescription",
         "rawType": "object",
         "type": "string"
        },
        {
         "name": "old_new",
         "rawType": "object",
         "type": "string"
        },
        {
         "name": "priority",
         "rawType": "object",
         "type": "string"
        },
        {
         "name": "classification",
         "rawType": "object",
         "type": "string"
        },
        {
         "name": "conversion_code",
         "rawType": "object",
         "type": "string"
        },
        {
         "name": "invoice_line_total",
         "rawType": "float64",
         "type": "float"
        },
        {
         "name": "freight_invoice",
         "rawType": "bool",
         "type": "boolean"
        },
        {
         "name": "multiple_freight_lines",
         "rawType": "bool",
         "type": "boolean"
        },
        {
         "name": "multiple_parts",
         "rawType": "bool",
         "type": "boolean"
        },
        {
         "name": "all_priority_products",
         "rawType": "bool",
         "type": "boolean"
        },
        {
         "name": "any_priority_products",
         "rawType": "bool",
         "type": "boolean"
        },
        {
         "name": "match_commodity",
         "rawType": "object",
         "type": "string"
        },
        {
         "name": "match_supplier",
         "rawType": "object",
         "type": "string"
        },
        {
         "name": "new_commodity_description",
         "rawType": "object",
         "type": "string"
        },
        {
         "name": "new_commodity_group",
         "rawType": "object",
         "type": "string"
        },
        {
         "name": "all_accounts_2008_classified",
         "rawType": "bool",
         "type": "boolean"
        },
        {
         "name": "all_2008_accounts_converted",
         "rawType": "bool",
         "type": "boolean"
        }
       ],
       "conversionMethod": "pd.DataFrame",
       "ref": "4896c528-981c-47b5-ae1f-21c61203b963",
       "rows": [
        [
         "0",
         "2311121922",
         "REGIONS HOSPITAL 4TH MRI",
         null,
         "5400",
         "PROJECT Sub-Contract Labor",
         "BNB",
         "Beckers New Brighton",
         "102548",
         "Lonseal Flooring",
         null,
         null,
         null,
         "433731",
         "0007795-CM",
         null,
         "nan",
         null,
         null,
         null,
         null,
         null,
         "No UOM",
         "nan_nan_nan",
         "-600.0",
         "False",
         "False",
         "False",
         "False",
         "False",
         "Commodity Not Found",
         "No supplier found",
         "nan",
         null,
         "False",
         "False"
        ],
        [
         "1",
         "2312127706",
         "UOFM MOLECULAR & CELLULAR BIOLOGY P",
         "48180",
         "2008",
         "Received Not Yet Invoiced",
         "BNB",
         "Beckers New Brighton",
         "104716",
         "Hank's Specialties",
         "1000007968",
         "PROTECT ALL PRE-NOTCHED Z-BAR INSIDE CORNER ALUMINUM (864056A) 12\"X12\" ALUMINUM",
         "4.0",
         "433340",
         "173373",
         "EA",
         "1ACC",
         "1ACC",
         "1ACC",
         "Accessories",
         "New Commodity",
         "No",
         "Unclassified",
         "Accessories_1ACC_EA",
         "18.4",
         "True",
         "False",
         "True",
         "False",
         "True",
         "Commodity Found",
         "No supplier found",
         "Accessories",
         "1ACC",
         "False",
         "False"
        ],
        [
         "2",
         "2312127706",
         "UOFM MOLECULAR & CELLULAR BIOLOGY P",
         "48180",
         "2008",
         "Received Not Yet Invoiced",
         "BNB",
         "Beckers New Brighton",
         "104716",
         "Hank's Specialties",
         "1000008162",
         "PROTECT ALL Z BAR DARK GRAY VINYL COVE CAP 8' (864052) 8' DARK GRAY",
         "7.0",
         "433340",
         "173373",
         "EA",
         "1TRAN",
         "2ALL",
         "1TRAN",
         "Transitions",
         "New Commodity",
         "No",
         "Unclassified",
         "Transitions_1TRAN_EA",
         "45.36",
         "True",
         "False",
         "True",
         "False",
         "True",
         "Commodity Found",
         "No supplier found",
         "Transitions",
         "1TRAN",
         "False",
         "False"
        ],
        [
         "3",
         "2312127706",
         "UOFM MOLECULAR & CELLULAR BIOLOGY P",
         "48180",
         "5504",
         "PROJECT Freight",
         "BNB",
         "Beckers New Brighton",
         "104716",
         "Hank's Specialties",
         null,
         null,
         null,
         "433340",
         "173373",
         null,
         "nan",
         null,
         null,
         null,
         null,
         null,
         "No UOM",
         "nan_nan_nan",
         "50.0",
         "True",
         "False",
         "True",
         "False",
         "True",
         "Commodity Not Found",
         "No supplier found",
         "nan",
         null,
         "False",
         "False"
        ],
        [
         "4",
         "2312127706",
         "UOFM MOLECULAR & CELLULAR BIOLOGY P",
         "48180",
         "2015",
         "Sales Tax Payable",
         "BNB",
         "Beckers New Brighton",
         "104716",
         "Hank's Specialties",
         null,
         null,
         null,
         "433340",
         "173373",
         null,
         "nan",
         null,
         null,
         null,
         null,
         null,
         "No UOM",
         "nan_nan_nan",
         "151.42",
         "True",
         "False",
         "True",
         "False",
         "True",
         "Commodity Not Found",
         "No supplier found",
         "nan",
         null,
         "False",
         "False"
        ]
       ],
       "shape": {
        "columns": 35,
        "rows": 5
       }
      },
      "text/html": [
       "<div>\n",
       "<style scoped>\n",
       "    .dataframe tbody tr th:only-of-type {\n",
       "        vertical-align: middle;\n",
       "    }\n",
       "\n",
       "    .dataframe tbody tr th {\n",
       "        vertical-align: top;\n",
       "    }\n",
       "\n",
       "    .dataframe thead th {\n",
       "        text-align: right;\n",
       "    }\n",
       "</style>\n",
       "<table border=\"1\" class=\"dataframe\">\n",
       "  <thead>\n",
       "    <tr style=\"text-align: right;\">\n",
       "      <th></th>\n",
       "      <th>project_id</th>\n",
       "      <th>project_name</th>\n",
       "      <th>po_no</th>\n",
       "      <th>account</th>\n",
       "      <th>account_description</th>\n",
       "      <th>siteid</th>\n",
       "      <th>site</th>\n",
       "      <th>supplierid</th>\n",
       "      <th>suppliername</th>\n",
       "      <th>partnumber</th>\n",
       "      <th>...</th>\n",
       "      <th>multiple_freight_lines</th>\n",
       "      <th>multiple_parts</th>\n",
       "      <th>all_priority_products</th>\n",
       "      <th>any_priority_products</th>\n",
       "      <th>match_commodity</th>\n",
       "      <th>match_supplier</th>\n",
       "      <th>new_commodity_description</th>\n",
       "      <th>new_commodity_group</th>\n",
       "      <th>all_accounts_2008_classified</th>\n",
       "      <th>all_2008_accounts_converted</th>\n",
       "    </tr>\n",
       "  </thead>\n",
       "  <tbody>\n",
       "    <tr>\n",
       "      <th>0</th>\n",
       "      <td>2311121922</td>\n",
       "      <td>REGIONS HOSPITAL 4TH MRI</td>\n",
       "      <td>NaN</td>\n",
       "      <td>5400</td>\n",
       "      <td>PROJECT Sub-Contract Labor</td>\n",
       "      <td>BNB</td>\n",
       "      <td>Beckers New Brighton</td>\n",
       "      <td>102548</td>\n",
       "      <td>Lonseal Flooring</td>\n",
       "      <td>NaN</td>\n",
       "      <td>...</td>\n",
       "      <td>False</td>\n",
       "      <td>False</td>\n",
       "      <td>False</td>\n",
       "      <td>False</td>\n",
       "      <td>Commodity Not Found</td>\n",
       "      <td>No supplier found</td>\n",
       "      <td>nan</td>\n",
       "      <td>NaN</td>\n",
       "      <td>False</td>\n",
       "      <td>False</td>\n",
       "    </tr>\n",
       "    <tr>\n",
       "      <th>1</th>\n",
       "      <td>2312127706</td>\n",
       "      <td>UOFM MOLECULAR &amp; CELLULAR BIOLOGY P</td>\n",
       "      <td>48180</td>\n",
       "      <td>2008</td>\n",
       "      <td>Received Not Yet Invoiced</td>\n",
       "      <td>BNB</td>\n",
       "      <td>Beckers New Brighton</td>\n",
       "      <td>104716</td>\n",
       "      <td>Hank's Specialties</td>\n",
       "      <td>1000007968</td>\n",
       "      <td>...</td>\n",
       "      <td>False</td>\n",
       "      <td>True</td>\n",
       "      <td>False</td>\n",
       "      <td>True</td>\n",
       "      <td>Commodity Found</td>\n",
       "      <td>No supplier found</td>\n",
       "      <td>Accessories</td>\n",
       "      <td>1ACC</td>\n",
       "      <td>False</td>\n",
       "      <td>False</td>\n",
       "    </tr>\n",
       "    <tr>\n",
       "      <th>2</th>\n",
       "      <td>2312127706</td>\n",
       "      <td>UOFM MOLECULAR &amp; CELLULAR BIOLOGY P</td>\n",
       "      <td>48180</td>\n",
       "      <td>2008</td>\n",
       "      <td>Received Not Yet Invoiced</td>\n",
       "      <td>BNB</td>\n",
       "      <td>Beckers New Brighton</td>\n",
       "      <td>104716</td>\n",
       "      <td>Hank's Specialties</td>\n",
       "      <td>1000008162</td>\n",
       "      <td>...</td>\n",
       "      <td>False</td>\n",
       "      <td>True</td>\n",
       "      <td>False</td>\n",
       "      <td>True</td>\n",
       "      <td>Commodity Found</td>\n",
       "      <td>No supplier found</td>\n",
       "      <td>Transitions</td>\n",
       "      <td>1TRAN</td>\n",
       "      <td>False</td>\n",
       "      <td>False</td>\n",
       "    </tr>\n",
       "    <tr>\n",
       "      <th>3</th>\n",
       "      <td>2312127706</td>\n",
       "      <td>UOFM MOLECULAR &amp; CELLULAR BIOLOGY P</td>\n",
       "      <td>48180</td>\n",
       "      <td>5504</td>\n",
       "      <td>PROJECT Freight</td>\n",
       "      <td>BNB</td>\n",
       "      <td>Beckers New Brighton</td>\n",
       "      <td>104716</td>\n",
       "      <td>Hank's Specialties</td>\n",
       "      <td>NaN</td>\n",
       "      <td>...</td>\n",
       "      <td>False</td>\n",
       "      <td>True</td>\n",
       "      <td>False</td>\n",
       "      <td>True</td>\n",
       "      <td>Commodity Not Found</td>\n",
       "      <td>No supplier found</td>\n",
       "      <td>nan</td>\n",
       "      <td>NaN</td>\n",
       "      <td>False</td>\n",
       "      <td>False</td>\n",
       "    </tr>\n",
       "    <tr>\n",
       "      <th>4</th>\n",
       "      <td>2312127706</td>\n",
       "      <td>UOFM MOLECULAR &amp; CELLULAR BIOLOGY P</td>\n",
       "      <td>48180</td>\n",
       "      <td>2015</td>\n",
       "      <td>Sales Tax Payable</td>\n",
       "      <td>BNB</td>\n",
       "      <td>Beckers New Brighton</td>\n",
       "      <td>104716</td>\n",
       "      <td>Hank's Specialties</td>\n",
       "      <td>NaN</td>\n",
       "      <td>...</td>\n",
       "      <td>False</td>\n",
       "      <td>True</td>\n",
       "      <td>False</td>\n",
       "      <td>True</td>\n",
       "      <td>Commodity Not Found</td>\n",
       "      <td>No supplier found</td>\n",
       "      <td>nan</td>\n",
       "      <td>NaN</td>\n",
       "      <td>False</td>\n",
       "      <td>False</td>\n",
       "    </tr>\n",
       "  </tbody>\n",
       "</table>\n",
       "<p>5 rows × 35 columns</p>\n",
       "</div>"
      ],
      "text/plain": [
       "   project_id                         project_name  po_no  account  \\\n",
       "0  2311121922             REGIONS HOSPITAL 4TH MRI    NaN     5400   \n",
       "1  2312127706  UOFM MOLECULAR & CELLULAR BIOLOGY P  48180     2008   \n",
       "2  2312127706  UOFM MOLECULAR & CELLULAR BIOLOGY P  48180     2008   \n",
       "3  2312127706  UOFM MOLECULAR & CELLULAR BIOLOGY P  48180     5504   \n",
       "4  2312127706  UOFM MOLECULAR & CELLULAR BIOLOGY P  48180     2015   \n",
       "\n",
       "          account_description siteid                  site supplierid  \\\n",
       "0  PROJECT Sub-Contract Labor    BNB  Beckers New Brighton     102548   \n",
       "1   Received Not Yet Invoiced    BNB  Beckers New Brighton     104716   \n",
       "2   Received Not Yet Invoiced    BNB  Beckers New Brighton     104716   \n",
       "3             PROJECT Freight    BNB  Beckers New Brighton     104716   \n",
       "4           Sales Tax Payable    BNB  Beckers New Brighton     104716   \n",
       "\n",
       "         suppliername  partnumber  ... multiple_freight_lines  multiple_parts  \\\n",
       "0    Lonseal Flooring         NaN  ...                  False           False   \n",
       "1  Hank's Specialties  1000007968  ...                  False            True   \n",
       "2  Hank's Specialties  1000008162  ...                  False            True   \n",
       "3  Hank's Specialties         NaN  ...                  False            True   \n",
       "4  Hank's Specialties         NaN  ...                  False            True   \n",
       "\n",
       "   all_priority_products any_priority_products      match_commodity  \\\n",
       "0                  False                 False  Commodity Not Found   \n",
       "1                  False                  True      Commodity Found   \n",
       "2                  False                  True      Commodity Found   \n",
       "3                  False                  True  Commodity Not Found   \n",
       "4                  False                  True  Commodity Not Found   \n",
       "\n",
       "      match_supplier new_commodity_description new_commodity_group  \\\n",
       "0  No supplier found                       nan                 NaN   \n",
       "1  No supplier found               Accessories                1ACC   \n",
       "2  No supplier found               Transitions               1TRAN   \n",
       "3  No supplier found                       nan                 NaN   \n",
       "4  No supplier found                       nan                 NaN   \n",
       "\n",
       "  all_accounts_2008_classified all_2008_accounts_converted  \n",
       "0                        False                       False  \n",
       "1                        False                       False  \n",
       "2                        False                       False  \n",
       "3                        False                       False  \n",
       "4                        False                       False  \n",
       "\n",
       "[5 rows x 35 columns]"
      ]
     },
     "execution_count": 20,
     "metadata": {},
     "output_type": "execute_result"
    }
   ],
   "source": [
    "# Define the mapping of template columns to the desired column names\n",
    "column_mapping = {\n",
    "    \n",
    "    'PROJECT ID':'project_id',\n",
    "    'PROJECT NAME':'project_name',\n",
    "    'PO NO': 'po_no',\n",
    "    'INVOICE ID': 'invoice_id',\n",
    "    'INVOICE NO': 'invoice_no',\n",
    "    'ACCOUNT':'account', \n",
    "    'ACCOUNT DESCRIPTION':'account_description',\n",
    "    'SITE': 'siteid',\n",
    "    'SITE DESCRIPTION': 'site',\n",
    "    'SUPPLIER NO': 'supplierid',\n",
    "    'SUPPLIER NAME': 'suppliername',\n",
    "    'INVOICED LINE QTY': 'quantity',\n",
    "    'PART NO': 'partnumber',\n",
    "    'PART DESCRIPTION':'partdescription',\n",
    "    'COMM 1': 'comm1',\n",
    "    'COMM 2': 'comm2',\n",
    "    'Commodity Group': 'commodity_group',\n",
    "    'Description': 'commoditydescription',\n",
    "    'INV UOM': 'uom',\n",
    "    'Priority':'priority', \n",
    "    'Classification': 'classification',\n",
    "    'conversion_code': 'conversion_code',\n",
    "    'Old/New': 'old_new',\n",
    "    'Has Freight Line':'freight_invoice',\n",
    "    'INVOICE LINE TOTAL': 'invoice_line_total',\n",
    "    'Multiple Freight Lines':'multiple_freight_lines',\n",
    "    'Multiple Parts':'multiple_parts',\n",
    "    'All Priority Products (2008)':'all_priority_products',\n",
    "    'Any Priority Product (2008)':'any_priority_products',\n",
    "    'Match Commodity':'match_commodity',\n",
    "    'Match Supplier':'match_supplier',\n",
    "    'new commodity description':'new_commodity_description',\n",
    "    'new commodity group':'new_commodity_group',\n",
    "    'All Accounts 2008 Classified':'all_accounts_2008_classified',\n",
    "    'All 2008 Accounts Converted':'all_2008_accounts_converted'\n",
    "}\n",
    "\n",
    "# Rename the columns in the DataFrame\n",
    "mapped_df = df[template_columns].rename(columns=column_mapping)\n",
    "\n",
    "# Display the first few rows of the mapped DataFrame\n",
    "mapped_df.head()"
   ]
  },
  {
   "cell_type": "markdown",
   "id": "f086c6ad",
   "metadata": {},
   "source": [
    "## Structuring the sample sizing"
   ]
  },
  {
   "cell_type": "code",
   "execution_count": 21,
   "id": "761dff06",
   "metadata": {},
   "outputs": [
    {
     "data": {
      "text/plain": [
       "Index(['project_id', 'project_name', 'po_no', 'account', 'account_description',\n",
       "       'siteid', 'site', 'supplierid', 'suppliername', 'partnumber',\n",
       "       'partdescription', 'quantity', 'invoice_id', 'invoice_no', 'uom',\n",
       "       'comm1', 'comm2', 'commodity_group', 'commoditydescription', 'old_new',\n",
       "       'priority', 'classification', 'conversion_code', 'invoice_line_total',\n",
       "       'freight_invoice', 'multiple_freight_lines', 'multiple_parts',\n",
       "       'all_priority_products', 'any_priority_products', 'match_commodity',\n",
       "       'match_supplier', 'new_commodity_description', 'new_commodity_group',\n",
       "       'all_accounts_2008_classified', 'all_2008_accounts_converted'],\n",
       "      dtype='object')"
      ]
     },
     "execution_count": 21,
     "metadata": {},
     "output_type": "execute_result"
    }
   ],
   "source": [
    "mapped_df.columns"
   ]
  },
  {
   "cell_type": "code",
   "execution_count": null,
   "id": "13b6cf0d",
   "metadata": {},
   "outputs": [],
   "source": []
  },
  {
   "cell_type": "code",
   "execution_count": 22,
   "id": "3c237724",
   "metadata": {},
   "outputs": [
    {
     "name": "stdout",
     "output_type": "stream",
     "text": [
      "\n",
      "=== Pre-Filter Summary Table (Unique Invoice Counts per Filter per Site) ===\n",
      "                               DIT   SPJ   SPN   SPT   SPW\n",
      "all_accounts_2008_classified   680   817  3745  2224  2319\n",
      "all_2008_accounts_converted    145   293  1205   618   709\n",
      "all_priority_products          832   451  2056  1136  1313\n",
      "freight_invoice               4848  1192  4532  3908  4102\n",
      "\n",
      "Total number of unique invoices in the filtered DataFrame: 2040\n",
      "\n",
      "Unique invoice count by site (after full filtering):\n",
      "siteid\n",
      "DIT    108\n",
      "SPJ    259\n",
      "SPN    477\n",
      "SPT    543\n",
      "SPW    653\n",
      "Name: invoice_id, dtype: int64\n",
      "\n",
      "=== Post-Filter Summary Table (Unique Invoice Counts per Filter per Site) ===\n",
      "                              DIT  SPJ  SPN  SPT  SPW\n",
      "all_accounts_2008_classified  108  259  477  543  653\n",
      "all_2008_accounts_converted   108  259  477  543  653\n",
      "all_priority_products         108  259  477  543  653\n",
      "freight_invoice               108  259  477  543  653\n",
      "\n",
      "=== Preview of Filtered Data ===\n",
      "       project_id                         project_name  po_no  account  \\\n",
      "49576  2311123624                 Rick Sidor Residence  47568     5504   \n",
      "49577  2311123624                 Rick Sidor Residence  47568     2008   \n",
      "50039   230485284  Epic Delphi Conference Room Refresh  40635     5205   \n",
      "50040   230485284  Epic Delphi Conference Room Refresh  40635     5504   \n",
      "50041   230485284  Epic Delphi Conference Room Refresh  40635     2008   \n",
      "\n",
      "                   account_description siteid              site supplierid  \\\n",
      "49576                  PROJECT Freight    DIT  Diverzify Itasca        890   \n",
      "49577        Received Not Yet Invoiced    DIT  Diverzify Itasca        890   \n",
      "50039  PROJECT PO Variance M181 & M182    DIT  Diverzify Itasca     108164   \n",
      "50040                  PROJECT Freight    DIT  Diverzify Itasca     108164   \n",
      "50041        Received Not Yet Invoiced    DIT  Diverzify Itasca     108164   \n",
      "\n",
      "                 suppliername  partnumber  ... multiple_freight_lines  \\\n",
      "49576            All Surfaces         NaN  ...                  False   \n",
      "49577            All Surfaces  1000008205  ...                  False   \n",
      "50039  Mannington Mills, Inc.         NaN  ...                  False   \n",
      "50040  Mannington Mills, Inc.         NaN  ...                  False   \n",
      "50041  Mannington Mills, Inc.  1000006036  ...                  False   \n",
      "\n",
      "       multiple_parts  all_priority_products any_priority_products  \\\n",
      "49576           False                   True                  True   \n",
      "49577           False                   True                  True   \n",
      "50039           False                   True                  True   \n",
      "50040           False                   True                  True   \n",
      "50041           False                   True                  True   \n",
      "\n",
      "           match_commodity       match_supplier new_commodity_description  \\\n",
      "49576  Commodity Not Found    No supplier found                       nan   \n",
      "49577      Commodity Found    No supplier found                       LVT   \n",
      "50039  Commodity Not Found  Supplier registered                       nan   \n",
      "50040  Commodity Not Found  Supplier registered                       nan   \n",
      "50041      Commodity Found  Supplier registered                       LVT   \n",
      "\n",
      "      new_commodity_group all_accounts_2008_classified  \\\n",
      "49576                 NaN                         True   \n",
      "49577                1VNL                         True   \n",
      "50039                 NaN                         True   \n",
      "50040                 NaN                         True   \n",
      "50041                1VNL                         True   \n",
      "\n",
      "      all_2008_accounts_converted  \n",
      "49576                        True  \n",
      "49577                        True  \n",
      "50039                        True  \n",
      "50040                        True  \n",
      "50041                        True  \n",
      "\n",
      "[5 rows x 35 columns]\n"
     ]
    }
   ],
   "source": [
    "# === Step 0: Define sites and filter columns ===\n",
    "#site_list = ['SPJ', 'SPT', 'SPW']\n",
    "site_list = ['DIT', 'SPJ', 'SPN', 'SPT', 'SPW']\n",
    "\n",
    "filter_columns = [\n",
    "    'all_accounts_2008_classified',\n",
    "    'all_2008_accounts_converted',\n",
    "    'all_priority_products',\n",
    "    'freight_invoice'\n",
    "]\n",
    "\n",
    "# === Step A: Pre-filter Summary Table ===\n",
    "summary_table = pd.DataFrame(index=filter_columns, columns=site_list)\n",
    "\n",
    "for f in filter_columns:\n",
    "    for site in site_list:\n",
    "        count = mapped_df[\n",
    "            (mapped_df['siteid'] == site) & (mapped_df[f] == True)\n",
    "        ]['invoice_id'].nunique()\n",
    "        summary_table.loc[f, site] = count\n",
    "\n",
    "# Print pre-filter summary table\n",
    "print(\"\\n=== Pre-Filter Summary Table (Unique Invoice Counts per Filter per Site) ===\")\n",
    "print(summary_table)\n",
    "\n",
    "# === Step B: Apply combined filters ===\n",
    "filtered_df = mapped_df[\n",
    "    (mapped_df['all_accounts_2008_classified'] == True) &\n",
    "    (mapped_df['all_2008_accounts_converted'] == True) &\n",
    "    (mapped_df['all_priority_products'] == True) &\n",
    "    (mapped_df['freight_invoice'] == True)\n",
    "]\n",
    "\n",
    "# === Step C: Apply site-specific filter ===\n",
    "filtered_df = filtered_df[filtered_df['siteid'].isin(site_list)]\n",
    "\n",
    "# === Step D: Count and print summary info ===\n",
    "unique_invoices_count = filtered_df['invoice_id'].nunique()\n",
    "print(f\"\\nTotal number of unique invoices in the filtered DataFrame: {unique_invoices_count}\")\n",
    "\n",
    "unique_invoices_per_site = filtered_df.groupby('siteid')['invoice_id'].nunique()\n",
    "print(\"\\nUnique invoice count by site (after full filtering):\")\n",
    "print(unique_invoices_per_site)\n",
    "\n",
    "# === Step E: Post-filter Summary Table ===\n",
    "summary_table_post_filter = pd.DataFrame(index=filter_columns, columns=site_list)\n",
    "\n",
    "for f in filter_columns:\n",
    "    for site in site_list:\n",
    "        count = filtered_df[\n",
    "            (filtered_df['siteid'] == site) & (filtered_df[f] == True)\n",
    "        ]['invoice_id'].nunique()\n",
    "        summary_table_post_filter.loc[f, site] = count\n",
    "\n",
    "# Print post-filter summary table\n",
    "print(\"\\n=== Post-Filter Summary Table (Unique Invoice Counts per Filter per Site) ===\")\n",
    "print(summary_table_post_filter)\n",
    "\n",
    "# === Step F: Preview filtered DataFrame ===\n",
    "print(\"\\n=== Preview of Filtered Data ===\")\n",
    "print(filtered_df.head())\n"
   ]
  },
  {
   "cell_type": "code",
   "execution_count": 23,
   "id": "0a58e122",
   "metadata": {},
   "outputs": [
    {
     "data": {
      "text/plain": [
       "Index(['project_id', 'project_name', 'po_no', 'account', 'account_description',\n",
       "       'siteid', 'site', 'supplierid', 'suppliername', 'partnumber',\n",
       "       'partdescription', 'quantity', 'invoice_id', 'invoice_no', 'uom',\n",
       "       'comm1', 'comm2', 'commodity_group', 'commoditydescription', 'old_new',\n",
       "       'priority', 'classification', 'conversion_code', 'invoice_line_total',\n",
       "       'freight_invoice', 'multiple_freight_lines', 'multiple_parts',\n",
       "       'all_priority_products', 'any_priority_products', 'match_commodity',\n",
       "       'match_supplier', 'new_commodity_description', 'new_commodity_group',\n",
       "       'all_accounts_2008_classified', 'all_2008_accounts_converted'],\n",
       "      dtype='object')"
      ]
     },
     "execution_count": 23,
     "metadata": {},
     "output_type": "execute_result"
    }
   ],
   "source": [
    "filtered_df.columns"
   ]
  },
  {
   "cell_type": "code",
   "execution_count": 24,
   "id": "1519a0b1",
   "metadata": {},
   "outputs": [
    {
     "data": {
      "application/vnd.microsoft.datawrangler.viewer.v0+json": {
       "columns": [
        {
         "name": "index",
         "rawType": "int64",
         "type": "integer"
        },
        {
         "name": "project_id",
         "rawType": "object",
         "type": "string"
        },
        {
         "name": "project_name",
         "rawType": "object",
         "type": "string"
        },
        {
         "name": "po_no",
         "rawType": "object",
         "type": "string"
        },
        {
         "name": "account",
         "rawType": "int64",
         "type": "integer"
        },
        {
         "name": "account_description",
         "rawType": "object",
         "type": "string"
        },
        {
         "name": "siteid",
         "rawType": "object",
         "type": "string"
        },
        {
         "name": "site",
         "rawType": "object",
         "type": "string"
        },
        {
         "name": "supplierid",
         "rawType": "object",
         "type": "string"
        },
        {
         "name": "suppliername",
         "rawType": "object",
         "type": "string"
        },
        {
         "name": "partnumber",
         "rawType": "object",
         "type": "string"
        },
        {
         "name": "partdescription",
         "rawType": "object",
         "type": "string"
        },
        {
         "name": "quantity",
         "rawType": "float64",
         "type": "float"
        },
        {
         "name": "invoice_id",
         "rawType": "int64",
         "type": "integer"
        },
        {
         "name": "invoice_no",
         "rawType": "object",
         "type": "string"
        },
        {
         "name": "uom",
         "rawType": "object",
         "type": "string"
        },
        {
         "name": "comm1",
         "rawType": "object",
         "type": "string"
        },
        {
         "name": "comm2",
         "rawType": "object",
         "type": "string"
        },
        {
         "name": "commodity_group",
         "rawType": "object",
         "type": "string"
        },
        {
         "name": "commoditydescription",
         "rawType": "object",
         "type": "string"
        },
        {
         "name": "old_new",
         "rawType": "object",
         "type": "string"
        },
        {
         "name": "priority",
         "rawType": "object",
         "type": "string"
        },
        {
         "name": "classification",
         "rawType": "object",
         "type": "string"
        },
        {
         "name": "conversion_code",
         "rawType": "object",
         "type": "string"
        },
        {
         "name": "invoice_line_total",
         "rawType": "float64",
         "type": "float"
        },
        {
         "name": "freight_invoice",
         "rawType": "bool",
         "type": "boolean"
        },
        {
         "name": "multiple_freight_lines",
         "rawType": "bool",
         "type": "boolean"
        },
        {
         "name": "multiple_parts",
         "rawType": "bool",
         "type": "boolean"
        },
        {
         "name": "all_priority_products",
         "rawType": "bool",
         "type": "boolean"
        },
        {
         "name": "any_priority_products",
         "rawType": "bool",
         "type": "boolean"
        },
        {
         "name": "match_commodity",
         "rawType": "object",
         "type": "string"
        },
        {
         "name": "match_supplier",
         "rawType": "object",
         "type": "string"
        },
        {
         "name": "new_commodity_description",
         "rawType": "object",
         "type": "string"
        },
        {
         "name": "new_commodity_group",
         "rawType": "object",
         "type": "string"
        },
        {
         "name": "all_accounts_2008_classified",
         "rawType": "bool",
         "type": "boolean"
        },
        {
         "name": "all_2008_accounts_converted",
         "rawType": "bool",
         "type": "boolean"
        },
        {
         "name": "freight_per_invoice",
         "rawType": "float64",
         "type": "float"
        }
       ],
       "conversionMethod": "pd.DataFrame",
       "ref": "8c4c0e8b-86ba-46d1-9551-f6a9c2e03efc",
       "rows": [
        [
         "0",
         "2311123624",
         "Rick Sidor Residence",
         "47568",
         "5504",
         "PROJECT Freight",
         "DIT",
         "Diverzify Itasca",
         "890",
         "All Surfaces",
         null,
         null,
         null,
         "443670",
         "5378334",
         null,
         "nan",
         null,
         null,
         null,
         null,
         null,
         "No UOM",
         "nan_nan_nan",
         "54.55",
         "True",
         "False",
         "False",
         "True",
         "True",
         "Commodity Not Found",
         "No supplier found",
         "nan",
         null,
         "True",
         "True",
         "54.55"
        ],
        [
         "1",
         "2311123624",
         "Rick Sidor Residence",
         "47568",
         "2008",
         "Received Not Yet Invoiced",
         "DIT",
         "Diverzify Itasca",
         "890",
         "All Surfaces",
         "1000008205",
         "FirmFit Casebella Stateside CWH-5773 6mm x 9.1\" x 60.3\" 22 mil Parkview LVT",
         "1013.89",
         "443670",
         "5378334",
         "SQFT",
         "1VNL",
         "2LVT",
         "1VNL",
         "Vinyl",
         "New Commodity",
         "Yes",
         "Classified",
         "LVT_1VNL_SQFT",
         "2727.36",
         "True",
         "False",
         "False",
         "True",
         "True",
         "Commodity Found",
         "No supplier found",
         "LVT",
         "1VNL",
         "True",
         "True",
         "54.55"
        ],
        [
         "2",
         "230485284",
         "Epic Delphi Conference Room Refresh",
         "40635",
         "5205",
         "PROJECT PO Variance M181 & M182",
         "DIT",
         "Diverzify Itasca",
         "108164",
         "Mannington Mills, Inc.",
         null,
         null,
         null,
         "454017",
         "98533229",
         null,
         "nan",
         null,
         null,
         null,
         null,
         null,
         "No UOM",
         "nan_nan_nan",
         "-21.6",
         "True",
         "False",
         "False",
         "True",
         "True",
         "Commodity Not Found",
         "Supplier registered",
         "nan",
         null,
         "True",
         "True",
         "49.55"
        ],
        [
         "3",
         "230485284",
         "Epic Delphi Conference Room Refresh",
         "40635",
         "5504",
         "PROJECT Freight",
         "DIT",
         "Diverzify Itasca",
         "108164",
         "Mannington Mills, Inc.",
         null,
         null,
         null,
         "454017",
         "98533229",
         null,
         "nan",
         null,
         null,
         null,
         null,
         null,
         "No UOM",
         "nan_nan_nan",
         "49.55",
         "True",
         "False",
         "False",
         "True",
         "True",
         "Commodity Not Found",
         "Supplier registered",
         "nan",
         null,
         "True",
         "True",
         "49.55"
        ],
        [
         "4",
         "230485284",
         "Epic Delphi Conference Room Refresh",
         "40635",
         "2008",
         "Received Not Yet Invoiced",
         "DIT",
         "Diverzify Itasca",
         "108164",
         "Mannington Mills, Inc.",
         "1000006036",
         "Mannington Amtico Stone 18in x 18in 2.5MM - Stria Sediment (AROSMS14)",
         "180.0",
         "454017",
         "98533229",
         "SQFT",
         "1VNL",
         "2LVT",
         "1VNL",
         "Vinyl",
         "New Commodity",
         "Yes",
         "Classified",
         "LVT_1VNL_SQFT",
         "846.0",
         "True",
         "False",
         "False",
         "True",
         "True",
         "Commodity Found",
         "Supplier registered",
         "LVT",
         "1VNL",
         "True",
         "True",
         "49.55"
        ]
       ],
       "shape": {
        "columns": 36,
        "rows": 5
       }
      },
      "text/html": [
       "<div>\n",
       "<style scoped>\n",
       "    .dataframe tbody tr th:only-of-type {\n",
       "        vertical-align: middle;\n",
       "    }\n",
       "\n",
       "    .dataframe tbody tr th {\n",
       "        vertical-align: top;\n",
       "    }\n",
       "\n",
       "    .dataframe thead th {\n",
       "        text-align: right;\n",
       "    }\n",
       "</style>\n",
       "<table border=\"1\" class=\"dataframe\">\n",
       "  <thead>\n",
       "    <tr style=\"text-align: right;\">\n",
       "      <th></th>\n",
       "      <th>project_id</th>\n",
       "      <th>project_name</th>\n",
       "      <th>po_no</th>\n",
       "      <th>account</th>\n",
       "      <th>account_description</th>\n",
       "      <th>siteid</th>\n",
       "      <th>site</th>\n",
       "      <th>supplierid</th>\n",
       "      <th>suppliername</th>\n",
       "      <th>partnumber</th>\n",
       "      <th>...</th>\n",
       "      <th>multiple_parts</th>\n",
       "      <th>all_priority_products</th>\n",
       "      <th>any_priority_products</th>\n",
       "      <th>match_commodity</th>\n",
       "      <th>match_supplier</th>\n",
       "      <th>new_commodity_description</th>\n",
       "      <th>new_commodity_group</th>\n",
       "      <th>all_accounts_2008_classified</th>\n",
       "      <th>all_2008_accounts_converted</th>\n",
       "      <th>freight_per_invoice</th>\n",
       "    </tr>\n",
       "  </thead>\n",
       "  <tbody>\n",
       "    <tr>\n",
       "      <th>0</th>\n",
       "      <td>2311123624</td>\n",
       "      <td>Rick Sidor Residence</td>\n",
       "      <td>47568</td>\n",
       "      <td>5504</td>\n",
       "      <td>PROJECT Freight</td>\n",
       "      <td>DIT</td>\n",
       "      <td>Diverzify Itasca</td>\n",
       "      <td>890</td>\n",
       "      <td>All Surfaces</td>\n",
       "      <td>NaN</td>\n",
       "      <td>...</td>\n",
       "      <td>False</td>\n",
       "      <td>True</td>\n",
       "      <td>True</td>\n",
       "      <td>Commodity Not Found</td>\n",
       "      <td>No supplier found</td>\n",
       "      <td>nan</td>\n",
       "      <td>NaN</td>\n",
       "      <td>True</td>\n",
       "      <td>True</td>\n",
       "      <td>54.55</td>\n",
       "    </tr>\n",
       "    <tr>\n",
       "      <th>1</th>\n",
       "      <td>2311123624</td>\n",
       "      <td>Rick Sidor Residence</td>\n",
       "      <td>47568</td>\n",
       "      <td>2008</td>\n",
       "      <td>Received Not Yet Invoiced</td>\n",
       "      <td>DIT</td>\n",
       "      <td>Diverzify Itasca</td>\n",
       "      <td>890</td>\n",
       "      <td>All Surfaces</td>\n",
       "      <td>1000008205</td>\n",
       "      <td>...</td>\n",
       "      <td>False</td>\n",
       "      <td>True</td>\n",
       "      <td>True</td>\n",
       "      <td>Commodity Found</td>\n",
       "      <td>No supplier found</td>\n",
       "      <td>LVT</td>\n",
       "      <td>1VNL</td>\n",
       "      <td>True</td>\n",
       "      <td>True</td>\n",
       "      <td>54.55</td>\n",
       "    </tr>\n",
       "    <tr>\n",
       "      <th>2</th>\n",
       "      <td>230485284</td>\n",
       "      <td>Epic Delphi Conference Room Refresh</td>\n",
       "      <td>40635</td>\n",
       "      <td>5205</td>\n",
       "      <td>PROJECT PO Variance M181 &amp; M182</td>\n",
       "      <td>DIT</td>\n",
       "      <td>Diverzify Itasca</td>\n",
       "      <td>108164</td>\n",
       "      <td>Mannington Mills, Inc.</td>\n",
       "      <td>NaN</td>\n",
       "      <td>...</td>\n",
       "      <td>False</td>\n",
       "      <td>True</td>\n",
       "      <td>True</td>\n",
       "      <td>Commodity Not Found</td>\n",
       "      <td>Supplier registered</td>\n",
       "      <td>nan</td>\n",
       "      <td>NaN</td>\n",
       "      <td>True</td>\n",
       "      <td>True</td>\n",
       "      <td>49.55</td>\n",
       "    </tr>\n",
       "    <tr>\n",
       "      <th>3</th>\n",
       "      <td>230485284</td>\n",
       "      <td>Epic Delphi Conference Room Refresh</td>\n",
       "      <td>40635</td>\n",
       "      <td>5504</td>\n",
       "      <td>PROJECT Freight</td>\n",
       "      <td>DIT</td>\n",
       "      <td>Diverzify Itasca</td>\n",
       "      <td>108164</td>\n",
       "      <td>Mannington Mills, Inc.</td>\n",
       "      <td>NaN</td>\n",
       "      <td>...</td>\n",
       "      <td>False</td>\n",
       "      <td>True</td>\n",
       "      <td>True</td>\n",
       "      <td>Commodity Not Found</td>\n",
       "      <td>Supplier registered</td>\n",
       "      <td>nan</td>\n",
       "      <td>NaN</td>\n",
       "      <td>True</td>\n",
       "      <td>True</td>\n",
       "      <td>49.55</td>\n",
       "    </tr>\n",
       "    <tr>\n",
       "      <th>4</th>\n",
       "      <td>230485284</td>\n",
       "      <td>Epic Delphi Conference Room Refresh</td>\n",
       "      <td>40635</td>\n",
       "      <td>2008</td>\n",
       "      <td>Received Not Yet Invoiced</td>\n",
       "      <td>DIT</td>\n",
       "      <td>Diverzify Itasca</td>\n",
       "      <td>108164</td>\n",
       "      <td>Mannington Mills, Inc.</td>\n",
       "      <td>1000006036</td>\n",
       "      <td>...</td>\n",
       "      <td>False</td>\n",
       "      <td>True</td>\n",
       "      <td>True</td>\n",
       "      <td>Commodity Found</td>\n",
       "      <td>Supplier registered</td>\n",
       "      <td>LVT</td>\n",
       "      <td>1VNL</td>\n",
       "      <td>True</td>\n",
       "      <td>True</td>\n",
       "      <td>49.55</td>\n",
       "    </tr>\n",
       "  </tbody>\n",
       "</table>\n",
       "<p>5 rows × 36 columns</p>\n",
       "</div>"
      ],
      "text/plain": [
       "   project_id                         project_name  po_no  account  \\\n",
       "0  2311123624                 Rick Sidor Residence  47568     5504   \n",
       "1  2311123624                 Rick Sidor Residence  47568     2008   \n",
       "2   230485284  Epic Delphi Conference Room Refresh  40635     5205   \n",
       "3   230485284  Epic Delphi Conference Room Refresh  40635     5504   \n",
       "4   230485284  Epic Delphi Conference Room Refresh  40635     2008   \n",
       "\n",
       "               account_description siteid              site supplierid  \\\n",
       "0                  PROJECT Freight    DIT  Diverzify Itasca        890   \n",
       "1        Received Not Yet Invoiced    DIT  Diverzify Itasca        890   \n",
       "2  PROJECT PO Variance M181 & M182    DIT  Diverzify Itasca     108164   \n",
       "3                  PROJECT Freight    DIT  Diverzify Itasca     108164   \n",
       "4        Received Not Yet Invoiced    DIT  Diverzify Itasca     108164   \n",
       "\n",
       "             suppliername  partnumber  ... multiple_parts  \\\n",
       "0            All Surfaces         NaN  ...          False   \n",
       "1            All Surfaces  1000008205  ...          False   \n",
       "2  Mannington Mills, Inc.         NaN  ...          False   \n",
       "3  Mannington Mills, Inc.         NaN  ...          False   \n",
       "4  Mannington Mills, Inc.  1000006036  ...          False   \n",
       "\n",
       "   all_priority_products  any_priority_products      match_commodity  \\\n",
       "0                   True                   True  Commodity Not Found   \n",
       "1                   True                   True      Commodity Found   \n",
       "2                   True                   True  Commodity Not Found   \n",
       "3                   True                   True  Commodity Not Found   \n",
       "4                   True                   True      Commodity Found   \n",
       "\n",
       "        match_supplier new_commodity_description new_commodity_group  \\\n",
       "0    No supplier found                       nan                 NaN   \n",
       "1    No supplier found                       LVT                1VNL   \n",
       "2  Supplier registered                       nan                 NaN   \n",
       "3  Supplier registered                       nan                 NaN   \n",
       "4  Supplier registered                       LVT                1VNL   \n",
       "\n",
       "  all_accounts_2008_classified all_2008_accounts_converted freight_per_invoice  \n",
       "0                         True                        True               54.55  \n",
       "1                         True                        True               54.55  \n",
       "2                         True                        True               49.55  \n",
       "3                         True                        True               49.55  \n",
       "4                         True                        True               49.55  \n",
       "\n",
       "[5 rows x 36 columns]"
      ]
     },
     "execution_count": 24,
     "metadata": {},
     "output_type": "execute_result"
    }
   ],
   "source": [
    "# Step 1: Filter rows where account == 5504 (freight lines)\n",
    "freight_lines = filtered_df[filtered_df['account'] == 5504]\n",
    "\n",
    "# Step 2: Group by invoice_id and calculate the total freight cost per invoice\n",
    "freight_per_invoice = freight_lines.groupby('invoice_id', as_index=False).agg({'invoice_line_total': 'sum'})\n",
    "freight_per_invoice.rename(columns={'invoice_line_total': 'freight_per_invoice'}, inplace=True)\n",
    "\n",
    "# Step 3: Merge the freight cost back into the original DataFrame\n",
    "filtered_df = filtered_df.merge(freight_per_invoice, on='invoice_id', how='left')\n",
    "\n",
    "# Step 4: Fill NaN values in the new column with 0\n",
    "filtered_df['freight_per_invoice'] = filtered_df['freight_per_invoice'].fillna(0)\n",
    "# Display the updated DataFrame\n",
    "filtered_df.head()"
   ]
  },
  {
   "cell_type": "code",
   "execution_count": 36,
   "id": "21d46e3b",
   "metadata": {},
   "outputs": [
    {
     "data": {
      "application/vnd.microsoft.datawrangler.viewer.v0+json": {
       "columns": [
        {
         "name": "index",
         "rawType": "int64",
         "type": "integer"
        },
        {
         "name": "siteid",
         "rawType": "object",
         "type": "string"
        },
        {
         "name": "new_commodity_group",
         "rawType": "object",
         "type": "string"
        },
        {
         "name": "new_commodity_description",
         "rawType": "object",
         "type": "string"
        },
        {
         "name": "unique_freight_total",
         "rawType": "float64",
         "type": "float"
        },
        {
         "name": "unique_invoices",
         "rawType": "int64",
         "type": "integer"
        }
       ],
       "conversionMethod": "pd.DataFrame",
       "ref": "60d209e5-0d49-4c48-9884-ea2d1f266860",
       "rows": [
        [
         "0",
         "BNB",
         "1000",
         "Mapei Products",
         "0.0",
         "3"
        ],
        [
         "1",
         "BNB",
         "1060",
         "Backing",
         "0.0",
         "1"
        ],
        [
         "2",
         "BNB",
         "1070",
         "Wallcovering",
         "0.0",
         "4"
        ],
        [
         "3",
         "BNB",
         "1090",
         "Underlayment",
         "0.0",
         "2"
        ],
        [
         "4",
         "BNB",
         "1140",
         "Sundries",
         "0.0",
         "6"
        ],
        [
         "5",
         "BNB",
         "150",
         "Cage - Adhesives & Supplies",
         "0.0",
         "1"
        ],
        [
         "6",
         "BNB",
         "160",
         "Rugs",
         "0.0",
         "2"
        ],
        [
         "7",
         "BNB",
         "1ACC",
         "Accessories",
         "0.0",
         "28"
        ],
        [
         "8",
         "BNB",
         "1ADH",
         "Adhesive",
         "0.0",
         "89"
        ],
        [
         "9",
         "BNB",
         "1BASE",
         "Base",
         "0.0",
         "129"
        ],
        [
         "10",
         "BNB",
         "1CBL",
         "Carpet Roll",
         "0.0",
         "38"
        ],
        [
         "11",
         "BNB",
         "1CNS",
         "Ceramic/Natural Stone",
         "0.0",
         "79"
        ],
        [
         "12",
         "BNB",
         "1CPT",
         "Carpet Tiles",
         "0.0",
         "170"
        ],
        [
         "13",
         "BNB",
         "1EPX",
         "Epoxy",
         "0.0",
         "3"
        ],
        [
         "14",
         "BNB",
         "1EQPT",
         "Equipment",
         "0.0",
         "3"
        ],
        [
         "15",
         "BNB",
         "1FLPR",
         "Floor Prep",
         "0.0",
         "24"
        ],
        [
         "16",
         "BNB",
         "1INS",
         "Installation Supplies",
         "0.0",
         "1"
        ],
        [
         "17",
         "BNB",
         "1LAM",
         "Laminate",
         "0.0",
         "1"
        ],
        [
         "18",
         "BNB",
         "1LIN",
         "Linoleum",
         "0.0",
         "9"
        ],
        [
         "19",
         "BNB",
         "1MATS",
         "Mats",
         "0.0",
         "3"
        ],
        [
         "20",
         "BNB",
         "1MISC",
         "Miscellaneous",
         "0.0",
         "12"
        ],
        [
         "21",
         "BNB",
         "1PAD",
         "Padding",
         "0.0",
         "14"
        ],
        [
         "22",
         "BNB",
         "1PCAR",
         "Product Care",
         "0.0",
         "1"
        ],
        [
         "23",
         "BNB",
         "1RBF",
         "Rubber Flooring",
         "0.0",
         "6"
        ],
        [
         "24",
         "BNB",
         "1RUG",
         "Rugs",
         "0.0",
         "1"
        ],
        [
         "25",
         "BNB",
         "1SLTY",
         "Specialty Flooring",
         "0.0",
         "1"
        ],
        [
         "26",
         "BNB",
         "1STR",
         "Stairs",
         "0.0",
         "13"
        ],
        [
         "27",
         "BNB",
         "1SUN",
         "Sundry",
         "0.0",
         "78"
        ],
        [
         "28",
         "BNB",
         "1TOOL",
         "Tools",
         "0.0",
         "2"
        ],
        [
         "29",
         "BNB",
         "1TRAN",
         "Transitions",
         "0.0",
         "98"
        ],
        [
         "30",
         "BNB",
         "1VNL",
         "LVP",
         "0.0",
         "16"
        ],
        [
         "31",
         "BNB",
         "1VNL",
         "LVT",
         "0.0",
         "28"
        ],
        [
         "32",
         "BNB",
         "1VNL",
         "ROLL",
         "0.0",
         "16"
        ],
        [
         "33",
         "BNB",
         "1VNL",
         "VCT",
         "0.0",
         "33"
        ],
        [
         "34",
         "BNB",
         "1VNL",
         "Vinyl Tile",
         "0.0",
         "22"
        ],
        [
         "35",
         "BNB",
         "1WOOD",
         "Wood",
         "0.0",
         "6"
        ],
        [
         "36",
         "BNB",
         "20",
         "Sheet Vinyl",
         "0.0",
         "4"
        ],
        [
         "37",
         "BNB",
         "210",
         "Wood",
         "0.0",
         "2"
        ],
        [
         "38",
         "BNB",
         "260",
         "Rubber Tile",
         "0.0",
         "1"
        ],
        [
         "39",
         "BNB",
         "280",
         "Adhesives",
         "0.0",
         "5"
        ],
        [
         "40",
         "BNB",
         "290",
         "Rubber Roll Goods",
         "0.0",
         "3"
        ],
        [
         "41",
         "BNB",
         "2GRTT",
         "Grout",
         "0.0",
         "1"
        ],
        [
         "42",
         "BNB",
         "2LVP",
         "LVP",
         "0.0",
         "1"
        ],
        [
         "43",
         "BNB",
         "2TRMP",
         "Trim Piece",
         "0.0",
         "3"
        ],
        [
         "44",
         "BNB",
         "2WELD",
         "Weld Rod",
         "0.0",
         "1"
        ],
        [
         "45",
         "BNB",
         "300",
         "Other",
         "0.0",
         "2"
        ],
        [
         "46",
         "BNB",
         "310",
         "Wood Accessories",
         "0.0",
         "2"
        ],
        [
         "47",
         "BNB",
         "330",
         "Specialty Tile",
         "0.0",
         "5"
        ],
        [
         "48",
         "BNB",
         "340",
         "Rubber Accessories",
         "0.0",
         "1"
        ],
        [
         "49",
         "BNB",
         "400",
         "Ceramic",
         "0.0",
         "39"
        ]
       ],
       "shape": {
        "columns": 5,
        "rows": 50
       }
      },
      "text/html": [
       "<div>\n",
       "<style scoped>\n",
       "    .dataframe tbody tr th:only-of-type {\n",
       "        vertical-align: middle;\n",
       "    }\n",
       "\n",
       "    .dataframe tbody tr th {\n",
       "        vertical-align: top;\n",
       "    }\n",
       "\n",
       "    .dataframe thead th {\n",
       "        text-align: right;\n",
       "    }\n",
       "</style>\n",
       "<table border=\"1\" class=\"dataframe\">\n",
       "  <thead>\n",
       "    <tr style=\"text-align: right;\">\n",
       "      <th></th>\n",
       "      <th>siteid</th>\n",
       "      <th>new_commodity_group</th>\n",
       "      <th>new_commodity_description</th>\n",
       "      <th>unique_freight_total</th>\n",
       "      <th>unique_invoices</th>\n",
       "    </tr>\n",
       "  </thead>\n",
       "  <tbody>\n",
       "    <tr>\n",
       "      <th>0</th>\n",
       "      <td>BNB</td>\n",
       "      <td>1000</td>\n",
       "      <td>Mapei Products</td>\n",
       "      <td>0.0</td>\n",
       "      <td>3</td>\n",
       "    </tr>\n",
       "    <tr>\n",
       "      <th>1</th>\n",
       "      <td>BNB</td>\n",
       "      <td>1060</td>\n",
       "      <td>Backing</td>\n",
       "      <td>0.0</td>\n",
       "      <td>1</td>\n",
       "    </tr>\n",
       "    <tr>\n",
       "      <th>2</th>\n",
       "      <td>BNB</td>\n",
       "      <td>1070</td>\n",
       "      <td>Wallcovering</td>\n",
       "      <td>0.0</td>\n",
       "      <td>4</td>\n",
       "    </tr>\n",
       "    <tr>\n",
       "      <th>3</th>\n",
       "      <td>BNB</td>\n",
       "      <td>1090</td>\n",
       "      <td>Underlayment</td>\n",
       "      <td>0.0</td>\n",
       "      <td>2</td>\n",
       "    </tr>\n",
       "    <tr>\n",
       "      <th>4</th>\n",
       "      <td>BNB</td>\n",
       "      <td>1140</td>\n",
       "      <td>Sundries</td>\n",
       "      <td>0.0</td>\n",
       "      <td>6</td>\n",
       "    </tr>\n",
       "    <tr>\n",
       "      <th>5</th>\n",
       "      <td>BNB</td>\n",
       "      <td>150</td>\n",
       "      <td>Cage - Adhesives &amp; Supplies</td>\n",
       "      <td>0.0</td>\n",
       "      <td>1</td>\n",
       "    </tr>\n",
       "    <tr>\n",
       "      <th>6</th>\n",
       "      <td>BNB</td>\n",
       "      <td>160</td>\n",
       "      <td>Rugs</td>\n",
       "      <td>0.0</td>\n",
       "      <td>2</td>\n",
       "    </tr>\n",
       "    <tr>\n",
       "      <th>7</th>\n",
       "      <td>BNB</td>\n",
       "      <td>1ACC</td>\n",
       "      <td>Accessories</td>\n",
       "      <td>0.0</td>\n",
       "      <td>28</td>\n",
       "    </tr>\n",
       "    <tr>\n",
       "      <th>8</th>\n",
       "      <td>BNB</td>\n",
       "      <td>1ADH</td>\n",
       "      <td>Adhesive</td>\n",
       "      <td>0.0</td>\n",
       "      <td>89</td>\n",
       "    </tr>\n",
       "    <tr>\n",
       "      <th>9</th>\n",
       "      <td>BNB</td>\n",
       "      <td>1BASE</td>\n",
       "      <td>Base</td>\n",
       "      <td>0.0</td>\n",
       "      <td>129</td>\n",
       "    </tr>\n",
       "    <tr>\n",
       "      <th>10</th>\n",
       "      <td>BNB</td>\n",
       "      <td>1CBL</td>\n",
       "      <td>Carpet Roll</td>\n",
       "      <td>0.0</td>\n",
       "      <td>38</td>\n",
       "    </tr>\n",
       "    <tr>\n",
       "      <th>11</th>\n",
       "      <td>BNB</td>\n",
       "      <td>1CNS</td>\n",
       "      <td>Ceramic/Natural Stone</td>\n",
       "      <td>0.0</td>\n",
       "      <td>79</td>\n",
       "    </tr>\n",
       "    <tr>\n",
       "      <th>12</th>\n",
       "      <td>BNB</td>\n",
       "      <td>1CPT</td>\n",
       "      <td>Carpet Tiles</td>\n",
       "      <td>0.0</td>\n",
       "      <td>170</td>\n",
       "    </tr>\n",
       "    <tr>\n",
       "      <th>13</th>\n",
       "      <td>BNB</td>\n",
       "      <td>1EPX</td>\n",
       "      <td>Epoxy</td>\n",
       "      <td>0.0</td>\n",
       "      <td>3</td>\n",
       "    </tr>\n",
       "    <tr>\n",
       "      <th>14</th>\n",
       "      <td>BNB</td>\n",
       "      <td>1EQPT</td>\n",
       "      <td>Equipment</td>\n",
       "      <td>0.0</td>\n",
       "      <td>3</td>\n",
       "    </tr>\n",
       "    <tr>\n",
       "      <th>15</th>\n",
       "      <td>BNB</td>\n",
       "      <td>1FLPR</td>\n",
       "      <td>Floor Prep</td>\n",
       "      <td>0.0</td>\n",
       "      <td>24</td>\n",
       "    </tr>\n",
       "    <tr>\n",
       "      <th>16</th>\n",
       "      <td>BNB</td>\n",
       "      <td>1INS</td>\n",
       "      <td>Installation Supplies</td>\n",
       "      <td>0.0</td>\n",
       "      <td>1</td>\n",
       "    </tr>\n",
       "    <tr>\n",
       "      <th>17</th>\n",
       "      <td>BNB</td>\n",
       "      <td>1LAM</td>\n",
       "      <td>Laminate</td>\n",
       "      <td>0.0</td>\n",
       "      <td>1</td>\n",
       "    </tr>\n",
       "    <tr>\n",
       "      <th>18</th>\n",
       "      <td>BNB</td>\n",
       "      <td>1LIN</td>\n",
       "      <td>Linoleum</td>\n",
       "      <td>0.0</td>\n",
       "      <td>9</td>\n",
       "    </tr>\n",
       "    <tr>\n",
       "      <th>19</th>\n",
       "      <td>BNB</td>\n",
       "      <td>1MATS</td>\n",
       "      <td>Mats</td>\n",
       "      <td>0.0</td>\n",
       "      <td>3</td>\n",
       "    </tr>\n",
       "    <tr>\n",
       "      <th>20</th>\n",
       "      <td>BNB</td>\n",
       "      <td>1MISC</td>\n",
       "      <td>Miscellaneous</td>\n",
       "      <td>0.0</td>\n",
       "      <td>12</td>\n",
       "    </tr>\n",
       "    <tr>\n",
       "      <th>21</th>\n",
       "      <td>BNB</td>\n",
       "      <td>1PAD</td>\n",
       "      <td>Padding</td>\n",
       "      <td>0.0</td>\n",
       "      <td>14</td>\n",
       "    </tr>\n",
       "    <tr>\n",
       "      <th>22</th>\n",
       "      <td>BNB</td>\n",
       "      <td>1PCAR</td>\n",
       "      <td>Product Care</td>\n",
       "      <td>0.0</td>\n",
       "      <td>1</td>\n",
       "    </tr>\n",
       "    <tr>\n",
       "      <th>23</th>\n",
       "      <td>BNB</td>\n",
       "      <td>1RBF</td>\n",
       "      <td>Rubber Flooring</td>\n",
       "      <td>0.0</td>\n",
       "      <td>6</td>\n",
       "    </tr>\n",
       "    <tr>\n",
       "      <th>24</th>\n",
       "      <td>BNB</td>\n",
       "      <td>1RUG</td>\n",
       "      <td>Rugs</td>\n",
       "      <td>0.0</td>\n",
       "      <td>1</td>\n",
       "    </tr>\n",
       "    <tr>\n",
       "      <th>25</th>\n",
       "      <td>BNB</td>\n",
       "      <td>1SLTY</td>\n",
       "      <td>Specialty Flooring</td>\n",
       "      <td>0.0</td>\n",
       "      <td>1</td>\n",
       "    </tr>\n",
       "    <tr>\n",
       "      <th>26</th>\n",
       "      <td>BNB</td>\n",
       "      <td>1STR</td>\n",
       "      <td>Stairs</td>\n",
       "      <td>0.0</td>\n",
       "      <td>13</td>\n",
       "    </tr>\n",
       "    <tr>\n",
       "      <th>27</th>\n",
       "      <td>BNB</td>\n",
       "      <td>1SUN</td>\n",
       "      <td>Sundry</td>\n",
       "      <td>0.0</td>\n",
       "      <td>78</td>\n",
       "    </tr>\n",
       "    <tr>\n",
       "      <th>28</th>\n",
       "      <td>BNB</td>\n",
       "      <td>1TOOL</td>\n",
       "      <td>Tools</td>\n",
       "      <td>0.0</td>\n",
       "      <td>2</td>\n",
       "    </tr>\n",
       "    <tr>\n",
       "      <th>29</th>\n",
       "      <td>BNB</td>\n",
       "      <td>1TRAN</td>\n",
       "      <td>Transitions</td>\n",
       "      <td>0.0</td>\n",
       "      <td>98</td>\n",
       "    </tr>\n",
       "    <tr>\n",
       "      <th>30</th>\n",
       "      <td>BNB</td>\n",
       "      <td>1VNL</td>\n",
       "      <td>LVP</td>\n",
       "      <td>0.0</td>\n",
       "      <td>16</td>\n",
       "    </tr>\n",
       "    <tr>\n",
       "      <th>31</th>\n",
       "      <td>BNB</td>\n",
       "      <td>1VNL</td>\n",
       "      <td>LVT</td>\n",
       "      <td>0.0</td>\n",
       "      <td>28</td>\n",
       "    </tr>\n",
       "    <tr>\n",
       "      <th>32</th>\n",
       "      <td>BNB</td>\n",
       "      <td>1VNL</td>\n",
       "      <td>ROLL</td>\n",
       "      <td>0.0</td>\n",
       "      <td>16</td>\n",
       "    </tr>\n",
       "    <tr>\n",
       "      <th>33</th>\n",
       "      <td>BNB</td>\n",
       "      <td>1VNL</td>\n",
       "      <td>VCT</td>\n",
       "      <td>0.0</td>\n",
       "      <td>33</td>\n",
       "    </tr>\n",
       "    <tr>\n",
       "      <th>34</th>\n",
       "      <td>BNB</td>\n",
       "      <td>1VNL</td>\n",
       "      <td>Vinyl Tile</td>\n",
       "      <td>0.0</td>\n",
       "      <td>22</td>\n",
       "    </tr>\n",
       "    <tr>\n",
       "      <th>35</th>\n",
       "      <td>BNB</td>\n",
       "      <td>1WOOD</td>\n",
       "      <td>Wood</td>\n",
       "      <td>0.0</td>\n",
       "      <td>6</td>\n",
       "    </tr>\n",
       "    <tr>\n",
       "      <th>36</th>\n",
       "      <td>BNB</td>\n",
       "      <td>20</td>\n",
       "      <td>Sheet Vinyl</td>\n",
       "      <td>0.0</td>\n",
       "      <td>4</td>\n",
       "    </tr>\n",
       "    <tr>\n",
       "      <th>37</th>\n",
       "      <td>BNB</td>\n",
       "      <td>210</td>\n",
       "      <td>Wood</td>\n",
       "      <td>0.0</td>\n",
       "      <td>2</td>\n",
       "    </tr>\n",
       "    <tr>\n",
       "      <th>38</th>\n",
       "      <td>BNB</td>\n",
       "      <td>260</td>\n",
       "      <td>Rubber Tile</td>\n",
       "      <td>0.0</td>\n",
       "      <td>1</td>\n",
       "    </tr>\n",
       "    <tr>\n",
       "      <th>39</th>\n",
       "      <td>BNB</td>\n",
       "      <td>280</td>\n",
       "      <td>Adhesives</td>\n",
       "      <td>0.0</td>\n",
       "      <td>5</td>\n",
       "    </tr>\n",
       "    <tr>\n",
       "      <th>40</th>\n",
       "      <td>BNB</td>\n",
       "      <td>290</td>\n",
       "      <td>Rubber Roll Goods</td>\n",
       "      <td>0.0</td>\n",
       "      <td>3</td>\n",
       "    </tr>\n",
       "    <tr>\n",
       "      <th>41</th>\n",
       "      <td>BNB</td>\n",
       "      <td>2GRTT</td>\n",
       "      <td>Grout</td>\n",
       "      <td>0.0</td>\n",
       "      <td>1</td>\n",
       "    </tr>\n",
       "    <tr>\n",
       "      <th>42</th>\n",
       "      <td>BNB</td>\n",
       "      <td>2LVP</td>\n",
       "      <td>LVP</td>\n",
       "      <td>0.0</td>\n",
       "      <td>1</td>\n",
       "    </tr>\n",
       "    <tr>\n",
       "      <th>43</th>\n",
       "      <td>BNB</td>\n",
       "      <td>2TRMP</td>\n",
       "      <td>Trim Piece</td>\n",
       "      <td>0.0</td>\n",
       "      <td>3</td>\n",
       "    </tr>\n",
       "    <tr>\n",
       "      <th>44</th>\n",
       "      <td>BNB</td>\n",
       "      <td>2WELD</td>\n",
       "      <td>Weld Rod</td>\n",
       "      <td>0.0</td>\n",
       "      <td>1</td>\n",
       "    </tr>\n",
       "    <tr>\n",
       "      <th>45</th>\n",
       "      <td>BNB</td>\n",
       "      <td>300</td>\n",
       "      <td>Other</td>\n",
       "      <td>0.0</td>\n",
       "      <td>2</td>\n",
       "    </tr>\n",
       "    <tr>\n",
       "      <th>46</th>\n",
       "      <td>BNB</td>\n",
       "      <td>310</td>\n",
       "      <td>Wood Accessories</td>\n",
       "      <td>0.0</td>\n",
       "      <td>2</td>\n",
       "    </tr>\n",
       "    <tr>\n",
       "      <th>47</th>\n",
       "      <td>BNB</td>\n",
       "      <td>330</td>\n",
       "      <td>Specialty Tile</td>\n",
       "      <td>0.0</td>\n",
       "      <td>5</td>\n",
       "    </tr>\n",
       "    <tr>\n",
       "      <th>48</th>\n",
       "      <td>BNB</td>\n",
       "      <td>340</td>\n",
       "      <td>Rubber Accessories</td>\n",
       "      <td>0.0</td>\n",
       "      <td>1</td>\n",
       "    </tr>\n",
       "    <tr>\n",
       "      <th>49</th>\n",
       "      <td>BNB</td>\n",
       "      <td>400</td>\n",
       "      <td>Ceramic</td>\n",
       "      <td>0.0</td>\n",
       "      <td>39</td>\n",
       "    </tr>\n",
       "  </tbody>\n",
       "</table>\n",
       "</div>"
      ],
      "text/plain": [
       "   siteid new_commodity_group    new_commodity_description  \\\n",
       "0     BNB                1000               Mapei Products   \n",
       "1     BNB                1060                      Backing   \n",
       "2     BNB                1070                 Wallcovering   \n",
       "3     BNB                1090                 Underlayment   \n",
       "4     BNB                1140                     Sundries   \n",
       "5     BNB                 150  Cage - Adhesives & Supplies   \n",
       "6     BNB                 160                         Rugs   \n",
       "7     BNB                1ACC                  Accessories   \n",
       "8     BNB                1ADH                     Adhesive   \n",
       "9     BNB               1BASE                         Base   \n",
       "10    BNB                1CBL                  Carpet Roll   \n",
       "11    BNB                1CNS        Ceramic/Natural Stone   \n",
       "12    BNB                1CPT                 Carpet Tiles   \n",
       "13    BNB                1EPX                        Epoxy   \n",
       "14    BNB               1EQPT                    Equipment   \n",
       "15    BNB               1FLPR                   Floor Prep   \n",
       "16    BNB                1INS        Installation Supplies   \n",
       "17    BNB                1LAM                     Laminate   \n",
       "18    BNB                1LIN                     Linoleum   \n",
       "19    BNB               1MATS                         Mats   \n",
       "20    BNB               1MISC                Miscellaneous   \n",
       "21    BNB                1PAD                      Padding   \n",
       "22    BNB               1PCAR                 Product Care   \n",
       "23    BNB                1RBF              Rubber Flooring   \n",
       "24    BNB                1RUG                         Rugs   \n",
       "25    BNB               1SLTY           Specialty Flooring   \n",
       "26    BNB                1STR                       Stairs   \n",
       "27    BNB                1SUN                       Sundry   \n",
       "28    BNB               1TOOL                        Tools   \n",
       "29    BNB               1TRAN                  Transitions   \n",
       "30    BNB                1VNL                          LVP   \n",
       "31    BNB                1VNL                          LVT   \n",
       "32    BNB                1VNL                         ROLL   \n",
       "33    BNB                1VNL                          VCT   \n",
       "34    BNB                1VNL                   Vinyl Tile   \n",
       "35    BNB               1WOOD                         Wood   \n",
       "36    BNB                  20                  Sheet Vinyl   \n",
       "37    BNB                 210                         Wood   \n",
       "38    BNB                 260                  Rubber Tile   \n",
       "39    BNB                 280                    Adhesives   \n",
       "40    BNB                 290            Rubber Roll Goods   \n",
       "41    BNB               2GRTT                        Grout   \n",
       "42    BNB                2LVP                          LVP   \n",
       "43    BNB               2TRMP                   Trim Piece   \n",
       "44    BNB               2WELD                     Weld Rod   \n",
       "45    BNB                 300                        Other   \n",
       "46    BNB                 310             Wood Accessories   \n",
       "47    BNB                 330               Specialty Tile   \n",
       "48    BNB                 340           Rubber Accessories   \n",
       "49    BNB                 400                      Ceramic   \n",
       "\n",
       "    unique_freight_total  unique_invoices  \n",
       "0                    0.0                3  \n",
       "1                    0.0                1  \n",
       "2                    0.0                4  \n",
       "3                    0.0                2  \n",
       "4                    0.0                6  \n",
       "5                    0.0                1  \n",
       "6                    0.0                2  \n",
       "7                    0.0               28  \n",
       "8                    0.0               89  \n",
       "9                    0.0              129  \n",
       "10                   0.0               38  \n",
       "11                   0.0               79  \n",
       "12                   0.0              170  \n",
       "13                   0.0                3  \n",
       "14                   0.0                3  \n",
       "15                   0.0               24  \n",
       "16                   0.0                1  \n",
       "17                   0.0                1  \n",
       "18                   0.0                9  \n",
       "19                   0.0                3  \n",
       "20                   0.0               12  \n",
       "21                   0.0               14  \n",
       "22                   0.0                1  \n",
       "23                   0.0                6  \n",
       "24                   0.0                1  \n",
       "25                   0.0                1  \n",
       "26                   0.0               13  \n",
       "27                   0.0               78  \n",
       "28                   0.0                2  \n",
       "29                   0.0               98  \n",
       "30                   0.0               16  \n",
       "31                   0.0               28  \n",
       "32                   0.0               16  \n",
       "33                   0.0               33  \n",
       "34                   0.0               22  \n",
       "35                   0.0                6  \n",
       "36                   0.0                4  \n",
       "37                   0.0                2  \n",
       "38                   0.0                1  \n",
       "39                   0.0                5  \n",
       "40                   0.0                3  \n",
       "41                   0.0                1  \n",
       "42                   0.0                1  \n",
       "43                   0.0                3  \n",
       "44                   0.0                1  \n",
       "45                   0.0                2  \n",
       "46                   0.0                2  \n",
       "47                   0.0                5  \n",
       "48                   0.0                1  \n",
       "49                   0.0               39  "
      ]
     },
     "execution_count": 36,
     "metadata": {},
     "output_type": "execute_result"
    }
   ],
   "source": [
    "# Group by siteid and conversion_code, then calculate the unique total for each group based on freight_per_invoice\n",
    "grouped_summary = filtered_df.groupby(['siteid','new_commodity_group','new_commodity_description',]).agg(\n",
    "    unique_freight_total=('invoice_id', lambda x: freight_per_invoice.loc[freight_per_invoice['invoice_id'].isin(x), 'freight_per_invoice'].sum().round(2)),\n",
    "    unique_invoices=('invoice_id', 'nunique')\n",
    ").reset_index()\n",
    "\n",
    "\n",
    "\n",
    "# Display the grouped summary\n",
    "grouped_summary.head(50)\n"
   ]
  },
  {
   "cell_type": "code",
   "execution_count": 26,
   "id": "3f3a47ee",
   "metadata": {},
   "outputs": [],
   "source": [
    "timestamp = datetime.now().strftime(\"%Y%m%d_%H%M%S\")\n",
    "filtered_df = filtered_df[filtered_df['conversion_code'] != 'nan_nan_nan']\n",
    "# Create a new filename with the current timestamp\n",
    "filtered_df.to_excel(f'../../data/output/filtered_invoices_v_{timestamp}.xlsx', index=False, engine='openpyxl')\n",
    "filtered_df.to_csv(f'../../data/output/filtered_invoices_v_{timestamp}.csv', index=False,)\n",
    "\n",
    "# Save the filtered DataFrame to an Excel file"
   ]
  },
  {
   "cell_type": "markdown",
   "id": "18ba68f3",
   "metadata": {},
   "source": [
    "## Building the funnel"
   ]
  },
  {
   "cell_type": "code",
   "execution_count": 27,
   "id": "00e04576",
   "metadata": {},
   "outputs": [
    {
     "name": "stdout",
     "output_type": "stream",
     "text": [
      "Unique Invoices in mapped_df: 188087\n"
     ]
    }
   ],
   "source": [
    "unique_invoices = mapped_df['invoice_id'].nunique()\n",
    "print(f\"Unique Invoices in mapped_df: {unique_invoices}\")"
   ]
  },
  {
   "cell_type": "code",
   "execution_count": 28,
   "id": "b7f8f55f",
   "metadata": {
    "vscode": {
     "languageId": "powershell"
    }
   },
   "outputs": [
    {
     "data": {
      "application/vnd.microsoft.datawrangler.viewer.v0+json": {
       "columns": [
        {
         "name": "index",
         "rawType": "int64",
         "type": "integer"
        },
        {
         "name": "project_id",
         "rawType": "object",
         "type": "string"
        },
        {
         "name": "project_name",
         "rawType": "object",
         "type": "string"
        },
        {
         "name": "po_no",
         "rawType": "object",
         "type": "string"
        },
        {
         "name": "account",
         "rawType": "int64",
         "type": "integer"
        },
        {
         "name": "account_description",
         "rawType": "object",
         "type": "string"
        },
        {
         "name": "siteid",
         "rawType": "object",
         "type": "string"
        },
        {
         "name": "site",
         "rawType": "object",
         "type": "string"
        },
        {
         "name": "supplierid",
         "rawType": "object",
         "type": "string"
        },
        {
         "name": "suppliername",
         "rawType": "object",
         "type": "string"
        },
        {
         "name": "partnumber",
         "rawType": "object",
         "type": "string"
        },
        {
         "name": "partdescription",
         "rawType": "object",
         "type": "string"
        },
        {
         "name": "quantity",
         "rawType": "float64",
         "type": "float"
        },
        {
         "name": "invoice_id",
         "rawType": "int64",
         "type": "integer"
        },
        {
         "name": "invoice_no",
         "rawType": "object",
         "type": "string"
        },
        {
         "name": "uom",
         "rawType": "object",
         "type": "string"
        },
        {
         "name": "comm1",
         "rawType": "object",
         "type": "string"
        },
        {
         "name": "comm2",
         "rawType": "object",
         "type": "string"
        },
        {
         "name": "commodity_group",
         "rawType": "object",
         "type": "string"
        },
        {
         "name": "commoditydescription",
         "rawType": "object",
         "type": "string"
        },
        {
         "name": "old_new",
         "rawType": "object",
         "type": "string"
        },
        {
         "name": "priority",
         "rawType": "object",
         "type": "string"
        },
        {
         "name": "classification",
         "rawType": "object",
         "type": "string"
        },
        {
         "name": "conversion_code",
         "rawType": "object",
         "type": "string"
        },
        {
         "name": "invoice_line_total",
         "rawType": "float64",
         "type": "float"
        },
        {
         "name": "freight_invoice",
         "rawType": "bool",
         "type": "boolean"
        },
        {
         "name": "multiple_freight_lines",
         "rawType": "bool",
         "type": "boolean"
        },
        {
         "name": "multiple_parts",
         "rawType": "bool",
         "type": "boolean"
        },
        {
         "name": "all_priority_products",
         "rawType": "bool",
         "type": "boolean"
        },
        {
         "name": "any_priority_products",
         "rawType": "bool",
         "type": "boolean"
        },
        {
         "name": "match_commodity",
         "rawType": "object",
         "type": "string"
        },
        {
         "name": "match_supplier",
         "rawType": "object",
         "type": "string"
        },
        {
         "name": "new_commodity_description",
         "rawType": "object",
         "type": "string"
        },
        {
         "name": "new_commodity_group",
         "rawType": "object",
         "type": "string"
        },
        {
         "name": "all_accounts_2008_classified",
         "rawType": "bool",
         "type": "boolean"
        },
        {
         "name": "all_2008_accounts_converted",
         "rawType": "bool",
         "type": "boolean"
        }
       ],
       "conversionMethod": "pd.DataFrame",
       "ref": "68e107d5-aebd-43d3-b7e7-01bbc189498f",
       "rows": [
        [
         "0",
         "2311121922",
         "REGIONS HOSPITAL 4TH MRI",
         null,
         "5400",
         "PROJECT Sub-Contract Labor",
         "BNB",
         "Beckers New Brighton",
         "102548",
         "Lonseal Flooring",
         null,
         null,
         null,
         "433731",
         "0007795-CM",
         null,
         "nan",
         null,
         null,
         null,
         null,
         null,
         "No UOM",
         "nan_nan_nan",
         "-600.0",
         "False",
         "False",
         "False",
         "False",
         "False",
         "Commodity Not Found",
         "No supplier found",
         "nan",
         null,
         "False",
         "False"
        ],
        [
         "1",
         "2312127706",
         "UOFM MOLECULAR & CELLULAR BIOLOGY P",
         "48180",
         "2008",
         "Received Not Yet Invoiced",
         "BNB",
         "Beckers New Brighton",
         "104716",
         "Hank's Specialties",
         "1000007968",
         "PROTECT ALL PRE-NOTCHED Z-BAR INSIDE CORNER ALUMINUM (864056A) 12\"X12\" ALUMINUM",
         "4.0",
         "433340",
         "173373",
         "EA",
         "1ACC",
         "1ACC",
         "1ACC",
         "Accessories",
         "New Commodity",
         "No",
         "Unclassified",
         "Accessories_1ACC_EA",
         "18.4",
         "True",
         "False",
         "True",
         "False",
         "True",
         "Commodity Found",
         "No supplier found",
         "Accessories",
         "1ACC",
         "False",
         "False"
        ]
       ],
       "shape": {
        "columns": 35,
        "rows": 2
       }
      },
      "text/html": [
       "<div>\n",
       "<style scoped>\n",
       "    .dataframe tbody tr th:only-of-type {\n",
       "        vertical-align: middle;\n",
       "    }\n",
       "\n",
       "    .dataframe tbody tr th {\n",
       "        vertical-align: top;\n",
       "    }\n",
       "\n",
       "    .dataframe thead th {\n",
       "        text-align: right;\n",
       "    }\n",
       "</style>\n",
       "<table border=\"1\" class=\"dataframe\">\n",
       "  <thead>\n",
       "    <tr style=\"text-align: right;\">\n",
       "      <th></th>\n",
       "      <th>project_id</th>\n",
       "      <th>project_name</th>\n",
       "      <th>po_no</th>\n",
       "      <th>account</th>\n",
       "      <th>account_description</th>\n",
       "      <th>siteid</th>\n",
       "      <th>site</th>\n",
       "      <th>supplierid</th>\n",
       "      <th>suppliername</th>\n",
       "      <th>partnumber</th>\n",
       "      <th>...</th>\n",
       "      <th>multiple_freight_lines</th>\n",
       "      <th>multiple_parts</th>\n",
       "      <th>all_priority_products</th>\n",
       "      <th>any_priority_products</th>\n",
       "      <th>match_commodity</th>\n",
       "      <th>match_supplier</th>\n",
       "      <th>new_commodity_description</th>\n",
       "      <th>new_commodity_group</th>\n",
       "      <th>all_accounts_2008_classified</th>\n",
       "      <th>all_2008_accounts_converted</th>\n",
       "    </tr>\n",
       "  </thead>\n",
       "  <tbody>\n",
       "    <tr>\n",
       "      <th>0</th>\n",
       "      <td>2311121922</td>\n",
       "      <td>REGIONS HOSPITAL 4TH MRI</td>\n",
       "      <td>NaN</td>\n",
       "      <td>5400</td>\n",
       "      <td>PROJECT Sub-Contract Labor</td>\n",
       "      <td>BNB</td>\n",
       "      <td>Beckers New Brighton</td>\n",
       "      <td>102548</td>\n",
       "      <td>Lonseal Flooring</td>\n",
       "      <td>NaN</td>\n",
       "      <td>...</td>\n",
       "      <td>False</td>\n",
       "      <td>False</td>\n",
       "      <td>False</td>\n",
       "      <td>False</td>\n",
       "      <td>Commodity Not Found</td>\n",
       "      <td>No supplier found</td>\n",
       "      <td>nan</td>\n",
       "      <td>NaN</td>\n",
       "      <td>False</td>\n",
       "      <td>False</td>\n",
       "    </tr>\n",
       "    <tr>\n",
       "      <th>1</th>\n",
       "      <td>2312127706</td>\n",
       "      <td>UOFM MOLECULAR &amp; CELLULAR BIOLOGY P</td>\n",
       "      <td>48180</td>\n",
       "      <td>2008</td>\n",
       "      <td>Received Not Yet Invoiced</td>\n",
       "      <td>BNB</td>\n",
       "      <td>Beckers New Brighton</td>\n",
       "      <td>104716</td>\n",
       "      <td>Hank's Specialties</td>\n",
       "      <td>1000007968</td>\n",
       "      <td>...</td>\n",
       "      <td>False</td>\n",
       "      <td>True</td>\n",
       "      <td>False</td>\n",
       "      <td>True</td>\n",
       "      <td>Commodity Found</td>\n",
       "      <td>No supplier found</td>\n",
       "      <td>Accessories</td>\n",
       "      <td>1ACC</td>\n",
       "      <td>False</td>\n",
       "      <td>False</td>\n",
       "    </tr>\n",
       "  </tbody>\n",
       "</table>\n",
       "<p>2 rows × 35 columns</p>\n",
       "</div>"
      ],
      "text/plain": [
       "   project_id                         project_name  po_no  account  \\\n",
       "0  2311121922             REGIONS HOSPITAL 4TH MRI    NaN     5400   \n",
       "1  2312127706  UOFM MOLECULAR & CELLULAR BIOLOGY P  48180     2008   \n",
       "\n",
       "          account_description siteid                  site supplierid  \\\n",
       "0  PROJECT Sub-Contract Labor    BNB  Beckers New Brighton     102548   \n",
       "1   Received Not Yet Invoiced    BNB  Beckers New Brighton     104716   \n",
       "\n",
       "         suppliername  partnumber  ... multiple_freight_lines  multiple_parts  \\\n",
       "0    Lonseal Flooring         NaN  ...                  False           False   \n",
       "1  Hank's Specialties  1000007968  ...                  False            True   \n",
       "\n",
       "   all_priority_products any_priority_products      match_commodity  \\\n",
       "0                  False                 False  Commodity Not Found   \n",
       "1                  False                  True      Commodity Found   \n",
       "\n",
       "      match_supplier new_commodity_description new_commodity_group  \\\n",
       "0  No supplier found                       nan                 NaN   \n",
       "1  No supplier found               Accessories                1ACC   \n",
       "\n",
       "  all_accounts_2008_classified all_2008_accounts_converted  \n",
       "0                        False                       False  \n",
       "1                        False                       False  \n",
       "\n",
       "[2 rows x 35 columns]"
      ]
     },
     "execution_count": 28,
     "metadata": {},
     "output_type": "execute_result"
    }
   ],
   "source": [
    "# Get records with product IDs\n",
    "mapped_df = mapped_df[mapped_df['project_id'].notna()]\n",
    "mapped_df.head(2)"
   ]
  },
  {
   "cell_type": "code",
   "execution_count": 29,
   "id": "6ffe2c65",
   "metadata": {},
   "outputs": [
    {
     "name": "stdout",
     "output_type": "stream",
     "text": [
      "Unique Invoices in mapped_df: 161241\n"
     ]
    }
   ],
   "source": [
    "unique_invoices = mapped_df['invoice_id'].nunique()\n",
    "print(f\"Unique Invoices in mapped_df: {unique_invoices}\")"
   ]
  },
  {
   "cell_type": "code",
   "execution_count": 30,
   "id": "07155d50",
   "metadata": {},
   "outputs": [
    {
     "name": "stdout",
     "output_type": "stream",
     "text": [
      "Unique Invoice IDs with PO NO: 152548\n"
     ]
    }
   ],
   "source": [
    "filtered_df = mapped_df[mapped_df['po_no'].notna()]\n",
    "unique_invoice_ids_with_po_no = filtered_df['invoice_id'].nunique()\n",
    "print(f\"Unique Invoice IDs with PO NO: {unique_invoice_ids_with_po_no}\")"
   ]
  },
  {
   "cell_type": "code",
   "execution_count": 31,
   "id": "d1020fd7",
   "metadata": {
    "vscode": {
     "languageId": "powershell"
    }
   },
   "outputs": [
    {
     "name": "stdout",
     "output_type": "stream",
     "text": [
      "Unique Invoice IDs with PO NO and Freight Price = True: 51927\n"
     ]
    }
   ],
   "source": [
    "# Filter rows where 'po_no' is not null and 'all_priority_products' is True\n",
    "freight_filtered_df = filtered_df[filtered_df['freight_invoice'] == True]\n",
    "\n",
    "# Calculate the unique invoice IDs\n",
    "unique_priority_invoice_ids = freight_filtered_df['invoice_id'].nunique()\n",
    "\n",
    "# Print the result\n",
    "print(f\"Unique Invoice IDs with PO NO and Freight Price = True: {unique_priority_invoice_ids}\")"
   ]
  },
  {
   "cell_type": "code",
   "execution_count": 32,
   "id": "1a17cfc8",
   "metadata": {},
   "outputs": [
    {
     "name": "stdout",
     "output_type": "stream",
     "text": [
      "Unique Invoice IDs with PO NO ,Freight and Any Priority Products = True: 18523\n"
     ]
    }
   ],
   "source": [
    "# Filter rows where 'po_no' is not null and 'all_priority_products' is True\n",
    "priority_filtered_df = freight_filtered_df[freight_filtered_df['any_priority_products'] == True]\n",
    "\n",
    "# Calculate the unique invoice IDs\n",
    "unique_priority_invoice_ids = priority_filtered_df['invoice_id'].nunique()\n",
    "\n",
    "# Print the result\n",
    "print(f\"Unique Invoice IDs with PO NO ,Freight and Any Priority Products = True: {unique_priority_invoice_ids}\")"
   ]
  },
  {
   "cell_type": "code",
   "execution_count": 33,
   "id": "5ed9791f",
   "metadata": {},
   "outputs": [
    {
     "name": "stdout",
     "output_type": "stream",
     "text": [
      "Unique Invoice IDs with PO NO ,Freight and All Priority Products = True: 13378\n"
     ]
    }
   ],
   "source": [
    "# Filter rows where 'po_no' is not null and 'all_priority_products' is True\n",
    "all_priority_filtered_df = freight_filtered_df[freight_filtered_df['all_priority_products'] == True]\n",
    "\n",
    "# Calculate the unique invoice IDs\n",
    "unique_priority_invoice_ids = all_priority_filtered_df['invoice_id'].nunique()\n",
    "\n",
    "# Print the result\n",
    "print(f\"Unique Invoice IDs with PO NO ,Freight and All Priority Products = True: {unique_priority_invoice_ids}\")"
   ]
  },
  {
   "cell_type": "code",
   "execution_count": 34,
   "id": "cce5a266",
   "metadata": {},
   "outputs": [
    {
     "name": "stdout",
     "output_type": "stream",
     "text": [
      "Unique Invoice IDs with PO NO ,Freight and All Priority Products and all classified = True: 12241\n"
     ]
    }
   ],
   "source": [
    "# Filter rows where 'po_no' is not null and 'all_priority_products' is True\n",
    "priority_filtered_df = all_priority_filtered_df[all_priority_filtered_df['all_accounts_2008_classified'] == True]\n",
    "\n",
    "# Calculate the unique invoice IDs\n",
    "unique_priority_invoice_ids = priority_filtered_df['invoice_id'].nunique()\n",
    "\n",
    "# Print the result\n",
    "print(f\"Unique Invoice IDs with PO NO ,Freight and All Priority Products and all classified = True: {unique_priority_invoice_ids}\")"
   ]
  },
  {
   "cell_type": "code",
   "execution_count": 35,
   "id": "5da3ab1d",
   "metadata": {},
   "outputs": [],
   "source": [
    "timestamp = datetime.now().strftime(\"%Y%m%d_%H%M%S\")\n",
    "\n",
    "mapped_df.to_csv(f'../../data/output/enhanced_data_{timestamp}.csv', index=False)\n",
    "# Display the first few rows of the filtered DataFrame  "
   ]
  },
  {
   "cell_type": "markdown",
   "id": "79dfb818",
   "metadata": {},
   "source": []
  }
 ],
 "metadata": {
  "kernelspec": {
   "display_name": "base",
   "language": "python",
   "name": "python3"
  },
  "language_info": {
   "codemirror_mode": {
    "name": "ipython",
    "version": 3
   },
   "file_extension": ".py",
   "mimetype": "text/x-python",
   "name": "python",
   "nbconvert_exporter": "python",
   "pygments_lexer": "ipython3",
   "version": "3.9.7"
  }
 },
 "nbformat": 4,
 "nbformat_minor": 5
}
