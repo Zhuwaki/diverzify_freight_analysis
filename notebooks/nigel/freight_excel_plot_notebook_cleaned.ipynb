{
  "cells": [
    {
      "cell_type": "code",
      "execution_count": 5,
      "metadata": {},
      "outputs": [],
      "source": [
        "import pandas as pd\n",
        "from openpyxl import Workbook\n",
        "from openpyxl.chart import ScatterChart, Series, Reference\n",
        "from openpyxl.utils.dataframe import dataframe_to_rows\n",
        "\n",
        "# Load and clean the dataset\n",
        "df_raw = pd.read_excel('../nigel/output_freight_analysis/DIT_1CPT_freight_costs.xlsx')  # Replace with actual path\n",
        "df = df_raw[[\n",
        "    'quantity_sqyd',\n",
        "    'vendor_estimated_cost',\n",
        "    'actual_freight_cost',\n",
        "    'ftl_cost',\n",
        "    'ltl_only_cost',\n",
        "    'optimal_cost'\n",
        "]].copy()\n",
        "\n",
        "# Create workbook and worksheet\n",
        "wb = Workbook()\n",
        "ws = wb.active\n",
        "ws.title = \"Freight Chart\"\n",
        "\n",
        "# Add data to worksheet\n",
        "for r in dataframe_to_rows(df, index=False, header=True):\n",
        "    ws.append(r)\n",
        "\n",
        "# Set up chart\n",
        "chart = ScatterChart()\n",
        "#chart.title = \"Freight Cost Overlay\"\n",
        "chart.x_axis.title = \"Quantity (SQYD)\"\n",
        "chart.y_axis.title = \"Freight Cost ($)\"\n",
        "chart.legend.position = \"t\"\n",
        "\n",
        "max_row = ws.max_row\n",
        "x_values = Reference(ws, min_col=1, min_row=2, max_row=max_row)\n",
        "\n",
        "# Add each series\n",
        "def add_series(title, y_col, marker=None):\n",
        "    y_values = Reference(ws, min_col=y_col, min_row=2, max_row=max_row)\n",
        "    series = Series(y_values, x_values, title=title)\n",
        "    if marker:\n",
        "        series.marker.symbol = marker\n",
        "        series.graphicalProperties.line.noFill = True\n",
        "    chart.series.append(series)\n",
        "\n",
        "add_series(\"XGS Cost Curve\", 2)\n",
        "add_series(\"Historical Freight Spend\", 3, marker=\"circle\")\n",
        "add_series(\"FTL Cost\", 4)\n",
        "add_series(\"LTL Cost\", 5, marker=\"circle\")\n",
        "add_series(\"Optimal Cost\", 6, marker=\"circle\")\n",
        "\n",
        "# Add chart to sheet\n",
        "ws.add_chart(chart, \"H2\")\n",
        "\n",
        "# Save to file\n",
        "wb.save(\"freight_chart_notebook.xlsx\")\n"
      ]
    }
  ],
  "metadata": {
    "kernelspec": {
      "display_name": "base",
      "language": "python",
      "name": "python3"
    },
    "language_info": {
      "codemirror_mode": {
        "name": "ipython",
        "version": 3
      },
      "file_extension": ".py",
      "mimetype": "text/x-python",
      "name": "python",
      "nbconvert_exporter": "python",
      "pygments_lexer": "ipython3",
      "version": "3.9.7"
    }
  },
  "nbformat": 4,
  "nbformat_minor": 2
}
