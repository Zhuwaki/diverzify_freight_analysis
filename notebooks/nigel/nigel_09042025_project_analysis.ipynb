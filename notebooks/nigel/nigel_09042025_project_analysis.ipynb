{
 "cells": [
  {
   "cell_type": "code",
   "execution_count": null,
   "id": "1f20d5d3",
   "metadata": {},
   "outputs": [],
   "source": [
    "import pandas as pd\n",
    "import matplotlib.pyplot as plt\n",
    "\n",
    "# Load your dataset\n",
    "file_path = \"../../data/input/Freight_Cost_Analysis_CY2024-03.25.csv\"\n",
    "df = pd.read_csv(file_path, encoding=\"latin1\", low_memory=False)\n",
    "df.head()"
   ]
  },
  {
   "cell_type": "code",
   "execution_count": null,
   "id": "543a7a61",
   "metadata": {},
   "outputs": [
    {
     "data": {
      "text/plain": [
       "Index(['SITE', 'SITE DESCRIPTION', 'SUPPLIER NO', 'SUPPLIER NAME',\n",
       "       'INVOICE ID', 'INVOICE NO', 'DATE POSTED', 'PROJECT ID', 'PROJECT NAME',\n",
       "       'ACCOUNT', 'ACCOUNT DESCRIPTION', 'PLANNED DELIVERY DATE',\n",
       "       'SHIP TO ZIP', 'PO NO', 'PO LINE NO', 'PO REL NO', 'RECEIPT NO',\n",
       "       'PART NO', 'PART DESCRIPTION', 'COMM 1', 'COMM 2', 'PO PURCH QTY',\n",
       "       'PURCH UOM', 'PO INV QTY', 'INV UOM', 'INVOICED LINE QTY',\n",
       "       'INVOICE LINE TOTAL', 'PO PRICE'],\n",
       "      dtype='object')"
      ]
     },
     "execution_count": 5,
     "metadata": {},
     "output_type": "execute_result"
    }
   ],
   "source": [
    "df.columns"
   ]
  },
  {
   "cell_type": "code",
   "execution_count": null,
   "id": "18b45e4f",
   "metadata": {},
   "outputs": [
    {
     "name": "stderr",
     "output_type": "stream",
     "text": [
      "C:\\Users\\nzhuw\\AppData\\Local\\Temp/ipykernel_8608/1916516818.py:1: FutureWarning: Indexing with multiple keys (implicitly converted to a tuple of keys) will be deprecated, use a list instead.\n",
      "  summary = df.groupby(['ACCOUNT', 'ACCOUNT DESCRIPTION'])['PROJECT ID','INVOICE ID','PO NO'].nunique().reset_index().sort_values(by='INVOICE ID', ascending=False)\n"
     ]
    },
    {
     "data": {
      "application/vnd.microsoft.datawrangler.viewer.v0+json": {
       "columns": [
        {
         "name": "index",
         "rawType": "int64",
         "type": "integer"
        },
        {
         "name": "ACCOUNT",
         "rawType": "int64",
         "type": "integer"
        },
        {
         "name": "ACCOUNT DESCRIPTION",
         "rawType": "object",
         "type": "string"
        },
        {
         "name": "PROJECT ID",
         "rawType": "int64",
         "type": "integer"
        },
        {
         "name": "Unique Invoice Count",
         "rawType": "int64",
         "type": "integer"
        },
        {
         "name": "PO NO",
         "rawType": "int64",
         "type": "integer"
        }
       ],
       "conversionMethod": "pd.DataFrame",
       "ref": "36b01c8a-5dda-456b-89d2-c2d72143aadc",
       "rows": [
        [
         "23",
         "2008",
         "Received Not Yet Invoiced",
         "26528",
         "152613",
         "138849"
        ],
        [
         "72",
         "5504",
         "PROJECT Freight",
         "17863",
         "55942",
         "45783"
        ],
        [
         "66",
         "5205",
         "PROJECT PO Variance M181 & M182",
         "11269",
         "24488",
         "22183"
        ],
        [
         "63",
         "5200",
         "PROJECT Supplies and Materials",
         "3723",
         "7403",
         "3868"
        ],
        [
         "28",
         "2015",
         "Sales Tax Payable",
         "2246",
         "7069",
         "4040"
        ],
        [
         "74",
         "5599",
         "PROJECT Use Tax for Jobs",
         "2331",
         "6036",
         "3846"
        ],
        [
         "97",
         "6108",
         "Warehouse Trash",
         "1593",
         "4744",
         "3945"
        ],
        [
         "69",
         "5500",
         "PROJECT Other Direct Costs",
         "2241",
         "4433",
         "1665"
        ],
        [
         "108",
         "6207",
         "Delivery Other",
         "72",
         "3317",
         "1814"
        ],
        [
         "88",
         "5999",
         "Purchase Discounts",
         "1136",
         "2079",
         "1901"
        ],
        [
         "96",
         "6107",
         "Warehouse Supplies",
         "81",
         "2070",
         "643"
        ],
        [
         "130",
         "7300",
         "Office Expense",
         "28",
         "1669",
         "16"
        ],
        [
         "11",
         "1407",
         "Advance Invoice",
         "861",
         "1531",
         "1374"
        ],
        [
         "171",
         "7912",
         "Building Maintenance - Other",
         "5",
         "1357",
         "56"
        ],
        [
         "98",
         "6109",
         "Warehouse Other",
         "17",
         "1281",
         "212"
        ],
        [
         "134",
         "7400",
         "Utilities",
         "3",
         "1082",
         "1"
        ],
        [
         "100",
         "6111",
         "Warehouse Count Variances",
         "44",
         "896",
         "754"
        ],
        [
         "133",
         "7305",
         "Postage / Delivery",
         "7",
         "834",
         "3"
        ],
        [
         "153",
         "7606",
         "Professional Fees",
         "6",
         "816",
         "7"
        ],
        [
         "68",
         "5400",
         "PROJECT Sub-Contract Labor",
         "597",
         "789",
         "224"
        ],
        [
         "138",
         "7404",
         "Outside IT Services",
         "1",
         "737",
         "0"
        ],
        [
         "156",
         "7609",
         "Temporary Staffing",
         "1",
         "670",
         "0"
        ],
        [
         "48",
         "2211",
         "Deferred Rent Liability",
         "0",
         "666",
         "0"
        ],
        [
         "172",
         "7913",
         "Safety Costs",
         "1",
         "462",
         "1"
        ],
        [
         "102",
         "6201",
         "Delivery Fuel",
         "3",
         "433",
         "3"
        ],
        [
         "42",
         "2048",
         "Union Payable",
         "0",
         "409",
         "0"
        ],
        [
         "94",
         "6105",
         "Warehouse Forklift Repairs",
         "2",
         "402",
         "4"
        ],
        [
         "76",
         "5602",
         "PROJECT Rental Charges",
         "138",
         "380",
         "6"
        ],
        [
         "169",
         "7910",
         "Late Fees on Invoices",
         "22",
         "366",
         "10"
        ],
        [
         "24",
         "2009",
         "2008  Received Not Yet Invoiced  WinBid",
         "212",
         "358",
         "15"
        ],
        [
         "144",
         "7501",
         "Marketing",
         "1",
         "335",
         "0"
        ],
        [
         "105",
         "6204",
         "Delivery Rental",
         "1",
         "308",
         "3"
        ],
        [
         "131",
         "7301",
         "General Supplies/Materials",
         "0",
         "302",
         "4"
        ],
        [
         "186",
         "9005",
         "Property Taxes",
         "0",
         "279",
         "0"
        ],
        [
         "132",
         "7302",
         "Business Licenses",
         "0",
         "269",
         "0"
        ],
        [
         "157",
         "7620",
         "Estimating Services - External",
         "0",
         "263",
         "0"
        ],
        [
         "16",
         "1420",
         "CARE Stewardship Fee",
         "190",
         "253",
         "222"
        ],
        [
         "15",
         "1412",
         "Prepaid Expenses - Credit Cards",
         "21",
         "228",
         "22"
        ],
        [
         "91",
         "6102",
         "Warehouse Equipment",
         "4",
         "227",
         "5"
        ],
        [
         "152",
         "7604",
         "Legal Fees",
         "0",
         "225",
         "0"
        ],
        [
         "155",
         "7608",
         "Recruiting Fees",
         "0",
         "208",
         "0"
        ],
        [
         "36",
         "2030",
         "401K Plan Accounts Payable",
         "0",
         "197",
         "0"
        ],
        [
         "92",
         "6103",
         "Warehouse Tools",
         "0",
         "196",
         "68"
        ],
        [
         "64",
         "5201",
         "PROJECT Received Project Material",
         "88",
         "195",
         "114"
        ],
        [
         "163",
         "7800",
         "Rent - Building",
         "0",
         "191",
         "0"
        ],
        [
         "184",
         "7926",
         "Building: Property Insurance",
         "0",
         "185",
         "0"
        ],
        [
         "180",
         "7922",
         "Building Maintenance - Cleaning Supplies",
         "0",
         "171",
         "0"
        ],
        [
         "83",
         "5808",
         "SERVICE Sub Labor",
         "4",
         "157",
         "135"
        ],
        [
         "150",
         "7601",
         "Professional Fees (Other)",
         "0",
         "152",
         "0"
        ],
        [
         "103",
         "6202",
         "Delivery Parking & Tolls / Tickets",
         "0",
         "152",
         "0"
        ]
       ],
       "shape": {
        "columns": 5,
        "rows": 195
       }
      },
      "text/html": [
       "<div>\n",
       "<style scoped>\n",
       "    .dataframe tbody tr th:only-of-type {\n",
       "        vertical-align: middle;\n",
       "    }\n",
       "\n",
       "    .dataframe tbody tr th {\n",
       "        vertical-align: top;\n",
       "    }\n",
       "\n",
       "    .dataframe thead th {\n",
       "        text-align: right;\n",
       "    }\n",
       "</style>\n",
       "<table border=\"1\" class=\"dataframe\">\n",
       "  <thead>\n",
       "    <tr style=\"text-align: right;\">\n",
       "      <th></th>\n",
       "      <th>ACCOUNT</th>\n",
       "      <th>ACCOUNT DESCRIPTION</th>\n",
       "      <th>PROJECT ID</th>\n",
       "      <th>Unique Invoice Count</th>\n",
       "      <th>PO NO</th>\n",
       "    </tr>\n",
       "  </thead>\n",
       "  <tbody>\n",
       "    <tr>\n",
       "      <th>23</th>\n",
       "      <td>2008</td>\n",
       "      <td>Received Not Yet Invoiced</td>\n",
       "      <td>26528</td>\n",
       "      <td>152613</td>\n",
       "      <td>138849</td>\n",
       "    </tr>\n",
       "    <tr>\n",
       "      <th>72</th>\n",
       "      <td>5504</td>\n",
       "      <td>PROJECT Freight</td>\n",
       "      <td>17863</td>\n",
       "      <td>55942</td>\n",
       "      <td>45783</td>\n",
       "    </tr>\n",
       "    <tr>\n",
       "      <th>66</th>\n",
       "      <td>5205</td>\n",
       "      <td>PROJECT PO Variance M181 &amp; M182</td>\n",
       "      <td>11269</td>\n",
       "      <td>24488</td>\n",
       "      <td>22183</td>\n",
       "    </tr>\n",
       "    <tr>\n",
       "      <th>63</th>\n",
       "      <td>5200</td>\n",
       "      <td>PROJECT Supplies and Materials</td>\n",
       "      <td>3723</td>\n",
       "      <td>7403</td>\n",
       "      <td>3868</td>\n",
       "    </tr>\n",
       "    <tr>\n",
       "      <th>28</th>\n",
       "      <td>2015</td>\n",
       "      <td>Sales Tax Payable</td>\n",
       "      <td>2246</td>\n",
       "      <td>7069</td>\n",
       "      <td>4040</td>\n",
       "    </tr>\n",
       "    <tr>\n",
       "      <th>...</th>\n",
       "      <td>...</td>\n",
       "      <td>...</td>\n",
       "      <td>...</td>\n",
       "      <td>...</td>\n",
       "      <td>...</td>\n",
       "    </tr>\n",
       "    <tr>\n",
       "      <th>59</th>\n",
       "      <td>3000</td>\n",
       "      <td>Distribution (Kiefers)</td>\n",
       "      <td>0</td>\n",
       "      <td>1</td>\n",
       "      <td>0</td>\n",
       "    </tr>\n",
       "    <tr>\n",
       "      <th>122</th>\n",
       "      <td>7200</td>\n",
       "      <td>Accrued Credit Card Expense</td>\n",
       "      <td>0</td>\n",
       "      <td>1</td>\n",
       "      <td>0</td>\n",
       "    </tr>\n",
       "    <tr>\n",
       "      <th>1</th>\n",
       "      <td>1225</td>\n",
       "      <td>Other Receivable</td>\n",
       "      <td>0</td>\n",
       "      <td>1</td>\n",
       "      <td>0</td>\n",
       "    </tr>\n",
       "    <tr>\n",
       "      <th>86</th>\n",
       "      <td>5851</td>\n",
       "      <td>COGS - Procurement Services</td>\n",
       "      <td>0</td>\n",
       "      <td>1</td>\n",
       "      <td>1</td>\n",
       "    </tr>\n",
       "    <tr>\n",
       "      <th>0</th>\n",
       "      <td>1124</td>\n",
       "      <td>Manual Cash Adjustments</td>\n",
       "      <td>0</td>\n",
       "      <td>1</td>\n",
       "      <td>0</td>\n",
       "    </tr>\n",
       "  </tbody>\n",
       "</table>\n",
       "<p>195 rows × 5 columns</p>\n",
       "</div>"
      ],
      "text/plain": [
       "     ACCOUNT              ACCOUNT DESCRIPTION  PROJECT ID  \\\n",
       "23      2008        Received Not Yet Invoiced       26528   \n",
       "72      5504                  PROJECT Freight       17863   \n",
       "66      5205  PROJECT PO Variance M181 & M182       11269   \n",
       "63      5200   PROJECT Supplies and Materials        3723   \n",
       "28      2015                Sales Tax Payable        2246   \n",
       "..       ...                              ...         ...   \n",
       "59      3000           Distribution (Kiefers)           0   \n",
       "122     7200      Accrued Credit Card Expense           0   \n",
       "1       1225                 Other Receivable           0   \n",
       "86      5851      COGS - Procurement Services           0   \n",
       "0       1124          Manual Cash Adjustments           0   \n",
       "\n",
       "     Unique Invoice Count   PO NO  \n",
       "23                 152613  138849  \n",
       "72                  55942   45783  \n",
       "66                  24488   22183  \n",
       "63                   7403    3868  \n",
       "28                   7069    4040  \n",
       "..                    ...     ...  \n",
       "59                      1       0  \n",
       "122                     1       0  \n",
       "1                       1       0  \n",
       "86                      1       1  \n",
       "0                       1       0  \n",
       "\n",
       "[195 rows x 5 columns]"
      ]
     },
     "execution_count": 13,
     "metadata": {},
     "output_type": "execute_result"
    }
   ],
   "source": [
    "summary = df.groupby(['ACCOUNT', 'ACCOUNT DESCRIPTION'])['PROJECT ID','INVOICE ID','PO NO'].nunique().reset_index().sort_values(by='INVOICE ID', ascending=False)\n",
    "summary.rename(columns={'INVOICE ID': 'Unique Invoice Count'}, inplace=True)\n",
    "summary"
   ]
  },
  {
   "cell_type": "code",
   "execution_count": null,
   "id": "d72c112d",
   "metadata": {},
   "outputs": [
    {
     "data": {
      "application/vnd.microsoft.datawrangler.viewer.v0+json": {
       "columns": [
        {
         "name": "index",
         "rawType": "int64",
         "type": "integer"
        },
        {
         "name": "PROJECT NAME",
         "rawType": "object",
         "type": "string"
        },
        {
         "name": "PROJECT ID",
         "rawType": "object",
         "type": "string"
        },
        {
         "name": "INVOICE ID",
         "rawType": "int64",
         "type": "integer"
        },
        {
         "name": "SUPPLIER NO",
         "rawType": "object",
         "type": "string"
        },
        {
         "name": "SUPPLIER NAME",
         "rawType": "object",
         "type": "string"
        },
        {
         "name": "INVOICE NO",
         "rawType": "int64",
         "type": "integer"
        },
        {
         "name": "PO NO",
         "rawType": "int64",
         "type": "integer"
        }
       ],
       "conversionMethod": "pd.DataFrame",
       "ref": "c4a99d0d-cdd3-478b-904c-04de8b7d307d",
       "rows": [
        [
         "0",
         "AMITA Health Holding",
         "1000-D",
         "442358",
         "108164",
         "Mannington Mills, Inc.",
         "1",
         "1"
        ],
        [
         "1",
         "AMITA Health Holding",
         "1000-D",
         "448262",
         "125814",
         "All Tile Holdings LLC",
         "1",
         "0"
        ],
        [
         "2",
         "AMITA Health Holding",
         "1000-D",
         "448663",
         "890",
         "All Surfaces",
         "1",
         "1"
        ],
        [
         "3",
         "AMITA Health Holding",
         "1000-D",
         "462578",
         "100613",
         "Florstar Sales, Inc",
         "1",
         "1"
        ],
        [
         "4",
         "AMITA Health Holding",
         "1000-D",
         "489433",
         "100613",
         "Florstar Sales, Inc",
         "1",
         "1"
        ],
        [
         "5",
         "AMITA Health Holding",
         "1000-D",
         "507348",
         "102775",
         "Interface Americas, Inc.",
         "1",
         "1"
        ],
        [
         "6",
         "AMITA Health Holding",
         "1000-D",
         "591628",
         "100613",
         "Florstar Sales, Inc",
         "1",
         "1"
        ],
        [
         "7",
         "AMITA Health Holding",
         "1000-D",
         "598811",
         "102775",
         "Interface Americas, Inc.",
         "1",
         "1"
        ],
        [
         "8",
         "AMITA Health Holding",
         "1000-D",
         "609732",
         "102775",
         "Interface Americas, Inc.",
         "1",
         "1"
        ],
        [
         "9",
         "AMITA Health Holding",
         "1000-D",
         "644227",
         "102775",
         "Interface Americas, Inc.",
         "1",
         "1"
        ],
        [
         "10",
         "AMITA Health Holding",
         "1000-D",
         "660902",
         "100613",
         "Florstar Sales, Inc",
         "1",
         "1"
        ],
        [
         "11",
         "AMITA Health Holding",
         "1000-D",
         "677478",
         "125814",
         "All Surfaces",
         "1",
         "1"
        ],
        [
         "12",
         "AMITA Health Holding",
         "1000-D",
         "686151",
         "122068",
         "EJ Welch Co, Inc",
         "1",
         "1"
        ],
        [
         "13",
         "AMITA Health Holding",
         "1000-D",
         "705850",
         "100613",
         "Florstar Sales, Inc",
         "1",
         "1"
        ],
        [
         "14",
         "AMITA Health Holding",
         "1000-D",
         "710206",
         "100613",
         "Florstar Sales, Inc",
         "1",
         "1"
        ],
        [
         "15",
         "AMITA Health Holding",
         "1000-D",
         "716107",
         "102775",
         "Interface Americas, Inc.",
         "1",
         "1"
        ],
        [
         "16",
         "AMITA Health Holding",
         "1000-D",
         "733244",
         "100613",
         "Florstar Sales, Inc",
         "1",
         "1"
        ],
        [
         "17",
         "AMITA Health Holding",
         "1000-D",
         "1008076",
         "100613",
         "Florstar Sales, Inc",
         "1",
         "1"
        ],
        [
         "18",
         "AMITA Health Holding",
         "1000-D",
         "1009829",
         "100613",
         "Florstar Sales, Inc",
         "1",
         "1"
        ],
        [
         "19",
         "AMITA Health Holding",
         "1000-D",
         "1019284",
         "100613",
         "Florstar Sales, Inc",
         "1",
         "1"
        ],
        [
         "20",
         "AMITA Health Holding",
         "1000-D",
         "1033983",
         "890",
         "All Surfaces",
         "1",
         "1"
        ],
        [
         "21",
         "AMITA Health Holding",
         "1000-D",
         "1045010",
         "100613",
         "Florstar Sales, Inc",
         "1",
         "1"
        ],
        [
         "22",
         "AMITA Health Holding",
         "1000-D",
         "1067502",
         "890",
         "All Surfaces",
         "1",
         "1"
        ],
        [
         "23",
         "AMITA Health Holding",
         "1000-D",
         "1096287",
         "890",
         "All Surfaces",
         "1",
         "1"
        ],
        [
         "24",
         "AMITA Health Holding",
         "1000-D",
         "1123589",
         "890",
         "All Surfaces",
         "1",
         "1"
        ],
        [
         "25",
         "AMITA Health Holding",
         "1000-D",
         "1140680",
         "890",
         "All Surfaces",
         "1",
         "1"
        ],
        [
         "26",
         "AMITA Health Holding",
         "1000-D",
         "1163393",
         "100613",
         "Florstar Sales, Inc",
         "1",
         "1"
        ],
        [
         "27",
         "AMITA Health Holding",
         "1000-D",
         "1212472",
         "890",
         "All Surfaces",
         "1",
         "1"
        ],
        [
         "28",
         "AMITA Health Holding",
         "1000-D",
         "1261261",
         "100613",
         "Florstar Sales, Inc",
         "1",
         "1"
        ],
        [
         "29",
         "AMITA Health Holding",
         "1000-D",
         "1295670",
         "890",
         "All Surfaces",
         "1",
         "1"
        ],
        [
         "30",
         "AMITA Health Holding",
         "1000-D",
         "1642515",
         "890",
         "All Surfaces",
         "1",
         "1"
        ],
        [
         "31",
         "AMITA Health Holding",
         "1000-D",
         "1652148",
         "890",
         "All Surfaces",
         "1",
         "1"
        ],
        [
         "32",
         "AMITA Health Holding",
         "1000-D",
         "1655135",
         "108164",
         "Mannington Mills, Inc.",
         "1",
         "1"
        ],
        [
         "33",
         "AMITA Health Holding",
         "1000-D",
         "1659678",
         "100613",
         "Florstar Sales, Inc",
         "1",
         "1"
        ],
        [
         "34",
         "AMITA Health Holding",
         "1000-D",
         "1662762",
         "890",
         "All Surfaces",
         "1",
         "1"
        ],
        [
         "35",
         "AMITA Health Holding",
         "1000-D",
         "1663215",
         "122068",
         "EJ Welch Co, Inc",
         "1",
         "1"
        ],
        [
         "36",
         "AMITA Health Holding",
         "1000-D",
         "1669117",
         "102775",
         "Interface Americas, Inc.",
         "1",
         "1"
        ],
        [
         "37",
         "AMITA Health Holding",
         "1000-D",
         "1680245",
         "102775",
         "Interface Americas, Inc.",
         "1",
         "1"
        ],
        [
         "38",
         "AMITA Health Holding",
         "1000-D",
         "1686815",
         "122068",
         "EJ Welch Co, Inc",
         "1",
         "1"
        ],
        [
         "39",
         "AMITA Health Holding",
         "1000-D",
         "1704481",
         "108164",
         "Mannington Mills, Inc.",
         "1",
         "1"
        ],
        [
         "40",
         "AMITA Health Holding",
         "1000-D",
         "1706643",
         "890",
         "All Surfaces",
         "1",
         "1"
        ],
        [
         "41",
         "AMITA Health Holding",
         "1000-D",
         "1707710",
         "102967",
         "Color Rite Inc",
         "1",
         "1"
        ],
        [
         "42",
         "AMITA Health Holding",
         "1000-D",
         "1714031",
         "890",
         "All Surfaces",
         "1",
         "1"
        ],
        [
         "43",
         "Louisville Umbrella Labor",
         "1001",
         "1170637",
         "100721",
         "HELIX PROFESSIONAL TOOLS",
         "1",
         "1"
        ],
        [
         "44",
         "Abbvie/Abbott Holding",
         "1001-D",
         "445373",
         "100165",
         "Bentley Carpet Mills",
         "1",
         "1"
        ],
        [
         "45",
         "Abbvie/Abbott Holding",
         "1001-D",
         "451507",
         "108342",
         "L&P Financial Services Co.",
         "1",
         "1"
        ],
        [
         "46",
         "Abbvie/Abbott Holding",
         "1001-D",
         "451547",
         "108342",
         "L&P Financial Services Co.",
         "1",
         "1"
        ],
        [
         "47",
         "Abbvie/Abbott Holding",
         "1001-D",
         "468530",
         "101526",
         "Shaw Industries, Inc.",
         "1",
         "1"
        ],
        [
         "48",
         "Abbvie/Abbott Holding",
         "1001-D",
         "486760",
         "100519",
         "EJ Welch Co, Inc",
         "1",
         "0"
        ],
        [
         "49",
         "Abbvie/Abbott Holding",
         "1001-D",
         "490465",
         "890",
         "All Surfaces",
         "1",
         "1"
        ]
       ],
       "shape": {
        "columns": 7,
        "rows": 161195
       }
      },
      "text/html": [
       "<div>\n",
       "<style scoped>\n",
       "    .dataframe tbody tr th:only-of-type {\n",
       "        vertical-align: middle;\n",
       "    }\n",
       "\n",
       "    .dataframe tbody tr th {\n",
       "        vertical-align: top;\n",
       "    }\n",
       "\n",
       "    .dataframe thead th {\n",
       "        text-align: right;\n",
       "    }\n",
       "</style>\n",
       "<table border=\"1\" class=\"dataframe\">\n",
       "  <thead>\n",
       "    <tr style=\"text-align: right;\">\n",
       "      <th></th>\n",
       "      <th>PROJECT NAME</th>\n",
       "      <th>PROJECT ID</th>\n",
       "      <th>INVOICE ID</th>\n",
       "      <th>SUPPLIER NO</th>\n",
       "      <th>SUPPLIER NAME</th>\n",
       "      <th>INVOICE NO</th>\n",
       "      <th>PO NO</th>\n",
       "    </tr>\n",
       "  </thead>\n",
       "  <tbody>\n",
       "    <tr>\n",
       "      <th>0</th>\n",
       "      <td>AMITA Health Holding</td>\n",
       "      <td>1000-D</td>\n",
       "      <td>442358</td>\n",
       "      <td>108164</td>\n",
       "      <td>Mannington Mills, Inc.</td>\n",
       "      <td>1</td>\n",
       "      <td>1</td>\n",
       "    </tr>\n",
       "    <tr>\n",
       "      <th>1</th>\n",
       "      <td>AMITA Health Holding</td>\n",
       "      <td>1000-D</td>\n",
       "      <td>448262</td>\n",
       "      <td>125814</td>\n",
       "      <td>All Tile Holdings LLC</td>\n",
       "      <td>1</td>\n",
       "      <td>0</td>\n",
       "    </tr>\n",
       "    <tr>\n",
       "      <th>2</th>\n",
       "      <td>AMITA Health Holding</td>\n",
       "      <td>1000-D</td>\n",
       "      <td>448663</td>\n",
       "      <td>890</td>\n",
       "      <td>All Surfaces</td>\n",
       "      <td>1</td>\n",
       "      <td>1</td>\n",
       "    </tr>\n",
       "    <tr>\n",
       "      <th>3</th>\n",
       "      <td>AMITA Health Holding</td>\n",
       "      <td>1000-D</td>\n",
       "      <td>462578</td>\n",
       "      <td>100613</td>\n",
       "      <td>Florstar Sales, Inc</td>\n",
       "      <td>1</td>\n",
       "      <td>1</td>\n",
       "    </tr>\n",
       "    <tr>\n",
       "      <th>4</th>\n",
       "      <td>AMITA Health Holding</td>\n",
       "      <td>1000-D</td>\n",
       "      <td>489433</td>\n",
       "      <td>100613</td>\n",
       "      <td>Florstar Sales, Inc</td>\n",
       "      <td>1</td>\n",
       "      <td>1</td>\n",
       "    </tr>\n",
       "    <tr>\n",
       "      <th>...</th>\n",
       "      <td>...</td>\n",
       "      <td>...</td>\n",
       "      <td>...</td>\n",
       "      <td>...</td>\n",
       "      <td>...</td>\n",
       "      <td>...</td>\n",
       "      <td>...</td>\n",
       "    </tr>\n",
       "    <tr>\n",
       "      <th>161190</th>\n",
       "      <td>Longvine</td>\n",
       "      <td>SPWV33527</td>\n",
       "      <td>472107</td>\n",
       "      <td>123788</td>\n",
       "      <td>Castle Rock Interior Solutions LLC</td>\n",
       "      <td>1</td>\n",
       "      <td>1</td>\n",
       "    </tr>\n",
       "    <tr>\n",
       "      <th>161191</th>\n",
       "      <td>Longvine</td>\n",
       "      <td>SPWV33527</td>\n",
       "      <td>481195</td>\n",
       "      <td>103121</td>\n",
       "      <td>Professional Flooring Supply Co</td>\n",
       "      <td>1</td>\n",
       "      <td>1</td>\n",
       "    </tr>\n",
       "    <tr>\n",
       "      <th>161192</th>\n",
       "      <td>Longvine</td>\n",
       "      <td>SPWV33527</td>\n",
       "      <td>491662</td>\n",
       "      <td>124876</td>\n",
       "      <td>J &amp; M Installers LLC</td>\n",
       "      <td>1</td>\n",
       "      <td>1</td>\n",
       "    </tr>\n",
       "    <tr>\n",
       "      <th>161193</th>\n",
       "      <td>Longvine</td>\n",
       "      <td>SPWV33527</td>\n",
       "      <td>503059</td>\n",
       "      <td>121591</td>\n",
       "      <td>Custom Floors</td>\n",
       "      <td>1</td>\n",
       "      <td>1</td>\n",
       "    </tr>\n",
       "    <tr>\n",
       "      <th>161194</th>\n",
       "      <td>Amphibious Zoo</td>\n",
       "      <td>SPWV33529</td>\n",
       "      <td>441907</td>\n",
       "      <td>128903</td>\n",
       "      <td>Bering LLC</td>\n",
       "      <td>1</td>\n",
       "      <td>1</td>\n",
       "    </tr>\n",
       "  </tbody>\n",
       "</table>\n",
       "<p>161195 rows × 7 columns</p>\n",
       "</div>"
      ],
      "text/plain": [
       "                PROJECT NAME PROJECT ID  INVOICE ID SUPPLIER NO  \\\n",
       "0       AMITA Health Holding     1000-D      442358      108164   \n",
       "1       AMITA Health Holding     1000-D      448262      125814   \n",
       "2       AMITA Health Holding     1000-D      448663         890   \n",
       "3       AMITA Health Holding     1000-D      462578      100613   \n",
       "4       AMITA Health Holding     1000-D      489433      100613   \n",
       "...                      ...        ...         ...         ...   \n",
       "161190              Longvine  SPWV33527      472107      123788   \n",
       "161191              Longvine  SPWV33527      481195      103121   \n",
       "161192              Longvine  SPWV33527      491662      124876   \n",
       "161193              Longvine  SPWV33527      503059      121591   \n",
       "161194        Amphibious Zoo  SPWV33529      441907      128903   \n",
       "\n",
       "                             SUPPLIER NAME  INVOICE NO  PO NO  \n",
       "0                   Mannington Mills, Inc.           1      1  \n",
       "1                    All Tile Holdings LLC           1      0  \n",
       "2                             All Surfaces           1      1  \n",
       "3                      Florstar Sales, Inc           1      1  \n",
       "4                      Florstar Sales, Inc           1      1  \n",
       "...                                    ...         ...    ...  \n",
       "161190  Castle Rock Interior Solutions LLC           1      1  \n",
       "161191     Professional Flooring Supply Co           1      1  \n",
       "161192                J & M Installers LLC           1      1  \n",
       "161193                       Custom Floors           1      1  \n",
       "161194                          Bering LLC           1      1  \n",
       "\n",
       "[161195 rows x 7 columns]"
      ]
     },
     "execution_count": 7,
     "metadata": {},
     "output_type": "execute_result"
    }
   ],
   "source": [
    "pivot_table = df.pivot_table(\n",
    "    index=['PROJECT NAME','PROJECT ID', 'INVOICE ID','SUPPLIER NO', 'SUPPLIER NAME'],\n",
    "    values=['PO NO', 'INVOICE NO'],\n",
    "    aggfunc=pd.Series.nunique\n",
    ").sort_values(by=['PROJECT ID', 'INVOICE ID']).reset_index()\n",
    "\n",
    "pivot_table"
   ]
  },
  {
   "cell_type": "code",
   "execution_count": null,
   "id": "8676c07d",
   "metadata": {},
   "outputs": [
    {
     "data": {
      "application/vnd.microsoft.datawrangler.viewer.v0+json": {
       "columns": [
        {
         "name": "index",
         "rawType": "int64",
         "type": "integer"
        },
        {
         "name": "INVOICE ID",
         "rawType": "int64",
         "type": "integer"
        },
        {
         "name": "Has Matching Account 5504",
         "rawType": "bool",
         "type": "boolean"
        }
       ],
       "conversionMethod": "pd.DataFrame",
       "ref": "bdc8c706-4b4a-4ebb-92c2-1a3e88e4fd66",
       "rows": [
        [
         "0",
         "433731",
         "False"
        ],
        [
         "1",
         "433340",
         "True"
        ],
        [
         "2",
         "433340",
         "True"
        ],
        [
         "3",
         "433340",
         "True"
        ],
        [
         "4",
         "433340",
         "True"
        ],
        [
         "5",
         "433340",
         "True"
        ],
        [
         "6",
         "433340",
         "True"
        ],
        [
         "7",
         "433340",
         "True"
        ],
        [
         "8",
         "433340",
         "True"
        ],
        [
         "9",
         "433340",
         "True"
        ],
        [
         "10",
         "433229",
         "False"
        ],
        [
         "11",
         "433229",
         "False"
        ],
        [
         "12",
         "433229",
         "False"
        ],
        [
         "13",
         "433229",
         "False"
        ],
        [
         "14",
         "433221",
         "False"
        ],
        [
         "15",
         "433387",
         "False"
        ],
        [
         "16",
         "433387",
         "False"
        ],
        [
         "17",
         "433387",
         "False"
        ],
        [
         "18",
         "433387",
         "False"
        ],
        [
         "19",
         "435263",
         "False"
        ],
        [
         "20",
         "436841",
         "False"
        ],
        [
         "21",
         "436654",
         "False"
        ],
        [
         "22",
         "436654",
         "False"
        ],
        [
         "23",
         "436766",
         "False"
        ],
        [
         "24",
         "436804",
         "False"
        ],
        [
         "25",
         "436804",
         "False"
        ],
        [
         "26",
         "436804",
         "False"
        ],
        [
         "27",
         "436732",
         "False"
        ],
        [
         "28",
         "436785",
         "False"
        ],
        [
         "29",
         "436785",
         "False"
        ],
        [
         "30",
         "441835",
         "False"
        ],
        [
         "31",
         "443411",
         "True"
        ],
        [
         "32",
         "443411",
         "True"
        ],
        [
         "33",
         "443411",
         "True"
        ],
        [
         "34",
         "443214",
         "False"
        ],
        [
         "35",
         "443214",
         "False"
        ],
        [
         "36",
         "443214",
         "False"
        ],
        [
         "37",
         "443291",
         "False"
        ],
        [
         "38",
         "443291",
         "False"
        ],
        [
         "39",
         "443291",
         "False"
        ],
        [
         "40",
         "444704",
         "False"
        ],
        [
         "41",
         "444696",
         "False"
        ],
        [
         "42",
         "444656",
         "False"
        ],
        [
         "43",
         "444656",
         "False"
        ],
        [
         "44",
         "444070",
         "True"
        ],
        [
         "45",
         "444070",
         "True"
        ],
        [
         "46",
         "444070",
         "True"
        ],
        [
         "47",
         "444893",
         "False"
        ],
        [
         "48",
         "444838",
         "False"
        ],
        [
         "49",
         "444838",
         "False"
        ]
       ],
       "shape": {
        "columns": 2,
        "rows": 441707
       }
      },
      "text/html": [
       "<div>\n",
       "<style scoped>\n",
       "    .dataframe tbody tr th:only-of-type {\n",
       "        vertical-align: middle;\n",
       "    }\n",
       "\n",
       "    .dataframe tbody tr th {\n",
       "        vertical-align: top;\n",
       "    }\n",
       "\n",
       "    .dataframe thead th {\n",
       "        text-align: right;\n",
       "    }\n",
       "</style>\n",
       "<table border=\"1\" class=\"dataframe\">\n",
       "  <thead>\n",
       "    <tr style=\"text-align: right;\">\n",
       "      <th></th>\n",
       "      <th>INVOICE ID</th>\n",
       "      <th>Has Matching Account 5504</th>\n",
       "    </tr>\n",
       "  </thead>\n",
       "  <tbody>\n",
       "    <tr>\n",
       "      <th>0</th>\n",
       "      <td>433731</td>\n",
       "      <td>False</td>\n",
       "    </tr>\n",
       "    <tr>\n",
       "      <th>1</th>\n",
       "      <td>433340</td>\n",
       "      <td>True</td>\n",
       "    </tr>\n",
       "    <tr>\n",
       "      <th>2</th>\n",
       "      <td>433340</td>\n",
       "      <td>True</td>\n",
       "    </tr>\n",
       "    <tr>\n",
       "      <th>3</th>\n",
       "      <td>433340</td>\n",
       "      <td>True</td>\n",
       "    </tr>\n",
       "    <tr>\n",
       "      <th>4</th>\n",
       "      <td>433340</td>\n",
       "      <td>True</td>\n",
       "    </tr>\n",
       "    <tr>\n",
       "      <th>...</th>\n",
       "      <td>...</td>\n",
       "      <td>...</td>\n",
       "    </tr>\n",
       "    <tr>\n",
       "      <th>441702</th>\n",
       "      <td>1731885</td>\n",
       "      <td>False</td>\n",
       "    </tr>\n",
       "    <tr>\n",
       "      <th>441703</th>\n",
       "      <td>1731996</td>\n",
       "      <td>False</td>\n",
       "    </tr>\n",
       "    <tr>\n",
       "      <th>441704</th>\n",
       "      <td>1732937</td>\n",
       "      <td>False</td>\n",
       "    </tr>\n",
       "    <tr>\n",
       "      <th>441705</th>\n",
       "      <td>1736749</td>\n",
       "      <td>False</td>\n",
       "    </tr>\n",
       "    <tr>\n",
       "      <th>441706</th>\n",
       "      <td>1750793</td>\n",
       "      <td>False</td>\n",
       "    </tr>\n",
       "  </tbody>\n",
       "</table>\n",
       "<p>441707 rows × 2 columns</p>\n",
       "</div>"
      ],
      "text/plain": [
       "        INVOICE ID  Has Matching Account 5504\n",
       "0           433731                      False\n",
       "1           433340                       True\n",
       "2           433340                       True\n",
       "3           433340                       True\n",
       "4           433340                       True\n",
       "...            ...                        ...\n",
       "441702     1731885                      False\n",
       "441703     1731996                      False\n",
       "441704     1732937                      False\n",
       "441705     1736749                      False\n",
       "441706     1750793                      False\n",
       "\n",
       "[441707 rows x 2 columns]"
      ]
     },
     "execution_count": 9,
     "metadata": {},
     "output_type": "execute_result"
    }
   ],
   "source": [
    "# Filter rows where ACCOUNT is 5504\n",
    "matching_invoices = df[df['ACCOUNT'] == 5504]\n",
    "\n",
    "# Check if INVOICE ID exists in the filtered DataFrame\n",
    "df['Has Matching Account 5504'] = df['INVOICE ID'].isin(matching_invoices['INVOICE ID'])\n",
    "\n",
    "# Display the result\n",
    "df[['INVOICE ID', 'Has Matching Account 5504']]"
   ]
  },
  {
   "cell_type": "code",
   "execution_count": null,
   "id": "7de62758",
   "metadata": {},
   "outputs": [
    {
     "data": {
      "application/vnd.microsoft.datawrangler.viewer.v0+json": {
       "columns": [
        {
         "name": "index",
         "rawType": "int64",
         "type": "integer"
        },
        {
         "name": "SITE",
         "rawType": "object",
         "type": "string"
        },
        {
         "name": "SITE DESCRIPTION",
         "rawType": "object",
         "type": "string"
        },
        {
         "name": "SUPPLIER NO",
         "rawType": "object",
         "type": "string"
        },
        {
         "name": "SUPPLIER NAME",
         "rawType": "object",
         "type": "string"
        },
        {
         "name": "INVOICE ID",
         "rawType": "int64",
         "type": "integer"
        },
        {
         "name": "INVOICE NO",
         "rawType": "object",
         "type": "string"
        },
        {
         "name": "DATE POSTED",
         "rawType": "object",
         "type": "string"
        },
        {
         "name": "PROJECT ID",
         "rawType": "object",
         "type": "string"
        },
        {
         "name": "PROJECT NAME",
         "rawType": "object",
         "type": "string"
        },
        {
         "name": "ACCOUNT",
         "rawType": "int64",
         "type": "integer"
        },
        {
         "name": "ACCOUNT DESCRIPTION",
         "rawType": "object",
         "type": "string"
        },
        {
         "name": "PLANNED DELIVERY DATE",
         "rawType": "object",
         "type": "string"
        },
        {
         "name": "SHIP TO ZIP",
         "rawType": "object",
         "type": "string"
        },
        {
         "name": "PO NO",
         "rawType": "object",
         "type": "string"
        },
        {
         "name": "PO LINE NO",
         "rawType": "object",
         "type": "string"
        },
        {
         "name": "PO REL NO",
         "rawType": "object",
         "type": "string"
        },
        {
         "name": "RECEIPT NO",
         "rawType": "float64",
         "type": "float"
        },
        {
         "name": "PART NO",
         "rawType": "object",
         "type": "string"
        },
        {
         "name": "PART DESCRIPTION",
         "rawType": "object",
         "type": "string"
        },
        {
         "name": "COMM 1",
         "rawType": "object",
         "type": "string"
        },
        {
         "name": "COMM 2",
         "rawType": "object",
         "type": "string"
        },
        {
         "name": "PO PURCH QTY",
         "rawType": "float64",
         "type": "float"
        },
        {
         "name": "PURCH UOM",
         "rawType": "object",
         "type": "string"
        },
        {
         "name": "PO INV QTY",
         "rawType": "float64",
         "type": "float"
        },
        {
         "name": "INV UOM",
         "rawType": "object",
         "type": "string"
        },
        {
         "name": "INVOICED LINE QTY",
         "rawType": "float64",
         "type": "float"
        },
        {
         "name": "INVOICE LINE TOTAL",
         "rawType": "float64",
         "type": "float"
        },
        {
         "name": "PO PRICE",
         "rawType": "float64",
         "type": "float"
        },
        {
         "name": "Has Matching Account 5504",
         "rawType": "bool",
         "type": "boolean"
        }
       ],
       "conversionMethod": "pd.DataFrame",
       "ref": "0a7bde88-b30e-41cc-8774-34f940f3f7d6",
       "rows": [
        [
         "0",
         "BNB",
         "Beckers New Brighton",
         "102548",
         "Lonseal Flooring",
         "433731",
         "0007795-CM",
         "3-Jan-24",
         "2311121922",
         "REGIONS HOSPITAL 4TH MRI",
         "5400",
         "PROJECT Sub-Contract Labor",
         null,
         null,
         null,
         null,
         null,
         null,
         null,
         null,
         null,
         null,
         null,
         null,
         null,
         null,
         null,
         "-600.0",
         null,
         "False"
        ],
        [
         "1",
         "BNB",
         "Beckers New Brighton",
         "104716",
         "Hank's Specialties",
         "433340",
         "173373",
         "3-Jan-24",
         "2312127706",
         "UOFM MOLECULAR & CELLULAR BIOLOGY P",
         "2008",
         "Received Not Yet Invoiced",
         "2-Jan-24",
         "55430",
         "48180",
         "9",
         "1",
         "1.0",
         "1000007968",
         "PROTECT ALL PRE-NOTCHED Z-BAR INSIDE CORNER ALUMINUM (864056A) 12\"X12\" ALUMINUM",
         "1ACC",
         "1ACC",
         "4.0",
         "EA",
         "4.0",
         "EA",
         "4.0",
         "18.4",
         "18.4",
         "True"
        ]
       ],
       "shape": {
        "columns": 29,
        "rows": 2
       }
      },
      "text/html": [
       "<div>\n",
       "<style scoped>\n",
       "    .dataframe tbody tr th:only-of-type {\n",
       "        vertical-align: middle;\n",
       "    }\n",
       "\n",
       "    .dataframe tbody tr th {\n",
       "        vertical-align: top;\n",
       "    }\n",
       "\n",
       "    .dataframe thead th {\n",
       "        text-align: right;\n",
       "    }\n",
       "</style>\n",
       "<table border=\"1\" class=\"dataframe\">\n",
       "  <thead>\n",
       "    <tr style=\"text-align: right;\">\n",
       "      <th></th>\n",
       "      <th>SITE</th>\n",
       "      <th>SITE DESCRIPTION</th>\n",
       "      <th>SUPPLIER NO</th>\n",
       "      <th>SUPPLIER NAME</th>\n",
       "      <th>INVOICE ID</th>\n",
       "      <th>INVOICE NO</th>\n",
       "      <th>DATE POSTED</th>\n",
       "      <th>PROJECT ID</th>\n",
       "      <th>PROJECT NAME</th>\n",
       "      <th>ACCOUNT</th>\n",
       "      <th>...</th>\n",
       "      <th>COMM 1</th>\n",
       "      <th>COMM 2</th>\n",
       "      <th>PO PURCH QTY</th>\n",
       "      <th>PURCH UOM</th>\n",
       "      <th>PO INV QTY</th>\n",
       "      <th>INV UOM</th>\n",
       "      <th>INVOICED LINE QTY</th>\n",
       "      <th>INVOICE LINE TOTAL</th>\n",
       "      <th>PO PRICE</th>\n",
       "      <th>Has Matching Account 5504</th>\n",
       "    </tr>\n",
       "  </thead>\n",
       "  <tbody>\n",
       "    <tr>\n",
       "      <th>0</th>\n",
       "      <td>BNB</td>\n",
       "      <td>Beckers New Brighton</td>\n",
       "      <td>102548</td>\n",
       "      <td>Lonseal Flooring</td>\n",
       "      <td>433731</td>\n",
       "      <td>0007795-CM</td>\n",
       "      <td>3-Jan-24</td>\n",
       "      <td>2311121922</td>\n",
       "      <td>REGIONS HOSPITAL 4TH MRI</td>\n",
       "      <td>5400</td>\n",
       "      <td>...</td>\n",
       "      <td>NaN</td>\n",
       "      <td>NaN</td>\n",
       "      <td>NaN</td>\n",
       "      <td>NaN</td>\n",
       "      <td>NaN</td>\n",
       "      <td>NaN</td>\n",
       "      <td>NaN</td>\n",
       "      <td>-600.0</td>\n",
       "      <td>NaN</td>\n",
       "      <td>False</td>\n",
       "    </tr>\n",
       "    <tr>\n",
       "      <th>1</th>\n",
       "      <td>BNB</td>\n",
       "      <td>Beckers New Brighton</td>\n",
       "      <td>104716</td>\n",
       "      <td>Hank's Specialties</td>\n",
       "      <td>433340</td>\n",
       "      <td>173373</td>\n",
       "      <td>3-Jan-24</td>\n",
       "      <td>2312127706</td>\n",
       "      <td>UOFM MOLECULAR &amp; CELLULAR BIOLOGY P</td>\n",
       "      <td>2008</td>\n",
       "      <td>...</td>\n",
       "      <td>1ACC</td>\n",
       "      <td>1ACC</td>\n",
       "      <td>4.0</td>\n",
       "      <td>EA</td>\n",
       "      <td>4.0</td>\n",
       "      <td>EA</td>\n",
       "      <td>4.0</td>\n",
       "      <td>18.4</td>\n",
       "      <td>18.4</td>\n",
       "      <td>True</td>\n",
       "    </tr>\n",
       "  </tbody>\n",
       "</table>\n",
       "<p>2 rows × 29 columns</p>\n",
       "</div>"
      ],
      "text/plain": [
       "  SITE      SITE DESCRIPTION SUPPLIER NO       SUPPLIER NAME  INVOICE ID  \\\n",
       "0  BNB  Beckers New Brighton      102548    Lonseal Flooring      433731   \n",
       "1  BNB  Beckers New Brighton      104716  Hank's Specialties      433340   \n",
       "\n",
       "   INVOICE NO DATE POSTED  PROJECT ID                         PROJECT NAME  \\\n",
       "0  0007795-CM    3-Jan-24  2311121922             REGIONS HOSPITAL 4TH MRI   \n",
       "1      173373    3-Jan-24  2312127706  UOFM MOLECULAR & CELLULAR BIOLOGY P   \n",
       "\n",
       "   ACCOUNT  ... COMM 1 COMM 2 PO PURCH QTY PURCH UOM PO INV QTY INV UOM  \\\n",
       "0     5400  ...    NaN    NaN          NaN       NaN        NaN     NaN   \n",
       "1     2008  ...   1ACC   1ACC          4.0        EA        4.0      EA   \n",
       "\n",
       "   INVOICED LINE QTY INVOICE LINE TOTAL PO PRICE Has Matching Account 5504  \n",
       "0                NaN             -600.0      NaN                     False  \n",
       "1                4.0               18.4     18.4                      True  \n",
       "\n",
       "[2 rows x 29 columns]"
      ]
     },
     "execution_count": 15,
     "metadata": {},
     "output_type": "execute_result"
    }
   ],
   "source": [
    "df.head(2)"
   ]
  },
  {
   "cell_type": "code",
   "execution_count": null,
   "id": "f0d358ed",
   "metadata": {},
   "outputs": [
    {
     "data": {
      "application/vnd.microsoft.datawrangler.viewer.v0+json": {
       "columns": [
        {
         "name": "index",
         "rawType": "int64",
         "type": "integer"
        },
        {
         "name": "PROJECT NAME",
         "rawType": "object",
         "type": "string"
        },
        {
         "name": "PROJECT ID",
         "rawType": "object",
         "type": "string"
        },
        {
         "name": "INVOICE ID",
         "rawType": "int64",
         "type": "integer"
        },
        {
         "name": "SUPPLIER NO",
         "rawType": "object",
         "type": "string"
        },
        {
         "name": "SUPPLIER NAME",
         "rawType": "object",
         "type": "string"
        },
        {
         "name": "INVOICE NO",
         "rawType": "int64",
         "type": "integer"
        },
        {
         "name": "PO NO",
         "rawType": "int64",
         "type": "integer"
        },
        {
         "name": "Exists in Pivot Table",
         "rawType": "object",
         "type": "string"
        },
        {
         "name": "Has Matching Account 5504_x",
         "rawType": "bool",
         "type": "boolean"
        },
        {
         "name": "Has Matching Account 5504_y",
         "rawType": "bool",
         "type": "boolean"
        }
       ],
       "conversionMethod": "pd.DataFrame",
       "ref": "fd94a2a8-e7ee-411b-8af5-e9f1c27082fb",
       "rows": [
        [
         "0",
         "AMITA Health Holding",
         "1000-D",
         "442358",
         "108164",
         "Mannington Mills, Inc.",
         "1",
         "1",
         null,
         "True",
         "True"
        ],
        [
         "1",
         "AMITA Health Holding",
         "1000-D",
         "442358",
         "108164",
         "Mannington Mills, Inc.",
         "1",
         "1",
         null,
         "True",
         "True"
        ],
        [
         "2",
         "AMITA Health Holding",
         "1000-D",
         "442358",
         "108164",
         "Mannington Mills, Inc.",
         "1",
         "1",
         null,
         "True",
         "True"
        ],
        [
         "3",
         "AMITA Health Holding",
         "1000-D",
         "442358",
         "108164",
         "Mannington Mills, Inc.",
         "1",
         "1",
         null,
         "True",
         "True"
        ],
        [
         "4",
         "AMITA Health Holding",
         "1000-D",
         "448262",
         "125814",
         "All Tile Holdings LLC",
         "1",
         "0",
         null,
         "False",
         "False"
        ],
        [
         "5",
         "AMITA Health Holding",
         "1000-D",
         "448262",
         "125814",
         "All Tile Holdings LLC",
         "1",
         "0",
         null,
         "False",
         "False"
        ],
        [
         "6",
         "AMITA Health Holding",
         "1000-D",
         "448262",
         "125814",
         "All Tile Holdings LLC",
         "1",
         "0",
         null,
         "False",
         "False"
        ],
        [
         "7",
         "AMITA Health Holding",
         "1000-D",
         "448262",
         "125814",
         "All Tile Holdings LLC",
         "1",
         "0",
         null,
         "False",
         "False"
        ],
        [
         "8",
         "AMITA Health Holding",
         "1000-D",
         "448663",
         "890",
         "All Surfaces",
         "1",
         "1",
         null,
         "False",
         "False"
        ],
        [
         "9",
         "AMITA Health Holding",
         "1000-D",
         "448663",
         "890",
         "All Surfaces",
         "1",
         "1",
         null,
         "False",
         "False"
        ],
        [
         "10",
         "AMITA Health Holding",
         "1000-D",
         "448663",
         "890",
         "All Surfaces",
         "1",
         "1",
         null,
         "False",
         "False"
        ],
        [
         "11",
         "AMITA Health Holding",
         "1000-D",
         "448663",
         "890",
         "All Surfaces",
         "1",
         "1",
         null,
         "False",
         "False"
        ],
        [
         "12",
         "AMITA Health Holding",
         "1000-D",
         "462578",
         "100613",
         "Florstar Sales, Inc",
         "1",
         "1",
         "True",
         "True",
         "True"
        ],
        [
         "13",
         "AMITA Health Holding",
         "1000-D",
         "462578",
         "100613",
         "Florstar Sales, Inc",
         "1",
         "1",
         "True",
         "True",
         "True"
        ],
        [
         "14",
         "AMITA Health Holding",
         "1000-D",
         "462578",
         "100613",
         "Florstar Sales, Inc",
         "1",
         "1",
         "True",
         "True",
         "True"
        ],
        [
         "15",
         "AMITA Health Holding",
         "1000-D",
         "462578",
         "100613",
         "Florstar Sales, Inc",
         "1",
         "1",
         "True",
         "True",
         "True"
        ],
        [
         "16",
         "AMITA Health Holding",
         "1000-D",
         "462578",
         "100613",
         "Florstar Sales, Inc",
         "1",
         "1",
         "True",
         "True",
         "True"
        ],
        [
         "17",
         "AMITA Health Holding",
         "1000-D",
         "462578",
         "100613",
         "Florstar Sales, Inc",
         "1",
         "1",
         "True",
         "True",
         "True"
        ],
        [
         "18",
         "AMITA Health Holding",
         "1000-D",
         "462578",
         "100613",
         "Florstar Sales, Inc",
         "1",
         "1",
         "True",
         "True",
         "True"
        ],
        [
         "19",
         "AMITA Health Holding",
         "1000-D",
         "462578",
         "100613",
         "Florstar Sales, Inc",
         "1",
         "1",
         "True",
         "True",
         "True"
        ],
        [
         "20",
         "AMITA Health Holding",
         "1000-D",
         "462578",
         "100613",
         "Florstar Sales, Inc",
         "1",
         "1",
         "True",
         "True",
         "True"
        ],
        [
         "21",
         "AMITA Health Holding",
         "1000-D",
         "462578",
         "100613",
         "Florstar Sales, Inc",
         "1",
         "1",
         "True",
         "True",
         "True"
        ],
        [
         "22",
         "AMITA Health Holding",
         "1000-D",
         "462578",
         "100613",
         "Florstar Sales, Inc",
         "1",
         "1",
         "True",
         "True",
         "True"
        ],
        [
         "23",
         "AMITA Health Holding",
         "1000-D",
         "462578",
         "100613",
         "Florstar Sales, Inc",
         "1",
         "1",
         "True",
         "True",
         "True"
        ],
        [
         "24",
         "AMITA Health Holding",
         "1000-D",
         "462578",
         "100613",
         "Florstar Sales, Inc",
         "1",
         "1",
         "True",
         "True",
         "True"
        ],
        [
         "25",
         "AMITA Health Holding",
         "1000-D",
         "462578",
         "100613",
         "Florstar Sales, Inc",
         "1",
         "1",
         "True",
         "True",
         "True"
        ],
        [
         "26",
         "AMITA Health Holding",
         "1000-D",
         "462578",
         "100613",
         "Florstar Sales, Inc",
         "1",
         "1",
         "True",
         "True",
         "True"
        ],
        [
         "27",
         "AMITA Health Holding",
         "1000-D",
         "462578",
         "100613",
         "Florstar Sales, Inc",
         "1",
         "1",
         "True",
         "True",
         "True"
        ],
        [
         "28",
         "AMITA Health Holding",
         "1000-D",
         "489433",
         "100613",
         "Florstar Sales, Inc",
         "1",
         "1",
         null,
         "False",
         "False"
        ],
        [
         "29",
         "AMITA Health Holding",
         "1000-D",
         "507348",
         "102775",
         "Interface Americas, Inc.",
         "1",
         "1",
         null,
         "True",
         "True"
        ],
        [
         "30",
         "AMITA Health Holding",
         "1000-D",
         "507348",
         "102775",
         "Interface Americas, Inc.",
         "1",
         "1",
         null,
         "True",
         "True"
        ],
        [
         "31",
         "AMITA Health Holding",
         "1000-D",
         "507348",
         "102775",
         "Interface Americas, Inc.",
         "1",
         "1",
         null,
         "True",
         "True"
        ],
        [
         "32",
         "AMITA Health Holding",
         "1000-D",
         "507348",
         "102775",
         "Interface Americas, Inc.",
         "1",
         "1",
         null,
         "True",
         "True"
        ],
        [
         "33",
         "AMITA Health Holding",
         "1000-D",
         "507348",
         "102775",
         "Interface Americas, Inc.",
         "1",
         "1",
         null,
         "True",
         "True"
        ],
        [
         "34",
         "AMITA Health Holding",
         "1000-D",
         "507348",
         "102775",
         "Interface Americas, Inc.",
         "1",
         "1",
         null,
         "True",
         "True"
        ],
        [
         "35",
         "AMITA Health Holding",
         "1000-D",
         "507348",
         "102775",
         "Interface Americas, Inc.",
         "1",
         "1",
         null,
         "True",
         "True"
        ],
        [
         "36",
         "AMITA Health Holding",
         "1000-D",
         "507348",
         "102775",
         "Interface Americas, Inc.",
         "1",
         "1",
         null,
         "True",
         "True"
        ],
        [
         "37",
         "AMITA Health Holding",
         "1000-D",
         "507348",
         "102775",
         "Interface Americas, Inc.",
         "1",
         "1",
         null,
         "True",
         "True"
        ],
        [
         "38",
         "AMITA Health Holding",
         "1000-D",
         "507348",
         "102775",
         "Interface Americas, Inc.",
         "1",
         "1",
         null,
         "True",
         "True"
        ],
        [
         "39",
         "AMITA Health Holding",
         "1000-D",
         "507348",
         "102775",
         "Interface Americas, Inc.",
         "1",
         "1",
         null,
         "True",
         "True"
        ],
        [
         "40",
         "AMITA Health Holding",
         "1000-D",
         "507348",
         "102775",
         "Interface Americas, Inc.",
         "1",
         "1",
         null,
         "True",
         "True"
        ],
        [
         "41",
         "AMITA Health Holding",
         "1000-D",
         "507348",
         "102775",
         "Interface Americas, Inc.",
         "1",
         "1",
         null,
         "True",
         "True"
        ],
        [
         "42",
         "AMITA Health Holding",
         "1000-D",
         "507348",
         "102775",
         "Interface Americas, Inc.",
         "1",
         "1",
         null,
         "True",
         "True"
        ],
        [
         "43",
         "AMITA Health Holding",
         "1000-D",
         "507348",
         "102775",
         "Interface Americas, Inc.",
         "1",
         "1",
         null,
         "True",
         "True"
        ],
        [
         "44",
         "AMITA Health Holding",
         "1000-D",
         "507348",
         "102775",
         "Interface Americas, Inc.",
         "1",
         "1",
         null,
         "True",
         "True"
        ],
        [
         "45",
         "AMITA Health Holding",
         "1000-D",
         "591628",
         "100613",
         "Florstar Sales, Inc",
         "1",
         "1",
         null,
         "False",
         "False"
        ],
        [
         "46",
         "AMITA Health Holding",
         "1000-D",
         "591628",
         "100613",
         "Florstar Sales, Inc",
         "1",
         "1",
         null,
         "False",
         "False"
        ],
        [
         "47",
         "AMITA Health Holding",
         "1000-D",
         "591628",
         "100613",
         "Florstar Sales, Inc",
         "1",
         "1",
         null,
         "False",
         "False"
        ],
        [
         "48",
         "AMITA Health Holding",
         "1000-D",
         "591628",
         "100613",
         "Florstar Sales, Inc",
         "1",
         "1",
         null,
         "False",
         "False"
        ],
        [
         "49",
         "AMITA Health Holding",
         "1000-D",
         "591628",
         "100613",
         "Florstar Sales, Inc",
         "1",
         "1",
         null,
         "False",
         "False"
        ]
       ],
       "shape": {
        "columns": 10,
        "rows": 1664351
       }
      },
      "text/html": [
       "<div>\n",
       "<style scoped>\n",
       "    .dataframe tbody tr th:only-of-type {\n",
       "        vertical-align: middle;\n",
       "    }\n",
       "\n",
       "    .dataframe tbody tr th {\n",
       "        vertical-align: top;\n",
       "    }\n",
       "\n",
       "    .dataframe thead th {\n",
       "        text-align: right;\n",
       "    }\n",
       "</style>\n",
       "<table border=\"1\" class=\"dataframe\">\n",
       "  <thead>\n",
       "    <tr style=\"text-align: right;\">\n",
       "      <th></th>\n",
       "      <th>PROJECT NAME</th>\n",
       "      <th>PROJECT ID</th>\n",
       "      <th>INVOICE ID</th>\n",
       "      <th>SUPPLIER NO</th>\n",
       "      <th>SUPPLIER NAME</th>\n",
       "      <th>INVOICE NO</th>\n",
       "      <th>PO NO</th>\n",
       "      <th>Exists in Pivot Table</th>\n",
       "      <th>Has Matching Account 5504_x</th>\n",
       "      <th>Has Matching Account 5504_y</th>\n",
       "    </tr>\n",
       "  </thead>\n",
       "  <tbody>\n",
       "    <tr>\n",
       "      <th>0</th>\n",
       "      <td>AMITA Health Holding</td>\n",
       "      <td>1000-D</td>\n",
       "      <td>442358</td>\n",
       "      <td>108164</td>\n",
       "      <td>Mannington Mills, Inc.</td>\n",
       "      <td>1</td>\n",
       "      <td>1</td>\n",
       "      <td>NaN</td>\n",
       "      <td>True</td>\n",
       "      <td>True</td>\n",
       "    </tr>\n",
       "    <tr>\n",
       "      <th>1</th>\n",
       "      <td>AMITA Health Holding</td>\n",
       "      <td>1000-D</td>\n",
       "      <td>442358</td>\n",
       "      <td>108164</td>\n",
       "      <td>Mannington Mills, Inc.</td>\n",
       "      <td>1</td>\n",
       "      <td>1</td>\n",
       "      <td>NaN</td>\n",
       "      <td>True</td>\n",
       "      <td>True</td>\n",
       "    </tr>\n",
       "    <tr>\n",
       "      <th>2</th>\n",
       "      <td>AMITA Health Holding</td>\n",
       "      <td>1000-D</td>\n",
       "      <td>442358</td>\n",
       "      <td>108164</td>\n",
       "      <td>Mannington Mills, Inc.</td>\n",
       "      <td>1</td>\n",
       "      <td>1</td>\n",
       "      <td>NaN</td>\n",
       "      <td>True</td>\n",
       "      <td>True</td>\n",
       "    </tr>\n",
       "    <tr>\n",
       "      <th>3</th>\n",
       "      <td>AMITA Health Holding</td>\n",
       "      <td>1000-D</td>\n",
       "      <td>442358</td>\n",
       "      <td>108164</td>\n",
       "      <td>Mannington Mills, Inc.</td>\n",
       "      <td>1</td>\n",
       "      <td>1</td>\n",
       "      <td>NaN</td>\n",
       "      <td>True</td>\n",
       "      <td>True</td>\n",
       "    </tr>\n",
       "    <tr>\n",
       "      <th>4</th>\n",
       "      <td>AMITA Health Holding</td>\n",
       "      <td>1000-D</td>\n",
       "      <td>448262</td>\n",
       "      <td>125814</td>\n",
       "      <td>All Tile Holdings LLC</td>\n",
       "      <td>1</td>\n",
       "      <td>0</td>\n",
       "      <td>NaN</td>\n",
       "      <td>False</td>\n",
       "      <td>False</td>\n",
       "    </tr>\n",
       "    <tr>\n",
       "      <th>...</th>\n",
       "      <td>...</td>\n",
       "      <td>...</td>\n",
       "      <td>...</td>\n",
       "      <td>...</td>\n",
       "      <td>...</td>\n",
       "      <td>...</td>\n",
       "      <td>...</td>\n",
       "      <td>...</td>\n",
       "      <td>...</td>\n",
       "      <td>...</td>\n",
       "    </tr>\n",
       "    <tr>\n",
       "      <th>1664346</th>\n",
       "      <td>Longvine</td>\n",
       "      <td>SPWV33527</td>\n",
       "      <td>503059</td>\n",
       "      <td>121591</td>\n",
       "      <td>Custom Floors</td>\n",
       "      <td>1</td>\n",
       "      <td>1</td>\n",
       "      <td>True</td>\n",
       "      <td>False</td>\n",
       "      <td>False</td>\n",
       "    </tr>\n",
       "    <tr>\n",
       "      <th>1664347</th>\n",
       "      <td>Longvine</td>\n",
       "      <td>SPWV33527</td>\n",
       "      <td>503059</td>\n",
       "      <td>121591</td>\n",
       "      <td>Custom Floors</td>\n",
       "      <td>1</td>\n",
       "      <td>1</td>\n",
       "      <td>True</td>\n",
       "      <td>False</td>\n",
       "      <td>False</td>\n",
       "    </tr>\n",
       "    <tr>\n",
       "      <th>1664348</th>\n",
       "      <td>Longvine</td>\n",
       "      <td>SPWV33527</td>\n",
       "      <td>503059</td>\n",
       "      <td>121591</td>\n",
       "      <td>Custom Floors</td>\n",
       "      <td>1</td>\n",
       "      <td>1</td>\n",
       "      <td>True</td>\n",
       "      <td>False</td>\n",
       "      <td>False</td>\n",
       "    </tr>\n",
       "    <tr>\n",
       "      <th>1664349</th>\n",
       "      <td>Longvine</td>\n",
       "      <td>SPWV33527</td>\n",
       "      <td>503059</td>\n",
       "      <td>121591</td>\n",
       "      <td>Custom Floors</td>\n",
       "      <td>1</td>\n",
       "      <td>1</td>\n",
       "      <td>True</td>\n",
       "      <td>False</td>\n",
       "      <td>False</td>\n",
       "    </tr>\n",
       "    <tr>\n",
       "      <th>1664350</th>\n",
       "      <td>Amphibious Zoo</td>\n",
       "      <td>SPWV33529</td>\n",
       "      <td>441907</td>\n",
       "      <td>128903</td>\n",
       "      <td>Bering LLC</td>\n",
       "      <td>1</td>\n",
       "      <td>1</td>\n",
       "      <td>NaN</td>\n",
       "      <td>False</td>\n",
       "      <td>False</td>\n",
       "    </tr>\n",
       "  </tbody>\n",
       "</table>\n",
       "<p>1664351 rows × 10 columns</p>\n",
       "</div>"
      ],
      "text/plain": [
       "                 PROJECT NAME PROJECT ID  INVOICE ID SUPPLIER NO  \\\n",
       "0        AMITA Health Holding     1000-D      442358      108164   \n",
       "1        AMITA Health Holding     1000-D      442358      108164   \n",
       "2        AMITA Health Holding     1000-D      442358      108164   \n",
       "3        AMITA Health Holding     1000-D      442358      108164   \n",
       "4        AMITA Health Holding     1000-D      448262      125814   \n",
       "...                       ...        ...         ...         ...   \n",
       "1664346              Longvine  SPWV33527      503059      121591   \n",
       "1664347              Longvine  SPWV33527      503059      121591   \n",
       "1664348              Longvine  SPWV33527      503059      121591   \n",
       "1664349              Longvine  SPWV33527      503059      121591   \n",
       "1664350        Amphibious Zoo  SPWV33529      441907      128903   \n",
       "\n",
       "                  SUPPLIER NAME  INVOICE NO  PO NO Exists in Pivot Table  \\\n",
       "0        Mannington Mills, Inc.           1      1                   NaN   \n",
       "1        Mannington Mills, Inc.           1      1                   NaN   \n",
       "2        Mannington Mills, Inc.           1      1                   NaN   \n",
       "3        Mannington Mills, Inc.           1      1                   NaN   \n",
       "4         All Tile Holdings LLC           1      0                   NaN   \n",
       "...                         ...         ...    ...                   ...   \n",
       "1664346           Custom Floors           1      1                  True   \n",
       "1664347           Custom Floors           1      1                  True   \n",
       "1664348           Custom Floors           1      1                  True   \n",
       "1664349           Custom Floors           1      1                  True   \n",
       "1664350              Bering LLC           1      1                   NaN   \n",
       "\n",
       "         Has Matching Account 5504_x  Has Matching Account 5504_y  \n",
       "0                               True                         True  \n",
       "1                               True                         True  \n",
       "2                               True                         True  \n",
       "3                               True                         True  \n",
       "4                              False                        False  \n",
       "...                              ...                          ...  \n",
       "1664346                        False                        False  \n",
       "1664347                        False                        False  \n",
       "1664348                        False                        False  \n",
       "1664349                        False                        False  \n",
       "1664350                        False                        False  \n",
       "\n",
       "[1664351 rows x 10 columns]"
      ]
     },
     "execution_count": 16,
     "metadata": {},
     "output_type": "execute_result"
    }
   ],
   "source": [
    "# Merge the 'Has Matching Account 5504' column from df into the pivot_table\n",
    "pivot_table = pivot_table.merge(\n",
    "    df[['INVOICE ID', 'Has Matching Account 5504']],\n",
    "    on='INVOICE ID',\n",
    "    how='left'\n",
    ")\n",
    "\n",
    "# Display the updated pivot_table\n",
    "pivot_table"
   ]
  },
  {
   "cell_type": "code",
   "execution_count": null,
   "id": "d470af07",
   "metadata": {},
   "outputs": [],
   "source": []
  },
  {
   "cell_type": "code",
   "execution_count": null,
   "id": "9da83b85",
   "metadata": {},
   "outputs": [],
   "source": []
  }
 ],
 "metadata": {
  "kernelspec": {
   "display_name": "base",
   "language": "python",
   "name": "python3"
  },
  "language_info": {
   "codemirror_mode": {
    "name": "ipython",
    "version": 3
   },
   "file_extension": ".py",
   "mimetype": "text/x-python",
   "name": "python",
   "nbconvert_exporter": "python",
   "pygments_lexer": "ipython3",
   "version": "3.9.7"
  }
 },
 "nbformat": 4,
 "nbformat_minor": 5
}
