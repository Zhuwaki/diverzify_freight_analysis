{
  "cells": [
    {
      "cell_type": "code",
      "execution_count": null,
      "metadata": {},
      "outputs": [],
      "source": [
        "# Assuming rate_map, invoice_df, and generate_cost_curve are already defined\n",
        "# Also assumes export_freight_chart_excel is defined (from earlier cell)\n",
        "import os\n",
        "\n",
        "output_dir = \"./freight_output\"\n",
        "os.makedirs(output_dir, exist_ok=True)\n",
        "\n",
        "for site in invoice_df['site'].unique():\n",
        "    site_data = invoice_df[invoice_df['site'] == site]\n",
        "    for commodity in site_data['commodity_group'].unique():\n",
        "        curve_df = generate_cost_curve(rate_map, site, commodity)\n",
        "        merge_and_export(curve_df, invoice_df, site, commodity, output_dir)\n",
        "\n",
        "        # Merge vendor + invoice data for charting\n",
        "        invoice_subset = invoice_df[(invoice_df['site'] == site) & (invoice_df['commodity_group'] == commodity)].copy()\n",
        "        invoice_subset = invoice_subset.rename(columns={\n",
        "            'market_freight_costs': 'actual_freight_cost'\n",
        "        })\n",
        "        plot_ready_df = pd.concat([curve_df, invoice_subset], ignore_index=True)\n",
        "\n",
        "        # Create Excel chart output\n",
        "        excel_chart_file = os.path.join(output_dir, f\"{site}_{commodity}_freight_costs_with_chart.xlsx\")\n",
        "        export_freight_chart_excel(plot_ready_df, site, commodity, excel_chart_file)\n",
        "\n",
        "        # Optional: Plot inline as visual confirmation\n",
        "        plot_cost_curve(curve_df, invoice_df, site, commodity)"
      ]
    }
  ],
  "metadata": {
    "kernelspec": {
      "display_name": "Python 3",
      "language": "python",
      "name": "python3"
    },
    "language_info": {
      "name": "python",
      "version": "3.8"
    }
  },
  "nbformat": 4,
  "nbformat_minor": 2
}