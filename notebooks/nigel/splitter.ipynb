{
 "cells": [
  {
   "cell_type": "code",
   "execution_count": 1,
   "id": "ed874920",
   "metadata": {},
   "outputs": [
    {
     "name": "stdout",
     "output_type": "stream",
     "text": [
      "✅ Saved: product_internet_conversion2_part_1.csv\n",
      "✅ Saved: product_internet_conversion2_part_2.csv\n",
      "✅ Saved: product_internet_conversion2_part_3.csv\n",
      "✅ Saved: product_internet_conversion2_part_4.csv\n",
      "✅ Saved: product_internet_conversion2_part_5.csv\n",
      "✅ Saved: product_internet_conversion2_part_6.csv\n",
      "✅ Saved: product_internet_conversion2_part_7.csv\n",
      "✅ Saved: product_internet_conversion2_part_8.csv\n",
      "✅ Saved: product_internet_conversion2_part_9.csv\n",
      "✅ Saved: product_internet_conversion2_part_10.csv\n",
      "✅ Saved: product_internet_conversion2_part_11.csv\n",
      "✅ Saved: product_internet_conversion2_part_12.csv\n",
      "✅ Saved: product_internet_conversion2_part_13.csv\n",
      "✅ Saved: product_internet_conversion2_part_14.csv\n",
      "✅ Saved: product_internet_conversion2_part_15.csv\n",
      "✅ Saved: product_internet_conversion2_part_16.csv\n",
      "✅ Saved: product_internet_conversion2_part_17.csv\n",
      "✅ Saved: product_internet_conversion2_part_18.csv\n",
      "✅ Saved: product_internet_conversion2_part_19.csv\n",
      "✅ Saved: product_internet_conversion2_part_20.csv\n",
      "✅ Saved: product_internet_conversion2_part_21.csv\n",
      "✅ Saved: product_internet_conversion2_part_22.csv\n",
      "✅ Saved: product_internet_conversion2_part_23.csv\n",
      "✅ Saved: product_internet_conversion2_part_24.csv\n"
     ]
    }
   ],
   "source": [
    "import pandas as pd\n",
    "import os\n",
    "\n",
    "# === USER INPUT ===\n",
    "input_path = '../../data/downloads/product_internet_conversion2.csv'  # Replace with your actual filename\n",
    "batch_size = 100\n",
    "\n",
    "# === LOAD AND SPLIT ===\n",
    "df = pd.read_csv(input_path)\n",
    "base_filename = os.path.splitext(os.path.basename(input_path))[0]\n",
    "\n",
    "for i in range(0, len(df), batch_size):\n",
    "    batch_df = df.iloc[i:i + batch_size]\n",
    "    output_file = f\"{base_filename}_part_{i // batch_size + 1}.csv\"\n",
    "    batch_df.to_csv(output_file, index=False)\n",
    "    print(f\"✅ Saved: {output_file}\")\n"
   ]
  }
 ],
 "metadata": {
  "kernelspec": {
   "display_name": "base",
   "language": "python",
   "name": "python3"
  },
  "language_info": {
   "codemirror_mode": {
    "name": "ipython",
    "version": 3
   },
   "file_extension": ".py",
   "mimetype": "text/x-python",
   "name": "python",
   "nbconvert_exporter": "python",
   "pygments_lexer": "ipython3",
   "version": "3.9.7"
  }
 },
 "nbformat": 4,
 "nbformat_minor": 5
}
