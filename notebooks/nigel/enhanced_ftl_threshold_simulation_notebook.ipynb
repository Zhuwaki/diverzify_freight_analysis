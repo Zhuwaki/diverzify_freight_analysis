{
 "cells": [
  {
   "cell_type": "markdown",
   "id": "5e137408",
   "metadata": {},
   "source": [
    "# 📦 Enhanced FTL Threshold Simulation (1VNL - Vinyl)\n",
    "This notebook simulates how average cost per pound and shipment counts vary with different FTL thresholds."
   ]
  },
  {
   "cell_type": "code",
   "execution_count": null,
   "id": "66a24daa",
   "metadata": {},
   "outputs": [],
   "source": [
    "\n",
    "import pandas as pd\n",
    "\n",
    "def simulate_ftl_thresholds_verbose(data, freight_price_col='freight_price', quantity_col='total_quantity', thresholds=[10000, 15000, 20000, 25000]):\n",
    "    data['quantity'] = pd.to_numeric(data[quantity_col], errors='coerce')\n",
    "    data['freight_price'] = pd.to_numeric(data[freight_price_col], errors='coerce')\n",
    "\n",
    "    results = []\n",
    "    \n",
    "    for threshold in thresholds:\n",
    "        data['simulated_type'] = data['quantity'].apply(lambda q: 'FTL' if q >= threshold else 'LTL')\n",
    "        data['unit_cost'] = data['freight_price'] / data['quantity']\n",
    "        \n",
    "        grouped = data.groupby('simulated_type').agg(\n",
    "            avg_cost_per_lb=('unit_cost', 'mean'),\n",
    "            shipment_count=('unit_cost', 'count')\n",
    "        ).reset_index()\n",
    "        grouped['threshold'] = threshold\n",
    "        results.append(grouped)\n",
    "    \n",
    "    combined = pd.concat(results)\n",
    "    pivot = combined.pivot(index='threshold', columns='simulated_type', values=['avg_cost_per_lb', 'shipment_count'])\n",
    "    pivot.columns = [f\"{metric}_{stype}\" for metric, stype in pivot.columns]\n",
    "    return pivot.reset_index()\n"
   ]
  },
  {
   "cell_type": "code",
   "execution_count": null,
   "id": "26f23c5e",
   "metadata": {},
   "outputs": [],
   "source": [
    "\n",
    "# Load your data\n",
    "# df = pd.read_csv(\"1vnl.csv\")\n",
    "\n",
    "# Run simulation\n",
    "# summary_df = simulate_ftl_thresholds_verbose(df, 'freight_price', 'total_quantity')\n",
    "# display(summary_df)\n"
   ]
  }
 ],
 "metadata": {},
 "nbformat": 4,
 "nbformat_minor": 5
}