{
 "cells": [
  {
   "cell_type": "code",
   "execution_count": 1,
   "id": "e1db0967",
   "metadata": {},
   "outputs": [
    {
     "ename": "ImportError",
     "evalue": "cannot import name 'data_cleaning' from 'data_cleaning_utils' (c:\\Users\\ITafr\\OneDrive\\Desktop\\Diverzify\\diverzify_freight_analysis\\notebooks\\nigel\\../../utils\\data_cleaning_utils.py)",
     "output_type": "error",
     "traceback": [
      "\u001b[1;31m---------------------------------------------------------------------------\u001b[0m",
      "\u001b[1;31mImportError\u001b[0m                               Traceback (most recent call last)",
      "Cell \u001b[1;32mIn[1], line 5\u001b[0m\n\u001b[0;32m      2\u001b[0m \u001b[38;5;28;01mimport\u001b[39;00m \u001b[38;5;21;01msys\u001b[39;00m\n\u001b[0;32m      3\u001b[0m sys\u001b[38;5;241m.\u001b[39mpath\u001b[38;5;241m.\u001b[39mappend(\u001b[38;5;124m'\u001b[39m\u001b[38;5;124m../../utils\u001b[39m\u001b[38;5;124m'\u001b[39m)  \u001b[38;5;66;03m# go up two folders, then into utils\u001b[39;00m\n\u001b[1;32m----> 5\u001b[0m \u001b[38;5;28;01mfrom\u001b[39;00m \u001b[38;5;21;01mdata_cleaning_utils\u001b[39;00m \u001b[38;5;28;01mimport\u001b[39;00m (\n\u001b[0;32m      6\u001b[0m     data_cleaning,\n\u001b[0;32m      7\u001b[0m     enrich_invoice_flags,\n\u001b[0;32m      8\u001b[0m     uom_cleaning,\n\u001b[0;32m      9\u001b[0m     flag_fully_converted_invoices,\n\u001b[0;32m     10\u001b[0m     add_freight_per_invoice,\n\u001b[0;32m     11\u001b[0m     filter_valid_invoices,\n\u001b[0;32m     12\u001b[0m     increase_sample_size,\n\u001b[0;32m     13\u001b[0m )\n",
      "\u001b[1;31mImportError\u001b[0m: cannot import name 'data_cleaning' from 'data_cleaning_utils' (c:\\Users\\ITafr\\OneDrive\\Desktop\\Diverzify\\diverzify_freight_analysis\\notebooks\\nigel\\../../utils\\data_cleaning_utils.py)"
     ]
    }
   ],
   "source": [
    "import pandas as pd\n",
    "import sys\n",
    "sys.path.append('../../utils')  # go up two folders, then into utils\n",
    "\n",
    "from data_cleaning_utils import (\n",
    "    data_cleaning,\n",
    "    enrich_invoice_flags,\n",
    "    uom_cleaning,\n",
    "    flag_fully_converted_invoices,\n",
    "    add_freight_per_invoice,\n",
    "    filter_valid_invoices,\n",
    "    increase_sample_size,\n",
    ")  # or whatever functions you have\n"
   ]
  },
  {
   "cell_type": "code",
   "execution_count": null,
   "id": "34e78d3d",
   "metadata": {},
   "outputs": [
    {
     "name": "stderr",
     "output_type": "stream",
     "text": [
      "C:\\Users\\ITafr\\AppData\\Local\\Temp\\ipykernel_29608\\1107790926.py:1: DtypeWarning: Columns (12) have mixed types. Specify dtype option on import or set low_memory=False.\n",
      "  df = pd.read_csv('../../data/input/Freight_Cost_Analysis_CY2024-03.25.csv',encoding=\"latin1\")  # replace with your actual data loading method\n"
     ]
    }
   ],
   "source": [
    "df = pd.read_csv('../../data/input/Freight_Cost_Analysis_CY2024-03.25.csv',encoding=\"latin1\")  # replace with your actual data loading method"
   ]
  },
  {
   "cell_type": "code",
   "execution_count": null,
   "id": "ed1f07e4",
   "metadata": {},
   "outputs": [],
   "source": [
    "conversion_csv_path = \"../../data/input/freight_model/conversion_table_standardized.csv\"\n"
   ]
  },
  {
   "cell_type": "code",
   "execution_count": null,
   "id": "24cfec46",
   "metadata": {},
   "outputs": [
    {
     "name": "stderr",
     "output_type": "stream",
     "text": [
      "INFO:root:🔧 Running data_cleaning...\n",
      "INFO:root:✅ data_cleaning complete.\n",
      "INFO:root:✅ fixing unit of measure.\n",
      "INFO:root:✅ Flagging fully converted invoices.\n",
      "INFO:root:✅ Enriching invoice data.\n"
     ]
    },
    {
     "name": "stdout",
     "output_type": "stream",
     "text": [
      "✅ 8590 invoices have all account == 2008 rows with valid conversion codes\n",
      "Number of invoices with at least one freight line: 55942\n"
     ]
    },
    {
     "name": "stderr",
     "output_type": "stream",
     "text": [
      "c:\\Users\\ITafr\\OneDrive\\Desktop\\Diverzify\\diverzify_freight_analysis\\notebooks\\nigel\\../../utils\\data_cleaning_utils.py:216: FutureWarning: Downcasting object dtype arrays on .fillna, .ffill, .bfill is deprecated and will change in a future version. Call result.infer_objects(copy=False) instead. To opt-in to the future behavior, set `pd.set_option('future.no_silent_downcasting', True)`\n",
      "  freight_count > 1).fillna(False)\n",
      "c:\\Users\\ITafr\\OneDrive\\Desktop\\Diverzify\\diverzify_freight_analysis\\notebooks\\nigel\\../../utils\\data_cleaning_utils.py:226: FutureWarning: Downcasting object dtype arrays on .fillna, .ffill, .bfill is deprecated and will change in a future version. Call result.infer_objects(copy=False) instead. To opt-in to the future behavior, set `pd.set_option('future.no_silent_downcasting', True)`\n",
      "  component_count > 1).fillna(False)\n"
     ]
    },
    {
     "name": "stdout",
     "output_type": "stream",
     "text": [
      "Number of invoices with multiple freight lines: 197\n"
     ]
    },
    {
     "name": "stderr",
     "output_type": "stream",
     "text": [
      "c:\\Users\\ITafr\\OneDrive\\Desktop\\Diverzify\\diverzify_freight_analysis\\notebooks\\nigel\\../../utils\\data_cleaning_utils.py:236: FutureWarning: Downcasting object dtype arrays on .fillna, .ffill, .bfill is deprecated and will change in a future version. Call result.infer_objects(copy=False) instead. To opt-in to the future behavior, set `pd.set_option('future.no_silent_downcasting', True)`\n",
      "  commodity_count > 1).fillna(False)\n"
     ]
    },
    {
     "name": "stdout",
     "output_type": "stream",
     "text": [
      "Number of invoices with multiple distinct parts: 47577\n",
      "Number of invoices with multiple distinct commodities: 16091\n",
      "Number of invoices where all ACCOUNT == 2008 have Priority == 'Yes': 17084\n"
     ]
    },
    {
     "name": "stderr",
     "output_type": "stream",
     "text": [
      "INFO:root:✅ Calculating freight per invoice.\n"
     ]
    },
    {
     "name": "stdout",
     "output_type": "stream",
     "text": [
      "Number of invoices where at least one ACCOUNT == 2008 has Priority == 'Yes': 23536\n"
     ]
    },
    {
     "name": "stderr",
     "output_type": "stream",
     "text": [
      "INFO:root:✅ Completed adding freight to invoice.\n",
      "INFO:root:✅ increasing freight per invoice.\n",
      "INFO:root:✅ completed increasing sample size.\n"
     ]
    },
    {
     "name": "stdout",
     "output_type": "stream",
     "text": [
      "0     0.000000\n",
      "1    55.625259\n",
      "2     0.000000\n",
      "3     0.000000\n",
      "4     0.000000\n",
      "Name: pct_priority_product_invoice_total, dtype: float64\n",
      "0    False\n",
      "1    False\n",
      "2    False\n",
      "3    False\n",
      "4    False\n",
      "Name: pct_priority_product_invoice_total, dtype: bool\n"
     ]
    },
    {
     "data": {
      "text/html": [
       "<div>\n",
       "<style scoped>\n",
       "    .dataframe tbody tr th:only-of-type {\n",
       "        vertical-align: middle;\n",
       "    }\n",
       "\n",
       "    .dataframe tbody tr th {\n",
       "        vertical-align: top;\n",
       "    }\n",
       "\n",
       "    .dataframe thead th {\n",
       "        text-align: right;\n",
       "    }\n",
       "</style>\n",
       "<table border=\"1\" class=\"dataframe\">\n",
       "  <thead>\n",
       "    <tr style=\"text-align: right;\">\n",
       "      <th></th>\n",
       "      <th>site</th>\n",
       "      <th>site_description</th>\n",
       "      <th>supplier_no</th>\n",
       "      <th>supplier_name</th>\n",
       "      <th>invoice_id</th>\n",
       "      <th>invoice_no</th>\n",
       "      <th>date_posted</th>\n",
       "      <th>project_id</th>\n",
       "      <th>project_name</th>\n",
       "      <th>account</th>\n",
       "      <th>...</th>\n",
       "      <th>all_accounts_2008_uom_classified</th>\n",
       "      <th>all_2008_accounts_converted</th>\n",
       "      <th>has_freight_line</th>\n",
       "      <th>multiple_freight_lines</th>\n",
       "      <th>multiple_parts</th>\n",
       "      <th>multiple_commodities</th>\n",
       "      <th>all__invoice_priority_products_(2008)</th>\n",
       "      <th>any__invoice_priority_products_(2008)</th>\n",
       "      <th>freight_per_invoice</th>\n",
       "      <th>low_mix_priority_flag</th>\n",
       "    </tr>\n",
       "  </thead>\n",
       "  <tbody>\n",
       "    <tr>\n",
       "      <th>0</th>\n",
       "      <td>DIT</td>\n",
       "      <td>Diverzify Itasca</td>\n",
       "      <td>121550</td>\n",
       "      <td>Mohawk Industries</td>\n",
       "      <td>731977</td>\n",
       "      <td>C2665159</td>\n",
       "      <td>25-Jun-24</td>\n",
       "      <td>2312127222</td>\n",
       "      <td>Blue Chip Casino Deli</td>\n",
       "      <td>5504</td>\n",
       "      <td>...</td>\n",
       "      <td>True</td>\n",
       "      <td>True</td>\n",
       "      <td>True</td>\n",
       "      <td>False</td>\n",
       "      <td>False</td>\n",
       "      <td>False</td>\n",
       "      <td>True</td>\n",
       "      <td>True</td>\n",
       "      <td>19.07</td>\n",
       "      <td>True</td>\n",
       "    </tr>\n",
       "    <tr>\n",
       "      <th>1</th>\n",
       "      <td>SPN</td>\n",
       "      <td>Spectra Norcross</td>\n",
       "      <td>103277</td>\n",
       "      <td>William M. Bird</td>\n",
       "      <td>531030</td>\n",
       "      <td>656881</td>\n",
       "      <td>01-Mar-24</td>\n",
       "      <td>2401132763</td>\n",
       "      <td>FAROPOINT LOBBY RENOVATION</td>\n",
       "      <td>2008</td>\n",
       "      <td>...</td>\n",
       "      <td>True</td>\n",
       "      <td>True</td>\n",
       "      <td>True</td>\n",
       "      <td>False</td>\n",
       "      <td>False</td>\n",
       "      <td>False</td>\n",
       "      <td>True</td>\n",
       "      <td>True</td>\n",
       "      <td>5.79</td>\n",
       "      <td>True</td>\n",
       "    </tr>\n",
       "  </tbody>\n",
       "</table>\n",
       "<p>2 rows × 48 columns</p>\n",
       "</div>"
      ],
      "text/plain": [
       "  site  site_description supplier_no      supplier_name  invoice_id  \\\n",
       "0  DIT  Diverzify Itasca      121550  Mohawk Industries      731977   \n",
       "1  SPN  Spectra Norcross      103277    William M. Bird      531030   \n",
       "\n",
       "  invoice_no date_posted  project_id                project_name  account  \\\n",
       "0   C2665159   25-Jun-24  2312127222       Blue Chip Casino Deli     5504   \n",
       "1     656881   01-Mar-24  2401132763  FAROPOINT LOBBY RENOVATION     2008   \n",
       "\n",
       "   ... all_accounts_2008_uom_classified all_2008_accounts_converted  \\\n",
       "0  ...                             True                        True   \n",
       "1  ...                             True                        True   \n",
       "\n",
       "  has_freight_line multiple_freight_lines multiple_parts multiple_commodities  \\\n",
       "0             True                  False          False                False   \n",
       "1             True                  False          False                False   \n",
       "\n",
       "   all__invoice_priority_products_(2008)  \\\n",
       "0                                   True   \n",
       "1                                   True   \n",
       "\n",
       "  any__invoice_priority_products_(2008) freight_per_invoice  \\\n",
       "0                                  True               19.07   \n",
       "1                                  True                5.79   \n",
       "\n",
       "  low_mix_priority_flag  \n",
       "0                  True  \n",
       "1                  True  \n",
       "\n",
       "[2 rows x 48 columns]"
      ]
     },
     "execution_count": 114,
     "metadata": {},
     "output_type": "execute_result"
    }
   ],
   "source": [
    "df = data_cleaning(df,base_path='../../data/input')\n",
    "df = uom_cleaning(df)\n",
    "df = flag_fully_converted_invoices(df, conversion_csv_path)\n",
    "df = enrich_invoice_flags(df)\n",
    "df = add_freight_per_invoice(df)\n",
    "df = increase_sample_size(df)\n",
    "df.head(2)"
   ]
  },
  {
   "cell_type": "code",
   "execution_count": null,
   "id": "8f21ca8d",
   "metadata": {},
   "outputs": [],
   "source": []
  },
  {
   "cell_type": "code",
   "execution_count": null,
   "id": "f11a592b",
   "metadata": {},
   "outputs": [],
   "source": [
    "# export the cleaned DataFrame to a CSV file\n",
    "df.to_csv('../../data/output/cleaned_freight_data.csv', index=False)"
   ]
  },
  {
   "cell_type": "code",
   "execution_count": null,
   "id": "da0bb114",
   "metadata": {},
   "outputs": [
    {
     "data": {
      "text/plain": [
       "array(['No UOM', 'Classified', 'Unclassified'], dtype=object)"
      ]
     },
     "execution_count": 134,
     "metadata": {},
     "output_type": "execute_result"
    }
   ],
   "source": [
    "df['classification'].unique()"
   ]
  },
  {
   "cell_type": "markdown",
   "id": "67f1455a",
   "metadata": {},
   "source": [
    "### Begin Funnel "
   ]
  },
  {
   "cell_type": "code",
   "execution_count": null,
   "id": "cbfa17f3",
   "metadata": {},
   "outputs": [
    {
     "name": "stdout",
     "output_type": "stream",
     "text": [
      "Distinct number of invoices: 188087\n"
     ]
    }
   ],
   "source": [
    "# How many distinct invoices \n",
    "distinct_invoices = df.groupby('invoice_id').ngroups\n",
    "print(f\"Distinct number of invoices: {distinct_invoices}\")"
   ]
  },
  {
   "cell_type": "code",
   "execution_count": null,
   "id": "58381309",
   "metadata": {},
   "outputs": [
    {
     "name": "stdout",
     "output_type": "stream",
     "text": [
      "Unique invoices with project ID: 161241\n"
     ]
    }
   ],
   "source": [
    "# Invoices with project ID \n",
    "unique_invoices_with_project_id = df[df['project_id'].notnull()]['invoice_id'].nunique()\n",
    "print(f\"Unique invoices with project ID: {unique_invoices_with_project_id}\")"
   ]
  },
  {
   "cell_type": "code",
   "execution_count": null,
   "id": "d5ff3a5d",
   "metadata": {},
   "outputs": [
    {
     "name": "stdout",
     "output_type": "stream",
     "text": [
      "Invoices with project ID and PO numbers: 152548\n"
     ]
    }
   ],
   "source": [
    "# Invoices with PO\n",
    "invoices_with_po = df[df['project_id'].notnull() & df['po_no'].notnull()]['invoice_id'].nunique()\n",
    "print(f\"Invoices with project ID and PO numbers: {invoices_with_po}\")"
   ]
  },
  {
   "cell_type": "code",
   "execution_count": null,
   "id": "757b7aa8",
   "metadata": {},
   "outputs": [
    {
     "data": {
      "text/plain": [
       "(406310, 48)"
      ]
     },
     "execution_count": 119,
     "metadata": {},
     "output_type": "execute_result"
    }
   ],
   "source": [
    "df = df[df['invoice_id'].isin(df[df['po_no'].notnull()]['invoice_id'])]\n",
    "df.shape"
   ]
  },
  {
   "cell_type": "code",
   "execution_count": null,
   "id": "f7651d02",
   "metadata": {},
   "outputs": [
    {
     "data": {
      "text/plain": [
       "Index(['site', 'site_description', 'supplier_no', 'supplier_name',\n",
       "       'invoice_id', 'invoice_no', 'date_posted', 'project_id', 'project_name',\n",
       "       'account', 'account_description', 'planned_delivery_date',\n",
       "       'ship_to_zip', 'po_no', 'po_line_no', 'po_rel_no', 'receipt_no',\n",
       "       'part_no', 'part_description', 'comm_1', 'comm_2', 'po_purch_qty',\n",
       "       'purch_uom', 'po_inv_qty', 'inv_uom', 'invoiced_line_qty',\n",
       "       'invoice_line_total', 'po_price', 'commodity_group', 'description',\n",
       "       'old/new', 'priority', 'match_commodity', 'match_supplier',\n",
       "       'classification', 'new_commodity_description', 'new_commodity_group',\n",
       "       'conversion_code', 'all_accounts_2008_uom_classified',\n",
       "       'all_2008_accounts_converted', 'has_freight_line',\n",
       "       'multiple_freight_lines', 'multiple_parts', 'multiple_commodities',\n",
       "       'all__invoice_priority_products_(2008)',\n",
       "       'any__invoice_priority_products_(2008)', 'freight_per_invoice',\n",
       "       'low_mix_priority_flag'],\n",
       "      dtype='object')"
      ]
     },
     "execution_count": 120,
     "metadata": {},
     "output_type": "execute_result"
    }
   ],
   "source": [
    "df.columns"
   ]
  },
  {
   "cell_type": "code",
   "execution_count": null,
   "id": "78ad1b4d",
   "metadata": {},
   "outputs": [
    {
     "name": "stdout",
     "output_type": "stream",
     "text": [
      "Unique invoices with freight line: 52316\n"
     ]
    }
   ],
   "source": [
    "unique_invoices_with_freight = df[df['has_freight_line'] == True]['invoice_id'].nunique()\n",
    "print(f\"Unique invoices with freight line: {unique_invoices_with_freight}\")"
   ]
  },
  {
   "cell_type": "code",
   "execution_count": null,
   "id": "03c9c848",
   "metadata": {},
   "outputs": [
    {
     "name": "stdout",
     "output_type": "stream",
     "text": [
      "Unique invoices with freight line and no multiple freight lines: 52122\n"
     ]
    }
   ],
   "source": [
    "unique_invoices_with_freight_and_single_line = df[(df['has_freight_line'] == True) & (df['multiple_freight_lines'] == False)]['invoice_id'].nunique()\n",
    "print(f\"Unique invoices with freight line and no multiple freight lines: {unique_invoices_with_freight_and_single_line}\")"
   ]
  },
  {
   "cell_type": "code",
   "execution_count": null,
   "id": "430961b8",
   "metadata": {},
   "outputs": [
    {
     "name": "stdout",
     "output_type": "stream",
     "text": [
      "Unique invoices with the specified conditions: 18511\n"
     ]
    }
   ],
   "source": [
    "filtered_invoices = df[\n",
    "    (df['has_freight_line'] == True) &\n",
    "    (df['multiple_freight_lines'] == False) &\n",
    "    (df['any__invoice_priority_products_(2008)'] == True)\n",
    "]['invoice_id'].nunique()\n",
    "\n",
    "print(f\"Unique invoices with the specified conditions: {filtered_invoices}\")"
   ]
  },
  {
   "cell_type": "code",
   "execution_count": null,
   "id": "3a855129",
   "metadata": {},
   "outputs": [
    {
     "name": "stdout",
     "output_type": "stream",
     "text": [
      "Unique invoices with the specified conditions: 17976\n"
     ]
    }
   ],
   "source": [
    "unique_invoices = df[\n",
    "    (df['has_freight_line'] == True) &\n",
    "    (df['multiple_freight_lines'] == False) &\n",
    "    (df['any__invoice_priority_products_(2008)'] == True) &\n",
    "    (df['low_mix_priority_flag'] == True)\n",
    "]['invoice_id'].nunique()\n",
    "\n",
    "print(f\"Unique invoices with the specified conditions: {unique_invoices}\")"
   ]
  },
  {
   "cell_type": "code",
   "execution_count": null,
   "id": "a70a9277",
   "metadata": {},
   "outputs": [
    {
     "name": "stdout",
     "output_type": "stream",
     "text": [
      "Sum of invoice_line_total for unique invoices where account == 2008: 6265994.24\n"
     ]
    }
   ],
   "source": [
    "# How much freight cost is there in the invoices with project ID and PO numbers?\n",
    "sum_invoice_line_total = df[\n",
    "    (df['invoice_id'].isin(df[\n",
    "        (df['has_freight_line'] == True) &\n",
    "        (df['multiple_freight_lines'] == False) &\n",
    "        (df['any__invoice_priority_products_(2008)'] == True) &\n",
    "        (df['low_mix_priority_flag'] == True)\n",
    "    ]['invoice_id'])) &\n",
    "    (df['account'] == 5504)\n",
    "]['invoice_line_total'].sum()\n",
    "\n",
    "print(f\"Sum of invoice_line_total for unique invoices where account == 2008: {sum_invoice_line_total}\")"
   ]
  },
  {
   "cell_type": "code",
   "execution_count": null,
   "id": "c33bf7c8",
   "metadata": {},
   "outputs": [
    {
     "name": "stdout",
     "output_type": "stream",
     "text": [
      "Unique invoices with specified conditions and inv_uom as SQYD or SQFT: 16372\n"
     ]
    }
   ],
   "source": [
    "unique_invoices_with_uom = df[\n",
    "    (df['has_freight_line'] == True) &\n",
    "    (df['multiple_freight_lines'] == False) &\n",
    "    (df['any__invoice_priority_products_(2008)'] == True) &\n",
    "    (df['low_mix_priority_flag'] == True) &\n",
    "    (df['inv_uom'].isin(['SQYD', 'SQFT']))\n",
    "]['invoice_id'].nunique()\n",
    "\n",
    "print(f\"Unique invoices with specified conditions and inv_uom as SQYD or SQFT: {unique_invoices_with_uom}\")"
   ]
  },
  {
   "cell_type": "code",
   "execution_count": null,
   "id": "ba9f2cde",
   "metadata": {},
   "outputs": [
    {
     "data": {
      "text/plain": [
       "5718669.33"
      ]
     },
     "execution_count": 132,
     "metadata": {},
     "output_type": "execute_result"
    }
   ],
   "source": [
    "um_invoice_line_total = df[\n",
    "    (df['invoice_id'].isin(df[\n",
    "        (df['has_freight_line'] == True) &\n",
    "        (df['multiple_freight_lines'] == False) &\n",
    "        (df['any__invoice_priority_products_(2008)'] == True) &\n",
    "        (df['low_mix_priority_flag'] == True) &\n",
    "        (df['inv_uom'].isin(['SQYD', 'SQFT']))\n",
    "    ]['invoice_id'])) &\n",
    "    (df['account'] == 5504)\n",
    "]['invoice_line_total'].sum()\n",
    "\n",
    "um_invoice_line_total"
   ]
  },
  {
   "cell_type": "code",
   "execution_count": null,
   "id": "384efad1",
   "metadata": {},
   "outputs": [],
   "source": []
  },
  {
   "cell_type": "code",
   "execution_count": null,
   "id": "a0042698",
   "metadata": {},
   "outputs": [],
   "source": []
  },
  {
   "cell_type": "code",
   "execution_count": null,
   "id": "ef23c80e",
   "metadata": {},
   "outputs": [],
   "source": []
  },
  {
   "cell_type": "code",
   "execution_count": null,
   "id": "2df12b62",
   "metadata": {},
   "outputs": [],
   "source": []
  }
 ],
 "metadata": {
  "kernelspec": {
   "display_name": "base",
   "language": "python",
   "name": "python3"
  },
  "language_info": {
   "codemirror_mode": {
    "name": "ipython",
    "version": 3
   },
   "file_extension": ".py",
   "mimetype": "text/x-python",
   "name": "python",
   "nbconvert_exporter": "python",
   "pygments_lexer": "ipython3",
   "version": "3.12.7"
  }
 },
 "nbformat": 4,
 "nbformat_minor": 5
}
