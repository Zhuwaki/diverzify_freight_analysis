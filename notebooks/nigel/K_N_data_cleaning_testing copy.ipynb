{
 "cells": [
  {
   "cell_type": "code",
   "execution_count": 1,
   "id": "e1db0967",
   "metadata": {},
   "outputs": [],
   "source": [
    "import pandas as pd\n",
    "import sys\n",
    "sys.path.append('../../utils')  # go up two folders, then into utils\n",
    "\n",
    "from data_cleaning_utils import (\n",
    "    data_cleaning,\n",
    "    enrich_invoice_flags,\n",
    "    uom_cleaning,\n",
    "    flag_fully_converted_invoices,\n",
    "    add_freight_per_invoice,\n",
    "    filter_valid_invoices,\n",
    "    increase_sample_size,\n",
    ")  # or whatever functions you have\n"
   ]
  },
  {
   "cell_type": "code",
   "execution_count": 2,
   "id": "34e78d3d",
   "metadata": {},
   "outputs": [
    {
     "name": "stderr",
     "output_type": "stream",
     "text": [
      "c:\\Users\\nzhuw\\anaconda3\\lib\\site-packages\\IPython\\core\\interactiveshell.py:3444: DtypeWarning: Columns (12) have mixed types.Specify dtype option on import or set low_memory=False.\n",
      "  exec(code_obj, self.user_global_ns, self.user_ns)\n"
     ]
    }
   ],
   "source": [
    "df = pd.read_csv('../../data/input/Freight_Cost_Analysis_CY2024-03.25.csv',encoding=\"latin1\")  # replace with your actual data loading method"
   ]
  },
  {
   "cell_type": "code",
   "execution_count": 3,
   "id": "ed1f07e4",
   "metadata": {},
   "outputs": [],
   "source": [
    "conversion_csv_path = \"../../data/input/freight_model/conversion_table_standardized.csv\"\n"
   ]
  },
  {
   "cell_type": "code",
   "execution_count": 4,
   "id": "24cfec46",
   "metadata": {},
   "outputs": [
    {
     "name": "stderr",
     "output_type": "stream",
     "text": [
      "INFO:root:🔧 Running data_cleaning...\n",
      "INFO:root:✅ data_cleaning complete.\n",
      "INFO:root:✅ fixing unit of measure.\n",
      "INFO:root:✅ Flagging fully converted invoices.\n",
      "INFO:root:✅ Enriching invoice data.\n"
     ]
    },
    {
     "name": "stdout",
     "output_type": "stream",
     "text": [
      "✅ 8590 invoices have all account == 2008 rows with valid conversion codes\n",
      "Number of invoices with at least one freight line: 55942\n",
      "Number of invoices with multiple freight lines: 197\n",
      "Number of invoices with multiple distinct parts: 47577\n",
      "Number of invoices with multiple distinct commodities: 16091\n",
      "Number of invoices where all ACCOUNT == 2008 have Priority == 'Yes': 17084\n"
     ]
    },
    {
     "name": "stderr",
     "output_type": "stream",
     "text": [
      "INFO:root:✅ Calculating freight per invoice.\n"
     ]
    },
    {
     "name": "stdout",
     "output_type": "stream",
     "text": [
      "Number of invoices where at least one ACCOUNT == 2008 has Priority == 'Yes': 23536\n"
     ]
    },
    {
     "name": "stderr",
     "output_type": "stream",
     "text": [
      "INFO:root:✅ Completed adding freight to invoice.\n",
      "INFO:root:✅ increasing freight per invoice.\n"
     ]
    },
    {
     "ename": "FileNotFoundError",
     "evalue": "[Errno 2] No such file or directory: 'data/downloads/invalid.csv'",
     "output_type": "error",
     "traceback": [
      "\u001b[1;31m---------------------------------------------------------------------------\u001b[0m",
      "\u001b[1;31mFileNotFoundError\u001b[0m                         Traceback (most recent call last)",
      "\u001b[1;32m~\\AppData\\Local\\Temp/ipykernel_17608/4070156925.py\u001b[0m in \u001b[0;36m<module>\u001b[1;34m\u001b[0m\n\u001b[0;32m      4\u001b[0m \u001b[0mdf\u001b[0m \u001b[1;33m=\u001b[0m \u001b[0menrich_invoice_flags\u001b[0m\u001b[1;33m(\u001b[0m\u001b[0mdf\u001b[0m\u001b[1;33m)\u001b[0m\u001b[1;33m\u001b[0m\u001b[1;33m\u001b[0m\u001b[0m\n\u001b[0;32m      5\u001b[0m \u001b[0mdf\u001b[0m \u001b[1;33m=\u001b[0m \u001b[0madd_freight_per_invoice\u001b[0m\u001b[1;33m(\u001b[0m\u001b[0mdf\u001b[0m\u001b[1;33m)\u001b[0m\u001b[1;33m\u001b[0m\u001b[1;33m\u001b[0m\u001b[0m\n\u001b[1;32m----> 6\u001b[1;33m \u001b[0mdf\u001b[0m \u001b[1;33m=\u001b[0m \u001b[0mincrease_sample_size\u001b[0m\u001b[1;33m(\u001b[0m\u001b[0mdf\u001b[0m\u001b[1;33m)\u001b[0m\u001b[1;33m\u001b[0m\u001b[1;33m\u001b[0m\u001b[0m\n\u001b[0m\u001b[0;32m      7\u001b[0m \u001b[0mdf\u001b[0m\u001b[1;33m.\u001b[0m\u001b[0mhead\u001b[0m\u001b[1;33m(\u001b[0m\u001b[1;36m2\u001b[0m\u001b[1;33m)\u001b[0m\u001b[1;33m\u001b[0m\u001b[1;33m\u001b[0m\u001b[0m\n",
      "\u001b[1;32mc:\\Users\\nzhuw\\OneDrive\\Desktop\\10. Application Development\\Diverzify\\diverzify_freight_analysis\\notebooks\\nigel\\../../utils\\data_cleaning_utils.py\u001b[0m in \u001b[0;36mincrease_sample_size\u001b[1;34m(df)\u001b[0m\n\u001b[0;32m    380\u001b[0m     ]\n\u001b[0;32m    381\u001b[0m \u001b[1;33m\u001b[0m\u001b[0m\n\u001b[1;32m--> 382\u001b[1;33m     \u001b[0minvalids\u001b[0m\u001b[1;33m.\u001b[0m\u001b[0mto_csv\u001b[0m\u001b[1;33m(\u001b[0m\u001b[1;34m'data/downloads/invalid.csv'\u001b[0m\u001b[1;33m,\u001b[0m \u001b[0mindex\u001b[0m\u001b[1;33m=\u001b[0m\u001b[1;32mFalse\u001b[0m\u001b[1;33m)\u001b[0m\u001b[1;33m\u001b[0m\u001b[1;33m\u001b[0m\u001b[0m\n\u001b[0m\u001b[0;32m    383\u001b[0m \u001b[1;33m\u001b[0m\u001b[0m\n\u001b[0;32m    384\u001b[0m     \u001b[1;32mif\u001b[0m \u001b[1;32mnot\u001b[0m \u001b[0minvalids\u001b[0m\u001b[1;33m.\u001b[0m\u001b[0mempty\u001b[0m\u001b[1;33m:\u001b[0m\u001b[1;33m\u001b[0m\u001b[1;33m\u001b[0m\u001b[0m\n",
      "\u001b[1;32mc:\\Users\\nzhuw\\anaconda3\\lib\\site-packages\\pandas\\core\\generic.py\u001b[0m in \u001b[0;36mto_csv\u001b[1;34m(self, path_or_buf, sep, na_rep, float_format, columns, header, index, index_label, mode, encoding, compression, quoting, quotechar, line_terminator, chunksize, date_format, doublequote, escapechar, decimal, errors, storage_options)\u001b[0m\n\u001b[0;32m   3464\u001b[0m         )\n\u001b[0;32m   3465\u001b[0m \u001b[1;33m\u001b[0m\u001b[0m\n\u001b[1;32m-> 3466\u001b[1;33m         return DataFrameRenderer(formatter).to_csv(\n\u001b[0m\u001b[0;32m   3467\u001b[0m             \u001b[0mpath_or_buf\u001b[0m\u001b[1;33m,\u001b[0m\u001b[1;33m\u001b[0m\u001b[1;33m\u001b[0m\u001b[0m\n\u001b[0;32m   3468\u001b[0m             \u001b[0mline_terminator\u001b[0m\u001b[1;33m=\u001b[0m\u001b[0mline_terminator\u001b[0m\u001b[1;33m,\u001b[0m\u001b[1;33m\u001b[0m\u001b[1;33m\u001b[0m\u001b[0m\n",
      "\u001b[1;32mc:\\Users\\nzhuw\\anaconda3\\lib\\site-packages\\pandas\\io\\formats\\format.py\u001b[0m in \u001b[0;36mto_csv\u001b[1;34m(self, path_or_buf, encoding, sep, columns, index_label, mode, compression, quoting, quotechar, line_terminator, chunksize, date_format, doublequote, escapechar, errors, storage_options)\u001b[0m\n\u001b[0;32m   1103\u001b[0m             \u001b[0mformatter\u001b[0m\u001b[1;33m=\u001b[0m\u001b[0mself\u001b[0m\u001b[1;33m.\u001b[0m\u001b[0mfmt\u001b[0m\u001b[1;33m,\u001b[0m\u001b[1;33m\u001b[0m\u001b[1;33m\u001b[0m\u001b[0m\n\u001b[0;32m   1104\u001b[0m         )\n\u001b[1;32m-> 1105\u001b[1;33m         \u001b[0mcsv_formatter\u001b[0m\u001b[1;33m.\u001b[0m\u001b[0msave\u001b[0m\u001b[1;33m(\u001b[0m\u001b[1;33m)\u001b[0m\u001b[1;33m\u001b[0m\u001b[1;33m\u001b[0m\u001b[0m\n\u001b[0m\u001b[0;32m   1106\u001b[0m \u001b[1;33m\u001b[0m\u001b[0m\n\u001b[0;32m   1107\u001b[0m         \u001b[1;32mif\u001b[0m \u001b[0mcreated_buffer\u001b[0m\u001b[1;33m:\u001b[0m\u001b[1;33m\u001b[0m\u001b[1;33m\u001b[0m\u001b[0m\n",
      "\u001b[1;32mc:\\Users\\nzhuw\\anaconda3\\lib\\site-packages\\pandas\\io\\formats\\csvs.py\u001b[0m in \u001b[0;36msave\u001b[1;34m(self)\u001b[0m\n\u001b[0;32m    235\u001b[0m         \"\"\"\n\u001b[0;32m    236\u001b[0m         \u001b[1;31m# apply compression and byte/text conversion\u001b[0m\u001b[1;33m\u001b[0m\u001b[1;33m\u001b[0m\u001b[0m\n\u001b[1;32m--> 237\u001b[1;33m         with get_handle(\n\u001b[0m\u001b[0;32m    238\u001b[0m             \u001b[0mself\u001b[0m\u001b[1;33m.\u001b[0m\u001b[0mfilepath_or_buffer\u001b[0m\u001b[1;33m,\u001b[0m\u001b[1;33m\u001b[0m\u001b[1;33m\u001b[0m\u001b[0m\n\u001b[0;32m    239\u001b[0m             \u001b[0mself\u001b[0m\u001b[1;33m.\u001b[0m\u001b[0mmode\u001b[0m\u001b[1;33m,\u001b[0m\u001b[1;33m\u001b[0m\u001b[1;33m\u001b[0m\u001b[0m\n",
      "\u001b[1;32mc:\\Users\\nzhuw\\anaconda3\\lib\\site-packages\\pandas\\io\\common.py\u001b[0m in \u001b[0;36mget_handle\u001b[1;34m(path_or_buf, mode, encoding, compression, memory_map, is_text, errors, storage_options)\u001b[0m\n\u001b[0;32m    700\u001b[0m         \u001b[1;32mif\u001b[0m \u001b[0mioargs\u001b[0m\u001b[1;33m.\u001b[0m\u001b[0mencoding\u001b[0m \u001b[1;32mand\u001b[0m \u001b[1;34m\"b\"\u001b[0m \u001b[1;32mnot\u001b[0m \u001b[1;32min\u001b[0m \u001b[0mioargs\u001b[0m\u001b[1;33m.\u001b[0m\u001b[0mmode\u001b[0m\u001b[1;33m:\u001b[0m\u001b[1;33m\u001b[0m\u001b[1;33m\u001b[0m\u001b[0m\n\u001b[0;32m    701\u001b[0m             \u001b[1;31m# Encoding\u001b[0m\u001b[1;33m\u001b[0m\u001b[1;33m\u001b[0m\u001b[0m\n\u001b[1;32m--> 702\u001b[1;33m             handle = open(\n\u001b[0m\u001b[0;32m    703\u001b[0m                 \u001b[0mhandle\u001b[0m\u001b[1;33m,\u001b[0m\u001b[1;33m\u001b[0m\u001b[1;33m\u001b[0m\u001b[0m\n\u001b[0;32m    704\u001b[0m                 \u001b[0mioargs\u001b[0m\u001b[1;33m.\u001b[0m\u001b[0mmode\u001b[0m\u001b[1;33m,\u001b[0m\u001b[1;33m\u001b[0m\u001b[1;33m\u001b[0m\u001b[0m\n",
      "\u001b[1;31mFileNotFoundError\u001b[0m: [Errno 2] No such file or directory: 'data/downloads/invalid.csv'"
     ]
    }
   ],
   "source": [
    "df = data_cleaning(df,base_path='../../data/input')\n",
    "df = uom_cleaning(df)\n",
    "df = flag_fully_converted_invoices(df, conversion_csv_path)\n",
    "df = enrich_invoice_flags(df)\n",
    "df = add_freight_per_invoice(df)\n",
    "df = increase_sample_size(df)\n",
    "df.head(2)"
   ]
  },
  {
   "cell_type": "code",
   "execution_count": null,
   "id": "f11a592b",
   "metadata": {},
   "outputs": [],
   "source": [
    "# export the cleaned DataFrame to a CSV file\n",
    "df.to_csv('../../data/output/cleaned_freight_data.csv', index=False)"
   ]
  },
  {
   "cell_type": "markdown",
   "id": "67f1455a",
   "metadata": {},
   "source": [
    "### Begin Funnel "
   ]
  },
  {
   "cell_type": "code",
   "execution_count": 116,
   "id": "cbfa17f3",
   "metadata": {},
   "outputs": [
    {
     "name": "stdout",
     "output_type": "stream",
     "text": [
      "Distinct number of invoices: 188087\n"
     ]
    }
   ],
   "source": [
    "# How many distinct invoices \n",
    "distinct_invoices = df.groupby('invoice_id').ngroups\n",
    "print(f\"Distinct number of invoices: {distinct_invoices}\")"
   ]
  },
  {
   "cell_type": "code",
   "execution_count": 117,
   "id": "58381309",
   "metadata": {},
   "outputs": [
    {
     "name": "stdout",
     "output_type": "stream",
     "text": [
      "Unique invoices with project ID: 161241\n"
     ]
    }
   ],
   "source": [
    "# Invoices with project ID \n",
    "unique_invoices_with_project_id = df[df['project_id'].notnull()]['invoice_id'].nunique()\n",
    "print(f\"Unique invoices with project ID: {unique_invoices_with_project_id}\")"
   ]
  },
  {
   "cell_type": "code",
   "execution_count": 118,
   "id": "d5ff3a5d",
   "metadata": {},
   "outputs": [
    {
     "name": "stdout",
     "output_type": "stream",
     "text": [
      "Invoices with project ID and PO numbers: 152548\n"
     ]
    }
   ],
   "source": [
    "# Invoices with PO\n",
    "invoices_with_po = df[df['project_id'].notnull() & df['po_no'].notnull()]['invoice_id'].nunique()\n",
    "print(f\"Invoices with project ID and PO numbers: {invoices_with_po}\")"
   ]
  },
  {
   "cell_type": "code",
   "execution_count": 119,
   "id": "757b7aa8",
   "metadata": {},
   "outputs": [
    {
     "data": {
      "text/plain": [
       "(406310, 48)"
      ]
     },
     "execution_count": 119,
     "metadata": {},
     "output_type": "execute_result"
    }
   ],
   "source": [
    "df = df[df['invoice_id'].isin(df[df['po_no'].notnull()]['invoice_id'])]\n",
    "df.shape"
   ]
  },
  {
   "cell_type": "code",
   "execution_count": 120,
   "id": "f7651d02",
   "metadata": {},
   "outputs": [
    {
     "data": {
      "text/plain": [
       "Index(['site', 'site_description', 'supplier_no', 'supplier_name',\n",
       "       'invoice_id', 'invoice_no', 'date_posted', 'project_id', 'project_name',\n",
       "       'account', 'account_description', 'planned_delivery_date',\n",
       "       'ship_to_zip', 'po_no', 'po_line_no', 'po_rel_no', 'receipt_no',\n",
       "       'part_no', 'part_description', 'comm_1', 'comm_2', 'po_purch_qty',\n",
       "       'purch_uom', 'po_inv_qty', 'inv_uom', 'invoiced_line_qty',\n",
       "       'invoice_line_total', 'po_price', 'commodity_group', 'description',\n",
       "       'old/new', 'priority', 'match_commodity', 'match_supplier',\n",
       "       'classification', 'new_commodity_description', 'new_commodity_group',\n",
       "       'conversion_code', 'all_accounts_2008_uom_classified',\n",
       "       'all_2008_accounts_converted', 'has_freight_line',\n",
       "       'multiple_freight_lines', 'multiple_parts', 'multiple_commodities',\n",
       "       'all__invoice_priority_products_(2008)',\n",
       "       'any__invoice_priority_products_(2008)', 'freight_per_invoice',\n",
       "       'low_mix_priority_flag'],\n",
       "      dtype='object')"
      ]
     },
     "execution_count": 120,
     "metadata": {},
     "output_type": "execute_result"
    }
   ],
   "source": [
    "df.columns"
   ]
  },
  {
   "cell_type": "code",
   "execution_count": 121,
   "id": "78ad1b4d",
   "metadata": {},
   "outputs": [
    {
     "name": "stdout",
     "output_type": "stream",
     "text": [
      "Unique invoices with freight line: 52316\n"
     ]
    }
   ],
   "source": [
    "unique_invoices_with_freight = df[df['has_freight_line'] == True]['invoice_id'].nunique()\n",
    "print(f\"Unique invoices with freight line: {unique_invoices_with_freight}\")"
   ]
  },
  {
   "cell_type": "code",
   "execution_count": 122,
   "id": "03c9c848",
   "metadata": {},
   "outputs": [
    {
     "name": "stdout",
     "output_type": "stream",
     "text": [
      "Unique invoices with freight line and no multiple freight lines: 52122\n"
     ]
    }
   ],
   "source": [
    "unique_invoices_with_freight_and_single_line = df[(df['has_freight_line'] == True) & (df['multiple_freight_lines'] == False)]['invoice_id'].nunique()\n",
    "print(f\"Unique invoices with freight line and no multiple freight lines: {unique_invoices_with_freight_and_single_line}\")"
   ]
  },
  {
   "cell_type": "code",
   "execution_count": 123,
   "id": "430961b8",
   "metadata": {},
   "outputs": [
    {
     "name": "stdout",
     "output_type": "stream",
     "text": [
      "Unique invoices with the specified conditions: 18511\n"
     ]
    }
   ],
   "source": [
    "filtered_invoices = df[\n",
    "    (df['has_freight_line'] == True) &\n",
    "    (df['multiple_freight_lines'] == False) &\n",
    "    (df['any__invoice_priority_products_(2008)'] == True)\n",
    "]['invoice_id'].nunique()\n",
    "\n",
    "print(f\"Unique invoices with the specified conditions: {filtered_invoices}\")"
   ]
  },
  {
   "cell_type": "code",
   "execution_count": 124,
   "id": "3a855129",
   "metadata": {},
   "outputs": [
    {
     "name": "stdout",
     "output_type": "stream",
     "text": [
      "Unique invoices with the specified conditions: 17976\n"
     ]
    }
   ],
   "source": [
    "unique_invoices = df[\n",
    "    (df['has_freight_line'] == True) &\n",
    "    (df['multiple_freight_lines'] == False) &\n",
    "    (df['any__invoice_priority_products_(2008)'] == True) &\n",
    "    (df['low_mix_priority_flag'] == True)\n",
    "]['invoice_id'].nunique()\n",
    "\n",
    "print(f\"Unique invoices with the specified conditions: {unique_invoices}\")"
   ]
  },
  {
   "cell_type": "code",
   "execution_count": null,
   "id": "a70a9277",
   "metadata": {},
   "outputs": [
    {
     "name": "stdout",
     "output_type": "stream",
     "text": [
      "Sum of invoice_line_total for unique invoices where account == 2008: 6265994.24\n"
     ]
    }
   ],
   "source": [
    "# How much freight cost is there in the invoices with project ID and PO numbers?\n",
    "sum_invoice_line_total = df[\n",
    "    (df['invoice_id'].isin(df[\n",
    "        (df['has_freight_line'] == True) &\n",
    "        (df['multiple_freight_lines'] == False) &\n",
    "        (df['any__invoice_priority_products_(2008)'] == True) &\n",
    "        (df['low_mix_priority_flag'] == True)\n",
    "    ]['invoice_id'])) &\n",
    "    (df['account'] == 5504)\n",
    "]['invoice_line_total'].sum()\n",
    "\n",
    "print(f\"Sum of invoice_line_total for unique invoices where account == 2008: {sum_invoice_line_total}\")"
   ]
  },
  {
   "cell_type": "code",
   "execution_count": 130,
   "id": "c33bf7c8",
   "metadata": {},
   "outputs": [
    {
     "name": "stdout",
     "output_type": "stream",
     "text": [
      "Unique invoices with specified conditions and inv_uom as SQYD or SQFT: 16372\n"
     ]
    }
   ],
   "source": [
    "unique_invoices_with_uom = df[\n",
    "    (df['has_freight_line'] == True) &\n",
    "    (df['multiple_freight_lines'] == False) &\n",
    "    (df['any__invoice_priority_products_(2008)'] == True) &\n",
    "    (df['low_mix_priority_flag'] == True) &\n",
    "    (df['inv_uom'].isin(['SQYD', 'SQFT']))\n",
    "]['invoice_id'].nunique()\n",
    "\n",
    "print(f\"Unique invoices with specified conditions and inv_uom as SQYD or SQFT: {unique_invoices_with_uom}\")"
   ]
  },
  {
   "cell_type": "code",
   "execution_count": null,
   "id": "ba9f2cde",
   "metadata": {},
   "outputs": [
    {
     "data": {
      "text/plain": [
       "5718669.33"
      ]
     },
     "execution_count": 132,
     "metadata": {},
     "output_type": "execute_result"
    }
   ],
   "source": [
    "um_invoice_line_total = df[\n",
    "    (df['invoice_id'].isin(df[\n",
    "        (df['has_freight_line'] == True) &\n",
    "        (df['multiple_freight_lines'] == False) &\n",
    "        (df['any__invoice_priority_products_(2008)'] == True) &\n",
    "        (df['low_mix_priority_flag'] == True) &\n",
    "        (df['inv_uom'].isin(['SQYD', 'SQFT']))\n",
    "    ]['invoice_id'])) &\n",
    "    (df['account'] == 5504)\n",
    "]['invoice_line_total'].sum()\n",
    "\n",
    "um_invoice_line_total"
   ]
  },
  {
   "cell_type": "code",
   "execution_count": null,
   "id": "384efad1",
   "metadata": {},
   "outputs": [],
   "source": []
  },
  {
   "cell_type": "code",
   "execution_count": null,
   "id": "a0042698",
   "metadata": {},
   "outputs": [],
   "source": []
  },
  {
   "cell_type": "code",
   "execution_count": null,
   "id": "ef23c80e",
   "metadata": {},
   "outputs": [],
   "source": []
  },
  {
   "cell_type": "code",
   "execution_count": null,
   "id": "2df12b62",
   "metadata": {},
   "outputs": [],
   "source": []
  }
 ],
 "metadata": {
  "kernelspec": {
   "display_name": "base",
   "language": "python",
   "name": "python3"
  },
  "language_info": {
   "codemirror_mode": {
    "name": "ipython",
    "version": 3
   },
   "file_extension": ".py",
   "mimetype": "text/x-python",
   "name": "python",
   "nbconvert_exporter": "python",
   "pygments_lexer": "ipython3",
   "version": "3.9.7"
  }
 },
 "nbformat": 4,
 "nbformat_minor": 5
}
