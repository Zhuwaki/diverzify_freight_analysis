{
 "cells": [
  {
   "cell_type": "code",
   "execution_count": 65,
   "id": "309706b4",
   "metadata": {},
   "outputs": [],
   "source": [
    "import matplotlib.pyplot as plt\n",
    "import seaborn as sns\n",
    "import pandas as pd\n",
    "\n"
   ]
  },
  {
   "cell_type": "code",
   "execution_count": 66,
   "id": "393d7d14",
   "metadata": {},
   "outputs": [
    {
     "data": {
      "application/vnd.microsoft.datawrangler.viewer.v0+json": {
       "columns": [
        {
         "name": "index",
         "rawType": "int64",
         "type": "integer"
        },
        {
         "name": "invoice_id",
         "rawType": "int64",
         "type": "integer"
        },
        {
         "name": "site",
         "rawType": "object",
         "type": "string"
        },
        {
         "name": "new_commodity_group",
         "rawType": "object",
         "type": "string"
        },
        {
         "name": "invoice_commodity_quantity",
         "rawType": "float64",
         "type": "float"
        },
        {
         "name": "multiple_commodities",
         "rawType": "bool",
         "type": "boolean"
        },
        {
         "name": "priority_multiple_commodities",
         "rawType": "bool",
         "type": "boolean"
        },
        {
         "name": "freight_per_invoice",
         "rawType": "float64",
         "type": "float"
        },
        {
         "name": "standardization_status",
         "rawType": "object",
         "type": "string"
        },
        {
         "name": "error_summary",
         "rawType": "object",
         "type": "string"
        },
        {
         "name": "priority_failure_reasons",
         "rawType": "object",
         "type": "string"
        },
        {
         "name": "method",
         "rawType": "object",
         "type": "string"
        },
        {
         "name": "unit",
         "rawType": "object",
         "type": "string"
        },
        {
         "name": "rate_unit",
         "rawType": "object",
         "type": "string"
        },
        {
         "name": "freight_class",
         "rawType": "object",
         "type": "string"
        },
        {
         "name": "rate",
         "rawType": "float64",
         "type": "float"
        },
        {
         "name": "shipment_type",
         "rawType": "object",
         "type": "string"
        },
        {
         "name": "invoice_freight_commodity_cost",
         "rawType": "float64",
         "type": "float"
        },
        {
         "name": "raw_invoice_cost",
         "rawType": "float64",
         "type": "float"
        },
        {
         "name": "minimum_applied",
         "rawType": "bool",
         "type": "boolean"
        },
        {
         "name": "historical_market_freight_costs",
         "rawType": "float64",
         "type": "float"
        },
        {
         "name": "market_rate",
         "rawType": "float64",
         "type": "float"
        },
        {
         "name": "xgs_applied_rate",
         "rawType": "float64",
         "type": "float"
        },
        {
         "name": "xgs_raw_rate",
         "rawType": "float64",
         "type": "float"
        },
        {
         "name": "freight_ratio_raw",
         "rawType": "float64",
         "type": "float"
        },
        {
         "name": "freight_ratio_normal",
         "rawType": "float64",
         "type": "float"
        },
        {
         "name": "rate_ratio_raw",
         "rawType": "float64",
         "type": "float"
        },
        {
         "name": "rate_ratio_normal",
         "rawType": "float64",
         "type": "float"
        },
        {
         "name": "market_cost_outlier",
         "rawType": "object",
         "type": "string"
        },
        {
         "name": "freight_ratio_raw_outlier",
         "rawType": "object",
         "type": "string"
        },
        {
         "name": "freight_ratio_normal_outlier",
         "rawType": "object",
         "type": "string"
        }
       ],
       "conversionMethod": "pd.DataFrame",
       "ref": "f49765e7-98fb-4626-8aff-be90e67973be",
       "rows": [
        [
         "0",
         "357863",
         "SPN",
         "1VNL",
         "1485.67",
         "True",
         "False",
         "191.13",
         "SUCCESS",
         "Standardization successful; Unsupported commodity group '1ADH'",
         "No priority errors found",
         "CWT",
         "LBS",
         "CWT",
         "1M",
         "0.0782075471698113",
         "LTL",
         "116.19",
         "116.19",
         "False",
         "191.13",
         "0.1286490270383059",
         "0.0782071388666392",
         "0.0782071388666392",
         "1.6449780531887426",
         "1.6449780531887426",
         "1.6449694651460112",
         "1.6449780531887428",
         "NORMAL",
         "NORMAL",
         "NORMAL"
        ],
        [
         "1",
         "357870",
         "SPCP",
         "1VNL",
         "6609.39",
         "False",
         "False",
         "602.67",
         "SUCCESS",
         "Standardization successful",
         "No priority errors found",
         "CWT",
         "LBS",
         "CWT",
         "5M",
         "0.1186792452830188",
         "LTL",
         "784.4",
         "784.4",
         "False",
         "602.67",
         "0.091183906532978",
         "0.1186796360934972",
         "0.1186796360934972",
         "0.7683197348291687",
         "0.7683197348291687",
         "0.7683222649042668",
         "0.7683197348291688",
         "NORMAL",
         "NORMAL",
         "NORMAL"
        ]
       ],
       "shape": {
        "columns": 30,
        "rows": 2
       }
      },
      "text/html": [
       "<div>\n",
       "<style scoped>\n",
       "    .dataframe tbody tr th:only-of-type {\n",
       "        vertical-align: middle;\n",
       "    }\n",
       "\n",
       "    .dataframe tbody tr th {\n",
       "        vertical-align: top;\n",
       "    }\n",
       "\n",
       "    .dataframe thead th {\n",
       "        text-align: right;\n",
       "    }\n",
       "</style>\n",
       "<table border=\"1\" class=\"dataframe\">\n",
       "  <thead>\n",
       "    <tr style=\"text-align: right;\">\n",
       "      <th></th>\n",
       "      <th>invoice_id</th>\n",
       "      <th>site</th>\n",
       "      <th>new_commodity_group</th>\n",
       "      <th>invoice_commodity_quantity</th>\n",
       "      <th>multiple_commodities</th>\n",
       "      <th>priority_multiple_commodities</th>\n",
       "      <th>freight_per_invoice</th>\n",
       "      <th>standardization_status</th>\n",
       "      <th>error_summary</th>\n",
       "      <th>priority_failure_reasons</th>\n",
       "      <th>...</th>\n",
       "      <th>market_rate</th>\n",
       "      <th>xgs_applied_rate</th>\n",
       "      <th>xgs_raw_rate</th>\n",
       "      <th>freight_ratio_raw</th>\n",
       "      <th>freight_ratio_normal</th>\n",
       "      <th>rate_ratio_raw</th>\n",
       "      <th>rate_ratio_normal</th>\n",
       "      <th>market_cost_outlier</th>\n",
       "      <th>freight_ratio_raw_outlier</th>\n",
       "      <th>freight_ratio_normal_outlier</th>\n",
       "    </tr>\n",
       "  </thead>\n",
       "  <tbody>\n",
       "    <tr>\n",
       "      <th>0</th>\n",
       "      <td>357863</td>\n",
       "      <td>SPN</td>\n",
       "      <td>1VNL</td>\n",
       "      <td>1485.67</td>\n",
       "      <td>True</td>\n",
       "      <td>False</td>\n",
       "      <td>191.13</td>\n",
       "      <td>SUCCESS</td>\n",
       "      <td>Standardization successful; Unsupported commod...</td>\n",
       "      <td>No priority errors found</td>\n",
       "      <td>...</td>\n",
       "      <td>0.128649</td>\n",
       "      <td>0.078207</td>\n",
       "      <td>0.078207</td>\n",
       "      <td>1.644978</td>\n",
       "      <td>1.644978</td>\n",
       "      <td>1.644969</td>\n",
       "      <td>1.644978</td>\n",
       "      <td>NORMAL</td>\n",
       "      <td>NORMAL</td>\n",
       "      <td>NORMAL</td>\n",
       "    </tr>\n",
       "    <tr>\n",
       "      <th>1</th>\n",
       "      <td>357870</td>\n",
       "      <td>SPCP</td>\n",
       "      <td>1VNL</td>\n",
       "      <td>6609.39</td>\n",
       "      <td>False</td>\n",
       "      <td>False</td>\n",
       "      <td>602.67</td>\n",
       "      <td>SUCCESS</td>\n",
       "      <td>Standardization successful</td>\n",
       "      <td>No priority errors found</td>\n",
       "      <td>...</td>\n",
       "      <td>0.091184</td>\n",
       "      <td>0.118680</td>\n",
       "      <td>0.118680</td>\n",
       "      <td>0.768320</td>\n",
       "      <td>0.768320</td>\n",
       "      <td>0.768322</td>\n",
       "      <td>0.768320</td>\n",
       "      <td>NORMAL</td>\n",
       "      <td>NORMAL</td>\n",
       "      <td>NORMAL</td>\n",
       "    </tr>\n",
       "  </tbody>\n",
       "</table>\n",
       "<p>2 rows × 30 columns</p>\n",
       "</div>"
      ],
      "text/plain": [
       "   invoice_id  site new_commodity_group  invoice_commodity_quantity  \\\n",
       "0      357863   SPN                1VNL                     1485.67   \n",
       "1      357870  SPCP                1VNL                     6609.39   \n",
       "\n",
       "   multiple_commodities  priority_multiple_commodities  freight_per_invoice  \\\n",
       "0                  True                          False               191.13   \n",
       "1                 False                          False               602.67   \n",
       "\n",
       "  standardization_status                                      error_summary  \\\n",
       "0                SUCCESS  Standardization successful; Unsupported commod...   \n",
       "1                SUCCESS                         Standardization successful   \n",
       "\n",
       "   priority_failure_reasons  ... market_rate xgs_applied_rate xgs_raw_rate  \\\n",
       "0  No priority errors found  ...    0.128649         0.078207     0.078207   \n",
       "1  No priority errors found  ...    0.091184         0.118680     0.118680   \n",
       "\n",
       "  freight_ratio_raw  freight_ratio_normal rate_ratio_raw  rate_ratio_normal  \\\n",
       "0          1.644978              1.644978       1.644969           1.644978   \n",
       "1          0.768320              0.768320       0.768322           0.768320   \n",
       "\n",
       "   market_cost_outlier  freight_ratio_raw_outlier  \\\n",
       "0               NORMAL                     NORMAL   \n",
       "1               NORMAL                     NORMAL   \n",
       "\n",
       "   freight_ratio_normal_outlier  \n",
       "0                        NORMAL  \n",
       "1                        NORMAL  \n",
       "\n",
       "[2 rows x 30 columns]"
      ]
     },
     "execution_count": 66,
     "metadata": {},
     "output_type": "execute_result"
    }
   ],
   "source": [
    "df = pd.read_csv('../../data/downloads/freight_model_output_20250503_125648.csv')\n",
    "df.head(2)"
   ]
  },
  {
   "cell_type": "code",
   "execution_count": 67,
   "id": "8f6f431d",
   "metadata": {},
   "outputs": [
    {
     "data": {
      "text/plain": [
       "Index(['invoice_id', 'site', 'new_commodity_group',\n",
       "       'invoice_commodity_quantity', 'multiple_commodities',\n",
       "       'priority_multiple_commodities', 'freight_per_invoice',\n",
       "       'standardization_status', 'error_summary', 'priority_failure_reasons',\n",
       "       'method', 'unit', 'rate_unit', 'freight_class', 'rate', 'shipment_type',\n",
       "       'invoice_freight_commodity_cost', 'raw_invoice_cost', 'minimum_applied',\n",
       "       'historical_market_freight_costs', 'market_rate', 'xgs_applied_rate',\n",
       "       'xgs_raw_rate', 'freight_ratio_raw', 'freight_ratio_normal',\n",
       "       'rate_ratio_raw', 'rate_ratio_normal', 'market_cost_outlier',\n",
       "       'freight_ratio_raw_outlier', 'freight_ratio_normal_outlier'],\n",
       "      dtype='object')"
      ]
     },
     "execution_count": 67,
     "metadata": {},
     "output_type": "execute_result"
    }
   ],
   "source": [
    "df.columns"
   ]
  },
  {
   "cell_type": "code",
   "execution_count": 68,
   "id": "86c3eb58",
   "metadata": {},
   "outputs": [],
   "source": [
    "columns_output = ['invoice_id', 'site', 'new_commodity_group',\n",
    "       'invoice_commodity_quantity', 'freight_class','shipment_type','unit', 'rate','historical_market_freight_costs','market_rate',\n",
    "       'invoice_freight_commodity_cost', 'raw_invoice_cost','minimum_applied',]"
   ]
  },
  {
   "cell_type": "code",
   "execution_count": 69,
   "id": "bd69fc67",
   "metadata": {},
   "outputs": [
    {
     "data": {
      "application/vnd.microsoft.datawrangler.viewer.v0+json": {
       "columns": [
        {
         "name": "index",
         "rawType": "int64",
         "type": "integer"
        },
        {
         "name": "invoice_id",
         "rawType": "int64",
         "type": "integer"
        },
        {
         "name": "site",
         "rawType": "object",
         "type": "string"
        },
        {
         "name": "new_commodity_group",
         "rawType": "object",
         "type": "string"
        },
        {
         "name": "invoice_commodity_quantity",
         "rawType": "float64",
         "type": "float"
        },
        {
         "name": "freight_class",
         "rawType": "object",
         "type": "string"
        },
        {
         "name": "shipment_type",
         "rawType": "object",
         "type": "string"
        },
        {
         "name": "unit",
         "rawType": "object",
         "type": "string"
        },
        {
         "name": "rate",
         "rawType": "float64",
         "type": "float"
        },
        {
         "name": "historical_market_freight_costs",
         "rawType": "float64",
         "type": "float"
        },
        {
         "name": "market_rate",
         "rawType": "float64",
         "type": "float"
        },
        {
         "name": "invoice_freight_commodity_cost",
         "rawType": "float64",
         "type": "float"
        },
        {
         "name": "raw_invoice_cost",
         "rawType": "float64",
         "type": "float"
        },
        {
         "name": "minimum_applied",
         "rawType": "bool",
         "type": "boolean"
        }
       ],
       "conversionMethod": "pd.DataFrame",
       "ref": "19ef4054-1e46-42aa-9a4f-1d0572d2eea2",
       "rows": [
        [
         "0",
         "357863",
         "SPN",
         "1VNL",
         "1485.67",
         "1M",
         "LTL",
         "LBS",
         "0.0782075471698113",
         "191.13",
         "0.1286490270383059",
         "116.19",
         "116.19",
         "False"
        ],
        [
         "1",
         "357870",
         "SPCP",
         "1VNL",
         "6609.39",
         "5M",
         "LTL",
         "LBS",
         "0.1186792452830188",
         "602.67",
         "0.091183906532978",
         "784.4",
         "784.4",
         "False"
        ]
       ],
       "shape": {
        "columns": 13,
        "rows": 2
       }
      },
      "text/html": [
       "<div>\n",
       "<style scoped>\n",
       "    .dataframe tbody tr th:only-of-type {\n",
       "        vertical-align: middle;\n",
       "    }\n",
       "\n",
       "    .dataframe tbody tr th {\n",
       "        vertical-align: top;\n",
       "    }\n",
       "\n",
       "    .dataframe thead th {\n",
       "        text-align: right;\n",
       "    }\n",
       "</style>\n",
       "<table border=\"1\" class=\"dataframe\">\n",
       "  <thead>\n",
       "    <tr style=\"text-align: right;\">\n",
       "      <th></th>\n",
       "      <th>invoice_id</th>\n",
       "      <th>site</th>\n",
       "      <th>new_commodity_group</th>\n",
       "      <th>invoice_commodity_quantity</th>\n",
       "      <th>freight_class</th>\n",
       "      <th>shipment_type</th>\n",
       "      <th>unit</th>\n",
       "      <th>rate</th>\n",
       "      <th>historical_market_freight_costs</th>\n",
       "      <th>market_rate</th>\n",
       "      <th>invoice_freight_commodity_cost</th>\n",
       "      <th>raw_invoice_cost</th>\n",
       "      <th>minimum_applied</th>\n",
       "    </tr>\n",
       "  </thead>\n",
       "  <tbody>\n",
       "    <tr>\n",
       "      <th>0</th>\n",
       "      <td>357863</td>\n",
       "      <td>SPN</td>\n",
       "      <td>1VNL</td>\n",
       "      <td>1485.67</td>\n",
       "      <td>1M</td>\n",
       "      <td>LTL</td>\n",
       "      <td>LBS</td>\n",
       "      <td>0.078208</td>\n",
       "      <td>191.13</td>\n",
       "      <td>0.128649</td>\n",
       "      <td>116.19</td>\n",
       "      <td>116.19</td>\n",
       "      <td>False</td>\n",
       "    </tr>\n",
       "    <tr>\n",
       "      <th>1</th>\n",
       "      <td>357870</td>\n",
       "      <td>SPCP</td>\n",
       "      <td>1VNL</td>\n",
       "      <td>6609.39</td>\n",
       "      <td>5M</td>\n",
       "      <td>LTL</td>\n",
       "      <td>LBS</td>\n",
       "      <td>0.118679</td>\n",
       "      <td>602.67</td>\n",
       "      <td>0.091184</td>\n",
       "      <td>784.40</td>\n",
       "      <td>784.40</td>\n",
       "      <td>False</td>\n",
       "    </tr>\n",
       "  </tbody>\n",
       "</table>\n",
       "</div>"
      ],
      "text/plain": [
       "   invoice_id  site new_commodity_group  invoice_commodity_quantity  \\\n",
       "0      357863   SPN                1VNL                     1485.67   \n",
       "1      357870  SPCP                1VNL                     6609.39   \n",
       "\n",
       "  freight_class shipment_type unit      rate  historical_market_freight_costs  \\\n",
       "0            1M           LTL  LBS  0.078208                           191.13   \n",
       "1            5M           LTL  LBS  0.118679                           602.67   \n",
       "\n",
       "   market_rate  invoice_freight_commodity_cost  raw_invoice_cost  \\\n",
       "0     0.128649                          116.19            116.19   \n",
       "1     0.091184                          784.40            784.40   \n",
       "\n",
       "   minimum_applied  \n",
       "0            False  \n",
       "1            False  "
      ]
     },
     "execution_count": 69,
     "metadata": {},
     "output_type": "execute_result"
    }
   ],
   "source": [
    "df2 = df[columns_output]\n",
    "df2.head(2)"
   ]
  },
  {
   "cell_type": "markdown",
   "id": "26ff6ae5",
   "metadata": {},
   "source": [
    "## Baseline National Model Calibration\n"
   ]
  },
  {
   "cell_type": "code",
   "execution_count": 70,
   "id": "3adc5d6c",
   "metadata": {},
   "outputs": [],
   "source": [
    "# === invoice_freight_utils.py ===\n",
    "\n",
    "import pandas as pd\n",
    "import numpy as np\n",
    "\n",
    "def simulate_freight_cost_models(df: pd.DataFrame) -> pd.DataFrame:\n",
    "    \"\"\"\n",
    "    Adds 3 freight cost simulations:\n",
    "    - ltl_only_cost: Cost if only LTL used\n",
    "    - xgs_threshold_cost: XGS method using vendor threshold rules\n",
    "    - optimal_cost: Theoretical best (min(FTL, LTL), ignoring thresholds)\n",
    "\n",
    "    Now supports site-specific dynamic FTL costs using distance, rate-per-mile, and minimum enforcement.\n",
    "    \"\"\"\n",
    "    df = df.copy()\n",
    "\n",
    "    # Step 1: Define vendor thresholds\n",
    "    vendor_thresholds = {\n",
    "        '1CBL': 2200,   # SQYD\n",
    "        '1CPT': 2200,   # SQYD\n",
    "        '1VNL': 20000   # LBS\n",
    "    }\n",
    "\n",
    "    # Define site-specific mileage and recommended truck type\n",
    "    site_ftl_info = {\n",
    "        'DIT': {'miles': 843, 'commodity': '1CPT', 'truck': 'Dry Van'},\n",
    "        'SPW': {'miles': 1559.6, 'commodity': '1VNL', 'truck': 'Dry Van'},\n",
    "        'SPN': {'miles': 329, 'commodity': '1CPT', 'truck': 'Dry Van'},\n",
    "        'SPCP': {'miles': 900, 'commodity': '1CBL', 'truck': 'Dry Van'},\n",
    "        'SPT': {'miles': 457, 'commodity': '1VNL', 'truck': 'Dry Van'},\n",
    "        'PVF': {'miles': 1200, 'commodity': '1CBL', 'truck': 'Dry Van'},\n",
    "        'SPHU': {'miles': 830, 'commodity': '1CBL', 'truck': 'Dry Van'},\n",
    "        'SPTM': {'miles': 1900, 'commodity': '1VNL', 'truck': 'Dry Van'},\n",
    "        'FSU': {'miles': 372, 'commodity': '1VNL', 'truck': 'Dry Van'},\n",
    "        'CTS': {'miles': 1559.6, 'commodity': '1VNL', 'truck': 'Dry Van'},\n",
    "        'SPJ': {'miles': 346, 'commodity': '1VNL', 'truck': 'Dry Van'},\n",
    "\n",
    "    }\n",
    "\n",
    "    # Truck rates and minimum charges\n",
    "    rate_per_mile = {'Dry Van': 1.95, 'Flatbed': 2.548}\n",
    "    min_charge = {'Dry Van': 700, 'Flatbed': 900}\n",
    "\n",
    "    # Step 2: Ensure required columns exist\n",
    "    required_cols = [\n",
    "        'invoice_commodity_quantity', 'new_commodity_group', 'rate', 'unit',\n",
    "        'raw_invoice_cost', 'invoice_freight_commodity_cost', 'minimum_applied', 'site'\n",
    "    ]\n",
    "    for col in required_cols:\n",
    "        if col not in df.columns:\n",
    "            raise ValueError(f\"Missing required column: {col}\")\n",
    "\n",
    "    # Step 3: Compute LTL cost (respects minimum charge)\n",
    "    df['ltl_only_cost'] = np.where(\n",
    "        df['minimum_applied'] == True,\n",
    "        df['invoice_freight_commodity_cost'],\n",
    "        df['raw_invoice_cost']\n",
    "    )\n",
    "\n",
    "    # Step 4: Compute FTL cost with site logic\n",
    "    def calculate_ftl_cost(row):\n",
    "        info = site_ftl_info.get(row['site'], None)\n",
    "        if info is None:\n",
    "            return np.nan\n",
    "        truck_type = info['truck']\n",
    "        miles = info['miles']\n",
    "        rate = rate_per_mile[truck_type]\n",
    "        minimum = min_charge[truck_type]\n",
    "        return max(miles * rate, minimum)\n",
    "\n",
    "    df['ftl_cost'] = df.apply(calculate_ftl_cost, axis=1)\n",
    "\n",
    "    # Step 5: Fallback logic for rows with rate = 0\n",
    "    def fallback_ftl_logic(row):\n",
    "        threshold = vendor_thresholds.get(row['new_commodity_group'], np.inf)\n",
    "        if row['rate'] == 0 and row['invoice_commodity_quantity'] >= threshold:\n",
    "            return row['ftl_cost']\n",
    "        elif row['rate'] == 0:\n",
    "            return row['ltl_only_cost']\n",
    "        else:\n",
    "            return row['ltl_only_cost']\n",
    "\n",
    "    df['ltl_only_cost'] = df.apply(fallback_ftl_logic, axis=1)\n",
    "\n",
    "    # Step 6: Apply XGS vendor logic\n",
    "    def xgs_cost_logic(row):\n",
    "        threshold = vendor_thresholds.get(row['new_commodity_group'], np.inf)\n",
    "        if row['invoice_commodity_quantity'] >= threshold:\n",
    "            return min(row['ftl_cost'], row['ltl_only_cost'])\n",
    "        else:\n",
    "            return row['ltl_only_cost']\n",
    "\n",
    "    def xgs_method_logic(row):\n",
    "        threshold = vendor_thresholds.get(row['new_commodity_group'], np.inf)\n",
    "        if row['invoice_commodity_quantity'] >= threshold:\n",
    "            return 'FTL' if row['ftl_cost'] <= row['ltl_only_cost'] else 'LTL'\n",
    "        else:\n",
    "            return 'LTL'\n",
    "\n",
    "    df['xgs_threshold_cost'] = df.apply(xgs_cost_logic, axis=1)\n",
    "    df['xgs_method'] = df.apply(xgs_method_logic, axis=1)\n",
    "\n",
    "    # Step 7: Fully optimized (ignores thresholds)\n",
    "    df['optimal_cost'] = df[['ftl_cost', 'ltl_only_cost']].min(axis=1)\n",
    "    df['optimal_method'] = np.where(df['ftl_cost'] <= df['ltl_only_cost'], 'FTL', 'LTL')\n",
    "\n",
    "    # Step 8: Flag cases where threshold blocks optimal FTL use\n",
    "    df['ftl_blocked'] = (df['xgs_method'] == 'LTL') & (df['optimal_method'] == 'FTL')\n",
    "    df['penalty_vs_optimal'] = df['xgs_threshold_cost'] - df['optimal_cost']\n",
    "\n",
    "    return df\n"
   ]
  },
  {
   "cell_type": "markdown",
   "id": "a211ba80",
   "metadata": {},
   "source": [
    "## XGS Baseline Model Calibration"
   ]
  },
  {
   "cell_type": "code",
   "execution_count": 71,
   "id": "cc5cd829",
   "metadata": {},
   "outputs": [],
   "source": [
    "# === invoice_freight_utils.py (Patched optimal cost logic for fallback anomalies) ===\n",
    "\n",
    "import pandas as pd\n",
    "import numpy as np\n",
    "\n",
    "def simulate_freight_cost_models_revised(df: pd.DataFrame) -> pd.DataFrame:\n",
    "    \"\"\"\n",
    "    Adds 3 freight cost simulations:\n",
    "    - ltl_only_cost: Raw LTL cost if only LTL were used\n",
    "    - ltl_fallback_cost: Adjusted LTL cost for modeling (accounts for fallback when rate = 0)\n",
    "    - xgs_threshold_cost: XGS method using vendor threshold rules\n",
    "    - optimal_cost: Theoretical best (min(FTL, LTL), ignoring thresholds)\n",
    "\n",
    "    Uses static FTL cost per site based on vendor estimates.\n",
    "    Now includes logic to catch and correctly handle fallback anomalies.\n",
    "    \"\"\"\n",
    "    df = df.copy()\n",
    "\n",
    "    vendor_thresholds = {\n",
    "        '1CBL': 2200, '1CPT': 2200, '1VNL': 20000\n",
    "    }\n",
    "\n",
    "    site_ftl_costs = {\n",
    "        'DIT': 1748.73, 'SPW': 2313.67, 'SPN': 724.83,\n",
    "        'SPCP': 2160, 'SPT': 2313.67, 'PVF': 3474.81,\n",
    "        'SPHU': 2160, 'SPTM': 3926.47, 'FSU': 1362.91,\n",
    "        'CTS': 4405.89, 'SPJ': 2313.67\n",
    "    }\n",
    "\n",
    "    required_cols = [\n",
    "        'invoice_commodity_quantity', 'new_commodity_group', 'rate', 'unit',\n",
    "        'raw_invoice_cost', 'invoice_freight_commodity_cost', 'minimum_applied', 'site'\n",
    "    ]\n",
    "    for col in required_cols:\n",
    "        if col not in df.columns:\n",
    "            raise ValueError(f\"Missing required column: {col}\")\n",
    "\n",
    "    df['ltl_only_cost'] = np.where(\n",
    "        df['minimum_applied'],\n",
    "        df['invoice_freight_commodity_cost'],\n",
    "        df['raw_invoice_cost']\n",
    "    )\n",
    "\n",
    "    df['ftl_cost'] = df['site'].map(site_ftl_costs)\n",
    "\n",
    "    def fallback_logic(row):\n",
    "        threshold = vendor_thresholds.get(row['new_commodity_group'], np.inf)\n",
    "        if row['rate'] == 0:\n",
    "            if row['invoice_commodity_quantity'] >= threshold:\n",
    "                return row['ftl_cost']\n",
    "            else:\n",
    "                return row['ltl_only_cost']\n",
    "        else:\n",
    "            return row['ltl_only_cost']\n",
    "\n",
    "    df['ltl_fallback_cost'] = df.apply(fallback_logic, axis=1)\n",
    "\n",
    "    def xgs_cost(row):\n",
    "        threshold = vendor_thresholds.get(row['new_commodity_group'], np.inf)\n",
    "        return min(row['ftl_cost'], row['ltl_fallback_cost']) if row['invoice_commodity_quantity'] >= threshold else row['ltl_fallback_cost']\n",
    "\n",
    "    def xgs_method(row):\n",
    "        threshold = vendor_thresholds.get(row['new_commodity_group'], np.inf)\n",
    "        if row['invoice_commodity_quantity'] >= threshold:\n",
    "            return 'FTL' if row['ftl_cost'] <= row['ltl_fallback_cost'] else 'LTL'\n",
    "        else:\n",
    "            return 'LTL'\n",
    "\n",
    "    df['xgs_threshold_cost'] = df.apply(xgs_cost, axis=1)\n",
    "    df['xgs_method'] = df.apply(xgs_method, axis=1)\n",
    "\n",
    "    def robust_optimal(row):\n",
    "        ftl = row['ftl_cost']\n",
    "        ltl = row['ltl_fallback_cost']\n",
    "        if pd.notnull(ftl) and pd.notnull(ltl):\n",
    "            return min(ftl, ltl)\n",
    "        elif pd.notnull(ltl):\n",
    "            return ltl\n",
    "        elif pd.notnull(ftl):\n",
    "            return ftl\n",
    "        else:\n",
    "            return np.nan\n",
    "\n",
    "    def robust_opt_method(row):\n",
    "        ftl = row['ftl_cost']\n",
    "        ltl = row['ltl_fallback_cost']\n",
    "        if pd.notnull(ftl) and pd.notnull(ltl):\n",
    "            return 'FTL' if ftl <= ltl else 'LTL'\n",
    "        elif pd.notnull(ftl):\n",
    "            return 'FTL'\n",
    "        elif pd.notnull(ltl):\n",
    "            return 'LTL'\n",
    "        else:\n",
    "            return 'N/A'\n",
    "\n",
    "    df['optimal_cost'] = df.apply(robust_optimal, axis=1)\n",
    "    df['optimal_method'] = df.apply(robust_opt_method, axis=1)\n",
    "\n",
    "    df['ftl_blocked'] = (df['xgs_method'] == 'LTL') & (df['optimal_method'] == 'FTL')\n",
    "    df['penalty_vs_optimal'] = df['xgs_threshold_cost'] - df['optimal_cost']\n",
    "\n",
    "    return df\n"
   ]
  },
  {
   "cell_type": "code",
   "execution_count": 72,
   "id": "c23ddd8f",
   "metadata": {},
   "outputs": [
    {
     "data": {
      "application/vnd.microsoft.datawrangler.viewer.v0+json": {
       "columns": [
        {
         "name": "index",
         "rawType": "int64",
         "type": "integer"
        },
        {
         "name": "invoice_id",
         "rawType": "int64",
         "type": "integer"
        },
        {
         "name": "site",
         "rawType": "object",
         "type": "string"
        },
        {
         "name": "new_commodity_group",
         "rawType": "object",
         "type": "string"
        },
        {
         "name": "invoice_commodity_quantity",
         "rawType": "float64",
         "type": "float"
        },
        {
         "name": "freight_class",
         "rawType": "object",
         "type": "string"
        },
        {
         "name": "shipment_type",
         "rawType": "object",
         "type": "string"
        },
        {
         "name": "unit",
         "rawType": "object",
         "type": "string"
        },
        {
         "name": "rate",
         "rawType": "float64",
         "type": "float"
        },
        {
         "name": "historical_market_freight_costs",
         "rawType": "float64",
         "type": "float"
        },
        {
         "name": "market_rate",
         "rawType": "float64",
         "type": "float"
        },
        {
         "name": "invoice_freight_commodity_cost",
         "rawType": "float64",
         "type": "float"
        },
        {
         "name": "raw_invoice_cost",
         "rawType": "float64",
         "type": "float"
        },
        {
         "name": "minimum_applied",
         "rawType": "bool",
         "type": "boolean"
        },
        {
         "name": "ltl_only_cost",
         "rawType": "float64",
         "type": "float"
        },
        {
         "name": "ftl_cost",
         "rawType": "float64",
         "type": "float"
        },
        {
         "name": "ltl_fallback_cost",
         "rawType": "float64",
         "type": "float"
        },
        {
         "name": "xgs_threshold_cost",
         "rawType": "float64",
         "type": "float"
        },
        {
         "name": "xgs_method",
         "rawType": "object",
         "type": "string"
        },
        {
         "name": "optimal_cost",
         "rawType": "float64",
         "type": "float"
        },
        {
         "name": "optimal_method",
         "rawType": "object",
         "type": "string"
        },
        {
         "name": "ftl_blocked",
         "rawType": "bool",
         "type": "boolean"
        },
        {
         "name": "penalty_vs_optimal",
         "rawType": "float64",
         "type": "float"
        }
       ],
       "conversionMethod": "pd.DataFrame",
       "ref": "259ff125-0b9c-4042-8cfc-645f2f02aba2",
       "rows": [
        [
         "0",
         "357863",
         "SPN",
         "1VNL",
         "1485.67",
         "1M",
         "LTL",
         "LBS",
         "0.0782075471698113",
         "191.13",
         "0.1286490270383059",
         "116.19",
         "116.19",
         "False",
         "116.19",
         "724.83",
         "116.19",
         "116.19",
         "LTL",
         "116.19",
         "LTL",
         "False",
         "0.0"
        ],
        [
         "1",
         "357870",
         "SPCP",
         "1VNL",
         "6609.39",
         "5M",
         "LTL",
         "LBS",
         "0.1186792452830188",
         "602.67",
         "0.091183906532978",
         "784.4",
         "784.4",
         "False",
         "784.4",
         "2160.0",
         "784.4",
         "784.4",
         "LTL",
         "784.4",
         "LTL",
         "False",
         "0.0"
        ]
       ],
       "shape": {
        "columns": 22,
        "rows": 2
       }
      },
      "text/html": [
       "<div>\n",
       "<style scoped>\n",
       "    .dataframe tbody tr th:only-of-type {\n",
       "        vertical-align: middle;\n",
       "    }\n",
       "\n",
       "    .dataframe tbody tr th {\n",
       "        vertical-align: top;\n",
       "    }\n",
       "\n",
       "    .dataframe thead th {\n",
       "        text-align: right;\n",
       "    }\n",
       "</style>\n",
       "<table border=\"1\" class=\"dataframe\">\n",
       "  <thead>\n",
       "    <tr style=\"text-align: right;\">\n",
       "      <th></th>\n",
       "      <th>invoice_id</th>\n",
       "      <th>site</th>\n",
       "      <th>new_commodity_group</th>\n",
       "      <th>invoice_commodity_quantity</th>\n",
       "      <th>freight_class</th>\n",
       "      <th>shipment_type</th>\n",
       "      <th>unit</th>\n",
       "      <th>rate</th>\n",
       "      <th>historical_market_freight_costs</th>\n",
       "      <th>market_rate</th>\n",
       "      <th>...</th>\n",
       "      <th>minimum_applied</th>\n",
       "      <th>ltl_only_cost</th>\n",
       "      <th>ftl_cost</th>\n",
       "      <th>ltl_fallback_cost</th>\n",
       "      <th>xgs_threshold_cost</th>\n",
       "      <th>xgs_method</th>\n",
       "      <th>optimal_cost</th>\n",
       "      <th>optimal_method</th>\n",
       "      <th>ftl_blocked</th>\n",
       "      <th>penalty_vs_optimal</th>\n",
       "    </tr>\n",
       "  </thead>\n",
       "  <tbody>\n",
       "    <tr>\n",
       "      <th>0</th>\n",
       "      <td>357863</td>\n",
       "      <td>SPN</td>\n",
       "      <td>1VNL</td>\n",
       "      <td>1485.67</td>\n",
       "      <td>1M</td>\n",
       "      <td>LTL</td>\n",
       "      <td>LBS</td>\n",
       "      <td>0.078208</td>\n",
       "      <td>191.13</td>\n",
       "      <td>0.128649</td>\n",
       "      <td>...</td>\n",
       "      <td>False</td>\n",
       "      <td>116.19</td>\n",
       "      <td>724.83</td>\n",
       "      <td>116.19</td>\n",
       "      <td>116.19</td>\n",
       "      <td>LTL</td>\n",
       "      <td>116.19</td>\n",
       "      <td>LTL</td>\n",
       "      <td>False</td>\n",
       "      <td>0.0</td>\n",
       "    </tr>\n",
       "    <tr>\n",
       "      <th>1</th>\n",
       "      <td>357870</td>\n",
       "      <td>SPCP</td>\n",
       "      <td>1VNL</td>\n",
       "      <td>6609.39</td>\n",
       "      <td>5M</td>\n",
       "      <td>LTL</td>\n",
       "      <td>LBS</td>\n",
       "      <td>0.118679</td>\n",
       "      <td>602.67</td>\n",
       "      <td>0.091184</td>\n",
       "      <td>...</td>\n",
       "      <td>False</td>\n",
       "      <td>784.40</td>\n",
       "      <td>2160.00</td>\n",
       "      <td>784.40</td>\n",
       "      <td>784.40</td>\n",
       "      <td>LTL</td>\n",
       "      <td>784.40</td>\n",
       "      <td>LTL</td>\n",
       "      <td>False</td>\n",
       "      <td>0.0</td>\n",
       "    </tr>\n",
       "  </tbody>\n",
       "</table>\n",
       "<p>2 rows × 22 columns</p>\n",
       "</div>"
      ],
      "text/plain": [
       "   invoice_id  site new_commodity_group  invoice_commodity_quantity  \\\n",
       "0      357863   SPN                1VNL                     1485.67   \n",
       "1      357870  SPCP                1VNL                     6609.39   \n",
       "\n",
       "  freight_class shipment_type unit      rate  historical_market_freight_costs  \\\n",
       "0            1M           LTL  LBS  0.078208                           191.13   \n",
       "1            5M           LTL  LBS  0.118679                           602.67   \n",
       "\n",
       "   market_rate  ...  minimum_applied  ltl_only_cost  ftl_cost  \\\n",
       "0     0.128649  ...            False         116.19    724.83   \n",
       "1     0.091184  ...            False         784.40   2160.00   \n",
       "\n",
       "   ltl_fallback_cost  xgs_threshold_cost  xgs_method  optimal_cost  \\\n",
       "0             116.19              116.19         LTL        116.19   \n",
       "1             784.40              784.40         LTL        784.40   \n",
       "\n",
       "  optimal_method  ftl_blocked penalty_vs_optimal  \n",
       "0            LTL        False                0.0  \n",
       "1            LTL        False                0.0  \n",
       "\n",
       "[2 rows x 22 columns]"
      ]
     },
     "execution_count": 72,
     "metadata": {},
     "output_type": "execute_result"
    }
   ],
   "source": [
    "revised_output = simulate_freight_cost_models_revised(df2)\n",
    "revised_output.head(2)"
   ]
  },
  {
   "cell_type": "code",
   "execution_count": 73,
   "id": "07d27513",
   "metadata": {},
   "outputs": [],
   "source": [
    "revised_output.to_csv('../../data/downloads/rates_adjusted_baseline_xgs_output_03052025.csv', index=False)"
   ]
  },
  {
   "cell_type": "code",
   "execution_count": 74,
   "id": "26a20573",
   "metadata": {},
   "outputs": [
    {
     "data": {
      "application/vnd.microsoft.datawrangler.viewer.v0+json": {
       "columns": [
        {
         "name": "index",
         "rawType": "int64",
         "type": "integer"
        },
        {
         "name": "invoice_id",
         "rawType": "int64",
         "type": "integer"
        },
        {
         "name": "site",
         "rawType": "object",
         "type": "string"
        },
        {
         "name": "new_commodity_group",
         "rawType": "object",
         "type": "string"
        },
        {
         "name": "invoice_commodity_quantity",
         "rawType": "float64",
         "type": "float"
        },
        {
         "name": "freight_class",
         "rawType": "object",
         "type": "string"
        },
        {
         "name": "shipment_type",
         "rawType": "object",
         "type": "string"
        },
        {
         "name": "unit",
         "rawType": "object",
         "type": "string"
        },
        {
         "name": "rate",
         "rawType": "float64",
         "type": "float"
        },
        {
         "name": "historical_market_freight_costs",
         "rawType": "float64",
         "type": "float"
        },
        {
         "name": "market_rate",
         "rawType": "float64",
         "type": "float"
        },
        {
         "name": "invoice_freight_commodity_cost",
         "rawType": "float64",
         "type": "float"
        },
        {
         "name": "raw_invoice_cost",
         "rawType": "float64",
         "type": "float"
        },
        {
         "name": "minimum_applied",
         "rawType": "bool",
         "type": "boolean"
        },
        {
         "name": "ltl_only_cost",
         "rawType": "float64",
         "type": "float"
        },
        {
         "name": "ftl_cost",
         "rawType": "float64",
         "type": "float"
        },
        {
         "name": "xgs_threshold_cost",
         "rawType": "float64",
         "type": "float"
        },
        {
         "name": "xgs_method",
         "rawType": "object",
         "type": "string"
        },
        {
         "name": "optimal_cost",
         "rawType": "float64",
         "type": "float"
        },
        {
         "name": "optimal_method",
         "rawType": "object",
         "type": "string"
        },
        {
         "name": "ftl_blocked",
         "rawType": "bool",
         "type": "boolean"
        },
        {
         "name": "penalty_vs_optimal",
         "rawType": "float64",
         "type": "float"
        }
       ],
       "conversionMethod": "pd.DataFrame",
       "ref": "090a6d24-a0f4-4fc9-8523-90b9982608e4",
       "rows": [
        [
         "0",
         "357863",
         "SPN",
         "1VNL",
         "1485.67",
         "1M",
         "LTL",
         "LBS",
         "0.0782075471698113",
         "191.13",
         "0.1286490270383059",
         "116.19",
         "116.19",
         "False",
         "116.19",
         "700.0",
         "116.19",
         "LTL",
         "116.19",
         "LTL",
         "False",
         "0.0"
        ],
        [
         "1",
         "357870",
         "SPCP",
         "1VNL",
         "6609.39",
         "5M",
         "LTL",
         "LBS",
         "0.1186792452830188",
         "602.67",
         "0.091183906532978",
         "784.4",
         "784.4",
         "False",
         "784.4",
         "1755.0",
         "784.4",
         "LTL",
         "784.4",
         "LTL",
         "False",
         "0.0"
        ]
       ],
       "shape": {
        "columns": 21,
        "rows": 2
       }
      },
      "text/html": [
       "<div>\n",
       "<style scoped>\n",
       "    .dataframe tbody tr th:only-of-type {\n",
       "        vertical-align: middle;\n",
       "    }\n",
       "\n",
       "    .dataframe tbody tr th {\n",
       "        vertical-align: top;\n",
       "    }\n",
       "\n",
       "    .dataframe thead th {\n",
       "        text-align: right;\n",
       "    }\n",
       "</style>\n",
       "<table border=\"1\" class=\"dataframe\">\n",
       "  <thead>\n",
       "    <tr style=\"text-align: right;\">\n",
       "      <th></th>\n",
       "      <th>invoice_id</th>\n",
       "      <th>site</th>\n",
       "      <th>new_commodity_group</th>\n",
       "      <th>invoice_commodity_quantity</th>\n",
       "      <th>freight_class</th>\n",
       "      <th>shipment_type</th>\n",
       "      <th>unit</th>\n",
       "      <th>rate</th>\n",
       "      <th>historical_market_freight_costs</th>\n",
       "      <th>market_rate</th>\n",
       "      <th>...</th>\n",
       "      <th>raw_invoice_cost</th>\n",
       "      <th>minimum_applied</th>\n",
       "      <th>ltl_only_cost</th>\n",
       "      <th>ftl_cost</th>\n",
       "      <th>xgs_threshold_cost</th>\n",
       "      <th>xgs_method</th>\n",
       "      <th>optimal_cost</th>\n",
       "      <th>optimal_method</th>\n",
       "      <th>ftl_blocked</th>\n",
       "      <th>penalty_vs_optimal</th>\n",
       "    </tr>\n",
       "  </thead>\n",
       "  <tbody>\n",
       "    <tr>\n",
       "      <th>0</th>\n",
       "      <td>357863</td>\n",
       "      <td>SPN</td>\n",
       "      <td>1VNL</td>\n",
       "      <td>1485.67</td>\n",
       "      <td>1M</td>\n",
       "      <td>LTL</td>\n",
       "      <td>LBS</td>\n",
       "      <td>0.078208</td>\n",
       "      <td>191.13</td>\n",
       "      <td>0.128649</td>\n",
       "      <td>...</td>\n",
       "      <td>116.19</td>\n",
       "      <td>False</td>\n",
       "      <td>116.19</td>\n",
       "      <td>700.0</td>\n",
       "      <td>116.19</td>\n",
       "      <td>LTL</td>\n",
       "      <td>116.19</td>\n",
       "      <td>LTL</td>\n",
       "      <td>False</td>\n",
       "      <td>0.0</td>\n",
       "    </tr>\n",
       "    <tr>\n",
       "      <th>1</th>\n",
       "      <td>357870</td>\n",
       "      <td>SPCP</td>\n",
       "      <td>1VNL</td>\n",
       "      <td>6609.39</td>\n",
       "      <td>5M</td>\n",
       "      <td>LTL</td>\n",
       "      <td>LBS</td>\n",
       "      <td>0.118679</td>\n",
       "      <td>602.67</td>\n",
       "      <td>0.091184</td>\n",
       "      <td>...</td>\n",
       "      <td>784.40</td>\n",
       "      <td>False</td>\n",
       "      <td>784.40</td>\n",
       "      <td>1755.0</td>\n",
       "      <td>784.40</td>\n",
       "      <td>LTL</td>\n",
       "      <td>784.40</td>\n",
       "      <td>LTL</td>\n",
       "      <td>False</td>\n",
       "      <td>0.0</td>\n",
       "    </tr>\n",
       "  </tbody>\n",
       "</table>\n",
       "<p>2 rows × 21 columns</p>\n",
       "</div>"
      ],
      "text/plain": [
       "   invoice_id  site new_commodity_group  invoice_commodity_quantity  \\\n",
       "0      357863   SPN                1VNL                     1485.67   \n",
       "1      357870  SPCP                1VNL                     6609.39   \n",
       "\n",
       "  freight_class shipment_type unit      rate  historical_market_freight_costs  \\\n",
       "0            1M           LTL  LBS  0.078208                           191.13   \n",
       "1            5M           LTL  LBS  0.118679                           602.67   \n",
       "\n",
       "   market_rate  ...  raw_invoice_cost  minimum_applied  ltl_only_cost  \\\n",
       "0     0.128649  ...            116.19            False         116.19   \n",
       "1     0.091184  ...            784.40            False         784.40   \n",
       "\n",
       "   ftl_cost  xgs_threshold_cost  xgs_method optimal_cost  optimal_method  \\\n",
       "0     700.0              116.19         LTL       116.19             LTL   \n",
       "1    1755.0              784.40         LTL       784.40             LTL   \n",
       "\n",
       "  ftl_blocked  penalty_vs_optimal  \n",
       "0       False                 0.0  \n",
       "1       False                 0.0  \n",
       "\n",
       "[2 rows x 21 columns]"
      ]
     },
     "execution_count": 74,
     "metadata": {},
     "output_type": "execute_result"
    }
   ],
   "source": [
    "dat_output = simulate_freight_cost_models(df2)\n",
    "dat_output.head(2)"
   ]
  },
  {
   "cell_type": "code",
   "execution_count": 75,
   "id": "ab04aff4",
   "metadata": {},
   "outputs": [],
   "source": [
    "dat_output.to_csv('../../data/downloads/dat_freight_adjusted_baseline_xgs_output_03052025.csv', index=False)"
   ]
  },
  {
   "cell_type": "code",
   "execution_count": 76,
   "id": "0afba701",
   "metadata": {},
   "outputs": [],
   "source": [
    "plot_df = revised_output[(revised_output['site']=='DIT') & (revised_output['new_commodity_group'].isin(['1VNL','1CBL','1CPT']))]"
   ]
  },
  {
   "cell_type": "code",
   "execution_count": 77,
   "id": "141f2678",
   "metadata": {},
   "outputs": [],
   "source": [
    "import pandas as pd\n",
    "import matplotlib.pyplot as plt\n",
    "import numpy as np\n",
    "\n",
    "def plot_product_vs_cost_model_grid(df, quantity_col=\"invoice_commodity_quantity\"):\n",
    "    \"\"\"\n",
    "    Plots a grid where:\n",
    "    - Each row = one product (commodity)\n",
    "    - Each column = one cost model\n",
    "    - Each subplot shows:\n",
    "        - Scatter for one cost model\n",
    "        - Trendlines for ltl_only, optimal, and market\n",
    "        - FTL average line\n",
    "        - Threshold quantity line\n",
    "    \"\"\"\n",
    "\n",
    "    cost_models = [\n",
    "    \"historical_market_freight_costs\",  # moved to first\n",
    "    \"ltl_only_cost\", \"ftl_cost\",\n",
    "    \"xgs_threshold_cost\", \"optimal_cost\"\n",
    "]\n",
    "\n",
    "    required_cols = cost_models + [\"new_commodity_group\", quantity_col]\n",
    "    for col in required_cols:\n",
    "        if col not in df.columns:\n",
    "            raise ValueError(f\"Missing required column: {col}\")\n",
    "\n",
    "    commodities = sorted(df['new_commodity_group'].dropna().unique())\n",
    "    n_rows = len(commodities)\n",
    "    n_cols = len(cost_models)\n",
    "\n",
    "    # Y-axis limit across all data\n",
    "    flat_vals = df[cost_models].values.flatten()\n",
    "    max_y = np.nanpercentile(flat_vals, 99)\n",
    "    y_max = max_y * 1.1\n",
    "\n",
    "    fig, axes = plt.subplots(n_rows, n_cols, figsize=(n_cols * 4.5, n_rows * 4), squeeze=False)\n",
    "\n",
    "    for i, commodity in enumerate(commodities):\n",
    "        subset = df[df[\"new_commodity_group\"] == commodity]\n",
    "        if subset.empty:\n",
    "            continue\n",
    "\n",
    "        threshold = 2200 if commodity in [\"1CBL\", \"1CPT\"] else 20000\n",
    "        uom_label = \"SQYD\" if commodity in [\"1CBL\", \"1CPT\"] else \"LBS\"\n",
    "\n",
    "        for j, cost_model in enumerate(cost_models):\n",
    "            ax = axes[i][j]\n",
    "            quantity = subset[quantity_col]\n",
    "            cost = subset[cost_model]\n",
    "\n",
    "            # Scatter for current cost model\n",
    "            ax.scatter(quantity, cost, alpha=0.7, s=20, label=cost_model)\n",
    "\n",
    "            if len(subset) >= 2:\n",
    "                x_range = np.linspace(quantity.min(), quantity.max(), 200)\n",
    "\n",
    "                # Trendlines\n",
    "                x = quantity.values\n",
    "                y_ltl = subset[\"ltl_only_cost\"].values\n",
    "\n",
    "               # if np.isfinite(x).all() and np.isfinite(y_ltl).all() and np.std(y_ltl) > 0:\n",
    "               #     z_ltl = np.polyfit(x, y_ltl, 1)\n",
    "               #     ax.plot(x_range, np.poly1d(z_ltl)(x_range), \"b--\", label=\"LTL Trend\")\n",
    "\n",
    "\n",
    "               # z_opt = np.polyfit(quantity, subset[\"optimal_cost\"], 1)\n",
    "               # ax.plot(x_range, np.poly1d(z_opt)(x_range), \"c--\", label=\"Optimal Trend\")\n",
    "\n",
    "               # z_market = np.polyfit(quantity, subset[\"calibrated_market_freight_costs\"], 1)\n",
    "               # ax.plot(x_range, np.poly1d(z_market)(x_range), \"r--\", label=\"Market Trend\")\n",
    "\n",
    "                ax.axhline(y=subset[\"ftl_cost\"].mean(), color='orange', linestyle=':', label=\"Avg FTL\")\n",
    "\n",
    "            # Threshold line\n",
    "            ax.axvline(x=threshold, color=\"gray\", linestyle=\"--\", linewidth=1)\n",
    "            ax.text(threshold, y_max * 0.9, f\"{threshold}\", rotation=90,\n",
    "                    color=\"gray\", fontsize=8, ha='right', va='top')\n",
    "\n",
    "            # Labels\n",
    "            if i == 0:\n",
    "                ax.set_title(cost_model.replace(\"_\", \" \").title(), fontsize=10)\n",
    "            if j == 0:\n",
    "                ax.set_ylabel(f\"{commodity}\\n\\nFreight Cost ($)\", fontsize=9)\n",
    "            ax.set_xlabel(f\"Quantity ({uom_label})\", fontsize=9)\n",
    "\n",
    "            ax.set_ylim(0, y_max)\n",
    "            ax.tick_params(labelsize=8)\n",
    "            ax.grid(False)\n",
    "\n",
    "            if i == 0 and j == 0:\n",
    "                ax.legend(fontsize=7, loc=\"upper left\")\n",
    "\n",
    "    plt.tight_layout(pad=2.0)\n",
    "    plt.show()\n"
   ]
  },
  {
   "cell_type": "code",
   "execution_count": 78,
   "id": "f254de44",
   "metadata": {},
   "outputs": [
    {
     "data": {
      "image/png": "[encoded data removed]",
      "text/plain": [
       "<Figure size 1620x864 with 15 Axes>"
      ]
     },
     "metadata": {
      "needs_background": "light"
     },
     "output_type": "display_data"
    }
   ],
   "source": [
    "plot_product_vs_cost_model_grid(plot_df)\n"
   ]
  },
  {
   "cell_type": "code",
   "execution_count": 79,
   "id": "580a357f",
   "metadata": {},
   "outputs": [],
   "source": [
    "#plot_df.to_csv('../../data/downloads/baseline.csv')"
   ]
  },
  {
   "cell_type": "code",
   "execution_count": 80,
   "id": "25113b0d",
   "metadata": {},
   "outputs": [
    {
     "data": {
      "image/png": "[encoded data removed]",
      "text/plain": [
       "<Figure size 1620x864 with 15 Axes>"
      ]
     },
     "metadata": {
      "needs_background": "light"
     },
     "output_type": "display_data"
    }
   ],
   "source": [
    "plot_product_vs_cost_model_grid(revised_output)"
   ]
  }
 ],
 "metadata": {
  "kernelspec": {
   "display_name": "base",
   "language": "python",
   "name": "python3"
  },
  "language_info": {
   "codemirror_mode": {
    "name": "ipython",
    "version": 3
   },
   "file_extension": ".py",
   "mimetype": "text/x-python",
   "name": "python",
   "nbconvert_exporter": "python",
   "pygments_lexer": "ipython3",
   "version": "3.9.7"
  }
 },
 "nbformat": 4,
 "nbformat_minor": 5
}
