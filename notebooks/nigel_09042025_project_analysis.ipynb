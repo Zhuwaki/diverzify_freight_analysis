{
 "cells": [
  {
   "cell_type": "code",
   "execution_count": 6,
   "id": "1f20d5d3",
   "metadata": {},
   "outputs": [
    {
     "data": {
      "application/vnd.microsoft.datawrangler.viewer.v0+json": {
       "columns": [
        {
         "name": "index",
         "rawType": "int64",
         "type": "integer"
        },
        {
         "name": "SITE",
         "rawType": "object",
         "type": "string"
        },
        {
         "name": "SITE DESCRIPTION",
         "rawType": "object",
         "type": "string"
        },
        {
         "name": "SUPPLIER NO",
         "rawType": "object",
         "type": "string"
        },
        {
         "name": "SUPPLIER NAME",
         "rawType": "object",
         "type": "string"
        },
        {
         "name": "INVOICE ID",
         "rawType": "int64",
         "type": "integer"
        },
        {
         "name": "INVOICE NO",
         "rawType": "object",
         "type": "string"
        },
        {
         "name": "DATE POSTED",
         "rawType": "object",
         "type": "string"
        },
        {
         "name": "PROJECT ID",
         "rawType": "object",
         "type": "string"
        },
        {
         "name": "PROJECT NAME",
         "rawType": "object",
         "type": "string"
        },
        {
         "name": "ACCOUNT",
         "rawType": "int64",
         "type": "integer"
        },
        {
         "name": "ACCOUNT DESCRIPTION",
         "rawType": "object",
         "type": "string"
        },
        {
         "name": "PLANNED DELIVERY DATE",
         "rawType": "object",
         "type": "string"
        },
        {
         "name": "SHIP TO ZIP",
         "rawType": "object",
         "type": "string"
        },
        {
         "name": "PO NO",
         "rawType": "object",
         "type": "string"
        },
        {
         "name": "PO LINE NO",
         "rawType": "object",
         "type": "string"
        },
        {
         "name": "PO REL NO",
         "rawType": "object",
         "type": "string"
        },
        {
         "name": "RECEIPT NO",
         "rawType": "float64",
         "type": "float"
        },
        {
         "name": "PART NO",
         "rawType": "object",
         "type": "string"
        },
        {
         "name": "PART DESCRIPTION",
         "rawType": "object",
         "type": "string"
        },
        {
         "name": "COMM 1",
         "rawType": "object",
         "type": "string"
        },
        {
         "name": "COMM 2",
         "rawType": "object",
         "type": "string"
        },
        {
         "name": "PO PURCH QTY",
         "rawType": "float64",
         "type": "float"
        },
        {
         "name": "PURCH UOM",
         "rawType": "object",
         "type": "string"
        },
        {
         "name": "PO INV QTY",
         "rawType": "float64",
         "type": "float"
        },
        {
         "name": "INV UOM",
         "rawType": "object",
         "type": "string"
        },
        {
         "name": "INVOICED LINE QTY",
         "rawType": "float64",
         "type": "float"
        },
        {
         "name": "INVOICE LINE TOTAL",
         "rawType": "float64",
         "type": "float"
        },
        {
         "name": "PO PRICE",
         "rawType": "float64",
         "type": "float"
        }
       ],
       "conversionMethod": "pd.DataFrame",
       "ref": "43d7b7cc-be10-4dd0-a7ee-e76e8dab0d8c",
       "rows": [
        [
         "0",
         "BNB",
         "Beckers New Brighton",
         "102548",
         "Lonseal Flooring",
         "433731",
         "0007795-CM",
         "3-Jan-24",
         "2311121922",
         "REGIONS HOSPITAL 4TH MRI",
         "5400",
         "PROJECT Sub-Contract Labor",
         null,
         null,
         null,
         null,
         null,
         null,
         null,
         null,
         null,
         null,
         null,
         null,
         null,
         null,
         null,
         "-600.0",
         null
        ],
        [
         "1",
         "BNB",
         "Beckers New Brighton",
         "104716",
         "Hank's Specialties",
         "433340",
         "173373",
         "3-Jan-24",
         "2312127706",
         "UOFM MOLECULAR & CELLULAR BIOLOGY P",
         "2008",
         "Received Not Yet Invoiced",
         "2-Jan-24",
         "55430",
         "48180",
         "9",
         "1",
         "1.0",
         "1000007968",
         "PROTECT ALL PRE-NOTCHED Z-BAR INSIDE CORNER ALUMINUM (864056A) 12\"X12\" ALUMINUM",
         "1ACC",
         "1ACC",
         "4.0",
         "EA",
         "4.0",
         "EA",
         "4.0",
         "18.4",
         "18.4"
        ],
        [
         "2",
         "BNB",
         "Beckers New Brighton",
         "104716",
         "Hank's Specialties",
         "433340",
         "173373",
         "3-Jan-24",
         "2312127706",
         "UOFM MOLECULAR & CELLULAR BIOLOGY P",
         "2008",
         "Received Not Yet Invoiced",
         "2-Jan-24",
         "55430",
         "48180",
         "1",
         "1",
         "1.0",
         "1000008162",
         "PROTECT ALL Z BAR DARK GRAY VINYL COVE CAP 8' (864052) 8' DARK GRAY",
         "1TRAN",
         "2ALL",
         "7.0",
         "EA",
         "7.0",
         "EA",
         "7.0",
         "45.36",
         "45.36"
        ],
        [
         "3",
         "BNB",
         "Beckers New Brighton",
         "104716",
         "Hank's Specialties",
         "433340",
         "173373",
         "3-Jan-24",
         "2312127706",
         "UOFM MOLECULAR & CELLULAR BIOLOGY P",
         "5504",
         "PROJECT Freight",
         null,
         null,
         "48180",
         null,
         null,
         null,
         null,
         null,
         null,
         null,
         null,
         null,
         null,
         null,
         null,
         "50.0",
         null
        ],
        [
         "4",
         "BNB",
         "Beckers New Brighton",
         "104716",
         "Hank's Specialties",
         "433340",
         "173373",
         "3-Jan-24",
         "2312127706",
         "UOFM MOLECULAR & CELLULAR BIOLOGY P",
         "2015",
         "Sales Tax Payable",
         null,
         null,
         "48180",
         null,
         null,
         null,
         null,
         null,
         null,
         null,
         null,
         null,
         null,
         null,
         null,
         "151.42",
         null
        ]
       ],
       "shape": {
        "columns": 28,
        "rows": 5
       }
      },
      "text/html": [
       "<div>\n",
       "<style scoped>\n",
       "    .dataframe tbody tr th:only-of-type {\n",
       "        vertical-align: middle;\n",
       "    }\n",
       "\n",
       "    .dataframe tbody tr th {\n",
       "        vertical-align: top;\n",
       "    }\n",
       "\n",
       "    .dataframe thead th {\n",
       "        text-align: right;\n",
       "    }\n",
       "</style>\n",
       "<table border=\"1\" class=\"dataframe\">\n",
       "  <thead>\n",
       "    <tr style=\"text-align: right;\">\n",
       "      <th></th>\n",
       "      <th>SITE</th>\n",
       "      <th>SITE DESCRIPTION</th>\n",
       "      <th>SUPPLIER NO</th>\n",
       "      <th>SUPPLIER NAME</th>\n",
       "      <th>INVOICE ID</th>\n",
       "      <th>INVOICE NO</th>\n",
       "      <th>DATE POSTED</th>\n",
       "      <th>PROJECT ID</th>\n",
       "      <th>PROJECT NAME</th>\n",
       "      <th>ACCOUNT</th>\n",
       "      <th>...</th>\n",
       "      <th>PART DESCRIPTION</th>\n",
       "      <th>COMM 1</th>\n",
       "      <th>COMM 2</th>\n",
       "      <th>PO PURCH QTY</th>\n",
       "      <th>PURCH UOM</th>\n",
       "      <th>PO INV QTY</th>\n",
       "      <th>INV UOM</th>\n",
       "      <th>INVOICED LINE QTY</th>\n",
       "      <th>INVOICE LINE TOTAL</th>\n",
       "      <th>PO PRICE</th>\n",
       "    </tr>\n",
       "  </thead>\n",
       "  <tbody>\n",
       "    <tr>\n",
       "      <th>0</th>\n",
       "      <td>BNB</td>\n",
       "      <td>Beckers New Brighton</td>\n",
       "      <td>102548</td>\n",
       "      <td>Lonseal Flooring</td>\n",
       "      <td>433731</td>\n",
       "      <td>0007795-CM</td>\n",
       "      <td>3-Jan-24</td>\n",
       "      <td>2311121922</td>\n",
       "      <td>REGIONS HOSPITAL 4TH MRI</td>\n",
       "      <td>5400</td>\n",
       "      <td>...</td>\n",
       "      <td>NaN</td>\n",
       "      <td>NaN</td>\n",
       "      <td>NaN</td>\n",
       "      <td>NaN</td>\n",
       "      <td>NaN</td>\n",
       "      <td>NaN</td>\n",
       "      <td>NaN</td>\n",
       "      <td>NaN</td>\n",
       "      <td>-600.00</td>\n",
       "      <td>NaN</td>\n",
       "    </tr>\n",
       "    <tr>\n",
       "      <th>1</th>\n",
       "      <td>BNB</td>\n",
       "      <td>Beckers New Brighton</td>\n",
       "      <td>104716</td>\n",
       "      <td>Hank's Specialties</td>\n",
       "      <td>433340</td>\n",
       "      <td>173373</td>\n",
       "      <td>3-Jan-24</td>\n",
       "      <td>2312127706</td>\n",
       "      <td>UOFM MOLECULAR &amp; CELLULAR BIOLOGY P</td>\n",
       "      <td>2008</td>\n",
       "      <td>...</td>\n",
       "      <td>PROTECT ALL PRE-NOTCHED Z-BAR INSIDE CORNER AL...</td>\n",
       "      <td>1ACC</td>\n",
       "      <td>1ACC</td>\n",
       "      <td>4.0</td>\n",
       "      <td>EA</td>\n",
       "      <td>4.0</td>\n",
       "      <td>EA</td>\n",
       "      <td>4.0</td>\n",
       "      <td>18.40</td>\n",
       "      <td>18.40</td>\n",
       "    </tr>\n",
       "    <tr>\n",
       "      <th>2</th>\n",
       "      <td>BNB</td>\n",
       "      <td>Beckers New Brighton</td>\n",
       "      <td>104716</td>\n",
       "      <td>Hank's Specialties</td>\n",
       "      <td>433340</td>\n",
       "      <td>173373</td>\n",
       "      <td>3-Jan-24</td>\n",
       "      <td>2312127706</td>\n",
       "      <td>UOFM MOLECULAR &amp; CELLULAR BIOLOGY P</td>\n",
       "      <td>2008</td>\n",
       "      <td>...</td>\n",
       "      <td>PROTECT ALL Z BAR DARK GRAY VINYL COVE CAP 8' ...</td>\n",
       "      <td>1TRAN</td>\n",
       "      <td>2ALL</td>\n",
       "      <td>7.0</td>\n",
       "      <td>EA</td>\n",
       "      <td>7.0</td>\n",
       "      <td>EA</td>\n",
       "      <td>7.0</td>\n",
       "      <td>45.36</td>\n",
       "      <td>45.36</td>\n",
       "    </tr>\n",
       "    <tr>\n",
       "      <th>3</th>\n",
       "      <td>BNB</td>\n",
       "      <td>Beckers New Brighton</td>\n",
       "      <td>104716</td>\n",
       "      <td>Hank's Specialties</td>\n",
       "      <td>433340</td>\n",
       "      <td>173373</td>\n",
       "      <td>3-Jan-24</td>\n",
       "      <td>2312127706</td>\n",
       "      <td>UOFM MOLECULAR &amp; CELLULAR BIOLOGY P</td>\n",
       "      <td>5504</td>\n",
       "      <td>...</td>\n",
       "      <td>NaN</td>\n",
       "      <td>NaN</td>\n",
       "      <td>NaN</td>\n",
       "      <td>NaN</td>\n",
       "      <td>NaN</td>\n",
       "      <td>NaN</td>\n",
       "      <td>NaN</td>\n",
       "      <td>NaN</td>\n",
       "      <td>50.00</td>\n",
       "      <td>NaN</td>\n",
       "    </tr>\n",
       "    <tr>\n",
       "      <th>4</th>\n",
       "      <td>BNB</td>\n",
       "      <td>Beckers New Brighton</td>\n",
       "      <td>104716</td>\n",
       "      <td>Hank's Specialties</td>\n",
       "      <td>433340</td>\n",
       "      <td>173373</td>\n",
       "      <td>3-Jan-24</td>\n",
       "      <td>2312127706</td>\n",
       "      <td>UOFM MOLECULAR &amp; CELLULAR BIOLOGY P</td>\n",
       "      <td>2015</td>\n",
       "      <td>...</td>\n",
       "      <td>NaN</td>\n",
       "      <td>NaN</td>\n",
       "      <td>NaN</td>\n",
       "      <td>NaN</td>\n",
       "      <td>NaN</td>\n",
       "      <td>NaN</td>\n",
       "      <td>NaN</td>\n",
       "      <td>NaN</td>\n",
       "      <td>151.42</td>\n",
       "      <td>NaN</td>\n",
       "    </tr>\n",
       "  </tbody>\n",
       "</table>\n",
       "<p>5 rows × 28 columns</p>\n",
       "</div>"
      ],
      "text/plain": [
       "  SITE      SITE DESCRIPTION SUPPLIER NO       SUPPLIER NAME  INVOICE ID  \\\n",
       "0  BNB  Beckers New Brighton      102548    Lonseal Flooring      433731   \n",
       "1  BNB  Beckers New Brighton      104716  Hank's Specialties      433340   \n",
       "2  BNB  Beckers New Brighton      104716  Hank's Specialties      433340   \n",
       "3  BNB  Beckers New Brighton      104716  Hank's Specialties      433340   \n",
       "4  BNB  Beckers New Brighton      104716  Hank's Specialties      433340   \n",
       "\n",
       "   INVOICE NO DATE POSTED  PROJECT ID                         PROJECT NAME  \\\n",
       "0  0007795-CM    3-Jan-24  2311121922             REGIONS HOSPITAL 4TH MRI   \n",
       "1      173373    3-Jan-24  2312127706  UOFM MOLECULAR & CELLULAR BIOLOGY P   \n",
       "2      173373    3-Jan-24  2312127706  UOFM MOLECULAR & CELLULAR BIOLOGY P   \n",
       "3      173373    3-Jan-24  2312127706  UOFM MOLECULAR & CELLULAR BIOLOGY P   \n",
       "4      173373    3-Jan-24  2312127706  UOFM MOLECULAR & CELLULAR BIOLOGY P   \n",
       "\n",
       "   ACCOUNT  ...                                   PART DESCRIPTION COMM 1  \\\n",
       "0     5400  ...                                                NaN    NaN   \n",
       "1     2008  ...  PROTECT ALL PRE-NOTCHED Z-BAR INSIDE CORNER AL...   1ACC   \n",
       "2     2008  ...  PROTECT ALL Z BAR DARK GRAY VINYL COVE CAP 8' ...  1TRAN   \n",
       "3     5504  ...                                                NaN    NaN   \n",
       "4     2015  ...                                                NaN    NaN   \n",
       "\n",
       "  COMM 2 PO PURCH QTY PURCH UOM PO INV QTY  INV UOM INVOICED LINE QTY  \\\n",
       "0    NaN          NaN       NaN        NaN      NaN               NaN   \n",
       "1   1ACC          4.0        EA        4.0       EA               4.0   \n",
       "2   2ALL          7.0        EA        7.0       EA               7.0   \n",
       "3    NaN          NaN       NaN        NaN      NaN               NaN   \n",
       "4    NaN          NaN       NaN        NaN      NaN               NaN   \n",
       "\n",
       "  INVOICE LINE TOTAL PO PRICE  \n",
       "0            -600.00      NaN  \n",
       "1              18.40    18.40  \n",
       "2              45.36    45.36  \n",
       "3              50.00      NaN  \n",
       "4             151.42      NaN  \n",
       "\n",
       "[5 rows x 28 columns]"
      ]
     },
     "execution_count": 6,
     "metadata": {},
     "output_type": "execute_result"
    }
   ],
   "source": [
    "import pandas as pd\n",
    "import matplotlib.pyplot as plt\n",
    "\n",
    "# Load your dataset\n",
    "file_path = \"../data/input/Freight_Cost_Analysis_CY2024-03.25.csv\"\n",
    "df = pd.read_csv(file_path, encoding=\"latin1\", low_memory=False)\n",
    "df.head()"
   ]
  },
  {
   "cell_type": "code",
   "execution_count": 7,
   "id": "543a7a61",
   "metadata": {},
   "outputs": [
    {
     "data": {
      "text/plain": [
       "Index(['SITE', 'SITE DESCRIPTION', 'SUPPLIER NO', 'SUPPLIER NAME',\n",
       "       'INVOICE ID', 'INVOICE NO', 'DATE POSTED', 'PROJECT ID', 'PROJECT NAME',\n",
       "       'ACCOUNT', 'ACCOUNT DESCRIPTION', 'PLANNED DELIVERY DATE',\n",
       "       'SHIP TO ZIP', 'PO NO', 'PO LINE NO', 'PO REL NO', 'RECEIPT NO',\n",
       "       'PART NO', 'PART DESCRIPTION', 'COMM 1', 'COMM 2', 'PO PURCH QTY',\n",
       "       'PURCH UOM', 'PO INV QTY', 'INV UOM', 'INVOICED LINE QTY',\n",
       "       'INVOICE LINE TOTAL', 'PO PRICE'],\n",
       "      dtype='object')"
      ]
     },
     "execution_count": 7,
     "metadata": {},
     "output_type": "execute_result"
    }
   ],
   "source": [
    "df.columns"
   ]
  },
  {
   "cell_type": "code",
   "execution_count": null,
   "id": "8d861e42",
   "metadata": {},
   "outputs": [
    {
     "data": {
      "application/vnd.microsoft.datawrangler.viewer.v0+json": {
       "columns": [
        {
         "name": "index",
         "rawType": "int64",
         "type": "integer"
        },
        {
         "name": "PROJECT ID",
         "rawType": "object",
         "type": "string"
        },
        {
         "name": "INVOICE ID",
         "rawType": "int64",
         "type": "integer"
        },
        {
         "name": "INVOICE NO",
         "rawType": "int64",
         "type": "integer"
        },
        {
         "name": "PO NO",
         "rawType": "int64",
         "type": "integer"
        }
       ],
       "conversionMethod": "pd.DataFrame",
       "ref": "4384305f-1a9b-4874-acbe-a14e6ac6ec93",
       "rows": [
        [
         "0",
         "2408174237",
         "426",
         "426",
         "319"
        ],
        [
         "1",
         "2311122413",
         "427",
         "426",
         "309"
        ],
        [
         "2",
         "SPW108421",
         "470",
         "469",
         "303"
        ],
        [
         "3",
         "SPT92086",
         "357",
         "357",
         "242"
        ],
        [
         "4",
         "SPTM52378",
         "223",
         "223",
         "185"
        ],
        [
         "5",
         "2402138483",
         "198",
         "198",
         "182"
        ],
        [
         "6",
         "SPSA86757",
         "207",
         "207",
         "175"
        ],
        [
         "7",
         "SPN194975",
         "224",
         "224",
         "175"
        ],
        [
         "8",
         "SPTM54371",
         "219",
         "219",
         "172"
        ],
        [
         "9",
         "2402138480",
         "192",
         "191",
         "168"
        ],
        [
         "10",
         "SPD63010",
         "236",
         "236",
         "156"
        ],
        [
         "11",
         "SPSA83721",
         "188",
         "188",
         "155"
        ],
        [
         "12",
         "2309111711",
         "187",
         "187",
         "146"
        ],
        [
         "13",
         "2402139711",
         "151",
         "151",
         "139"
        ],
        [
         "14",
         "SPP200265",
         "196",
         "196",
         "137"
        ],
        [
         "15",
         "2401134034",
         "179",
         "179",
         "136"
        ],
        [
         "16",
         "230485354",
         "169",
         "169",
         "136"
        ],
        [
         "17",
         "2405159055",
         "232",
         "232",
         "134"
        ],
        [
         "18",
         "SPLV40902",
         "178",
         "178",
         "134"
        ],
        [
         "19",
         "2408174335",
         "171",
         "171",
         "128"
        ],
        [
         "20",
         "2407164857",
         "166",
         "166",
         "126"
        ],
        [
         "21",
         "2403141667",
         "164",
         "164",
         "126"
        ],
        [
         "22",
         "2407165520",
         "161",
         "161",
         "110"
        ],
        [
         "23",
         "2402138198",
         "130",
         "130",
         "109"
        ],
        [
         "24",
         "SPN190069",
         "130",
         "130",
         "108"
        ],
        [
         "25",
         "230898275",
         "116",
         "115",
         "106"
        ],
        [
         "26",
         "2402138913",
         "115",
         "115",
         "106"
        ],
        [
         "27",
         "SPW105378",
         "131",
         "131",
         "104"
        ],
        [
         "28",
         "SPN194173",
         "108",
         "108",
         "104"
        ],
        [
         "29",
         "2401132488",
         "117",
         "117",
         "103"
        ],
        [
         "30",
         "2311121852",
         "109",
         "109",
         "103"
        ],
        [
         "31",
         "SPN186395",
         "135",
         "124",
         "102"
        ],
        [
         "32",
         "2407165607",
         "106",
         "106",
         "102"
        ],
        [
         "33",
         "SPCP108558",
         "123",
         "123",
         "102"
        ],
        [
         "34",
         "SPP192964",
         "132",
         "126",
         "101"
        ],
        [
         "35",
         "2309112924",
         "124",
         "124",
         "97"
        ],
        [
         "36",
         "SPN201475",
         "125",
         "125",
         "96"
        ],
        [
         "37",
         "SPJ105712",
         "140",
         "140",
         "94"
        ],
        [
         "38",
         "SPT90325",
         "118",
         "117",
         "94"
        ],
        [
         "39",
         "SPC38353",
         "115",
         "115",
         "94"
        ],
        [
         "40",
         "SPW102032",
         "115",
         "115",
         "93"
        ],
        [
         "41",
         "SPT90490",
         "103",
         "103",
         "93"
        ],
        [
         "42",
         "SPN187825",
         "118",
         "118",
         "93"
        ],
        [
         "43",
         "2402139115",
         "96",
         "95",
         "93"
        ],
        [
         "44",
         "SPCP108553",
         "103",
         "103",
         "91"
        ],
        [
         "45",
         "230484445",
         "96",
         "96",
         "90"
        ],
        [
         "46",
         "SPB33672",
         "98",
         "98",
         "89"
        ],
        [
         "47",
         "SPLV40898",
         "99",
         "98",
         "88"
        ],
        [
         "48",
         "SPN196131",
         "117",
         "117",
         "88"
        ],
        [
         "49",
         "220568083",
         "98",
         "97",
         "88"
        ]
       ],
       "shape": {
        "columns": 4,
        "rows": 27124
       }
      },
      "text/html": [
       "<div>\n",
       "<style scoped>\n",
       "    .dataframe tbody tr th:only-of-type {\n",
       "        vertical-align: middle;\n",
       "    }\n",
       "\n",
       "    .dataframe tbody tr th {\n",
       "        vertical-align: top;\n",
       "    }\n",
       "\n",
       "    .dataframe thead th {\n",
       "        text-align: right;\n",
       "    }\n",
       "</style>\n",
       "<table border=\"1\" class=\"dataframe\">\n",
       "  <thead>\n",
       "    <tr style=\"text-align: right;\">\n",
       "      <th></th>\n",
       "      <th>PROJECT ID</th>\n",
       "      <th>INVOICE ID</th>\n",
       "      <th>INVOICE NO</th>\n",
       "      <th>PO NO</th>\n",
       "    </tr>\n",
       "  </thead>\n",
       "  <tbody>\n",
       "    <tr>\n",
       "      <th>0</th>\n",
       "      <td>2408174237</td>\n",
       "      <td>426</td>\n",
       "      <td>426</td>\n",
       "      <td>319</td>\n",
       "    </tr>\n",
       "    <tr>\n",
       "      <th>1</th>\n",
       "      <td>2311122413</td>\n",
       "      <td>427</td>\n",
       "      <td>426</td>\n",
       "      <td>309</td>\n",
       "    </tr>\n",
       "    <tr>\n",
       "      <th>2</th>\n",
       "      <td>SPW108421</td>\n",
       "      <td>470</td>\n",
       "      <td>469</td>\n",
       "      <td>303</td>\n",
       "    </tr>\n",
       "    <tr>\n",
       "      <th>3</th>\n",
       "      <td>SPT92086</td>\n",
       "      <td>357</td>\n",
       "      <td>357</td>\n",
       "      <td>242</td>\n",
       "    </tr>\n",
       "    <tr>\n",
       "      <th>4</th>\n",
       "      <td>SPTM52378</td>\n",
       "      <td>223</td>\n",
       "      <td>223</td>\n",
       "      <td>185</td>\n",
       "    </tr>\n",
       "    <tr>\n",
       "      <th>...</th>\n",
       "      <td>...</td>\n",
       "      <td>...</td>\n",
       "      <td>...</td>\n",
       "      <td>...</td>\n",
       "    </tr>\n",
       "    <tr>\n",
       "      <th>27119</th>\n",
       "      <td>2403144051</td>\n",
       "      <td>1</td>\n",
       "      <td>1</td>\n",
       "      <td>0</td>\n",
       "    </tr>\n",
       "    <tr>\n",
       "      <th>27120</th>\n",
       "      <td>2309114471</td>\n",
       "      <td>1</td>\n",
       "      <td>1</td>\n",
       "      <td>0</td>\n",
       "    </tr>\n",
       "    <tr>\n",
       "      <th>27121</th>\n",
       "      <td>SPT90442</td>\n",
       "      <td>1</td>\n",
       "      <td>1</td>\n",
       "      <td>0</td>\n",
       "    </tr>\n",
       "    <tr>\n",
       "      <th>27122</th>\n",
       "      <td>2501205979</td>\n",
       "      <td>1</td>\n",
       "      <td>1</td>\n",
       "      <td>0</td>\n",
       "    </tr>\n",
       "    <tr>\n",
       "      <th>27123</th>\n",
       "      <td>2411192825</td>\n",
       "      <td>1</td>\n",
       "      <td>1</td>\n",
       "      <td>0</td>\n",
       "    </tr>\n",
       "  </tbody>\n",
       "</table>\n",
       "<p>27124 rows × 4 columns</p>\n",
       "</div>"
      ],
      "text/plain": [
       "       PROJECT ID  INVOICE ID  INVOICE NO  PO NO\n",
       "0      2408174237         426         426    319\n",
       "1      2311122413         427         426    309\n",
       "2       SPW108421         470         469    303\n",
       "3        SPT92086         357         357    242\n",
       "4       SPTM52378         223         223    185\n",
       "...           ...         ...         ...    ...\n",
       "27119  2403144051           1           1      0\n",
       "27120  2309114471           1           1      0\n",
       "27121    SPT90442           1           1      0\n",
       "27122  2501205979           1           1      0\n",
       "27123  2411192825           1           1      0\n",
       "\n",
       "[27124 rows x 4 columns]"
      ]
     },
     "execution_count": 10,
     "metadata": {},
     "output_type": "execute_result"
    }
   ],
   "source": [
    "pivot_table = df.pivot_table(index=['PROJECT NAME','PROJECT ID'], values=['PO NO','INVOICE ID', 'INVOICE NO',], aggfunc=pd.Series.nunique).sort_values(by='PO NO', ascending=False).reset_index()\n",
    "pivot_table"
   ]
  },
  {
   "cell_type": "code",
   "execution_count": 16,
   "id": "d72c112d",
   "metadata": {},
   "outputs": [
    {
     "data": {
      "application/vnd.microsoft.datawrangler.viewer.v0+json": {
       "columns": [
        {
         "name": "index",
         "rawType": "int64",
         "type": "integer"
        },
        {
         "name": "PROJECT NAME",
         "rawType": "object",
         "type": "string"
        },
        {
         "name": "PROJECT ID",
         "rawType": "object",
         "type": "string"
        },
        {
         "name": "INVOICE ID",
         "rawType": "int64",
         "type": "integer"
        },
        {
         "name": "SUPPLIER NO",
         "rawType": "object",
         "type": "string"
        },
        {
         "name": "SUPPLIER NAME",
         "rawType": "object",
         "type": "string"
        },
        {
         "name": "INVOICE NO",
         "rawType": "int64",
         "type": "integer"
        },
        {
         "name": "PO NO",
         "rawType": "int64",
         "type": "integer"
        }
       ],
       "conversionMethod": "pd.DataFrame",
       "ref": "5938cb89-da89-4224-8617-01b0f3cff156",
       "rows": [
        [
         "0",
         "AMITA Health Holding",
         "1000-D",
         "442358",
         "108164",
         "Mannington Mills, Inc.",
         "1",
         "1"
        ],
        [
         "1",
         "AMITA Health Holding",
         "1000-D",
         "448262",
         "125814",
         "All Tile Holdings LLC",
         "1",
         "0"
        ],
        [
         "2",
         "AMITA Health Holding",
         "1000-D",
         "448663",
         "890",
         "All Surfaces",
         "1",
         "1"
        ],
        [
         "3",
         "AMITA Health Holding",
         "1000-D",
         "462578",
         "100613",
         "Florstar Sales, Inc",
         "1",
         "1"
        ],
        [
         "4",
         "AMITA Health Holding",
         "1000-D",
         "489433",
         "100613",
         "Florstar Sales, Inc",
         "1",
         "1"
        ],
        [
         "5",
         "AMITA Health Holding",
         "1000-D",
         "507348",
         "102775",
         "Interface Americas, Inc.",
         "1",
         "1"
        ],
        [
         "6",
         "AMITA Health Holding",
         "1000-D",
         "591628",
         "100613",
         "Florstar Sales, Inc",
         "1",
         "1"
        ],
        [
         "7",
         "AMITA Health Holding",
         "1000-D",
         "598811",
         "102775",
         "Interface Americas, Inc.",
         "1",
         "1"
        ],
        [
         "8",
         "AMITA Health Holding",
         "1000-D",
         "609732",
         "102775",
         "Interface Americas, Inc.",
         "1",
         "1"
        ],
        [
         "9",
         "AMITA Health Holding",
         "1000-D",
         "644227",
         "102775",
         "Interface Americas, Inc.",
         "1",
         "1"
        ],
        [
         "10",
         "AMITA Health Holding",
         "1000-D",
         "660902",
         "100613",
         "Florstar Sales, Inc",
         "1",
         "1"
        ],
        [
         "11",
         "AMITA Health Holding",
         "1000-D",
         "677478",
         "125814",
         "All Surfaces",
         "1",
         "1"
        ],
        [
         "12",
         "AMITA Health Holding",
         "1000-D",
         "686151",
         "122068",
         "EJ Welch Co, Inc",
         "1",
         "1"
        ],
        [
         "13",
         "AMITA Health Holding",
         "1000-D",
         "705850",
         "100613",
         "Florstar Sales, Inc",
         "1",
         "1"
        ],
        [
         "14",
         "AMITA Health Holding",
         "1000-D",
         "710206",
         "100613",
         "Florstar Sales, Inc",
         "1",
         "1"
        ],
        [
         "15",
         "AMITA Health Holding",
         "1000-D",
         "716107",
         "102775",
         "Interface Americas, Inc.",
         "1",
         "1"
        ],
        [
         "16",
         "AMITA Health Holding",
         "1000-D",
         "733244",
         "100613",
         "Florstar Sales, Inc",
         "1",
         "1"
        ],
        [
         "17",
         "AMITA Health Holding",
         "1000-D",
         "1008076",
         "100613",
         "Florstar Sales, Inc",
         "1",
         "1"
        ],
        [
         "18",
         "AMITA Health Holding",
         "1000-D",
         "1009829",
         "100613",
         "Florstar Sales, Inc",
         "1",
         "1"
        ],
        [
         "19",
         "AMITA Health Holding",
         "1000-D",
         "1019284",
         "100613",
         "Florstar Sales, Inc",
         "1",
         "1"
        ],
        [
         "20",
         "AMITA Health Holding",
         "1000-D",
         "1033983",
         "890",
         "All Surfaces",
         "1",
         "1"
        ],
        [
         "21",
         "AMITA Health Holding",
         "1000-D",
         "1045010",
         "100613",
         "Florstar Sales, Inc",
         "1",
         "1"
        ],
        [
         "22",
         "AMITA Health Holding",
         "1000-D",
         "1067502",
         "890",
         "All Surfaces",
         "1",
         "1"
        ],
        [
         "23",
         "AMITA Health Holding",
         "1000-D",
         "1096287",
         "890",
         "All Surfaces",
         "1",
         "1"
        ],
        [
         "24",
         "AMITA Health Holding",
         "1000-D",
         "1123589",
         "890",
         "All Surfaces",
         "1",
         "1"
        ],
        [
         "25",
         "AMITA Health Holding",
         "1000-D",
         "1140680",
         "890",
         "All Surfaces",
         "1",
         "1"
        ],
        [
         "26",
         "AMITA Health Holding",
         "1000-D",
         "1163393",
         "100613",
         "Florstar Sales, Inc",
         "1",
         "1"
        ],
        [
         "27",
         "AMITA Health Holding",
         "1000-D",
         "1212472",
         "890",
         "All Surfaces",
         "1",
         "1"
        ],
        [
         "28",
         "AMITA Health Holding",
         "1000-D",
         "1261261",
         "100613",
         "Florstar Sales, Inc",
         "1",
         "1"
        ],
        [
         "29",
         "AMITA Health Holding",
         "1000-D",
         "1295670",
         "890",
         "All Surfaces",
         "1",
         "1"
        ],
        [
         "30",
         "AMITA Health Holding",
         "1000-D",
         "1642515",
         "890",
         "All Surfaces",
         "1",
         "1"
        ],
        [
         "31",
         "AMITA Health Holding",
         "1000-D",
         "1652148",
         "890",
         "All Surfaces",
         "1",
         "1"
        ],
        [
         "32",
         "AMITA Health Holding",
         "1000-D",
         "1655135",
         "108164",
         "Mannington Mills, Inc.",
         "1",
         "1"
        ],
        [
         "33",
         "AMITA Health Holding",
         "1000-D",
         "1659678",
         "100613",
         "Florstar Sales, Inc",
         "1",
         "1"
        ],
        [
         "34",
         "AMITA Health Holding",
         "1000-D",
         "1662762",
         "890",
         "All Surfaces",
         "1",
         "1"
        ],
        [
         "35",
         "AMITA Health Holding",
         "1000-D",
         "1663215",
         "122068",
         "EJ Welch Co, Inc",
         "1",
         "1"
        ],
        [
         "36",
         "AMITA Health Holding",
         "1000-D",
         "1669117",
         "102775",
         "Interface Americas, Inc.",
         "1",
         "1"
        ],
        [
         "37",
         "AMITA Health Holding",
         "1000-D",
         "1680245",
         "102775",
         "Interface Americas, Inc.",
         "1",
         "1"
        ],
        [
         "38",
         "AMITA Health Holding",
         "1000-D",
         "1686815",
         "122068",
         "EJ Welch Co, Inc",
         "1",
         "1"
        ],
        [
         "39",
         "AMITA Health Holding",
         "1000-D",
         "1704481",
         "108164",
         "Mannington Mills, Inc.",
         "1",
         "1"
        ],
        [
         "40",
         "AMITA Health Holding",
         "1000-D",
         "1706643",
         "890",
         "All Surfaces",
         "1",
         "1"
        ],
        [
         "41",
         "AMITA Health Holding",
         "1000-D",
         "1707710",
         "102967",
         "Color Rite Inc",
         "1",
         "1"
        ],
        [
         "42",
         "AMITA Health Holding",
         "1000-D",
         "1714031",
         "890",
         "All Surfaces",
         "1",
         "1"
        ],
        [
         "43",
         "Louisville Umbrella Labor",
         "1001",
         "1170637",
         "100721",
         "HELIX PROFESSIONAL TOOLS",
         "1",
         "1"
        ],
        [
         "44",
         "Abbvie/Abbott Holding",
         "1001-D",
         "445373",
         "100165",
         "Bentley Carpet Mills",
         "1",
         "1"
        ],
        [
         "45",
         "Abbvie/Abbott Holding",
         "1001-D",
         "451507",
         "108342",
         "L&P Financial Services Co.",
         "1",
         "1"
        ],
        [
         "46",
         "Abbvie/Abbott Holding",
         "1001-D",
         "451547",
         "108342",
         "L&P Financial Services Co.",
         "1",
         "1"
        ],
        [
         "47",
         "Abbvie/Abbott Holding",
         "1001-D",
         "468530",
         "101526",
         "Shaw Industries, Inc.",
         "1",
         "1"
        ],
        [
         "48",
         "Abbvie/Abbott Holding",
         "1001-D",
         "486760",
         "100519",
         "EJ Welch Co, Inc",
         "1",
         "0"
        ],
        [
         "49",
         "Abbvie/Abbott Holding",
         "1001-D",
         "490465",
         "890",
         "All Surfaces",
         "1",
         "1"
        ]
       ],
       "shape": {
        "columns": 7,
        "rows": 161195
       }
      },
      "text/html": [
       "<div>\n",
       "<style scoped>\n",
       "    .dataframe tbody tr th:only-of-type {\n",
       "        vertical-align: middle;\n",
       "    }\n",
       "\n",
       "    .dataframe tbody tr th {\n",
       "        vertical-align: top;\n",
       "    }\n",
       "\n",
       "    .dataframe thead th {\n",
       "        text-align: right;\n",
       "    }\n",
       "</style>\n",
       "<table border=\"1\" class=\"dataframe\">\n",
       "  <thead>\n",
       "    <tr style=\"text-align: right;\">\n",
       "      <th></th>\n",
       "      <th>PROJECT NAME</th>\n",
       "      <th>PROJECT ID</th>\n",
       "      <th>INVOICE ID</th>\n",
       "      <th>SUPPLIER NO</th>\n",
       "      <th>SUPPLIER NAME</th>\n",
       "      <th>INVOICE NO</th>\n",
       "      <th>PO NO</th>\n",
       "    </tr>\n",
       "  </thead>\n",
       "  <tbody>\n",
       "    <tr>\n",
       "      <th>0</th>\n",
       "      <td>AMITA Health Holding</td>\n",
       "      <td>1000-D</td>\n",
       "      <td>442358</td>\n",
       "      <td>108164</td>\n",
       "      <td>Mannington Mills, Inc.</td>\n",
       "      <td>1</td>\n",
       "      <td>1</td>\n",
       "    </tr>\n",
       "    <tr>\n",
       "      <th>1</th>\n",
       "      <td>AMITA Health Holding</td>\n",
       "      <td>1000-D</td>\n",
       "      <td>448262</td>\n",
       "      <td>125814</td>\n",
       "      <td>All Tile Holdings LLC</td>\n",
       "      <td>1</td>\n",
       "      <td>0</td>\n",
       "    </tr>\n",
       "    <tr>\n",
       "      <th>2</th>\n",
       "      <td>AMITA Health Holding</td>\n",
       "      <td>1000-D</td>\n",
       "      <td>448663</td>\n",
       "      <td>890</td>\n",
       "      <td>All Surfaces</td>\n",
       "      <td>1</td>\n",
       "      <td>1</td>\n",
       "    </tr>\n",
       "    <tr>\n",
       "      <th>3</th>\n",
       "      <td>AMITA Health Holding</td>\n",
       "      <td>1000-D</td>\n",
       "      <td>462578</td>\n",
       "      <td>100613</td>\n",
       "      <td>Florstar Sales, Inc</td>\n",
       "      <td>1</td>\n",
       "      <td>1</td>\n",
       "    </tr>\n",
       "    <tr>\n",
       "      <th>4</th>\n",
       "      <td>AMITA Health Holding</td>\n",
       "      <td>1000-D</td>\n",
       "      <td>489433</td>\n",
       "      <td>100613</td>\n",
       "      <td>Florstar Sales, Inc</td>\n",
       "      <td>1</td>\n",
       "      <td>1</td>\n",
       "    </tr>\n",
       "    <tr>\n",
       "      <th>...</th>\n",
       "      <td>...</td>\n",
       "      <td>...</td>\n",
       "      <td>...</td>\n",
       "      <td>...</td>\n",
       "      <td>...</td>\n",
       "      <td>...</td>\n",
       "      <td>...</td>\n",
       "    </tr>\n",
       "    <tr>\n",
       "      <th>161190</th>\n",
       "      <td>Longvine</td>\n",
       "      <td>SPWV33527</td>\n",
       "      <td>472107</td>\n",
       "      <td>123788</td>\n",
       "      <td>Castle Rock Interior Solutions LLC</td>\n",
       "      <td>1</td>\n",
       "      <td>1</td>\n",
       "    </tr>\n",
       "    <tr>\n",
       "      <th>161191</th>\n",
       "      <td>Longvine</td>\n",
       "      <td>SPWV33527</td>\n",
       "      <td>481195</td>\n",
       "      <td>103121</td>\n",
       "      <td>Professional Flooring Supply Co</td>\n",
       "      <td>1</td>\n",
       "      <td>1</td>\n",
       "    </tr>\n",
       "    <tr>\n",
       "      <th>161192</th>\n",
       "      <td>Longvine</td>\n",
       "      <td>SPWV33527</td>\n",
       "      <td>491662</td>\n",
       "      <td>124876</td>\n",
       "      <td>J &amp; M Installers LLC</td>\n",
       "      <td>1</td>\n",
       "      <td>1</td>\n",
       "    </tr>\n",
       "    <tr>\n",
       "      <th>161193</th>\n",
       "      <td>Longvine</td>\n",
       "      <td>SPWV33527</td>\n",
       "      <td>503059</td>\n",
       "      <td>121591</td>\n",
       "      <td>Custom Floors</td>\n",
       "      <td>1</td>\n",
       "      <td>1</td>\n",
       "    </tr>\n",
       "    <tr>\n",
       "      <th>161194</th>\n",
       "      <td>Amphibious Zoo</td>\n",
       "      <td>SPWV33529</td>\n",
       "      <td>441907</td>\n",
       "      <td>128903</td>\n",
       "      <td>Bering LLC</td>\n",
       "      <td>1</td>\n",
       "      <td>1</td>\n",
       "    </tr>\n",
       "  </tbody>\n",
       "</table>\n",
       "<p>161195 rows × 7 columns</p>\n",
       "</div>"
      ],
      "text/plain": [
       "                PROJECT NAME PROJECT ID  INVOICE ID SUPPLIER NO  \\\n",
       "0       AMITA Health Holding     1000-D      442358      108164   \n",
       "1       AMITA Health Holding     1000-D      448262      125814   \n",
       "2       AMITA Health Holding     1000-D      448663         890   \n",
       "3       AMITA Health Holding     1000-D      462578      100613   \n",
       "4       AMITA Health Holding     1000-D      489433      100613   \n",
       "...                      ...        ...         ...         ...   \n",
       "161190              Longvine  SPWV33527      472107      123788   \n",
       "161191              Longvine  SPWV33527      481195      103121   \n",
       "161192              Longvine  SPWV33527      491662      124876   \n",
       "161193              Longvine  SPWV33527      503059      121591   \n",
       "161194        Amphibious Zoo  SPWV33529      441907      128903   \n",
       "\n",
       "                             SUPPLIER NAME  INVOICE NO  PO NO  \n",
       "0                   Mannington Mills, Inc.           1      1  \n",
       "1                    All Tile Holdings LLC           1      0  \n",
       "2                             All Surfaces           1      1  \n",
       "3                      Florstar Sales, Inc           1      1  \n",
       "4                      Florstar Sales, Inc           1      1  \n",
       "...                                    ...         ...    ...  \n",
       "161190  Castle Rock Interior Solutions LLC           1      1  \n",
       "161191     Professional Flooring Supply Co           1      1  \n",
       "161192                J & M Installers LLC           1      1  \n",
       "161193                       Custom Floors           1      1  \n",
       "161194                          Bering LLC           1      1  \n",
       "\n",
       "[161195 rows x 7 columns]"
      ]
     },
     "execution_count": 16,
     "metadata": {},
     "output_type": "execute_result"
    }
   ],
   "source": [
    "pivot_table = df.pivot_table(\n",
    "    index=['PROJECT NAME','PROJECT ID', 'INVOICE ID','SUPPLIER NO', 'SUPPLIER NAME'],\n",
    "    values=['PO NO', 'INVOICE NO'],\n",
    "    aggfunc=pd.Series.nunique\n",
    ").sort_values(by=['PROJECT ID', 'INVOICE ID']).reset_index()\n",
    "\n",
    "pivot_table"
   ]
  },
  {
   "cell_type": "code",
   "execution_count": 17,
   "id": "fef6e2db",
   "metadata": {},
   "outputs": [
    {
     "name": "stderr",
     "output_type": "stream",
     "text": [
      "C:\\Users\\nzhuw\\AppData\\Local\\Temp/ipykernel_10892/3089804530.py:5: SettingWithCopyWarning: \n",
      "A value is trying to be set on a copy of a slice from a DataFrame.\n",
      "Try using .loc[row_indexer,col_indexer] = value instead\n",
      "\n",
      "See the caveats in the documentation: https://pandas.pydata.org/pandas-docs/stable/user_guide/indexing.html#returning-a-view-versus-a-copy\n",
      "  df_filtered['Exists in Pivot Table'] = df_filtered['INVOICE ID'].isin(pivot_table['INVOICE ID'])\n"
     ]
    },
    {
     "data": {
      "application/vnd.microsoft.datawrangler.viewer.v0+json": {
       "columns": [
        {
         "name": "index",
         "rawType": "int64",
         "type": "integer"
        },
        {
         "name": "INVOICE ID",
         "rawType": "int64",
         "type": "integer"
        },
        {
         "name": "Exists in Pivot Table",
         "rawType": "bool",
         "type": "boolean"
        }
       ],
       "conversionMethod": "pd.DataFrame",
       "ref": "e7f7835d-924a-4aee-bdb2-1186f4bc7bde",
       "rows": [
        [
         "3",
         "433340",
         "True"
        ],
        [
         "33",
         "443411",
         "True"
        ],
        [
         "44",
         "444070",
         "True"
        ],
        [
         "50",
         "449689",
         "True"
        ],
        [
         "53",
         "459819",
         "True"
        ],
        [
         "57",
         "460675",
         "True"
        ],
        [
         "58",
         "465318",
         "True"
        ],
        [
         "72",
         "467251",
         "True"
        ],
        [
         "73",
         "467307",
         "True"
        ],
        [
         "88",
         "476643",
         "True"
        ],
        [
         "92",
         "476606",
         "True"
        ],
        [
         "94",
         "476631",
         "True"
        ],
        [
         "101",
         "485853",
         "True"
        ],
        [
         "110",
         "487169",
         "True"
        ],
        [
         "113",
         "490031",
         "True"
        ],
        [
         "117",
         "490032",
         "True"
        ],
        [
         "122",
         "492240",
         "True"
        ],
        [
         "130",
         "492193",
         "True"
        ],
        [
         "133",
         "492219",
         "True"
        ],
        [
         "140",
         "492197",
         "True"
        ],
        [
         "149",
         "492190",
         "True"
        ],
        [
         "154",
         "498465",
         "True"
        ],
        [
         "155",
         "498462",
         "True"
        ],
        [
         "173",
         "498562",
         "True"
        ],
        [
         "174",
         "498569",
         "True"
        ],
        [
         "177",
         "498570",
         "True"
        ],
        [
         "180",
         "498571",
         "True"
        ],
        [
         "183",
         "498628",
         "True"
        ],
        [
         "185",
         "498648",
         "True"
        ],
        [
         "190",
         "498666",
         "True"
        ],
        [
         "192",
         "498674",
         "True"
        ],
        [
         "193",
         "498687",
         "True"
        ],
        [
         "196",
         "498724",
         "True"
        ],
        [
         "197",
         "498751",
         "True"
        ],
        [
         "202",
         "498765",
         "True"
        ],
        [
         "205",
         "498776",
         "True"
        ],
        [
         "212",
         "501609",
         "True"
        ],
        [
         "217",
         "504469",
         "True"
        ],
        [
         "221",
         "504486",
         "True"
        ],
        [
         "224",
         "510090",
         "True"
        ],
        [
         "233",
         "510701",
         "True"
        ],
        [
         "234",
         "510735",
         "True"
        ],
        [
         "235",
         "510772",
         "True"
        ],
        [
         "238",
         "510257",
         "True"
        ],
        [
         "240",
         "510987",
         "True"
        ],
        [
         "243",
         "510456",
         "True"
        ],
        [
         "248",
         "510361",
         "True"
        ],
        [
         "252",
         "510328",
         "True"
        ],
        [
         "257",
         "510286",
         "True"
        ],
        [
         "266",
         "510267",
         "True"
        ]
       ],
       "shape": {
        "columns": 2,
        "rows": 56145
       }
      },
      "text/html": [
       "<div>\n",
       "<style scoped>\n",
       "    .dataframe tbody tr th:only-of-type {\n",
       "        vertical-align: middle;\n",
       "    }\n",
       "\n",
       "    .dataframe tbody tr th {\n",
       "        vertical-align: top;\n",
       "    }\n",
       "\n",
       "    .dataframe thead th {\n",
       "        text-align: right;\n",
       "    }\n",
       "</style>\n",
       "<table border=\"1\" class=\"dataframe\">\n",
       "  <thead>\n",
       "    <tr style=\"text-align: right;\">\n",
       "      <th></th>\n",
       "      <th>INVOICE ID</th>\n",
       "      <th>Exists in Pivot Table</th>\n",
       "    </tr>\n",
       "  </thead>\n",
       "  <tbody>\n",
       "    <tr>\n",
       "      <th>3</th>\n",
       "      <td>433340</td>\n",
       "      <td>True</td>\n",
       "    </tr>\n",
       "    <tr>\n",
       "      <th>33</th>\n",
       "      <td>443411</td>\n",
       "      <td>True</td>\n",
       "    </tr>\n",
       "    <tr>\n",
       "      <th>44</th>\n",
       "      <td>444070</td>\n",
       "      <td>True</td>\n",
       "    </tr>\n",
       "    <tr>\n",
       "      <th>50</th>\n",
       "      <td>449689</td>\n",
       "      <td>True</td>\n",
       "    </tr>\n",
       "    <tr>\n",
       "      <th>53</th>\n",
       "      <td>459819</td>\n",
       "      <td>True</td>\n",
       "    </tr>\n",
       "    <tr>\n",
       "      <th>...</th>\n",
       "      <td>...</td>\n",
       "      <td>...</td>\n",
       "    </tr>\n",
       "    <tr>\n",
       "      <th>441584</th>\n",
       "      <td>1750408</td>\n",
       "      <td>True</td>\n",
       "    </tr>\n",
       "    <tr>\n",
       "      <th>441585</th>\n",
       "      <td>1750407</td>\n",
       "      <td>True</td>\n",
       "    </tr>\n",
       "    <tr>\n",
       "      <th>441587</th>\n",
       "      <td>1751591</td>\n",
       "      <td>True</td>\n",
       "    </tr>\n",
       "    <tr>\n",
       "      <th>441591</th>\n",
       "      <td>1750575</td>\n",
       "      <td>True</td>\n",
       "    </tr>\n",
       "    <tr>\n",
       "      <th>441595</th>\n",
       "      <td>1749432</td>\n",
       "      <td>True</td>\n",
       "    </tr>\n",
       "  </tbody>\n",
       "</table>\n",
       "<p>56145 rows × 2 columns</p>\n",
       "</div>"
      ],
      "text/plain": [
       "        INVOICE ID  Exists in Pivot Table\n",
       "3           433340                   True\n",
       "33          443411                   True\n",
       "44          444070                   True\n",
       "50          449689                   True\n",
       "53          459819                   True\n",
       "...            ...                    ...\n",
       "441584     1750408                   True\n",
       "441585     1750407                   True\n",
       "441587     1751591                   True\n",
       "441591     1750575                   True\n",
       "441595     1749432                   True\n",
       "\n",
       "[56145 rows x 2 columns]"
      ]
     },
     "execution_count": 17,
     "metadata": {},
     "output_type": "execute_result"
    }
   ],
   "source": [
    "# Filter df for rows with ACCOUNT 5504\n",
    "df_filtered = df[df['ACCOUNT'] == 5504]\n",
    "\n",
    "# Check if the INVOICE ID exists in pivot_table\n",
    "df_filtered['Exists in Pivot Table'] = df_filtered['INVOICE ID'].isin(pivot_table['INVOICE ID'])\n",
    "\n",
    "# Display the result\n",
    "df_filtered[['INVOICE ID', 'Exists in Pivot Table']]"
   ]
  },
  {
   "cell_type": "code",
   "execution_count": null,
   "id": "d470af07",
   "metadata": {},
   "outputs": [],
   "source": []
  },
  {
   "cell_type": "code",
   "execution_count": null,
   "id": "9da83b85",
   "metadata": {},
   "outputs": [],
   "source": []
  }
 ],
 "metadata": {
  "kernelspec": {
   "display_name": "base",
   "language": "python",
   "name": "python3"
  },
  "language_info": {
   "codemirror_mode": {
    "name": "ipython",
    "version": 3
   },
   "file_extension": ".py",
   "mimetype": "text/x-python",
   "name": "python",
   "nbconvert_exporter": "python",
   "pygments_lexer": "ipython3",
   "version": "3.9.7"
  }
 },
 "nbformat": 4,
 "nbformat_minor": 5
}
