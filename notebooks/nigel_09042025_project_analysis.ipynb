{
 "cells": [
  {
   "cell_type": "code",
   "execution_count": 6,
   "id": "1f20d5d3",
   "metadata": {},
   "outputs": [
    {
     "data": {
      "application/vnd.microsoft.datawrangler.viewer.v0+json": {
       "columns": [
        {
         "name": "index",
         "rawType": "int64",
         "type": "integer"
        },
        {
         "name": "SITE",
         "rawType": "object",
         "type": "string"
        },
        {
         "name": "SITE DESCRIPTION",
         "rawType": "object",
         "type": "string"
        },
        {
         "name": "SUPPLIER NO",
         "rawType": "object",
         "type": "string"
        },
        {
         "name": "SUPPLIER NAME",
         "rawType": "object",
         "type": "string"
        },
        {
         "name": "INVOICE ID",
         "rawType": "int64",
         "type": "integer"
        },
        {
         "name": "INVOICE NO",
         "rawType": "object",
         "type": "string"
        },
        {
         "name": "DATE POSTED",
         "rawType": "object",
         "type": "string"
        },
        {
         "name": "PROJECT ID",
         "rawType": "object",
         "type": "string"
        },
        {
         "name": "PROJECT NAME",
         "rawType": "object",
         "type": "string"
        },
        {
         "name": "ACCOUNT",
         "rawType": "int64",
         "type": "integer"
        },
        {
         "name": "ACCOUNT DESCRIPTION",
         "rawType": "object",
         "type": "string"
        },
        {
         "name": "PLANNED DELIVERY DATE",
         "rawType": "object",
         "type": "string"
        },
        {
         "name": "SHIP TO ZIP",
         "rawType": "object",
         "type": "string"
        },
        {
         "name": "PO NO",
         "rawType": "object",
         "type": "string"
        },
        {
         "name": "PO LINE NO",
         "rawType": "object",
         "type": "string"
        },
        {
         "name": "PO REL NO",
         "rawType": "object",
         "type": "string"
        },
        {
         "name": "RECEIPT NO",
         "rawType": "float64",
         "type": "float"
        },
        {
         "name": "PART NO",
         "rawType": "object",
         "type": "string"
        },
        {
         "name": "PART DESCRIPTION",
         "rawType": "object",
         "type": "string"
        },
        {
         "name": "COMM 1",
         "rawType": "object",
         "type": "string"
        },
        {
         "name": "COMM 2",
         "rawType": "object",
         "type": "string"
        },
        {
         "name": "PO PURCH QTY",
         "rawType": "float64",
         "type": "float"
        },
        {
         "name": "PURCH UOM",
         "rawType": "object",
         "type": "string"
        },
        {
         "name": "PO INV QTY",
         "rawType": "float64",
         "type": "float"
        },
        {
         "name": "INV UOM",
         "rawType": "object",
         "type": "string"
        },
        {
         "name": "INVOICED LINE QTY",
         "rawType": "float64",
         "type": "float"
        },
        {
         "name": "INVOICE LINE TOTAL",
         "rawType": "float64",
         "type": "float"
        },
        {
         "name": "PO PRICE",
         "rawType": "float64",
         "type": "float"
        }
       ],
       "conversionMethod": "pd.DataFrame",
       "ref": "43d7b7cc-be10-4dd0-a7ee-e76e8dab0d8c",
       "rows": [
        [
         "0",
         "BNB",
         "Beckers New Brighton",
         "102548",
         "Lonseal Flooring",
         "433731",
         "0007795-CM",
         "3-Jan-24",
         "2311121922",
         "REGIONS HOSPITAL 4TH MRI",
         "5400",
         "PROJECT Sub-Contract Labor",
         null,
         null,
         null,
         null,
         null,
         null,
         null,
         null,
         null,
         null,
         null,
         null,
         null,
         null,
         null,
         "-600.0",
         null
        ],
        [
         "1",
         "BNB",
         "Beckers New Brighton",
         "104716",
         "Hank's Specialties",
         "433340",
         "173373",
         "3-Jan-24",
         "2312127706",
         "UOFM MOLECULAR & CELLULAR BIOLOGY P",
         "2008",
         "Received Not Yet Invoiced",
         "2-Jan-24",
         "55430",
         "48180",
         "9",
         "1",
         "1.0",
         "1000007968",
         "PROTECT ALL PRE-NOTCHED Z-BAR INSIDE CORNER ALUMINUM (864056A) 12\"X12\" ALUMINUM",
         "1ACC",
         "1ACC",
         "4.0",
         "EA",
         "4.0",
         "EA",
         "4.0",
         "18.4",
         "18.4"
        ],
        [
         "2",
         "BNB",
         "Beckers New Brighton",
         "104716",
         "Hank's Specialties",
         "433340",
         "173373",
         "3-Jan-24",
         "2312127706",
         "UOFM MOLECULAR & CELLULAR BIOLOGY P",
         "2008",
         "Received Not Yet Invoiced",
         "2-Jan-24",
         "55430",
         "48180",
         "1",
         "1",
         "1.0",
         "1000008162",
         "PROTECT ALL Z BAR DARK GRAY VINYL COVE CAP 8' (864052) 8' DARK GRAY",
         "1TRAN",
         "2ALL",
         "7.0",
         "EA",
         "7.0",
         "EA",
         "7.0",
         "45.36",
         "45.36"
        ],
        [
         "3",
         "BNB",
         "Beckers New Brighton",
         "104716",
         "Hank's Specialties",
         "433340",
         "173373",
         "3-Jan-24",
         "2312127706",
         "UOFM MOLECULAR & CELLULAR BIOLOGY P",
         "5504",
         "PROJECT Freight",
         null,
         null,
         "48180",
         null,
         null,
         null,
         null,
         null,
         null,
         null,
         null,
         null,
         null,
         null,
         null,
         "50.0",
         null
        ],
        [
         "4",
         "BNB",
         "Beckers New Brighton",
         "104716",
         "Hank's Specialties",
         "433340",
         "173373",
         "3-Jan-24",
         "2312127706",
         "UOFM MOLECULAR & CELLULAR BIOLOGY P",
         "2015",
         "Sales Tax Payable",
         null,
         null,
         "48180",
         null,
         null,
         null,
         null,
         null,
         null,
         null,
         null,
         null,
         null,
         null,
         null,
         "151.42",
         null
        ]
       ],
       "shape": {
        "columns": 28,
        "rows": 5
       }
      },
      "text/html": [
       "<div>\n",
       "<style scoped>\n",
       "    .dataframe tbody tr th:only-of-type {\n",
       "        vertical-align: middle;\n",
       "    }\n",
       "\n",
       "    .dataframe tbody tr th {\n",
       "        vertical-align: top;\n",
       "    }\n",
       "\n",
       "    .dataframe thead th {\n",
       "        text-align: right;\n",
       "    }\n",
       "</style>\n",
       "<table border=\"1\" class=\"dataframe\">\n",
       "  <thead>\n",
       "    <tr style=\"text-align: right;\">\n",
       "      <th></th>\n",
       "      <th>SITE</th>\n",
       "      <th>SITE DESCRIPTION</th>\n",
       "      <th>SUPPLIER NO</th>\n",
       "      <th>SUPPLIER NAME</th>\n",
       "      <th>INVOICE ID</th>\n",
       "      <th>INVOICE NO</th>\n",
       "      <th>DATE POSTED</th>\n",
       "      <th>PROJECT ID</th>\n",
       "      <th>PROJECT NAME</th>\n",
       "      <th>ACCOUNT</th>\n",
       "      <th>...</th>\n",
       "      <th>PART DESCRIPTION</th>\n",
       "      <th>COMM 1</th>\n",
       "      <th>COMM 2</th>\n",
       "      <th>PO PURCH QTY</th>\n",
       "      <th>PURCH UOM</th>\n",
       "      <th>PO INV QTY</th>\n",
       "      <th>INV UOM</th>\n",
       "      <th>INVOICED LINE QTY</th>\n",
       "      <th>INVOICE LINE TOTAL</th>\n",
       "      <th>PO PRICE</th>\n",
       "    </tr>\n",
       "  </thead>\n",
       "  <tbody>\n",
       "    <tr>\n",
       "      <th>0</th>\n",
       "      <td>BNB</td>\n",
       "      <td>Beckers New Brighton</td>\n",
       "      <td>102548</td>\n",
       "      <td>Lonseal Flooring</td>\n",
       "      <td>433731</td>\n",
       "      <td>0007795-CM</td>\n",
       "      <td>3-Jan-24</td>\n",
       "      <td>2311121922</td>\n",
       "      <td>REGIONS HOSPITAL 4TH MRI</td>\n",
       "      <td>5400</td>\n",
       "      <td>...</td>\n",
       "      <td>NaN</td>\n",
       "      <td>NaN</td>\n",
       "      <td>NaN</td>\n",
       "      <td>NaN</td>\n",
       "      <td>NaN</td>\n",
       "      <td>NaN</td>\n",
       "      <td>NaN</td>\n",
       "      <td>NaN</td>\n",
       "      <td>-600.00</td>\n",
       "      <td>NaN</td>\n",
       "    </tr>\n",
       "    <tr>\n",
       "      <th>1</th>\n",
       "      <td>BNB</td>\n",
       "      <td>Beckers New Brighton</td>\n",
       "      <td>104716</td>\n",
       "      <td>Hank's Specialties</td>\n",
       "      <td>433340</td>\n",
       "      <td>173373</td>\n",
       "      <td>3-Jan-24</td>\n",
       "      <td>2312127706</td>\n",
       "      <td>UOFM MOLECULAR &amp; CELLULAR BIOLOGY P</td>\n",
       "      <td>2008</td>\n",
       "      <td>...</td>\n",
       "      <td>PROTECT ALL PRE-NOTCHED Z-BAR INSIDE CORNER AL...</td>\n",
       "      <td>1ACC</td>\n",
       "      <td>1ACC</td>\n",
       "      <td>4.0</td>\n",
       "      <td>EA</td>\n",
       "      <td>4.0</td>\n",
       "      <td>EA</td>\n",
       "      <td>4.0</td>\n",
       "      <td>18.40</td>\n",
       "      <td>18.40</td>\n",
       "    </tr>\n",
       "    <tr>\n",
       "      <th>2</th>\n",
       "      <td>BNB</td>\n",
       "      <td>Beckers New Brighton</td>\n",
       "      <td>104716</td>\n",
       "      <td>Hank's Specialties</td>\n",
       "      <td>433340</td>\n",
       "      <td>173373</td>\n",
       "      <td>3-Jan-24</td>\n",
       "      <td>2312127706</td>\n",
       "      <td>UOFM MOLECULAR &amp; CELLULAR BIOLOGY P</td>\n",
       "      <td>2008</td>\n",
       "      <td>...</td>\n",
       "      <td>PROTECT ALL Z BAR DARK GRAY VINYL COVE CAP 8' ...</td>\n",
       "      <td>1TRAN</td>\n",
       "      <td>2ALL</td>\n",
       "      <td>7.0</td>\n",
       "      <td>EA</td>\n",
       "      <td>7.0</td>\n",
       "      <td>EA</td>\n",
       "      <td>7.0</td>\n",
       "      <td>45.36</td>\n",
       "      <td>45.36</td>\n",
       "    </tr>\n",
       "    <tr>\n",
       "      <th>3</th>\n",
       "      <td>BNB</td>\n",
       "      <td>Beckers New Brighton</td>\n",
       "      <td>104716</td>\n",
       "      <td>Hank's Specialties</td>\n",
       "      <td>433340</td>\n",
       "      <td>173373</td>\n",
       "      <td>3-Jan-24</td>\n",
       "      <td>2312127706</td>\n",
       "      <td>UOFM MOLECULAR &amp; CELLULAR BIOLOGY P</td>\n",
       "      <td>5504</td>\n",
       "      <td>...</td>\n",
       "      <td>NaN</td>\n",
       "      <td>NaN</td>\n",
       "      <td>NaN</td>\n",
       "      <td>NaN</td>\n",
       "      <td>NaN</td>\n",
       "      <td>NaN</td>\n",
       "      <td>NaN</td>\n",
       "      <td>NaN</td>\n",
       "      <td>50.00</td>\n",
       "      <td>NaN</td>\n",
       "    </tr>\n",
       "    <tr>\n",
       "      <th>4</th>\n",
       "      <td>BNB</td>\n",
       "      <td>Beckers New Brighton</td>\n",
       "      <td>104716</td>\n",
       "      <td>Hank's Specialties</td>\n",
       "      <td>433340</td>\n",
       "      <td>173373</td>\n",
       "      <td>3-Jan-24</td>\n",
       "      <td>2312127706</td>\n",
       "      <td>UOFM MOLECULAR &amp; CELLULAR BIOLOGY P</td>\n",
       "      <td>2015</td>\n",
       "      <td>...</td>\n",
       "      <td>NaN</td>\n",
       "      <td>NaN</td>\n",
       "      <td>NaN</td>\n",
       "      <td>NaN</td>\n",
       "      <td>NaN</td>\n",
       "      <td>NaN</td>\n",
       "      <td>NaN</td>\n",
       "      <td>NaN</td>\n",
       "      <td>151.42</td>\n",
       "      <td>NaN</td>\n",
       "    </tr>\n",
       "  </tbody>\n",
       "</table>\n",
       "<p>5 rows × 28 columns</p>\n",
       "</div>"
      ],
      "text/plain": [
       "  SITE      SITE DESCRIPTION SUPPLIER NO       SUPPLIER NAME  INVOICE ID  \\\n",
       "0  BNB  Beckers New Brighton      102548    Lonseal Flooring      433731   \n",
       "1  BNB  Beckers New Brighton      104716  Hank's Specialties      433340   \n",
       "2  BNB  Beckers New Brighton      104716  Hank's Specialties      433340   \n",
       "3  BNB  Beckers New Brighton      104716  Hank's Specialties      433340   \n",
       "4  BNB  Beckers New Brighton      104716  Hank's Specialties      433340   \n",
       "\n",
       "   INVOICE NO DATE POSTED  PROJECT ID                         PROJECT NAME  \\\n",
       "0  0007795-CM    3-Jan-24  2311121922             REGIONS HOSPITAL 4TH MRI   \n",
       "1      173373    3-Jan-24  2312127706  UOFM MOLECULAR & CELLULAR BIOLOGY P   \n",
       "2      173373    3-Jan-24  2312127706  UOFM MOLECULAR & CELLULAR BIOLOGY P   \n",
       "3      173373    3-Jan-24  2312127706  UOFM MOLECULAR & CELLULAR BIOLOGY P   \n",
       "4      173373    3-Jan-24  2312127706  UOFM MOLECULAR & CELLULAR BIOLOGY P   \n",
       "\n",
       "   ACCOUNT  ...                                   PART DESCRIPTION COMM 1  \\\n",
       "0     5400  ...                                                NaN    NaN   \n",
       "1     2008  ...  PROTECT ALL PRE-NOTCHED Z-BAR INSIDE CORNER AL...   1ACC   \n",
       "2     2008  ...  PROTECT ALL Z BAR DARK GRAY VINYL COVE CAP 8' ...  1TRAN   \n",
       "3     5504  ...                                                NaN    NaN   \n",
       "4     2015  ...                                                NaN    NaN   \n",
       "\n",
       "  COMM 2 PO PURCH QTY PURCH UOM PO INV QTY  INV UOM INVOICED LINE QTY  \\\n",
       "0    NaN          NaN       NaN        NaN      NaN               NaN   \n",
       "1   1ACC          4.0        EA        4.0       EA               4.0   \n",
       "2   2ALL          7.0        EA        7.0       EA               7.0   \n",
       "3    NaN          NaN       NaN        NaN      NaN               NaN   \n",
       "4    NaN          NaN       NaN        NaN      NaN               NaN   \n",
       "\n",
       "  INVOICE LINE TOTAL PO PRICE  \n",
       "0            -600.00      NaN  \n",
       "1              18.40    18.40  \n",
       "2              45.36    45.36  \n",
       "3              50.00      NaN  \n",
       "4             151.42      NaN  \n",
       "\n",
       "[5 rows x 28 columns]"
      ]
     },
     "execution_count": 6,
     "metadata": {},
     "output_type": "execute_result"
    }
   ],
   "source": [
    "import pandas as pd\n",
    "import matplotlib.pyplot as plt\n",
    "\n",
    "# Load your dataset\n",
    "file_path = \"../data/input/Freight_Cost_Analysis_CY2024-03.25.csv\"\n",
    "df = pd.read_csv(file_path, encoding=\"latin1\", low_memory=False)\n",
    "df.head()"
   ]
  },
  {
   "cell_type": "code",
   "execution_count": 7,
   "id": "543a7a61",
   "metadata": {},
   "outputs": [
    {
     "data": {
      "text/plain": [
       "Index(['SITE', 'SITE DESCRIPTION', 'SUPPLIER NO', 'SUPPLIER NAME',\n",
       "       'INVOICE ID', 'INVOICE NO', 'DATE POSTED', 'PROJECT ID', 'PROJECT NAME',\n",
       "       'ACCOUNT', 'ACCOUNT DESCRIPTION', 'PLANNED DELIVERY DATE',\n",
       "       'SHIP TO ZIP', 'PO NO', 'PO LINE NO', 'PO REL NO', 'RECEIPT NO',\n",
       "       'PART NO', 'PART DESCRIPTION', 'COMM 1', 'COMM 2', 'PO PURCH QTY',\n",
       "       'PURCH UOM', 'PO INV QTY', 'INV UOM', 'INVOICED LINE QTY',\n",
       "       'INVOICE LINE TOTAL', 'PO PRICE'],\n",
       "      dtype='object')"
      ]
     },
     "execution_count": 7,
     "metadata": {},
     "output_type": "execute_result"
    }
   ],
   "source": [
    "df.columns"
   ]
  },
  {
   "cell_type": "code",
   "execution_count": null,
   "id": "8d861e42",
   "metadata": {},
   "outputs": [
    {
     "data": {
      "application/vnd.microsoft.datawrangler.viewer.v0+json": {
       "columns": [
        {
         "name": "index",
         "rawType": "int64",
         "type": "integer"
        },
        {
         "name": "PROJECT ID",
         "rawType": "object",
         "type": "string"
        },
        {
         "name": "INVOICE ID",
         "rawType": "int64",
         "type": "integer"
        },
        {
         "name": "INVOICE NO",
         "rawType": "int64",
         "type": "integer"
        },
        {
         "name": "PO NO",
         "rawType": "int64",
         "type": "integer"
        }
       ],
       "conversionMethod": "pd.DataFrame",
       "ref": "4384305f-1a9b-4874-acbe-a14e6ac6ec93",
       "rows": [
        [
         "0",
         "2408174237",
         "426",
         "426",
         "319"
        ],
        [
         "1",
         "2311122413",
         "427",
         "426",
         "309"
        ],
        [
         "2",
         "SPW108421",
         "470",
         "469",
         "303"
        ],
        [
         "3",
         "SPT92086",
         "357",
         "357",
         "242"
        ],
        [
         "4",
         "SPTM52378",
         "223",
         "223",
         "185"
        ],
        [
         "5",
         "2402138483",
         "198",
         "198",
         "182"
        ],
        [
         "6",
         "SPSA86757",
         "207",
         "207",
         "175"
        ],
        [
         "7",
         "SPN194975",
         "224",
         "224",
         "175"
        ],
        [
         "8",
         "SPTM54371",
         "219",
         "219",
         "172"
        ],
        [
         "9",
         "2402138480",
         "192",
         "191",
         "168"
        ],
        [
         "10",
         "SPD63010",
         "236",
         "236",
         "156"
        ],
        [
         "11",
         "SPSA83721",
         "188",
         "188",
         "155"
        ],
        [
         "12",
         "2309111711",
         "187",
         "187",
         "146"
        ],
        [
         "13",
         "2402139711",
         "151",
         "151",
         "139"
        ],
        [
         "14",
         "SPP200265",
         "196",
         "196",
         "137"
        ],
        [
         "15",
         "2401134034",
         "179",
         "179",
         "136"
        ],
        [
         "16",
         "230485354",
         "169",
         "169",
         "136"
        ],
        [
         "17",
         "2405159055",
         "232",
         "232",
         "134"
        ],
        [
         "18",
         "SPLV40902",
         "178",
         "178",
         "134"
        ],
        [
         "19",
         "2408174335",
         "171",
         "171",
         "128"
        ],
        [
         "20",
         "2407164857",
         "166",
         "166",
         "126"
        ],
        [
         "21",
         "2403141667",
         "164",
         "164",
         "126"
        ],
        [
         "22",
         "2407165520",
         "161",
         "161",
         "110"
        ],
        [
         "23",
         "2402138198",
         "130",
         "130",
         "109"
        ],
        [
         "24",
         "SPN190069",
         "130",
         "130",
         "108"
        ],
        [
         "25",
         "230898275",
         "116",
         "115",
         "106"
        ],
        [
         "26",
         "2402138913",
         "115",
         "115",
         "106"
        ],
        [
         "27",
         "SPW105378",
         "131",
         "131",
         "104"
        ],
        [
         "28",
         "SPN194173",
         "108",
         "108",
         "104"
        ],
        [
         "29",
         "2401132488",
         "117",
         "117",
         "103"
        ],
        [
         "30",
         "2311121852",
         "109",
         "109",
         "103"
        ],
        [
         "31",
         "SPN186395",
         "135",
         "124",
         "102"
        ],
        [
         "32",
         "2407165607",
         "106",
         "106",
         "102"
        ],
        [
         "33",
         "SPCP108558",
         "123",
         "123",
         "102"
        ],
        [
         "34",
         "SPP192964",
         "132",
         "126",
         "101"
        ],
        [
         "35",
         "2309112924",
         "124",
         "124",
         "97"
        ],
        [
         "36",
         "SPN201475",
         "125",
         "125",
         "96"
        ],
        [
         "37",
         "SPJ105712",
         "140",
         "140",
         "94"
        ],
        [
         "38",
         "SPT90325",
         "118",
         "117",
         "94"
        ],
        [
         "39",
         "SPC38353",
         "115",
         "115",
         "94"
        ],
        [
         "40",
         "SPW102032",
         "115",
         "115",
         "93"
        ],
        [
         "41",
         "SPT90490",
         "103",
         "103",
         "93"
        ],
        [
         "42",
         "SPN187825",
         "118",
         "118",
         "93"
        ],
        [
         "43",
         "2402139115",
         "96",
         "95",
         "93"
        ],
        [
         "44",
         "SPCP108553",
         "103",
         "103",
         "91"
        ],
        [
         "45",
         "230484445",
         "96",
         "96",
         "90"
        ],
        [
         "46",
         "SPB33672",
         "98",
         "98",
         "89"
        ],
        [
         "47",
         "SPLV40898",
         "99",
         "98",
         "88"
        ],
        [
         "48",
         "SPN196131",
         "117",
         "117",
         "88"
        ],
        [
         "49",
         "220568083",
         "98",
         "97",
         "88"
        ]
       ],
       "shape": {
        "columns": 4,
        "rows": 27124
       }
      },
      "text/html": [
       "<div>\n",
       "<style scoped>\n",
       "    .dataframe tbody tr th:only-of-type {\n",
       "        vertical-align: middle;\n",
       "    }\n",
       "\n",
       "    .dataframe tbody tr th {\n",
       "        vertical-align: top;\n",
       "    }\n",
       "\n",
       "    .dataframe thead th {\n",
       "        text-align: right;\n",
       "    }\n",
       "</style>\n",
       "<table border=\"1\" class=\"dataframe\">\n",
       "  <thead>\n",
       "    <tr style=\"text-align: right;\">\n",
       "      <th></th>\n",
       "      <th>PROJECT ID</th>\n",
       "      <th>INVOICE ID</th>\n",
       "      <th>INVOICE NO</th>\n",
       "      <th>PO NO</th>\n",
       "    </tr>\n",
       "  </thead>\n",
       "  <tbody>\n",
       "    <tr>\n",
       "      <th>0</th>\n",
       "      <td>2408174237</td>\n",
       "      <td>426</td>\n",
       "      <td>426</td>\n",
       "      <td>319</td>\n",
       "    </tr>\n",
       "    <tr>\n",
       "      <th>1</th>\n",
       "      <td>2311122413</td>\n",
       "      <td>427</td>\n",
       "      <td>426</td>\n",
       "      <td>309</td>\n",
       "    </tr>\n",
       "    <tr>\n",
       "      <th>2</th>\n",
       "      <td>SPW108421</td>\n",
       "      <td>470</td>\n",
       "      <td>469</td>\n",
       "      <td>303</td>\n",
       "    </tr>\n",
       "    <tr>\n",
       "      <th>3</th>\n",
       "      <td>SPT92086</td>\n",
       "      <td>357</td>\n",
       "      <td>357</td>\n",
       "      <td>242</td>\n",
       "    </tr>\n",
       "    <tr>\n",
       "      <th>4</th>\n",
       "      <td>SPTM52378</td>\n",
       "      <td>223</td>\n",
       "      <td>223</td>\n",
       "      <td>185</td>\n",
       "    </tr>\n",
       "    <tr>\n",
       "      <th>...</th>\n",
       "      <td>...</td>\n",
       "      <td>...</td>\n",
       "      <td>...</td>\n",
       "      <td>...</td>\n",
       "    </tr>\n",
       "    <tr>\n",
       "      <th>27119</th>\n",
       "      <td>2403144051</td>\n",
       "      <td>1</td>\n",
       "      <td>1</td>\n",
       "      <td>0</td>\n",
       "    </tr>\n",
       "    <tr>\n",
       "      <th>27120</th>\n",
       "      <td>2309114471</td>\n",
       "      <td>1</td>\n",
       "      <td>1</td>\n",
       "      <td>0</td>\n",
       "    </tr>\n",
       "    <tr>\n",
       "      <th>27121</th>\n",
       "      <td>SPT90442</td>\n",
       "      <td>1</td>\n",
       "      <td>1</td>\n",
       "      <td>0</td>\n",
       "    </tr>\n",
       "    <tr>\n",
       "      <th>27122</th>\n",
       "      <td>2501205979</td>\n",
       "      <td>1</td>\n",
       "      <td>1</td>\n",
       "      <td>0</td>\n",
       "    </tr>\n",
       "    <tr>\n",
       "      <th>27123</th>\n",
       "      <td>2411192825</td>\n",
       "      <td>1</td>\n",
       "      <td>1</td>\n",
       "      <td>0</td>\n",
       "    </tr>\n",
       "  </tbody>\n",
       "</table>\n",
       "<p>27124 rows × 4 columns</p>\n",
       "</div>"
      ],
      "text/plain": [
       "       PROJECT ID  INVOICE ID  INVOICE NO  PO NO\n",
       "0      2408174237         426         426    319\n",
       "1      2311122413         427         426    309\n",
       "2       SPW108421         470         469    303\n",
       "3        SPT92086         357         357    242\n",
       "4       SPTM52378         223         223    185\n",
       "...           ...         ...         ...    ...\n",
       "27119  2403144051           1           1      0\n",
       "27120  2309114471           1           1      0\n",
       "27121    SPT90442           1           1      0\n",
       "27122  2501205979           1           1      0\n",
       "27123  2411192825           1           1      0\n",
       "\n",
       "[27124 rows x 4 columns]"
      ]
     },
     "execution_count": 10,
     "metadata": {},
     "output_type": "execute_result"
    }
   ],
   "source": [
    "pivot_table = df.pivot_table(index=['PROJECT NAME','PROJECT ID'], values=['PO NO','INVOICE ID', 'INVOICE NO',], aggfunc=pd.Series.nunique).sort_values(by='PO NO', ascending=False).reset_index()\n",
    "pivot_table"
   ]
  },
  {
   "cell_type": "code",
   "execution_count": null,
   "id": "d72c112d",
   "metadata": {},
   "outputs": [],
   "source": [
    "pivot_table = df.pivot_table(\n",
    "    index=['PROJECT NAME','PROJECT ID', 'INVOICE ID','SUPPLIER NO', 'SUPPLIER NAME'],\n",
    "    values=['PO NO', 'INVOICE NO'],\n",
    "    aggfunc=pd.Series.nunique\n",
    ").sort_values(by=['PROJECT ID', 'INVOICE ID']).reset_index()\n",
    "\n",
    "pivot_table"
   ]
  },
  {
   "cell_type": "code",
   "execution_count": null,
   "id": "d470af07",
   "metadata": {},
   "outputs": [],
   "source": []
  },
  {
   "cell_type": "code",
   "execution_count": null,
   "id": "9da83b85",
   "metadata": {},
   "outputs": [],
   "source": []
  }
 ],
 "metadata": {
  "kernelspec": {
   "display_name": "base",
   "language": "python",
   "name": "python3"
  },
  "language_info": {
   "codemirror_mode": {
    "name": "ipython",
    "version": 3
   },
   "file_extension": ".py",
   "mimetype": "text/x-python",
   "name": "python",
   "nbconvert_exporter": "python",
   "pygments_lexer": "ipython3",
   "version": "3.9.7"
  }
 },
 "nbformat": 4,
 "nbformat_minor": 5
}
