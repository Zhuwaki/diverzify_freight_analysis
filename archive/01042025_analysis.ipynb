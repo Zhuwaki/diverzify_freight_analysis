{
 "cells": [
  {
   "cell_type": "code",
   "execution_count": 2,
   "metadata": {},
   "outputs": [
    {
     "name": "stdout",
     "output_type": "stream",
     "text": [
      "% of POs with freight ≤ 10% of product spend: 88.20%\n",
      "% of POs with freight > 50% of product spend: 2.83%\n",
      "✅ Exported: Freight_Analysis_Enriched_Output.csv\n"
     ]
    }
   ],
   "source": [
    "import pandas as pd\n",
    "\n",
    "# === Load Files ===\n",
    "# Main PO, invoice, freight dataset\n",
    "df = pd.read_csv(\"Freight_Cost_Analysis_CY2024-03.25.csv\", encoding=\"latin1\", low_memory=False)\n",
    "\n",
    "# Load account exclusions\n",
    "excluded_accounts_df = pd.read_excel(\"accounts_to_exclude.xlsx\")\n",
    "excluded_accounts = excluded_accounts_df['Account'].astype(int).tolist()\n",
    "\n",
    "# === Filter Out Unwanted Account Lines ===\n",
    "df = df[~df['ACCOUNT'].isin(excluded_accounts)]\n",
    "\n",
    "# === Step 1: Freight Spend Profiling ===\n",
    "freight_lines = df[df['ACCOUNT DESCRIPTION'].astype(str).str.upper().str.contains('PROJECT FREIGHT', na=False)]\n",
    "total_po_value = df.groupby('PO NO', as_index=False)['INVOICE LINE TOTAL'].sum().rename(columns={'INVOICE LINE TOTAL': 'TOTAL_PO_VALUE'})\n",
    "freight_cost = freight_lines.groupby('PO NO', as_index=False)['INVOICE LINE TOTAL'].sum().rename(columns={'INVOICE LINE TOTAL': 'PROJECT_FREIGHT_COST'})\n",
    "df = df.merge(total_po_value, on='PO NO', how='left')\n",
    "df = df.merge(freight_cost, on='PO NO', how='left')\n",
    "df['PROJECT_FREIGHT_COST'] = df['PROJECT_FREIGHT_COST'].fillna(0)\n",
    "df['PROJECT_FREIGHT_PERCENT'] = df['PROJECT_FREIGHT_COST'] / df['TOTAL_PO_VALUE']\n",
    "df['PRODUCT_ONLY_PO_VALUE'] = df['TOTAL_PO_VALUE'] - df['PROJECT_FREIGHT_COST']\n",
    "df['FREIGHT_PERCENT_EXCL_PRODUCT'] = df['PROJECT_FREIGHT_COST'] / df['PRODUCT_ONLY_PO_VALUE']\n",
    "df['FREIGHT_≥90%_OF_PO'] = df['PROJECT_FREIGHT_PERCENT'] >= 0.9\n",
    "df['FREIGHT_GT_PRODUCT'] = df['PROJECT_FREIGHT_COST'] > df['PRODUCT_ONLY_PO_VALUE']\n",
    "df['NEGATIVE_FREIGHT_PERCENT'] = df['PROJECT_FREIGHT_PERCENT'] < 0\n",
    "\n",
    "# === Step 2: ZIP & Supplier Analysis ===\n",
    "df['SHIP TO ZIP'] = df['SHIP TO ZIP'].astype(str).str.extract(r'(\\d{5})')\n",
    "freight_df = df[df['PROJECT_FREIGHT_COST'] > 0]\n",
    "zip_supplier_summary = freight_df.groupby(['SHIP TO ZIP', 'SUPPLIER NO']).agg(\n",
    "    AVG_FREIGHT_PERCENT=('PROJECT_FREIGHT_PERCENT', 'mean'),\n",
    "    PO_COUNT=('PO NO', 'nunique')\n",
    ").reset_index()\n",
    "zip_supplier_summary['HIGH_FREIGHT_FLAG'] = zip_supplier_summary['AVG_FREIGHT_PERCENT'] > 0.5\n",
    "df = df.merge(zip_supplier_summary[['SHIP TO ZIP', 'SUPPLIER NO', 'HIGH_FREIGHT_FLAG']],\n",
    "              on=['SHIP TO ZIP', 'SUPPLIER NO'], how='left')\n",
    "\n",
    "# === Step 3: Product Analysis ===\n",
    "labor_keywords = ['LABOR', 'INSTALL', 'SERVICE', 'WAGE', 'CONTRACT', 'EMPLOYEE']\n",
    "df['PART DESCRIPTION CLEAN'] = df['PART DESCRIPTION'].astype(str).str.upper()\n",
    "df['IS_LABOR'] = df['PART DESCRIPTION CLEAN'].apply(lambda desc: any(k in desc for k in labor_keywords))\n",
    "product_counts = df[~df['IS_LABOR'] & df['PART DESCRIPTION'].notna()].groupby('PART DESCRIPTION').size().reset_index(name='PRODUCT_ORDER_COUNT')\n",
    "product_counts['PRODUCT_ORDER_RANK'] = product_counts['PRODUCT_ORDER_COUNT'].rank(method='dense', ascending=False).astype(int)\n",
    "df = df.merge(product_counts, on='PART DESCRIPTION', how='left')\n",
    "\n",
    "# === Step 4: UOM Consistency ===\n",
    "def compare_uom(row):\n",
    "    if pd.isna(row['INV UOM']):\n",
    "        return 'Missing INV UOM'\n",
    "    elif row['PURCH UOM'] == row['INV UOM']:\n",
    "        return 'Match'\n",
    "    else:\n",
    "        return 'Mismatch'\n",
    "df['UOM_COMPARISON_STATUS'] = df.apply(compare_uom, axis=1)\n",
    "\n",
    "# === Step 5: Key Metrics Summary (Optional) ===\n",
    "po_summary = df[['PO NO', 'PROJECT_FREIGHT_COST', 'PRODUCT_ONLY_PO_VALUE']].drop_duplicates().dropna()\n",
    "po_summary['FREIGHT_PERCENT_EXCL_PRODUCT'] = po_summary['PROJECT_FREIGHT_COST'] / po_summary['PRODUCT_ONLY_PO_VALUE']\n",
    "pct_le_10 = (po_summary['FREIGHT_PERCENT_EXCL_PRODUCT'] <= 0.10).mean() * 100\n",
    "pct_gt_50 = (po_summary['FREIGHT_PERCENT_EXCL_PRODUCT'] > 0.50).mean() * 100\n",
    "print(f\"% of POs with freight ≤ 10% of product spend: {pct_le_10:.2f}%\")\n",
    "print(f\"% of POs with freight > 50% of product spend: {pct_gt_50:.2f}%\")\n",
    "\n",
    "# === Step 6: Composite Key Consistency ===\n",
    "df['PO_INVOICE_COMPOSITE_KEY'] = df['PO NO'].astype(str) + '|' + df['INVOICE ID'].astype(str) + '|' + df['INVOICE NO'].astype(str)\n",
    "composite_counts = df.groupby('PO NO')['PO_INVOICE_COMPOSITE_KEY'].nunique().reset_index()\n",
    "composite_counts['PO_COMPOSITE_KEY_CONSISTENCY'] = composite_counts['PO_INVOICE_COMPOSITE_KEY'].apply(lambda x: 'Consistent' if x == 1 else 'Inconsistent')\n",
    "df = df.merge(composite_counts[['PO NO', 'PO_COMPOSITE_KEY_CONSISTENCY']], on='PO NO', how='left')\n",
    "\n",
    "# === Export Final Enriched Dataset ===\n",
    "df.to_csv(\"Freight_Analysis_Enriched_Output.csv\", index=False)\n",
    "print(\"✅ Exported: Freight_Analysis_Enriched_Output.csv\")\n"
   ]
  }
 ],
 "metadata": {
  "kernelspec": {
   "display_name": "bans",
   "language": "python",
   "name": "python3"
  },
  "language_info": {
   "codemirror_mode": {
    "name": "ipython",
    "version": 3
   },
   "file_extension": ".py",
   "mimetype": "text/x-python",
   "name": "python",
   "nbconvert_exporter": "python",
   "pygments_lexer": "ipython3",
   "version": "3.11.3"
  }
 },
 "nbformat": 4,
 "nbformat_minor": 2
}
