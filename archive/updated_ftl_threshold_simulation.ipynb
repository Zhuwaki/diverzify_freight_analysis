{
 "cells": [
  {
   "cell_type": "code",
   "execution_count": 3,
   "id": "005cc0ec",
   "metadata": {},
   "outputs": [
    {
     "data": {
      "text/plain": [
       "Index(['site', 'site_description', 'supplier_no', 'supplier_name',\n",
       "       'invoice_id', 'account', 'account_description', 'ship_to_zip', 'po_no',\n",
       "       'part_no', 'part_description', 'inv_uom', 'invoiced_line_qty',\n",
       "       'est_commodity_group', 'est_method_used', 'est_standard_quantity',\n",
       "       'est_standard_uom', 'est_lbs_per_uom', 'est_market_freight_costs',\n",
       "       'est_total_quantity', 'est_market_rate', 'est_freight_class',\n",
       "       'est_xgs_rate', 'est_rate_unit', 'est_shipment_type',\n",
       "       'est_xgs_total_raw_cost', 'est_xgs_total_normalised_cost',\n",
       "       'est_normalised_xgs_rate', 'est_xgs_min_applied',\n",
       "       'market_cost_outlier'],\n",
       "      dtype='object')"
      ]
     },
     "execution_count": 3,
     "metadata": {},
     "output_type": "execute_result"
    }
   ],
   "source": [
    "\n",
    "import matplotlib.pyplot as plt\n",
    "import seaborn as sns\n",
    "import pandas as pd\n",
    "\n",
    "# ✅ Load and clean data\n",
    "df = pd.read_csv('../../data/downloads/freight_model_20250423_224657.csv')\n",
    "df = df.drop_duplicates(subset='invoice_id', keep='first')\n",
    "df.columns"
   ]
  },
  {
   "cell_type": "code",
   "execution_count": 5,
   "id": "a3e7e668",
   "metadata": {},
   "outputs": [],
   "source": [
    "vnl = df[df['est_commodity_group'] == '1VNL']\n",
    "cbl = df[df['est_commodity_group'] == '1CBL']"
   ]
  },
  {
   "cell_type": "code",
   "execution_count": 13,
   "id": "e3119aa3",
   "metadata": {},
   "outputs": [],
   "source": [
    "# Updated LBS-based simulation (e.g. 1VNL)\n",
    "def simulate_ftl_thresholds_verbose(data, freight_price_col='est_market_freight_costs', quantity_col='est_total_quantity', thresholds=[5000,10000, 15000, 20000, 25000]):\n",
    "    data['quantity'] = pd.to_numeric(data[quantity_col], errors='coerce')\n",
    "    data['freight_price'] = pd.to_numeric(data[freight_price_col], errors='coerce')\n",
    "\n",
    "    results = []\n",
    "\n",
    "    for threshold in thresholds:\n",
    "        data['simulated_type'] = data['quantity'].apply(lambda q: 'FTL' if q >= threshold else 'LTL')\n",
    "        data['unit_cost'] = (data['freight_price'] / data['quantity']).round(2)\n",
    "\n",
    "        grouped = data.groupby('simulated_type').agg(\n",
    "            avg_cost_per_lb=('unit_cost', 'mean'),\n",
    "            shipment_count=('unit_cost', 'count')\n",
    "        ).reset_index()\n",
    "        grouped['threshold'] = threshold\n",
    "        results.append(grouped)\n",
    "\n",
    "    combined = pd.concat(results)\n",
    "    pivot = combined.pivot(index='threshold', columns='simulated_type', values=['avg_cost_per_lb', 'shipment_count']).round(3)\n",
    "    pivot.columns = [f\"{metric}_{stype}\" for metric, stype in pivot.columns]\n",
    "    return pivot.reset_index()\n"
   ]
  },
  {
   "cell_type": "code",
   "execution_count": 15,
   "id": "18d07fe2",
   "metadata": {},
   "outputs": [
    {
     "name": "stderr",
     "output_type": "stream",
     "text": [
      "C:\\Users\\nzhuw\\AppData\\Local\\Temp/ipykernel_14804/2509507708.py:2: UserWarning: Boolean Series key will be reindexed to match DataFrame index.\n",
      "  valid_rows = vnl[(df['est_market_freight_costs'] > 0) & (df['est_total_quantity'] > 0)]\n"
     ]
    },
    {
     "data": {
      "application/vnd.microsoft.datawrangler.viewer.v0+json": {
       "columns": [
        {
         "name": "index",
         "rawType": "int64",
         "type": "integer"
        },
        {
         "name": "threshold",
         "rawType": "int64",
         "type": "integer"
        },
        {
         "name": "avg_cost_per_lb_FTL",
         "rawType": "float64",
         "type": "float"
        },
        {
         "name": "avg_cost_per_lb_LTL",
         "rawType": "float64",
         "type": "float"
        },
        {
         "name": "shipment_count_FTL",
         "rawType": "float64",
         "type": "float"
        },
        {
         "name": "shipment_count_LTL",
         "rawType": "float64",
         "type": "float"
        }
       ],
       "conversionMethod": "pd.DataFrame",
       "ref": "b42d0805-b028-48c4-b391-5afcc71bdd97",
       "rows": [
        [
         "0",
         "5000",
         "0.072",
         "1.18",
         "284.0",
         "2509.0"
        ],
        [
         "1",
         "10000",
         "0.06",
         "1.123",
         "145.0",
         "2648.0"
        ],
        [
         "2",
         "15000",
         "0.057",
         "1.106",
         "102.0",
         "2691.0"
        ],
        [
         "3",
         "20000",
         "0.054",
         "1.096",
         "77.0",
         "2716.0"
        ],
        [
         "4",
         "25000",
         "0.058",
         "1.089",
         "59.0",
         "2734.0"
        ]
       ],
       "shape": {
        "columns": 5,
        "rows": 5
       }
      },
      "text/html": [
       "<div>\n",
       "<style scoped>\n",
       "    .dataframe tbody tr th:only-of-type {\n",
       "        vertical-align: middle;\n",
       "    }\n",
       "\n",
       "    .dataframe tbody tr th {\n",
       "        vertical-align: top;\n",
       "    }\n",
       "\n",
       "    .dataframe thead th {\n",
       "        text-align: right;\n",
       "    }\n",
       "</style>\n",
       "<table border=\"1\" class=\"dataframe\">\n",
       "  <thead>\n",
       "    <tr style=\"text-align: right;\">\n",
       "      <th></th>\n",
       "      <th>threshold</th>\n",
       "      <th>avg_cost_per_lb_FTL</th>\n",
       "      <th>avg_cost_per_lb_LTL</th>\n",
       "      <th>shipment_count_FTL</th>\n",
       "      <th>shipment_count_LTL</th>\n",
       "    </tr>\n",
       "  </thead>\n",
       "  <tbody>\n",
       "    <tr>\n",
       "      <th>0</th>\n",
       "      <td>5000</td>\n",
       "      <td>0.072</td>\n",
       "      <td>1.180</td>\n",
       "      <td>284.0</td>\n",
       "      <td>2509.0</td>\n",
       "    </tr>\n",
       "    <tr>\n",
       "      <th>1</th>\n",
       "      <td>10000</td>\n",
       "      <td>0.060</td>\n",
       "      <td>1.123</td>\n",
       "      <td>145.0</td>\n",
       "      <td>2648.0</td>\n",
       "    </tr>\n",
       "    <tr>\n",
       "      <th>2</th>\n",
       "      <td>15000</td>\n",
       "      <td>0.057</td>\n",
       "      <td>1.106</td>\n",
       "      <td>102.0</td>\n",
       "      <td>2691.0</td>\n",
       "    </tr>\n",
       "    <tr>\n",
       "      <th>3</th>\n",
       "      <td>20000</td>\n",
       "      <td>0.054</td>\n",
       "      <td>1.096</td>\n",
       "      <td>77.0</td>\n",
       "      <td>2716.0</td>\n",
       "    </tr>\n",
       "    <tr>\n",
       "      <th>4</th>\n",
       "      <td>25000</td>\n",
       "      <td>0.058</td>\n",
       "      <td>1.089</td>\n",
       "      <td>59.0</td>\n",
       "      <td>2734.0</td>\n",
       "    </tr>\n",
       "  </tbody>\n",
       "</table>\n",
       "</div>"
      ],
      "text/plain": [
       "   threshold  avg_cost_per_lb_FTL  avg_cost_per_lb_LTL  shipment_count_FTL  \\\n",
       "0       5000                0.072                1.180               284.0   \n",
       "1      10000                0.060                1.123               145.0   \n",
       "2      15000                0.057                1.106               102.0   \n",
       "3      20000                0.054                1.096                77.0   \n",
       "4      25000                0.058                1.089                59.0   \n",
       "\n",
       "   shipment_count_LTL  \n",
       "0              2509.0  \n",
       "1              2648.0  \n",
       "2              2691.0  \n",
       "3              2716.0  \n",
       "4              2734.0  "
      ]
     },
     "metadata": {},
     "output_type": "display_data"
    }
   ],
   "source": [
    "# Run simulation on 1VNL\n",
    "valid_rows = vnl[(df['est_market_freight_costs'] > 0) & (df['est_total_quantity'] > 0)]\n",
    "summary_df = simulate_ftl_thresholds_verbose(valid_rows)\n",
    "display(summary_df)\n"
   ]
  },
  {
   "cell_type": "code",
   "execution_count": 16,
   "id": "05f2b9b0",
   "metadata": {},
   "outputs": [],
   "source": [
    "# Updated SQYD-based simulation (e.g. 1CBL)\n",
    "def simulate_ftl_thresholds_cbl(data, freight_price_col='est_market_freight_costs', quantity_col='est_total_quantity', thresholds_in_rolls=[20, 25, 30, 45, 50, 60]):\n",
    "    thresholds = [rolls * 100 for rolls in thresholds_in_rolls]\n",
    "\n",
    "    data['quantity'] = pd.to_numeric(data[quantity_col], errors='coerce')\n",
    "    data['freight_price'] = pd.to_numeric(data[freight_price_col], errors='coerce')\n",
    "\n",
    "    results = []\n",
    "\n",
    "    for threshold, rolls in zip(thresholds, thresholds_in_rolls):\n",
    "        data['simulated_type'] = data['quantity'].apply(lambda q: 'FTL' if q >= threshold else 'LTL')\n",
    "        data['unit_cost'] = (data['freight_price'] / data['quantity']).round(2)\n",
    "\n",
    "        grouped = data.groupby('simulated_type').agg(\n",
    "            avg_cost_per_sqyd=('unit_cost', 'mean'),\n",
    "            shipment_count=('unit_cost', 'count')\n",
    "        ).reset_index()\n",
    "        grouped['threshold_rolls'] = rolls\n",
    "        results.append(grouped)\n",
    "\n",
    "    combined = pd.concat(results)\n",
    "    pivot = combined.pivot(index='threshold_rolls', columns='simulated_type', values=['avg_cost_per_sqyd', 'shipment_count']).round(3)\n",
    "    pivot.columns = [f\"{metric}_{stype}\" for metric, stype in pivot.columns]\n",
    "    return pivot.reset_index()\n"
   ]
  },
  {
   "cell_type": "code",
   "execution_count": 17,
   "id": "3f6cbe53",
   "metadata": {},
   "outputs": [
    {
     "data": {
      "application/vnd.microsoft.datawrangler.viewer.v0+json": {
       "columns": [
        {
         "name": "index",
         "rawType": "int64",
         "type": "integer"
        },
        {
         "name": "threshold_rolls",
         "rawType": "int64",
         "type": "integer"
        },
        {
         "name": "avg_cost_per_sqyd_FTL",
         "rawType": "float64",
         "type": "float"
        },
        {
         "name": "avg_cost_per_sqyd_LTL",
         "rawType": "float64",
         "type": "float"
        },
        {
         "name": "shipment_count_FTL",
         "rawType": "float64",
         "type": "float"
        },
        {
         "name": "shipment_count_LTL",
         "rawType": "float64",
         "type": "float"
        }
       ],
       "conversionMethod": "pd.DataFrame",
       "ref": "e1def98a-378c-486e-9a85-a1eaa8b87e04",
       "rows": [
        [
         "0",
         "20",
         "0.613",
         "1.484",
         "22.0",
         "482.0"
        ],
        [
         "1",
         "25",
         "0.501",
         "1.477",
         "16.0",
         "488.0"
        ],
        [
         "2",
         "30",
         "0.461",
         "1.474",
         "14.0",
         "490.0"
        ],
        [
         "3",
         "45",
         "0.207",
         "1.468",
         "9.0",
         "495.0"
        ],
        [
         "4",
         "50",
         "0.125",
         "1.467",
         "8.0",
         "496.0"
        ],
        [
         "5",
         "60",
         "0.114",
         "1.465",
         "7.0",
         "497.0"
        ]
       ],
       "shape": {
        "columns": 5,
        "rows": 6
       }
      },
      "text/html": [
       "<div>\n",
       "<style scoped>\n",
       "    .dataframe tbody tr th:only-of-type {\n",
       "        vertical-align: middle;\n",
       "    }\n",
       "\n",
       "    .dataframe tbody tr th {\n",
       "        vertical-align: top;\n",
       "    }\n",
       "\n",
       "    .dataframe thead th {\n",
       "        text-align: right;\n",
       "    }\n",
       "</style>\n",
       "<table border=\"1\" class=\"dataframe\">\n",
       "  <thead>\n",
       "    <tr style=\"text-align: right;\">\n",
       "      <th></th>\n",
       "      <th>threshold_rolls</th>\n",
       "      <th>avg_cost_per_sqyd_FTL</th>\n",
       "      <th>avg_cost_per_sqyd_LTL</th>\n",
       "      <th>shipment_count_FTL</th>\n",
       "      <th>shipment_count_LTL</th>\n",
       "    </tr>\n",
       "  </thead>\n",
       "  <tbody>\n",
       "    <tr>\n",
       "      <th>0</th>\n",
       "      <td>20</td>\n",
       "      <td>0.613</td>\n",
       "      <td>1.484</td>\n",
       "      <td>22.0</td>\n",
       "      <td>482.0</td>\n",
       "    </tr>\n",
       "    <tr>\n",
       "      <th>1</th>\n",
       "      <td>25</td>\n",
       "      <td>0.501</td>\n",
       "      <td>1.477</td>\n",
       "      <td>16.0</td>\n",
       "      <td>488.0</td>\n",
       "    </tr>\n",
       "    <tr>\n",
       "      <th>2</th>\n",
       "      <td>30</td>\n",
       "      <td>0.461</td>\n",
       "      <td>1.474</td>\n",
       "      <td>14.0</td>\n",
       "      <td>490.0</td>\n",
       "    </tr>\n",
       "    <tr>\n",
       "      <th>3</th>\n",
       "      <td>45</td>\n",
       "      <td>0.207</td>\n",
       "      <td>1.468</td>\n",
       "      <td>9.0</td>\n",
       "      <td>495.0</td>\n",
       "    </tr>\n",
       "    <tr>\n",
       "      <th>4</th>\n",
       "      <td>50</td>\n",
       "      <td>0.125</td>\n",
       "      <td>1.467</td>\n",
       "      <td>8.0</td>\n",
       "      <td>496.0</td>\n",
       "    </tr>\n",
       "    <tr>\n",
       "      <th>5</th>\n",
       "      <td>60</td>\n",
       "      <td>0.114</td>\n",
       "      <td>1.465</td>\n",
       "      <td>7.0</td>\n",
       "      <td>497.0</td>\n",
       "    </tr>\n",
       "  </tbody>\n",
       "</table>\n",
       "</div>"
      ],
      "text/plain": [
       "   threshold_rolls  avg_cost_per_sqyd_FTL  avg_cost_per_sqyd_LTL  \\\n",
       "0               20                  0.613                  1.484   \n",
       "1               25                  0.501                  1.477   \n",
       "2               30                  0.461                  1.474   \n",
       "3               45                  0.207                  1.468   \n",
       "4               50                  0.125                  1.467   \n",
       "5               60                  0.114                  1.465   \n",
       "\n",
       "   shipment_count_FTL  shipment_count_LTL  \n",
       "0                22.0               482.0  \n",
       "1                16.0               488.0  \n",
       "2                14.0               490.0  \n",
       "3                 9.0               495.0  \n",
       "4                 8.0               496.0  \n",
       "5                 7.0               497.0  "
      ]
     },
     "metadata": {},
     "output_type": "display_data"
    }
   ],
   "source": [
    "# Run simulation on 1CBL\n",
    "valid_rows = cbl[(cbl['est_market_freight_costs'] > 0) & (cbl['est_total_quantity'] > 0)]\n",
    "summary_df = simulate_ftl_thresholds_cbl(valid_rows)\n",
    "display(summary_df)\n"
   ]
  }
 ],
 "metadata": {
  "kernelspec": {
   "display_name": "base",
   "language": "python",
   "name": "python3"
  },
  "language_info": {
   "codemirror_mode": {
    "name": "ipython",
    "version": 3
   },
   "file_extension": ".py",
   "mimetype": "text/x-python",
   "name": "python",
   "nbconvert_exporter": "python",
   "pygments_lexer": "ipython3",
   "version": "3.9.7"
  }
 },
 "nbformat": 4,
 "nbformat_minor": 5
}
