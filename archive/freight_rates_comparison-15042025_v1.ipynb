{
 "cells": [
  {
   "cell_type": "code",
   "execution_count": 2,
   "id": "eda001c8",
   "metadata": {},
   "outputs": [],
   "source": [
    "import pandas as pd\n",
    "import matplotlib.pyplot as plt\n",
    "from datetime import datetime\n",
    "import seaborn as sns"
   ]
  },
  {
   "cell_type": "code",
   "execution_count": 8,
   "id": "b1261e57",
   "metadata": {},
   "outputs": [
    {
     "data": {
      "text/plain": [
       "Index(['project_id', 'project_name', 'po_no', 'account', 'account_description',\n",
       "       'siteid', 'site', 'supplierid', 'suppliername', 'partnumber',\n",
       "       'partdescription', 'est_commodity_group', 'new_commodity_description',\n",
       "       'quantity', 'invoice_id', 'invoice_no', 'uom', 'conversion_code',\n",
       "       'match_supplier', 'est_estimated_area_cost', 'est_estimated_cwt_cost',\n",
       "       'est_freight_class_area', 'est_freight_class_lbs', 'est_lbs',\n",
       "       'est_rate_area', 'est_rate_cwt', 'est_sqyd', 'est_uom'],\n",
       "      dtype='object')"
      ]
     },
     "execution_count": 8,
     "metadata": {},
     "output_type": "execute_result"
    }
   ],
   "source": [
    "# Read in the modelling input file\n",
    "model_output = pd.read_csv('../../app/downloads/freight_dual_results_20250414_110751.xls.csv')\n",
    "model_output.head(2)\n",
    "model_output.columns"
   ]
  },
  {
   "cell_type": "code",
   "execution_count": null,
   "id": "7ec2e1fd",
   "metadata": {},
   "outputs": [
    {
     "data": {
      "text/plain": [
       "Index(['project_id', 'project_name', 'po_no', 'account', 'account_description',\n",
       "       'siteid', 'site', 'supplierid', 'suppliername', 'partnumber',\n",
       "       'partdescription', 'est_commodity_group', 'new_commodity_description',\n",
       "       'quantity', 'invoice_id', 'invoice_no', 'uom', 'conversion_code',\n",
       "       'match_supplier', 'est_estimated_area_cost', 'est_estimated_cwt_cost',\n",
       "       'est_freight_class_area', 'est_freight_class_lbs', 'est_lbs',\n",
       "       'est_rate_area', 'est_rate_cwt', 'est_sqyd', 'est_uom', 'xgs(usd/sqyd)',\n",
       "       'xgs(usd/lbs)'],\n",
       "      dtype='object')"
      ]
     },
     "execution_count": 14,
     "metadata": {},
     "output_type": "execute_result"
    }
   ],
   "source": [
    "model_output['xgs(usd/sqyd)'] = None\n",
    "model_output['xgs(usd/lbs)'] = None\n",
    "model_output['market(usd/sqyd)'] = None\n",
    "model_output['market(usd/lbs)'] = None\n",
    "model_output.columns "
   ]
  },
  {
   "cell_type": "code",
   "execution_count": null,
   "id": "7bf631bd",
   "metadata": {},
   "outputs": [],
   "source": [
    "def calculate_xgs(row):\n",
    "    if row['est_commodity_group'] == '1VNL':\n",
    "        try:\n",
    "            return {'xgs(usd/lbs)': float(row['est_estimated_cwt_cost']) / row['est_lbs'] if row['est_lbs'] > 0 else None,\n",
    "                    'xgs(usd/sqyd)': None}\n",
    "        except (ValueError, TypeError):\n",
    "            return {'xgs(usd/lbs)': None, 'xgs(usd/sqyd)': None}\n",
    "    elif row['est_commodity_group'] == '1CBL':\n",
    "        try:\n",
    "            return {'xgs(usd/sqyd)': float(row['est_estimated_area_cost']) / row['est_sqyd'] if row['est_sqyd'] > 0 else None,\n",
    "                    'xgs(usd/lbs)': None}\n",
    "        except (ValueError, TypeError):\n",
    "            return {'xgs(usd/sqyd)': None, 'xgs(usd/lbs)': None}\n",
    "    return {'xgs(usd/sqyd)': None, 'xgs(usd/lbs)': None}\n",
    "\n",
    "# Apply the function to the dataframe\n",
    "xgs_values = model_output.apply(calculate_xgs, axis=1)\n",
    "model_output['xgs(usd/lbs)'] = [x['xgs(usd/lbs)'] for x in xgs_values]\n",
    "model_output['xgs(usd/sqyd)'] = [x['xgs(usd/sqyd)'] for x in xgs_values]"
   ]
  },
  {
   "cell_type": "markdown",
   "id": "fbcb269b",
   "metadata": {},
   "source": [
    "def calculate_market(row):\n",
    "    if row['est_commodity_group'] == '1VNL':\n",
    "        try:\n",
    "            return {'market(usd/lbs)': float(row['market_rate']) / row['est_lbs'] if row['est_lbs'] > 0 else None,\n",
    "                    'market(usd/sqyd)': None}\n",
    "        except (ValueError, TypeError):\n",
    "            return {'market(usd/lbs)': None, 'market(usd/sqyd)': None}\n",
    "    elif row['est_commodity_group'] == '1CBL':\n",
    "        try:\n",
    "            return {'market(usd/sqyd)': float(row['market_rate']) / row['est_sqyd'] if row['est_sqyd'] > 0 else None,\n",
    "                    'market(usd/lbs)': None}\n",
    "        except (ValueError, TypeError):\n",
    "            return {'market(usd/sqyd)': None, 'market(usd/lbs)': None}\n",
    "    return {'market(usd/sqyd)': None, 'market(usd/lbs)': None}\n",
    "\n",
    "# Apply the function to the dataframe\n",
    "xgs_values = model_output.apply(calculate_market, axis=1)\n",
    "model_output['market(usd/lbs)'] = [x['market(usd/lbs)'] for x in xgs_values]\n",
    "model_output['market(usd/sqyd)'] = [x['market(usd/sqyd)'] for x in xgs_values]"
   ]
  }
 ],
 "metadata": {
  "kernelspec": {
   "display_name": "base",
   "language": "python",
   "name": "python3"
  },
  "language_info": {
   "codemirror_mode": {
    "name": "ipython",
    "version": 3
   },
   "file_extension": ".py",
   "mimetype": "text/x-python",
   "name": "python",
   "nbconvert_exporter": "python",
   "pygments_lexer": "ipython3",
   "version": "3.12.7"
  }
 },
 "nbformat": 4,
 "nbformat_minor": 5
}
