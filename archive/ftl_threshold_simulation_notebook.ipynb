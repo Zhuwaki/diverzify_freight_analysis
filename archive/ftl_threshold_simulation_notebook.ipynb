{
 "cells": [
  {
   "cell_type": "markdown",
   "id": "adda3167",
   "metadata": {},
   "source": [
    "# 📦 FTL Threshold Cost Simulation for 1VNL (Vinyl)\n",
    "Simulate how changing the FTL threshold affects average freight cost per pound."
   ]
  },
  {
   "cell_type": "code",
   "execution_count": 44,
   "id": "b91b1c56",
   "metadata": {},
   "outputs": [],
   "source": [
    "import pandas as pd\n",
    "# Load your dataset here\n",
    "# Example: \n",
    "df = pd.read_csv(\"../../data/downloads/1vnl.csv\")\n",
    "# Make sure 'freight_price' and 'total_quantity' columns are present\n",
    "df2 = pd.read_csv(\"../../data/downloads/1cbl.csv\")"
   ]
  },
  {
   "cell_type": "code",
   "execution_count": null,
   "id": "ad282733",
   "metadata": {},
   "outputs": [],
   "source": []
  },
  {
   "cell_type": "code",
   "execution_count": 16,
   "id": "592f3fcd",
   "metadata": {},
   "outputs": [
    {
     "data": {
      "text/plain": [
       "Index(['site', 'invoice_id', 'freight_price', 'unique_commodity_group_input',\n",
       "       'unique_commodity_description_input', 'total_estimated_area_cost',\n",
       "       'total_estimated_cwt_cost', 'total_est_lbs', 'total_est_sqyd',\n",
       "       'unique_commodity_group_output', 'unique_commodity_description_output',\n",
       "       'total_cost', 'total_quantity', 'UOM', 'freight_ratio', 'market_rate',\n",
       "       'xgs_rate', 'rate_ratio', 'shipment_type', 'outlier_flag', 'savings',\n",
       "       'action'],\n",
       "      dtype='object')"
      ]
     },
     "execution_count": 16,
     "metadata": {},
     "output_type": "execute_result"
    }
   ],
   "source": [
    "df.columns"
   ]
  },
  {
   "cell_type": "code",
   "execution_count": 20,
   "id": "f848e5b4",
   "metadata": {},
   "outputs": [],
   "source": [
    "df.replace([float('inf'), -float('inf')], pd.NA, inplace=True)"
   ]
  },
  {
   "cell_type": "code",
   "execution_count": 26,
   "id": "a3f81ae9",
   "metadata": {},
   "outputs": [],
   "source": [
    "df.replace([float('inf'), -float('inf')], 0, inplace=True)"
   ]
  },
  {
   "cell_type": "code",
   "execution_count": null,
   "id": "3ccf395a",
   "metadata": {},
   "outputs": [],
   "source": []
  },
  {
   "cell_type": "code",
   "execution_count": 18,
   "id": "2cb74f6b",
   "metadata": {},
   "outputs": [
    {
     "data": {
      "application/vnd.microsoft.datawrangler.viewer.v0+json": {
       "columns": [
        {
         "name": "index",
         "rawType": "int64",
         "type": "integer"
        },
        {
         "name": "shipment_type",
         "rawType": "object",
         "type": "string"
        },
        {
         "name": "market_rate",
         "rawType": "object",
         "type": "string"
        }
       ],
       "conversionMethod": "pd.DataFrame",
       "ref": "6d2e62f7-25ba-46f5-9814-e6327dea3ae6",
       "rows": [
        [
         "0",
         "LTL",
         "0.05"
        ],
        [
         "1",
         "LTL",
         "0.24"
        ],
        [
         "2",
         "LTL",
         "0.05"
        ],
        [
         "3",
         "LTL",
         "0.64"
        ],
        [
         "4",
         "LTL",
         "0.9"
        ],
        [
         "5",
         "LTL",
         "0.15"
        ],
        [
         "6",
         "LTL",
         "1.4"
        ],
        [
         "7",
         "LTL",
         "0.24"
        ],
        [
         "8",
         "LTL",
         "0.04"
        ],
        [
         "9",
         "LTL",
         "0.03"
        ],
        [
         "10",
         "FTL",
         "0.1"
        ],
        [
         "11",
         "LTL",
         "0.26"
        ],
        [
         "12",
         "LTL",
         "0.15"
        ],
        [
         "13",
         "LTL",
         "0.09"
        ],
        [
         "14",
         "LTL",
         "0.32"
        ],
        [
         "15",
         "LTL",
         "0.11"
        ],
        [
         "16",
         "LTL",
         "0.05"
        ],
        [
         "17",
         "FTL",
         "0.03"
        ],
        [
         "18",
         "LTL",
         "0.31"
        ],
        [
         "19",
         "LTL",
         "0.11"
        ],
        [
         "20",
         "LTL",
         "0.21"
        ],
        [
         "21",
         "LTL",
         "0.23"
        ],
        [
         "22",
         "LTL",
         "0.17"
        ],
        [
         "23",
         "LTL",
         "0.47"
        ],
        [
         "24",
         "LTL",
         "0.34"
        ],
        [
         "25",
         "LTL",
         "0.24"
        ],
        [
         "26",
         "LTL",
         "0.02"
        ],
        [
         "27",
         "FTL",
         "0.05"
        ],
        [
         "28",
         "LTL",
         "0.33"
        ],
        [
         "29",
         "LTL",
         "0.03"
        ],
        [
         "30",
         "LTL",
         "0.95"
        ],
        [
         "31",
         "LTL",
         "2.94"
        ],
        [
         "32",
         "LTL",
         "0.05"
        ],
        [
         "33",
         "LTL",
         "0.45"
        ],
        [
         "34",
         "LTL",
         "0.05"
        ],
        [
         "35",
         "LTL",
         "0.03"
        ],
        [
         "36",
         "LTL",
         "0.11"
        ],
        [
         "37",
         "LTL",
         "0.24"
        ],
        [
         "38",
         "LTL",
         "0.15"
        ],
        [
         "39",
         "LTL",
         "0.36"
        ],
        [
         "40",
         "LTL",
         "0.24"
        ],
        [
         "41",
         "LTL",
         "0.26"
        ],
        [
         "42",
         "LTL",
         "0.09"
        ],
        [
         "43",
         "LTL",
         "0.04"
        ],
        [
         "44",
         "LTL",
         "0.8"
        ],
        [
         "45",
         "LTL",
         "0.1"
        ],
        [
         "46",
         "LTL",
         "0.12"
        ],
        [
         "47",
         "LTL",
         "0.05"
        ],
        [
         "48",
         "LTL",
         "0.2"
        ],
        [
         "49",
         "LTL",
         "0.16"
        ]
       ],
       "shape": {
        "columns": 2,
        "rows": 1793
       }
      },
      "text/html": [
       "<div>\n",
       "<style scoped>\n",
       "    .dataframe tbody tr th:only-of-type {\n",
       "        vertical-align: middle;\n",
       "    }\n",
       "\n",
       "    .dataframe tbody tr th {\n",
       "        vertical-align: top;\n",
       "    }\n",
       "\n",
       "    .dataframe thead th {\n",
       "        text-align: right;\n",
       "    }\n",
       "</style>\n",
       "<table border=\"1\" class=\"dataframe\">\n",
       "  <thead>\n",
       "    <tr style=\"text-align: right;\">\n",
       "      <th></th>\n",
       "      <th>shipment_type</th>\n",
       "      <th>market_rate</th>\n",
       "    </tr>\n",
       "  </thead>\n",
       "  <tbody>\n",
       "    <tr>\n",
       "      <th>0</th>\n",
       "      <td>LTL</td>\n",
       "      <td>0.05</td>\n",
       "    </tr>\n",
       "    <tr>\n",
       "      <th>1</th>\n",
       "      <td>LTL</td>\n",
       "      <td>0.24</td>\n",
       "    </tr>\n",
       "    <tr>\n",
       "      <th>2</th>\n",
       "      <td>LTL</td>\n",
       "      <td>0.05</td>\n",
       "    </tr>\n",
       "    <tr>\n",
       "      <th>3</th>\n",
       "      <td>LTL</td>\n",
       "      <td>0.64</td>\n",
       "    </tr>\n",
       "    <tr>\n",
       "      <th>4</th>\n",
       "      <td>LTL</td>\n",
       "      <td>0.9</td>\n",
       "    </tr>\n",
       "    <tr>\n",
       "      <th>...</th>\n",
       "      <td>...</td>\n",
       "      <td>...</td>\n",
       "    </tr>\n",
       "    <tr>\n",
       "      <th>1788</th>\n",
       "      <td>LTL</td>\n",
       "      <td>0.02</td>\n",
       "    </tr>\n",
       "    <tr>\n",
       "      <th>1789</th>\n",
       "      <td>LTL</td>\n",
       "      <td>0.28</td>\n",
       "    </tr>\n",
       "    <tr>\n",
       "      <th>1790</th>\n",
       "      <td>LTL</td>\n",
       "      <td>0.06</td>\n",
       "    </tr>\n",
       "    <tr>\n",
       "      <th>1791</th>\n",
       "      <td>LTL</td>\n",
       "      <td>0.02</td>\n",
       "    </tr>\n",
       "    <tr>\n",
       "      <th>1792</th>\n",
       "      <td>LTL</td>\n",
       "      <td>0.45</td>\n",
       "    </tr>\n",
       "  </tbody>\n",
       "</table>\n",
       "<p>1793 rows × 2 columns</p>\n",
       "</div>"
      ],
      "text/plain": [
       "     shipment_type market_rate\n",
       "0              LTL        0.05\n",
       "1              LTL        0.24\n",
       "2              LTL        0.05\n",
       "3              LTL        0.64\n",
       "4              LTL         0.9\n",
       "...            ...         ...\n",
       "1788           LTL        0.02\n",
       "1789           LTL        0.28\n",
       "1790           LTL        0.06\n",
       "1791           LTL        0.02\n",
       "1792           LTL        0.45\n",
       "\n",
       "[1793 rows x 2 columns]"
      ]
     },
     "execution_count": 18,
     "metadata": {},
     "output_type": "execute_result"
    }
   ],
   "source": [
    "df[['shipment_type','market_rate']]"
   ]
  },
  {
   "cell_type": "code",
   "execution_count": null,
   "id": "bb2c71a0",
   "metadata": {},
   "outputs": [],
   "source": [
    "# 1VNL FTL and LTL analysis\n",
    "def simulate_ftl_thresholds_verbose(data, freight_price_col='freight_price', quantity_col='total_quantity', thresholds=[10000, 15000, 20000, 25000]):\n",
    "    data['quantity'] = pd.to_numeric(data[quantity_col], errors='coerce')\n",
    "    data['freight_price'] = pd.to_numeric(data[freight_price_col], errors='coerce')\n",
    "\n",
    "    results = []\n",
    "    \n",
    "    for threshold in thresholds:\n",
    "        data['simulated_type'] = data['quantity'].apply(lambda q: 'FTL' if q >= threshold else 'LTL')\n",
    "        data['unit_cost'] = (data['freight_price'] / data['quantity']).round(2)\n",
    "        \n",
    "        print('LTL:', data[data['simulated_type'] == 'LTL']['unit_cost'].mean())\n",
    "        print('FTL:', data[data['simulated_type'] == 'FTL']['unit_cost'].mean())\n",
    "        \n",
    "        grouped = data.groupby('simulated_type').agg(\n",
    "            avg_cost_per_lb=('unit_cost', 'mean'),\n",
    "            shipment_count=('unit_cost', 'count')\n",
    "        ).reset_index()\n",
    "        grouped['threshold'] = threshold\n",
    "        results.append(grouped)\n",
    "    \n",
    "    combined = pd.concat(results)\n",
    "    pivot = combined.pivot(index='threshold', columns='simulated_type', values=['avg_cost_per_lb', 'shipment_count']).round(3)\n",
    "    pivot.columns = [f\"{metric}_{stype}\" for metric, stype in pivot.columns]\n",
    "    return pivot.reset_index()\n"
   ]
  },
  {
   "cell_type": "code",
   "execution_count": 43,
   "id": "80729d56",
   "metadata": {},
   "outputs": [
    {
     "name": "stdout",
     "output_type": "stream",
     "text": [
      "LTL: 1.2619809637120718\n",
      "FTL: 0.07495238095238091\n",
      "LTL: 1.239107351225199\n",
      "FTL: 0.07541666666666663\n",
      "LTL: 1.2297800925925872\n",
      "FTL: 0.07241379310344823\n",
      "LTL: 1.2223519263944744\n",
      "FTL: 0.07638297872340424\n"
     ]
    },
    {
     "name": "stderr",
     "output_type": "stream",
     "text": [
      "C:\\Users\\nzhuw\\AppData\\Local\\Temp/ipykernel_9424/177666260.py:4: SettingWithCopyWarning: \n",
      "A value is trying to be set on a copy of a slice from a DataFrame.\n",
      "Try using .loc[row_indexer,col_indexer] = value instead\n",
      "\n",
      "See the caveats in the documentation: https://pandas.pydata.org/pandas-docs/stable/user_guide/indexing.html#returning-a-view-versus-a-copy\n",
      "  data['quantity'] = pd.to_numeric(data[quantity_col], errors='coerce')\n",
      "C:\\Users\\nzhuw\\AppData\\Local\\Temp/ipykernel_9424/177666260.py:5: SettingWithCopyWarning: \n",
      "A value is trying to be set on a copy of a slice from a DataFrame.\n",
      "Try using .loc[row_indexer,col_indexer] = value instead\n",
      "\n",
      "See the caveats in the documentation: https://pandas.pydata.org/pandas-docs/stable/user_guide/indexing.html#returning-a-view-versus-a-copy\n",
      "  data['freight_price'] = pd.to_numeric(data[freight_price_col], errors='coerce')\n",
      "C:\\Users\\nzhuw\\AppData\\Local\\Temp/ipykernel_9424/177666260.py:10: SettingWithCopyWarning: \n",
      "A value is trying to be set on a copy of a slice from a DataFrame.\n",
      "Try using .loc[row_indexer,col_indexer] = value instead\n",
      "\n",
      "See the caveats in the documentation: https://pandas.pydata.org/pandas-docs/stable/user_guide/indexing.html#returning-a-view-versus-a-copy\n",
      "  data['simulated_type'] = data['quantity'].apply(lambda q: 'FTL' if q >= threshold else 'LTL')\n",
      "C:\\Users\\nzhuw\\AppData\\Local\\Temp/ipykernel_9424/177666260.py:11: SettingWithCopyWarning: \n",
      "A value is trying to be set on a copy of a slice from a DataFrame.\n",
      "Try using .loc[row_indexer,col_indexer] = value instead\n",
      "\n",
      "See the caveats in the documentation: https://pandas.pydata.org/pandas-docs/stable/user_guide/indexing.html#returning-a-view-versus-a-copy\n",
      "  data['unit_cost'] = (data['freight_price'] / data['quantity']).round(2)\n"
     ]
    },
    {
     "data": {
      "application/vnd.microsoft.datawrangler.viewer.v0+json": {
       "columns": [
        {
         "name": "index",
         "rawType": "int64",
         "type": "integer"
        },
        {
         "name": "threshold",
         "rawType": "int64",
         "type": "integer"
        },
        {
         "name": "avg_cost_per_lb_FTL",
         "rawType": "float64",
         "type": "float"
        },
        {
         "name": "avg_cost_per_lb_LTL",
         "rawType": "float64",
         "type": "float"
        },
        {
         "name": "shipment_count_FTL",
         "rawType": "float64",
         "type": "float"
        },
        {
         "name": "shipment_count_LTL",
         "rawType": "float64",
         "type": "float"
        }
       ],
       "conversionMethod": "pd.DataFrame",
       "ref": "0a91ea7b-1a82-46c8-9e9c-2d44007debc2",
       "rows": [
        [
         "0",
         "10000",
         "0.075",
         "1.262",
         "105.0",
         "1681.0"
        ],
        [
         "1",
         "15000",
         "0.075",
         "1.239",
         "72.0",
         "1714.0"
        ],
        [
         "2",
         "20000",
         "0.072",
         "1.23",
         "58.0",
         "1728.0"
        ],
        [
         "3",
         "25000",
         "0.076",
         "1.222",
         "47.0",
         "1739.0"
        ]
       ],
       "shape": {
        "columns": 5,
        "rows": 4
       }
      },
      "text/html": [
       "<div>\n",
       "<style scoped>\n",
       "    .dataframe tbody tr th:only-of-type {\n",
       "        vertical-align: middle;\n",
       "    }\n",
       "\n",
       "    .dataframe tbody tr th {\n",
       "        vertical-align: top;\n",
       "    }\n",
       "\n",
       "    .dataframe thead th {\n",
       "        text-align: right;\n",
       "    }\n",
       "</style>\n",
       "<table border=\"1\" class=\"dataframe\">\n",
       "  <thead>\n",
       "    <tr style=\"text-align: right;\">\n",
       "      <th></th>\n",
       "      <th>threshold</th>\n",
       "      <th>avg_cost_per_lb_FTL</th>\n",
       "      <th>avg_cost_per_lb_LTL</th>\n",
       "      <th>shipment_count_FTL</th>\n",
       "      <th>shipment_count_LTL</th>\n",
       "    </tr>\n",
       "  </thead>\n",
       "  <tbody>\n",
       "    <tr>\n",
       "      <th>0</th>\n",
       "      <td>10000</td>\n",
       "      <td>0.075</td>\n",
       "      <td>1.262</td>\n",
       "      <td>105.0</td>\n",
       "      <td>1681.0</td>\n",
       "    </tr>\n",
       "    <tr>\n",
       "      <th>1</th>\n",
       "      <td>15000</td>\n",
       "      <td>0.075</td>\n",
       "      <td>1.239</td>\n",
       "      <td>72.0</td>\n",
       "      <td>1714.0</td>\n",
       "    </tr>\n",
       "    <tr>\n",
       "      <th>2</th>\n",
       "      <td>20000</td>\n",
       "      <td>0.072</td>\n",
       "      <td>1.230</td>\n",
       "      <td>58.0</td>\n",
       "      <td>1728.0</td>\n",
       "    </tr>\n",
       "    <tr>\n",
       "      <th>3</th>\n",
       "      <td>25000</td>\n",
       "      <td>0.076</td>\n",
       "      <td>1.222</td>\n",
       "      <td>47.0</td>\n",
       "      <td>1739.0</td>\n",
       "    </tr>\n",
       "  </tbody>\n",
       "</table>\n",
       "</div>"
      ],
      "text/plain": [
       "   threshold  avg_cost_per_lb_FTL  avg_cost_per_lb_LTL  shipment_count_FTL  \\\n",
       "0      10000                0.075                1.262               105.0   \n",
       "1      15000                0.075                1.239                72.0   \n",
       "2      20000                0.072                1.230                58.0   \n",
       "3      25000                0.076                1.222                47.0   \n",
       "\n",
       "   shipment_count_LTL  \n",
       "0              1681.0  \n",
       "1              1714.0  \n",
       "2              1728.0  \n",
       "3              1739.0  "
      ]
     },
     "metadata": {},
     "output_type": "display_data"
    }
   ],
   "source": [
    "valid_rows = df[(df['freight_price'] > 0) & (df['quantity'] > 0)]\n",
    "summary_df = simulate_ftl_thresholds_verbose(valid_rows, 'freight_price', 'total_quantity')\n",
    "display(summary_df)"
   ]
  },
  {
   "cell_type": "code",
   "execution_count": 47,
   "id": "30534874",
   "metadata": {},
   "outputs": [
    {
     "data": {
      "text/plain": [
       "Index(['site', 'invoice_id', 'freight_price', 'unique_commodity_group_input',\n",
       "       'unique_commodity_description_input', 'total_estimated_area_cost',\n",
       "       'total_estimated_cwt_cost', 'total_est_lbs', 'total_est_sqyd',\n",
       "       'unique_commodity_group_output', 'unique_commodity_description_output',\n",
       "       'total_cost', 'total_quantity', 'UOM', 'freight_ratio', 'market_rate',\n",
       "       'xgs_rate', 'rate_ratio', 'shipment_type', 'outlier_flag', 'savings',\n",
       "       'action'],\n",
       "      dtype='object')"
      ]
     },
     "execution_count": 47,
     "metadata": {},
     "output_type": "execute_result"
    }
   ],
   "source": [
    "df2.columns"
   ]
  },
  {
   "cell_type": "code",
   "execution_count": 51,
   "id": "fc88a713",
   "metadata": {},
   "outputs": [],
   "source": [
    "# 1CBL FTL and LTL analysis\n",
    "def simulate_ftl_thresholds_cbl(data, freight_price_col='freight_price', quantity_col='total_quantity', thresholds_in_rolls=[20,25,30,45, 50, 60]):\n",
    "    # Convert thresholds from rolls to SQYD\n",
    "    thresholds = [rolls * 100 for rolls in thresholds_in_rolls]\n",
    "    \n",
    "    # Ensure numeric data\n",
    "    data['quantity'] = pd.to_numeric(data[quantity_col], errors='coerce')\n",
    "    data['freight_price'] = pd.to_numeric(data[freight_price_col], errors='coerce')\n",
    "    \n",
    "    results = []\n",
    "\n",
    "    for threshold, rolls in zip(thresholds, thresholds_in_rolls):\n",
    "        data['simulated_type'] = data['quantity'].apply(lambda q: 'FTL' if q >= threshold else 'LTL')\n",
    "        data['unit_cost'] = (data['freight_price'] / data['quantity']).round(2)\n",
    "\n",
    "        print(f\"\\nThreshold: {rolls} rolls ({threshold} SQYD)\")\n",
    "        print(\"LTL Avg Unit Cost:\", data[data['simulated_type'] == 'LTL']['unit_cost'].mean())\n",
    "        print(\"FTL Avg Unit Cost:\", data[data['simulated_type'] == 'FTL']['unit_cost'].mean())\n",
    "        \n",
    "        grouped = data.groupby('simulated_type').agg(\n",
    "            avg_cost_per_sqyd=('unit_cost', 'mean'),\n",
    "            shipment_count=('unit_cost', 'count')\n",
    "        ).reset_index()\n",
    "        grouped['threshold_rolls'] = rolls\n",
    "        results.append(grouped)\n",
    "    \n",
    "    combined = pd.concat(results)\n",
    "    pivot = combined.pivot(index='threshold_rolls', columns='simulated_type', values=['avg_cost_per_sqyd', 'shipment_count']).round(3)\n",
    "    pivot.columns = [f\"{metric}_{stype}\" for metric, stype in pivot.columns]\n",
    "    return pivot.reset_index()\n"
   ]
  },
  {
   "cell_type": "code",
   "execution_count": 52,
   "id": "b41bb20c",
   "metadata": {},
   "outputs": [
    {
     "name": "stdout",
     "output_type": "stream",
     "text": [
      "\n",
      "Threshold: 20 rolls (2000 SQYD)\n",
      "LTL Avg Unit Cost: 1.4342372881355934\n",
      "FTL Avg Unit Cost: 0.41400000000000003\n",
      "\n",
      "Threshold: 25 rolls (2500 SQYD)\n",
      "LTL Avg Unit Cost: 1.4297058823529412\n",
      "FTL Avg Unit Cost: 0.29374999999999996\n",
      "\n",
      "Threshold: 30 rolls (3000 SQYD)\n",
      "LTL Avg Unit Cost: 1.427907949790795\n",
      "FTL Avg Unit Cost: 0.19285714285714284\n",
      "\n",
      "Threshold: 45 rolls (4500 SQYD)\n",
      "LTL Avg Unit Cost: 1.4239583333333334\n",
      "FTL Avg Unit Cost: 0.145\n",
      "\n",
      "Threshold: 50 rolls (5000 SQYD)\n",
      "LTL Avg Unit Cost: 1.4239583333333334\n",
      "FTL Avg Unit Cost: 0.145\n",
      "\n",
      "Threshold: 60 rolls (6000 SQYD)\n",
      "LTL Avg Unit Cost: 1.4239583333333334\n",
      "FTL Avg Unit Cost: 0.145\n"
     ]
    },
    {
     "name": "stderr",
     "output_type": "stream",
     "text": [
      "C:\\Users\\nzhuw\\AppData\\Local\\Temp/ipykernel_9424/510822632.py:7: SettingWithCopyWarning: \n",
      "A value is trying to be set on a copy of a slice from a DataFrame.\n",
      "Try using .loc[row_indexer,col_indexer] = value instead\n",
      "\n",
      "See the caveats in the documentation: https://pandas.pydata.org/pandas-docs/stable/user_guide/indexing.html#returning-a-view-versus-a-copy\n",
      "  data['quantity'] = pd.to_numeric(data[quantity_col], errors='coerce')\n",
      "C:\\Users\\nzhuw\\AppData\\Local\\Temp/ipykernel_9424/510822632.py:8: SettingWithCopyWarning: \n",
      "A value is trying to be set on a copy of a slice from a DataFrame.\n",
      "Try using .loc[row_indexer,col_indexer] = value instead\n",
      "\n",
      "See the caveats in the documentation: https://pandas.pydata.org/pandas-docs/stable/user_guide/indexing.html#returning-a-view-versus-a-copy\n",
      "  data['freight_price'] = pd.to_numeric(data[freight_price_col], errors='coerce')\n",
      "C:\\Users\\nzhuw\\AppData\\Local\\Temp/ipykernel_9424/510822632.py:13: SettingWithCopyWarning: \n",
      "A value is trying to be set on a copy of a slice from a DataFrame.\n",
      "Try using .loc[row_indexer,col_indexer] = value instead\n",
      "\n",
      "See the caveats in the documentation: https://pandas.pydata.org/pandas-docs/stable/user_guide/indexing.html#returning-a-view-versus-a-copy\n",
      "  data['simulated_type'] = data['quantity'].apply(lambda q: 'FTL' if q >= threshold else 'LTL')\n",
      "C:\\Users\\nzhuw\\AppData\\Local\\Temp/ipykernel_9424/510822632.py:14: SettingWithCopyWarning: \n",
      "A value is trying to be set on a copy of a slice from a DataFrame.\n",
      "Try using .loc[row_indexer,col_indexer] = value instead\n",
      "\n",
      "See the caveats in the documentation: https://pandas.pydata.org/pandas-docs/stable/user_guide/indexing.html#returning-a-view-versus-a-copy\n",
      "  data['unit_cost'] = (data['freight_price'] / data['quantity']).round(2)\n"
     ]
    },
    {
     "data": {
      "application/vnd.microsoft.datawrangler.viewer.v0+json": {
       "columns": [
        {
         "name": "index",
         "rawType": "int64",
         "type": "integer"
        },
        {
         "name": "threshold_rolls",
         "rawType": "int64",
         "type": "integer"
        },
        {
         "name": "avg_cost_per_sqyd_FTL",
         "rawType": "float64",
         "type": "float"
        },
        {
         "name": "avg_cost_per_sqyd_LTL",
         "rawType": "float64",
         "type": "float"
        },
        {
         "name": "shipment_count_FTL",
         "rawType": "float64",
         "type": "float"
        },
        {
         "name": "shipment_count_LTL",
         "rawType": "float64",
         "type": "float"
        }
       ],
       "conversionMethod": "pd.DataFrame",
       "ref": "d4f56e60-f571-418a-a5b3-82e711d8ec69",
       "rows": [
        [
         "0",
         "20",
         "0.414",
         "1.434",
         "10.0",
         "236.0"
        ],
        [
         "1",
         "25",
         "0.294",
         "1.43",
         "8.0",
         "238.0"
        ],
        [
         "2",
         "30",
         "0.193",
         "1.428",
         "7.0",
         "239.0"
        ],
        [
         "3",
         "45",
         "0.145",
         "1.424",
         "6.0",
         "240.0"
        ],
        [
         "4",
         "50",
         "0.145",
         "1.424",
         "6.0",
         "240.0"
        ],
        [
         "5",
         "60",
         "0.145",
         "1.424",
         "6.0",
         "240.0"
        ]
       ],
       "shape": {
        "columns": 5,
        "rows": 6
       }
      },
      "text/html": [
       "<div>\n",
       "<style scoped>\n",
       "    .dataframe tbody tr th:only-of-type {\n",
       "        vertical-align: middle;\n",
       "    }\n",
       "\n",
       "    .dataframe tbody tr th {\n",
       "        vertical-align: top;\n",
       "    }\n",
       "\n",
       "    .dataframe thead th {\n",
       "        text-align: right;\n",
       "    }\n",
       "</style>\n",
       "<table border=\"1\" class=\"dataframe\">\n",
       "  <thead>\n",
       "    <tr style=\"text-align: right;\">\n",
       "      <th></th>\n",
       "      <th>threshold_rolls</th>\n",
       "      <th>avg_cost_per_sqyd_FTL</th>\n",
       "      <th>avg_cost_per_sqyd_LTL</th>\n",
       "      <th>shipment_count_FTL</th>\n",
       "      <th>shipment_count_LTL</th>\n",
       "    </tr>\n",
       "  </thead>\n",
       "  <tbody>\n",
       "    <tr>\n",
       "      <th>0</th>\n",
       "      <td>20</td>\n",
       "      <td>0.414</td>\n",
       "      <td>1.434</td>\n",
       "      <td>10.0</td>\n",
       "      <td>236.0</td>\n",
       "    </tr>\n",
       "    <tr>\n",
       "      <th>1</th>\n",
       "      <td>25</td>\n",
       "      <td>0.294</td>\n",
       "      <td>1.430</td>\n",
       "      <td>8.0</td>\n",
       "      <td>238.0</td>\n",
       "    </tr>\n",
       "    <tr>\n",
       "      <th>2</th>\n",
       "      <td>30</td>\n",
       "      <td>0.193</td>\n",
       "      <td>1.428</td>\n",
       "      <td>7.0</td>\n",
       "      <td>239.0</td>\n",
       "    </tr>\n",
       "    <tr>\n",
       "      <th>3</th>\n",
       "      <td>45</td>\n",
       "      <td>0.145</td>\n",
       "      <td>1.424</td>\n",
       "      <td>6.0</td>\n",
       "      <td>240.0</td>\n",
       "    </tr>\n",
       "    <tr>\n",
       "      <th>4</th>\n",
       "      <td>50</td>\n",
       "      <td>0.145</td>\n",
       "      <td>1.424</td>\n",
       "      <td>6.0</td>\n",
       "      <td>240.0</td>\n",
       "    </tr>\n",
       "    <tr>\n",
       "      <th>5</th>\n",
       "      <td>60</td>\n",
       "      <td>0.145</td>\n",
       "      <td>1.424</td>\n",
       "      <td>6.0</td>\n",
       "      <td>240.0</td>\n",
       "    </tr>\n",
       "  </tbody>\n",
       "</table>\n",
       "</div>"
      ],
      "text/plain": [
       "   threshold_rolls  avg_cost_per_sqyd_FTL  avg_cost_per_sqyd_LTL  \\\n",
       "0               20                  0.414                  1.434   \n",
       "1               25                  0.294                  1.430   \n",
       "2               30                  0.193                  1.428   \n",
       "3               45                  0.145                  1.424   \n",
       "4               50                  0.145                  1.424   \n",
       "5               60                  0.145                  1.424   \n",
       "\n",
       "   shipment_count_FTL  shipment_count_LTL  \n",
       "0                10.0               236.0  \n",
       "1                 8.0               238.0  \n",
       "2                 7.0               239.0  \n",
       "3                 6.0               240.0  \n",
       "4                 6.0               240.0  \n",
       "5                 6.0               240.0  "
      ]
     },
     "metadata": {},
     "output_type": "display_data"
    }
   ],
   "source": [
    "valid_rows = df2[(df2['freight_price'] > 0) & (df2['total_quantity'] > 0)]\n",
    "summary_df = simulate_ftl_thresholds_cbl(valid_rows, 'freight_price', 'total_quantity')\n",
    "display(summary_df)"
   ]
  }
 ],
 "metadata": {
  "kernelspec": {
   "display_name": "base",
   "language": "python",
   "name": "python3"
  },
  "language_info": {
   "codemirror_mode": {
    "name": "ipython",
    "version": 3
   },
   "file_extension": ".py",
   "mimetype": "text/x-python",
   "name": "python",
   "nbconvert_exporter": "python",
   "pygments_lexer": "ipython3",
   "version": "3.9.7"
  }
 },
 "nbformat": 4,
 "nbformat_minor": 5
}
